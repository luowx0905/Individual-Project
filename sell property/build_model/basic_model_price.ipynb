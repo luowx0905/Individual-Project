{
 "cells": [
  {
   "cell_type": "markdown",
   "source": [
    "# Import packages"
   ],
   "metadata": {
    "collapsed": false,
    "pycharm": {
     "name": "#%% md\n"
    }
   }
  },
  {
   "cell_type": "code",
   "execution_count": 2,
   "outputs": [],
   "source": [
    "import numpy as np\n",
    "import pandas as pd\n",
    "import seaborn as sns\n",
    "\n",
    "import torch\n",
    "from torch import nn\n",
    "from torch import optim\n",
    "from torch.utils.data import DataLoader, Dataset, WeightedRandomSampler\n",
    "\n",
    "import torchinfo\n",
    "from torch_snippets import Report\n",
    "from matplotlib import pyplot as plt\n",
    "from sklearn.preprocessing import LabelEncoder, StandardScaler, MinMaxScaler, RobustScaler\n",
    "from sklearn.model_selection import train_test_split, KFold\n",
    "from TrainValidate import TrainValidate, create_weighted_sampler\n",
    "\n",
    "device = \"cpu\"\n",
    "if torch.cuda.is_available():\n",
    "    device = \"cuda\"\n",
    "elif torch.has_mps:\n",
    "    device = \"mps\""
   ],
   "metadata": {
    "collapsed": false,
    "pycharm": {
     "name": "#%%\n"
    }
   }
  },
  {
   "cell_type": "code",
   "execution_count": 3,
   "outputs": [
    {
     "data": {
      "text/plain": "'cuda'"
     },
     "execution_count": 3,
     "metadata": {},
     "output_type": "execute_result"
    }
   ],
   "source": [
    "device"
   ],
   "metadata": {
    "collapsed": false,
    "pycharm": {
     "name": "#%%\n"
    }
   }
  },
  {
   "cell_type": "markdown",
   "source": [
    "# Load datasets"
   ],
   "metadata": {
    "collapsed": false,
    "pycharm": {
     "name": "#%% md\n"
    }
   }
  },
  {
   "cell_type": "code",
   "execution_count": 3,
   "outputs": [],
   "source": [
    "features = pd.read_csv(\"../datasets/final_features.csv\")\n",
    "labels = pd.read_csv(\"../datasets/final_labels.csv\")\n",
    "sources = pd.read_csv(\"../datasets/final_sources.csv\")"
   ],
   "metadata": {
    "collapsed": false,
    "pycharm": {
     "name": "#%%\n"
    }
   }
  },
  {
   "cell_type": "markdown",
   "source": [
    "# Create class for collecting data"
   ],
   "metadata": {
    "collapsed": false,
    "pycharm": {
     "name": "#%% md\n"
    }
   }
  },
  {
   "cell_type": "code",
   "execution_count": 4,
   "outputs": [],
   "source": [
    "class PriceDataset(Dataset):\n",
    "    def __init__(self, features, labels):\n",
    "        assert len(features) == len(labels)\n",
    "        self.features = features\n",
    "        self.labels = labels\n",
    "\n",
    "    def __getitem__(self, item):\n",
    "        features = self.features.to_numpy()[item]\n",
    "        features = torch.tensor(features).float().to(device)\n",
    "\n",
    "        labels = self.labels.to_numpy()[item]\n",
    "        price = torch.tensor(labels[1]).float().to(device)\n",
    "\n",
    "        return features, price\n",
    "\n",
    "    def __len__(self):\n",
    "        return len(self.features)"
   ],
   "metadata": {
    "collapsed": false,
    "pycharm": {
     "name": "#%%\n"
    }
   }
  },
  {
   "cell_type": "code",
   "execution_count": 5,
   "outputs": [],
   "source": [
    "temp = PriceDataset(features, labels)\n",
    "in_features = len(temp[0][0])"
   ],
   "metadata": {
    "collapsed": false,
    "pycharm": {
     "name": "#%%\n"
    }
   }
  },
  {
   "cell_type": "markdown",
   "source": [
    "# Build the model"
   ],
   "metadata": {
    "collapsed": false,
    "pycharm": {
     "name": "#%% md\n"
    }
   }
  },
  {
   "cell_type": "code",
   "execution_count": 6,
   "outputs": [],
   "source": [
    "class PredictPrice(nn.Module):\n",
    "    def __init__(self, in_features):\n",
    "        super().__init__()\n",
    "        self.in_features = in_features\n",
    "\n",
    "        self.hidden = nn.Sequential(nn.Linear(in_features, 128),\n",
    "                                    nn.ReLU(),\n",
    "                                    nn.Linear(128, 128),\n",
    "                                    nn.ReLU(),\n",
    "                                    nn.Linear(128, 256),\n",
    "                                    nn.ReLU(),\n",
    "                                    nn.Linear(256, 128),\n",
    "                                    nn.ReLU())\n",
    "        self.price = nn.Sequential(nn.Linear(128, 1),\n",
    "                                   nn.ReLU())\n",
    "\n",
    "    def forward(self, x):\n",
    "        x = self.hidden(x)\n",
    "        price = self.price(x)\n",
    "        return price.squeeze()"
   ],
   "metadata": {
    "collapsed": false,
    "pycharm": {
     "name": "#%%\n"
    }
   }
  },
  {
   "cell_type": "code",
   "execution_count": 7,
   "outputs": [
    {
     "data": {
      "text/plain": "==========================================================================================\nLayer (type:depth-idx)                   Output Shape              Param #\n==========================================================================================\nPredictPrice                             --                        --\n├─Sequential: 1-1                        [1, 128]                  --\n│    └─Linear: 2-1                       [1, 128]                  6,656\n│    └─ReLU: 2-2                         [1, 128]                  --\n│    └─Linear: 2-3                       [1, 128]                  16,512\n│    └─ReLU: 2-4                         [1, 128]                  --\n│    └─Linear: 2-5                       [1, 256]                  33,024\n│    └─ReLU: 2-6                         [1, 256]                  --\n│    └─Linear: 2-7                       [1, 128]                  32,896\n│    └─ReLU: 2-8                         [1, 128]                  --\n├─Sequential: 1-2                        [1, 1]                    --\n│    └─Linear: 2-9                       [1, 1]                    129\n│    └─ReLU: 2-10                        [1, 1]                    --\n==========================================================================================\nTotal params: 89,217\nTrainable params: 89,217\nNon-trainable params: 0\nTotal mult-adds (M): 0.09\n==========================================================================================\nInput size (MB): 0.00\nForward/backward pass size (MB): 0.01\nParams size (MB): 0.36\nEstimated Total Size (MB): 0.36\n=========================================================================================="
     },
     "execution_count": 7,
     "metadata": {},
     "output_type": "execute_result"
    }
   ],
   "source": [
    "model = PredictPrice(in_features)\n",
    "torchinfo.summary(model, input_size=(1, in_features))"
   ],
   "metadata": {
    "collapsed": false,
    "pycharm": {
     "name": "#%%\n"
    }
   }
  },
  {
   "cell_type": "markdown",
   "source": [
    "# Data standardization"
   ],
   "metadata": {
    "collapsed": false,
    "pycharm": {
     "name": "#%% md\n"
    }
   }
  },
  {
   "cell_type": "code",
   "execution_count": 8,
   "outputs": [],
   "source": [
    "scaler = StandardScaler()\n",
    "scaler.fit(features)\n",
    "features[:] = scaler.transform(features)"
   ],
   "metadata": {
    "collapsed": false,
    "pycharm": {
     "name": "#%%\n"
    }
   }
  },
  {
   "cell_type": "markdown",
   "source": [
    "# Train the model\n",
    "## Prepare data"
   ],
   "metadata": {
    "collapsed": false,
    "pycharm": {
     "name": "#%% md\n"
    }
   }
  },
  {
   "cell_type": "code",
   "execution_count": 9,
   "outputs": [],
   "source": [
    "x_train, x_test, y_train, y_test = train_test_split(features, labels, random_state=1, test_size=0.1)"
   ],
   "metadata": {
    "collapsed": false,
    "pycharm": {
     "name": "#%%\n"
    }
   }
  },
  {
   "cell_type": "markdown",
   "source": [
    "# Cross validation"
   ],
   "metadata": {
    "collapsed": false,
    "pycharm": {
     "name": "#%% md\n"
    }
   }
  },
  {
   "cell_type": "code",
   "execution_count": 28,
   "outputs": [
    {
     "name": "stdout",
     "output_type": "stream",
     "text": [
      "\n",
      "\n",
      "-------------This is fold 0----------------\n",
      "EPOCH: 1000.000\tval_loss: 711068800.000\t(3485.14s - 0.00s remaining))))))"
     ]
    },
    {
     "data": {
      "text/plain": "<Figure size 576x432 with 1 Axes>",
      "image/png": "[encoded data removed]"
     },
     "metadata": {},
     "output_type": "display_data"
    },
    {
     "name": "stdout",
     "output_type": "stream",
     "text": [
      "\n",
      "\n",
      "-------------This is fold 1----------------\n",
      "EPOCH: 1000.000\tval_loss: 5483236352.000\t(3482.45s - 0.00s remaining)))))"
     ]
    },
    {
     "data": {
      "text/plain": "<Figure size 576x432 with 1 Axes>",
      "image/png": "[encoded data removed]"
     },
     "metadata": {},
     "output_type": "display_data"
    },
    {
     "name": "stdout",
     "output_type": "stream",
     "text": [
      "\n",
      "\n",
      "-------------This is fold 2----------------\n",
      "EPOCH: 1000.000\tval_loss: 1996166144.000\t(3465.44s - 0.00s remaining)))))"
     ]
    },
    {
     "data": {
      "text/plain": "<Figure size 576x432 with 1 Axes>",
      "image/png": "[encoded data removed]"
     },
     "metadata": {},
     "output_type": "display_data"
    },
    {
     "name": "stdout",
     "output_type": "stream",
     "text": [
      "\n",
      "\n",
      "-------------This is fold 3----------------\n",
      "EPOCH: 1000.000\tval_loss: 1059457920.000\t(2439.42s - 0.00s remaining)))))"
     ]
    },
    {
     "data": {
      "text/plain": "<Figure size 576x432 with 1 Axes>",
      "image/png": "[encoded data removed]"
     },
     "metadata": {},
     "output_type": "display_data"
    },
    {
     "name": "stdout",
     "output_type": "stream",
     "text": [
      "\n",
      "\n",
      "-------------This is fold 4----------------\n",
      "EPOCH: 1000.000\tval_loss: 336205728.000\t(2444.51s - 0.00s remaining))))))"
     ]
    },
    {
     "data": {
      "text/plain": "<Figure size 576x432 with 1 Axes>",
      "image/png": "[encoded data removed]"
     },
     "metadata": {},
     "output_type": "display_data"
    }
   ],
   "source": [
    "kfold = KFold(n_splits=5, shuffle=True, random_state=1)\n",
    "torch.manual_seed(13)\n",
    "in_features = len(x_train.iloc[0])\n",
    "epochs = 1000\n",
    "\n",
    "for fold, (train_id, val_id) in enumerate(kfold.split(x_train.index)):\n",
    "    train_feature, train_label = x_train.iloc[train_id], y_train.iloc[train_id]\n",
    "    val_feature, val_label = x_train.iloc[val_id], y_train.iloc[val_id]\n",
    "    print(\"\\n\\n-------------This is fold {}----------------\".format(fold))\n",
    "\n",
    "    train_data = PriceDataset(train_feature, train_label)\n",
    "    val_data = PriceDataset(val_feature, val_label)\n",
    "    train_loader = DataLoader(train_data, batch_size=16, shuffle=False, drop_last=True)\n",
    "    val_loader = DataLoader(val_data, batch_size=16, shuffle=False, drop_last=True)\n",
    "\n",
    "    model = PredictPrice(in_features).to(device)\n",
    "    optimizer = optim.Adam(model.parameters(), lr=1e-3)\n",
    "\n",
    "    train_validate = TrainValidate(model, nn.MSELoss(), optimizer)\n",
    "    train_validate.set_loader(train_loader, val_loader)\n",
    "    train_validate.train(epochs)\n",
    "\n",
    "    train_validate.save_model(\"models/all_full_epoch_1000_fold_{}.pth\".format(fold))"
   ],
   "metadata": {
    "collapsed": false,
    "pycharm": {
     "name": "#%%\n"
    }
   }
  },
  {
   "cell_type": "markdown",
   "source": [
    "# Testing the performance"
   ],
   "metadata": {
    "collapsed": false,
    "pycharm": {
     "name": "#%% md\n"
    }
   }
  },
  {
   "cell_type": "code",
   "execution_count": 10,
   "outputs": [],
   "source": [
    "filename = \"models/all_full_epoch_1000_fold_1.pth\"\n",
    "\n",
    "model = torch.load(filename, map_location=torch.device(\"cpu\"))\n",
    "model.eval()\n",
    "\n",
    "prices = []\n",
    "for i in range(len(x_test)):\n",
    "    feature = torch.tensor((x_test.iloc[i])).float()\n",
    "    pred_price = model(feature)\n",
    "    prices.append(pred_price.detach().item())\n",
    "\n",
    "pred = pd.DataFrame({\"PredictPrice\": prices, \"Price\": y_test[\"Price / Rent\"]})"
   ],
   "metadata": {
    "collapsed": false,
    "pycharm": {
     "name": "#%%\n"
    }
   }
  },
  {
   "cell_type": "code",
   "execution_count": 11,
   "outputs": [],
   "source": [
    "error = []\n",
    "for i in range(len(pred)):\n",
    "    truth = pred[\"Price\"].iloc[i]\n",
    "    predict = pred[\"PredictPrice\"].iloc[i]\n",
    "    error.append(abs(truth - predict) / truth)\n",
    "\n",
    "avg_error = sum(error) / len(error)\n",
    "error = pd.DataFrame({\"Error\": error})\n",
    "error = error.rename(index={i: j for i, j in zip(error.index, pred.index)})\n",
    "pred = pd.concat([pred, error], axis=1)"
   ],
   "metadata": {
    "collapsed": false,
    "pycharm": {
     "name": "#%%\n"
    }
   }
  },
  {
   "cell_type": "code",
   "execution_count": 12,
   "outputs": [
    {
     "data": {
      "text/plain": "      PredictPrice     Price     Error\n3497       0.00000     525.0  1.000000\n4669  310436.25000  270000.0  0.149764\n5356  590802.43750  580000.0  0.018625\n5835       0.00000     385.0  1.000000\n8435       0.00000    1400.0  1.000000\n...            ...       ...       ...\n7173       0.00000    1300.0  1.000000\n1392  464215.90625  520000.0  0.107277\n3639  295281.03125  450000.0  0.343820\n7216       0.00000     750.0  1.000000\n7435  225982.87500  225000.0  0.004368\n\n[918 rows x 3 columns]",
      "text/html": "<div>\n<style scoped>\n    .dataframe tbody tr th:only-of-type {\n        vertical-align: middle;\n    }\n\n    .dataframe tbody tr th {\n        vertical-align: top;\n    }\n\n    .dataframe thead th {\n        text-align: right;\n    }\n</style>\n<table border=\"1\" class=\"dataframe\">\n  <thead>\n    <tr style=\"text-align: right;\">\n      <th></th>\n      <th>PredictPrice</th>\n      <th>Price</th>\n      <th>Error</th>\n    </tr>\n  </thead>\n  <tbody>\n    <tr>\n      <th>3497</th>\n      <td>0.00000</td>\n      <td>525.0</td>\n      <td>1.000000</td>\n    </tr>\n    <tr>\n      <th>4669</th>\n      <td>310436.25000</td>\n      <td>270000.0</td>\n      <td>0.149764</td>\n    </tr>\n    <tr>\n      <th>5356</th>\n      <td>590802.43750</td>\n      <td>580000.0</td>\n      <td>0.018625</td>\n    </tr>\n    <tr>\n      <th>5835</th>\n      <td>0.00000</td>\n      <td>385.0</td>\n      <td>1.000000</td>\n    </tr>\n    <tr>\n      <th>8435</th>\n      <td>0.00000</td>\n      <td>1400.0</td>\n      <td>1.000000</td>\n    </tr>\n    <tr>\n      <th>...</th>\n      <td>...</td>\n      <td>...</td>\n      <td>...</td>\n    </tr>\n    <tr>\n      <th>7173</th>\n      <td>0.00000</td>\n      <td>1300.0</td>\n      <td>1.000000</td>\n    </tr>\n    <tr>\n      <th>1392</th>\n      <td>464215.90625</td>\n      <td>520000.0</td>\n      <td>0.107277</td>\n    </tr>\n    <tr>\n      <th>3639</th>\n      <td>295281.03125</td>\n      <td>450000.0</td>\n      <td>0.343820</td>\n    </tr>\n    <tr>\n      <th>7216</th>\n      <td>0.00000</td>\n      <td>750.0</td>\n      <td>1.000000</td>\n    </tr>\n    <tr>\n      <th>7435</th>\n      <td>225982.87500</td>\n      <td>225000.0</td>\n      <td>0.004368</td>\n    </tr>\n  </tbody>\n</table>\n<p>918 rows × 3 columns</p>\n</div>"
     },
     "execution_count": 12,
     "metadata": {},
     "output_type": "execute_result"
    }
   ],
   "source": [
    "pred"
   ],
   "metadata": {
    "collapsed": false,
    "pycharm": {
     "name": "#%%\n"
    }
   }
  },
  {
   "cell_type": "markdown",
   "source": [
    "# Number of sale and rental data"
   ],
   "metadata": {
    "collapsed": false,
    "pycharm": {
     "name": "#%% md\n"
    }
   }
  },
  {
   "cell_type": "code",
   "execution_count": 13,
   "outputs": [],
   "source": [
    "features = pd.read_csv(\"../datasets/final_features.csv\")\n",
    "sale_rent = torch.tensor(features[\"Sale or Let\"].values)\n",
    "classes, count = sale_rent.unique(return_counts=True)"
   ],
   "metadata": {
    "collapsed": false,
    "pycharm": {
     "name": "#%%\n"
    }
   }
  },
  {
   "cell_type": "code",
   "execution_count": 14,
   "outputs": [
    {
     "data": {
      "text/plain": "(tensor([0, 1]), tensor([2959, 6218]))"
     },
     "execution_count": 14,
     "metadata": {},
     "output_type": "execute_result"
    }
   ],
   "source": [
    "classes, count"
   ],
   "metadata": {
    "collapsed": false,
    "pycharm": {
     "name": "#%%\n"
    }
   }
  },
  {
   "cell_type": "markdown",
   "source": [
    "# Weighted random sampler"
   ],
   "metadata": {
    "collapsed": false,
    "pycharm": {
     "name": "#%% md\n"
    }
   }
  },
  {
   "cell_type": "code",
   "execution_count": null,
   "outputs": [],
   "source": [
    "weight = 1.0 / count.float()\n",
    "weight"
   ],
   "metadata": {
    "collapsed": false,
    "pycharm": {
     "name": "#%%\n"
    }
   }
  },
  {
   "cell_type": "code",
   "execution_count": null,
   "outputs": [],
   "source": [
    "sample_weights = weight[sale_rent.squeeze().long()]"
   ],
   "metadata": {
    "collapsed": false,
    "pycharm": {
     "name": "#%%\n"
    }
   }
  },
  {
   "cell_type": "code",
   "execution_count": null,
   "outputs": [],
   "source": [
    "sample_weights[:10]"
   ],
   "metadata": {
    "collapsed": false,
    "pycharm": {
     "name": "#%%\n"
    }
   }
  },
  {
   "cell_type": "code",
   "execution_count": null,
   "outputs": [],
   "source": [
    "sale_rent[:10]"
   ],
   "metadata": {
    "collapsed": false,
    "pycharm": {
     "name": "#%%\n"
    }
   }
  },
  {
   "cell_type": "code",
   "execution_count": null,
   "outputs": [],
   "source": [
    "generator = torch.Generator()\n",
    "\n",
    "sampler = WeightedRandomSampler(weights=sample_weights,\n",
    "                                num_samples=len(sample_weights),\n",
    "                                generator=generator,\n",
    "                                replacement=True)"
   ],
   "metadata": {
    "collapsed": false,
    "pycharm": {
     "name": "#%%\n"
    }
   }
  },
  {
   "cell_type": "code",
   "execution_count": null,
   "outputs": [],
   "source": [
    "train_data = PriceDataset(features, labels)\n",
    "train_loader = DataLoader(train_data, batch_size=2, sampler=sampler)"
   ],
   "metadata": {
    "collapsed": false,
    "pycharm": {
     "name": "#%%\n"
    }
   }
  },
  {
   "cell_type": "markdown",
   "source": [
    "# Prepare data\n",
    "## Load data"
   ],
   "metadata": {
    "collapsed": false,
    "pycharm": {
     "name": "#%% md\n"
    }
   }
  },
  {
   "cell_type": "code",
   "execution_count": 13,
   "outputs": [],
   "source": [
    "features = pd.read_csv(\"../datasets/final_features.csv\")\n",
    "labels = pd.read_csv(\"../datasets/final_labels.csv\")\n",
    "sources = pd.read_csv(\"../datasets/final_sources.csv\")"
   ],
   "metadata": {
    "collapsed": false,
    "pycharm": {
     "name": "#%%\n"
    }
   }
  },
  {
   "cell_type": "markdown",
   "source": [
    "## Data standardization"
   ],
   "metadata": {
    "collapsed": false,
    "pycharm": {
     "name": "#%% md\n"
    }
   }
  },
  {
   "cell_type": "code",
   "execution_count": 14,
   "outputs": [],
   "source": [
    "scaler = StandardScaler()\n",
    "scaler.fit(features)\n",
    "features[:] = scaler.transform(features)"
   ],
   "metadata": {
    "collapsed": false,
    "pycharm": {
     "name": "#%%\n"
    }
   }
  },
  {
   "cell_type": "markdown",
   "source": [
    "## Split dataset"
   ],
   "metadata": {
    "collapsed": false,
    "pycharm": {
     "name": "#%% md\n"
    }
   }
  },
  {
   "cell_type": "code",
   "execution_count": 15,
   "outputs": [],
   "source": [
    "x_train, x_test, y_train, y_test = train_test_split(features, labels, random_state=1, test_size=0.1)"
   ],
   "metadata": {
    "collapsed": false,
    "pycharm": {
     "name": "#%%\n"
    }
   }
  },
  {
   "cell_type": "markdown",
   "source": [
    "## Cross validation"
   ],
   "metadata": {
    "collapsed": false,
    "pycharm": {
     "name": "#%% md\n"
    }
   }
  },
  {
   "cell_type": "code",
   "execution_count": null,
   "outputs": [],
   "source": [
    "kfold = KFold(n_splits=5, shuffle=True, random_state=1)\n",
    "torch.manual_seed(13)\n",
    "in_features = len(x_train.iloc[0])\n",
    "epochs = 1000\n",
    "\n",
    "for fold, (train_id, val_id) in enumerate(kfold.split(x_train.index)):\n",
    "    train_feature, train_label = x_train.iloc[train_id], y_train.iloc[train_id]\n",
    "    val_feature, val_label = x_train.iloc[val_id], y_train.iloc[val_id]\n",
    "    print(\"\\n\\n-------------This is fold {}----------------\".format(fold))\n",
    "\n",
    "    train_data = PriceDataset(train_feature, train_label)\n",
    "    val_data = PriceDataset(val_feature, val_label)\n",
    "\n",
    "    train_sampler = create_weighted_sampler(train_feature[\"Sale or Let\"].values)\n",
    "    val_sampler = create_weighted_sampler(val_feature[\"Sale or Let\"].values)\n",
    "\n",
    "    train_loader = DataLoader(train_data, batch_size=16, drop_last=True, sampler=train_sampler)\n",
    "    val_loader = DataLoader(val_data, batch_size=16, drop_last=True, sampler=val_sampler)\n",
    "\n",
    "    model = PredictPrice(in_features).to(device)\n",
    "    optimizer = optim.Adam(model.parameters(), lr=1e-3)\n",
    "\n",
    "    train_validate = TrainValidate(model, nn.MSELoss(), optimizer)\n",
    "    train_validate.set_loader(train_loader, val_loader)\n",
    "    train_validate.train(epochs)\n",
    "\n",
    "    train_validate.save_model(\"models/all_weighted_sampler_full_epoch_1000_fold_{}.pth\".format(fold))"
   ],
   "metadata": {
    "collapsed": false,
    "pycharm": {
     "name": "#%%\n"
    }
   }
  },
  {
   "cell_type": "markdown",
   "source": [
    "# Test performance (weighted sampler)"
   ],
   "metadata": {
    "collapsed": false,
    "pycharm": {
     "name": "#%% md\n"
    }
   }
  },
  {
   "cell_type": "code",
   "execution_count": 16,
   "outputs": [],
   "source": [
    "filename = \"models/all_weighted_sampler_full_epoch_1000_fold_2.pth\"\n",
    "\n",
    "model = torch.load(filename, map_location=torch.device(\"cpu\"))\n",
    "model.eval()\n",
    "\n",
    "prices = []\n",
    "for i in range(len(x_test)):\n",
    "    feature = torch.tensor((x_test.iloc[i])).float()\n",
    "    pred_price = model(feature)\n",
    "    prices.append(pred_price.detach().item())\n",
    "\n",
    "pred = pd.DataFrame({\"PredictPrice\": prices, \"Price\": y_test[\"Price / Rent\"]})"
   ],
   "metadata": {
    "collapsed": false,
    "pycharm": {
     "name": "#%%\n"
    }
   }
  },
  {
   "cell_type": "code",
   "execution_count": 17,
   "outputs": [],
   "source": [
    "error = []\n",
    "for i in range(len(pred)):\n",
    "    truth = pred[\"Price\"].iloc[i]\n",
    "    predict = pred[\"PredictPrice\"].iloc[i]\n",
    "    error.append(abs(truth - predict) / truth)\n",
    "\n",
    "avg_error = sum(error) / len(error)\n",
    "error = pd.DataFrame({\"Error\": error})\n",
    "error = error.rename(index={i: j for i, j in zip(error.index, pred.index)})\n",
    "pred = pd.concat([pred, error], axis=1)"
   ],
   "metadata": {
    "collapsed": false,
    "pycharm": {
     "name": "#%%\n"
    }
   }
  },
  {
   "cell_type": "code",
   "execution_count": 18,
   "outputs": [
    {
     "data": {
      "text/plain": "       PredictPrice     Price     Error\n3497     842.386658     525.0  0.604546\n4669  348821.093750  270000.0  0.291930\n5356  905767.937500  580000.0  0.561669\n5835     551.455505     385.0  0.432352\n8435    1037.775391    1400.0  0.258732\n...             ...       ...       ...\n7173     868.037048    1300.0  0.332279\n1392  522328.250000  520000.0  0.004477\n3639  305598.281250  450000.0  0.320893\n7216    1240.244629     750.0  0.653660\n7435  232937.843750  225000.0  0.035279\n\n[918 rows x 3 columns]",
      "text/html": "<div>\n<style scoped>\n    .dataframe tbody tr th:only-of-type {\n        vertical-align: middle;\n    }\n\n    .dataframe tbody tr th {\n        vertical-align: top;\n    }\n\n    .dataframe thead th {\n        text-align: right;\n    }\n</style>\n<table border=\"1\" class=\"dataframe\">\n  <thead>\n    <tr style=\"text-align: right;\">\n      <th></th>\n      <th>PredictPrice</th>\n      <th>Price</th>\n      <th>Error</th>\n    </tr>\n  </thead>\n  <tbody>\n    <tr>\n      <th>3497</th>\n      <td>842.386658</td>\n      <td>525.0</td>\n      <td>0.604546</td>\n    </tr>\n    <tr>\n      <th>4669</th>\n      <td>348821.093750</td>\n      <td>270000.0</td>\n      <td>0.291930</td>\n    </tr>\n    <tr>\n      <th>5356</th>\n      <td>905767.937500</td>\n      <td>580000.0</td>\n      <td>0.561669</td>\n    </tr>\n    <tr>\n      <th>5835</th>\n      <td>551.455505</td>\n      <td>385.0</td>\n      <td>0.432352</td>\n    </tr>\n    <tr>\n      <th>8435</th>\n      <td>1037.775391</td>\n      <td>1400.0</td>\n      <td>0.258732</td>\n    </tr>\n    <tr>\n      <th>...</th>\n      <td>...</td>\n      <td>...</td>\n      <td>...</td>\n    </tr>\n    <tr>\n      <th>7173</th>\n      <td>868.037048</td>\n      <td>1300.0</td>\n      <td>0.332279</td>\n    </tr>\n    <tr>\n      <th>1392</th>\n      <td>522328.250000</td>\n      <td>520000.0</td>\n      <td>0.004477</td>\n    </tr>\n    <tr>\n      <th>3639</th>\n      <td>305598.281250</td>\n      <td>450000.0</td>\n      <td>0.320893</td>\n    </tr>\n    <tr>\n      <th>7216</th>\n      <td>1240.244629</td>\n      <td>750.0</td>\n      <td>0.653660</td>\n    </tr>\n    <tr>\n      <th>7435</th>\n      <td>232937.843750</td>\n      <td>225000.0</td>\n      <td>0.035279</td>\n    </tr>\n  </tbody>\n</table>\n<p>918 rows × 3 columns</p>\n</div>"
     },
     "execution_count": 18,
     "metadata": {},
     "output_type": "execute_result"
    }
   ],
   "source": [
    "pred"
   ],
   "metadata": {
    "collapsed": false,
    "pycharm": {
     "name": "#%%\n"
    }
   }
  },
  {
   "cell_type": "markdown",
   "source": [
    "# Separate sale and rental data\n",
    "## Load datasets"
   ],
   "metadata": {
    "collapsed": false,
    "pycharm": {
     "name": "#%% md\n"
    }
   }
  },
  {
   "cell_type": "code",
   "execution_count": 19,
   "outputs": [],
   "source": [
    "features = pd.read_csv(\"../datasets/final_features.csv\")\n",
    "labels = pd.read_csv(\"../datasets/final_labels.csv\")\n",
    "sources = pd.read_csv(\"../datasets/final_sources.csv\")"
   ],
   "metadata": {
    "collapsed": false,
    "pycharm": {
     "name": "#%%\n"
    }
   }
  },
  {
   "cell_type": "markdown",
   "source": [
    "## Split sale and rental data"
   ],
   "metadata": {
    "collapsed": false,
    "pycharm": {
     "name": "#%% md\n"
    }
   }
  },
  {
   "cell_type": "code",
   "execution_count": 20,
   "outputs": [],
   "source": [
    "sale_features = features[features[\"Sale or Let\"] == 1]\n",
    "sale_features = sale_features.loc[:, ~sale_features.columns.isin([\"Sale or Let\"])]\n",
    "sale_labels = labels.iloc[sale_features.index]\n",
    "\n",
    "rental_features = features[features[\"Sale or Let\"] == 0]\n",
    "rental_features = rental_features.loc[:, ~rental_features.columns.isin([\"Sale or Let\"])]\n",
    "rental_labels = labels.iloc[rental_features.index]"
   ],
   "metadata": {
    "collapsed": false,
    "pycharm": {
     "name": "#%%\n"
    }
   }
  },
  {
   "cell_type": "markdown",
   "source": [
    "## Data standardization"
   ],
   "metadata": {
    "collapsed": false,
    "pycharm": {
     "name": "#%% md\n"
    }
   }
  },
  {
   "cell_type": "code",
   "execution_count": 21,
   "outputs": [],
   "source": [
    "scaler = StandardScaler()\n",
    "\n",
    "scaler.fit(sale_features)\n",
    "scaled_sale_feature = sale_features.copy()\n",
    "scaled_sale_feature[:] = scaler.fit_transform(scaled_sale_feature)\n",
    "\n",
    "scaler.fit(rental_features)\n",
    "scaled_rental_feature = rental_features.copy()\n",
    "scaled_rental_feature[:] = scaler.fit_transform(scaled_rental_feature)"
   ],
   "metadata": {
    "collapsed": false,
    "pycharm": {
     "name": "#%%\n"
    }
   }
  },
  {
   "cell_type": "markdown",
   "source": [
    "## Split sale data into training and validation"
   ],
   "metadata": {
    "collapsed": false,
    "pycharm": {
     "name": "#%% md\n"
    }
   }
  },
  {
   "cell_type": "code",
   "execution_count": 22,
   "outputs": [],
   "source": [
    "x_train, x_test, y_train, y_test = train_test_split(scaled_sale_feature, sale_labels, random_state=1, test_size=0.1)"
   ],
   "metadata": {
    "collapsed": false,
    "pycharm": {
     "name": "#%%\n"
    }
   }
  },
  {
   "cell_type": "markdown",
   "source": [
    "## Train the model (sale)"
   ],
   "metadata": {
    "collapsed": false,
    "pycharm": {
     "name": "#%% md\n"
    }
   }
  },
  {
   "cell_type": "code",
   "execution_count": null,
   "outputs": [],
   "source": [
    "kfold = KFold(n_splits=5, shuffle=True, random_state=1)\n",
    "torch.manual_seed(13)\n",
    "in_features = len(x_train.iloc[0])\n",
    "epochs = 1000\n",
    "\n",
    "for fold, (train_id, val_id) in enumerate(kfold.split(x_train.index)):\n",
    "    train_feature, train_label = x_train.iloc[train_id], y_train.iloc[train_id]\n",
    "    val_feature, val_label = x_train.iloc[val_id], y_train.iloc[val_id]\n",
    "    print(\"\\n\\n-------------This is fold {}----------------\".format(fold))\n",
    "\n",
    "    train_data = PriceDataset(train_feature, train_label)\n",
    "    val_data = PriceDataset(val_feature, val_label)\n",
    "    train_loader = DataLoader(train_data, batch_size=16, drop_last=True, shuffle=True)\n",
    "    val_loader = DataLoader(val_data, batch_size=16, drop_last=True, shuffle=True)\n",
    "\n",
    "    model = PredictPrice(in_features).to(device)\n",
    "    optimizer = optim.Adam(model.parameters(), lr=1e-3)\n",
    "\n",
    "    train_validate = TrainValidate(model, nn.MSELoss(), optimizer)\n",
    "    train_validate.set_loader(train_loader, val_loader)\n",
    "    train_validate.train(epochs)\n",
    "\n",
    "    train_validate.save_model(\"models/sale_only_full_epoch_1000_fold_{}.pth\".format(fold))"
   ],
   "metadata": {
    "collapsed": false,
    "pycharm": {
     "name": "#%%\n"
    }
   }
  },
  {
   "cell_type": "markdown",
   "source": [
    "## Test Performance (sale only)"
   ],
   "metadata": {
    "collapsed": false,
    "pycharm": {
     "name": "#%% md\n"
    }
   }
  },
  {
   "cell_type": "code",
   "execution_count": 23,
   "outputs": [],
   "source": [
    "filename = \"models/sale_only_full_epoch_1000_fold_1.pth\"\n",
    "\n",
    "model = torch.load(filename, map_location=torch.device(\"cpu\"))\n",
    "model.eval()\n",
    "\n",
    "prices = []\n",
    "for i in range(len(x_test)):\n",
    "    feature = torch.tensor((x_test.iloc[i])).float()\n",
    "    pred_price = model(feature)\n",
    "    prices.append(pred_price.detach().item())\n",
    "\n",
    "pred = pd.DataFrame({\"PredictPrice\": prices, \"Price\": y_test[\"Price / Rent\"]})"
   ],
   "metadata": {
    "collapsed": false,
    "pycharm": {
     "name": "#%%\n"
    }
   }
  },
  {
   "cell_type": "code",
   "execution_count": 24,
   "outputs": [],
   "source": [
    "error = []\n",
    "for i in range(len(pred)):\n",
    "    truth = pred[\"Price\"].iloc[i]\n",
    "    predict = pred[\"PredictPrice\"].iloc[i]\n",
    "    error.append(abs(truth - predict) / truth)\n",
    "\n",
    "avg_error = sum(error) / len(error)\n",
    "error = pd.DataFrame({\"Error\": error})\n",
    "error = error.rename(index={i: j for i, j in zip(error.index, pred.index)})\n",
    "pred = pd.concat([pred, error], axis=1)"
   ],
   "metadata": {
    "collapsed": false,
    "pycharm": {
     "name": "#%%\n"
    }
   }
  },
  {
   "cell_type": "code",
   "execution_count": 25,
   "outputs": [
    {
     "data": {
      "text/plain": "       PredictPrice     Price     Error\n5071  187159.593750  300000.0  0.376135\n6456  348365.875000  350000.0  0.004669\n3547  241875.171875  200000.0  0.209376\n6245  215270.171875  220000.0  0.021499\n5482  557764.937500  460000.0  0.212532\n...             ...       ...       ...\n7894  217496.218750  210000.0  0.035696\n5417  423593.906250  235000.0  0.802527\n6981  454386.500000  450000.0  0.009748\n431   157286.671875  137000.0  0.148078\n6209  136988.062500  160000.0  0.143825\n\n[622 rows x 3 columns]",
      "text/html": "<div>\n<style scoped>\n    .dataframe tbody tr th:only-of-type {\n        vertical-align: middle;\n    }\n\n    .dataframe tbody tr th {\n        vertical-align: top;\n    }\n\n    .dataframe thead th {\n        text-align: right;\n    }\n</style>\n<table border=\"1\" class=\"dataframe\">\n  <thead>\n    <tr style=\"text-align: right;\">\n      <th></th>\n      <th>PredictPrice</th>\n      <th>Price</th>\n      <th>Error</th>\n    </tr>\n  </thead>\n  <tbody>\n    <tr>\n      <th>5071</th>\n      <td>187159.593750</td>\n      <td>300000.0</td>\n      <td>0.376135</td>\n    </tr>\n    <tr>\n      <th>6456</th>\n      <td>348365.875000</td>\n      <td>350000.0</td>\n      <td>0.004669</td>\n    </tr>\n    <tr>\n      <th>3547</th>\n      <td>241875.171875</td>\n      <td>200000.0</td>\n      <td>0.209376</td>\n    </tr>\n    <tr>\n      <th>6245</th>\n      <td>215270.171875</td>\n      <td>220000.0</td>\n      <td>0.021499</td>\n    </tr>\n    <tr>\n      <th>5482</th>\n      <td>557764.937500</td>\n      <td>460000.0</td>\n      <td>0.212532</td>\n    </tr>\n    <tr>\n      <th>...</th>\n      <td>...</td>\n      <td>...</td>\n      <td>...</td>\n    </tr>\n    <tr>\n      <th>7894</th>\n      <td>217496.218750</td>\n      <td>210000.0</td>\n      <td>0.035696</td>\n    </tr>\n    <tr>\n      <th>5417</th>\n      <td>423593.906250</td>\n      <td>235000.0</td>\n      <td>0.802527</td>\n    </tr>\n    <tr>\n      <th>6981</th>\n      <td>454386.500000</td>\n      <td>450000.0</td>\n      <td>0.009748</td>\n    </tr>\n    <tr>\n      <th>431</th>\n      <td>157286.671875</td>\n      <td>137000.0</td>\n      <td>0.148078</td>\n    </tr>\n    <tr>\n      <th>6209</th>\n      <td>136988.062500</td>\n      <td>160000.0</td>\n      <td>0.143825</td>\n    </tr>\n  </tbody>\n</table>\n<p>622 rows × 3 columns</p>\n</div>"
     },
     "execution_count": 25,
     "metadata": {},
     "output_type": "execute_result"
    }
   ],
   "source": [
    "pred"
   ],
   "metadata": {
    "collapsed": false,
    "pycharm": {
     "name": "#%%\n"
    }
   }
  },
  {
   "cell_type": "markdown",
   "source": [
    "## Split rental data"
   ],
   "metadata": {
    "collapsed": false,
    "pycharm": {
     "name": "#%% md\n"
    }
   }
  },
  {
   "cell_type": "code",
   "execution_count": 26,
   "outputs": [],
   "source": [
    "x_train, x_test, y_train, y_test = train_test_split(scaled_rental_feature, rental_labels, random_state=1, test_size=0.1)"
   ],
   "metadata": {
    "collapsed": false,
    "pycharm": {
     "name": "#%%\n"
    }
   }
  },
  {
   "cell_type": "code",
   "execution_count": null,
   "outputs": [],
   "source": [],
   "metadata": {
    "collapsed": false,
    "pycharm": {
     "name": "#%%\n"
    }
   }
  }
 ],
 "metadata": {
  "kernelspec": {
   "display_name": "Python 3",
   "language": "python",
   "name": "python3"
  },
  "language_info": {
   "codemirror_mode": {
    "name": "ipython",
    "version": 2
   },
   "file_extension": ".py",
   "mimetype": "text/x-python",
   "name": "python",
   "nbconvert_exporter": "python",
   "pygments_lexer": "ipython2",
   "version": "2.7.6"
  }
 },
 "nbformat": 4,
 "nbformat_minor": 0
}