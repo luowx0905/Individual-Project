{
 "cells": [
  {
   "cell_type": "markdown",
   "source": [
    "# Import Packages"
   ],
   "metadata": {
    "collapsed": false,
    "pycharm": {
     "name": "#%% md\n"
    }
   }
  },
  {
   "cell_type": "code",
   "execution_count": 49,
   "outputs": [],
   "source": [
    "import numpy as np\n",
    "import pandas as pd\n",
    "\n",
    "import torch\n",
    "from torch import nn\n",
    "from torch import optim\n",
    "from torch.utils.data import DataLoader, Dataset\n",
    "\n",
    "import torchinfo\n",
    "from torch_snippets import Report\n",
    "from sklearn.preprocessing import LabelEncoder, StandardScaler\n",
    "from sklearn.model_selection import train_test_split\n",
    "\n",
    "device = \"cpu\"\n",
    "if torch.cuda.is_available():\n",
    "    device = \"cuda\"\n",
    "elif torch.has_mps:\n",
    "    device = \"mps\""
   ],
   "metadata": {
    "collapsed": false,
    "pycharm": {
     "name": "#%%\n"
    }
   }
  },
  {
   "cell_type": "markdown",
   "source": [
    "# Load Datasets"
   ],
   "metadata": {
    "collapsed": false,
    "pycharm": {
     "name": "#%% md\n"
    }
   }
  },
  {
   "cell_type": "code",
   "execution_count": 2,
   "outputs": [],
   "source": [
    "general = pd.read_csv(\"../datasets/general.csv\")\n",
    "room = pd.read_csv(\"../datasets/room.csv\")\n",
    "categorical = pd.read_csv(\"../datasets/categorical.csv\")\n",
    "labels = pd.read_csv(\"../datasets/label.csv\")"
   ],
   "metadata": {
    "collapsed": false,
    "pycharm": {
     "name": "#%%\n"
    }
   }
  },
  {
   "cell_type": "markdown",
   "source": [
    "## Merge Features"
   ],
   "metadata": {
    "collapsed": false,
    "pycharm": {
     "name": "#%% md\n"
    }
   }
  },
  {
   "cell_type": "code",
   "execution_count": 22,
   "outputs": [
    {
     "data": {
      "text/plain": "   Postcode Sale or Let  Price Qualifier  DESC Council Tax Band  \\\n0      1595        Sale                4                      1   \n1       389        Sale                2                      3   \n2      2185        Sale                2                      4   \n3       196        Sale                7                      1   \n4       998        Sale                6                      1   \n\n   RTD3316_condition1 - Condition Description  # of Enquiry or viewings  \\\n0                                           0                        32   \n1                                           0                        14   \n2                                           0                        10   \n3                                           0                         9   \n4                                           0                         1   \n\n   # of Apps/Offers  bedroom number  kitchen number  living number  ...  \\\n0                12               2               1              1  ...   \n1                 4               3               1              0  ...   \n2                 2               3               1              1  ...   \n3                 1               3               1              1  ...   \n4                 2               3               1              0  ...   \n\n   Double Glazing  Eco-Friendly  Electric  Gas  Gas Central  Night Storage  \\\n0               1             0         1    0            0              1   \n1               1             0         0    0            1              0   \n2               1             0         0    0            1              0   \n3               0             0         0    0            1              0   \n4               0             0         0    0            1              0   \n\n   Oil  Solar  Solar Water  Under Floor  \n0    0      0            0            0  \n1    0      0            0            0  \n2    0      0            0            1  \n3    0      0            0            0  \n4    0      0            0            0  \n\n[5 rows x 52 columns]",
      "text/html": "<div>\n<style scoped>\n    .dataframe tbody tr th:only-of-type {\n        vertical-align: middle;\n    }\n\n    .dataframe tbody tr th {\n        vertical-align: top;\n    }\n\n    .dataframe thead th {\n        text-align: right;\n    }\n</style>\n<table border=\"1\" class=\"dataframe\">\n  <thead>\n    <tr style=\"text-align: right;\">\n      <th></th>\n      <th>Postcode</th>\n      <th>Sale or Let</th>\n      <th>Price Qualifier</th>\n      <th>DESC Council Tax Band</th>\n      <th>RTD3316_condition1 - Condition Description</th>\n      <th># of Enquiry or viewings</th>\n      <th># of Apps/Offers</th>\n      <th>bedroom number</th>\n      <th>kitchen number</th>\n      <th>living number</th>\n      <th>...</th>\n      <th>Double Glazing</th>\n      <th>Eco-Friendly</th>\n      <th>Electric</th>\n      <th>Gas</th>\n      <th>Gas Central</th>\n      <th>Night Storage</th>\n      <th>Oil</th>\n      <th>Solar</th>\n      <th>Solar Water</th>\n      <th>Under Floor</th>\n    </tr>\n  </thead>\n  <tbody>\n    <tr>\n      <th>0</th>\n      <td>1595</td>\n      <td>Sale</td>\n      <td>4</td>\n      <td>1</td>\n      <td>0</td>\n      <td>32</td>\n      <td>12</td>\n      <td>2</td>\n      <td>1</td>\n      <td>1</td>\n      <td>...</td>\n      <td>1</td>\n      <td>0</td>\n      <td>1</td>\n      <td>0</td>\n      <td>0</td>\n      <td>1</td>\n      <td>0</td>\n      <td>0</td>\n      <td>0</td>\n      <td>0</td>\n    </tr>\n    <tr>\n      <th>1</th>\n      <td>389</td>\n      <td>Sale</td>\n      <td>2</td>\n      <td>3</td>\n      <td>0</td>\n      <td>14</td>\n      <td>4</td>\n      <td>3</td>\n      <td>1</td>\n      <td>0</td>\n      <td>...</td>\n      <td>1</td>\n      <td>0</td>\n      <td>0</td>\n      <td>0</td>\n      <td>1</td>\n      <td>0</td>\n      <td>0</td>\n      <td>0</td>\n      <td>0</td>\n      <td>0</td>\n    </tr>\n    <tr>\n      <th>2</th>\n      <td>2185</td>\n      <td>Sale</td>\n      <td>2</td>\n      <td>4</td>\n      <td>0</td>\n      <td>10</td>\n      <td>2</td>\n      <td>3</td>\n      <td>1</td>\n      <td>1</td>\n      <td>...</td>\n      <td>1</td>\n      <td>0</td>\n      <td>0</td>\n      <td>0</td>\n      <td>1</td>\n      <td>0</td>\n      <td>0</td>\n      <td>0</td>\n      <td>0</td>\n      <td>1</td>\n    </tr>\n    <tr>\n      <th>3</th>\n      <td>196</td>\n      <td>Sale</td>\n      <td>7</td>\n      <td>1</td>\n      <td>0</td>\n      <td>9</td>\n      <td>1</td>\n      <td>3</td>\n      <td>1</td>\n      <td>1</td>\n      <td>...</td>\n      <td>0</td>\n      <td>0</td>\n      <td>0</td>\n      <td>0</td>\n      <td>1</td>\n      <td>0</td>\n      <td>0</td>\n      <td>0</td>\n      <td>0</td>\n      <td>0</td>\n    </tr>\n    <tr>\n      <th>4</th>\n      <td>998</td>\n      <td>Sale</td>\n      <td>6</td>\n      <td>1</td>\n      <td>0</td>\n      <td>1</td>\n      <td>2</td>\n      <td>3</td>\n      <td>1</td>\n      <td>0</td>\n      <td>...</td>\n      <td>0</td>\n      <td>0</td>\n      <td>0</td>\n      <td>0</td>\n      <td>1</td>\n      <td>0</td>\n      <td>0</td>\n      <td>0</td>\n      <td>0</td>\n      <td>0</td>\n    </tr>\n  </tbody>\n</table>\n<p>5 rows × 52 columns</p>\n</div>"
     },
     "execution_count": 22,
     "metadata": {},
     "output_type": "execute_result"
    }
   ],
   "source": [
    "input_features = pd.concat([general, room, categorical], axis=1)\n",
    "input_features.head()"
   ],
   "metadata": {
    "collapsed": false,
    "pycharm": {
     "name": "#%%\n"
    }
   }
  },
  {
   "cell_type": "markdown",
   "source": [
    "## Split Sale and Rental"
   ],
   "metadata": {
    "collapsed": false,
    "pycharm": {
     "name": "#%% md\n"
    }
   }
  },
  {
   "cell_type": "code",
   "execution_count": 33,
   "outputs": [],
   "source": [
    "sale_features = input_features[input_features[\"Sale or Let\"] == \"Sale\"]\n",
    "sale_features = sale_features.loc[:, ~sale_features.columns.isin([\"Sale or Let\"])]\n",
    "sale_labels = labels.iloc[sale_features.index]\n",
    "\n",
    "rental_features = input_features[input_features[\"Sale or Let\"] == \"Rental\"]\n",
    "rental_features = rental_features.loc[:, ~rental_features.columns.isin([\"Sale or Let\"])]\n",
    "rental_labels = labels.iloc[rental_features.index]"
   ],
   "metadata": {
    "collapsed": false,
    "pycharm": {
     "name": "#%%\n"
    }
   }
  },
  {
   "cell_type": "markdown",
   "source": [
    "# Create Class for Collecting data"
   ],
   "metadata": {
    "collapsed": false,
    "pycharm": {
     "name": "#%% md\n"
    }
   }
  },
  {
   "cell_type": "code",
   "execution_count": 34,
   "outputs": [],
   "source": [
    "class PropertyDataset(Dataset):\n",
    "    def __init__(self, features, labels):\n",
    "        assert len(features) == len(labels)\n",
    "        self.features = features\n",
    "        self.labels = labels\n",
    "\n",
    "        self.complete_encoder = LabelEncoder()\n",
    "        self.complete_encoder.fit(self.labels.Completed)\n",
    "\n",
    "    def __getitem__(self, item):\n",
    "        features = self.features.to_numpy()[item]\n",
    "        labels = self.labels.to_numpy()[item]\n",
    "\n",
    "        return torch.tensor(features).float().to(device), torch.tensor(labels).float().to(device)\n",
    "\n",
    "    def __len__(self):\n",
    "        return len(self.features)"
   ],
   "metadata": {
    "collapsed": false,
    "pycharm": {
     "name": "#%%\n"
    }
   }
  },
  {
   "cell_type": "code",
   "execution_count": 36,
   "outputs": [],
   "source": [
    "temp = PropertyDataset(sale_features, sale_labels)"
   ],
   "metadata": {
    "collapsed": false,
    "pycharm": {
     "name": "#%%\n"
    }
   }
  },
  {
   "cell_type": "markdown",
   "source": [
    "# Build the model"
   ],
   "metadata": {
    "collapsed": false,
    "pycharm": {
     "name": "#%% md\n"
    }
   }
  },
  {
   "cell_type": "code",
   "execution_count": 27,
   "outputs": [
    {
     "data": {
      "text/plain": "51"
     },
     "execution_count": 27,
     "metadata": {},
     "output_type": "execute_result"
    }
   ],
   "source": [
    "in_features = len(temp[0][0])\n",
    "in_features"
   ],
   "metadata": {
    "collapsed": false,
    "pycharm": {
     "name": "#%%\n"
    }
   }
  },
  {
   "cell_type": "code",
   "execution_count": 44,
   "outputs": [],
   "source": [
    "class ProbabilityAndPrice(nn.Module):\n",
    "    def __init__(self, in_features):\n",
    "        super().__init__()\n",
    "        self.in_features = in_features\n",
    "\n",
    "        self.hidden = nn.Sequential(nn.Linear(in_features, 128),\n",
    "                                    nn.ReLU(),\n",
    "                                    nn.Linear(128, 128),\n",
    "                                    nn.ReLU(),\n",
    "                                    nn.Linear(128, 512),\n",
    "                                    nn.ReLU(),\n",
    "                                    nn.Linear(512, 512),\n",
    "                                    nn.ReLU())\n",
    "        self.probability = nn.Sequential(nn.Linear(512, 1),\n",
    "                                         nn.Sigmoid())\n",
    "        self.price = nn.Sequential(nn.Linear(512, 1),\n",
    "                                   nn.ReLU())\n",
    "\n",
    "    def forward(self, x):\n",
    "        x = self.hidden(x)\n",
    "        probability = self.probability(x)\n",
    "        price = self.price(x)\n",
    "        return probability, price"
   ],
   "metadata": {
    "collapsed": false,
    "pycharm": {
     "name": "#%%\n"
    }
   }
  },
  {
   "cell_type": "code",
   "execution_count": 45,
   "outputs": [],
   "source": [
    "model = ProbabilityAndPrice(in_features)\n",
    "\n",
    "probability_loss = nn.MSELoss()\n",
    "price_loss = nn.MSELoss()\n",
    "loss_fn = probability_loss, price_loss"
   ],
   "metadata": {
    "collapsed": false,
    "pycharm": {
     "name": "#%%\n"
    }
   }
  },
  {
   "cell_type": "code",
   "execution_count": 46,
   "outputs": [
    {
     "data": {
      "text/plain": "==========================================================================================\nLayer (type:depth-idx)                   Output Shape              Param #\n==========================================================================================\nProbabilityAndPrice                      [16, 1]                   --\n├─Sequential: 1-1                        [16, 512]                 --\n│    └─Linear: 2-1                       [16, 128]                 6,656\n│    └─ReLU: 2-2                         [16, 128]                 --\n│    └─Linear: 2-3                       [16, 128]                 16,512\n│    └─ReLU: 2-4                         [16, 128]                 --\n│    └─Linear: 2-5                       [16, 512]                 66,048\n│    └─ReLU: 2-6                         [16, 512]                 --\n│    └─Linear: 2-7                       [16, 512]                 262,656\n│    └─ReLU: 2-8                         [16, 512]                 --\n├─Sequential: 1-2                        [16, 1]                   --\n│    └─Linear: 2-9                       [16, 1]                   513\n│    └─Sigmoid: 2-10                     [16, 1]                   --\n├─Sequential: 1-3                        [16, 1]                   --\n│    └─Linear: 2-11                      [16, 1]                   513\n│    └─ReLU: 2-12                        [16, 1]                   --\n==========================================================================================\nTotal params: 352,898\nTrainable params: 352,898\nNon-trainable params: 0\nTotal mult-adds (M): 5.65\n==========================================================================================\nInput size (MB): 0.00\nForward/backward pass size (MB): 0.16\nParams size (MB): 1.41\nEstimated Total Size (MB): 1.58\n=========================================================================================="
     },
     "execution_count": 46,
     "metadata": {},
     "output_type": "execute_result"
    }
   ],
   "source": [
    "torchinfo.summary(model, input_size=(16, in_features))"
   ],
   "metadata": {
    "collapsed": false,
    "pycharm": {
     "name": "#%%\n"
    }
   }
  },
  {
   "cell_type": "markdown",
   "source": [
    "# Define train and validate loops"
   ],
   "metadata": {
    "collapsed": false,
    "pycharm": {
     "name": "#%% md\n"
    }
   }
  },
  {
   "cell_type": "code",
   "execution_count": 48,
   "outputs": [],
   "source": [
    "def train_batch(data, model, loss_fn, optimizer):\n",
    "    model.train()\n",
    "\n",
    "    feature, label = data\n",
    "    yhat = model(feature)\n",
    "\n",
    "    loss = loss_fn(yhat, label)\n",
    "    optimizer.zero_grad()\n",
    "    loss.backward()\n",
    "    optimizer.step()\n",
    "\n",
    "    return loss.item()\n",
    "\n",
    "@torch.no_grad()\n",
    "def validate_batch(data, model, loss_fn):\n",
    "    model.eval()\n",
    "\n",
    "    feature, label = data\n",
    "    yhat = model(feature)\n",
    "\n",
    "    loss = loss_fn(yhat, label)\n",
    "    return loss.item()"
   ],
   "metadata": {
    "collapsed": false,
    "pycharm": {
     "name": "#%%\n"
    }
   }
  },
  {
   "cell_type": "markdown",
   "source": [
    "# Train the model for sale data"
   ],
   "metadata": {
    "collapsed": false,
    "pycharm": {
     "name": "#%% md\n"
    }
   }
  },
  {
   "cell_type": "code",
   "execution_count": 37,
   "outputs": [],
   "source": [
    "x_train, x_test, y_train, y_test = train_test_split(sale_features, sale_labels, random_state=1, test_size=0.1)"
   ],
   "metadata": {
    "collapsed": false,
    "pycharm": {
     "name": "#%%\n"
    }
   }
  },
  {
   "cell_type": "code",
   "execution_count": null,
   "outputs": [],
   "source": [],
   "metadata": {
    "collapsed": false,
    "pycharm": {
     "name": "#%%\n"
    }
   }
  }
 ],
 "metadata": {
  "kernelspec": {
   "display_name": "Python 3",
   "language": "python",
   "name": "python3"
  },
  "language_info": {
   "codemirror_mode": {
    "name": "ipython",
    "version": 2
   },
   "file_extension": ".py",
   "mimetype": "text/x-python",
   "name": "python",
   "nbconvert_exporter": "python",
   "pygments_lexer": "ipython2",
   "version": "2.7.6"
  }
 },
 "nbformat": 4,
 "nbformat_minor": 0
}