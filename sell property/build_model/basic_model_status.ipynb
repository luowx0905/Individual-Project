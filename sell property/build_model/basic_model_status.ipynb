{
 "cells": [
  {
   "cell_type": "markdown",
   "source": [
    "# Colab commands"
   ],
   "metadata": {
    "collapsed": false,
    "pycharm": {
     "name": "#%% md\n"
    }
   }
  },
  {
   "cell_type": "code",
   "execution_count": null,
   "outputs": [],
   "source": [
    "from google.colab import drive\n",
    "drive.mount('/content/drive')"
   ],
   "metadata": {
    "collapsed": false,
    "pycharm": {
     "name": "#%%\n"
    }
   }
  },
  {
   "cell_type": "code",
   "execution_count": null,
   "outputs": [],
   "source": [
    "!cp /content/drive/MyDrive/Colab\\ Notebooks/build_model/TrainValidate.py /content\n",
    "!cp /content/drive/MyDrive/Colab\\ Notebooks/datasets/final_features_removed.csv /content\n",
    "!cp /content/drive/MyDrive/Colab\\ Notebooks/datasets/final_labels_removed.csv /content\n",
    "!cp /content/drive/MyDrive/Colab\\ Notebooks/datasets/final_sources_removed.csv /content\n",
    "!cp /content/drive/MyDrive/all_removed_weighted_sampler_full_epoch_1000_fold_2.pth /content\n",
    "!mkdir /content/models"
   ],
   "metadata": {
    "collapsed": false,
    "pycharm": {
     "name": "#%%\n"
    }
   }
  },
  {
   "cell_type": "code",
   "execution_count": null,
   "outputs": [],
   "source": [
    "!pip install --quiet torchinfo\n",
    "!pip install --quiet torch_snippets"
   ],
   "metadata": {
    "collapsed": false,
    "pycharm": {
     "name": "#%%\n"
    }
   }
  },
  {
   "cell_type": "markdown",
   "source": [
    "# Import packages"
   ],
   "metadata": {
    "collapsed": false,
    "pycharm": {
     "name": "#%% md\n"
    }
   }
  },
  {
   "cell_type": "code",
   "execution_count": 2,
   "outputs": [],
   "source": [
    "import numpy as np\n",
    "import pandas as pd\n",
    "import seaborn as sns\n",
    "\n",
    "import torch\n",
    "from torch import nn\n",
    "from torch import optim\n",
    "from torch.utils.data import DataLoader, Dataset, WeightedRandomSampler\n",
    "\n",
    "import torchinfo\n",
    "from torch_snippets import Report\n",
    "from matplotlib import pyplot as plt\n",
    "from sklearn.preprocessing import LabelEncoder, StandardScaler, MinMaxScaler, RobustScaler\n",
    "from sklearn.model_selection import train_test_split, KFold\n",
    "from sklearn.decomposition import PCA\n",
    "from sklearn.metrics import confusion_matrix, accuracy_score, precision_score, recall_score, f1_score\n",
    "from TrainValidate import TrainValidate, create_weighted_sampler\n",
    "\n",
    "device = \"cpu\"\n",
    "if torch.cuda.is_available():\n",
    "    device = \"cuda\"\n",
    "elif torch.has_mps:\n",
    "    device = \"mps\""
   ],
   "metadata": {
    "collapsed": false,
    "pycharm": {
     "name": "#%%\n"
    }
   }
  },
  {
   "cell_type": "code",
   "execution_count": 3,
   "outputs": [
    {
     "data": {
      "text/plain": "'mps'"
     },
     "execution_count": 3,
     "metadata": {},
     "output_type": "execute_result"
    }
   ],
   "source": [
    "device"
   ],
   "metadata": {
    "collapsed": false,
    "pycharm": {
     "name": "#%%\n"
    }
   }
  },
  {
   "cell_type": "markdown",
   "source": [
    "# Load datasets"
   ],
   "metadata": {
    "collapsed": false,
    "pycharm": {
     "name": "#%% md\n"
    }
   }
  },
  {
   "cell_type": "code",
   "execution_count": 4,
   "outputs": [],
   "source": [
    "features = pd.read_csv(\"../datasets/final_features_removed.csv\")\n",
    "labels = pd.read_csv(\"../datasets/final_labels_removed.csv\")\n",
    "sources = pd.read_csv(\"../datasets/final_sources_removed.csv\")"
   ],
   "metadata": {
    "collapsed": false,
    "pycharm": {
     "name": "#%%\n"
    }
   }
  },
  {
   "cell_type": "markdown",
   "source": [
    "# Create class for collecting data"
   ],
   "metadata": {
    "collapsed": false,
    "pycharm": {
     "name": "#%% md\n"
    }
   }
  },
  {
   "cell_type": "code",
   "execution_count": 5,
   "outputs": [],
   "source": [
    "class StatuePriceDataset(Dataset):\n",
    "    def __init__(self, features, labels):\n",
    "        assert len(features) == len(labels)\n",
    "        self.features = features\n",
    "        self.labels = labels\n",
    "\n",
    "    def __getitem__(self, item):\n",
    "        features = self.features.to_numpy()[item]\n",
    "        features = torch.tensor(features).float().to(device)\n",
    "\n",
    "        labels = self.labels.to_numpy()[item]\n",
    "        price = torch.tensor([labels[1]]).float().to(device)\n",
    "        status = torch.tensor([labels[0]]).float().to(device)\n",
    "\n",
    "        features = torch.cat([features, price])\n",
    "\n",
    "        return features, status\n",
    "\n",
    "    def __len__(self):\n",
    "        return len(self.features)"
   ],
   "metadata": {
    "collapsed": false,
    "pycharm": {
     "name": "#%%\n"
    }
   }
  },
  {
   "cell_type": "code",
   "execution_count": 6,
   "outputs": [
    {
     "data": {
      "text/plain": "52"
     },
     "execution_count": 6,
     "metadata": {},
     "output_type": "execute_result"
    }
   ],
   "source": [
    "temp = StatuePriceDataset(features, labels)\n",
    "in_features = len(temp[0][0])\n",
    "in_features"
   ],
   "metadata": {
    "collapsed": false,
    "pycharm": {
     "name": "#%%\n"
    }
   }
  },
  {
   "cell_type": "markdown",
   "source": [
    "# Build model"
   ],
   "metadata": {
    "collapsed": false,
    "pycharm": {
     "name": "#%% md\n"
    }
   }
  },
  {
   "cell_type": "code",
   "execution_count": 7,
   "outputs": [],
   "source": [
    "class PredictPrice(nn.Module):\n",
    "    def __init__(self, in_features):\n",
    "        super().__init__()\n",
    "        self.in_features = in_features\n",
    "\n",
    "        self.hidden = nn.Sequential(nn.Linear(in_features, 128),\n",
    "                                    nn.ReLU(),\n",
    "                                    nn.Linear(128, 128),\n",
    "                                    nn.ReLU(),\n",
    "                                    nn.Linear(128, 256),\n",
    "                                    nn.ReLU(),\n",
    "                                    nn.Linear(256, 128),\n",
    "                                    nn.ReLU())\n",
    "        self.price = nn.Sequential(nn.Linear(128, 1),\n",
    "                                   nn.ReLU())\n",
    "\n",
    "    def forward(self, x):\n",
    "        x = self.hidden(x)\n",
    "        price = self.price(x)\n",
    "        return price.squeeze()\n",
    "\n",
    "class PredictStatus(nn.Module):\n",
    "    def __init__(self, in_features):\n",
    "        super(PredictStatus, self).__init__()\n",
    "\n",
    "        # Load model for predicting prices and freeze its parameters\n",
    "        filename = \"models/all_removed_weighted_sampler_full_epoch_1000_fold_2.pth\"\n",
    "        self.price = torch.load(filename, map_location=torch.device(\"cpu\"))\n",
    "        for param in self.price.parameters():\n",
    "            param.requires_grad = False\n",
    "\n",
    "        self.hidden = nn.Sequential(nn.Linear(in_features+ 1, 128),\n",
    "                                    nn.ReLU(),\n",
    "                                    nn.Linear(128, 128),\n",
    "                                    nn.ReLU(),\n",
    "                                    nn.Linear(128, 256),\n",
    "                                    nn.ReLU(),\n",
    "                                    nn.Linear(256, 512),\n",
    "                                    nn.ReLU(),\n",
    "                                    nn.Linear(512, 256),\n",
    "                                    nn.ReLU(),\n",
    "                                    nn.Linear(256, 128),\n",
    "                                    nn.ReLU())\n",
    "        self.status = nn.Sequential(nn.Linear(128, 1),\n",
    "                                    nn.Sigmoid())\n",
    "\n",
    "    def forward(self, x):\n",
    "        pred_price = self.price(x[:, :-1])[:, None]\n",
    "\n",
    "        new_features = torch.cat([x, pred_price], 1)\n",
    "        out = self.hidden(new_features)\n",
    "        out = self.status(out)\n",
    "\n",
    "        return out"
   ],
   "metadata": {
    "collapsed": false,
    "pycharm": {
     "name": "#%%\n"
    }
   }
  },
  {
   "cell_type": "code",
   "execution_count": 8,
   "outputs": [
    {
     "data": {
      "text/plain": "==========================================================================================\nLayer (type:depth-idx)                   Output Shape              Param #\n==========================================================================================\nPredictStatus                            [16, 1]                   --\n├─PredictPrice: 1-1                      [16]                      --\n│    └─Sequential: 2-1                   [16, 128]                 --\n│    │    └─Linear: 3-1                  [16, 128]                 (6,656)\n│    │    └─ReLU: 3-2                    [16, 128]                 --\n│    │    └─Linear: 3-3                  [16, 128]                 (16,512)\n│    │    └─ReLU: 3-4                    [16, 128]                 --\n│    │    └─Linear: 3-5                  [16, 256]                 (33,024)\n│    │    └─ReLU: 3-6                    [16, 256]                 --\n│    │    └─Linear: 3-7                  [16, 128]                 (32,896)\n│    │    └─ReLU: 3-8                    [16, 128]                 --\n│    └─Sequential: 2-2                   [16, 1]                   --\n│    │    └─Linear: 3-9                  [16, 1]                   (129)\n│    │    └─ReLU: 3-10                   [16, 1]                   --\n├─Sequential: 1-2                        [16, 128]                 --\n│    └─Linear: 2-3                       [16, 128]                 6,912\n│    └─ReLU: 2-4                         [16, 128]                 --\n│    └─Linear: 2-5                       [16, 128]                 16,512\n│    └─ReLU: 2-6                         [16, 128]                 --\n│    └─Linear: 2-7                       [16, 256]                 33,024\n│    └─ReLU: 2-8                         [16, 256]                 --\n│    └─Linear: 2-9                       [16, 512]                 131,584\n│    └─ReLU: 2-10                        [16, 512]                 --\n│    └─Linear: 2-11                      [16, 256]                 131,328\n│    └─ReLU: 2-12                        [16, 256]                 --\n│    └─Linear: 2-13                      [16, 128]                 32,896\n│    └─ReLU: 2-14                        [16, 128]                 --\n├─Sequential: 1-3                        [16, 1]                   --\n│    └─Linear: 2-15                      [16, 1]                   129\n│    └─Sigmoid: 2-16                     [16, 1]                   --\n==========================================================================================\nTotal params: 441,602\nTrainable params: 352,385\nNon-trainable params: 89,217\nTotal mult-adds (M): 7.07\n==========================================================================================\nInput size (MB): 0.00\nForward/backward pass size (MB): 0.26\nParams size (MB): 1.77\nEstimated Total Size (MB): 2.03\n=========================================================================================="
     },
     "execution_count": 8,
     "metadata": {},
     "output_type": "execute_result"
    }
   ],
   "source": [
    "model = PredictStatus(in_features)\n",
    "torchinfo.summary(model, input_size=(16, in_features))"
   ],
   "metadata": {
    "collapsed": false,
    "pycharm": {
     "name": "#%%\n"
    }
   }
  },
  {
   "cell_type": "markdown",
   "source": [
    "# Data standardization"
   ],
   "metadata": {
    "collapsed": false,
    "pycharm": {
     "name": "#%% md\n"
    }
   }
  },
  {
   "cell_type": "code",
   "execution_count": 9,
   "outputs": [],
   "source": [
    "scaler = StandardScaler()\n",
    "scaler.fit(features)\n",
    "features[:] = scaler.transform(features)"
   ],
   "metadata": {
    "collapsed": false,
    "pycharm": {
     "name": "#%%\n"
    }
   }
  },
  {
   "cell_type": "markdown",
   "source": [
    "# Train the model\n",
    "## Prepare data"
   ],
   "metadata": {
    "collapsed": false,
    "pycharm": {
     "name": "#%% md\n"
    }
   }
  },
  {
   "cell_type": "code",
   "execution_count": 10,
   "outputs": [],
   "source": [
    "x_train, x_test, y_train, y_test = train_test_split(features, labels, random_state=1, test_size=0.1)"
   ],
   "metadata": {
    "collapsed": false,
    "pycharm": {
     "name": "#%%\n"
    }
   }
  },
  {
   "cell_type": "markdown",
   "source": [
    "# Cross validation"
   ],
   "metadata": {
    "collapsed": false,
    "pycharm": {
     "name": "#%% md\n"
    }
   }
  },
  {
   "cell_type": "code",
   "execution_count": null,
   "outputs": [
    {
     "name": "stdout",
     "output_type": "stream",
     "text": [
      "\n",
      "\n",
      "-------------This is fold 0----------------\n"
     ]
    }
   ],
   "source": [
    "kfold = KFold(n_splits=5, shuffle=True, random_state=1)\n",
    "torch.manual_seed(13)\n",
    "epochs = 1000\n",
    "\n",
    "for fold, (train_id, val_id) in enumerate(kfold.split(x_train.index)):\n",
    "    train_feature, train_label = x_train.iloc[train_id], y_train.iloc[train_id]\n",
    "    val_feature, val_label = x_train.iloc[val_id], y_train.iloc[val_id]\n",
    "    print(\"\\n\\n-------------This is fold {}----------------\".format(fold))\n",
    "\n",
    "    train_data = StatuePriceDataset(train_feature, train_label)\n",
    "    val_data = StatuePriceDataset(val_feature, val_label)\n",
    "    in_features = len(train_data[0][0])\n",
    "\n",
    "    train_sampler = create_weighted_sampler(train_feature[\"Sale or Let\"].values)\n",
    "    val_sampler = create_weighted_sampler(val_feature[\"Sale or Let\"].values)\n",
    "\n",
    "    train_loader = DataLoader(train_data, batch_size=16, shuffle=False, drop_last=True, sampler=train_sampler)\n",
    "    val_loader = DataLoader(val_data, batch_size=16, shuffle=False, drop_last=True, sampler=val_sampler)\n",
    "\n",
    "    model = PredictStatus(in_features).to(device)\n",
    "    optimizer = optim.Adam(model.parameters(), lr=1e-3)\n",
    "\n",
    "    train_validate = TrainValidate(model, nn.BCELoss(), optimizer)\n",
    "    train_validate.set_loader(train_loader, val_loader)\n",
    "    train_validate.train(epochs)\n",
    "\n",
    "    train_validate.save_model(\"models/status_removed_full_epoch_1000_fold_{}.pth\".format(fold))"
   ],
   "metadata": {
    "collapsed": false,
    "pycharm": {
     "name": "#%%\n"
    }
   }
  },
  {
   "cell_type": "markdown",
   "source": [
    "# Testing performance"
   ],
   "metadata": {
    "collapsed": false,
    "pycharm": {
     "name": "#%% md\n"
    }
   }
  },
  {
   "cell_type": "code",
   "execution_count": 11,
   "outputs": [],
   "source": [
    "filename = \"models/status_removed_full_epoch_1000_fold_4.pth\"\n",
    "\n",
    "model = torch.load(filename, map_location=torch.device(\"cpu\"))\n",
    "model.eval()\n",
    "completed, labels = [], []\n",
    "test_data = StatuePriceDataset(x_test, y_test)\n",
    "test_loader = DataLoader(test_data, batch_size=16, shuffle=False, drop_last=False)\n",
    "\n",
    "for data in test_loader:\n",
    "    x, y = data\n",
    "    x = x.to(\"cpu\")\n",
    "    y = y.to(\"cpu\")\n",
    "\n",
    "    pred_com = model(x)\n",
    "    for item in pred_com.tolist():\n",
    "        completed.append(item[0])\n",
    "    for item in y.tolist():\n",
    "        labels.append(item[0])\n",
    "\n",
    "pred = pd.DataFrame({\"pred_completed\": completed, \"Truth\": labels})"
   ],
   "metadata": {
    "collapsed": false,
    "pycharm": {
     "name": "#%%\n"
    }
   }
  },
  {
   "cell_type": "code",
   "execution_count": 12,
   "outputs": [
    {
     "data": {
      "text/plain": "     pred_completed  Truth\n0               1.0    0.0\n1               1.0    1.0\n2               1.0    1.0\n3               1.0    1.0\n4               1.0    1.0\n..              ...    ...\n895             1.0    1.0\n896             1.0    0.0\n897             1.0    0.0\n898             1.0    1.0\n899             1.0    0.0\n\n[900 rows x 2 columns]",
      "text/html": "<div>\n<style scoped>\n    .dataframe tbody tr th:only-of-type {\n        vertical-align: middle;\n    }\n\n    .dataframe tbody tr th {\n        vertical-align: top;\n    }\n\n    .dataframe thead th {\n        text-align: right;\n    }\n</style>\n<table border=\"1\" class=\"dataframe\">\n  <thead>\n    <tr style=\"text-align: right;\">\n      <th></th>\n      <th>pred_completed</th>\n      <th>Truth</th>\n    </tr>\n  </thead>\n  <tbody>\n    <tr>\n      <th>0</th>\n      <td>1.0</td>\n      <td>0.0</td>\n    </tr>\n    <tr>\n      <th>1</th>\n      <td>1.0</td>\n      <td>1.0</td>\n    </tr>\n    <tr>\n      <th>2</th>\n      <td>1.0</td>\n      <td>1.0</td>\n    </tr>\n    <tr>\n      <th>3</th>\n      <td>1.0</td>\n      <td>1.0</td>\n    </tr>\n    <tr>\n      <th>4</th>\n      <td>1.0</td>\n      <td>1.0</td>\n    </tr>\n    <tr>\n      <th>...</th>\n      <td>...</td>\n      <td>...</td>\n    </tr>\n    <tr>\n      <th>895</th>\n      <td>1.0</td>\n      <td>1.0</td>\n    </tr>\n    <tr>\n      <th>896</th>\n      <td>1.0</td>\n      <td>0.0</td>\n    </tr>\n    <tr>\n      <th>897</th>\n      <td>1.0</td>\n      <td>0.0</td>\n    </tr>\n    <tr>\n      <th>898</th>\n      <td>1.0</td>\n      <td>1.0</td>\n    </tr>\n    <tr>\n      <th>899</th>\n      <td>1.0</td>\n      <td>0.0</td>\n    </tr>\n  </tbody>\n</table>\n<p>900 rows × 2 columns</p>\n</div>"
     },
     "execution_count": 12,
     "metadata": {},
     "output_type": "execute_result"
    }
   ],
   "source": [
    "pred"
   ],
   "metadata": {
    "collapsed": false,
    "pycharm": {
     "name": "#%%\n"
    }
   }
  },
  {
   "cell_type": "code",
   "execution_count": 13,
   "outputs": [
    {
     "data": {
      "text/plain": "(tensor([0, 1]), tensor([3088, 6089]))"
     },
     "execution_count": 13,
     "metadata": {},
     "output_type": "execute_result"
    }
   ],
   "source": [
    "labels = pd.read_csv(\"../datasets/final_labels.csv\")\n",
    "sale_rent = torch.tensor(labels[\"Completed\"].values)\n",
    "classes, count = sale_rent.unique(return_counts=True)\n",
    "classes, count"
   ],
   "metadata": {
    "collapsed": false,
    "pycharm": {
     "name": "#%%\n"
    }
   }
  },
  {
   "cell_type": "markdown",
   "source": [
    "# Add weighted sampler\n",
    "## Prepare data\n",
    "### Load datasets"
   ],
   "metadata": {
    "collapsed": false,
    "pycharm": {
     "name": "#%% md\n"
    }
   }
  },
  {
   "cell_type": "code",
   "execution_count": 11,
   "outputs": [],
   "source": [
    "features = pd.read_csv(\"../datasets/final_features_removed.csv\")\n",
    "labels = pd.read_csv(\"../datasets/final_labels_removed.csv\")\n",
    "sources = pd.read_csv(\"../datasets/final_sources_removed.csv\")"
   ],
   "metadata": {
    "collapsed": false,
    "pycharm": {
     "name": "#%%\n"
    }
   }
  },
  {
   "cell_type": "markdown",
   "source": [
    "### Data standardization"
   ],
   "metadata": {
    "collapsed": false,
    "pycharm": {
     "name": "#%% md\n"
    }
   }
  },
  {
   "cell_type": "code",
   "execution_count": 12,
   "outputs": [],
   "source": [
    "scaler = StandardScaler()\n",
    "scaler.fit(features)\n",
    "features[:] = scaler.transform(features)"
   ],
   "metadata": {
    "collapsed": false,
    "pycharm": {
     "name": "#%%\n"
    }
   }
  },
  {
   "cell_type": "markdown",
   "source": [
    "### Split dataset"
   ],
   "metadata": {
    "collapsed": false,
    "pycharm": {
     "name": "#%% md\n"
    }
   }
  },
  {
   "cell_type": "code",
   "execution_count": 13,
   "outputs": [],
   "source": [
    "x_train, x_test, y_train, y_test = train_test_split(features, labels, random_state=1, test_size=0.1)"
   ],
   "metadata": {
    "collapsed": false,
    "pycharm": {
     "name": "#%%\n"
    }
   }
  },
  {
   "cell_type": "markdown",
   "source": [
    "### Cross validation"
   ],
   "metadata": {
    "collapsed": false,
    "pycharm": {
     "name": "#%% md\n"
    }
   }
  },
  {
   "cell_type": "code",
   "execution_count": null,
   "outputs": [],
   "source": [
    "kfold = KFold(n_splits=5, shuffle=True, random_state=1)\n",
    "torch.manual_seed(13)\n",
    "epochs = 1000\n",
    "\n",
    "for fold, (train_id, val_id) in enumerate(kfold.split(x_train.index)):\n",
    "    train_feature, train_label = x_train.iloc[train_id], y_train.iloc[train_id]\n",
    "    val_feature, val_label = x_train.iloc[val_id], y_train.iloc[val_id]\n",
    "    print(\"\\n\\n-------------This is fold {}----------------\".format(fold))\n",
    "\n",
    "    train_data = StatuePriceDataset(train_feature, train_label)\n",
    "    val_data = StatuePriceDataset(val_feature, val_label)\n",
    "    in_features = len(train_data[0][0])\n",
    "\n",
    "    train_sampler = create_weighted_sampler(train_label[\"Completed\"].values)\n",
    "    val_sampler = create_weighted_sampler(val_label[\"Completed\"].values)\n",
    "\n",
    "    train_loader = DataLoader(train_data, batch_size=16, shuffle=False, drop_last=True, sampler=train_sampler)\n",
    "    val_loader = DataLoader(val_data, batch_size=16, shuffle=False, drop_last=True, sampler=val_sampler)\n",
    "\n",
    "    model = PredictStatus(in_features).to(device)\n",
    "    optimizer = optim.Adam(model.parameters(), lr=5e-4)\n",
    "\n",
    "    train_validate = TrainValidate(model, nn.BCELoss(), optimizer)\n",
    "    train_validate.set_loader(train_loader, val_loader)\n",
    "    train_validate.train(epochs)\n",
    "\n",
    "    train_validate.save_model(\"models/status_ws_removed_full_epoch_1000_fold_{}.pth\".format(fold))"
   ],
   "metadata": {
    "collapsed": false,
    "pycharm": {
     "name": "#%%\n"
    }
   }
  },
  {
   "cell_type": "markdown",
   "source": [
    "### Test performance (weighted sampler)"
   ],
   "metadata": {
    "collapsed": false,
    "pycharm": {
     "name": "#%% md\n"
    }
   }
  },
  {
   "cell_type": "code",
   "execution_count": 26,
   "outputs": [],
   "source": [
    "filename = \"models/status_ws_removed_full_epoch_1000_fold_3.pth\"\n",
    "\n",
    "model = torch.load(filename, map_location=torch.device(\"cpu\"))\n",
    "model.eval()\n",
    "completed, labels = [], []\n",
    "test_data = StatuePriceDataset(x_test, y_test)\n",
    "test_loader = DataLoader(test_data, batch_size=16, shuffle=False, drop_last=False)\n",
    "\n",
    "for data in test_loader:\n",
    "    x, y = data\n",
    "    x = x.to(\"cpu\")\n",
    "    y = y.to(\"cpu\")\n",
    "\n",
    "    pred_com = model(x)\n",
    "    for item in pred_com.tolist():\n",
    "        completed.append(item[0])\n",
    "    for item in y.tolist():\n",
    "        labels.append(item[0])\n",
    "\n",
    "pred = pd.DataFrame({\"pred_completed\": completed, \"Truth\": labels})"
   ],
   "metadata": {
    "collapsed": false,
    "pycharm": {
     "name": "#%%\n"
    }
   }
  },
  {
   "cell_type": "code",
   "execution_count": 27,
   "outputs": [
    {
     "data": {
      "text/plain": "     pred_completed  Truth\n0          0.499189    0.0\n1          0.499189    1.0\n2          0.499189    1.0\n3          0.499189    1.0\n4          0.499189    1.0\n..              ...    ...\n895        0.499189    1.0\n896        0.499189    0.0\n897        0.499189    0.0\n898        0.499189    1.0\n899        0.499189    0.0\n\n[900 rows x 2 columns]",
      "text/html": "<div>\n<style scoped>\n    .dataframe tbody tr th:only-of-type {\n        vertical-align: middle;\n    }\n\n    .dataframe tbody tr th {\n        vertical-align: top;\n    }\n\n    .dataframe thead th {\n        text-align: right;\n    }\n</style>\n<table border=\"1\" class=\"dataframe\">\n  <thead>\n    <tr style=\"text-align: right;\">\n      <th></th>\n      <th>pred_completed</th>\n      <th>Truth</th>\n    </tr>\n  </thead>\n  <tbody>\n    <tr>\n      <th>0</th>\n      <td>0.499189</td>\n      <td>0.0</td>\n    </tr>\n    <tr>\n      <th>1</th>\n      <td>0.499189</td>\n      <td>1.0</td>\n    </tr>\n    <tr>\n      <th>2</th>\n      <td>0.499189</td>\n      <td>1.0</td>\n    </tr>\n    <tr>\n      <th>3</th>\n      <td>0.499189</td>\n      <td>1.0</td>\n    </tr>\n    <tr>\n      <th>4</th>\n      <td>0.499189</td>\n      <td>1.0</td>\n    </tr>\n    <tr>\n      <th>...</th>\n      <td>...</td>\n      <td>...</td>\n    </tr>\n    <tr>\n      <th>895</th>\n      <td>0.499189</td>\n      <td>1.0</td>\n    </tr>\n    <tr>\n      <th>896</th>\n      <td>0.499189</td>\n      <td>0.0</td>\n    </tr>\n    <tr>\n      <th>897</th>\n      <td>0.499189</td>\n      <td>0.0</td>\n    </tr>\n    <tr>\n      <th>898</th>\n      <td>0.499189</td>\n      <td>1.0</td>\n    </tr>\n    <tr>\n      <th>899</th>\n      <td>0.499189</td>\n      <td>0.0</td>\n    </tr>\n  </tbody>\n</table>\n<p>900 rows × 2 columns</p>\n</div>"
     },
     "execution_count": 27,
     "metadata": {},
     "output_type": "execute_result"
    }
   ],
   "source": [
    "pred"
   ],
   "metadata": {
    "collapsed": false,
    "pycharm": {
     "name": "#%%\n"
    }
   }
  },
  {
   "cell_type": "markdown",
   "source": [
    "# Load model without freezing parameters\n",
    "## Build model"
   ],
   "metadata": {
    "collapsed": false,
    "pycharm": {
     "name": "#%% md\n"
    }
   }
  },
  {
   "cell_type": "code",
   "execution_count": 39,
   "outputs": [],
   "source": [
    "class PredictPrice(nn.Module):\n",
    "    def __init__(self, in_features):\n",
    "        super().__init__()\n",
    "        self.in_features = in_features\n",
    "\n",
    "        self.hidden = nn.Sequential(nn.Linear(in_features, 128),\n",
    "                                    nn.ReLU(),\n",
    "                                    nn.Linear(128, 128),\n",
    "                                    nn.ReLU(),\n",
    "                                    nn.Linear(128, 256),\n",
    "                                    nn.ReLU(),\n",
    "                                    nn.Linear(256, 128),\n",
    "                                    nn.ReLU())\n",
    "        self.price = nn.Sequential(nn.Linear(128, 1),\n",
    "                                   nn.ReLU())\n",
    "\n",
    "    def forward(self, x):\n",
    "        x = self.hidden(x)\n",
    "        price = self.price(x)\n",
    "        return price.squeeze()\n",
    "\n",
    "class PredictStatus(nn.Module):\n",
    "    def __init__(self, in_features):\n",
    "        super(PredictStatus, self).__init__()\n",
    "\n",
    "        # Load model for predicting prices and freeze its parameters\n",
    "        filename = \"models/all_removed_weighted_sampler_full_epoch_1000_fold_2.pth\"\n",
    "        self.price = torch.load(filename, map_location=torch.device(\"cpu\"))\n",
    "        for param in self.price.parameters():\n",
    "            pass\n",
    "            # param.requires_grad = False\n",
    "\n",
    "        self.hidden = nn.Sequential(nn.Linear(in_features+ 1, 256),\n",
    "                                    nn.Dropout(0.5),\n",
    "                                    nn.ReLU(),\n",
    "                                    nn.Linear(256, 512),\n",
    "                                    nn.Dropout(0.5),\n",
    "                                    nn.ReLU(),\n",
    "                                    nn.Linear(512, 1024),\n",
    "                                    nn.Dropout(0.5),\n",
    "                                    nn.ReLU(),\n",
    "                                    nn.Linear(1024, 256),\n",
    "                                    nn.Dropout(0.5),\n",
    "                                    nn.ReLU(),\n",
    "                                    nn.Linear(256, 64),\n",
    "                                    nn.Dropout(0.5),\n",
    "                                    nn.ReLU())\n",
    "        self.status = nn.Sequential(nn.Linear(64, 1),\n",
    "                                    nn.Sigmoid())\n",
    "\n",
    "    def forward(self, x):\n",
    "        pred_price = self.price(x[:, :-1])[:, None]\n",
    "\n",
    "        new_features = torch.cat([x, pred_price], 1)\n",
    "        hidden = self.hidden(new_features)\n",
    "        out = self.status(hidden)\n",
    "\n",
    "        return out"
   ],
   "metadata": {
    "collapsed": false,
    "pycharm": {
     "name": "#%%\n"
    }
   }
  },
  {
   "cell_type": "markdown",
   "source": [
    "## Load datasets"
   ],
   "metadata": {
    "collapsed": false,
    "pycharm": {
     "name": "#%% md\n"
    }
   }
  },
  {
   "cell_type": "code",
   "execution_count": 40,
   "outputs": [],
   "source": [
    "features = pd.read_csv(\"../datasets/final_features_removed.csv\")\n",
    "labels = pd.read_csv(\"../datasets/final_labels_removed.csv\")\n",
    "sources = pd.read_csv(\"../datasets/final_sources_removed.csv\")"
   ],
   "metadata": {
    "collapsed": false,
    "pycharm": {
     "name": "#%%\n"
    }
   }
  },
  {
   "cell_type": "markdown",
   "source": [
    "## Data standardization"
   ],
   "metadata": {
    "collapsed": false,
    "pycharm": {
     "name": "#%% md\n"
    }
   }
  },
  {
   "cell_type": "code",
   "execution_count": 41,
   "outputs": [],
   "source": [
    "scaler = StandardScaler()\n",
    "scaler.fit(features)\n",
    "features[:] = scaler.transform(features)"
   ],
   "metadata": {
    "collapsed": false,
    "pycharm": {
     "name": "#%%\n"
    }
   }
  },
  {
   "cell_type": "markdown",
   "source": [
    "## Split datasets"
   ],
   "metadata": {
    "collapsed": false,
    "pycharm": {
     "name": "#%% md\n"
    }
   }
  },
  {
   "cell_type": "code",
   "execution_count": 42,
   "outputs": [],
   "source": [
    "x_train, x_test, y_train, y_test = train_test_split(features, labels, random_state=1, test_size=0.1)"
   ],
   "metadata": {
    "collapsed": false,
    "pycharm": {
     "name": "#%%\n"
    }
   }
  },
  {
   "cell_type": "markdown",
   "source": [
    "## Cross validation"
   ],
   "metadata": {
    "collapsed": false,
    "pycharm": {
     "name": "#%% md\n"
    }
   }
  },
  {
   "cell_type": "code",
   "execution_count": null,
   "outputs": [
    {
     "name": "stdout",
     "output_type": "stream",
     "text": [
      "\n",
      "\n",
      "-------------This is fold 0----------------\n"
     ]
    }
   ],
   "source": [
    "kfold = KFold(n_splits=5, shuffle=True, random_state=1)\n",
    "torch.manual_seed(13)\n",
    "epochs = 1000\n",
    "\n",
    "for fold, (train_id, val_id) in enumerate(kfold.split(x_train.index)):\n",
    "    train_feature, train_label = x_train.iloc[train_id], y_train.iloc[train_id]\n",
    "    val_feature, val_label = x_train.iloc[val_id], y_train.iloc[val_id]\n",
    "    print(\"\\n\\n-------------This is fold {}----------------\".format(fold))\n",
    "\n",
    "    train_data = StatuePriceDataset(train_feature, train_label)\n",
    "    val_data = StatuePriceDataset(val_feature, val_label)\n",
    "    in_features = len(train_data[0][0])\n",
    "\n",
    "    train_sampler = create_weighted_sampler(train_label[\"Completed\"].values)\n",
    "    val_sampler = create_weighted_sampler(val_label[\"Completed\"].values)\n",
    "\n",
    "    train_loader = DataLoader(train_data, batch_size=16, shuffle=False, drop_last=True, sampler=train_sampler)\n",
    "    val_loader = DataLoader(val_data, batch_size=16, shuffle=False, drop_last=True, sampler=val_sampler)\n",
    "\n",
    "    model = PredictStatus(in_features).to(device)\n",
    "    optimizer = optim.Adam(model.parameters(), lr=5e-4)\n",
    "\n",
    "    train_validate = TrainValidate(model, nn.BCELoss(), optimizer)\n",
    "    train_validate.set_loader(train_loader, val_loader)\n",
    "    train_validate.train(epochs)\n",
    "\n",
    "    train_validate.save_model(\"models/status_ws_removed_full_no_freeze_fold_{}.pth\".format(fold))"
   ],
   "metadata": {
    "collapsed": false,
    "pycharm": {
     "name": "#%%\n"
    }
   }
  },
  {
   "cell_type": "markdown",
   "source": [
    "## Test performance (no freezing)"
   ],
   "metadata": {
    "collapsed": false,
    "pycharm": {
     "name": "#%% md\n"
    }
   }
  },
  {
   "cell_type": "code",
   "execution_count": 48,
   "outputs": [],
   "source": [
    "filename = \"models/status_ws_removed_full_no_freeze_fold_3.pth\"\n",
    "\n",
    "model = torch.load(filename, map_location=torch.device(\"cpu\"))\n",
    "model.eval()\n",
    "completed, labels = [], []\n",
    "test_data = StatuePriceDataset(x_test, y_test)\n",
    "test_loader = DataLoader(test_data, batch_size=16, shuffle=False, drop_last=False)\n",
    "\n",
    "for data in test_loader:\n",
    "    x, y = data\n",
    "    x = x.to(\"cpu\")\n",
    "    y = y.to(\"cpu\")\n",
    "\n",
    "    pred_com = model(x)\n",
    "    for item in pred_com.tolist():\n",
    "        completed.append(item[0])\n",
    "    for item in y.tolist():\n",
    "        labels.append(item[0])\n",
    "\n",
    "pred = pd.DataFrame({\"pred_completed\": completed, \"Truth\": labels})"
   ],
   "metadata": {
    "collapsed": false,
    "pycharm": {
     "name": "#%%\n"
    }
   }
  },
  {
   "cell_type": "code",
   "execution_count": 44,
   "outputs": [
    {
     "data": {
      "text/plain": "     pred_completed  Truth\n0          0.499242    0.0\n1          0.499242    1.0\n2          0.499242    1.0\n3          0.499242    1.0\n4          0.499242    1.0\n..              ...    ...\n895        0.499242    1.0\n896        0.499242    0.0\n897        0.499242    0.0\n898        0.499242    1.0\n899        0.499242    0.0\n\n[900 rows x 2 columns]",
      "text/html": "<div>\n<style scoped>\n    .dataframe tbody tr th:only-of-type {\n        vertical-align: middle;\n    }\n\n    .dataframe tbody tr th {\n        vertical-align: top;\n    }\n\n    .dataframe thead th {\n        text-align: right;\n    }\n</style>\n<table border=\"1\" class=\"dataframe\">\n  <thead>\n    <tr style=\"text-align: right;\">\n      <th></th>\n      <th>pred_completed</th>\n      <th>Truth</th>\n    </tr>\n  </thead>\n  <tbody>\n    <tr>\n      <th>0</th>\n      <td>0.499242</td>\n      <td>0.0</td>\n    </tr>\n    <tr>\n      <th>1</th>\n      <td>0.499242</td>\n      <td>1.0</td>\n    </tr>\n    <tr>\n      <th>2</th>\n      <td>0.499242</td>\n      <td>1.0</td>\n    </tr>\n    <tr>\n      <th>3</th>\n      <td>0.499242</td>\n      <td>1.0</td>\n    </tr>\n    <tr>\n      <th>4</th>\n      <td>0.499242</td>\n      <td>1.0</td>\n    </tr>\n    <tr>\n      <th>...</th>\n      <td>...</td>\n      <td>...</td>\n    </tr>\n    <tr>\n      <th>895</th>\n      <td>0.499242</td>\n      <td>1.0</td>\n    </tr>\n    <tr>\n      <th>896</th>\n      <td>0.499242</td>\n      <td>0.0</td>\n    </tr>\n    <tr>\n      <th>897</th>\n      <td>0.499242</td>\n      <td>0.0</td>\n    </tr>\n    <tr>\n      <th>898</th>\n      <td>0.499242</td>\n      <td>1.0</td>\n    </tr>\n    <tr>\n      <th>899</th>\n      <td>0.499242</td>\n      <td>0.0</td>\n    </tr>\n  </tbody>\n</table>\n<p>900 rows × 2 columns</p>\n</div>"
     },
     "execution_count": 44,
     "metadata": {},
     "output_type": "execute_result"
    }
   ],
   "source": [
    "pred"
   ],
   "metadata": {
    "collapsed": false,
    "pycharm": {
     "name": "#%%\n"
    }
   }
  },
  {
   "cell_type": "markdown",
   "source": [
    "# Predict status (append predicted prices)\n",
    "## Load model for predicting prices"
   ],
   "metadata": {
    "collapsed": false,
    "pycharm": {
     "name": "#%% md\n"
    }
   }
  },
  {
   "cell_type": "code",
   "execution_count": 6,
   "outputs": [],
   "source": [
    "class PredictPrice(nn.Module):\n",
    "    def __init__(self, in_features):\n",
    "        super().__init__()\n",
    "        self.in_features = in_features\n",
    "\n",
    "        self.hidden = nn.Sequential(nn.Linear(in_features, 128),\n",
    "                                    nn.ReLU(),\n",
    "                                    nn.Linear(128, 128),\n",
    "                                    nn.ReLU(),\n",
    "                                    nn.Linear(128, 256),\n",
    "                                    nn.ReLU(),\n",
    "                                    nn.Linear(256, 128),\n",
    "                                    nn.ReLU())\n",
    "        self.price = nn.Sequential(nn.Linear(128, 1),\n",
    "                                   nn.ReLU())\n",
    "\n",
    "    def forward(self, x):\n",
    "        x = self.hidden(x)\n",
    "        price = self.price(x)\n",
    "        return price.squeeze()"
   ],
   "metadata": {
    "collapsed": false,
    "pycharm": {
     "name": "#%%\n"
    }
   }
  },
  {
   "cell_type": "markdown",
   "source": [
    "## Load datasets"
   ],
   "metadata": {
    "collapsed": false,
    "pycharm": {
     "name": "#%% md\n"
    }
   }
  },
  {
   "cell_type": "code",
   "execution_count": 7,
   "outputs": [],
   "source": [
    "features = pd.read_csv(\"../datasets/final_features_removed.csv\")\n",
    "labels = pd.read_csv(\"../datasets/final_labels_removed.csv\")\n",
    "sources = pd.read_csv(\"../datasets/final_sources_removed.csv\")"
   ],
   "metadata": {
    "collapsed": false,
    "pycharm": {
     "name": "#%%\n"
    }
   }
  },
  {
   "cell_type": "markdown",
   "source": [
    "## Data standardization"
   ],
   "metadata": {
    "collapsed": false,
    "pycharm": {
     "name": "#%% md\n"
    }
   }
  },
  {
   "cell_type": "code",
   "execution_count": 8,
   "outputs": [],
   "source": [
    "scaler = StandardScaler()\n",
    "scaler.fit(features)\n",
    "features[:] = scaler.transform(features)"
   ],
   "metadata": {
    "collapsed": false,
    "pycharm": {
     "name": "#%%\n"
    }
   }
  },
  {
   "cell_type": "markdown",
   "source": [
    "## Predict prices"
   ],
   "metadata": {
    "collapsed": false,
    "pycharm": {
     "name": "#%% md\n"
    }
   }
  },
  {
   "cell_type": "code",
   "execution_count": 9,
   "outputs": [],
   "source": [
    "filename = \"models/all_removed_weighted_sampler_full_epoch_1000_fold_2.pth\"\n",
    "model = torch.load(filename, map_location=torch.device(\"cpu\"))\n",
    "model.eval()\n",
    "\n",
    "prices = []\n",
    "for i in range(len(features)):\n",
    "    feature = torch.tensor((features.iloc[i])).float()\n",
    "    pred_price = model(feature)\n",
    "    prices.append(pred_price.detach().item())\n",
    "\n",
    "pred = pd.DataFrame({\"PredictPrice\": prices, \"Price\": labels[\"Price / Rent\"]})"
   ],
   "metadata": {
    "collapsed": false,
    "pycharm": {
     "name": "#%%\n"
    }
   }
  },
  {
   "cell_type": "code",
   "execution_count": 10,
   "outputs": [
    {
     "data": {
      "text/plain": "       PredictPrice     Price\n0        625.755737     600.0\n1     389552.875000  380000.0\n2     474756.718750  475000.0\n3        733.294800     625.0\n4        880.092651     695.0\n...             ...       ...\n8990     769.316284    1200.0\n8991  334037.187500  340000.0\n8992  449794.281250  450000.0\n8993     689.302612     750.0\n8994       0.000000    1100.0\n\n[8995 rows x 2 columns]",
      "text/html": "<div>\n<style scoped>\n    .dataframe tbody tr th:only-of-type {\n        vertical-align: middle;\n    }\n\n    .dataframe tbody tr th {\n        vertical-align: top;\n    }\n\n    .dataframe thead th {\n        text-align: right;\n    }\n</style>\n<table border=\"1\" class=\"dataframe\">\n  <thead>\n    <tr style=\"text-align: right;\">\n      <th></th>\n      <th>PredictPrice</th>\n      <th>Price</th>\n    </tr>\n  </thead>\n  <tbody>\n    <tr>\n      <th>0</th>\n      <td>625.755737</td>\n      <td>600.0</td>\n    </tr>\n    <tr>\n      <th>1</th>\n      <td>389552.875000</td>\n      <td>380000.0</td>\n    </tr>\n    <tr>\n      <th>2</th>\n      <td>474756.718750</td>\n      <td>475000.0</td>\n    </tr>\n    <tr>\n      <th>3</th>\n      <td>733.294800</td>\n      <td>625.0</td>\n    </tr>\n    <tr>\n      <th>4</th>\n      <td>880.092651</td>\n      <td>695.0</td>\n    </tr>\n    <tr>\n      <th>...</th>\n      <td>...</td>\n      <td>...</td>\n    </tr>\n    <tr>\n      <th>8990</th>\n      <td>769.316284</td>\n      <td>1200.0</td>\n    </tr>\n    <tr>\n      <th>8991</th>\n      <td>334037.187500</td>\n      <td>340000.0</td>\n    </tr>\n    <tr>\n      <th>8992</th>\n      <td>449794.281250</td>\n      <td>450000.0</td>\n    </tr>\n    <tr>\n      <th>8993</th>\n      <td>689.302612</td>\n      <td>750.0</td>\n    </tr>\n    <tr>\n      <th>8994</th>\n      <td>0.000000</td>\n      <td>1100.0</td>\n    </tr>\n  </tbody>\n</table>\n<p>8995 rows × 2 columns</p>\n</div>"
     },
     "execution_count": 10,
     "metadata": {},
     "output_type": "execute_result"
    }
   ],
   "source": [
    "pred"
   ],
   "metadata": {
    "collapsed": false,
    "pycharm": {
     "name": "#%%\n"
    }
   }
  },
  {
   "cell_type": "markdown",
   "source": [
    "## Merge prices"
   ],
   "metadata": {
    "collapsed": false,
    "pycharm": {
     "name": "#%% md\n"
    }
   }
  },
  {
   "cell_type": "code",
   "execution_count": 11,
   "outputs": [],
   "source": [
    "features = pd.read_csv(\"../datasets/final_features_removed.csv\")\n",
    "labels = pd.read_csv(\"../datasets/final_labels_removed.csv\")\n",
    "sources = pd.read_csv(\"../datasets/final_sources_removed.csv\")"
   ],
   "metadata": {
    "collapsed": false,
    "pycharm": {
     "name": "#%%\n"
    }
   }
  },
  {
   "cell_type": "code",
   "execution_count": 12,
   "outputs": [
    {
     "data": {
      "text/plain": "      Postcode  Sale or Let  Price Qualifier  DESC Council Tax Band  \\\n0         3610            0                3                      1   \n1         3647            1                7                      3   \n2         3650            1                7                      4   \n3         3620            0                3                      0   \n4         3596            0                3                      1   \n...        ...          ...              ...                    ...   \n8990      4476            0                3                      3   \n8991      4443            1                6                      3   \n8992      4458            1                6                      5   \n8993       547            0                3                      0   \n8994      4448            0                3                      3   \n\n      RTD3316_condition1 - Condition Description  # of Enquiry or viewings  \\\n0                                              1                       0.0   \n1                                              1                       0.0   \n2                                              1                       0.0   \n3                                              1                       0.0   \n4                                              1                       0.0   \n...                                          ...                       ...   \n8990                                           1                       0.0   \n8991                                           1                       0.0   \n8992                                           1                       0.0   \n8993                                           1                       0.0   \n8994                                           1                       0.0   \n\n      # of Apps/Offers  bedroom number  kitchen number  living number  ...  \\\n0                  6.0               2               1              1  ...   \n1                  4.0               3               1              0  ...   \n2                  1.0               4               1              0  ...   \n3                  7.0               2               1              1  ...   \n4                  3.0               3               1              1  ...   \n...                ...             ...             ...            ...  ...   \n8990               0.0               3               1              2  ...   \n8991               1.0               3               1              1  ...   \n8992               0.0               4               1              0  ...   \n8993               2.0               1               1              0  ...   \n8994               3.0               2               1              0  ...   \n\n      Eco-Friendly  Electric  Gas  Gas Central  Night Storage  Oil  Solar  \\\n0                0         0    0            1              0    0      0   \n1                0         0    0            1              0    0      0   \n2                0         0    0            1              0    0      0   \n3                0         0    0            1              0    0      0   \n4                0         0    0            1              0    0      0   \n...            ...       ...  ...          ...            ...  ...    ...   \n8990             0         0    0            1              0    0      0   \n8991             0         0    0            1              0    0      0   \n8992             0         0    1            1              0    0      0   \n8993             0         0    1            1              0    0      0   \n8994             0         0    0            1              0    0      0   \n\n      Solar Water  Under Floor  Predict Price  \n0               0            0     625.755737  \n1               0            0  389552.875000  \n2               0            0  474756.718750  \n3               0            0     733.294800  \n4               0            0     880.092651  \n...           ...          ...            ...  \n8990            0            0     769.316284  \n8991            0            0  334037.187500  \n8992            0            0  449794.281250  \n8993            0            0     689.302612  \n8994            0            0       0.000000  \n\n[8995 rows x 52 columns]",
      "text/html": "<div>\n<style scoped>\n    .dataframe tbody tr th:only-of-type {\n        vertical-align: middle;\n    }\n\n    .dataframe tbody tr th {\n        vertical-align: top;\n    }\n\n    .dataframe thead th {\n        text-align: right;\n    }\n</style>\n<table border=\"1\" class=\"dataframe\">\n  <thead>\n    <tr style=\"text-align: right;\">\n      <th></th>\n      <th>Postcode</th>\n      <th>Sale or Let</th>\n      <th>Price Qualifier</th>\n      <th>DESC Council Tax Band</th>\n      <th>RTD3316_condition1 - Condition Description</th>\n      <th># of Enquiry or viewings</th>\n      <th># of Apps/Offers</th>\n      <th>bedroom number</th>\n      <th>kitchen number</th>\n      <th>living number</th>\n      <th>...</th>\n      <th>Eco-Friendly</th>\n      <th>Electric</th>\n      <th>Gas</th>\n      <th>Gas Central</th>\n      <th>Night Storage</th>\n      <th>Oil</th>\n      <th>Solar</th>\n      <th>Solar Water</th>\n      <th>Under Floor</th>\n      <th>Predict Price</th>\n    </tr>\n  </thead>\n  <tbody>\n    <tr>\n      <th>0</th>\n      <td>3610</td>\n      <td>0</td>\n      <td>3</td>\n      <td>1</td>\n      <td>1</td>\n      <td>0.0</td>\n      <td>6.0</td>\n      <td>2</td>\n      <td>1</td>\n      <td>1</td>\n      <td>...</td>\n      <td>0</td>\n      <td>0</td>\n      <td>0</td>\n      <td>1</td>\n      <td>0</td>\n      <td>0</td>\n      <td>0</td>\n      <td>0</td>\n      <td>0</td>\n      <td>625.755737</td>\n    </tr>\n    <tr>\n      <th>1</th>\n      <td>3647</td>\n      <td>1</td>\n      <td>7</td>\n      <td>3</td>\n      <td>1</td>\n      <td>0.0</td>\n      <td>4.0</td>\n      <td>3</td>\n      <td>1</td>\n      <td>0</td>\n      <td>...</td>\n      <td>0</td>\n      <td>0</td>\n      <td>0</td>\n      <td>1</td>\n      <td>0</td>\n      <td>0</td>\n      <td>0</td>\n      <td>0</td>\n      <td>0</td>\n      <td>389552.875000</td>\n    </tr>\n    <tr>\n      <th>2</th>\n      <td>3650</td>\n      <td>1</td>\n      <td>7</td>\n      <td>4</td>\n      <td>1</td>\n      <td>0.0</td>\n      <td>1.0</td>\n      <td>4</td>\n      <td>1</td>\n      <td>0</td>\n      <td>...</td>\n      <td>0</td>\n      <td>0</td>\n      <td>0</td>\n      <td>1</td>\n      <td>0</td>\n      <td>0</td>\n      <td>0</td>\n      <td>0</td>\n      <td>0</td>\n      <td>474756.718750</td>\n    </tr>\n    <tr>\n      <th>3</th>\n      <td>3620</td>\n      <td>0</td>\n      <td>3</td>\n      <td>0</td>\n      <td>1</td>\n      <td>0.0</td>\n      <td>7.0</td>\n      <td>2</td>\n      <td>1</td>\n      <td>1</td>\n      <td>...</td>\n      <td>0</td>\n      <td>0</td>\n      <td>0</td>\n      <td>1</td>\n      <td>0</td>\n      <td>0</td>\n      <td>0</td>\n      <td>0</td>\n      <td>0</td>\n      <td>733.294800</td>\n    </tr>\n    <tr>\n      <th>4</th>\n      <td>3596</td>\n      <td>0</td>\n      <td>3</td>\n      <td>1</td>\n      <td>1</td>\n      <td>0.0</td>\n      <td>3.0</td>\n      <td>3</td>\n      <td>1</td>\n      <td>1</td>\n      <td>...</td>\n      <td>0</td>\n      <td>0</td>\n      <td>0</td>\n      <td>1</td>\n      <td>0</td>\n      <td>0</td>\n      <td>0</td>\n      <td>0</td>\n      <td>0</td>\n      <td>880.092651</td>\n    </tr>\n    <tr>\n      <th>...</th>\n      <td>...</td>\n      <td>...</td>\n      <td>...</td>\n      <td>...</td>\n      <td>...</td>\n      <td>...</td>\n      <td>...</td>\n      <td>...</td>\n      <td>...</td>\n      <td>...</td>\n      <td>...</td>\n      <td>...</td>\n      <td>...</td>\n      <td>...</td>\n      <td>...</td>\n      <td>...</td>\n      <td>...</td>\n      <td>...</td>\n      <td>...</td>\n      <td>...</td>\n      <td>...</td>\n    </tr>\n    <tr>\n      <th>8990</th>\n      <td>4476</td>\n      <td>0</td>\n      <td>3</td>\n      <td>3</td>\n      <td>1</td>\n      <td>0.0</td>\n      <td>0.0</td>\n      <td>3</td>\n      <td>1</td>\n      <td>2</td>\n      <td>...</td>\n      <td>0</td>\n      <td>0</td>\n      <td>0</td>\n      <td>1</td>\n      <td>0</td>\n      <td>0</td>\n      <td>0</td>\n      <td>0</td>\n      <td>0</td>\n      <td>769.316284</td>\n    </tr>\n    <tr>\n      <th>8991</th>\n      <td>4443</td>\n      <td>1</td>\n      <td>6</td>\n      <td>3</td>\n      <td>1</td>\n      <td>0.0</td>\n      <td>1.0</td>\n      <td>3</td>\n      <td>1</td>\n      <td>1</td>\n      <td>...</td>\n      <td>0</td>\n      <td>0</td>\n      <td>0</td>\n      <td>1</td>\n      <td>0</td>\n      <td>0</td>\n      <td>0</td>\n      <td>0</td>\n      <td>0</td>\n      <td>334037.187500</td>\n    </tr>\n    <tr>\n      <th>8992</th>\n      <td>4458</td>\n      <td>1</td>\n      <td>6</td>\n      <td>5</td>\n      <td>1</td>\n      <td>0.0</td>\n      <td>0.0</td>\n      <td>4</td>\n      <td>1</td>\n      <td>0</td>\n      <td>...</td>\n      <td>0</td>\n      <td>0</td>\n      <td>1</td>\n      <td>1</td>\n      <td>0</td>\n      <td>0</td>\n      <td>0</td>\n      <td>0</td>\n      <td>0</td>\n      <td>449794.281250</td>\n    </tr>\n    <tr>\n      <th>8993</th>\n      <td>547</td>\n      <td>0</td>\n      <td>3</td>\n      <td>0</td>\n      <td>1</td>\n      <td>0.0</td>\n      <td>2.0</td>\n      <td>1</td>\n      <td>1</td>\n      <td>0</td>\n      <td>...</td>\n      <td>0</td>\n      <td>0</td>\n      <td>1</td>\n      <td>1</td>\n      <td>0</td>\n      <td>0</td>\n      <td>0</td>\n      <td>0</td>\n      <td>0</td>\n      <td>689.302612</td>\n    </tr>\n    <tr>\n      <th>8994</th>\n      <td>4448</td>\n      <td>0</td>\n      <td>3</td>\n      <td>3</td>\n      <td>1</td>\n      <td>0.0</td>\n      <td>3.0</td>\n      <td>2</td>\n      <td>1</td>\n      <td>0</td>\n      <td>...</td>\n      <td>0</td>\n      <td>0</td>\n      <td>0</td>\n      <td>1</td>\n      <td>0</td>\n      <td>0</td>\n      <td>0</td>\n      <td>0</td>\n      <td>0</td>\n      <td>0.000000</td>\n    </tr>\n  </tbody>\n</table>\n<p>8995 rows × 52 columns</p>\n</div>"
     },
     "execution_count": 12,
     "metadata": {},
     "output_type": "execute_result"
    }
   ],
   "source": [
    "features[\"Predict Price\"] = pred[\"PredictPrice\"]\n",
    "features"
   ],
   "metadata": {
    "collapsed": false,
    "pycharm": {
     "name": "#%%\n"
    }
   }
  },
  {
   "cell_type": "code",
   "execution_count": 29,
   "outputs": [],
   "source": [
    "class PredictStatus(nn.Module):\n",
    "    def __init__(self, in_features):\n",
    "        super(PredictStatus, self).__init__()\n",
    "\n",
    "        self.hidden = nn.Sequential(nn.Linear(in_features, 256),\n",
    "                                    nn.BatchNorm1d(256),\n",
    "                                    nn.ReLU(),\n",
    "                                    nn.Linear(256, 512),\n",
    "                                    nn.BatchNorm1d(512),\n",
    "                                    nn.Dropout(0.5),\n",
    "                                    nn.ReLU(),\n",
    "                                    nn.Linear(512, 1024),\n",
    "                                    nn.BatchNorm1d(1024),\n",
    "                                    nn.ReLU(),\n",
    "                                    nn.Linear(1024, 256),\n",
    "                                    nn.BatchNorm1d(256),\n",
    "                                    nn.Dropout(0.5),\n",
    "                                    nn.ReLU(),\n",
    "                                    nn.Linear(256, 64),\n",
    "                                    nn.BatchNorm1d(64),\n",
    "                                    nn.Dropout(0.5),\n",
    "                                    nn.ReLU())\n",
    "        self.status = nn.Sequential(nn.Linear(64, 1),\n",
    "                                    nn.Sigmoid())\n",
    "\n",
    "    def forward(self, x):\n",
    "        hidden = self.hidden(x)\n",
    "        out = self.status(hidden)\n",
    "\n",
    "        return out"
   ],
   "metadata": {
    "collapsed": false,
    "pycharm": {
     "name": "#%%\n"
    }
   }
  },
  {
   "cell_type": "code",
   "execution_count": 14,
   "outputs": [
    {
     "data": {
      "text/plain": "53"
     },
     "execution_count": 14,
     "metadata": {},
     "output_type": "execute_result"
    }
   ],
   "source": [
    "temp = StatuePriceDataset(features, labels)\n",
    "in_features = len(temp[0][0])\n",
    "in_features"
   ],
   "metadata": {
    "collapsed": false,
    "pycharm": {
     "name": "#%%\n"
    }
   }
  },
  {
   "cell_type": "markdown",
   "source": [
    "## Data standardization"
   ],
   "metadata": {
    "collapsed": false,
    "pycharm": {
     "name": "#%% md\n"
    }
   }
  },
  {
   "cell_type": "code",
   "execution_count": 15,
   "outputs": [],
   "source": [
    "scaler = StandardScaler()\n",
    "scaler.fit(features)\n",
    "features[:] = scaler.transform(features)"
   ],
   "metadata": {
    "collapsed": false,
    "pycharm": {
     "name": "#%%\n"
    }
   }
  },
  {
   "cell_type": "markdown",
   "source": [
    "## Split datasets"
   ],
   "metadata": {
    "collapsed": false,
    "pycharm": {
     "name": "#%% md\n"
    }
   }
  },
  {
   "cell_type": "code",
   "execution_count": 16,
   "outputs": [],
   "source": [
    "x_train, x_test, y_train, y_test = train_test_split(features, labels, random_state=1, test_size=0.1)"
   ],
   "metadata": {
    "collapsed": false,
    "pycharm": {
     "name": "#%%\n"
    }
   }
  },
  {
   "cell_type": "markdown",
   "source": [
    "## Cross validation"
   ],
   "metadata": {
    "collapsed": false,
    "pycharm": {
     "name": "#%% md\n"
    }
   }
  },
  {
   "cell_type": "code",
   "execution_count": null,
   "outputs": [],
   "source": [
    "kfold = KFold(n_splits=5, shuffle=True, random_state=1)\n",
    "torch.manual_seed(13)\n",
    "epochs = 1000\n",
    "\n",
    "for fold, (train_id, val_id) in enumerate(kfold.split(x_train.index)):\n",
    "    train_feature, train_label = x_train.iloc[train_id], y_train.iloc[train_id]\n",
    "    val_feature, val_label = x_train.iloc[val_id], y_train.iloc[val_id]\n",
    "    print(\"\\n\\n-------------This is fold {}----------------\".format(fold))\n",
    "\n",
    "    train_data = StatuePriceDataset(train_feature, train_label)\n",
    "    val_data = StatuePriceDataset(val_feature, val_label)\n",
    "    in_features = len(train_data[0][0])\n",
    "\n",
    "    train_sampler = create_weighted_sampler(train_label[\"Completed\"].values)\n",
    "    val_sampler = create_weighted_sampler(val_label[\"Completed\"].values)\n",
    "\n",
    "    train_loader = DataLoader(train_data, batch_size=16, shuffle=False, drop_last=True, sampler=train_sampler)\n",
    "    val_loader = DataLoader(val_data, batch_size=16, shuffle=False, drop_last=True, sampler=val_sampler)\n",
    "\n",
    "    model = PredictStatus(in_features).to(device)\n",
    "    optimizer = optim.Adam(model.parameters(), lr=5e-4)\n",
    "\n",
    "    train_validate = TrainValidate(model, nn.BCELoss(), optimizer)\n",
    "    train_validate.set_loader(train_loader, val_loader)\n",
    "    train_validate.train(epochs)\n",
    "\n",
    "    train_validate.save_model(\"models/status_append_ws_removed_full_no_freeze_fold_{}.pth\".format(fold))"
   ],
   "metadata": {
    "collapsed": false,
    "pycharm": {
     "name": "#%%\n"
    }
   }
  },
  {
   "cell_type": "markdown",
   "source": [
    "## Test performance (append predictions)"
   ],
   "metadata": {
    "collapsed": false,
    "pycharm": {
     "name": "#%% md\n"
    }
   }
  },
  {
   "cell_type": "code",
   "execution_count": 105,
   "outputs": [],
   "source": [
    "filename = \"models/status_append_ws_removed_full_no_freeze_fold_2.pth\"\n",
    "\n",
    "model = torch.load(filename, map_location=torch.device(\"cpu\"))\n",
    "model.eval()\n",
    "completed, labels = [], []\n",
    "test_data = StatuePriceDataset(x_test, y_test)\n",
    "test_loader = DataLoader(test_data, batch_size=16, shuffle=False, drop_last=False)\n",
    "\n",
    "for data in test_loader:\n",
    "    x, y = data\n",
    "    x = x.to(\"cpu\")\n",
    "    y = y.to(\"cpu\")\n",
    "\n",
    "    pred_com = model(x)\n",
    "    pred_com = torch.where(pred_com > 0.5, 1.0, 0.0)\n",
    "    for item in pred_com.tolist():\n",
    "        completed.append(item[0])\n",
    "    for item in y.tolist():\n",
    "        labels.append(item[0])\n",
    "\n",
    "pred = pd.DataFrame({\"pred_completed\": completed, \"Truth\": labels})"
   ],
   "metadata": {
    "collapsed": false,
    "pycharm": {
     "name": "#%%\n"
    }
   }
  },
  {
   "cell_type": "code",
   "execution_count": 106,
   "outputs": [
    {
     "data": {
      "text/plain": "     pred_completed  Truth\n0               1.0    0.0\n1               0.0    1.0\n2               0.0    1.0\n3               0.0    1.0\n4               1.0    1.0\n..              ...    ...\n895             1.0    1.0\n896             1.0    0.0\n897             1.0    0.0\n898             1.0    1.0\n899             0.0    0.0\n\n[900 rows x 2 columns]",
      "text/html": "<div>\n<style scoped>\n    .dataframe tbody tr th:only-of-type {\n        vertical-align: middle;\n    }\n\n    .dataframe tbody tr th {\n        vertical-align: top;\n    }\n\n    .dataframe thead th {\n        text-align: right;\n    }\n</style>\n<table border=\"1\" class=\"dataframe\">\n  <thead>\n    <tr style=\"text-align: right;\">\n      <th></th>\n      <th>pred_completed</th>\n      <th>Truth</th>\n    </tr>\n  </thead>\n  <tbody>\n    <tr>\n      <th>0</th>\n      <td>1.0</td>\n      <td>0.0</td>\n    </tr>\n    <tr>\n      <th>1</th>\n      <td>0.0</td>\n      <td>1.0</td>\n    </tr>\n    <tr>\n      <th>2</th>\n      <td>0.0</td>\n      <td>1.0</td>\n    </tr>\n    <tr>\n      <th>3</th>\n      <td>0.0</td>\n      <td>1.0</td>\n    </tr>\n    <tr>\n      <th>4</th>\n      <td>1.0</td>\n      <td>1.0</td>\n    </tr>\n    <tr>\n      <th>...</th>\n      <td>...</td>\n      <td>...</td>\n    </tr>\n    <tr>\n      <th>895</th>\n      <td>1.0</td>\n      <td>1.0</td>\n    </tr>\n    <tr>\n      <th>896</th>\n      <td>1.0</td>\n      <td>0.0</td>\n    </tr>\n    <tr>\n      <th>897</th>\n      <td>1.0</td>\n      <td>0.0</td>\n    </tr>\n    <tr>\n      <th>898</th>\n      <td>1.0</td>\n      <td>1.0</td>\n    </tr>\n    <tr>\n      <th>899</th>\n      <td>0.0</td>\n      <td>0.0</td>\n    </tr>\n  </tbody>\n</table>\n<p>900 rows × 2 columns</p>\n</div>"
     },
     "execution_count": 106,
     "metadata": {},
     "output_type": "execute_result"
    }
   ],
   "source": [
    "pred"
   ],
   "metadata": {
    "collapsed": false,
    "pycharm": {
     "name": "#%%\n"
    }
   }
  },
  {
   "cell_type": "code",
   "execution_count": 111,
   "outputs": [
    {
     "data": {
      "text/plain": "(array([0, 1]), array([285, 615]))"
     },
     "execution_count": 111,
     "metadata": {},
     "output_type": "execute_result"
    }
   ],
   "source": [
    "classes, count = np.unique(y_test[\"Completed\"].values, return_counts=True)\n",
    "classes, count"
   ],
   "metadata": {
    "collapsed": false,
    "pycharm": {
     "name": "#%%\n"
    }
   }
  },
  {
   "cell_type": "code",
   "execution_count": 112,
   "outputs": [
    {
     "data": {
      "text/plain": "[Text(0, 0.5, 'Not Completed'), Text(0, 1.5, 'Completed')]"
     },
     "execution_count": 112,
     "metadata": {},
     "output_type": "execute_result"
    },
    {
     "data": {
      "text/plain": "<Figure size 432x288 with 2 Axes>",
      "image/png": "[encoded data removed]"
     },
     "metadata": {},
     "output_type": "display_data"
    }
   ],
   "source": [
    "cm = confusion_matrix(pred[\"pred_completed\"], pred[\"Truth\"])\n",
    "ax = plt.subplot()\n",
    "sns.heatmap(cm, annot=True, fmt='g')\n",
    "plt.xlabel(\"Prediction\")\n",
    "plt.ylabel(\"Truth\")\n",
    "plt.title(\"Confusion Matrix\")\n",
    "ax.xaxis.set_ticklabels(['Not Completed', 'Completed'])\n",
    "ax.yaxis.set_ticklabels(['Not Completed', 'Completed'])"
   ],
   "metadata": {
    "collapsed": false,
    "pycharm": {
     "name": "#%%\n"
    }
   }
  },
  {
   "cell_type": "code",
   "execution_count": 113,
   "outputs": [
    {
     "name": "stdout",
     "output_type": "stream",
     "text": [
      "Accuracy:  0.7188888888888889\n",
      "Precision:  0.8113821138211382\n",
      "Recall:  0.7845911949685535\n",
      "F1 score: 0.797761790567546\n"
     ]
    }
   ],
   "source": [
    "print(\"Accuracy: \", accuracy_score(pred[\"pred_completed\"], pred[\"Truth\"]))\n",
    "print(\"Precision: \", precision_score(pred[\"pred_completed\"], pred[\"Truth\"]))\n",
    "print(\"Recall: \", recall_score(pred[\"pred_completed\"], pred[\"Truth\"]))\n",
    "print(\"F1 score:\", f1_score(pred[\"pred_completed\"], pred[\"Truth\"]))"
   ],
   "metadata": {
    "collapsed": false,
    "pycharm": {
     "name": "#%%\n"
    }
   }
  },
  {
   "cell_type": "code",
   "execution_count": null,
   "outputs": [],
   "source": [],
   "metadata": {
    "collapsed": false,
    "pycharm": {
     "name": "#%%\n"
    }
   }
  }
 ],
 "metadata": {
  "kernelspec": {
   "display_name": "Python 3",
   "language": "python",
   "name": "python3"
  },
  "language_info": {
   "codemirror_mode": {
    "name": "ipython",
    "version": 2
   },
   "file_extension": ".py",
   "mimetype": "text/x-python",
   "name": "python",
   "nbconvert_exporter": "python",
   "pygments_lexer": "ipython2",
   "version": "2.7.6"
  }
 },
 "nbformat": 4,
 "nbformat_minor": 0
}