{
 "cells": [
  {
   "cell_type": "markdown",
   "source": [
    "# Colab commands"
   ],
   "metadata": {
    "collapsed": false,
    "pycharm": {
     "name": "#%% md\n"
    }
   }
  },
  {
   "cell_type": "code",
   "execution_count": 1,
   "outputs": [
    {
     "ename": "ModuleNotFoundError",
     "evalue": "No module named 'google.colab'",
     "output_type": "error",
     "traceback": [
      "\u001B[0;31m---------------------------------------------------------------------------\u001B[0m",
      "\u001B[0;31mModuleNotFoundError\u001B[0m                       Traceback (most recent call last)",
      "Input \u001B[0;32mIn [1]\u001B[0m, in \u001B[0;36m<cell line: 1>\u001B[0;34m()\u001B[0m\n\u001B[0;32m----> 1\u001B[0m \u001B[38;5;28;01mfrom\u001B[39;00m \u001B[38;5;21;01mgoogle\u001B[39;00m\u001B[38;5;21;01m.\u001B[39;00m\u001B[38;5;21;01mcolab\u001B[39;00m \u001B[38;5;28;01mimport\u001B[39;00m drive\n\u001B[1;32m      2\u001B[0m drive\u001B[38;5;241m.\u001B[39mmount(\u001B[38;5;124m'\u001B[39m\u001B[38;5;124m/content/drive\u001B[39m\u001B[38;5;124m'\u001B[39m)\n",
      "\u001B[0;31mModuleNotFoundError\u001B[0m: No module named 'google.colab'"
     ]
    }
   ],
   "source": [
    "from google.colab import drive\n",
    "drive.mount('/content/drive')"
   ],
   "metadata": {
    "collapsed": false,
    "pycharm": {
     "name": "#%%\n"
    }
   }
  },
  {
   "cell_type": "code",
   "execution_count": null,
   "outputs": [],
   "source": [
    "!cp /content/drive/MyDrive/Colab\\ Notebooks/build_model/TrainValidate.py /content\n",
    "!cp /content/drive/MyDrive/Colab\\ Notebooks/datasets/final_features_removed.csv /content\n",
    "!cp /content/drive/MyDrive/Colab\\ Notebooks/datasets/final_labels_removed.csv /content\n",
    "!cp /content/drive/MyDrive/Colab\\ Notebooks/datasets/final_sources_removed.csv /content\n",
    "!cp /content/drive/MyDrive/all_removed_weighted_sampler_full_epoch_1000_fold_2.pth /content\n",
    "!cp /content/drive/MyDrive/Colab\\ Notebooks/datasets/final_features_prices.csv /content\n",
    "!mkdir /content/models"
   ],
   "metadata": {
    "collapsed": false,
    "pycharm": {
     "name": "#%%\n"
    }
   }
  },
  {
   "cell_type": "code",
   "execution_count": null,
   "outputs": [],
   "source": [
    "!pip install --quiet torchinfo\n",
    "!pip install --quiet torch_snippets"
   ],
   "metadata": {
    "collapsed": false,
    "pycharm": {
     "name": "#%%\n"
    }
   }
  },
  {
   "cell_type": "markdown",
   "source": [
    "# Import packages"
   ],
   "metadata": {
    "collapsed": false,
    "pycharm": {
     "name": "#%% md\n"
    }
   }
  },
  {
   "cell_type": "code",
   "execution_count": 8,
   "outputs": [],
   "source": [
    "import numpy as np\n",
    "import pandas as pd\n",
    "import seaborn as sns\n",
    "\n",
    "import torch\n",
    "from torch import nn\n",
    "from torch import optim\n",
    "from torch.utils.data import DataLoader, Dataset, WeightedRandomSampler\n",
    "from torch.utils.tensorboard import SummaryWriter\n",
    "\n",
    "import torchinfo\n",
    "from torch_snippets import Report\n",
    "from matplotlib import pyplot as plt\n",
    "from sklearn.preprocessing import LabelEncoder, StandardScaler, MinMaxScaler, RobustScaler\n",
    "from sklearn.model_selection import train_test_split, KFold\n",
    "from sklearn.metrics import mean_absolute_error, mean_squared_error, r2_score\n",
    "from TrainValidate import TrainValidate, create_weighted_sampler\n",
    "\n",
    "device = \"cpu\"\n",
    "if torch.cuda.is_available():\n",
    "    device = \"cuda\"\n",
    "elif torch.has_mps:\n",
    "    device = \"mps\""
   ],
   "metadata": {
    "collapsed": false,
    "pycharm": {
     "name": "#%%\n"
    }
   }
  },
  {
   "cell_type": "code",
   "execution_count": 9,
   "outputs": [
    {
     "data": {
      "text/plain": "'mps'"
     },
     "execution_count": 9,
     "metadata": {},
     "output_type": "execute_result"
    }
   ],
   "source": [
    "device"
   ],
   "metadata": {
    "collapsed": false,
    "pycharm": {
     "name": "#%%\n"
    }
   }
  },
  {
   "cell_type": "markdown",
   "source": [
    "# Class for collecting data"
   ],
   "metadata": {
    "collapsed": false,
    "pycharm": {
     "name": "#%% md\n"
    }
   }
  },
  {
   "cell_type": "code",
   "execution_count": 10,
   "outputs": [],
   "source": [
    "class PriceDataset(Dataset):\n",
    "    def __init__(self, features, labels):\n",
    "        assert len(features) == len(labels)\n",
    "        self.features = features\n",
    "        self.labels = labels\n",
    "\n",
    "    def __getitem__(self, item):\n",
    "        features = self.features.to_numpy()[item]\n",
    "        features = torch.tensor(features).float().to(device)\n",
    "\n",
    "        labels = self.labels.to_numpy()[item]\n",
    "        price = torch.tensor(labels[1]).float().to(device)\n",
    "\n",
    "        return features, price\n",
    "\n",
    "    def __len__(self):\n",
    "        return len(self.features)"
   ],
   "metadata": {
    "collapsed": false,
    "pycharm": {
     "name": "#%%\n"
    }
   }
  },
  {
   "cell_type": "markdown",
   "source": [
    "# Build the model"
   ],
   "metadata": {
    "collapsed": false,
    "pycharm": {
     "name": "#%% md\n"
    }
   }
  },
  {
   "cell_type": "code",
   "execution_count": 11,
   "outputs": [],
   "source": [
    "class PredictPrice(nn.Module):\n",
    "    def __init__(self, in_features):\n",
    "        super().__init__()\n",
    "        self.in_features = in_features\n",
    "\n",
    "        self.hidden = nn.Sequential(nn.Linear(in_features, 128),\n",
    "                                    nn.ReLU(),\n",
    "                                    nn.Linear(128, 128),\n",
    "                                    nn.ReLU(),\n",
    "                                    nn.Linear(128, 256),\n",
    "                                    nn.ReLU(),\n",
    "                                    nn.Linear(256, 128),\n",
    "                                    nn.ReLU())\n",
    "        self.price = nn.Sequential(nn.Linear(128, 1),\n",
    "                                   nn.ReLU())\n",
    "\n",
    "    def forward(self, x):\n",
    "        x = self.hidden(x)\n",
    "        price = self.price(x)\n",
    "        return price"
   ],
   "metadata": {
    "collapsed": false,
    "pycharm": {
     "name": "#%%\n"
    }
   }
  },
  {
   "cell_type": "markdown",
   "source": [
    "# Prepare data"
   ],
   "metadata": {
    "collapsed": false,
    "pycharm": {
     "name": "#%% md\n"
    }
   }
  },
  {
   "cell_type": "code",
   "execution_count": 12,
   "outputs": [],
   "source": [
    "features = pd.read_csv(\"../datasets/final_features_removed.csv\")\n",
    "labels = pd.read_csv(\"../datasets/final_labels_removed.csv\")\n",
    "\n",
    "# remove feature\n",
    "features = features.loc[:, features.columns != \"Postcode\"]\n",
    "\n",
    "scaler = StandardScaler()\n",
    "scaler.fit(features)\n",
    "features[:] = scaler.transform(features)\n",
    "\n",
    "x_train, x_test, y_train, y_test = train_test_split(features, labels, random_state=1, test_size=0.1)"
   ],
   "metadata": {
    "collapsed": false,
    "pycharm": {
     "name": "#%%\n"
    }
   }
  },
  {
   "cell_type": "markdown",
   "source": [
    "# Train the model"
   ],
   "metadata": {
    "collapsed": false,
    "pycharm": {
     "name": "#%% md\n"
    }
   }
  },
  {
   "cell_type": "code",
   "execution_count": null,
   "outputs": [],
   "source": [
    "kfold = KFold(n_splits=5, shuffle=True, random_state=1)\n",
    "in_features = len(x_train.iloc[0])\n",
    "epochs = 1000\n",
    "\n",
    "for fold, (train_id, val_id) in enumerate(kfold.split(x_train.index)):\n",
    "    train_feature, train_label = x_train.iloc[train_id], y_train.iloc[train_id]\n",
    "    val_feature, val_label = x_train.iloc[val_id], y_train.iloc[val_id]\n",
    "    print(\"\\n\\n-------------This is fold {}----------------\".format(fold))\n",
    "\n",
    "    train_data = PriceDataset(train_feature, train_label)\n",
    "    val_data = PriceDataset(val_feature, val_label)\n",
    "\n",
    "    train_sampler = create_weighted_sampler(train_feature[\"Sale or Let\"].values)\n",
    "    val_sampler = create_weighted_sampler(val_feature[\"Sale or Let\"].values)\n",
    "\n",
    "    train_loader = DataLoader(train_data, batch_size=32, drop_last=True, sampler=train_sampler)\n",
    "    val_loader = DataLoader(val_data, batch_size=32, drop_last=True, sampler=val_sampler)\n",
    "\n",
    "    model = PredictPrice(in_features).to(device)\n",
    "    optimizer = optim.Adam(model.parameters(), lr=1e-3)\n",
    "\n",
    "    train_validate = TrainValidate(model, nn.MSELoss(), optimizer)\n",
    "    train_validate.set_loader(train_loader, val_loader)\n",
    "    train_validate.train(epochs)\n",
    "\n",
    "    train_validate.save_model(\"models/price_ablation_postcode_fold_{}.pth\".format(fold))"
   ],
   "metadata": {
    "collapsed": false,
    "pycharm": {
     "name": "#%%\n"
    }
   }
  },
  {
   "cell_type": "markdown",
   "source": [
    "# Test performance"
   ],
   "metadata": {
    "collapsed": false,
    "pycharm": {
     "name": "#%% md\n"
    }
   }
  },
  {
   "cell_type": "code",
   "execution_count": null,
   "outputs": [],
   "source": [
    "filename = \"models/price_ablation_postcode_fold_0.pth\"\n",
    "\n",
    "model = torch.load(filename, map_location=torch.device(\"cpu\"))\n",
    "model.eval()\n",
    "\n",
    "prices = []\n",
    "for i in range(len(x_test)):\n",
    "    feature = torch.tensor((x_test.iloc[i])).float()\n",
    "    pred_price = model(feature)\n",
    "    prices.append(pred_price.detach().item())\n",
    "\n",
    "pred = pd.DataFrame({\"PredictPrice\": prices, \"Price\": y_test[\"Price / Rent\"]})\n",
    "\n",
    "error = []\n",
    "for i in range(len(pred)):\n",
    "    truth = pred[\"Price\"].iloc[i]\n",
    "    predict = pred[\"PredictPrice\"].iloc[i]\n",
    "    error.append(abs(truth - predict) / truth)\n",
    "\n",
    "avg_error = sum(error) / len(error)\n",
    "error = pd.DataFrame({\"Error\": error})\n",
    "error = error.rename(index={i: j for i, j in zip(error.index, pred.index)})\n",
    "pred = pd.concat([pred, error], axis=1)\n",
    "pred"
   ],
   "metadata": {
    "collapsed": false,
    "pycharm": {
     "name": "#%%\n"
    }
   }
  },
  {
   "cell_type": "code",
   "execution_count": null,
   "outputs": [],
   "source": [
    "print(\"MAE: \", mean_absolute_error(y_test[\"Price / Rent\"], prices))\n",
    "print(\"MSE: \", mean_squared_error(y_test[\"Price / Rent\"], prices))\n",
    "print(\"R2:\", r2_score(y_test[\"Price / Rent\"], prices))"
   ],
   "metadata": {
    "collapsed": false,
    "pycharm": {
     "name": "#%%\n"
    }
   }
  }
 ],
 "metadata": {
  "kernelspec": {
   "display_name": "Python 3",
   "language": "python",
   "name": "python3"
  },
  "language_info": {
   "codemirror_mode": {
    "name": "ipython",
    "version": 2
   },
   "file_extension": ".py",
   "mimetype": "text/x-python",
   "name": "python",
   "nbconvert_exporter": "python",
   "pygments_lexer": "ipython2",
   "version": "2.7.6"
  }
 },
 "nbformat": 4,
 "nbformat_minor": 0
}