{
 "cells": [
  {
   "cell_type": "markdown",
   "source": [
    "# Import packages"
   ],
   "metadata": {
    "collapsed": false,
    "pycharm": {
     "name": "#%% md\n"
    }
   }
  },
  {
   "cell_type": "code",
   "execution_count": 2,
   "outputs": [
    {
     "name": "stderr",
     "output_type": "stream",
     "text": [
      "/Users/luowx0905/opt/anaconda3/envs/ML_m1/lib/python3.8/site-packages/tqdm/auto.py:22: TqdmWarning: IProgress not found. Please update jupyter and ipywidgets. See https://ipywidgets.readthedocs.io/en/stable/user_install.html\n",
      "  from .autonotebook import tqdm as notebook_tqdm\n"
     ]
    }
   ],
   "source": [
    "import numpy as np\n",
    "import pandas as pd\n",
    "import seaborn as sns\n",
    "\n",
    "import torch\n",
    "from torch import nn\n",
    "from torch import optim\n",
    "from torch.utils.data import DataLoader, Dataset, WeightedRandomSampler\n",
    "from torch.utils.tensorboard import SummaryWriter\n",
    "\n",
    "import torchinfo\n",
    "from torch_snippets import Report\n",
    "from matplotlib import pyplot as plt\n",
    "from sklearn.preprocessing import LabelEncoder, StandardScaler, MinMaxScaler, RobustScaler\n",
    "from sklearn.model_selection import train_test_split, KFold\n",
    "from sklearn.decomposition import PCA\n",
    "from sklearn.metrics import confusion_matrix, accuracy_score, precision_score, recall_score, f1_score\n",
    "from TrainValidate import TrainValidate, create_weighted_sampler\n",
    "\n",
    "device = \"cpu\"\n",
    "if torch.cuda.is_available():\n",
    "    device = \"cuda\"\n",
    "elif torch.has_mps:\n",
    "    device = \"mps\""
   ],
   "metadata": {
    "collapsed": false,
    "pycharm": {
     "name": "#%%\n"
    }
   }
  },
  {
   "cell_type": "code",
   "execution_count": 3,
   "outputs": [
    {
     "data": {
      "text/plain": "'mps'"
     },
     "execution_count": 3,
     "metadata": {},
     "output_type": "execute_result"
    }
   ],
   "source": [
    "device"
   ],
   "metadata": {
    "collapsed": false,
    "pycharm": {
     "name": "#%%\n"
    }
   }
  },
  {
   "cell_type": "markdown",
   "source": [
    "# Load datasets"
   ],
   "metadata": {
    "collapsed": false,
    "pycharm": {
     "name": "#%% md\n"
    }
   }
  },
  {
   "cell_type": "code",
   "execution_count": 4,
   "outputs": [],
   "source": [
    "features = pd.read_csv(\"../datasets/final_features_prices.csv\")\n",
    "labels = pd.read_csv(\"../datasets/final_labels_removed.csv\")"
   ],
   "metadata": {
    "collapsed": false,
    "pycharm": {
     "name": "#%%\n"
    }
   }
  },
  {
   "cell_type": "markdown",
   "source": [
    "# Build model"
   ],
   "metadata": {
    "collapsed": false,
    "pycharm": {
     "name": "#%% md\n"
    }
   }
  },
  {
   "cell_type": "code",
   "execution_count": 5,
   "outputs": [],
   "source": [
    "class PredictStatus(nn.Module):\n",
    "    def __init__(self, in_features):\n",
    "        super(PredictStatus, self).__init__()\n",
    "\n",
    "        self.block1 = nn.Sequential(nn.Linear(in_features, 256),\n",
    "                               #nn.BatchNorm1d(256),\n",
    "                               nn.ReLU())\n",
    "        self.block2 = nn.Sequential(nn.Linear(256, 512),\n",
    "                               #nn.BatchNorm1d(512),\n",
    "                               nn.Dropout(0.5),\n",
    "                               nn.ReLU())\n",
    "        self.block3 = nn.Sequential(nn.Linear(512, 1024),\n",
    "                               #nn.BatchNorm1d(1024),\n",
    "                               nn.ReLU())\n",
    "        self.block4 = nn.Sequential(nn.Linear(1024, 256),\n",
    "                               #nn.BatchNorm1d(256),\n",
    "                               nn.Dropout(0.5),\n",
    "                               nn.ReLU())\n",
    "        self.block5 = nn.Sequential(nn.Linear(256, 64),\n",
    "                               #nn.BatchNorm1d(64),\n",
    "                               nn.Dropout(0.5),\n",
    "                               nn.ReLU())\n",
    "\n",
    "        self.hidden = nn.Sequential(self.block1, self.block2, self.block3, self.block4, self.block5)\n",
    "\n",
    "        self.status = nn.Sequential()\n",
    "        self.status.add_module(\"linear6\", nn.Linear(64, 1))\n",
    "        self.status.add_module(\"a6\", nn.Sigmoid())\n",
    "\n",
    "    def forward(self, x):\n",
    "        a1 = self.block1(x)\n",
    "        a2 = self.block2(a1)\n",
    "        a3 = self.block3(a2)\n",
    "        a4 = self.block4(a3)\n",
    "        a5 = self.block5(a4)\n",
    "\n",
    "        hidden = self.hidden(x)\n",
    "        out = self.status(hidden)\n",
    "\n",
    "        return out, (a1, a2, a3, a4, a5), hidden"
   ],
   "metadata": {
    "collapsed": false,
    "pycharm": {
     "name": "#%%\n"
    }
   }
  },
  {
   "cell_type": "code",
   "execution_count": 6,
   "outputs": [
    {
     "data": {
      "text/plain": "==========================================================================================\nLayer (type:depth-idx)                   Output Shape              Param #\n==========================================================================================\nPredictStatus                            [16, 1]                   --\n├─Sequential: 1                          --                        --\n│    └─Sequential: 2-1                   [16, 256]                 --\n│    │    └─Linear: 3-1                  [16, 256]                 13,312\n│    │    └─ReLU: 3-2                    [16, 256]                 --\n│    └─Sequential: 2-2                   [16, 512]                 --\n│    │    └─Linear: 3-3                  [16, 512]                 131,584\n│    │    └─Dropout: 3-4                 [16, 512]                 --\n│    │    └─ReLU: 3-5                    [16, 512]                 --\n│    └─Sequential: 2-3                   [16, 1024]                --\n│    │    └─Linear: 3-6                  [16, 1024]                525,312\n│    │    └─ReLU: 3-7                    [16, 1024]                --\n│    └─Sequential: 2-4                   [16, 256]                 --\n│    │    └─Linear: 3-8                  [16, 256]                 262,400\n│    │    └─Dropout: 3-9                 [16, 256]                 --\n│    │    └─ReLU: 3-10                   [16, 256]                 --\n│    └─Sequential: 2-5                   [16, 64]                  --\n│    │    └─Linear: 3-11                 [16, 64]                  16,448\n│    │    └─Dropout: 3-12                [16, 64]                  --\n│    │    └─ReLU: 3-13                   [16, 64]                  --\n├─Sequential: 1-1                        [16, 64]                  949,056\n│    └─Sequential: 2-6                   [16, 256]                 (recursive)\n│    │    └─Linear: 3-14                 [16, 256]                 (recursive)\n│    │    └─ReLU: 3-15                   [16, 256]                 --\n│    └─Sequential: 2-7                   [16, 512]                 (recursive)\n│    │    └─Linear: 3-16                 [16, 512]                 (recursive)\n│    │    └─Dropout: 3-17                [16, 512]                 --\n│    │    └─ReLU: 3-18                   [16, 512]                 --\n│    └─Sequential: 2-8                   [16, 1024]                (recursive)\n│    │    └─Linear: 3-19                 [16, 1024]                (recursive)\n│    │    └─ReLU: 3-20                   [16, 1024]                --\n│    └─Sequential: 2-9                   [16, 256]                 (recursive)\n│    │    └─Linear: 3-21                 [16, 256]                 (recursive)\n│    │    └─Dropout: 3-22                [16, 256]                 --\n│    │    └─ReLU: 3-23                   [16, 256]                 --\n│    └─Sequential: 2-10                  [16, 64]                  (recursive)\n│    │    └─Linear: 3-24                 [16, 64]                  (recursive)\n│    │    └─Dropout: 3-25                [16, 64]                  --\n│    │    └─ReLU: 3-26                   [16, 64]                  --\n├─Sequential: 1-2                        [16, 1]                   --\n│    └─Linear: 2-11                      [16, 1]                   65\n│    └─Sigmoid: 2-12                     [16, 1]                   --\n==========================================================================================\nTotal params: 949,121\nTrainable params: 949,121\nNon-trainable params: 0\nTotal mult-adds (M): 30.37\n==========================================================================================\nInput size (MB): 0.00\nForward/backward pass size (MB): 0.27\nParams size (MB): 3.80\nEstimated Total Size (MB): 4.07\n=========================================================================================="
     },
     "execution_count": 6,
     "metadata": {},
     "output_type": "execute_result"
    }
   ],
   "source": [
    "model = PredictStatus(51)\n",
    "torchinfo.summary(model, input_size=(16, 51))"
   ],
   "metadata": {
    "collapsed": false,
    "pycharm": {
     "name": "#%%\n"
    }
   }
  },
  {
   "cell_type": "markdown",
   "source": [
    "# Class for collecting data"
   ],
   "metadata": {
    "collapsed": false,
    "pycharm": {
     "name": "#%% md\n"
    }
   }
  },
  {
   "cell_type": "code",
   "execution_count": 7,
   "outputs": [],
   "source": [
    "class StatusDataset(Dataset):\n",
    "    def __init__(self, features, labels):\n",
    "        assert len(features) == len(labels)\n",
    "        self.features = features\n",
    "        self.labels = labels\n",
    "\n",
    "    def __getitem__(self, item):\n",
    "        features = self.features.to_numpy()[item]\n",
    "        features = torch.tensor(features).float().to(device)\n",
    "\n",
    "        labels = self.labels.to_numpy()[item]\n",
    "        status = torch.tensor([labels[0]]).float().to(device)\n",
    "\n",
    "        return features, status\n",
    "\n",
    "    def __len__(self):\n",
    "        return len(self.features)"
   ],
   "metadata": {
    "collapsed": false,
    "pycharm": {
     "name": "#%%\n"
    }
   }
  },
  {
   "cell_type": "code",
   "execution_count": 8,
   "outputs": [],
   "source": [
    "temp = StatusDataset(features, labels)\n",
    "in_features = len(temp[0][0])"
   ],
   "metadata": {
    "collapsed": false,
    "pycharm": {
     "name": "#%%\n"
    }
   }
  },
  {
   "cell_type": "markdown",
   "source": [
    "# Data standardization"
   ],
   "metadata": {
    "collapsed": false,
    "pycharm": {
     "name": "#%% md\n"
    }
   }
  },
  {
   "cell_type": "code",
   "execution_count": 9,
   "outputs": [],
   "source": [
    "scaler = StandardScaler()\n",
    "scaler.fit(features)\n",
    "features[:] = scaler.transform(features)"
   ],
   "metadata": {
    "collapsed": false,
    "pycharm": {
     "name": "#%%\n"
    }
   }
  },
  {
   "cell_type": "markdown",
   "source": [
    "# Split datasets"
   ],
   "metadata": {
    "collapsed": false,
    "pycharm": {
     "name": "#%% md\n"
    }
   }
  },
  {
   "cell_type": "code",
   "execution_count": 10,
   "outputs": [],
   "source": [
    "x_train, x_test, y_train, y_test = train_test_split(features, labels, random_state=1, test_size=0.1)"
   ],
   "metadata": {
    "collapsed": false,
    "pycharm": {
     "name": "#%%\n"
    }
   }
  },
  {
   "cell_type": "code",
   "execution_count": 11,
   "outputs": [],
   "source": [
    "train_data = StatusDataset(x_train, y_train)\n",
    "val_data = StatusDataset(x_test, y_test)\n",
    "\n",
    "train_loader = DataLoader(train_data, batch_size=16, drop_last=True)\n",
    "val_loader = DataLoader(val_data, batch_size=16, drop_last=True)"
   ],
   "metadata": {
    "collapsed": false,
    "pycharm": {
     "name": "#%%\n"
    }
   }
  },
  {
   "cell_type": "markdown",
   "source": [
    "# Obtain parameters & gradients"
   ],
   "metadata": {
    "collapsed": false,
    "pycharm": {
     "name": "#%% md\n"
    }
   }
  },
  {
   "cell_type": "code",
   "execution_count": 186,
   "outputs": [],
   "source": [
    "filename = \"models/vanish_fold_4.pth\"\n",
    "\n",
    "model = torch.load(filename, map_location=torch.device(\"cpu\"))\n",
    "model.eval()\n",
    "completed, labels = [], []\n",
    "test_data = StatusDataset(x_test, y_test)\n",
    "test_loader = DataLoader(test_data, batch_size=16, shuffle=False, drop_last=False)\n",
    "\n",
    "for data in test_loader:\n",
    "    x, y = data\n",
    "    x = x.to(\"cpu\")\n",
    "    y = y.to(\"cpu\")\n",
    "\n",
    "    pred_com, a, hidden = model(x)\n",
    "    #pred_com = torch.where(pred_com > 0.5, 1.0, 0.0)\n",
    "    for item in pred_com.tolist():\n",
    "        completed.append(item[0])\n",
    "    for item in y.tolist():\n",
    "        labels.append(item[0])\n",
    "\n",
    "pred = pd.DataFrame({\"pred_completed\": completed, \"Truth\": labels})"
   ],
   "metadata": {
    "collapsed": false,
    "pycharm": {
     "name": "#%%\n"
    }
   }
  },
  {
   "cell_type": "code",
   "execution_count": 187,
   "outputs": [
    {
     "data": {
      "text/plain": "     pred_completed  Truth\n0          0.493611    0.0\n1          0.496713    1.0\n2          0.486398    1.0\n3          0.450305    1.0\n4          0.493984    1.0\n..              ...    ...\n895        0.131614    1.0\n896        0.494726    0.0\n897        0.494228    0.0\n898        0.471368    1.0\n899        0.494867    0.0\n\n[900 rows x 2 columns]",
      "text/html": "<div>\n<style scoped>\n    .dataframe tbody tr th:only-of-type {\n        vertical-align: middle;\n    }\n\n    .dataframe tbody tr th {\n        vertical-align: top;\n    }\n\n    .dataframe thead th {\n        text-align: right;\n    }\n</style>\n<table border=\"1\" class=\"dataframe\">\n  <thead>\n    <tr style=\"text-align: right;\">\n      <th></th>\n      <th>pred_completed</th>\n      <th>Truth</th>\n    </tr>\n  </thead>\n  <tbody>\n    <tr>\n      <th>0</th>\n      <td>0.493611</td>\n      <td>0.0</td>\n    </tr>\n    <tr>\n      <th>1</th>\n      <td>0.496713</td>\n      <td>1.0</td>\n    </tr>\n    <tr>\n      <th>2</th>\n      <td>0.486398</td>\n      <td>1.0</td>\n    </tr>\n    <tr>\n      <th>3</th>\n      <td>0.450305</td>\n      <td>1.0</td>\n    </tr>\n    <tr>\n      <th>4</th>\n      <td>0.493984</td>\n      <td>1.0</td>\n    </tr>\n    <tr>\n      <th>...</th>\n      <td>...</td>\n      <td>...</td>\n    </tr>\n    <tr>\n      <th>895</th>\n      <td>0.131614</td>\n      <td>1.0</td>\n    </tr>\n    <tr>\n      <th>896</th>\n      <td>0.494726</td>\n      <td>0.0</td>\n    </tr>\n    <tr>\n      <th>897</th>\n      <td>0.494228</td>\n      <td>0.0</td>\n    </tr>\n    <tr>\n      <th>898</th>\n      <td>0.471368</td>\n      <td>1.0</td>\n    </tr>\n    <tr>\n      <th>899</th>\n      <td>0.494867</td>\n      <td>0.0</td>\n    </tr>\n  </tbody>\n</table>\n<p>900 rows × 2 columns</p>\n</div>"
     },
     "execution_count": 187,
     "metadata": {},
     "output_type": "execute_result"
    }
   ],
   "source": [
    "pred"
   ],
   "metadata": {
    "collapsed": false,
    "pycharm": {
     "name": "#%%\n"
    }
   }
  },
  {
   "cell_type": "code",
   "execution_count": 188,
   "outputs": [
    {
     "data": {
      "text/plain": "[315.83847, 274.54492, 343.5354, 127.67163, 14.680012]"
     },
     "execution_count": 188,
     "metadata": {},
     "output_type": "execute_result"
    }
   ],
   "source": [
    "result = []\n",
    "for i in range(len(a)):\n",
    "    temp = a[i].detach().numpy().flatten()\n",
    "    result.append(temp.sum())\n",
    "result"
   ],
   "metadata": {
    "collapsed": false,
    "pycharm": {
     "name": "#%%\n"
    }
   }
  },
  {
   "cell_type": "code",
   "execution_count": 189,
   "outputs": [
    {
     "data": {
      "text/plain": "   Index of Activation Function    Gradient\n0                             0  315.838470\n1                             1  274.544922\n2                             2  343.535400\n3                             3  127.671631\n4                             4   14.680012",
      "text/html": "<div>\n<style scoped>\n    .dataframe tbody tr th:only-of-type {\n        vertical-align: middle;\n    }\n\n    .dataframe tbody tr th {\n        vertical-align: top;\n    }\n\n    .dataframe thead th {\n        text-align: right;\n    }\n</style>\n<table border=\"1\" class=\"dataframe\">\n  <thead>\n    <tr style=\"text-align: right;\">\n      <th></th>\n      <th>Index of Activation Function</th>\n      <th>Gradient</th>\n    </tr>\n  </thead>\n  <tbody>\n    <tr>\n      <th>0</th>\n      <td>0</td>\n      <td>315.838470</td>\n    </tr>\n    <tr>\n      <th>1</th>\n      <td>1</td>\n      <td>274.544922</td>\n    </tr>\n    <tr>\n      <th>2</th>\n      <td>2</td>\n      <td>343.535400</td>\n    </tr>\n    <tr>\n      <th>3</th>\n      <td>3</td>\n      <td>127.671631</td>\n    </tr>\n    <tr>\n      <th>4</th>\n      <td>4</td>\n      <td>14.680012</td>\n    </tr>\n  </tbody>\n</table>\n</div>"
     },
     "execution_count": 189,
     "metadata": {},
     "output_type": "execute_result"
    }
   ],
   "source": [
    "result = pd.DataFrame({\"Index of Activation Function\": range(5), \"Gradient\": result})\n",
    "result"
   ],
   "metadata": {
    "collapsed": false,
    "pycharm": {
     "name": "#%%\n"
    }
   }
  },
  {
   "cell_type": "code",
   "execution_count": 190,
   "outputs": [
    {
     "data": {
      "text/plain": "<AxesSubplot:xlabel='Index of Activation Function', ylabel='Gradient'>"
     },
     "execution_count": 190,
     "metadata": {},
     "output_type": "execute_result"
    },
    {
     "data": {
      "text/plain": "<Figure size 432x288 with 1 Axes>",
      "image/png": "[encoded data removed]"
     },
     "metadata": {},
     "output_type": "display_data"
    }
   ],
   "source": [
    "sns.barplot(x=\"Index of Activation Function\", y=\"Gradient\", data=result)"
   ],
   "metadata": {
    "collapsed": false,
    "pycharm": {
     "name": "#%%\n"
    }
   }
  },
  {
   "cell_type": "code",
   "execution_count": null,
   "outputs": [],
   "source": [],
   "metadata": {
    "collapsed": false,
    "pycharm": {
     "name": "#%%\n"
    }
   }
  }
 ],
 "metadata": {
  "kernelspec": {
   "display_name": "Python 3",
   "language": "python",
   "name": "python3"
  },
  "language_info": {
   "codemirror_mode": {
    "name": "ipython",
    "version": 2
   },
   "file_extension": ".py",
   "mimetype": "text/x-python",
   "name": "python",
   "nbconvert_exporter": "python",
   "pygments_lexer": "ipython2",
   "version": "2.7.6"
  }
 },
 "nbformat": 4,
 "nbformat_minor": 0
}