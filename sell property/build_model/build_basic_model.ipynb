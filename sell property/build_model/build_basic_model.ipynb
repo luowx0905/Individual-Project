{
 "cells": [
  {
   "cell_type": "markdown",
   "source": [
    "# Import Packages"
   ],
   "metadata": {
    "collapsed": false,
    "pycharm": {
     "name": "#%% md\n"
    }
   }
  },
  {
   "cell_type": "code",
   "execution_count": 33,
   "outputs": [],
   "source": [
    "import pandas as pd\n",
    "\n",
    "import torch\n",
    "from torch import nn\n",
    "from torch import optim\n",
    "from torch.utils.data import DataLoader, Dataset\n",
    "\n",
    "import torchinfo\n",
    "from torch_snippets import Report\n",
    "from sklearn.preprocessing import LabelEncoder, StandardScaler, MinMaxScaler\n",
    "from sklearn.model_selection import train_test_split\n",
    "\n",
    "device = \"cpu\"\n",
    "if torch.cuda.is_available():\n",
    "    device = \"cuda\"\n",
    "elif torch.has_mps:\n",
    "    device = \"mps\""
   ],
   "metadata": {
    "collapsed": false,
    "pycharm": {
     "name": "#%%\n"
    }
   }
  },
  {
   "cell_type": "markdown",
   "source": [
    "# Read Dataset"
   ],
   "metadata": {
    "collapsed": false,
    "pycharm": {
     "name": "#%% md\n"
    }
   }
  },
  {
   "cell_type": "code",
   "execution_count": 31,
   "outputs": [],
   "source": [
    "general = pd.read_csv(\"../datasets/general.csv\")\n",
    "room = pd.read_csv(\"../datasets/room.csv\")\n",
    "categorical = pd.read_csv(\"../datasets/categorical.csv\")\n",
    "labels = pd.read_csv(\"../datasets/label.csv\")"
   ],
   "metadata": {
    "collapsed": false,
    "pycharm": {
     "name": "#%%\n"
    }
   }
  },
  {
   "cell_type": "code",
   "execution_count": 32,
   "outputs": [
    {
     "data": {
      "text/plain": "      Postcode Sale or Let      Price Qualifier DESC Council Tax Band  \\\n0      LU7 4WN        Sale  Offers In Excess Of                Band B   \n1     DA17 5PJ        Sale          Guide Price                Band D   \n2     RG26 5PX        Sale          Guide Price                Band E   \n3      BD8 0HT        Sale  Offers in Region Of                Band B   \n4     HU17 7AB        Sale          Offers Over                Band B   \n...        ...         ...                  ...                   ...   \n1019   SS9 3BX      Rental              Monthly                Band D   \n1020   SS7 3EL        Sale          Offers Over                Band D   \n1021   SS7 5PY        Sale          Offers Over                Band F   \n1022   CM1 2BD      Rental              Monthly                Band A   \n1023   SS7 4AX      Rental              Monthly                Band D   \n\n      # of Enquiry or viewings  # of Apps/Offers  \n0                           32                12  \n1                           14                 4  \n2                           10                 2  \n3                            9                 1  \n4                            1                 2  \n...                        ...               ...  \n1019                         0                 0  \n1020                         0                 1  \n1021                         0                 0  \n1022                         0                 2  \n1023                         0                 3  \n\n[1024 rows x 6 columns]",
      "text/html": "<div>\n<style scoped>\n    .dataframe tbody tr th:only-of-type {\n        vertical-align: middle;\n    }\n\n    .dataframe tbody tr th {\n        vertical-align: top;\n    }\n\n    .dataframe thead th {\n        text-align: right;\n    }\n</style>\n<table border=\"1\" class=\"dataframe\">\n  <thead>\n    <tr style=\"text-align: right;\">\n      <th></th>\n      <th>Postcode</th>\n      <th>Sale or Let</th>\n      <th>Price Qualifier</th>\n      <th>DESC Council Tax Band</th>\n      <th># of Enquiry or viewings</th>\n      <th># of Apps/Offers</th>\n    </tr>\n  </thead>\n  <tbody>\n    <tr>\n      <th>0</th>\n      <td>LU7 4WN</td>\n      <td>Sale</td>\n      <td>Offers In Excess Of</td>\n      <td>Band B</td>\n      <td>32</td>\n      <td>12</td>\n    </tr>\n    <tr>\n      <th>1</th>\n      <td>DA17 5PJ</td>\n      <td>Sale</td>\n      <td>Guide Price</td>\n      <td>Band D</td>\n      <td>14</td>\n      <td>4</td>\n    </tr>\n    <tr>\n      <th>2</th>\n      <td>RG26 5PX</td>\n      <td>Sale</td>\n      <td>Guide Price</td>\n      <td>Band E</td>\n      <td>10</td>\n      <td>2</td>\n    </tr>\n    <tr>\n      <th>3</th>\n      <td>BD8 0HT</td>\n      <td>Sale</td>\n      <td>Offers in Region Of</td>\n      <td>Band B</td>\n      <td>9</td>\n      <td>1</td>\n    </tr>\n    <tr>\n      <th>4</th>\n      <td>HU17 7AB</td>\n      <td>Sale</td>\n      <td>Offers Over</td>\n      <td>Band B</td>\n      <td>1</td>\n      <td>2</td>\n    </tr>\n    <tr>\n      <th>...</th>\n      <td>...</td>\n      <td>...</td>\n      <td>...</td>\n      <td>...</td>\n      <td>...</td>\n      <td>...</td>\n    </tr>\n    <tr>\n      <th>1019</th>\n      <td>SS9 3BX</td>\n      <td>Rental</td>\n      <td>Monthly</td>\n      <td>Band D</td>\n      <td>0</td>\n      <td>0</td>\n    </tr>\n    <tr>\n      <th>1020</th>\n      <td>SS7 3EL</td>\n      <td>Sale</td>\n      <td>Offers Over</td>\n      <td>Band D</td>\n      <td>0</td>\n      <td>1</td>\n    </tr>\n    <tr>\n      <th>1021</th>\n      <td>SS7 5PY</td>\n      <td>Sale</td>\n      <td>Offers Over</td>\n      <td>Band F</td>\n      <td>0</td>\n      <td>0</td>\n    </tr>\n    <tr>\n      <th>1022</th>\n      <td>CM1 2BD</td>\n      <td>Rental</td>\n      <td>Monthly</td>\n      <td>Band A</td>\n      <td>0</td>\n      <td>2</td>\n    </tr>\n    <tr>\n      <th>1023</th>\n      <td>SS7 4AX</td>\n      <td>Rental</td>\n      <td>Monthly</td>\n      <td>Band D</td>\n      <td>0</td>\n      <td>3</td>\n    </tr>\n  </tbody>\n</table>\n<p>1024 rows × 6 columns</p>\n</div>"
     },
     "execution_count": 32,
     "metadata": {},
     "output_type": "execute_result"
    }
   ],
   "source": [
    "general"
   ],
   "metadata": {
    "collapsed": false,
    "pycharm": {
     "name": "#%%\n"
    }
   }
  },
  {
   "cell_type": "code",
   "execution_count": 27,
   "outputs": [
    {
     "data": {
      "text/plain": "      bedroom number  kitchen number  living number  bathroom number  \\\n0                  2               1              1                1   \n1                  3               1              0                2   \n2                  3               1              1                0   \n3                  3               1              1                1   \n4                  3               1              0                0   \n...              ...             ...            ...              ...   \n1019               3               1              2                2   \n1020               3               1              1                1   \n1021               4               1              0                2   \n1022               1               1              0                1   \n1023               2               1              0                1   \n\n      dining number  other number  other area  \n0                 1             3         0.0  \n1                 1             3         0.0  \n2                 1             2        17.2  \n3                 1             4        19.5  \n4                 1             8        36.9  \n...             ...           ...         ...  \n1019              0             1         8.7  \n1020              1             3       186.2  \n1021              1             6       166.1  \n1022              1             1         3.6  \n1023              0             3        24.8  \n\n[1024 rows x 7 columns]",
      "text/html": "<div>\n<style scoped>\n    .dataframe tbody tr th:only-of-type {\n        vertical-align: middle;\n    }\n\n    .dataframe tbody tr th {\n        vertical-align: top;\n    }\n\n    .dataframe thead th {\n        text-align: right;\n    }\n</style>\n<table border=\"1\" class=\"dataframe\">\n  <thead>\n    <tr style=\"text-align: right;\">\n      <th></th>\n      <th>bedroom number</th>\n      <th>kitchen number</th>\n      <th>living number</th>\n      <th>bathroom number</th>\n      <th>dining number</th>\n      <th>other number</th>\n      <th>other area</th>\n    </tr>\n  </thead>\n  <tbody>\n    <tr>\n      <th>0</th>\n      <td>2</td>\n      <td>1</td>\n      <td>1</td>\n      <td>1</td>\n      <td>1</td>\n      <td>3</td>\n      <td>0.0</td>\n    </tr>\n    <tr>\n      <th>1</th>\n      <td>3</td>\n      <td>1</td>\n      <td>0</td>\n      <td>2</td>\n      <td>1</td>\n      <td>3</td>\n      <td>0.0</td>\n    </tr>\n    <tr>\n      <th>2</th>\n      <td>3</td>\n      <td>1</td>\n      <td>1</td>\n      <td>0</td>\n      <td>1</td>\n      <td>2</td>\n      <td>17.2</td>\n    </tr>\n    <tr>\n      <th>3</th>\n      <td>3</td>\n      <td>1</td>\n      <td>1</td>\n      <td>1</td>\n      <td>1</td>\n      <td>4</td>\n      <td>19.5</td>\n    </tr>\n    <tr>\n      <th>4</th>\n      <td>3</td>\n      <td>1</td>\n      <td>0</td>\n      <td>0</td>\n      <td>1</td>\n      <td>8</td>\n      <td>36.9</td>\n    </tr>\n    <tr>\n      <th>...</th>\n      <td>...</td>\n      <td>...</td>\n      <td>...</td>\n      <td>...</td>\n      <td>...</td>\n      <td>...</td>\n      <td>...</td>\n    </tr>\n    <tr>\n      <th>1019</th>\n      <td>3</td>\n      <td>1</td>\n      <td>2</td>\n      <td>2</td>\n      <td>0</td>\n      <td>1</td>\n      <td>8.7</td>\n    </tr>\n    <tr>\n      <th>1020</th>\n      <td>3</td>\n      <td>1</td>\n      <td>1</td>\n      <td>1</td>\n      <td>1</td>\n      <td>3</td>\n      <td>186.2</td>\n    </tr>\n    <tr>\n      <th>1021</th>\n      <td>4</td>\n      <td>1</td>\n      <td>0</td>\n      <td>2</td>\n      <td>1</td>\n      <td>6</td>\n      <td>166.1</td>\n    </tr>\n    <tr>\n      <th>1022</th>\n      <td>1</td>\n      <td>1</td>\n      <td>0</td>\n      <td>1</td>\n      <td>1</td>\n      <td>1</td>\n      <td>3.6</td>\n    </tr>\n    <tr>\n      <th>1023</th>\n      <td>2</td>\n      <td>1</td>\n      <td>0</td>\n      <td>1</td>\n      <td>0</td>\n      <td>3</td>\n      <td>24.8</td>\n    </tr>\n  </tbody>\n</table>\n<p>1024 rows × 7 columns</p>\n</div>"
     },
     "execution_count": 27,
     "metadata": {},
     "output_type": "execute_result"
    }
   ],
   "source": [
    "room"
   ],
   "metadata": {
    "collapsed": false,
    "pycharm": {
     "name": "#%%\n"
    }
   }
  },
  {
   "cell_type": "code",
   "execution_count": 28,
   "outputs": [
    {
     "data": {
      "text/plain": "      Allocated  Communal  Covered  Driveway  Garage  Gated  Off Street  \\\n0             1         0        0         0       0      0           1   \n1             0         0        0         0       0      0           0   \n2             0         0        0         1       1      0           1   \n3             0         0        0         1       0      0           0   \n4             1         0        0         0       0      0           1   \n...         ...       ...      ...       ...     ...    ...         ...   \n1019          0         0        0         1       1      0           1   \n1020          0         0        0         1       0      0           1   \n1021          0         0        0         1       1      0           1   \n1022          0         0        0         0       0      0           0   \n1023          0         0        0         0       0      1           1   \n\n      On Street  Permit  Private  ...  Gas Central  Night Storage  Oil  Solar  \\\n0             0       0        0  ...            0              1    0      0   \n1             1       0        0  ...            1              0    0      0   \n2             0       0        0  ...            1              0    0      0   \n3             0       0        0  ...            1              0    0      0   \n4             0       0        0  ...            1              0    0      0   \n...         ...     ...      ...  ...          ...            ...  ...    ...   \n1019          0       0        0  ...            1              0    0      0   \n1020          0       0        0  ...            1              0    0      0   \n1021          0       0        0  ...            1              0    0      0   \n1022          1       0        0  ...            1              0    0      0   \n1023          0       0        0  ...            1              0    0      0   \n\n      Solar Water  Under Floor  Good  Major renovation required  \\\n0               0            0     1                          0   \n1               0            0     1                          0   \n2               0            1     1                          0   \n3               0            0     1                          0   \n4               0            0     1                          0   \n...           ...          ...   ...                        ...   \n1019            0            0     1                          0   \n1020            0            0     1                          0   \n1021            0            0     1                          0   \n1022            0            0     1                          0   \n1023            0            0     1                          0   \n\n      Some work needed  Work required throughout  \n0                    0                         0  \n1                    0                         0  \n2                    0                         0  \n3                    0                         0  \n4                    0                         0  \n...                ...                       ...  \n1019                 0                         0  \n1020                 0                         0  \n1021                 0                         0  \n1022                 0                         0  \n1023                 0                         0  \n\n[1024 rows x 42 columns]",
      "text/html": "<div>\n<style scoped>\n    .dataframe tbody tr th:only-of-type {\n        vertical-align: middle;\n    }\n\n    .dataframe tbody tr th {\n        vertical-align: top;\n    }\n\n    .dataframe thead th {\n        text-align: right;\n    }\n</style>\n<table border=\"1\" class=\"dataframe\">\n  <thead>\n    <tr style=\"text-align: right;\">\n      <th></th>\n      <th>Allocated</th>\n      <th>Communal</th>\n      <th>Covered</th>\n      <th>Driveway</th>\n      <th>Garage</th>\n      <th>Gated</th>\n      <th>Off Street</th>\n      <th>On Street</th>\n      <th>Permit</th>\n      <th>Private</th>\n      <th>...</th>\n      <th>Gas Central</th>\n      <th>Night Storage</th>\n      <th>Oil</th>\n      <th>Solar</th>\n      <th>Solar Water</th>\n      <th>Under Floor</th>\n      <th>Good</th>\n      <th>Major renovation required</th>\n      <th>Some work needed</th>\n      <th>Work required throughout</th>\n    </tr>\n  </thead>\n  <tbody>\n    <tr>\n      <th>0</th>\n      <td>1</td>\n      <td>0</td>\n      <td>0</td>\n      <td>0</td>\n      <td>0</td>\n      <td>0</td>\n      <td>1</td>\n      <td>0</td>\n      <td>0</td>\n      <td>0</td>\n      <td>...</td>\n      <td>0</td>\n      <td>1</td>\n      <td>0</td>\n      <td>0</td>\n      <td>0</td>\n      <td>0</td>\n      <td>1</td>\n      <td>0</td>\n      <td>0</td>\n      <td>0</td>\n    </tr>\n    <tr>\n      <th>1</th>\n      <td>0</td>\n      <td>0</td>\n      <td>0</td>\n      <td>0</td>\n      <td>0</td>\n      <td>0</td>\n      <td>0</td>\n      <td>1</td>\n      <td>0</td>\n      <td>0</td>\n      <td>...</td>\n      <td>1</td>\n      <td>0</td>\n      <td>0</td>\n      <td>0</td>\n      <td>0</td>\n      <td>0</td>\n      <td>1</td>\n      <td>0</td>\n      <td>0</td>\n      <td>0</td>\n    </tr>\n    <tr>\n      <th>2</th>\n      <td>0</td>\n      <td>0</td>\n      <td>0</td>\n      <td>1</td>\n      <td>1</td>\n      <td>0</td>\n      <td>1</td>\n      <td>0</td>\n      <td>0</td>\n      <td>0</td>\n      <td>...</td>\n      <td>1</td>\n      <td>0</td>\n      <td>0</td>\n      <td>0</td>\n      <td>0</td>\n      <td>1</td>\n      <td>1</td>\n      <td>0</td>\n      <td>0</td>\n      <td>0</td>\n    </tr>\n    <tr>\n      <th>3</th>\n      <td>0</td>\n      <td>0</td>\n      <td>0</td>\n      <td>1</td>\n      <td>0</td>\n      <td>0</td>\n      <td>0</td>\n      <td>0</td>\n      <td>0</td>\n      <td>0</td>\n      <td>...</td>\n      <td>1</td>\n      <td>0</td>\n      <td>0</td>\n      <td>0</td>\n      <td>0</td>\n      <td>0</td>\n      <td>1</td>\n      <td>0</td>\n      <td>0</td>\n      <td>0</td>\n    </tr>\n    <tr>\n      <th>4</th>\n      <td>1</td>\n      <td>0</td>\n      <td>0</td>\n      <td>0</td>\n      <td>0</td>\n      <td>0</td>\n      <td>1</td>\n      <td>0</td>\n      <td>0</td>\n      <td>0</td>\n      <td>...</td>\n      <td>1</td>\n      <td>0</td>\n      <td>0</td>\n      <td>0</td>\n      <td>0</td>\n      <td>0</td>\n      <td>1</td>\n      <td>0</td>\n      <td>0</td>\n      <td>0</td>\n    </tr>\n    <tr>\n      <th>...</th>\n      <td>...</td>\n      <td>...</td>\n      <td>...</td>\n      <td>...</td>\n      <td>...</td>\n      <td>...</td>\n      <td>...</td>\n      <td>...</td>\n      <td>...</td>\n      <td>...</td>\n      <td>...</td>\n      <td>...</td>\n      <td>...</td>\n      <td>...</td>\n      <td>...</td>\n      <td>...</td>\n      <td>...</td>\n      <td>...</td>\n      <td>...</td>\n      <td>...</td>\n      <td>...</td>\n    </tr>\n    <tr>\n      <th>1019</th>\n      <td>0</td>\n      <td>0</td>\n      <td>0</td>\n      <td>1</td>\n      <td>1</td>\n      <td>0</td>\n      <td>1</td>\n      <td>0</td>\n      <td>0</td>\n      <td>0</td>\n      <td>...</td>\n      <td>1</td>\n      <td>0</td>\n      <td>0</td>\n      <td>0</td>\n      <td>0</td>\n      <td>0</td>\n      <td>1</td>\n      <td>0</td>\n      <td>0</td>\n      <td>0</td>\n    </tr>\n    <tr>\n      <th>1020</th>\n      <td>0</td>\n      <td>0</td>\n      <td>0</td>\n      <td>1</td>\n      <td>0</td>\n      <td>0</td>\n      <td>1</td>\n      <td>0</td>\n      <td>0</td>\n      <td>0</td>\n      <td>...</td>\n      <td>1</td>\n      <td>0</td>\n      <td>0</td>\n      <td>0</td>\n      <td>0</td>\n      <td>0</td>\n      <td>1</td>\n      <td>0</td>\n      <td>0</td>\n      <td>0</td>\n    </tr>\n    <tr>\n      <th>1021</th>\n      <td>0</td>\n      <td>0</td>\n      <td>0</td>\n      <td>1</td>\n      <td>1</td>\n      <td>0</td>\n      <td>1</td>\n      <td>0</td>\n      <td>0</td>\n      <td>0</td>\n      <td>...</td>\n      <td>1</td>\n      <td>0</td>\n      <td>0</td>\n      <td>0</td>\n      <td>0</td>\n      <td>0</td>\n      <td>1</td>\n      <td>0</td>\n      <td>0</td>\n      <td>0</td>\n    </tr>\n    <tr>\n      <th>1022</th>\n      <td>0</td>\n      <td>0</td>\n      <td>0</td>\n      <td>0</td>\n      <td>0</td>\n      <td>0</td>\n      <td>0</td>\n      <td>1</td>\n      <td>0</td>\n      <td>0</td>\n      <td>...</td>\n      <td>1</td>\n      <td>0</td>\n      <td>0</td>\n      <td>0</td>\n      <td>0</td>\n      <td>0</td>\n      <td>1</td>\n      <td>0</td>\n      <td>0</td>\n      <td>0</td>\n    </tr>\n    <tr>\n      <th>1023</th>\n      <td>0</td>\n      <td>0</td>\n      <td>0</td>\n      <td>0</td>\n      <td>0</td>\n      <td>1</td>\n      <td>1</td>\n      <td>0</td>\n      <td>0</td>\n      <td>0</td>\n      <td>...</td>\n      <td>1</td>\n      <td>0</td>\n      <td>0</td>\n      <td>0</td>\n      <td>0</td>\n      <td>0</td>\n      <td>1</td>\n      <td>0</td>\n      <td>0</td>\n      <td>0</td>\n    </tr>\n  </tbody>\n</table>\n<p>1024 rows × 42 columns</p>\n</div>"
     },
     "execution_count": 28,
     "metadata": {},
     "output_type": "execute_result"
    }
   ],
   "source": [
    "categorical"
   ],
   "metadata": {
    "collapsed": false,
    "pycharm": {
     "name": "#%%\n"
    }
   }
  },
  {
   "cell_type": "code",
   "execution_count": 17,
   "outputs": [
    {
     "data": {
      "text/plain": "          Completed     Price\n0     Not Completed  140000.0\n1         Completed  325000.0\n2         Completed  500000.0\n3     Not Completed  170000.0\n4         Completed  410000.0\n...             ...       ...\n1019  Not Completed    1200.0\n1020      Completed  340000.0\n1021  Not Completed  450000.0\n1022      Completed     750.0\n1023      Completed    1100.0\n\n[1024 rows x 2 columns]",
      "text/html": "<div>\n<style scoped>\n    .dataframe tbody tr th:only-of-type {\n        vertical-align: middle;\n    }\n\n    .dataframe tbody tr th {\n        vertical-align: top;\n    }\n\n    .dataframe thead th {\n        text-align: right;\n    }\n</style>\n<table border=\"1\" class=\"dataframe\">\n  <thead>\n    <tr style=\"text-align: right;\">\n      <th></th>\n      <th>Completed</th>\n      <th>Price</th>\n    </tr>\n  </thead>\n  <tbody>\n    <tr>\n      <th>0</th>\n      <td>Not Completed</td>\n      <td>140000.0</td>\n    </tr>\n    <tr>\n      <th>1</th>\n      <td>Completed</td>\n      <td>325000.0</td>\n    </tr>\n    <tr>\n      <th>2</th>\n      <td>Completed</td>\n      <td>500000.0</td>\n    </tr>\n    <tr>\n      <th>3</th>\n      <td>Not Completed</td>\n      <td>170000.0</td>\n    </tr>\n    <tr>\n      <th>4</th>\n      <td>Completed</td>\n      <td>410000.0</td>\n    </tr>\n    <tr>\n      <th>...</th>\n      <td>...</td>\n      <td>...</td>\n    </tr>\n    <tr>\n      <th>1019</th>\n      <td>Not Completed</td>\n      <td>1200.0</td>\n    </tr>\n    <tr>\n      <th>1020</th>\n      <td>Completed</td>\n      <td>340000.0</td>\n    </tr>\n    <tr>\n      <th>1021</th>\n      <td>Not Completed</td>\n      <td>450000.0</td>\n    </tr>\n    <tr>\n      <th>1022</th>\n      <td>Completed</td>\n      <td>750.0</td>\n    </tr>\n    <tr>\n      <th>1023</th>\n      <td>Completed</td>\n      <td>1100.0</td>\n    </tr>\n  </tbody>\n</table>\n<p>1024 rows × 2 columns</p>\n</div>"
     },
     "execution_count": 17,
     "metadata": {},
     "output_type": "execute_result"
    }
   ],
   "source": [
    "labels"
   ],
   "metadata": {
    "collapsed": false,
    "pycharm": {
     "name": "#%%\n"
    }
   }
  },
  {
   "cell_type": "markdown",
   "source": [
    "# Create a class for preparing data"
   ],
   "metadata": {
    "collapsed": false,
    "pycharm": {
     "name": "#%% md\n"
    }
   }
  },
  {
   "cell_type": "code",
   "execution_count": null,
   "outputs": [],
   "source": [
    "class PropertyDataset(Dataset):\n",
    "    def __init__(self, general, room, categorical, labels):\n",
    "        self.general = general\n",
    "        self.room = room\n",
    "        self.categorical = categorical\n",
    "        self.labels = labels\n",
    "\n",
    "        self.complete_encoder = LabelEncoder()\n",
    "        self.complete_encoder.fit(self.labels.Completed)\n",
    "\n",
    "    def __getitem__(self, item):\n"
   ],
   "metadata": {
    "collapsed": false,
    "pycharm": {
     "name": "#%%\n"
    }
   }
  }
 ],
 "metadata": {
  "kernelspec": {
   "display_name": "Python 3",
   "language": "python",
   "name": "python3"
  },
  "language_info": {
   "codemirror_mode": {
    "name": "ipython",
    "version": 2
   },
   "file_extension": ".py",
   "mimetype": "text/x-python",
   "name": "python",
   "nbconvert_exporter": "python",
   "pygments_lexer": "ipython2",
   "version": "2.7.6"
  }
 },
 "nbformat": 4,
 "nbformat_minor": 0
}