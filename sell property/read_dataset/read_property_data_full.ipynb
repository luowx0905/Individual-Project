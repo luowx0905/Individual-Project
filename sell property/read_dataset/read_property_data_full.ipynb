{
 "cells": [
  {
   "cell_type": "markdown",
   "source": [
    "# Import packages"
   ],
   "metadata": {
    "collapsed": false,
    "pycharm": {
     "name": "#%% md\n"
    }
   }
  },
  {
   "cell_type": "code",
   "execution_count": 1,
   "outputs": [],
   "source": [
    "import pandas as pd\n",
    "import numpy as np\n",
    "import parse\n",
    "import re\n",
    "import os\n",
    "import seaborn as sns\n",
    "from bs4 import BeautifulSoup # handle html strings\n",
    "from matplotlib import pyplot as plt\n",
    "from sklearn.preprocessing import LabelEncoder\n",
    "\n",
    "from ProcessHTML import ProcessHTML\n",
    "from ExtractRooms import ExtractRooms\n",
    "from GeneralizeDataset import GeneralizeDataset\n",
    "from CreateInputDataset import CreateInputDataset"
   ],
   "metadata": {
    "collapsed": false,
    "pycharm": {
     "name": "#%%\n"
    }
   }
  },
  {
   "cell_type": "markdown",
   "source": [
    "# Read files"
   ],
   "metadata": {
    "collapsed": false,
    "pycharm": {
     "name": "#%% md\n"
    }
   }
  },
  {
   "cell_type": "code",
   "execution_count": 2,
   "outputs": [],
   "source": [
    "folder = \"../datasets\"\n",
    "paths = [os.path.join(folder, path) for path in os.listdir(folder) if \"H1\" in path or \"H2\" in path]"
   ],
   "metadata": {
    "collapsed": false,
    "pycharm": {
     "name": "#%%\n"
    }
   }
  },
  {
   "cell_type": "code",
   "execution_count": 3,
   "outputs": [],
   "source": [
    "files = [pd.read_csv(path, encoding=\"ISO8859-1\") for path in paths]"
   ],
   "metadata": {
    "collapsed": false,
    "pycharm": {
     "name": "#%%\n"
    }
   }
  },
  {
   "cell_type": "code",
   "execution_count": 4,
   "outputs": [
    {
     "data": {
      "text/plain": "                                           Full Address     Created  \\\n0     54 Rathmore Crescent, Churchtown, Southport PR...  03-01-2018   \n1                  1 Glaisdale Drive, Southport PR8 6XQ  03-01-2018   \n2                    3 Monica Gardens, Newbury RG14 2ET  09-01-2018   \n3                     190 Craven Road, NEWBURY RG14 5NS  15-01-2018   \n4                     190 Craven Road, NEWBURY RG14 5NS  22-01-2018   \n...                                                 ...         ...   \n3424             15 Ameland Road, Canvey Island SS8 9PS  07-05-2018   \n3425      76 The Rundels, Thundersley, Benfleet SS7 3QL  08-05-2018   \n3426      76 The Rundels, Thundersley, Benfleet SS7 3QL  10-05-2018   \n3427  64 Fairfield Gardens, Eastwood, Leigh on Sea S...  19-05-2018   \n3428  41 St Helens Road, Westcliff on Sea, Southend ...  26-06-2018   \n\n      Advertised      Agreed   Completed Date Listing Last Cancelled  \\\n0     04-01-2018  13-02-2018  08-05-2018                         NaN   \n1     06-03-2018  28-03-2018  27-04-2018                         NaN   \n2     26-01-2018  05-04-2018  30-11-2018                         NaN   \n3     17-01-2018  27-04-2018  17-09-2018                  22-01-2018   \n4            NaN         NaN         NaN                  19-02-2018   \n...          ...         ...         ...                         ...   \n3424         NaN         NaN         NaN                  18-06-2018   \n3425  29-05-2018  06-06-2018  28-06-2018                         NaN   \n3426         NaN         NaN         NaN                  10-05-2018   \n3427  21-05-2018  28-06-2018  25-10-2018                         NaN   \n3428  02-07-2018  09-07-2018  30-07-2018                         NaN   \n\n     Sale or Let RTD3308_outside_space1 - Outside Space Description  \\\n0           Sale                                        Back Garden   \n1         Rental                                        Back Garden   \n2           Sale                                        Back Garden   \n3           Sale                                        Back Garden   \n4         Rental                                        Back Garden   \n...          ...                                                ...   \n3424        Sale                                                NaN   \n3425      Rental                                        Back Garden   \n3426      Rental                                        Back Garden   \n3427        Sale                                        Back Garden   \n3428      Rental                                        Back Garden   \n\n                        EweMove Description S1 Features  \\\n0     <ul><li>A Charming Churchtown Property </li><l...   \n1     <ul><li>Well Proportioned Living Accommodation...   \n2     <ul><li>Wonderful Family Home</li><li>Close to...   \n3     <ul><li>Close to Local Schools</li><li>Close t...   \n4     <ul><li>Close to Local Schools</li><li>Close t...   \n...                                                 ...   \n3424                                          <ul></ul>   \n3425  <ul><li>FREE TO APPLY - No 'Rip-Off' Upfront F...   \n3426  <ul><li>FREE TO APPLY - No 'Rip-Off' Upfront F...   \n3427                                          <ul></ul>   \n3428  <ul><li>Call NOW 24/7 or book instantly online...   \n\n                     EweMove Description S2 Description  ...  \\\n0     Could this Charming Churchtown property be you...  ...   \n1     In brief the property comprises of a living ro...  ...   \n2     You get an awful lot of house for your money w...  ...   \n3     190 Craven Road has been fully updated over th...  ...   \n4     190 Craven Road has been fully updated over th...  ...   \n...                                                 ...  ...   \n3424  NO EPC 15/5\\r\\nCouncil Tax - &pound;2117\\r\\nNe...  ...   \n3425  Neutrally deorated throughout, off road parkin...  ...   \n3426  Newly decorated throughout, off road parking &...  ...   \n3427  Wonderful family home, thoughtfully extended t...  ...   \n3428  There is plenty of space to live, relax & ente...  ...   \n\n                                           Price / Rent      Price Qualifier  \\\n0          <font color='blue'>&pound;200,000</font><br>                  NaN   \n1       <font color='blue'>&pound;600</font><br>Monthly              Monthly   \n2     <font color='blue'>&pound;550,000</font><br>Gu...          Guide Price   \n3     <font color='blue'>&pound;380,000</font><br>Of...  Offers in Region Of   \n4         <font color='blue'>&pound;1</font><br>Monthly              Monthly   \n...                                                 ...                  ...   \n3424             <font color='blue'>&pound;1</font><br>                  NaN   \n3425  <font color='blue'>&pound;1,050</font><br>Monthly              Monthly   \n3426  <font color='blue'>&pound;1,050</font><br>Monthly              Monthly   \n3427       <font color='blue'>&pound;350,000</font><br>                  NaN   \n3428    <font color='blue'>&pound;925</font><br>Monthly              Monthly   \n\n     Sale Price % Achieved Current EPC - EPC Expiry Date  \\\n0                     100%                    14-11-2022   \n1                      NaN                    19-11-2025   \n2                      NaN                    17-09-2024   \n3                      NaN                    08-07-2022   \n4                      NaN                    08-07-2022   \n...                    ...                           ...   \n3424                   NaN                           NaN   \n3425                   NaN                    02-04-2023   \n3426                   NaN                    02-04-2023   \n3427      98.571428571429%                    25-05-2028   \n3428                   NaN                           NaN   \n\n     DESC Council Tax Band DESC Leasehold Ground Rent  \\\n0                   Band C                         £4   \n1                   Band B                        NaN   \n2                      NaN                        NaN   \n3                   Band D                        NaN   \n4                   Band D                        NaN   \n...                    ...                        ...   \n3424                Band E                        NaN   \n3425                Band C                        NaN   \n3426                Band C                        NaN   \n3427                Band C                        NaN   \n3428                Band B                        NaN   \n\n     DESC Leasehold Service Charge ZPG_lease_expiry_years_remaining  \\\n0                              NaN                            916.0   \n1                              NaN                              NaN   \n2                              NaN                              NaN   \n3                              NaN                              NaN   \n4                              NaN                              NaN   \n...                            ...                              ...   \n3424                           NaN                              NaN   \n3425                           NaN                              NaN   \n3426                           NaN                              NaN   \n3427                           NaN                              NaN   \n3428                           NaN                              NaN   \n\n     # of Enquiry or viewings # of Apps/Offers  \n0                           0                1  \n1                           0                6  \n2                           0                1  \n3                           0                4  \n4                           0                0  \n...                       ...              ...  \n3424                        0                0  \n3425                        0                5  \n3426                        0                0  \n3427                        0                1  \n3428                        0                4  \n\n[3429 rows x 35 columns]",
      "text/html": "<div>\n<style scoped>\n    .dataframe tbody tr th:only-of-type {\n        vertical-align: middle;\n    }\n\n    .dataframe tbody tr th {\n        vertical-align: top;\n    }\n\n    .dataframe thead th {\n        text-align: right;\n    }\n</style>\n<table border=\"1\" class=\"dataframe\">\n  <thead>\n    <tr style=\"text-align: right;\">\n      <th></th>\n      <th>Full Address</th>\n      <th>Created</th>\n      <th>Advertised</th>\n      <th>Agreed</th>\n      <th>Completed</th>\n      <th>Date Listing Last Cancelled</th>\n      <th>Sale or Let</th>\n      <th>RTD3308_outside_space1 - Outside Space Description</th>\n      <th>EweMove Description S1 Features</th>\n      <th>EweMove Description S2 Description</th>\n      <th>...</th>\n      <th>Price / Rent</th>\n      <th>Price Qualifier</th>\n      <th>Sale Price % Achieved</th>\n      <th>Current EPC - EPC Expiry Date</th>\n      <th>DESC Council Tax Band</th>\n      <th>DESC Leasehold Ground Rent</th>\n      <th>DESC Leasehold Service Charge</th>\n      <th>ZPG_lease_expiry_years_remaining</th>\n      <th># of Enquiry or viewings</th>\n      <th># of Apps/Offers</th>\n    </tr>\n  </thead>\n  <tbody>\n    <tr>\n      <th>0</th>\n      <td>54 Rathmore Crescent, Churchtown, Southport PR...</td>\n      <td>03-01-2018</td>\n      <td>04-01-2018</td>\n      <td>13-02-2018</td>\n      <td>08-05-2018</td>\n      <td>NaN</td>\n      <td>Sale</td>\n      <td>Back Garden</td>\n      <td>&lt;ul&gt;&lt;li&gt;A Charming Churchtown Property &lt;/li&gt;&lt;l...</td>\n      <td>Could this Charming Churchtown property be you...</td>\n      <td>...</td>\n      <td>&lt;font color='blue'&gt;&amp;pound;200,000&lt;/font&gt;&lt;br&gt;</td>\n      <td>NaN</td>\n      <td>100%</td>\n      <td>14-11-2022</td>\n      <td>Band C</td>\n      <td>£4</td>\n      <td>NaN</td>\n      <td>916.0</td>\n      <td>0</td>\n      <td>1</td>\n    </tr>\n    <tr>\n      <th>1</th>\n      <td>1 Glaisdale Drive, Southport PR8 6XQ</td>\n      <td>03-01-2018</td>\n      <td>06-03-2018</td>\n      <td>28-03-2018</td>\n      <td>27-04-2018</td>\n      <td>NaN</td>\n      <td>Rental</td>\n      <td>Back Garden</td>\n      <td>&lt;ul&gt;&lt;li&gt;Well Proportioned Living Accommodation...</td>\n      <td>In brief the property comprises of a living ro...</td>\n      <td>...</td>\n      <td>&lt;font color='blue'&gt;&amp;pound;600&lt;/font&gt;&lt;br&gt;Monthly</td>\n      <td>Monthly</td>\n      <td>NaN</td>\n      <td>19-11-2025</td>\n      <td>Band B</td>\n      <td>NaN</td>\n      <td>NaN</td>\n      <td>NaN</td>\n      <td>0</td>\n      <td>6</td>\n    </tr>\n    <tr>\n      <th>2</th>\n      <td>3 Monica Gardens, Newbury RG14 2ET</td>\n      <td>09-01-2018</td>\n      <td>26-01-2018</td>\n      <td>05-04-2018</td>\n      <td>30-11-2018</td>\n      <td>NaN</td>\n      <td>Sale</td>\n      <td>Back Garden</td>\n      <td>&lt;ul&gt;&lt;li&gt;Wonderful Family Home&lt;/li&gt;&lt;li&gt;Close to...</td>\n      <td>You get an awful lot of house for your money w...</td>\n      <td>...</td>\n      <td>&lt;font color='blue'&gt;&amp;pound;550,000&lt;/font&gt;&lt;br&gt;Gu...</td>\n      <td>Guide Price</td>\n      <td>NaN</td>\n      <td>17-09-2024</td>\n      <td>NaN</td>\n      <td>NaN</td>\n      <td>NaN</td>\n      <td>NaN</td>\n      <td>0</td>\n      <td>1</td>\n    </tr>\n    <tr>\n      <th>3</th>\n      <td>190 Craven Road, NEWBURY RG14 5NS</td>\n      <td>15-01-2018</td>\n      <td>17-01-2018</td>\n      <td>27-04-2018</td>\n      <td>17-09-2018</td>\n      <td>22-01-2018</td>\n      <td>Sale</td>\n      <td>Back Garden</td>\n      <td>&lt;ul&gt;&lt;li&gt;Close to Local Schools&lt;/li&gt;&lt;li&gt;Close t...</td>\n      <td>190 Craven Road has been fully updated over th...</td>\n      <td>...</td>\n      <td>&lt;font color='blue'&gt;&amp;pound;380,000&lt;/font&gt;&lt;br&gt;Of...</td>\n      <td>Offers in Region Of</td>\n      <td>NaN</td>\n      <td>08-07-2022</td>\n      <td>Band D</td>\n      <td>NaN</td>\n      <td>NaN</td>\n      <td>NaN</td>\n      <td>0</td>\n      <td>4</td>\n    </tr>\n    <tr>\n      <th>4</th>\n      <td>190 Craven Road, NEWBURY RG14 5NS</td>\n      <td>22-01-2018</td>\n      <td>NaN</td>\n      <td>NaN</td>\n      <td>NaN</td>\n      <td>19-02-2018</td>\n      <td>Rental</td>\n      <td>Back Garden</td>\n      <td>&lt;ul&gt;&lt;li&gt;Close to Local Schools&lt;/li&gt;&lt;li&gt;Close t...</td>\n      <td>190 Craven Road has been fully updated over th...</td>\n      <td>...</td>\n      <td>&lt;font color='blue'&gt;&amp;pound;1&lt;/font&gt;&lt;br&gt;Monthly</td>\n      <td>Monthly</td>\n      <td>NaN</td>\n      <td>08-07-2022</td>\n      <td>Band D</td>\n      <td>NaN</td>\n      <td>NaN</td>\n      <td>NaN</td>\n      <td>0</td>\n      <td>0</td>\n    </tr>\n    <tr>\n      <th>...</th>\n      <td>...</td>\n      <td>...</td>\n      <td>...</td>\n      <td>...</td>\n      <td>...</td>\n      <td>...</td>\n      <td>...</td>\n      <td>...</td>\n      <td>...</td>\n      <td>...</td>\n      <td>...</td>\n      <td>...</td>\n      <td>...</td>\n      <td>...</td>\n      <td>...</td>\n      <td>...</td>\n      <td>...</td>\n      <td>...</td>\n      <td>...</td>\n      <td>...</td>\n      <td>...</td>\n    </tr>\n    <tr>\n      <th>3424</th>\n      <td>15 Ameland Road, Canvey Island SS8 9PS</td>\n      <td>07-05-2018</td>\n      <td>NaN</td>\n      <td>NaN</td>\n      <td>NaN</td>\n      <td>18-06-2018</td>\n      <td>Sale</td>\n      <td>NaN</td>\n      <td>&lt;ul&gt;&lt;/ul&gt;</td>\n      <td>NO EPC 15/5\\r\\nCouncil Tax - &amp;pound;2117\\r\\nNe...</td>\n      <td>...</td>\n      <td>&lt;font color='blue'&gt;&amp;pound;1&lt;/font&gt;&lt;br&gt;</td>\n      <td>NaN</td>\n      <td>NaN</td>\n      <td>NaN</td>\n      <td>Band E</td>\n      <td>NaN</td>\n      <td>NaN</td>\n      <td>NaN</td>\n      <td>0</td>\n      <td>0</td>\n    </tr>\n    <tr>\n      <th>3425</th>\n      <td>76 The Rundels, Thundersley, Benfleet SS7 3QL</td>\n      <td>08-05-2018</td>\n      <td>29-05-2018</td>\n      <td>06-06-2018</td>\n      <td>28-06-2018</td>\n      <td>NaN</td>\n      <td>Rental</td>\n      <td>Back Garden</td>\n      <td>&lt;ul&gt;&lt;li&gt;FREE TO APPLY - No 'Rip-Off' Upfront F...</td>\n      <td>Neutrally deorated throughout, off road parkin...</td>\n      <td>...</td>\n      <td>&lt;font color='blue'&gt;&amp;pound;1,050&lt;/font&gt;&lt;br&gt;Monthly</td>\n      <td>Monthly</td>\n      <td>NaN</td>\n      <td>02-04-2023</td>\n      <td>Band C</td>\n      <td>NaN</td>\n      <td>NaN</td>\n      <td>NaN</td>\n      <td>0</td>\n      <td>5</td>\n    </tr>\n    <tr>\n      <th>3426</th>\n      <td>76 The Rundels, Thundersley, Benfleet SS7 3QL</td>\n      <td>10-05-2018</td>\n      <td>NaN</td>\n      <td>NaN</td>\n      <td>NaN</td>\n      <td>10-05-2018</td>\n      <td>Rental</td>\n      <td>Back Garden</td>\n      <td>&lt;ul&gt;&lt;li&gt;FREE TO APPLY - No 'Rip-Off' Upfront F...</td>\n      <td>Newly decorated throughout, off road parking &amp;...</td>\n      <td>...</td>\n      <td>&lt;font color='blue'&gt;&amp;pound;1,050&lt;/font&gt;&lt;br&gt;Monthly</td>\n      <td>Monthly</td>\n      <td>NaN</td>\n      <td>02-04-2023</td>\n      <td>Band C</td>\n      <td>NaN</td>\n      <td>NaN</td>\n      <td>NaN</td>\n      <td>0</td>\n      <td>0</td>\n    </tr>\n    <tr>\n      <th>3427</th>\n      <td>64 Fairfield Gardens, Eastwood, Leigh on Sea S...</td>\n      <td>19-05-2018</td>\n      <td>21-05-2018</td>\n      <td>28-06-2018</td>\n      <td>25-10-2018</td>\n      <td>NaN</td>\n      <td>Sale</td>\n      <td>Back Garden</td>\n      <td>&lt;ul&gt;&lt;/ul&gt;</td>\n      <td>Wonderful family home, thoughtfully extended t...</td>\n      <td>...</td>\n      <td>&lt;font color='blue'&gt;&amp;pound;350,000&lt;/font&gt;&lt;br&gt;</td>\n      <td>NaN</td>\n      <td>98.571428571429%</td>\n      <td>25-05-2028</td>\n      <td>Band C</td>\n      <td>NaN</td>\n      <td>NaN</td>\n      <td>NaN</td>\n      <td>0</td>\n      <td>1</td>\n    </tr>\n    <tr>\n      <th>3428</th>\n      <td>41 St Helens Road, Westcliff on Sea, Southend ...</td>\n      <td>26-06-2018</td>\n      <td>02-07-2018</td>\n      <td>09-07-2018</td>\n      <td>30-07-2018</td>\n      <td>NaN</td>\n      <td>Rental</td>\n      <td>Back Garden</td>\n      <td>&lt;ul&gt;&lt;li&gt;Call NOW 24/7 or book instantly online...</td>\n      <td>There is plenty of space to live, relax &amp; ente...</td>\n      <td>...</td>\n      <td>&lt;font color='blue'&gt;&amp;pound;925&lt;/font&gt;&lt;br&gt;Monthly</td>\n      <td>Monthly</td>\n      <td>NaN</td>\n      <td>NaN</td>\n      <td>Band B</td>\n      <td>NaN</td>\n      <td>NaN</td>\n      <td>NaN</td>\n      <td>0</td>\n      <td>4</td>\n    </tr>\n  </tbody>\n</table>\n<p>3429 rows × 35 columns</p>\n</div>"
     },
     "execution_count": 4,
     "metadata": {},
     "output_type": "execute_result"
    }
   ],
   "source": [
    "files[0]"
   ],
   "metadata": {
    "collapsed": false,
    "pycharm": {
     "name": "#%%\n"
    }
   }
  },
  {
   "cell_type": "code",
   "execution_count": 5,
   "outputs": [],
   "source": [
    "subset = pd.read_csv(\"../datasets/PropertyData_wDesc.csv\", encoding=\"ISO8859-1\")"
   ],
   "metadata": {
    "collapsed": false,
    "pycharm": {
     "name": "#%%\n"
    }
   }
  },
  {
   "cell_type": "markdown",
   "source": [
    "# File contents"
   ],
   "metadata": {
    "collapsed": false,
    "pycharm": {
     "name": "#%% md\n"
    }
   }
  },
  {
   "cell_type": "code",
   "execution_count": 6,
   "outputs": [],
   "source": [
    "col_names = None\n",
    "for i, file in enumerate(files):\n",
    "    if col_names is None:\n",
    "        col_names = sorted(file.columns)\n",
    "    else:\n",
    "        if col_names != sorted(file.columns):\n",
    "            print(\"{}: ERROR\".format(paths[i]))\n",
    "            break"
   ],
   "metadata": {
    "collapsed": false,
    "pycharm": {
     "name": "#%%\n"
    }
   }
  },
  {
   "cell_type": "code",
   "execution_count": 7,
   "outputs": [
    {
     "name": "stdout",
     "output_type": "stream",
     "text": [
      "Postcode                                \n",
      "Full Address                            \n",
      "\n"
     ]
    }
   ],
   "source": [
    "for new, original in zip(col_names, sorted(subset.columns)):\n",
    "    if new != original:\n",
    "        print(\"{:40s}\\n{:40s}\\n\".format(original, new))"
   ],
   "metadata": {
    "collapsed": false,
    "pycharm": {
     "name": "#%%\n"
    }
   }
  },
  {
   "cell_type": "markdown",
   "source": [
    "# Missing values"
   ],
   "metadata": {
    "collapsed": false,
    "pycharm": {
     "name": "#%% md\n"
    }
   }
  },
  {
   "cell_type": "code",
   "execution_count": 8,
   "outputs": [
    {
     "data": {
      "text/plain": "Full Address                                             0\nCreated                                                  0\nAdvertised                                             333\nAgreed                                                1253\nCompleted                                             1375\nDate Listing Last Cancelled                           2004\nSale or Let                                              1\nRTD3308_outside_space1 - Outside Space Description    1390\nEweMove Description S1 Features                          0\nEweMove Description S2 Description                     175\nEweMove Description S3 Rooms                           850\nEweMove Description S4 Summary                           0\nRTD3307_parking1 - Parking Description                1258\nRTD3307_parking2 - Parking Description                2039\nRTD3307_parking3 - Parking Description                2686\nRTD3308_outside_space2 - Outside Space Description    1991\nRTD3308_outside_space3 - Outside Space Description    2562\nRTD3316_condition1 - Condition Description            1277\nRTD3318_heating1 - Heating Description                1210\nRTD3317_accessibility1 - accessibility Description    2248\nRTD3317_accessibility2 - accessibility Description    3350\nRTD3317_accessibility3 - accessibility Description    3413\nRTD3318_heating2 - Heating Description                1913\nRTD3313_land_area_unit - Area Description             3404\nRTD3318_heating3 - Heating Description                2950\nPrice / Rent                                             0\nPrice Qualifier                                       1143\nSale Price % Achieved                                 2632\nCurrent EPC - EPC Expiry Date                         1188\nDESC Council Tax Band                                 1356\nDESC Leasehold Ground Rent                            3170\nDESC Leasehold Service Charge                         3167\nZPG_lease_expiry_years_remaining                      3087\n# of Enquiry or viewings                                 0\n# of Apps/Offers                                         0\ndtype: int64"
     },
     "execution_count": 8,
     "metadata": {},
     "output_type": "execute_result"
    }
   ],
   "source": [
    "files[0].isna().sum()"
   ],
   "metadata": {
    "collapsed": false,
    "pycharm": {
     "name": "#%%\n"
    }
   }
  },
  {
   "cell_type": "markdown",
   "source": [
    "# Extract postcode from full address"
   ],
   "metadata": {
    "collapsed": false,
    "pycharm": {
     "name": "#%% md\n"
    }
   }
  },
  {
   "cell_type": "code",
   "execution_count": 9,
   "outputs": [],
   "source": [
    "pattern = \"[A-Za-z]{1,2}[0-9Rr][0-9A-Za-z]? [0-9][ABD-HJLNP-UW-Zabd-hjlnp-uw-z]{2}\""
   ],
   "metadata": {
    "collapsed": false,
    "pycharm": {
     "name": "#%%\n"
    }
   }
  },
  {
   "cell_type": "code",
   "execution_count": 10,
   "outputs": [
    {
     "data": {
      "text/plain": "['SW5 9QN', 'NG9 2FF']"
     },
     "execution_count": 10,
     "metadata": {},
     "output_type": "execute_result"
    }
   ],
   "source": [
    "msg = \"Currently I live in SW5 9QN, two years ago I lived in NG9 2FF\"\n",
    "re.findall(pattern, msg)"
   ],
   "metadata": {
    "collapsed": false,
    "pycharm": {
     "name": "#%%\n"
    }
   }
  },
  {
   "cell_type": "code",
   "execution_count": 11,
   "outputs": [],
   "source": [
    "for file in files:\n",
    "    postcodes = []\n",
    "    for i in file[\"Full Address\"]:\n",
    "        postcode = re.findall(pattern, i)\n",
    "        if len(postcode) == 0:\n",
    "            postcodes.append(np.nan)\n",
    "        else:\n",
    "            postcodes.append(postcode[0])\n",
    "    file[\"Full Address\"] = postcodes"
   ],
   "metadata": {
    "collapsed": false,
    "pycharm": {
     "name": "#%%\n"
    }
   }
  },
  {
   "cell_type": "code",
   "execution_count": 12,
   "outputs": [
    {
     "data": {
      "text/plain": "     Full Address     Created  Advertised      Agreed   Completed  \\\n0         PR9 8PW  03-01-2018  04-01-2018  13-02-2018  08-05-2018   \n1         PR8 6XQ  03-01-2018  06-03-2018  28-03-2018  27-04-2018   \n2        RG14 2ET  09-01-2018  26-01-2018  05-04-2018  30-11-2018   \n3        RG14 5NS  15-01-2018  17-01-2018  27-04-2018  17-09-2018   \n4        RG14 5NS  22-01-2018         NaN         NaN         NaN   \n...           ...         ...         ...         ...         ...   \n3424      SS8 9PS  07-05-2018         NaN         NaN         NaN   \n3425      SS7 3QL  08-05-2018  29-05-2018  06-06-2018  28-06-2018   \n3426      SS7 3QL  10-05-2018         NaN         NaN         NaN   \n3427      SS9 5SF  19-05-2018  21-05-2018  28-06-2018  25-10-2018   \n3428      SS0 7LA  26-06-2018  02-07-2018  09-07-2018  30-07-2018   \n\n     Date Listing Last Cancelled Sale or Let  \\\n0                            NaN        Sale   \n1                            NaN      Rental   \n2                            NaN        Sale   \n3                     22-01-2018        Sale   \n4                     19-02-2018      Rental   \n...                          ...         ...   \n3424                  18-06-2018        Sale   \n3425                         NaN      Rental   \n3426                  10-05-2018      Rental   \n3427                         NaN        Sale   \n3428                         NaN      Rental   \n\n     RTD3308_outside_space1 - Outside Space Description  \\\n0                                           Back Garden   \n1                                           Back Garden   \n2                                           Back Garden   \n3                                           Back Garden   \n4                                           Back Garden   \n...                                                 ...   \n3424                                                NaN   \n3425                                        Back Garden   \n3426                                        Back Garden   \n3427                                        Back Garden   \n3428                                        Back Garden   \n\n                        EweMove Description S1 Features  \\\n0     <ul><li>A Charming Churchtown Property </li><l...   \n1     <ul><li>Well Proportioned Living Accommodation...   \n2     <ul><li>Wonderful Family Home</li><li>Close to...   \n3     <ul><li>Close to Local Schools</li><li>Close t...   \n4     <ul><li>Close to Local Schools</li><li>Close t...   \n...                                                 ...   \n3424                                          <ul></ul>   \n3425  <ul><li>FREE TO APPLY - No 'Rip-Off' Upfront F...   \n3426  <ul><li>FREE TO APPLY - No 'Rip-Off' Upfront F...   \n3427                                          <ul></ul>   \n3428  <ul><li>Call NOW 24/7 or book instantly online...   \n\n                     EweMove Description S2 Description  ...  \\\n0     Could this Charming Churchtown property be you...  ...   \n1     In brief the property comprises of a living ro...  ...   \n2     You get an awful lot of house for your money w...  ...   \n3     190 Craven Road has been fully updated over th...  ...   \n4     190 Craven Road has been fully updated over th...  ...   \n...                                                 ...  ...   \n3424  NO EPC 15/5\\r\\nCouncil Tax - &pound;2117\\r\\nNe...  ...   \n3425  Neutrally deorated throughout, off road parkin...  ...   \n3426  Newly decorated throughout, off road parking &...  ...   \n3427  Wonderful family home, thoughtfully extended t...  ...   \n3428  There is plenty of space to live, relax & ente...  ...   \n\n                                           Price / Rent      Price Qualifier  \\\n0          <font color='blue'>&pound;200,000</font><br>                  NaN   \n1       <font color='blue'>&pound;600</font><br>Monthly              Monthly   \n2     <font color='blue'>&pound;550,000</font><br>Gu...          Guide Price   \n3     <font color='blue'>&pound;380,000</font><br>Of...  Offers in Region Of   \n4         <font color='blue'>&pound;1</font><br>Monthly              Monthly   \n...                                                 ...                  ...   \n3424             <font color='blue'>&pound;1</font><br>                  NaN   \n3425  <font color='blue'>&pound;1,050</font><br>Monthly              Monthly   \n3426  <font color='blue'>&pound;1,050</font><br>Monthly              Monthly   \n3427       <font color='blue'>&pound;350,000</font><br>                  NaN   \n3428    <font color='blue'>&pound;925</font><br>Monthly              Monthly   \n\n     Sale Price % Achieved Current EPC - EPC Expiry Date  \\\n0                     100%                    14-11-2022   \n1                      NaN                    19-11-2025   \n2                      NaN                    17-09-2024   \n3                      NaN                    08-07-2022   \n4                      NaN                    08-07-2022   \n...                    ...                           ...   \n3424                   NaN                           NaN   \n3425                   NaN                    02-04-2023   \n3426                   NaN                    02-04-2023   \n3427      98.571428571429%                    25-05-2028   \n3428                   NaN                           NaN   \n\n     DESC Council Tax Band DESC Leasehold Ground Rent  \\\n0                   Band C                         £4   \n1                   Band B                        NaN   \n2                      NaN                        NaN   \n3                   Band D                        NaN   \n4                   Band D                        NaN   \n...                    ...                        ...   \n3424                Band E                        NaN   \n3425                Band C                        NaN   \n3426                Band C                        NaN   \n3427                Band C                        NaN   \n3428                Band B                        NaN   \n\n     DESC Leasehold Service Charge ZPG_lease_expiry_years_remaining  \\\n0                              NaN                            916.0   \n1                              NaN                              NaN   \n2                              NaN                              NaN   \n3                              NaN                              NaN   \n4                              NaN                              NaN   \n...                            ...                              ...   \n3424                           NaN                              NaN   \n3425                           NaN                              NaN   \n3426                           NaN                              NaN   \n3427                           NaN                              NaN   \n3428                           NaN                              NaN   \n\n     # of Enquiry or viewings # of Apps/Offers  \n0                           0                1  \n1                           0                6  \n2                           0                1  \n3                           0                4  \n4                           0                0  \n...                       ...              ...  \n3424                        0                0  \n3425                        0                5  \n3426                        0                0  \n3427                        0                1  \n3428                        0                4  \n\n[3429 rows x 35 columns]",
      "text/html": "<div>\n<style scoped>\n    .dataframe tbody tr th:only-of-type {\n        vertical-align: middle;\n    }\n\n    .dataframe tbody tr th {\n        vertical-align: top;\n    }\n\n    .dataframe thead th {\n        text-align: right;\n    }\n</style>\n<table border=\"1\" class=\"dataframe\">\n  <thead>\n    <tr style=\"text-align: right;\">\n      <th></th>\n      <th>Full Address</th>\n      <th>Created</th>\n      <th>Advertised</th>\n      <th>Agreed</th>\n      <th>Completed</th>\n      <th>Date Listing Last Cancelled</th>\n      <th>Sale or Let</th>\n      <th>RTD3308_outside_space1 - Outside Space Description</th>\n      <th>EweMove Description S1 Features</th>\n      <th>EweMove Description S2 Description</th>\n      <th>...</th>\n      <th>Price / Rent</th>\n      <th>Price Qualifier</th>\n      <th>Sale Price % Achieved</th>\n      <th>Current EPC - EPC Expiry Date</th>\n      <th>DESC Council Tax Band</th>\n      <th>DESC Leasehold Ground Rent</th>\n      <th>DESC Leasehold Service Charge</th>\n      <th>ZPG_lease_expiry_years_remaining</th>\n      <th># of Enquiry or viewings</th>\n      <th># of Apps/Offers</th>\n    </tr>\n  </thead>\n  <tbody>\n    <tr>\n      <th>0</th>\n      <td>PR9 8PW</td>\n      <td>03-01-2018</td>\n      <td>04-01-2018</td>\n      <td>13-02-2018</td>\n      <td>08-05-2018</td>\n      <td>NaN</td>\n      <td>Sale</td>\n      <td>Back Garden</td>\n      <td>&lt;ul&gt;&lt;li&gt;A Charming Churchtown Property &lt;/li&gt;&lt;l...</td>\n      <td>Could this Charming Churchtown property be you...</td>\n      <td>...</td>\n      <td>&lt;font color='blue'&gt;&amp;pound;200,000&lt;/font&gt;&lt;br&gt;</td>\n      <td>NaN</td>\n      <td>100%</td>\n      <td>14-11-2022</td>\n      <td>Band C</td>\n      <td>£4</td>\n      <td>NaN</td>\n      <td>916.0</td>\n      <td>0</td>\n      <td>1</td>\n    </tr>\n    <tr>\n      <th>1</th>\n      <td>PR8 6XQ</td>\n      <td>03-01-2018</td>\n      <td>06-03-2018</td>\n      <td>28-03-2018</td>\n      <td>27-04-2018</td>\n      <td>NaN</td>\n      <td>Rental</td>\n      <td>Back Garden</td>\n      <td>&lt;ul&gt;&lt;li&gt;Well Proportioned Living Accommodation...</td>\n      <td>In brief the property comprises of a living ro...</td>\n      <td>...</td>\n      <td>&lt;font color='blue'&gt;&amp;pound;600&lt;/font&gt;&lt;br&gt;Monthly</td>\n      <td>Monthly</td>\n      <td>NaN</td>\n      <td>19-11-2025</td>\n      <td>Band B</td>\n      <td>NaN</td>\n      <td>NaN</td>\n      <td>NaN</td>\n      <td>0</td>\n      <td>6</td>\n    </tr>\n    <tr>\n      <th>2</th>\n      <td>RG14 2ET</td>\n      <td>09-01-2018</td>\n      <td>26-01-2018</td>\n      <td>05-04-2018</td>\n      <td>30-11-2018</td>\n      <td>NaN</td>\n      <td>Sale</td>\n      <td>Back Garden</td>\n      <td>&lt;ul&gt;&lt;li&gt;Wonderful Family Home&lt;/li&gt;&lt;li&gt;Close to...</td>\n      <td>You get an awful lot of house for your money w...</td>\n      <td>...</td>\n      <td>&lt;font color='blue'&gt;&amp;pound;550,000&lt;/font&gt;&lt;br&gt;Gu...</td>\n      <td>Guide Price</td>\n      <td>NaN</td>\n      <td>17-09-2024</td>\n      <td>NaN</td>\n      <td>NaN</td>\n      <td>NaN</td>\n      <td>NaN</td>\n      <td>0</td>\n      <td>1</td>\n    </tr>\n    <tr>\n      <th>3</th>\n      <td>RG14 5NS</td>\n      <td>15-01-2018</td>\n      <td>17-01-2018</td>\n      <td>27-04-2018</td>\n      <td>17-09-2018</td>\n      <td>22-01-2018</td>\n      <td>Sale</td>\n      <td>Back Garden</td>\n      <td>&lt;ul&gt;&lt;li&gt;Close to Local Schools&lt;/li&gt;&lt;li&gt;Close t...</td>\n      <td>190 Craven Road has been fully updated over th...</td>\n      <td>...</td>\n      <td>&lt;font color='blue'&gt;&amp;pound;380,000&lt;/font&gt;&lt;br&gt;Of...</td>\n      <td>Offers in Region Of</td>\n      <td>NaN</td>\n      <td>08-07-2022</td>\n      <td>Band D</td>\n      <td>NaN</td>\n      <td>NaN</td>\n      <td>NaN</td>\n      <td>0</td>\n      <td>4</td>\n    </tr>\n    <tr>\n      <th>4</th>\n      <td>RG14 5NS</td>\n      <td>22-01-2018</td>\n      <td>NaN</td>\n      <td>NaN</td>\n      <td>NaN</td>\n      <td>19-02-2018</td>\n      <td>Rental</td>\n      <td>Back Garden</td>\n      <td>&lt;ul&gt;&lt;li&gt;Close to Local Schools&lt;/li&gt;&lt;li&gt;Close t...</td>\n      <td>190 Craven Road has been fully updated over th...</td>\n      <td>...</td>\n      <td>&lt;font color='blue'&gt;&amp;pound;1&lt;/font&gt;&lt;br&gt;Monthly</td>\n      <td>Monthly</td>\n      <td>NaN</td>\n      <td>08-07-2022</td>\n      <td>Band D</td>\n      <td>NaN</td>\n      <td>NaN</td>\n      <td>NaN</td>\n      <td>0</td>\n      <td>0</td>\n    </tr>\n    <tr>\n      <th>...</th>\n      <td>...</td>\n      <td>...</td>\n      <td>...</td>\n      <td>...</td>\n      <td>...</td>\n      <td>...</td>\n      <td>...</td>\n      <td>...</td>\n      <td>...</td>\n      <td>...</td>\n      <td>...</td>\n      <td>...</td>\n      <td>...</td>\n      <td>...</td>\n      <td>...</td>\n      <td>...</td>\n      <td>...</td>\n      <td>...</td>\n      <td>...</td>\n      <td>...</td>\n      <td>...</td>\n    </tr>\n    <tr>\n      <th>3424</th>\n      <td>SS8 9PS</td>\n      <td>07-05-2018</td>\n      <td>NaN</td>\n      <td>NaN</td>\n      <td>NaN</td>\n      <td>18-06-2018</td>\n      <td>Sale</td>\n      <td>NaN</td>\n      <td>&lt;ul&gt;&lt;/ul&gt;</td>\n      <td>NO EPC 15/5\\r\\nCouncil Tax - &amp;pound;2117\\r\\nNe...</td>\n      <td>...</td>\n      <td>&lt;font color='blue'&gt;&amp;pound;1&lt;/font&gt;&lt;br&gt;</td>\n      <td>NaN</td>\n      <td>NaN</td>\n      <td>NaN</td>\n      <td>Band E</td>\n      <td>NaN</td>\n      <td>NaN</td>\n      <td>NaN</td>\n      <td>0</td>\n      <td>0</td>\n    </tr>\n    <tr>\n      <th>3425</th>\n      <td>SS7 3QL</td>\n      <td>08-05-2018</td>\n      <td>29-05-2018</td>\n      <td>06-06-2018</td>\n      <td>28-06-2018</td>\n      <td>NaN</td>\n      <td>Rental</td>\n      <td>Back Garden</td>\n      <td>&lt;ul&gt;&lt;li&gt;FREE TO APPLY - No 'Rip-Off' Upfront F...</td>\n      <td>Neutrally deorated throughout, off road parkin...</td>\n      <td>...</td>\n      <td>&lt;font color='blue'&gt;&amp;pound;1,050&lt;/font&gt;&lt;br&gt;Monthly</td>\n      <td>Monthly</td>\n      <td>NaN</td>\n      <td>02-04-2023</td>\n      <td>Band C</td>\n      <td>NaN</td>\n      <td>NaN</td>\n      <td>NaN</td>\n      <td>0</td>\n      <td>5</td>\n    </tr>\n    <tr>\n      <th>3426</th>\n      <td>SS7 3QL</td>\n      <td>10-05-2018</td>\n      <td>NaN</td>\n      <td>NaN</td>\n      <td>NaN</td>\n      <td>10-05-2018</td>\n      <td>Rental</td>\n      <td>Back Garden</td>\n      <td>&lt;ul&gt;&lt;li&gt;FREE TO APPLY - No 'Rip-Off' Upfront F...</td>\n      <td>Newly decorated throughout, off road parking &amp;...</td>\n      <td>...</td>\n      <td>&lt;font color='blue'&gt;&amp;pound;1,050&lt;/font&gt;&lt;br&gt;Monthly</td>\n      <td>Monthly</td>\n      <td>NaN</td>\n      <td>02-04-2023</td>\n      <td>Band C</td>\n      <td>NaN</td>\n      <td>NaN</td>\n      <td>NaN</td>\n      <td>0</td>\n      <td>0</td>\n    </tr>\n    <tr>\n      <th>3427</th>\n      <td>SS9 5SF</td>\n      <td>19-05-2018</td>\n      <td>21-05-2018</td>\n      <td>28-06-2018</td>\n      <td>25-10-2018</td>\n      <td>NaN</td>\n      <td>Sale</td>\n      <td>Back Garden</td>\n      <td>&lt;ul&gt;&lt;/ul&gt;</td>\n      <td>Wonderful family home, thoughtfully extended t...</td>\n      <td>...</td>\n      <td>&lt;font color='blue'&gt;&amp;pound;350,000&lt;/font&gt;&lt;br&gt;</td>\n      <td>NaN</td>\n      <td>98.571428571429%</td>\n      <td>25-05-2028</td>\n      <td>Band C</td>\n      <td>NaN</td>\n      <td>NaN</td>\n      <td>NaN</td>\n      <td>0</td>\n      <td>1</td>\n    </tr>\n    <tr>\n      <th>3428</th>\n      <td>SS0 7LA</td>\n      <td>26-06-2018</td>\n      <td>02-07-2018</td>\n      <td>09-07-2018</td>\n      <td>30-07-2018</td>\n      <td>NaN</td>\n      <td>Rental</td>\n      <td>Back Garden</td>\n      <td>&lt;ul&gt;&lt;li&gt;Call NOW 24/7 or book instantly online...</td>\n      <td>There is plenty of space to live, relax &amp; ente...</td>\n      <td>...</td>\n      <td>&lt;font color='blue'&gt;&amp;pound;925&lt;/font&gt;&lt;br&gt;Monthly</td>\n      <td>Monthly</td>\n      <td>NaN</td>\n      <td>NaN</td>\n      <td>Band B</td>\n      <td>NaN</td>\n      <td>NaN</td>\n      <td>NaN</td>\n      <td>0</td>\n      <td>4</td>\n    </tr>\n  </tbody>\n</table>\n<p>3429 rows × 35 columns</p>\n</div>"
     },
     "execution_count": 12,
     "metadata": {},
     "output_type": "execute_result"
    }
   ],
   "source": [
    "files[0]"
   ],
   "metadata": {
    "collapsed": false,
    "pycharm": {
     "name": "#%%\n"
    }
   }
  },
  {
   "cell_type": "code",
   "execution_count": 13,
   "outputs": [
    {
     "data": {
      "text/plain": "      Postcode     Created  Advertised      Agreed   Completed  \\\n0      PR9 8PW  03-01-2018  04-01-2018  13-02-2018  08-05-2018   \n1      PR8 6XQ  03-01-2018  06-03-2018  28-03-2018  27-04-2018   \n2     RG14 2ET  09-01-2018  26-01-2018  05-04-2018  30-11-2018   \n3     RG14 5NS  15-01-2018  17-01-2018  27-04-2018  17-09-2018   \n4     RG14 5NS  22-01-2018         NaN         NaN         NaN   \n...        ...         ...         ...         ...         ...   \n3411   SS8 9PS  07-05-2018         NaN         NaN         NaN   \n3412   SS7 3QL  08-05-2018  29-05-2018  06-06-2018  28-06-2018   \n3413   SS7 3QL  10-05-2018         NaN         NaN         NaN   \n3414   SS9 5SF  19-05-2018  21-05-2018  28-06-2018  25-10-2018   \n3415   SS0 7LA  26-06-2018  02-07-2018  09-07-2018  30-07-2018   \n\n     Date Listing Last Cancelled Sale or Let  \\\n0                            NaN        Sale   \n1                            NaN      Rental   \n2                            NaN        Sale   \n3                     22-01-2018        Sale   \n4                     19-02-2018      Rental   \n...                          ...         ...   \n3411                  18-06-2018        Sale   \n3412                         NaN      Rental   \n3413                  10-05-2018      Rental   \n3414                         NaN        Sale   \n3415                         NaN      Rental   \n\n     RTD3308_outside_space1 - Outside Space Description  \\\n0                                           Back Garden   \n1                                           Back Garden   \n2                                           Back Garden   \n3                                           Back Garden   \n4                                           Back Garden   \n...                                                 ...   \n3411                                                NaN   \n3412                                        Back Garden   \n3413                                        Back Garden   \n3414                                        Back Garden   \n3415                                        Back Garden   \n\n                        EweMove Description S1 Features  \\\n0     <ul><li>A Charming Churchtown Property </li><l...   \n1     <ul><li>Well Proportioned Living Accommodation...   \n2     <ul><li>Wonderful Family Home</li><li>Close to...   \n3     <ul><li>Close to Local Schools</li><li>Close t...   \n4     <ul><li>Close to Local Schools</li><li>Close t...   \n...                                                 ...   \n3411                                          <ul></ul>   \n3412  <ul><li>FREE TO APPLY - No 'Rip-Off' Upfront F...   \n3413  <ul><li>FREE TO APPLY - No 'Rip-Off' Upfront F...   \n3414                                          <ul></ul>   \n3415  <ul><li>Call NOW 24/7 or book instantly online...   \n\n                     EweMove Description S2 Description  ...  \\\n0     Could this Charming Churchtown property be you...  ...   \n1     In brief the property comprises of a living ro...  ...   \n2     You get an awful lot of house for your money w...  ...   \n3     190 Craven Road has been fully updated over th...  ...   \n4     190 Craven Road has been fully updated over th...  ...   \n...                                                 ...  ...   \n3411  NO EPC 15/5\\r\\nCouncil Tax - &pound;2117\\r\\nNe...  ...   \n3412  Neutrally deorated throughout, off road parkin...  ...   \n3413  Newly decorated throughout, off road parking &...  ...   \n3414  Wonderful family home, thoughtfully extended t...  ...   \n3415  There is plenty of space to live, relax & ente...  ...   \n\n                                           Price / Rent      Price Qualifier  \\\n0          <font color='blue'>&pound;200,000</font><br>                  NaN   \n1       <font color='blue'>&pound;600</font><br>Monthly              Monthly   \n2     <font color='blue'>&pound;550,000</font><br>Gu...          Guide Price   \n3     <font color='blue'>&pound;380,000</font><br>Of...  Offers in Region Of   \n4         <font color='blue'>&pound;1</font><br>Monthly              Monthly   \n...                                                 ...                  ...   \n3411             <font color='blue'>&pound;1</font><br>                  NaN   \n3412  <font color='blue'>&pound;1,050</font><br>Monthly              Monthly   \n3413  <font color='blue'>&pound;1,050</font><br>Monthly              Monthly   \n3414       <font color='blue'>&pound;350,000</font><br>                  NaN   \n3415    <font color='blue'>&pound;925</font><br>Monthly              Monthly   \n\n     Sale Price % Achieved Current EPC - EPC Expiry Date  \\\n0                     100%                    14-11-2022   \n1                      NaN                    19-11-2025   \n2                      NaN                    17-09-2024   \n3                      NaN                    08-07-2022   \n4                      NaN                    08-07-2022   \n...                    ...                           ...   \n3411                   NaN                           NaN   \n3412                   NaN                    02-04-2023   \n3413                   NaN                    02-04-2023   \n3414      98.571428571429%                    25-05-2028   \n3415                   NaN                           NaN   \n\n     DESC Council Tax Band DESC Leasehold Ground Rent  \\\n0                   Band C                         £4   \n1                   Band B                        NaN   \n2                      NaN                        NaN   \n3                   Band D                        NaN   \n4                   Band D                        NaN   \n...                    ...                        ...   \n3411                Band E                        NaN   \n3412                Band C                        NaN   \n3413                Band C                        NaN   \n3414                Band C                        NaN   \n3415                Band B                        NaN   \n\n     DESC Leasehold Service Charge ZPG_lease_expiry_years_remaining  \\\n0                              NaN                            916.0   \n1                              NaN                              NaN   \n2                              NaN                              NaN   \n3                              NaN                              NaN   \n4                              NaN                              NaN   \n...                            ...                              ...   \n3411                           NaN                              NaN   \n3412                           NaN                              NaN   \n3413                           NaN                              NaN   \n3414                           NaN                              NaN   \n3415                           NaN                              NaN   \n\n     # of Enquiry or viewings # of Apps/Offers  \n0                           0                1  \n1                           0                6  \n2                           0                1  \n3                           0                4  \n4                           0                0  \n...                       ...              ...  \n3411                        0                0  \n3412                        0                5  \n3413                        0                0  \n3414                        0                1  \n3415                        0                4  \n\n[3416 rows x 35 columns]",
      "text/html": "<div>\n<style scoped>\n    .dataframe tbody tr th:only-of-type {\n        vertical-align: middle;\n    }\n\n    .dataframe tbody tr th {\n        vertical-align: top;\n    }\n\n    .dataframe thead th {\n        text-align: right;\n    }\n</style>\n<table border=\"1\" class=\"dataframe\">\n  <thead>\n    <tr style=\"text-align: right;\">\n      <th></th>\n      <th>Postcode</th>\n      <th>Created</th>\n      <th>Advertised</th>\n      <th>Agreed</th>\n      <th>Completed</th>\n      <th>Date Listing Last Cancelled</th>\n      <th>Sale or Let</th>\n      <th>RTD3308_outside_space1 - Outside Space Description</th>\n      <th>EweMove Description S1 Features</th>\n      <th>EweMove Description S2 Description</th>\n      <th>...</th>\n      <th>Price / Rent</th>\n      <th>Price Qualifier</th>\n      <th>Sale Price % Achieved</th>\n      <th>Current EPC - EPC Expiry Date</th>\n      <th>DESC Council Tax Band</th>\n      <th>DESC Leasehold Ground Rent</th>\n      <th>DESC Leasehold Service Charge</th>\n      <th>ZPG_lease_expiry_years_remaining</th>\n      <th># of Enquiry or viewings</th>\n      <th># of Apps/Offers</th>\n    </tr>\n  </thead>\n  <tbody>\n    <tr>\n      <th>0</th>\n      <td>PR9 8PW</td>\n      <td>03-01-2018</td>\n      <td>04-01-2018</td>\n      <td>13-02-2018</td>\n      <td>08-05-2018</td>\n      <td>NaN</td>\n      <td>Sale</td>\n      <td>Back Garden</td>\n      <td>&lt;ul&gt;&lt;li&gt;A Charming Churchtown Property &lt;/li&gt;&lt;l...</td>\n      <td>Could this Charming Churchtown property be you...</td>\n      <td>...</td>\n      <td>&lt;font color='blue'&gt;&amp;pound;200,000&lt;/font&gt;&lt;br&gt;</td>\n      <td>NaN</td>\n      <td>100%</td>\n      <td>14-11-2022</td>\n      <td>Band C</td>\n      <td>£4</td>\n      <td>NaN</td>\n      <td>916.0</td>\n      <td>0</td>\n      <td>1</td>\n    </tr>\n    <tr>\n      <th>1</th>\n      <td>PR8 6XQ</td>\n      <td>03-01-2018</td>\n      <td>06-03-2018</td>\n      <td>28-03-2018</td>\n      <td>27-04-2018</td>\n      <td>NaN</td>\n      <td>Rental</td>\n      <td>Back Garden</td>\n      <td>&lt;ul&gt;&lt;li&gt;Well Proportioned Living Accommodation...</td>\n      <td>In brief the property comprises of a living ro...</td>\n      <td>...</td>\n      <td>&lt;font color='blue'&gt;&amp;pound;600&lt;/font&gt;&lt;br&gt;Monthly</td>\n      <td>Monthly</td>\n      <td>NaN</td>\n      <td>19-11-2025</td>\n      <td>Band B</td>\n      <td>NaN</td>\n      <td>NaN</td>\n      <td>NaN</td>\n      <td>0</td>\n      <td>6</td>\n    </tr>\n    <tr>\n      <th>2</th>\n      <td>RG14 2ET</td>\n      <td>09-01-2018</td>\n      <td>26-01-2018</td>\n      <td>05-04-2018</td>\n      <td>30-11-2018</td>\n      <td>NaN</td>\n      <td>Sale</td>\n      <td>Back Garden</td>\n      <td>&lt;ul&gt;&lt;li&gt;Wonderful Family Home&lt;/li&gt;&lt;li&gt;Close to...</td>\n      <td>You get an awful lot of house for your money w...</td>\n      <td>...</td>\n      <td>&lt;font color='blue'&gt;&amp;pound;550,000&lt;/font&gt;&lt;br&gt;Gu...</td>\n      <td>Guide Price</td>\n      <td>NaN</td>\n      <td>17-09-2024</td>\n      <td>NaN</td>\n      <td>NaN</td>\n      <td>NaN</td>\n      <td>NaN</td>\n      <td>0</td>\n      <td>1</td>\n    </tr>\n    <tr>\n      <th>3</th>\n      <td>RG14 5NS</td>\n      <td>15-01-2018</td>\n      <td>17-01-2018</td>\n      <td>27-04-2018</td>\n      <td>17-09-2018</td>\n      <td>22-01-2018</td>\n      <td>Sale</td>\n      <td>Back Garden</td>\n      <td>&lt;ul&gt;&lt;li&gt;Close to Local Schools&lt;/li&gt;&lt;li&gt;Close t...</td>\n      <td>190 Craven Road has been fully updated over th...</td>\n      <td>...</td>\n      <td>&lt;font color='blue'&gt;&amp;pound;380,000&lt;/font&gt;&lt;br&gt;Of...</td>\n      <td>Offers in Region Of</td>\n      <td>NaN</td>\n      <td>08-07-2022</td>\n      <td>Band D</td>\n      <td>NaN</td>\n      <td>NaN</td>\n      <td>NaN</td>\n      <td>0</td>\n      <td>4</td>\n    </tr>\n    <tr>\n      <th>4</th>\n      <td>RG14 5NS</td>\n      <td>22-01-2018</td>\n      <td>NaN</td>\n      <td>NaN</td>\n      <td>NaN</td>\n      <td>19-02-2018</td>\n      <td>Rental</td>\n      <td>Back Garden</td>\n      <td>&lt;ul&gt;&lt;li&gt;Close to Local Schools&lt;/li&gt;&lt;li&gt;Close t...</td>\n      <td>190 Craven Road has been fully updated over th...</td>\n      <td>...</td>\n      <td>&lt;font color='blue'&gt;&amp;pound;1&lt;/font&gt;&lt;br&gt;Monthly</td>\n      <td>Monthly</td>\n      <td>NaN</td>\n      <td>08-07-2022</td>\n      <td>Band D</td>\n      <td>NaN</td>\n      <td>NaN</td>\n      <td>NaN</td>\n      <td>0</td>\n      <td>0</td>\n    </tr>\n    <tr>\n      <th>...</th>\n      <td>...</td>\n      <td>...</td>\n      <td>...</td>\n      <td>...</td>\n      <td>...</td>\n      <td>...</td>\n      <td>...</td>\n      <td>...</td>\n      <td>...</td>\n      <td>...</td>\n      <td>...</td>\n      <td>...</td>\n      <td>...</td>\n      <td>...</td>\n      <td>...</td>\n      <td>...</td>\n      <td>...</td>\n      <td>...</td>\n      <td>...</td>\n      <td>...</td>\n      <td>...</td>\n    </tr>\n    <tr>\n      <th>3411</th>\n      <td>SS8 9PS</td>\n      <td>07-05-2018</td>\n      <td>NaN</td>\n      <td>NaN</td>\n      <td>NaN</td>\n      <td>18-06-2018</td>\n      <td>Sale</td>\n      <td>NaN</td>\n      <td>&lt;ul&gt;&lt;/ul&gt;</td>\n      <td>NO EPC 15/5\\r\\nCouncil Tax - &amp;pound;2117\\r\\nNe...</td>\n      <td>...</td>\n      <td>&lt;font color='blue'&gt;&amp;pound;1&lt;/font&gt;&lt;br&gt;</td>\n      <td>NaN</td>\n      <td>NaN</td>\n      <td>NaN</td>\n      <td>Band E</td>\n      <td>NaN</td>\n      <td>NaN</td>\n      <td>NaN</td>\n      <td>0</td>\n      <td>0</td>\n    </tr>\n    <tr>\n      <th>3412</th>\n      <td>SS7 3QL</td>\n      <td>08-05-2018</td>\n      <td>29-05-2018</td>\n      <td>06-06-2018</td>\n      <td>28-06-2018</td>\n      <td>NaN</td>\n      <td>Rental</td>\n      <td>Back Garden</td>\n      <td>&lt;ul&gt;&lt;li&gt;FREE TO APPLY - No 'Rip-Off' Upfront F...</td>\n      <td>Neutrally deorated throughout, off road parkin...</td>\n      <td>...</td>\n      <td>&lt;font color='blue'&gt;&amp;pound;1,050&lt;/font&gt;&lt;br&gt;Monthly</td>\n      <td>Monthly</td>\n      <td>NaN</td>\n      <td>02-04-2023</td>\n      <td>Band C</td>\n      <td>NaN</td>\n      <td>NaN</td>\n      <td>NaN</td>\n      <td>0</td>\n      <td>5</td>\n    </tr>\n    <tr>\n      <th>3413</th>\n      <td>SS7 3QL</td>\n      <td>10-05-2018</td>\n      <td>NaN</td>\n      <td>NaN</td>\n      <td>NaN</td>\n      <td>10-05-2018</td>\n      <td>Rental</td>\n      <td>Back Garden</td>\n      <td>&lt;ul&gt;&lt;li&gt;FREE TO APPLY - No 'Rip-Off' Upfront F...</td>\n      <td>Newly decorated throughout, off road parking &amp;...</td>\n      <td>...</td>\n      <td>&lt;font color='blue'&gt;&amp;pound;1,050&lt;/font&gt;&lt;br&gt;Monthly</td>\n      <td>Monthly</td>\n      <td>NaN</td>\n      <td>02-04-2023</td>\n      <td>Band C</td>\n      <td>NaN</td>\n      <td>NaN</td>\n      <td>NaN</td>\n      <td>0</td>\n      <td>0</td>\n    </tr>\n    <tr>\n      <th>3414</th>\n      <td>SS9 5SF</td>\n      <td>19-05-2018</td>\n      <td>21-05-2018</td>\n      <td>28-06-2018</td>\n      <td>25-10-2018</td>\n      <td>NaN</td>\n      <td>Sale</td>\n      <td>Back Garden</td>\n      <td>&lt;ul&gt;&lt;/ul&gt;</td>\n      <td>Wonderful family home, thoughtfully extended t...</td>\n      <td>...</td>\n      <td>&lt;font color='blue'&gt;&amp;pound;350,000&lt;/font&gt;&lt;br&gt;</td>\n      <td>NaN</td>\n      <td>98.571428571429%</td>\n      <td>25-05-2028</td>\n      <td>Band C</td>\n      <td>NaN</td>\n      <td>NaN</td>\n      <td>NaN</td>\n      <td>0</td>\n      <td>1</td>\n    </tr>\n    <tr>\n      <th>3415</th>\n      <td>SS0 7LA</td>\n      <td>26-06-2018</td>\n      <td>02-07-2018</td>\n      <td>09-07-2018</td>\n      <td>30-07-2018</td>\n      <td>NaN</td>\n      <td>Rental</td>\n      <td>Back Garden</td>\n      <td>&lt;ul&gt;&lt;li&gt;Call NOW 24/7 or book instantly online...</td>\n      <td>There is plenty of space to live, relax &amp; ente...</td>\n      <td>...</td>\n      <td>&lt;font color='blue'&gt;&amp;pound;925&lt;/font&gt;&lt;br&gt;Monthly</td>\n      <td>Monthly</td>\n      <td>NaN</td>\n      <td>NaN</td>\n      <td>Band B</td>\n      <td>NaN</td>\n      <td>NaN</td>\n      <td>NaN</td>\n      <td>0</td>\n      <td>4</td>\n    </tr>\n  </tbody>\n</table>\n<p>3416 rows × 35 columns</p>\n</div>"
     },
     "execution_count": 13,
     "metadata": {},
     "output_type": "execute_result"
    }
   ],
   "source": [
    "file = files[0]\n",
    "file = file.rename(columns={\"Full Address\": \"Postcode\"})\n",
    "file = file[file[\"Postcode\"].notna()]\n",
    "file = file.rename(index={i: j for i, j in zip(file.index, range(len(file)))})\n",
    "file"
   ],
   "metadata": {
    "collapsed": false,
    "pycharm": {
     "name": "#%%\n"
    }
   }
  },
  {
   "cell_type": "markdown",
   "source": [
    "# Test compatibility with CreateInputDataset"
   ],
   "metadata": {
    "collapsed": false,
    "pycharm": {
     "name": "#%% md\n"
    }
   }
  },
  {
   "cell_type": "code",
   "execution_count": 14,
   "outputs": [],
   "source": [
    "files = [pd.read_csv(path, encoding=\"ISO8859-1\") for path in paths]"
   ],
   "metadata": {
    "collapsed": false,
    "pycharm": {
     "name": "#%%\n"
    }
   }
  },
  {
   "cell_type": "code",
   "execution_count": 15,
   "outputs": [],
   "source": [
    "creation = CreateInputDataset(files[8])"
   ],
   "metadata": {
    "collapsed": false,
    "pycharm": {
     "name": "#%%\n"
    }
   }
  },
  {
   "cell_type": "code",
   "execution_count": 16,
   "outputs": [
    {
     "data": {
      "text/plain": "      Postcode  Sale or Let  Price Qualifier  DESC Council Tax Band  \\\n9          276            1                4                      6   \n33         216            1                4                      5   \n49         479            0                3                      0   \n57         482            0                3                      1   \n83         483            0                3                      2   \n...        ...          ...              ...                    ...   \n3075       579            0                3                      2   \n3076       579            1                6                      2   \n3078        68            0                3                      2   \n3079       587            0                3                      2   \n3081       589            1                2                      4   \n\n      RTD3316_condition1 - Condition Description  # of Enquiry or viewings  \\\n9                                              0                         0   \n33                                             0                         0   \n49                                             0                         0   \n57                                             0                         0   \n83                                             0                         0   \n...                                          ...                       ...   \n3075                                           0                         0   \n3076                                           0                         0   \n3078                                           0                         0   \n3079                                           0                         0   \n3081                                           0                         0   \n\n      # of Apps/Offers  \n9                    1  \n33                   0  \n49                   0  \n57                   0  \n83                   3  \n...                ...  \n3075                 0  \n3076                 2  \n3078                 4  \n3079                 2  \n3081                 1  \n\n[792 rows x 7 columns]",
      "text/html": "<div>\n<style scoped>\n    .dataframe tbody tr th:only-of-type {\n        vertical-align: middle;\n    }\n\n    .dataframe tbody tr th {\n        vertical-align: top;\n    }\n\n    .dataframe thead th {\n        text-align: right;\n    }\n</style>\n<table border=\"1\" class=\"dataframe\">\n  <thead>\n    <tr style=\"text-align: right;\">\n      <th></th>\n      <th>Postcode</th>\n      <th>Sale or Let</th>\n      <th>Price Qualifier</th>\n      <th>DESC Council Tax Band</th>\n      <th>RTD3316_condition1 - Condition Description</th>\n      <th># of Enquiry or viewings</th>\n      <th># of Apps/Offers</th>\n    </tr>\n  </thead>\n  <tbody>\n    <tr>\n      <th>9</th>\n      <td>276</td>\n      <td>1</td>\n      <td>4</td>\n      <td>6</td>\n      <td>0</td>\n      <td>0</td>\n      <td>1</td>\n    </tr>\n    <tr>\n      <th>33</th>\n      <td>216</td>\n      <td>1</td>\n      <td>4</td>\n      <td>5</td>\n      <td>0</td>\n      <td>0</td>\n      <td>0</td>\n    </tr>\n    <tr>\n      <th>49</th>\n      <td>479</td>\n      <td>0</td>\n      <td>3</td>\n      <td>0</td>\n      <td>0</td>\n      <td>0</td>\n      <td>0</td>\n    </tr>\n    <tr>\n      <th>57</th>\n      <td>482</td>\n      <td>0</td>\n      <td>3</td>\n      <td>1</td>\n      <td>0</td>\n      <td>0</td>\n      <td>0</td>\n    </tr>\n    <tr>\n      <th>83</th>\n      <td>483</td>\n      <td>0</td>\n      <td>3</td>\n      <td>2</td>\n      <td>0</td>\n      <td>0</td>\n      <td>3</td>\n    </tr>\n    <tr>\n      <th>...</th>\n      <td>...</td>\n      <td>...</td>\n      <td>...</td>\n      <td>...</td>\n      <td>...</td>\n      <td>...</td>\n      <td>...</td>\n    </tr>\n    <tr>\n      <th>3075</th>\n      <td>579</td>\n      <td>0</td>\n      <td>3</td>\n      <td>2</td>\n      <td>0</td>\n      <td>0</td>\n      <td>0</td>\n    </tr>\n    <tr>\n      <th>3076</th>\n      <td>579</td>\n      <td>1</td>\n      <td>6</td>\n      <td>2</td>\n      <td>0</td>\n      <td>0</td>\n      <td>2</td>\n    </tr>\n    <tr>\n      <th>3078</th>\n      <td>68</td>\n      <td>0</td>\n      <td>3</td>\n      <td>2</td>\n      <td>0</td>\n      <td>0</td>\n      <td>4</td>\n    </tr>\n    <tr>\n      <th>3079</th>\n      <td>587</td>\n      <td>0</td>\n      <td>3</td>\n      <td>2</td>\n      <td>0</td>\n      <td>0</td>\n      <td>2</td>\n    </tr>\n    <tr>\n      <th>3081</th>\n      <td>589</td>\n      <td>1</td>\n      <td>2</td>\n      <td>4</td>\n      <td>0</td>\n      <td>0</td>\n      <td>1</td>\n    </tr>\n  </tbody>\n</table>\n<p>792 rows × 7 columns</p>\n</div>"
     },
     "execution_count": 16,
     "metadata": {},
     "output_type": "execute_result"
    }
   ],
   "source": [
    "creation.get_general_dataset()"
   ],
   "metadata": {
    "collapsed": false,
    "pycharm": {
     "name": "#%%\n"
    }
   }
  },
  {
   "cell_type": "code",
   "execution_count": 17,
   "outputs": [
    {
     "data": {
      "text/plain": "      bedroom number  kitchen number  living number  bathroom number  \\\n9                  5               1              1                4   \n33                 2               1              0                2   \n49                 2               1              1                1   \n57                 4               1              1                1   \n83                 3               1              1                1   \n...              ...             ...            ...              ...   \n3075               3               1              0                1   \n3076               3               1              0                1   \n3078               3               1              0                1   \n3079               3               1              0                2   \n3081               3               1              0                2   \n\n      dining number  other number  \n9                 2            10  \n33                1            15  \n49                1             2  \n57                1             4  \n83                1             4  \n...             ...           ...  \n3075              1             8  \n3076              1             5  \n3078              1             4  \n3079              1             7  \n3081              1             7  \n\n[792 rows x 6 columns]",
      "text/html": "<div>\n<style scoped>\n    .dataframe tbody tr th:only-of-type {\n        vertical-align: middle;\n    }\n\n    .dataframe tbody tr th {\n        vertical-align: top;\n    }\n\n    .dataframe thead th {\n        text-align: right;\n    }\n</style>\n<table border=\"1\" class=\"dataframe\">\n  <thead>\n    <tr style=\"text-align: right;\">\n      <th></th>\n      <th>bedroom number</th>\n      <th>kitchen number</th>\n      <th>living number</th>\n      <th>bathroom number</th>\n      <th>dining number</th>\n      <th>other number</th>\n    </tr>\n  </thead>\n  <tbody>\n    <tr>\n      <th>9</th>\n      <td>5</td>\n      <td>1</td>\n      <td>1</td>\n      <td>4</td>\n      <td>2</td>\n      <td>10</td>\n    </tr>\n    <tr>\n      <th>33</th>\n      <td>2</td>\n      <td>1</td>\n      <td>0</td>\n      <td>2</td>\n      <td>1</td>\n      <td>15</td>\n    </tr>\n    <tr>\n      <th>49</th>\n      <td>2</td>\n      <td>1</td>\n      <td>1</td>\n      <td>1</td>\n      <td>1</td>\n      <td>2</td>\n    </tr>\n    <tr>\n      <th>57</th>\n      <td>4</td>\n      <td>1</td>\n      <td>1</td>\n      <td>1</td>\n      <td>1</td>\n      <td>4</td>\n    </tr>\n    <tr>\n      <th>83</th>\n      <td>3</td>\n      <td>1</td>\n      <td>1</td>\n      <td>1</td>\n      <td>1</td>\n      <td>4</td>\n    </tr>\n    <tr>\n      <th>...</th>\n      <td>...</td>\n      <td>...</td>\n      <td>...</td>\n      <td>...</td>\n      <td>...</td>\n      <td>...</td>\n    </tr>\n    <tr>\n      <th>3075</th>\n      <td>3</td>\n      <td>1</td>\n      <td>0</td>\n      <td>1</td>\n      <td>1</td>\n      <td>8</td>\n    </tr>\n    <tr>\n      <th>3076</th>\n      <td>3</td>\n      <td>1</td>\n      <td>0</td>\n      <td>1</td>\n      <td>1</td>\n      <td>5</td>\n    </tr>\n    <tr>\n      <th>3078</th>\n      <td>3</td>\n      <td>1</td>\n      <td>0</td>\n      <td>1</td>\n      <td>1</td>\n      <td>4</td>\n    </tr>\n    <tr>\n      <th>3079</th>\n      <td>3</td>\n      <td>1</td>\n      <td>0</td>\n      <td>2</td>\n      <td>1</td>\n      <td>7</td>\n    </tr>\n    <tr>\n      <th>3081</th>\n      <td>3</td>\n      <td>1</td>\n      <td>0</td>\n      <td>2</td>\n      <td>1</td>\n      <td>7</td>\n    </tr>\n  </tbody>\n</table>\n<p>792 rows × 6 columns</p>\n</div>"
     },
     "execution_count": 17,
     "metadata": {},
     "output_type": "execute_result"
    }
   ],
   "source": [
    "creation.get_room_dataset()"
   ],
   "metadata": {
    "collapsed": false,
    "pycharm": {
     "name": "#%%\n"
    }
   }
  },
  {
   "cell_type": "code",
   "execution_count": 18,
   "outputs": [
    {
     "data": {
      "text/plain": "      Allocated  Communal  Covered  Driveway  Garage  Gated  Off Street  \\\n9             0         0        0         1       0      1           1   \n33            0         0        0         1       1      0           1   \n49            0         0        0         0       0      0           1   \n57            0         0        0         1       1      0           1   \n83            0         0        0         1       0      0           1   \n...         ...       ...      ...       ...     ...    ...         ...   \n3075          0         0        0         0       0      0           0   \n3076          0         1        0         0       0      0           0   \n3078          0         0        0         1       0      0           1   \n3079          0         0        0         1       1      0           1   \n3081          0         0        0         1       1      0           1   \n\n      On Street  Permit  Private  ...  Central  Double Glazing  Eco-Friendly  \\\n9             0       0        0  ...        0               1             0   \n33            0       0        0  ...        0               1             0   \n49            0       0        0  ...        0               1             0   \n57            0       0        0  ...        1               1             0   \n83            0       0        0  ...        1               1             0   \n...         ...     ...      ...  ...      ...             ...           ...   \n3075          1       0        0  ...        0               1             0   \n3076          1       0        0  ...        0               1             0   \n3078          0       0        0  ...        0               1             0   \n3079          0       0        0  ...        0               1             0   \n3081          0       0        0  ...        0               1             0   \n\n      Electric  Gas  Gas Central  Night Storage  Oil  Solar  Under Floor  \n9            0    1            1              0    0      0            0  \n33           0    0            1              0    0      0            0  \n49           0    1            1              0    0      0            0  \n57           0    0            1              0    0      0            0  \n83           0    0            1              0    0      0            0  \n...        ...  ...          ...            ...  ...    ...          ...  \n3075         0    0            1              0    0      0            0  \n3076         0    0            1              0    0      0            0  \n3078         0    0            1              0    0      0            0  \n3079         0    1            1              0    0      0            0  \n3081         0    0            1              0    0      0            0  \n\n[792 rows x 37 columns]",
      "text/html": "<div>\n<style scoped>\n    .dataframe tbody tr th:only-of-type {\n        vertical-align: middle;\n    }\n\n    .dataframe tbody tr th {\n        vertical-align: top;\n    }\n\n    .dataframe thead th {\n        text-align: right;\n    }\n</style>\n<table border=\"1\" class=\"dataframe\">\n  <thead>\n    <tr style=\"text-align: right;\">\n      <th></th>\n      <th>Allocated</th>\n      <th>Communal</th>\n      <th>Covered</th>\n      <th>Driveway</th>\n      <th>Garage</th>\n      <th>Gated</th>\n      <th>Off Street</th>\n      <th>On Street</th>\n      <th>Permit</th>\n      <th>Private</th>\n      <th>...</th>\n      <th>Central</th>\n      <th>Double Glazing</th>\n      <th>Eco-Friendly</th>\n      <th>Electric</th>\n      <th>Gas</th>\n      <th>Gas Central</th>\n      <th>Night Storage</th>\n      <th>Oil</th>\n      <th>Solar</th>\n      <th>Under Floor</th>\n    </tr>\n  </thead>\n  <tbody>\n    <tr>\n      <th>9</th>\n      <td>0</td>\n      <td>0</td>\n      <td>0</td>\n      <td>1</td>\n      <td>0</td>\n      <td>1</td>\n      <td>1</td>\n      <td>0</td>\n      <td>0</td>\n      <td>0</td>\n      <td>...</td>\n      <td>0</td>\n      <td>1</td>\n      <td>0</td>\n      <td>0</td>\n      <td>1</td>\n      <td>1</td>\n      <td>0</td>\n      <td>0</td>\n      <td>0</td>\n      <td>0</td>\n    </tr>\n    <tr>\n      <th>33</th>\n      <td>0</td>\n      <td>0</td>\n      <td>0</td>\n      <td>1</td>\n      <td>1</td>\n      <td>0</td>\n      <td>1</td>\n      <td>0</td>\n      <td>0</td>\n      <td>0</td>\n      <td>...</td>\n      <td>0</td>\n      <td>1</td>\n      <td>0</td>\n      <td>0</td>\n      <td>0</td>\n      <td>1</td>\n      <td>0</td>\n      <td>0</td>\n      <td>0</td>\n      <td>0</td>\n    </tr>\n    <tr>\n      <th>49</th>\n      <td>0</td>\n      <td>0</td>\n      <td>0</td>\n      <td>0</td>\n      <td>0</td>\n      <td>0</td>\n      <td>1</td>\n      <td>0</td>\n      <td>0</td>\n      <td>0</td>\n      <td>...</td>\n      <td>0</td>\n      <td>1</td>\n      <td>0</td>\n      <td>0</td>\n      <td>1</td>\n      <td>1</td>\n      <td>0</td>\n      <td>0</td>\n      <td>0</td>\n      <td>0</td>\n    </tr>\n    <tr>\n      <th>57</th>\n      <td>0</td>\n      <td>0</td>\n      <td>0</td>\n      <td>1</td>\n      <td>1</td>\n      <td>0</td>\n      <td>1</td>\n      <td>0</td>\n      <td>0</td>\n      <td>0</td>\n      <td>...</td>\n      <td>1</td>\n      <td>1</td>\n      <td>0</td>\n      <td>0</td>\n      <td>0</td>\n      <td>1</td>\n      <td>0</td>\n      <td>0</td>\n      <td>0</td>\n      <td>0</td>\n    </tr>\n    <tr>\n      <th>83</th>\n      <td>0</td>\n      <td>0</td>\n      <td>0</td>\n      <td>1</td>\n      <td>0</td>\n      <td>0</td>\n      <td>1</td>\n      <td>0</td>\n      <td>0</td>\n      <td>0</td>\n      <td>...</td>\n      <td>1</td>\n      <td>1</td>\n      <td>0</td>\n      <td>0</td>\n      <td>0</td>\n      <td>1</td>\n      <td>0</td>\n      <td>0</td>\n      <td>0</td>\n      <td>0</td>\n    </tr>\n    <tr>\n      <th>...</th>\n      <td>...</td>\n      <td>...</td>\n      <td>...</td>\n      <td>...</td>\n      <td>...</td>\n      <td>...</td>\n      <td>...</td>\n      <td>...</td>\n      <td>...</td>\n      <td>...</td>\n      <td>...</td>\n      <td>...</td>\n      <td>...</td>\n      <td>...</td>\n      <td>...</td>\n      <td>...</td>\n      <td>...</td>\n      <td>...</td>\n      <td>...</td>\n      <td>...</td>\n      <td>...</td>\n    </tr>\n    <tr>\n      <th>3075</th>\n      <td>0</td>\n      <td>0</td>\n      <td>0</td>\n      <td>0</td>\n      <td>0</td>\n      <td>0</td>\n      <td>0</td>\n      <td>1</td>\n      <td>0</td>\n      <td>0</td>\n      <td>...</td>\n      <td>0</td>\n      <td>1</td>\n      <td>0</td>\n      <td>0</td>\n      <td>0</td>\n      <td>1</td>\n      <td>0</td>\n      <td>0</td>\n      <td>0</td>\n      <td>0</td>\n    </tr>\n    <tr>\n      <th>3076</th>\n      <td>0</td>\n      <td>1</td>\n      <td>0</td>\n      <td>0</td>\n      <td>0</td>\n      <td>0</td>\n      <td>0</td>\n      <td>1</td>\n      <td>0</td>\n      <td>0</td>\n      <td>...</td>\n      <td>0</td>\n      <td>1</td>\n      <td>0</td>\n      <td>0</td>\n      <td>0</td>\n      <td>1</td>\n      <td>0</td>\n      <td>0</td>\n      <td>0</td>\n      <td>0</td>\n    </tr>\n    <tr>\n      <th>3078</th>\n      <td>0</td>\n      <td>0</td>\n      <td>0</td>\n      <td>1</td>\n      <td>0</td>\n      <td>0</td>\n      <td>1</td>\n      <td>0</td>\n      <td>0</td>\n      <td>0</td>\n      <td>...</td>\n      <td>0</td>\n      <td>1</td>\n      <td>0</td>\n      <td>0</td>\n      <td>0</td>\n      <td>1</td>\n      <td>0</td>\n      <td>0</td>\n      <td>0</td>\n      <td>0</td>\n    </tr>\n    <tr>\n      <th>3079</th>\n      <td>0</td>\n      <td>0</td>\n      <td>0</td>\n      <td>1</td>\n      <td>1</td>\n      <td>0</td>\n      <td>1</td>\n      <td>0</td>\n      <td>0</td>\n      <td>0</td>\n      <td>...</td>\n      <td>0</td>\n      <td>1</td>\n      <td>0</td>\n      <td>0</td>\n      <td>1</td>\n      <td>1</td>\n      <td>0</td>\n      <td>0</td>\n      <td>0</td>\n      <td>0</td>\n    </tr>\n    <tr>\n      <th>3081</th>\n      <td>0</td>\n      <td>0</td>\n      <td>0</td>\n      <td>1</td>\n      <td>1</td>\n      <td>0</td>\n      <td>1</td>\n      <td>0</td>\n      <td>0</td>\n      <td>0</td>\n      <td>...</td>\n      <td>0</td>\n      <td>1</td>\n      <td>0</td>\n      <td>0</td>\n      <td>0</td>\n      <td>1</td>\n      <td>0</td>\n      <td>0</td>\n      <td>0</td>\n      <td>0</td>\n    </tr>\n  </tbody>\n</table>\n<p>792 rows × 37 columns</p>\n</div>"
     },
     "execution_count": 18,
     "metadata": {},
     "output_type": "execute_result"
    }
   ],
   "source": [
    "result = creation.get_categorical_dataset()\n",
    "result"
   ],
   "metadata": {
    "collapsed": false,
    "pycharm": {
     "name": "#%%\n"
    }
   }
  },
  {
   "cell_type": "code",
   "execution_count": 19,
   "outputs": [
    {
     "data": {
      "text/plain": "      Completed  Price / Rent\n9             1      900000.0\n33            0      350000.0\n49            0         600.0\n57            0         875.0\n83            1         675.0\n...         ...           ...\n3075          0           1.0\n3076          1      275000.0\n3078          1        1350.0\n3079          1        1325.0\n3081          1      455000.0\n\n[792 rows x 2 columns]",
      "text/html": "<div>\n<style scoped>\n    .dataframe tbody tr th:only-of-type {\n        vertical-align: middle;\n    }\n\n    .dataframe tbody tr th {\n        vertical-align: top;\n    }\n\n    .dataframe thead th {\n        text-align: right;\n    }\n</style>\n<table border=\"1\" class=\"dataframe\">\n  <thead>\n    <tr style=\"text-align: right;\">\n      <th></th>\n      <th>Completed</th>\n      <th>Price / Rent</th>\n    </tr>\n  </thead>\n  <tbody>\n    <tr>\n      <th>9</th>\n      <td>1</td>\n      <td>900000.0</td>\n    </tr>\n    <tr>\n      <th>33</th>\n      <td>0</td>\n      <td>350000.0</td>\n    </tr>\n    <tr>\n      <th>49</th>\n      <td>0</td>\n      <td>600.0</td>\n    </tr>\n    <tr>\n      <th>57</th>\n      <td>0</td>\n      <td>875.0</td>\n    </tr>\n    <tr>\n      <th>83</th>\n      <td>1</td>\n      <td>675.0</td>\n    </tr>\n    <tr>\n      <th>...</th>\n      <td>...</td>\n      <td>...</td>\n    </tr>\n    <tr>\n      <th>3075</th>\n      <td>0</td>\n      <td>1.0</td>\n    </tr>\n    <tr>\n      <th>3076</th>\n      <td>1</td>\n      <td>275000.0</td>\n    </tr>\n    <tr>\n      <th>3078</th>\n      <td>1</td>\n      <td>1350.0</td>\n    </tr>\n    <tr>\n      <th>3079</th>\n      <td>1</td>\n      <td>1325.0</td>\n    </tr>\n    <tr>\n      <th>3081</th>\n      <td>1</td>\n      <td>455000.0</td>\n    </tr>\n  </tbody>\n</table>\n<p>792 rows × 2 columns</p>\n</div>"
     },
     "execution_count": 19,
     "metadata": {},
     "output_type": "execute_result"
    }
   ],
   "source": [
    "creation.get_labels()"
   ],
   "metadata": {
    "collapsed": false,
    "pycharm": {
     "name": "#%%\n"
    }
   }
  },
  {
   "cell_type": "markdown",
   "source": [
    "# Create input dataset"
   ],
   "metadata": {
    "collapsed": false,
    "pycharm": {
     "name": "#%% md\n"
    }
   }
  },
  {
   "cell_type": "code",
   "execution_count": 20,
   "outputs": [],
   "source": [
    "folder = \"../datasets\"\n",
    "paths = [os.path.join(folder, path) for path in os.listdir(folder) if \"final\" not in path]"
   ],
   "metadata": {
    "collapsed": false,
    "pycharm": {
     "name": "#%%\n"
    }
   }
  },
  {
   "cell_type": "code",
   "execution_count": 23,
   "outputs": [],
   "source": [
    "features, labels, sources = CreateInputDataset.create_dataset(*paths)"
   ],
   "metadata": {
    "collapsed": false,
    "pycharm": {
     "name": "#%%\n"
    }
   }
  },
  {
   "cell_type": "code",
   "execution_count": 24,
   "outputs": [
    {
     "data": {
      "text/plain": "       Postcode  Sale or Let  Price Qualifier  DESC Council Tax Band  \\\n1          3633            0                3                      1   \n3          3672            1                7                      3   \n4          3672            0                3                      3   \n5          3672            0                3                      3   \n8          3675            1                7                      4   \n...         ...          ...              ...                    ...   \n34571      4510            0                3                      3   \n34574      4476            1                6                      3   \n34576      4491            1                6                      5   \n34578       550            0                3                      0   \n34579      4481            0                3                      3   \n\n       RTD3316_condition1 - Condition Description  # of Enquiry or viewings  \\\n1                                               0                         0   \n3                                               0                         0   \n4                                               0                         0   \n5                                               0                         0   \n8                                               0                         0   \n...                                           ...                       ...   \n34571                                           0                         0   \n34574                                           0                         0   \n34576                                           0                         0   \n34578                                           0                         0   \n34579                                           0                         0   \n\n       # of Apps/Offers  bedroom number  kitchen number  living number  ...  \\\n1                     6               2               1              1  ...   \n3                     4               3               1              0  ...   \n4                     0               3               1              0  ...   \n5                     0               3               1              0  ...   \n8                     1               4               1              0  ...   \n...                 ...             ...             ...            ...  ...   \n34571                 0               3               1              2  ...   \n34574                 1               3               1              1  ...   \n34576                 0               4               1              0  ...   \n34578                 2               1               1              0  ...   \n34579                 3               2               1              0  ...   \n\n       Double Glazing  Eco-Friendly  Electric  Gas  Gas Central  \\\n1                   1             0         0    0            1   \n3                   0             0         0    0            1   \n4                   0             0         0    0            1   \n5                   0             0         0    0            1   \n8                   0             0         0    0            1   \n...               ...           ...       ...  ...          ...   \n34571               0             0         0    0            1   \n34574               1             0         0    0            1   \n34576               1             0         0    1            1   \n34578               1             0         0    1            1   \n34579               1             0         0    0            1   \n\n       Night Storage  Oil  Solar  Solar Water  Under Floor  \n1                  0    0      0            0            0  \n3                  0    0      0            0            0  \n4                  0    0      0            0            0  \n5                  0    0      0            0            0  \n8                  0    0      0            0            0  \n...              ...  ...    ...          ...          ...  \n34571              0    0      0            0            0  \n34574              0    0      0            0            0  \n34576              0    0      0            0            0  \n34578              0    0      0            0            0  \n34579              0    0      0            0            0  \n\n[9177 rows x 51 columns]",
      "text/html": "<div>\n<style scoped>\n    .dataframe tbody tr th:only-of-type {\n        vertical-align: middle;\n    }\n\n    .dataframe tbody tr th {\n        vertical-align: top;\n    }\n\n    .dataframe thead th {\n        text-align: right;\n    }\n</style>\n<table border=\"1\" class=\"dataframe\">\n  <thead>\n    <tr style=\"text-align: right;\">\n      <th></th>\n      <th>Postcode</th>\n      <th>Sale or Let</th>\n      <th>Price Qualifier</th>\n      <th>DESC Council Tax Band</th>\n      <th>RTD3316_condition1 - Condition Description</th>\n      <th># of Enquiry or viewings</th>\n      <th># of Apps/Offers</th>\n      <th>bedroom number</th>\n      <th>kitchen number</th>\n      <th>living number</th>\n      <th>...</th>\n      <th>Double Glazing</th>\n      <th>Eco-Friendly</th>\n      <th>Electric</th>\n      <th>Gas</th>\n      <th>Gas Central</th>\n      <th>Night Storage</th>\n      <th>Oil</th>\n      <th>Solar</th>\n      <th>Solar Water</th>\n      <th>Under Floor</th>\n    </tr>\n  </thead>\n  <tbody>\n    <tr>\n      <th>1</th>\n      <td>3633</td>\n      <td>0</td>\n      <td>3</td>\n      <td>1</td>\n      <td>0</td>\n      <td>0</td>\n      <td>6</td>\n      <td>2</td>\n      <td>1</td>\n      <td>1</td>\n      <td>...</td>\n      <td>1</td>\n      <td>0</td>\n      <td>0</td>\n      <td>0</td>\n      <td>1</td>\n      <td>0</td>\n      <td>0</td>\n      <td>0</td>\n      <td>0</td>\n      <td>0</td>\n    </tr>\n    <tr>\n      <th>3</th>\n      <td>3672</td>\n      <td>1</td>\n      <td>7</td>\n      <td>3</td>\n      <td>0</td>\n      <td>0</td>\n      <td>4</td>\n      <td>3</td>\n      <td>1</td>\n      <td>0</td>\n      <td>...</td>\n      <td>0</td>\n      <td>0</td>\n      <td>0</td>\n      <td>0</td>\n      <td>1</td>\n      <td>0</td>\n      <td>0</td>\n      <td>0</td>\n      <td>0</td>\n      <td>0</td>\n    </tr>\n    <tr>\n      <th>4</th>\n      <td>3672</td>\n      <td>0</td>\n      <td>3</td>\n      <td>3</td>\n      <td>0</td>\n      <td>0</td>\n      <td>0</td>\n      <td>3</td>\n      <td>1</td>\n      <td>0</td>\n      <td>...</td>\n      <td>0</td>\n      <td>0</td>\n      <td>0</td>\n      <td>0</td>\n      <td>1</td>\n      <td>0</td>\n      <td>0</td>\n      <td>0</td>\n      <td>0</td>\n      <td>0</td>\n    </tr>\n    <tr>\n      <th>5</th>\n      <td>3672</td>\n      <td>0</td>\n      <td>3</td>\n      <td>3</td>\n      <td>0</td>\n      <td>0</td>\n      <td>0</td>\n      <td>3</td>\n      <td>1</td>\n      <td>0</td>\n      <td>...</td>\n      <td>0</td>\n      <td>0</td>\n      <td>0</td>\n      <td>0</td>\n      <td>1</td>\n      <td>0</td>\n      <td>0</td>\n      <td>0</td>\n      <td>0</td>\n      <td>0</td>\n    </tr>\n    <tr>\n      <th>8</th>\n      <td>3675</td>\n      <td>1</td>\n      <td>7</td>\n      <td>4</td>\n      <td>0</td>\n      <td>0</td>\n      <td>1</td>\n      <td>4</td>\n      <td>1</td>\n      <td>0</td>\n      <td>...</td>\n      <td>0</td>\n      <td>0</td>\n      <td>0</td>\n      <td>0</td>\n      <td>1</td>\n      <td>0</td>\n      <td>0</td>\n      <td>0</td>\n      <td>0</td>\n      <td>0</td>\n    </tr>\n    <tr>\n      <th>...</th>\n      <td>...</td>\n      <td>...</td>\n      <td>...</td>\n      <td>...</td>\n      <td>...</td>\n      <td>...</td>\n      <td>...</td>\n      <td>...</td>\n      <td>...</td>\n      <td>...</td>\n      <td>...</td>\n      <td>...</td>\n      <td>...</td>\n      <td>...</td>\n      <td>...</td>\n      <td>...</td>\n      <td>...</td>\n      <td>...</td>\n      <td>...</td>\n      <td>...</td>\n      <td>...</td>\n    </tr>\n    <tr>\n      <th>34571</th>\n      <td>4510</td>\n      <td>0</td>\n      <td>3</td>\n      <td>3</td>\n      <td>0</td>\n      <td>0</td>\n      <td>0</td>\n      <td>3</td>\n      <td>1</td>\n      <td>2</td>\n      <td>...</td>\n      <td>0</td>\n      <td>0</td>\n      <td>0</td>\n      <td>0</td>\n      <td>1</td>\n      <td>0</td>\n      <td>0</td>\n      <td>0</td>\n      <td>0</td>\n      <td>0</td>\n    </tr>\n    <tr>\n      <th>34574</th>\n      <td>4476</td>\n      <td>1</td>\n      <td>6</td>\n      <td>3</td>\n      <td>0</td>\n      <td>0</td>\n      <td>1</td>\n      <td>3</td>\n      <td>1</td>\n      <td>1</td>\n      <td>...</td>\n      <td>1</td>\n      <td>0</td>\n      <td>0</td>\n      <td>0</td>\n      <td>1</td>\n      <td>0</td>\n      <td>0</td>\n      <td>0</td>\n      <td>0</td>\n      <td>0</td>\n    </tr>\n    <tr>\n      <th>34576</th>\n      <td>4491</td>\n      <td>1</td>\n      <td>6</td>\n      <td>5</td>\n      <td>0</td>\n      <td>0</td>\n      <td>0</td>\n      <td>4</td>\n      <td>1</td>\n      <td>0</td>\n      <td>...</td>\n      <td>1</td>\n      <td>0</td>\n      <td>0</td>\n      <td>1</td>\n      <td>1</td>\n      <td>0</td>\n      <td>0</td>\n      <td>0</td>\n      <td>0</td>\n      <td>0</td>\n    </tr>\n    <tr>\n      <th>34578</th>\n      <td>550</td>\n      <td>0</td>\n      <td>3</td>\n      <td>0</td>\n      <td>0</td>\n      <td>0</td>\n      <td>2</td>\n      <td>1</td>\n      <td>1</td>\n      <td>0</td>\n      <td>...</td>\n      <td>1</td>\n      <td>0</td>\n      <td>0</td>\n      <td>1</td>\n      <td>1</td>\n      <td>0</td>\n      <td>0</td>\n      <td>0</td>\n      <td>0</td>\n      <td>0</td>\n    </tr>\n    <tr>\n      <th>34579</th>\n      <td>4481</td>\n      <td>0</td>\n      <td>3</td>\n      <td>3</td>\n      <td>0</td>\n      <td>0</td>\n      <td>3</td>\n      <td>2</td>\n      <td>1</td>\n      <td>0</td>\n      <td>...</td>\n      <td>1</td>\n      <td>0</td>\n      <td>0</td>\n      <td>0</td>\n      <td>1</td>\n      <td>0</td>\n      <td>0</td>\n      <td>0</td>\n      <td>0</td>\n      <td>0</td>\n    </tr>\n  </tbody>\n</table>\n<p>9177 rows × 51 columns</p>\n</div>"
     },
     "execution_count": 24,
     "metadata": {},
     "output_type": "execute_result"
    }
   ],
   "source": [
    "features"
   ],
   "metadata": {
    "collapsed": false,
    "pycharm": {
     "name": "#%%\n"
    }
   }
  },
  {
   "cell_type": "code",
   "execution_count": 25,
   "outputs": [
    {
     "data": {
      "text/plain": "1                 ../datasets/H1 2018 Data.csv@1\n3                 ../datasets/H1 2018 Data.csv@3\n4                 ../datasets/H1 2018 Data.csv@4\n5                 ../datasets/H1 2018 Data.csv@5\n8                 ../datasets/H1 2018 Data.csv@8\n                          ...                   \n34571    ../datasets/PropertyData_wDesc.csv@3639\n34574    ../datasets/PropertyData_wDesc.csv@3642\n34576    ../datasets/PropertyData_wDesc.csv@3644\n34578    ../datasets/PropertyData_wDesc.csv@3646\n34579    ../datasets/PropertyData_wDesc.csv@3647\nName: Source, Length: 9177, dtype: object"
     },
     "execution_count": 25,
     "metadata": {},
     "output_type": "execute_result"
    }
   ],
   "source": [
    "sources"
   ],
   "metadata": {
    "collapsed": false,
    "pycharm": {
     "name": "#%%\n"
    }
   }
  },
  {
   "cell_type": "code",
   "execution_count": 26,
   "outputs": [
    {
     "data": {
      "text/plain": "       Completed  Price / Rent\n1              1         600.0\n3              1      380000.0\n4              0           1.0\n5              0           1.0\n8              1      475000.0\n...          ...           ...\n34571          0        1200.0\n34574          1      340000.0\n34576          0      450000.0\n34578          1         750.0\n34579          1        1100.0\n\n[9177 rows x 2 columns]",
      "text/html": "<div>\n<style scoped>\n    .dataframe tbody tr th:only-of-type {\n        vertical-align: middle;\n    }\n\n    .dataframe tbody tr th {\n        vertical-align: top;\n    }\n\n    .dataframe thead th {\n        text-align: right;\n    }\n</style>\n<table border=\"1\" class=\"dataframe\">\n  <thead>\n    <tr style=\"text-align: right;\">\n      <th></th>\n      <th>Completed</th>\n      <th>Price / Rent</th>\n    </tr>\n  </thead>\n  <tbody>\n    <tr>\n      <th>1</th>\n      <td>1</td>\n      <td>600.0</td>\n    </tr>\n    <tr>\n      <th>3</th>\n      <td>1</td>\n      <td>380000.0</td>\n    </tr>\n    <tr>\n      <th>4</th>\n      <td>0</td>\n      <td>1.0</td>\n    </tr>\n    <tr>\n      <th>5</th>\n      <td>0</td>\n      <td>1.0</td>\n    </tr>\n    <tr>\n      <th>8</th>\n      <td>1</td>\n      <td>475000.0</td>\n    </tr>\n    <tr>\n      <th>...</th>\n      <td>...</td>\n      <td>...</td>\n    </tr>\n    <tr>\n      <th>34571</th>\n      <td>0</td>\n      <td>1200.0</td>\n    </tr>\n    <tr>\n      <th>34574</th>\n      <td>1</td>\n      <td>340000.0</td>\n    </tr>\n    <tr>\n      <th>34576</th>\n      <td>0</td>\n      <td>450000.0</td>\n    </tr>\n    <tr>\n      <th>34578</th>\n      <td>1</td>\n      <td>750.0</td>\n    </tr>\n    <tr>\n      <th>34579</th>\n      <td>1</td>\n      <td>1100.0</td>\n    </tr>\n  </tbody>\n</table>\n<p>9177 rows × 2 columns</p>\n</div>"
     },
     "execution_count": 26,
     "metadata": {},
     "output_type": "execute_result"
    }
   ],
   "source": [
    "labels"
   ],
   "metadata": {
    "collapsed": false,
    "pycharm": {
     "name": "#%%\n"
    }
   }
  },
  {
   "cell_type": "code",
   "execution_count": 27,
   "outputs": [],
   "source": [
    "features.to_csv(\"../datasets/final_features.csv\", index=False)\n",
    "labels.to_csv(\"../datasets/final_labels.csv\", index=False)\n",
    "sources.to_csv(\"../datasets/final_sources.csv\", index=False)"
   ],
   "metadata": {
    "collapsed": false,
    "pycharm": {
     "name": "#%%\n"
    }
   }
  },
  {
   "cell_type": "code",
   "execution_count": null,
   "outputs": [],
   "source": [],
   "metadata": {
    "collapsed": false,
    "pycharm": {
     "name": "#%%\n"
    }
   }
  }
 ],
 "metadata": {
  "kernelspec": {
   "display_name": "Python 3",
   "language": "python",
   "name": "python3"
  },
  "language_info": {
   "codemirror_mode": {
    "name": "ipython",
    "version": 2
   },
   "file_extension": ".py",
   "mimetype": "text/x-python",
   "name": "python",
   "nbconvert_exporter": "python",
   "pygments_lexer": "ipython2",
   "version": "2.7.6"
  }
 },
 "nbformat": 4,
 "nbformat_minor": 0
}