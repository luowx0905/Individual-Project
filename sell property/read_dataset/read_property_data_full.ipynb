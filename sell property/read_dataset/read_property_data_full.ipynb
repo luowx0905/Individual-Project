{
 "cells": [
  {
   "cell_type": "markdown",
   "source": [
    "# Import packages"
   ],
   "metadata": {
    "collapsed": false,
    "pycharm": {
     "name": "#%% md\n"
    }
   }
  },
  {
   "cell_type": "code",
   "execution_count": 1,
   "outputs": [],
   "source": [
    "import pandas as pd\n",
    "import numpy as np\n",
    "import parse\n",
    "import re\n",
    "import os\n",
    "import seaborn as sns\n",
    "from bs4 import BeautifulSoup # handle html strings\n",
    "from matplotlib import pyplot as plt\n",
    "\n",
    "from ProcessHTML import ProcessHTML\n",
    "from ExtractRooms import ExtractRooms\n",
    "from GeneralizeDataset import GeneralizeDataset\n",
    "from CreateInputDataset import CreateInputDataset"
   ],
   "metadata": {
    "collapsed": false,
    "pycharm": {
     "name": "#%%\n"
    }
   }
  },
  {
   "cell_type": "markdown",
   "source": [
    "# Read files"
   ],
   "metadata": {
    "collapsed": false,
    "pycharm": {
     "name": "#%% md\n"
    }
   }
  },
  {
   "cell_type": "code",
   "execution_count": 2,
   "outputs": [],
   "source": [
    "folder = \"../datasets\"\n",
    "paths = [os.path.join(folder, path) for path in os.listdir(folder) if \"H1\" in path or \"H2\" in path]"
   ],
   "metadata": {
    "collapsed": false,
    "pycharm": {
     "name": "#%%\n"
    }
   }
  },
  {
   "cell_type": "code",
   "execution_count": 3,
   "outputs": [],
   "source": [
    "files = [pd.read_csv(path, encoding=\"ISO8859-1\") for path in paths]"
   ],
   "metadata": {
    "collapsed": false,
    "pycharm": {
     "name": "#%%\n"
    }
   }
  },
  {
   "cell_type": "code",
   "execution_count": 4,
   "outputs": [
    {
     "data": {
      "text/plain": "                                     Full Address     Created  Advertised  \\\n0           2 Linden Drive, Farnham Royal SL2 3DA  01-07-2019         NaN   \n1     14 Ploughman's Gardens, Woodmansey HU17 0GN  02-07-2019  05-07-2019   \n2         5 White Otter Close, Birkdale,  PR8 3FE  02-07-2019         NaN   \n3        10 Longroyd Street North, Leeds LS11 5EU  02-07-2019         NaN   \n4       28 Buttermere Close, Southampton SO16 9GL  04-07-2019         NaN   \n...                                           ...         ...         ...   \n3294                 5 Gordons, Basildon SS13 3DZ  28-11-2019  30-11-2019   \n3295           8 Woodward Heights, Grays RM17 5RR  06-12-2019  26-12-2019   \n3296          38 Kimberley Road, Benfleet SS7 5NQ  06-12-2019  26-12-2019   \n3297             4 Malwood Road, Benfleet SS7 5SE  06-12-2019         NaN   \n3298    5 Central Road, Stanford-Le-Hope SS17 0BX  31-12-2019  03-01-2020   \n\n          Agreed   Completed Date Listing Last Cancelled Sale or Let  \\\n0            NaN         NaN                         NaN        Sale   \n1            NaN         NaN                  29-10-2019        Sale   \n2            NaN         NaN                         NaN        Sale   \n3            NaN         NaN                         NaN      Rental   \n4            NaN         NaN                  04-07-2019      Rental   \n...          ...         ...                         ...         ...   \n3294  09-12-2019  20-12-2019                         NaN      Rental   \n3295         NaN         NaN                  08-07-2020        Sale   \n3296         NaN         NaN                  11-08-2020        Sale   \n3297         NaN         NaN                  02-07-2020        Sale   \n3298  11-05-2020  02-07-2020                         NaN        Sale   \n\n     RTD3308_outside_space1 - Outside Space Description  \\\n0                                                   NaN   \n1                                           Back Garden   \n2                                                   NaN   \n3                                                   NaN   \n4                                                   NaN   \n...                                                 ...   \n3294                                        Back Garden   \n3295                                        Rear Garden   \n3296                                        Back Garden   \n3297                                                NaN   \n3298                                        Back Garden   \n\n                        EweMove Description S1 Features  \\\n0                                             <ul></ul>   \n1     <ul><li>Upgraded Modern 3 Bed Semi Detached Ho...   \n2                                             <ul></ul>   \n3                                             <ul></ul>   \n4                                             <ul></ul>   \n...                                                 ...   \n3294  <ul><li>Call NOW 24/7 or book instantly online...   \n3295  <ul><li>Call NOW 24/7 or book instantly online...   \n3296  <ul><li>Call NOW 24/7 or book instantly online...   \n3297                                          <ul></ul>   \n3298  <ul><li>Call NOW 24/7 or book instantly online...   \n\n                     EweMove Description S2 Description  ...  \\\n0                                                   NaN  ...   \n1     What a great opportunity to step onto or up th...  ...   \n2                                                   NaN  ...   \n3                                                   NaN  ...   \n4                                                   NaN  ...   \n...                                                 ...  ...   \n3294  This is a really well proportioned home, with ...  ...   \n3295  Such a lovely detached home with space aplenty...  ...   \n3296  This detached home has been very smartly updat...  ...   \n3297                                                NaN  ...   \n3298  Considerable work has been undertaken over the...  ...   \n\n                                           Price / Rent Price Qualifier  \\\n0                <font color='blue'>&pound;0</font><br>             NaN   \n1     <font color='blue'>&pound;200,000</font><br>Of...     Offers Over   \n2                <font color='blue'>&pound;0</font><br>             NaN   \n3         <font color='blue'>&pound;0</font><br>Monthly         Monthly   \n4         <font color='blue'>&pound;0</font><br>Monthly         Monthly   \n...                                                 ...             ...   \n3294  <font color='blue'>&pound;1,050</font><br>Monthly         Monthly   \n3295  <font color='blue'>&pound;600,000</font><br>Of...     Offers Over   \n3296  <font color='blue'>&pound;450,000</font><br>Of...     Offers Over   \n3297             <font color='blue'>&pound;0</font><br>             NaN   \n3298       <font color='blue'>&pound;340,000</font><br>             NaN   \n\n     Sale Price % Achieved Current EPC - EPC Expiry Date  \\\n0                      NaN                           NaN   \n1                      NaN                    14-08-2028   \n2                      NaN                           NaN   \n3                      NaN                           NaN   \n4                      NaN                           NaN   \n...                    ...                           ...   \n3294                   NaN                           NaN   \n3295                   NaN                    16-12-2029   \n3296                   NaN                    08-10-2026   \n3297                   NaN                           NaN   \n3298                   NaN                    19-07-2027   \n\n     DESC Council Tax Band DESC Leasehold Ground Rent  \\\n0                      NaN                        NaN   \n1                   Band C                        NaN   \n2                      NaN                        NaN   \n3                      NaN                        NaN   \n4                      NaN                        NaN   \n...                    ...                        ...   \n3294                Band B                        NaN   \n3295                Band G                        NaN   \n3296                Band D                        NaN   \n3297                   NaN                        NaN   \n3298                Band C                        NaN   \n\n     DESC Leasehold Service Charge ZPG_lease_expiry_years_remaining  \\\n0                              NaN                              NaN   \n1                              NaN                              NaN   \n2                              NaN                              NaN   \n3                              NaN                              NaN   \n4                              NaN                              NaN   \n...                            ...                              ...   \n3294                           NaN                              NaN   \n3295                           NaN                              NaN   \n3296                           NaN                              NaN   \n3297                           NaN                              NaN   \n3298                           NaN                              NaN   \n\n     # of Enquiry or viewings # of Apps/Offers  \n0                           0                0  \n1                           0                0  \n2                           0                0  \n3                           0                0  \n4                           0                0  \n...                       ...              ...  \n3294                        0               10  \n3295                        0                1  \n3296                        0                0  \n3297                        0                0  \n3298                        0                5  \n\n[3299 rows x 35 columns]",
      "text/html": "<div>\n<style scoped>\n    .dataframe tbody tr th:only-of-type {\n        vertical-align: middle;\n    }\n\n    .dataframe tbody tr th {\n        vertical-align: top;\n    }\n\n    .dataframe thead th {\n        text-align: right;\n    }\n</style>\n<table border=\"1\" class=\"dataframe\">\n  <thead>\n    <tr style=\"text-align: right;\">\n      <th></th>\n      <th>Full Address</th>\n      <th>Created</th>\n      <th>Advertised</th>\n      <th>Agreed</th>\n      <th>Completed</th>\n      <th>Date Listing Last Cancelled</th>\n      <th>Sale or Let</th>\n      <th>RTD3308_outside_space1 - Outside Space Description</th>\n      <th>EweMove Description S1 Features</th>\n      <th>EweMove Description S2 Description</th>\n      <th>...</th>\n      <th>Price / Rent</th>\n      <th>Price Qualifier</th>\n      <th>Sale Price % Achieved</th>\n      <th>Current EPC - EPC Expiry Date</th>\n      <th>DESC Council Tax Band</th>\n      <th>DESC Leasehold Ground Rent</th>\n      <th>DESC Leasehold Service Charge</th>\n      <th>ZPG_lease_expiry_years_remaining</th>\n      <th># of Enquiry or viewings</th>\n      <th># of Apps/Offers</th>\n    </tr>\n  </thead>\n  <tbody>\n    <tr>\n      <th>0</th>\n      <td>2 Linden Drive, Farnham Royal SL2 3DA</td>\n      <td>01-07-2019</td>\n      <td>NaN</td>\n      <td>NaN</td>\n      <td>NaN</td>\n      <td>NaN</td>\n      <td>Sale</td>\n      <td>NaN</td>\n      <td>&lt;ul&gt;&lt;/ul&gt;</td>\n      <td>NaN</td>\n      <td>...</td>\n      <td>&lt;font color='blue'&gt;&amp;pound;0&lt;/font&gt;&lt;br&gt;</td>\n      <td>NaN</td>\n      <td>NaN</td>\n      <td>NaN</td>\n      <td>NaN</td>\n      <td>NaN</td>\n      <td>NaN</td>\n      <td>NaN</td>\n      <td>0</td>\n      <td>0</td>\n    </tr>\n    <tr>\n      <th>1</th>\n      <td>14 Ploughman's Gardens, Woodmansey HU17 0GN</td>\n      <td>02-07-2019</td>\n      <td>05-07-2019</td>\n      <td>NaN</td>\n      <td>NaN</td>\n      <td>29-10-2019</td>\n      <td>Sale</td>\n      <td>Back Garden</td>\n      <td>&lt;ul&gt;&lt;li&gt;Upgraded Modern 3 Bed Semi Detached Ho...</td>\n      <td>What a great opportunity to step onto or up th...</td>\n      <td>...</td>\n      <td>&lt;font color='blue'&gt;&amp;pound;200,000&lt;/font&gt;&lt;br&gt;Of...</td>\n      <td>Offers Over</td>\n      <td>NaN</td>\n      <td>14-08-2028</td>\n      <td>Band C</td>\n      <td>NaN</td>\n      <td>NaN</td>\n      <td>NaN</td>\n      <td>0</td>\n      <td>0</td>\n    </tr>\n    <tr>\n      <th>2</th>\n      <td>5 White Otter Close, Birkdale,  PR8 3FE</td>\n      <td>02-07-2019</td>\n      <td>NaN</td>\n      <td>NaN</td>\n      <td>NaN</td>\n      <td>NaN</td>\n      <td>Sale</td>\n      <td>NaN</td>\n      <td>&lt;ul&gt;&lt;/ul&gt;</td>\n      <td>NaN</td>\n      <td>...</td>\n      <td>&lt;font color='blue'&gt;&amp;pound;0&lt;/font&gt;&lt;br&gt;</td>\n      <td>NaN</td>\n      <td>NaN</td>\n      <td>NaN</td>\n      <td>NaN</td>\n      <td>NaN</td>\n      <td>NaN</td>\n      <td>NaN</td>\n      <td>0</td>\n      <td>0</td>\n    </tr>\n    <tr>\n      <th>3</th>\n      <td>10 Longroyd Street North, Leeds LS11 5EU</td>\n      <td>02-07-2019</td>\n      <td>NaN</td>\n      <td>NaN</td>\n      <td>NaN</td>\n      <td>NaN</td>\n      <td>Rental</td>\n      <td>NaN</td>\n      <td>&lt;ul&gt;&lt;/ul&gt;</td>\n      <td>NaN</td>\n      <td>...</td>\n      <td>&lt;font color='blue'&gt;&amp;pound;0&lt;/font&gt;&lt;br&gt;Monthly</td>\n      <td>Monthly</td>\n      <td>NaN</td>\n      <td>NaN</td>\n      <td>NaN</td>\n      <td>NaN</td>\n      <td>NaN</td>\n      <td>NaN</td>\n      <td>0</td>\n      <td>0</td>\n    </tr>\n    <tr>\n      <th>4</th>\n      <td>28 Buttermere Close, Southampton SO16 9GL</td>\n      <td>04-07-2019</td>\n      <td>NaN</td>\n      <td>NaN</td>\n      <td>NaN</td>\n      <td>04-07-2019</td>\n      <td>Rental</td>\n      <td>NaN</td>\n      <td>&lt;ul&gt;&lt;/ul&gt;</td>\n      <td>NaN</td>\n      <td>...</td>\n      <td>&lt;font color='blue'&gt;&amp;pound;0&lt;/font&gt;&lt;br&gt;Monthly</td>\n      <td>Monthly</td>\n      <td>NaN</td>\n      <td>NaN</td>\n      <td>NaN</td>\n      <td>NaN</td>\n      <td>NaN</td>\n      <td>NaN</td>\n      <td>0</td>\n      <td>0</td>\n    </tr>\n    <tr>\n      <th>...</th>\n      <td>...</td>\n      <td>...</td>\n      <td>...</td>\n      <td>...</td>\n      <td>...</td>\n      <td>...</td>\n      <td>...</td>\n      <td>...</td>\n      <td>...</td>\n      <td>...</td>\n      <td>...</td>\n      <td>...</td>\n      <td>...</td>\n      <td>...</td>\n      <td>...</td>\n      <td>...</td>\n      <td>...</td>\n      <td>...</td>\n      <td>...</td>\n      <td>...</td>\n      <td>...</td>\n    </tr>\n    <tr>\n      <th>3294</th>\n      <td>5 Gordons, Basildon SS13 3DZ</td>\n      <td>28-11-2019</td>\n      <td>30-11-2019</td>\n      <td>09-12-2019</td>\n      <td>20-12-2019</td>\n      <td>NaN</td>\n      <td>Rental</td>\n      <td>Back Garden</td>\n      <td>&lt;ul&gt;&lt;li&gt;Call NOW 24/7 or book instantly online...</td>\n      <td>This is a really well proportioned home, with ...</td>\n      <td>...</td>\n      <td>&lt;font color='blue'&gt;&amp;pound;1,050&lt;/font&gt;&lt;br&gt;Monthly</td>\n      <td>Monthly</td>\n      <td>NaN</td>\n      <td>NaN</td>\n      <td>Band B</td>\n      <td>NaN</td>\n      <td>NaN</td>\n      <td>NaN</td>\n      <td>0</td>\n      <td>10</td>\n    </tr>\n    <tr>\n      <th>3295</th>\n      <td>8 Woodward Heights, Grays RM17 5RR</td>\n      <td>06-12-2019</td>\n      <td>26-12-2019</td>\n      <td>NaN</td>\n      <td>NaN</td>\n      <td>08-07-2020</td>\n      <td>Sale</td>\n      <td>Rear Garden</td>\n      <td>&lt;ul&gt;&lt;li&gt;Call NOW 24/7 or book instantly online...</td>\n      <td>Such a lovely detached home with space aplenty...</td>\n      <td>...</td>\n      <td>&lt;font color='blue'&gt;&amp;pound;600,000&lt;/font&gt;&lt;br&gt;Of...</td>\n      <td>Offers Over</td>\n      <td>NaN</td>\n      <td>16-12-2029</td>\n      <td>Band G</td>\n      <td>NaN</td>\n      <td>NaN</td>\n      <td>NaN</td>\n      <td>0</td>\n      <td>1</td>\n    </tr>\n    <tr>\n      <th>3296</th>\n      <td>38 Kimberley Road, Benfleet SS7 5NQ</td>\n      <td>06-12-2019</td>\n      <td>26-12-2019</td>\n      <td>NaN</td>\n      <td>NaN</td>\n      <td>11-08-2020</td>\n      <td>Sale</td>\n      <td>Back Garden</td>\n      <td>&lt;ul&gt;&lt;li&gt;Call NOW 24/7 or book instantly online...</td>\n      <td>This detached home has been very smartly updat...</td>\n      <td>...</td>\n      <td>&lt;font color='blue'&gt;&amp;pound;450,000&lt;/font&gt;&lt;br&gt;Of...</td>\n      <td>Offers Over</td>\n      <td>NaN</td>\n      <td>08-10-2026</td>\n      <td>Band D</td>\n      <td>NaN</td>\n      <td>NaN</td>\n      <td>NaN</td>\n      <td>0</td>\n      <td>0</td>\n    </tr>\n    <tr>\n      <th>3297</th>\n      <td>4 Malwood Road, Benfleet SS7 5SE</td>\n      <td>06-12-2019</td>\n      <td>NaN</td>\n      <td>NaN</td>\n      <td>NaN</td>\n      <td>02-07-2020</td>\n      <td>Sale</td>\n      <td>NaN</td>\n      <td>&lt;ul&gt;&lt;/ul&gt;</td>\n      <td>NaN</td>\n      <td>...</td>\n      <td>&lt;font color='blue'&gt;&amp;pound;0&lt;/font&gt;&lt;br&gt;</td>\n      <td>NaN</td>\n      <td>NaN</td>\n      <td>NaN</td>\n      <td>NaN</td>\n      <td>NaN</td>\n      <td>NaN</td>\n      <td>NaN</td>\n      <td>0</td>\n      <td>0</td>\n    </tr>\n    <tr>\n      <th>3298</th>\n      <td>5 Central Road, Stanford-Le-Hope SS17 0BX</td>\n      <td>31-12-2019</td>\n      <td>03-01-2020</td>\n      <td>11-05-2020</td>\n      <td>02-07-2020</td>\n      <td>NaN</td>\n      <td>Sale</td>\n      <td>Back Garden</td>\n      <td>&lt;ul&gt;&lt;li&gt;Call NOW 24/7 or book instantly online...</td>\n      <td>Considerable work has been undertaken over the...</td>\n      <td>...</td>\n      <td>&lt;font color='blue'&gt;&amp;pound;340,000&lt;/font&gt;&lt;br&gt;</td>\n      <td>NaN</td>\n      <td>NaN</td>\n      <td>19-07-2027</td>\n      <td>Band C</td>\n      <td>NaN</td>\n      <td>NaN</td>\n      <td>NaN</td>\n      <td>0</td>\n      <td>5</td>\n    </tr>\n  </tbody>\n</table>\n<p>3299 rows × 35 columns</p>\n</div>"
     },
     "execution_count": 4,
     "metadata": {},
     "output_type": "execute_result"
    }
   ],
   "source": [
    "files[0]"
   ],
   "metadata": {
    "collapsed": false,
    "pycharm": {
     "name": "#%%\n"
    }
   }
  },
  {
   "cell_type": "code",
   "execution_count": 5,
   "outputs": [],
   "source": [
    "subset = pd.read_csv(\"../datasets/PropertyData_wDesc.csv\", encoding=\"ISO8859-1\")"
   ],
   "metadata": {
    "collapsed": false,
    "pycharm": {
     "name": "#%%\n"
    }
   }
  },
  {
   "cell_type": "markdown",
   "source": [
    "# File contents"
   ],
   "metadata": {
    "collapsed": false,
    "pycharm": {
     "name": "#%% md\n"
    }
   }
  },
  {
   "cell_type": "code",
   "execution_count": 6,
   "outputs": [],
   "source": [
    "col_names = None\n",
    "for i, file in enumerate(files):\n",
    "    if col_names is None:\n",
    "        col_names = sorted(file.columns)\n",
    "    else:\n",
    "        if col_names != sorted(file.columns):\n",
    "            print(\"{}: ERROR\".format(paths[i]))\n",
    "            break"
   ],
   "metadata": {
    "collapsed": false,
    "pycharm": {
     "name": "#%%\n"
    }
   }
  },
  {
   "cell_type": "code",
   "execution_count": 7,
   "outputs": [
    {
     "name": "stdout",
     "output_type": "stream",
     "text": [
      "Postcode                                \n",
      "Full Address                            \n",
      "\n"
     ]
    }
   ],
   "source": [
    "for new, original in zip(col_names, sorted(subset.columns)):\n",
    "    if new != original:\n",
    "        print(\"{:40s}\\n{:40s}\\n\".format(original, new))"
   ],
   "metadata": {
    "collapsed": false,
    "pycharm": {
     "name": "#%%\n"
    }
   }
  },
  {
   "cell_type": "markdown",
   "source": [
    "# Extract postcode from full address"
   ],
   "metadata": {
    "collapsed": false,
    "pycharm": {
     "name": "#%% md\n"
    }
   }
  },
  {
   "cell_type": "code",
   "execution_count": 8,
   "outputs": [],
   "source": [
    "pattern = \"[A-Za-z]{1,2}[0-9Rr][0-9A-Za-z]? [0-9][ABD-HJLNP-UW-Zabd-hjlnp-uw-z]{2}\""
   ],
   "metadata": {
    "collapsed": false,
    "pycharm": {
     "name": "#%%\n"
    }
   }
  },
  {
   "cell_type": "code",
   "execution_count": 9,
   "outputs": [
    {
     "data": {
      "text/plain": "['SW5 9QN', 'NG9 2FF']"
     },
     "execution_count": 9,
     "metadata": {},
     "output_type": "execute_result"
    }
   ],
   "source": [
    "msg = \"Currently I live in SW5 9QN, two years ago I lived in NG9 2FF\"\n",
    "re.findall(pattern, msg)"
   ],
   "metadata": {
    "collapsed": false,
    "pycharm": {
     "name": "#%%\n"
    }
   }
  },
  {
   "cell_type": "code",
   "execution_count": 10,
   "outputs": [],
   "source": [
    "for file in files:\n",
    "    postcodes = []\n",
    "    for i in file[\"Full Address\"]:\n",
    "        postcode = re.findall(pattern, i)\n",
    "        if len(postcode) == 0:\n",
    "            postcodes.append(np.nan)\n",
    "        else:\n",
    "            postcodes.append(postcode[0])\n",
    "    file[\"Full Address\"] = postcodes"
   ],
   "metadata": {
    "collapsed": false,
    "pycharm": {
     "name": "#%%\n"
    }
   }
  },
  {
   "cell_type": "code",
   "execution_count": 11,
   "outputs": [
    {
     "data": {
      "text/plain": "     Full Address     Created  Advertised      Agreed   Completed  \\\n0         SL2 3DA  01-07-2019         NaN         NaN         NaN   \n1        HU17 0GN  02-07-2019  05-07-2019         NaN         NaN   \n2         PR8 3FE  02-07-2019         NaN         NaN         NaN   \n3        LS11 5EU  02-07-2019         NaN         NaN         NaN   \n4        SO16 9GL  04-07-2019         NaN         NaN         NaN   \n...           ...         ...         ...         ...         ...   \n3294     SS13 3DZ  28-11-2019  30-11-2019  09-12-2019  20-12-2019   \n3295     RM17 5RR  06-12-2019  26-12-2019         NaN         NaN   \n3296      SS7 5NQ  06-12-2019  26-12-2019         NaN         NaN   \n3297      SS7 5SE  06-12-2019         NaN         NaN         NaN   \n3298     SS17 0BX  31-12-2019  03-01-2020  11-05-2020  02-07-2020   \n\n     Date Listing Last Cancelled Sale or Let  \\\n0                            NaN        Sale   \n1                     29-10-2019        Sale   \n2                            NaN        Sale   \n3                            NaN      Rental   \n4                     04-07-2019      Rental   \n...                          ...         ...   \n3294                         NaN      Rental   \n3295                  08-07-2020        Sale   \n3296                  11-08-2020        Sale   \n3297                  02-07-2020        Sale   \n3298                         NaN        Sale   \n\n     RTD3308_outside_space1 - Outside Space Description  \\\n0                                                   NaN   \n1                                           Back Garden   \n2                                                   NaN   \n3                                                   NaN   \n4                                                   NaN   \n...                                                 ...   \n3294                                        Back Garden   \n3295                                        Rear Garden   \n3296                                        Back Garden   \n3297                                                NaN   \n3298                                        Back Garden   \n\n                        EweMove Description S1 Features  \\\n0                                             <ul></ul>   \n1     <ul><li>Upgraded Modern 3 Bed Semi Detached Ho...   \n2                                             <ul></ul>   \n3                                             <ul></ul>   \n4                                             <ul></ul>   \n...                                                 ...   \n3294  <ul><li>Call NOW 24/7 or book instantly online...   \n3295  <ul><li>Call NOW 24/7 or book instantly online...   \n3296  <ul><li>Call NOW 24/7 or book instantly online...   \n3297                                          <ul></ul>   \n3298  <ul><li>Call NOW 24/7 or book instantly online...   \n\n                     EweMove Description S2 Description  ...  \\\n0                                                   NaN  ...   \n1     What a great opportunity to step onto or up th...  ...   \n2                                                   NaN  ...   \n3                                                   NaN  ...   \n4                                                   NaN  ...   \n...                                                 ...  ...   \n3294  This is a really well proportioned home, with ...  ...   \n3295  Such a lovely detached home with space aplenty...  ...   \n3296  This detached home has been very smartly updat...  ...   \n3297                                                NaN  ...   \n3298  Considerable work has been undertaken over the...  ...   \n\n                                           Price / Rent Price Qualifier  \\\n0                <font color='blue'>&pound;0</font><br>             NaN   \n1     <font color='blue'>&pound;200,000</font><br>Of...     Offers Over   \n2                <font color='blue'>&pound;0</font><br>             NaN   \n3         <font color='blue'>&pound;0</font><br>Monthly         Monthly   \n4         <font color='blue'>&pound;0</font><br>Monthly         Monthly   \n...                                                 ...             ...   \n3294  <font color='blue'>&pound;1,050</font><br>Monthly         Monthly   \n3295  <font color='blue'>&pound;600,000</font><br>Of...     Offers Over   \n3296  <font color='blue'>&pound;450,000</font><br>Of...     Offers Over   \n3297             <font color='blue'>&pound;0</font><br>             NaN   \n3298       <font color='blue'>&pound;340,000</font><br>             NaN   \n\n     Sale Price % Achieved Current EPC - EPC Expiry Date  \\\n0                      NaN                           NaN   \n1                      NaN                    14-08-2028   \n2                      NaN                           NaN   \n3                      NaN                           NaN   \n4                      NaN                           NaN   \n...                    ...                           ...   \n3294                   NaN                           NaN   \n3295                   NaN                    16-12-2029   \n3296                   NaN                    08-10-2026   \n3297                   NaN                           NaN   \n3298                   NaN                    19-07-2027   \n\n     DESC Council Tax Band DESC Leasehold Ground Rent  \\\n0                      NaN                        NaN   \n1                   Band C                        NaN   \n2                      NaN                        NaN   \n3                      NaN                        NaN   \n4                      NaN                        NaN   \n...                    ...                        ...   \n3294                Band B                        NaN   \n3295                Band G                        NaN   \n3296                Band D                        NaN   \n3297                   NaN                        NaN   \n3298                Band C                        NaN   \n\n     DESC Leasehold Service Charge ZPG_lease_expiry_years_remaining  \\\n0                              NaN                              NaN   \n1                              NaN                              NaN   \n2                              NaN                              NaN   \n3                              NaN                              NaN   \n4                              NaN                              NaN   \n...                            ...                              ...   \n3294                           NaN                              NaN   \n3295                           NaN                              NaN   \n3296                           NaN                              NaN   \n3297                           NaN                              NaN   \n3298                           NaN                              NaN   \n\n     # of Enquiry or viewings # of Apps/Offers  \n0                           0                0  \n1                           0                0  \n2                           0                0  \n3                           0                0  \n4                           0                0  \n...                       ...              ...  \n3294                        0               10  \n3295                        0                1  \n3296                        0                0  \n3297                        0                0  \n3298                        0                5  \n\n[3299 rows x 35 columns]",
      "text/html": "<div>\n<style scoped>\n    .dataframe tbody tr th:only-of-type {\n        vertical-align: middle;\n    }\n\n    .dataframe tbody tr th {\n        vertical-align: top;\n    }\n\n    .dataframe thead th {\n        text-align: right;\n    }\n</style>\n<table border=\"1\" class=\"dataframe\">\n  <thead>\n    <tr style=\"text-align: right;\">\n      <th></th>\n      <th>Full Address</th>\n      <th>Created</th>\n      <th>Advertised</th>\n      <th>Agreed</th>\n      <th>Completed</th>\n      <th>Date Listing Last Cancelled</th>\n      <th>Sale or Let</th>\n      <th>RTD3308_outside_space1 - Outside Space Description</th>\n      <th>EweMove Description S1 Features</th>\n      <th>EweMove Description S2 Description</th>\n      <th>...</th>\n      <th>Price / Rent</th>\n      <th>Price Qualifier</th>\n      <th>Sale Price % Achieved</th>\n      <th>Current EPC - EPC Expiry Date</th>\n      <th>DESC Council Tax Band</th>\n      <th>DESC Leasehold Ground Rent</th>\n      <th>DESC Leasehold Service Charge</th>\n      <th>ZPG_lease_expiry_years_remaining</th>\n      <th># of Enquiry or viewings</th>\n      <th># of Apps/Offers</th>\n    </tr>\n  </thead>\n  <tbody>\n    <tr>\n      <th>0</th>\n      <td>SL2 3DA</td>\n      <td>01-07-2019</td>\n      <td>NaN</td>\n      <td>NaN</td>\n      <td>NaN</td>\n      <td>NaN</td>\n      <td>Sale</td>\n      <td>NaN</td>\n      <td>&lt;ul&gt;&lt;/ul&gt;</td>\n      <td>NaN</td>\n      <td>...</td>\n      <td>&lt;font color='blue'&gt;&amp;pound;0&lt;/font&gt;&lt;br&gt;</td>\n      <td>NaN</td>\n      <td>NaN</td>\n      <td>NaN</td>\n      <td>NaN</td>\n      <td>NaN</td>\n      <td>NaN</td>\n      <td>NaN</td>\n      <td>0</td>\n      <td>0</td>\n    </tr>\n    <tr>\n      <th>1</th>\n      <td>HU17 0GN</td>\n      <td>02-07-2019</td>\n      <td>05-07-2019</td>\n      <td>NaN</td>\n      <td>NaN</td>\n      <td>29-10-2019</td>\n      <td>Sale</td>\n      <td>Back Garden</td>\n      <td>&lt;ul&gt;&lt;li&gt;Upgraded Modern 3 Bed Semi Detached Ho...</td>\n      <td>What a great opportunity to step onto or up th...</td>\n      <td>...</td>\n      <td>&lt;font color='blue'&gt;&amp;pound;200,000&lt;/font&gt;&lt;br&gt;Of...</td>\n      <td>Offers Over</td>\n      <td>NaN</td>\n      <td>14-08-2028</td>\n      <td>Band C</td>\n      <td>NaN</td>\n      <td>NaN</td>\n      <td>NaN</td>\n      <td>0</td>\n      <td>0</td>\n    </tr>\n    <tr>\n      <th>2</th>\n      <td>PR8 3FE</td>\n      <td>02-07-2019</td>\n      <td>NaN</td>\n      <td>NaN</td>\n      <td>NaN</td>\n      <td>NaN</td>\n      <td>Sale</td>\n      <td>NaN</td>\n      <td>&lt;ul&gt;&lt;/ul&gt;</td>\n      <td>NaN</td>\n      <td>...</td>\n      <td>&lt;font color='blue'&gt;&amp;pound;0&lt;/font&gt;&lt;br&gt;</td>\n      <td>NaN</td>\n      <td>NaN</td>\n      <td>NaN</td>\n      <td>NaN</td>\n      <td>NaN</td>\n      <td>NaN</td>\n      <td>NaN</td>\n      <td>0</td>\n      <td>0</td>\n    </tr>\n    <tr>\n      <th>3</th>\n      <td>LS11 5EU</td>\n      <td>02-07-2019</td>\n      <td>NaN</td>\n      <td>NaN</td>\n      <td>NaN</td>\n      <td>NaN</td>\n      <td>Rental</td>\n      <td>NaN</td>\n      <td>&lt;ul&gt;&lt;/ul&gt;</td>\n      <td>NaN</td>\n      <td>...</td>\n      <td>&lt;font color='blue'&gt;&amp;pound;0&lt;/font&gt;&lt;br&gt;Monthly</td>\n      <td>Monthly</td>\n      <td>NaN</td>\n      <td>NaN</td>\n      <td>NaN</td>\n      <td>NaN</td>\n      <td>NaN</td>\n      <td>NaN</td>\n      <td>0</td>\n      <td>0</td>\n    </tr>\n    <tr>\n      <th>4</th>\n      <td>SO16 9GL</td>\n      <td>04-07-2019</td>\n      <td>NaN</td>\n      <td>NaN</td>\n      <td>NaN</td>\n      <td>04-07-2019</td>\n      <td>Rental</td>\n      <td>NaN</td>\n      <td>&lt;ul&gt;&lt;/ul&gt;</td>\n      <td>NaN</td>\n      <td>...</td>\n      <td>&lt;font color='blue'&gt;&amp;pound;0&lt;/font&gt;&lt;br&gt;Monthly</td>\n      <td>Monthly</td>\n      <td>NaN</td>\n      <td>NaN</td>\n      <td>NaN</td>\n      <td>NaN</td>\n      <td>NaN</td>\n      <td>NaN</td>\n      <td>0</td>\n      <td>0</td>\n    </tr>\n    <tr>\n      <th>...</th>\n      <td>...</td>\n      <td>...</td>\n      <td>...</td>\n      <td>...</td>\n      <td>...</td>\n      <td>...</td>\n      <td>...</td>\n      <td>...</td>\n      <td>...</td>\n      <td>...</td>\n      <td>...</td>\n      <td>...</td>\n      <td>...</td>\n      <td>...</td>\n      <td>...</td>\n      <td>...</td>\n      <td>...</td>\n      <td>...</td>\n      <td>...</td>\n      <td>...</td>\n      <td>...</td>\n    </tr>\n    <tr>\n      <th>3294</th>\n      <td>SS13 3DZ</td>\n      <td>28-11-2019</td>\n      <td>30-11-2019</td>\n      <td>09-12-2019</td>\n      <td>20-12-2019</td>\n      <td>NaN</td>\n      <td>Rental</td>\n      <td>Back Garden</td>\n      <td>&lt;ul&gt;&lt;li&gt;Call NOW 24/7 or book instantly online...</td>\n      <td>This is a really well proportioned home, with ...</td>\n      <td>...</td>\n      <td>&lt;font color='blue'&gt;&amp;pound;1,050&lt;/font&gt;&lt;br&gt;Monthly</td>\n      <td>Monthly</td>\n      <td>NaN</td>\n      <td>NaN</td>\n      <td>Band B</td>\n      <td>NaN</td>\n      <td>NaN</td>\n      <td>NaN</td>\n      <td>0</td>\n      <td>10</td>\n    </tr>\n    <tr>\n      <th>3295</th>\n      <td>RM17 5RR</td>\n      <td>06-12-2019</td>\n      <td>26-12-2019</td>\n      <td>NaN</td>\n      <td>NaN</td>\n      <td>08-07-2020</td>\n      <td>Sale</td>\n      <td>Rear Garden</td>\n      <td>&lt;ul&gt;&lt;li&gt;Call NOW 24/7 or book instantly online...</td>\n      <td>Such a lovely detached home with space aplenty...</td>\n      <td>...</td>\n      <td>&lt;font color='blue'&gt;&amp;pound;600,000&lt;/font&gt;&lt;br&gt;Of...</td>\n      <td>Offers Over</td>\n      <td>NaN</td>\n      <td>16-12-2029</td>\n      <td>Band G</td>\n      <td>NaN</td>\n      <td>NaN</td>\n      <td>NaN</td>\n      <td>0</td>\n      <td>1</td>\n    </tr>\n    <tr>\n      <th>3296</th>\n      <td>SS7 5NQ</td>\n      <td>06-12-2019</td>\n      <td>26-12-2019</td>\n      <td>NaN</td>\n      <td>NaN</td>\n      <td>11-08-2020</td>\n      <td>Sale</td>\n      <td>Back Garden</td>\n      <td>&lt;ul&gt;&lt;li&gt;Call NOW 24/7 or book instantly online...</td>\n      <td>This detached home has been very smartly updat...</td>\n      <td>...</td>\n      <td>&lt;font color='blue'&gt;&amp;pound;450,000&lt;/font&gt;&lt;br&gt;Of...</td>\n      <td>Offers Over</td>\n      <td>NaN</td>\n      <td>08-10-2026</td>\n      <td>Band D</td>\n      <td>NaN</td>\n      <td>NaN</td>\n      <td>NaN</td>\n      <td>0</td>\n      <td>0</td>\n    </tr>\n    <tr>\n      <th>3297</th>\n      <td>SS7 5SE</td>\n      <td>06-12-2019</td>\n      <td>NaN</td>\n      <td>NaN</td>\n      <td>NaN</td>\n      <td>02-07-2020</td>\n      <td>Sale</td>\n      <td>NaN</td>\n      <td>&lt;ul&gt;&lt;/ul&gt;</td>\n      <td>NaN</td>\n      <td>...</td>\n      <td>&lt;font color='blue'&gt;&amp;pound;0&lt;/font&gt;&lt;br&gt;</td>\n      <td>NaN</td>\n      <td>NaN</td>\n      <td>NaN</td>\n      <td>NaN</td>\n      <td>NaN</td>\n      <td>NaN</td>\n      <td>NaN</td>\n      <td>0</td>\n      <td>0</td>\n    </tr>\n    <tr>\n      <th>3298</th>\n      <td>SS17 0BX</td>\n      <td>31-12-2019</td>\n      <td>03-01-2020</td>\n      <td>11-05-2020</td>\n      <td>02-07-2020</td>\n      <td>NaN</td>\n      <td>Sale</td>\n      <td>Back Garden</td>\n      <td>&lt;ul&gt;&lt;li&gt;Call NOW 24/7 or book instantly online...</td>\n      <td>Considerable work has been undertaken over the...</td>\n      <td>...</td>\n      <td>&lt;font color='blue'&gt;&amp;pound;340,000&lt;/font&gt;&lt;br&gt;</td>\n      <td>NaN</td>\n      <td>NaN</td>\n      <td>19-07-2027</td>\n      <td>Band C</td>\n      <td>NaN</td>\n      <td>NaN</td>\n      <td>NaN</td>\n      <td>0</td>\n      <td>5</td>\n    </tr>\n  </tbody>\n</table>\n<p>3299 rows × 35 columns</p>\n</div>"
     },
     "execution_count": 11,
     "metadata": {},
     "output_type": "execute_result"
    }
   ],
   "source": [
    "files[0]"
   ],
   "metadata": {
    "collapsed": false,
    "pycharm": {
     "name": "#%%\n"
    }
   }
  },
  {
   "cell_type": "code",
   "execution_count": 12,
   "outputs": [
    {
     "data": {
      "text/plain": "      Postcode     Created  Advertised      Agreed   Completed  \\\n0      SL2 3DA  01-07-2019         NaN         NaN         NaN   \n1     HU17 0GN  02-07-2019  05-07-2019         NaN         NaN   \n2      PR8 3FE  02-07-2019         NaN         NaN         NaN   \n3     LS11 5EU  02-07-2019         NaN         NaN         NaN   \n4     SO16 9GL  04-07-2019         NaN         NaN         NaN   \n...        ...         ...         ...         ...         ...   \n3269  SS13 3DZ  28-11-2019  30-11-2019  09-12-2019  20-12-2019   \n3270  RM17 5RR  06-12-2019  26-12-2019         NaN         NaN   \n3271   SS7 5NQ  06-12-2019  26-12-2019         NaN         NaN   \n3272   SS7 5SE  06-12-2019         NaN         NaN         NaN   \n3273  SS17 0BX  31-12-2019  03-01-2020  11-05-2020  02-07-2020   \n\n     Date Listing Last Cancelled Sale or Let  \\\n0                            NaN        Sale   \n1                     29-10-2019        Sale   \n2                            NaN        Sale   \n3                            NaN      Rental   \n4                     04-07-2019      Rental   \n...                          ...         ...   \n3269                         NaN      Rental   \n3270                  08-07-2020        Sale   \n3271                  11-08-2020        Sale   \n3272                  02-07-2020        Sale   \n3273                         NaN        Sale   \n\n     RTD3308_outside_space1 - Outside Space Description  \\\n0                                                   NaN   \n1                                           Back Garden   \n2                                                   NaN   \n3                                                   NaN   \n4                                                   NaN   \n...                                                 ...   \n3269                                        Back Garden   \n3270                                        Rear Garden   \n3271                                        Back Garden   \n3272                                                NaN   \n3273                                        Back Garden   \n\n                        EweMove Description S1 Features  \\\n0                                             <ul></ul>   \n1     <ul><li>Upgraded Modern 3 Bed Semi Detached Ho...   \n2                                             <ul></ul>   \n3                                             <ul></ul>   \n4                                             <ul></ul>   \n...                                                 ...   \n3269  <ul><li>Call NOW 24/7 or book instantly online...   \n3270  <ul><li>Call NOW 24/7 or book instantly online...   \n3271  <ul><li>Call NOW 24/7 or book instantly online...   \n3272                                          <ul></ul>   \n3273  <ul><li>Call NOW 24/7 or book instantly online...   \n\n                     EweMove Description S2 Description  ...  \\\n0                                                   NaN  ...   \n1     What a great opportunity to step onto or up th...  ...   \n2                                                   NaN  ...   \n3                                                   NaN  ...   \n4                                                   NaN  ...   \n...                                                 ...  ...   \n3269  This is a really well proportioned home, with ...  ...   \n3270  Such a lovely detached home with space aplenty...  ...   \n3271  This detached home has been very smartly updat...  ...   \n3272                                                NaN  ...   \n3273  Considerable work has been undertaken over the...  ...   \n\n                                           Price / Rent Price Qualifier  \\\n0                <font color='blue'>&pound;0</font><br>             NaN   \n1     <font color='blue'>&pound;200,000</font><br>Of...     Offers Over   \n2                <font color='blue'>&pound;0</font><br>             NaN   \n3         <font color='blue'>&pound;0</font><br>Monthly         Monthly   \n4         <font color='blue'>&pound;0</font><br>Monthly         Monthly   \n...                                                 ...             ...   \n3269  <font color='blue'>&pound;1,050</font><br>Monthly         Monthly   \n3270  <font color='blue'>&pound;600,000</font><br>Of...     Offers Over   \n3271  <font color='blue'>&pound;450,000</font><br>Of...     Offers Over   \n3272             <font color='blue'>&pound;0</font><br>             NaN   \n3273       <font color='blue'>&pound;340,000</font><br>             NaN   \n\n     Sale Price % Achieved Current EPC - EPC Expiry Date  \\\n0                      NaN                           NaN   \n1                      NaN                    14-08-2028   \n2                      NaN                           NaN   \n3                      NaN                           NaN   \n4                      NaN                           NaN   \n...                    ...                           ...   \n3269                   NaN                           NaN   \n3270                   NaN                    16-12-2029   \n3271                   NaN                    08-10-2026   \n3272                   NaN                           NaN   \n3273                   NaN                    19-07-2027   \n\n     DESC Council Tax Band DESC Leasehold Ground Rent  \\\n0                      NaN                        NaN   \n1                   Band C                        NaN   \n2                      NaN                        NaN   \n3                      NaN                        NaN   \n4                      NaN                        NaN   \n...                    ...                        ...   \n3269                Band B                        NaN   \n3270                Band G                        NaN   \n3271                Band D                        NaN   \n3272                   NaN                        NaN   \n3273                Band C                        NaN   \n\n     DESC Leasehold Service Charge ZPG_lease_expiry_years_remaining  \\\n0                              NaN                              NaN   \n1                              NaN                              NaN   \n2                              NaN                              NaN   \n3                              NaN                              NaN   \n4                              NaN                              NaN   \n...                            ...                              ...   \n3269                           NaN                              NaN   \n3270                           NaN                              NaN   \n3271                           NaN                              NaN   \n3272                           NaN                              NaN   \n3273                           NaN                              NaN   \n\n     # of Enquiry or viewings # of Apps/Offers  \n0                           0                0  \n1                           0                0  \n2                           0                0  \n3                           0                0  \n4                           0                0  \n...                       ...              ...  \n3269                        0               10  \n3270                        0                1  \n3271                        0                0  \n3272                        0                0  \n3273                        0                5  \n\n[3274 rows x 35 columns]",
      "text/html": "<div>\n<style scoped>\n    .dataframe tbody tr th:only-of-type {\n        vertical-align: middle;\n    }\n\n    .dataframe tbody tr th {\n        vertical-align: top;\n    }\n\n    .dataframe thead th {\n        text-align: right;\n    }\n</style>\n<table border=\"1\" class=\"dataframe\">\n  <thead>\n    <tr style=\"text-align: right;\">\n      <th></th>\n      <th>Postcode</th>\n      <th>Created</th>\n      <th>Advertised</th>\n      <th>Agreed</th>\n      <th>Completed</th>\n      <th>Date Listing Last Cancelled</th>\n      <th>Sale or Let</th>\n      <th>RTD3308_outside_space1 - Outside Space Description</th>\n      <th>EweMove Description S1 Features</th>\n      <th>EweMove Description S2 Description</th>\n      <th>...</th>\n      <th>Price / Rent</th>\n      <th>Price Qualifier</th>\n      <th>Sale Price % Achieved</th>\n      <th>Current EPC - EPC Expiry Date</th>\n      <th>DESC Council Tax Band</th>\n      <th>DESC Leasehold Ground Rent</th>\n      <th>DESC Leasehold Service Charge</th>\n      <th>ZPG_lease_expiry_years_remaining</th>\n      <th># of Enquiry or viewings</th>\n      <th># of Apps/Offers</th>\n    </tr>\n  </thead>\n  <tbody>\n    <tr>\n      <th>0</th>\n      <td>SL2 3DA</td>\n      <td>01-07-2019</td>\n      <td>NaN</td>\n      <td>NaN</td>\n      <td>NaN</td>\n      <td>NaN</td>\n      <td>Sale</td>\n      <td>NaN</td>\n      <td>&lt;ul&gt;&lt;/ul&gt;</td>\n      <td>NaN</td>\n      <td>...</td>\n      <td>&lt;font color='blue'&gt;&amp;pound;0&lt;/font&gt;&lt;br&gt;</td>\n      <td>NaN</td>\n      <td>NaN</td>\n      <td>NaN</td>\n      <td>NaN</td>\n      <td>NaN</td>\n      <td>NaN</td>\n      <td>NaN</td>\n      <td>0</td>\n      <td>0</td>\n    </tr>\n    <tr>\n      <th>1</th>\n      <td>HU17 0GN</td>\n      <td>02-07-2019</td>\n      <td>05-07-2019</td>\n      <td>NaN</td>\n      <td>NaN</td>\n      <td>29-10-2019</td>\n      <td>Sale</td>\n      <td>Back Garden</td>\n      <td>&lt;ul&gt;&lt;li&gt;Upgraded Modern 3 Bed Semi Detached Ho...</td>\n      <td>What a great opportunity to step onto or up th...</td>\n      <td>...</td>\n      <td>&lt;font color='blue'&gt;&amp;pound;200,000&lt;/font&gt;&lt;br&gt;Of...</td>\n      <td>Offers Over</td>\n      <td>NaN</td>\n      <td>14-08-2028</td>\n      <td>Band C</td>\n      <td>NaN</td>\n      <td>NaN</td>\n      <td>NaN</td>\n      <td>0</td>\n      <td>0</td>\n    </tr>\n    <tr>\n      <th>2</th>\n      <td>PR8 3FE</td>\n      <td>02-07-2019</td>\n      <td>NaN</td>\n      <td>NaN</td>\n      <td>NaN</td>\n      <td>NaN</td>\n      <td>Sale</td>\n      <td>NaN</td>\n      <td>&lt;ul&gt;&lt;/ul&gt;</td>\n      <td>NaN</td>\n      <td>...</td>\n      <td>&lt;font color='blue'&gt;&amp;pound;0&lt;/font&gt;&lt;br&gt;</td>\n      <td>NaN</td>\n      <td>NaN</td>\n      <td>NaN</td>\n      <td>NaN</td>\n      <td>NaN</td>\n      <td>NaN</td>\n      <td>NaN</td>\n      <td>0</td>\n      <td>0</td>\n    </tr>\n    <tr>\n      <th>3</th>\n      <td>LS11 5EU</td>\n      <td>02-07-2019</td>\n      <td>NaN</td>\n      <td>NaN</td>\n      <td>NaN</td>\n      <td>NaN</td>\n      <td>Rental</td>\n      <td>NaN</td>\n      <td>&lt;ul&gt;&lt;/ul&gt;</td>\n      <td>NaN</td>\n      <td>...</td>\n      <td>&lt;font color='blue'&gt;&amp;pound;0&lt;/font&gt;&lt;br&gt;Monthly</td>\n      <td>Monthly</td>\n      <td>NaN</td>\n      <td>NaN</td>\n      <td>NaN</td>\n      <td>NaN</td>\n      <td>NaN</td>\n      <td>NaN</td>\n      <td>0</td>\n      <td>0</td>\n    </tr>\n    <tr>\n      <th>4</th>\n      <td>SO16 9GL</td>\n      <td>04-07-2019</td>\n      <td>NaN</td>\n      <td>NaN</td>\n      <td>NaN</td>\n      <td>04-07-2019</td>\n      <td>Rental</td>\n      <td>NaN</td>\n      <td>&lt;ul&gt;&lt;/ul&gt;</td>\n      <td>NaN</td>\n      <td>...</td>\n      <td>&lt;font color='blue'&gt;&amp;pound;0&lt;/font&gt;&lt;br&gt;Monthly</td>\n      <td>Monthly</td>\n      <td>NaN</td>\n      <td>NaN</td>\n      <td>NaN</td>\n      <td>NaN</td>\n      <td>NaN</td>\n      <td>NaN</td>\n      <td>0</td>\n      <td>0</td>\n    </tr>\n    <tr>\n      <th>...</th>\n      <td>...</td>\n      <td>...</td>\n      <td>...</td>\n      <td>...</td>\n      <td>...</td>\n      <td>...</td>\n      <td>...</td>\n      <td>...</td>\n      <td>...</td>\n      <td>...</td>\n      <td>...</td>\n      <td>...</td>\n      <td>...</td>\n      <td>...</td>\n      <td>...</td>\n      <td>...</td>\n      <td>...</td>\n      <td>...</td>\n      <td>...</td>\n      <td>...</td>\n      <td>...</td>\n    </tr>\n    <tr>\n      <th>3269</th>\n      <td>SS13 3DZ</td>\n      <td>28-11-2019</td>\n      <td>30-11-2019</td>\n      <td>09-12-2019</td>\n      <td>20-12-2019</td>\n      <td>NaN</td>\n      <td>Rental</td>\n      <td>Back Garden</td>\n      <td>&lt;ul&gt;&lt;li&gt;Call NOW 24/7 or book instantly online...</td>\n      <td>This is a really well proportioned home, with ...</td>\n      <td>...</td>\n      <td>&lt;font color='blue'&gt;&amp;pound;1,050&lt;/font&gt;&lt;br&gt;Monthly</td>\n      <td>Monthly</td>\n      <td>NaN</td>\n      <td>NaN</td>\n      <td>Band B</td>\n      <td>NaN</td>\n      <td>NaN</td>\n      <td>NaN</td>\n      <td>0</td>\n      <td>10</td>\n    </tr>\n    <tr>\n      <th>3270</th>\n      <td>RM17 5RR</td>\n      <td>06-12-2019</td>\n      <td>26-12-2019</td>\n      <td>NaN</td>\n      <td>NaN</td>\n      <td>08-07-2020</td>\n      <td>Sale</td>\n      <td>Rear Garden</td>\n      <td>&lt;ul&gt;&lt;li&gt;Call NOW 24/7 or book instantly online...</td>\n      <td>Such a lovely detached home with space aplenty...</td>\n      <td>...</td>\n      <td>&lt;font color='blue'&gt;&amp;pound;600,000&lt;/font&gt;&lt;br&gt;Of...</td>\n      <td>Offers Over</td>\n      <td>NaN</td>\n      <td>16-12-2029</td>\n      <td>Band G</td>\n      <td>NaN</td>\n      <td>NaN</td>\n      <td>NaN</td>\n      <td>0</td>\n      <td>1</td>\n    </tr>\n    <tr>\n      <th>3271</th>\n      <td>SS7 5NQ</td>\n      <td>06-12-2019</td>\n      <td>26-12-2019</td>\n      <td>NaN</td>\n      <td>NaN</td>\n      <td>11-08-2020</td>\n      <td>Sale</td>\n      <td>Back Garden</td>\n      <td>&lt;ul&gt;&lt;li&gt;Call NOW 24/7 or book instantly online...</td>\n      <td>This detached home has been very smartly updat...</td>\n      <td>...</td>\n      <td>&lt;font color='blue'&gt;&amp;pound;450,000&lt;/font&gt;&lt;br&gt;Of...</td>\n      <td>Offers Over</td>\n      <td>NaN</td>\n      <td>08-10-2026</td>\n      <td>Band D</td>\n      <td>NaN</td>\n      <td>NaN</td>\n      <td>NaN</td>\n      <td>0</td>\n      <td>0</td>\n    </tr>\n    <tr>\n      <th>3272</th>\n      <td>SS7 5SE</td>\n      <td>06-12-2019</td>\n      <td>NaN</td>\n      <td>NaN</td>\n      <td>NaN</td>\n      <td>02-07-2020</td>\n      <td>Sale</td>\n      <td>NaN</td>\n      <td>&lt;ul&gt;&lt;/ul&gt;</td>\n      <td>NaN</td>\n      <td>...</td>\n      <td>&lt;font color='blue'&gt;&amp;pound;0&lt;/font&gt;&lt;br&gt;</td>\n      <td>NaN</td>\n      <td>NaN</td>\n      <td>NaN</td>\n      <td>NaN</td>\n      <td>NaN</td>\n      <td>NaN</td>\n      <td>NaN</td>\n      <td>0</td>\n      <td>0</td>\n    </tr>\n    <tr>\n      <th>3273</th>\n      <td>SS17 0BX</td>\n      <td>31-12-2019</td>\n      <td>03-01-2020</td>\n      <td>11-05-2020</td>\n      <td>02-07-2020</td>\n      <td>NaN</td>\n      <td>Sale</td>\n      <td>Back Garden</td>\n      <td>&lt;ul&gt;&lt;li&gt;Call NOW 24/7 or book instantly online...</td>\n      <td>Considerable work has been undertaken over the...</td>\n      <td>...</td>\n      <td>&lt;font color='blue'&gt;&amp;pound;340,000&lt;/font&gt;&lt;br&gt;</td>\n      <td>NaN</td>\n      <td>NaN</td>\n      <td>19-07-2027</td>\n      <td>Band C</td>\n      <td>NaN</td>\n      <td>NaN</td>\n      <td>NaN</td>\n      <td>0</td>\n      <td>5</td>\n    </tr>\n  </tbody>\n</table>\n<p>3274 rows × 35 columns</p>\n</div>"
     },
     "execution_count": 12,
     "metadata": {},
     "output_type": "execute_result"
    }
   ],
   "source": [
    "file = files[0]\n",
    "file = file.rename(columns={\"Full Address\": \"Postcode\"})\n",
    "file = file[file[\"Postcode\"].notna()]\n",
    "file = file.rename(index={i: j for i, j in zip(file.index, range(len(file)))})\n",
    "file"
   ],
   "metadata": {
    "collapsed": false,
    "pycharm": {
     "name": "#%%\n"
    }
   }
  },
  {
   "cell_type": "markdown",
   "source": [
    "# Test compatibility with CreateInputDataset"
   ],
   "metadata": {
    "collapsed": false,
    "pycharm": {
     "name": "#%% md\n"
    }
   }
  },
  {
   "cell_type": "code",
   "execution_count": 13,
   "outputs": [],
   "source": [
    "files = [pd.read_csv(path, encoding=\"ISO8859-1\") for path in paths]"
   ],
   "metadata": {
    "collapsed": false,
    "pycharm": {
     "name": "#%%\n"
    }
   }
  },
  {
   "cell_type": "code",
   "execution_count": 14,
   "outputs": [
    {
     "name": "stderr",
     "output_type": "stream",
     "text": [
      "/home/wl21/anaconda3/envs/deep_learning/lib/python3.10/site-packages/sklearn/preprocessing/_label.py:98: DataConversionWarning: A column-vector y was passed when a 1d array was expected. Please change the shape of y to (n_samples, ), for example using ravel().\n",
      "  y = column_or_1d(y, warn=True)\n",
      "/home/wl21/anaconda3/envs/deep_learning/lib/python3.10/site-packages/sklearn/preprocessing/_label.py:133: DataConversionWarning: A column-vector y was passed when a 1d array was expected. Please change the shape of y to (n_samples, ), for example using ravel().\n",
      "  y = column_or_1d(y, warn=True)\n"
     ]
    }
   ],
   "source": [
    "creation = CreateInputDataset(files[0], extract_postcode=True)"
   ],
   "metadata": {
    "collapsed": false,
    "pycharm": {
     "name": "#%%\n"
    }
   }
  },
  {
   "cell_type": "code",
   "execution_count": 15,
   "outputs": [
    {
     "data": {
      "text/plain": "      Postcode  Sale or Let  Price Qualifier  DESC Council Tax Band  \\\n1          850            1                7                      2   \n23        1802            0                4                      0   \n24        1805            1                8                      1   \n95        1809            0                4                      1   \n103       1808            0                4                      0   \n...        ...          ...              ...                    ...   \n3264       219            0                4                      2   \n3268      2334            0                4                      3   \n3269      2308            0                4                      1   \n3270      2040            1                7                      6   \n3271      2335            1                7                      3   \n\n      RTD3316_condition1 - Condition Description  # of Enquiry or viewings  \\\n1                                              0                         0   \n23                                             0                         0   \n24                                             0                         0   \n95                                             0                         0   \n103                                            0                         0   \n...                                          ...                       ...   \n3264                                           0                         0   \n3268                                           0                         0   \n3269                                           0                         0   \n3270                                           0                         0   \n3271                                           0                         0   \n\n      # of Apps/Offers  \n1                    0  \n23                   4  \n24                   1  \n95                  10  \n103                  2  \n...                ...  \n3264                 2  \n3268                 3  \n3269                10  \n3270                 1  \n3271                 0  \n\n[817 rows x 7 columns]",
      "text/html": "<div>\n<style scoped>\n    .dataframe tbody tr th:only-of-type {\n        vertical-align: middle;\n    }\n\n    .dataframe tbody tr th {\n        vertical-align: top;\n    }\n\n    .dataframe thead th {\n        text-align: right;\n    }\n</style>\n<table border=\"1\" class=\"dataframe\">\n  <thead>\n    <tr style=\"text-align: right;\">\n      <th></th>\n      <th>Postcode</th>\n      <th>Sale or Let</th>\n      <th>Price Qualifier</th>\n      <th>DESC Council Tax Band</th>\n      <th>RTD3316_condition1 - Condition Description</th>\n      <th># of Enquiry or viewings</th>\n      <th># of Apps/Offers</th>\n    </tr>\n  </thead>\n  <tbody>\n    <tr>\n      <th>1</th>\n      <td>850</td>\n      <td>1</td>\n      <td>7</td>\n      <td>2</td>\n      <td>0</td>\n      <td>0</td>\n      <td>0</td>\n    </tr>\n    <tr>\n      <th>23</th>\n      <td>1802</td>\n      <td>0</td>\n      <td>4</td>\n      <td>0</td>\n      <td>0</td>\n      <td>0</td>\n      <td>4</td>\n    </tr>\n    <tr>\n      <th>24</th>\n      <td>1805</td>\n      <td>1</td>\n      <td>8</td>\n      <td>1</td>\n      <td>0</td>\n      <td>0</td>\n      <td>1</td>\n    </tr>\n    <tr>\n      <th>95</th>\n      <td>1809</td>\n      <td>0</td>\n      <td>4</td>\n      <td>1</td>\n      <td>0</td>\n      <td>0</td>\n      <td>10</td>\n    </tr>\n    <tr>\n      <th>103</th>\n      <td>1808</td>\n      <td>0</td>\n      <td>4</td>\n      <td>0</td>\n      <td>0</td>\n      <td>0</td>\n      <td>2</td>\n    </tr>\n    <tr>\n      <th>...</th>\n      <td>...</td>\n      <td>...</td>\n      <td>...</td>\n      <td>...</td>\n      <td>...</td>\n      <td>...</td>\n      <td>...</td>\n    </tr>\n    <tr>\n      <th>3264</th>\n      <td>219</td>\n      <td>0</td>\n      <td>4</td>\n      <td>2</td>\n      <td>0</td>\n      <td>0</td>\n      <td>2</td>\n    </tr>\n    <tr>\n      <th>3268</th>\n      <td>2334</td>\n      <td>0</td>\n      <td>4</td>\n      <td>3</td>\n      <td>0</td>\n      <td>0</td>\n      <td>3</td>\n    </tr>\n    <tr>\n      <th>3269</th>\n      <td>2308</td>\n      <td>0</td>\n      <td>4</td>\n      <td>1</td>\n      <td>0</td>\n      <td>0</td>\n      <td>10</td>\n    </tr>\n    <tr>\n      <th>3270</th>\n      <td>2040</td>\n      <td>1</td>\n      <td>7</td>\n      <td>6</td>\n      <td>0</td>\n      <td>0</td>\n      <td>1</td>\n    </tr>\n    <tr>\n      <th>3271</th>\n      <td>2335</td>\n      <td>1</td>\n      <td>7</td>\n      <td>3</td>\n      <td>0</td>\n      <td>0</td>\n      <td>0</td>\n    </tr>\n  </tbody>\n</table>\n<p>817 rows × 7 columns</p>\n</div>"
     },
     "execution_count": 15,
     "metadata": {},
     "output_type": "execute_result"
    }
   ],
   "source": [
    "creation.get_general_dataset()"
   ],
   "metadata": {
    "collapsed": false,
    "pycharm": {
     "name": "#%%\n"
    }
   }
  },
  {
   "cell_type": "code",
   "execution_count": 16,
   "outputs": [
    {
     "data": {
      "text/plain": "      bedroom number  kitchen number  living number  bathroom number  \\\n1                  3               1              0                1   \n23                 2               1              1                1   \n24                 3               1              2                1   \n95                 3               1              2                1   \n103                2               1              1                1   \n...              ...             ...            ...              ...   \n3264               2               1              0                1   \n3268               2               1              0                1   \n3269               3               1              0                1   \n3270               4               1              0                2   \n3271               3               1              0                1   \n\n      dining number  other number  other area  \n1                 1             7        20.8  \n23                1             4         6.0  \n24                0             3         0.0  \n95                0             2         0.0  \n103               1             2         0.0  \n...             ...           ...         ...  \n3264              1             5        16.0  \n3268              0             3        24.8  \n3269              0             5        62.7  \n3270              1             9       603.7  \n3271              1             6       356.9  \n\n[817 rows x 7 columns]",
      "text/html": "<div>\n<style scoped>\n    .dataframe tbody tr th:only-of-type {\n        vertical-align: middle;\n    }\n\n    .dataframe tbody tr th {\n        vertical-align: top;\n    }\n\n    .dataframe thead th {\n        text-align: right;\n    }\n</style>\n<table border=\"1\" class=\"dataframe\">\n  <thead>\n    <tr style=\"text-align: right;\">\n      <th></th>\n      <th>bedroom number</th>\n      <th>kitchen number</th>\n      <th>living number</th>\n      <th>bathroom number</th>\n      <th>dining number</th>\n      <th>other number</th>\n      <th>other area</th>\n    </tr>\n  </thead>\n  <tbody>\n    <tr>\n      <th>1</th>\n      <td>3</td>\n      <td>1</td>\n      <td>0</td>\n      <td>1</td>\n      <td>1</td>\n      <td>7</td>\n      <td>20.8</td>\n    </tr>\n    <tr>\n      <th>23</th>\n      <td>2</td>\n      <td>1</td>\n      <td>1</td>\n      <td>1</td>\n      <td>1</td>\n      <td>4</td>\n      <td>6.0</td>\n    </tr>\n    <tr>\n      <th>24</th>\n      <td>3</td>\n      <td>1</td>\n      <td>2</td>\n      <td>1</td>\n      <td>0</td>\n      <td>3</td>\n      <td>0.0</td>\n    </tr>\n    <tr>\n      <th>95</th>\n      <td>3</td>\n      <td>1</td>\n      <td>2</td>\n      <td>1</td>\n      <td>0</td>\n      <td>2</td>\n      <td>0.0</td>\n    </tr>\n    <tr>\n      <th>103</th>\n      <td>2</td>\n      <td>1</td>\n      <td>1</td>\n      <td>1</td>\n      <td>1</td>\n      <td>2</td>\n      <td>0.0</td>\n    </tr>\n    <tr>\n      <th>...</th>\n      <td>...</td>\n      <td>...</td>\n      <td>...</td>\n      <td>...</td>\n      <td>...</td>\n      <td>...</td>\n      <td>...</td>\n    </tr>\n    <tr>\n      <th>3264</th>\n      <td>2</td>\n      <td>1</td>\n      <td>0</td>\n      <td>1</td>\n      <td>1</td>\n      <td>5</td>\n      <td>16.0</td>\n    </tr>\n    <tr>\n      <th>3268</th>\n      <td>2</td>\n      <td>1</td>\n      <td>0</td>\n      <td>1</td>\n      <td>0</td>\n      <td>3</td>\n      <td>24.8</td>\n    </tr>\n    <tr>\n      <th>3269</th>\n      <td>3</td>\n      <td>1</td>\n      <td>0</td>\n      <td>1</td>\n      <td>0</td>\n      <td>5</td>\n      <td>62.7</td>\n    </tr>\n    <tr>\n      <th>3270</th>\n      <td>4</td>\n      <td>1</td>\n      <td>0</td>\n      <td>2</td>\n      <td>1</td>\n      <td>9</td>\n      <td>603.7</td>\n    </tr>\n    <tr>\n      <th>3271</th>\n      <td>3</td>\n      <td>1</td>\n      <td>0</td>\n      <td>1</td>\n      <td>1</td>\n      <td>6</td>\n      <td>356.9</td>\n    </tr>\n  </tbody>\n</table>\n<p>817 rows × 7 columns</p>\n</div>"
     },
     "execution_count": 16,
     "metadata": {},
     "output_type": "execute_result"
    }
   ],
   "source": [
    "creation.get_room_dataset()"
   ],
   "metadata": {
    "collapsed": false,
    "pycharm": {
     "name": "#%%\n"
    }
   }
  },
  {
   "cell_type": "code",
   "execution_count": 17,
   "outputs": [
    {
     "data": {
      "text/plain": "      Allocated  Communal  Covered  Driveway  Garage  Gated  Off Street  \\\n1             0         0        0         1       0      0           1   \n23            0         0        0         1       0      0           1   \n24            0         0        0         1       1      0           1   \n95            0         0        0         1       0      0           1   \n103           0         0        0         1       0      0           1   \n...         ...       ...      ...       ...     ...    ...         ...   \n3264          0         0        0         1       0      0           1   \n3268          0         0        0         0       0      1           1   \n3269          0         1        0         0       0      0           0   \n3270          0         0        0         1       1      0           1   \n3271          0         0        0         1       0      0           1   \n\n      On Street  Permit  Private  ...  Central  Double Glazing  Eco-Friendly  \\\n1             0       0        0  ...        0               1             0   \n23            0       0        1  ...        1               1             0   \n24            0       0        0  ...        1               1             0   \n95            0       0        1  ...        1               1             0   \n103           0       0        1  ...        1               1             0   \n...         ...     ...      ...  ...      ...             ...           ...   \n3264          0       0        0  ...        0               0             0   \n3268          0       0        0  ...        0               1             0   \n3269          0       0        0  ...        0               1             0   \n3270          0       0        0  ...        0               1             0   \n3271          0       0        0  ...        0               1             0   \n\n      Electric  Gas  Gas Central  Night Storage  Oil  Solar  Under Floor  \n1            0    0            1              0    0      0            0  \n23           0    0            1              0    0      0            0  \n24           0    0            1              0    0      0            0  \n95           0    0            1              0    0      0            0  \n103          0    0            1              0    0      0            0  \n...        ...  ...          ...            ...  ...    ...          ...  \n3264         0    0            1              0    0      0            0  \n3268         0    0            1              0    0      0            0  \n3269         0    0            1              0    0      0            0  \n3270         0    0            1              0    0      0            0  \n3271         0    0            1              0    0      1            0  \n\n[817 rows x 37 columns]",
      "text/html": "<div>\n<style scoped>\n    .dataframe tbody tr th:only-of-type {\n        vertical-align: middle;\n    }\n\n    .dataframe tbody tr th {\n        vertical-align: top;\n    }\n\n    .dataframe thead th {\n        text-align: right;\n    }\n</style>\n<table border=\"1\" class=\"dataframe\">\n  <thead>\n    <tr style=\"text-align: right;\">\n      <th></th>\n      <th>Allocated</th>\n      <th>Communal</th>\n      <th>Covered</th>\n      <th>Driveway</th>\n      <th>Garage</th>\n      <th>Gated</th>\n      <th>Off Street</th>\n      <th>On Street</th>\n      <th>Permit</th>\n      <th>Private</th>\n      <th>...</th>\n      <th>Central</th>\n      <th>Double Glazing</th>\n      <th>Eco-Friendly</th>\n      <th>Electric</th>\n      <th>Gas</th>\n      <th>Gas Central</th>\n      <th>Night Storage</th>\n      <th>Oil</th>\n      <th>Solar</th>\n      <th>Under Floor</th>\n    </tr>\n  </thead>\n  <tbody>\n    <tr>\n      <th>1</th>\n      <td>0</td>\n      <td>0</td>\n      <td>0</td>\n      <td>1</td>\n      <td>0</td>\n      <td>0</td>\n      <td>1</td>\n      <td>0</td>\n      <td>0</td>\n      <td>0</td>\n      <td>...</td>\n      <td>0</td>\n      <td>1</td>\n      <td>0</td>\n      <td>0</td>\n      <td>0</td>\n      <td>1</td>\n      <td>0</td>\n      <td>0</td>\n      <td>0</td>\n      <td>0</td>\n    </tr>\n    <tr>\n      <th>23</th>\n      <td>0</td>\n      <td>0</td>\n      <td>0</td>\n      <td>1</td>\n      <td>0</td>\n      <td>0</td>\n      <td>1</td>\n      <td>0</td>\n      <td>0</td>\n      <td>1</td>\n      <td>...</td>\n      <td>1</td>\n      <td>1</td>\n      <td>0</td>\n      <td>0</td>\n      <td>0</td>\n      <td>1</td>\n      <td>0</td>\n      <td>0</td>\n      <td>0</td>\n      <td>0</td>\n    </tr>\n    <tr>\n      <th>24</th>\n      <td>0</td>\n      <td>0</td>\n      <td>0</td>\n      <td>1</td>\n      <td>1</td>\n      <td>0</td>\n      <td>1</td>\n      <td>0</td>\n      <td>0</td>\n      <td>0</td>\n      <td>...</td>\n      <td>1</td>\n      <td>1</td>\n      <td>0</td>\n      <td>0</td>\n      <td>0</td>\n      <td>1</td>\n      <td>0</td>\n      <td>0</td>\n      <td>0</td>\n      <td>0</td>\n    </tr>\n    <tr>\n      <th>95</th>\n      <td>0</td>\n      <td>0</td>\n      <td>0</td>\n      <td>1</td>\n      <td>0</td>\n      <td>0</td>\n      <td>1</td>\n      <td>0</td>\n      <td>0</td>\n      <td>1</td>\n      <td>...</td>\n      <td>1</td>\n      <td>1</td>\n      <td>0</td>\n      <td>0</td>\n      <td>0</td>\n      <td>1</td>\n      <td>0</td>\n      <td>0</td>\n      <td>0</td>\n      <td>0</td>\n    </tr>\n    <tr>\n      <th>103</th>\n      <td>0</td>\n      <td>0</td>\n      <td>0</td>\n      <td>1</td>\n      <td>0</td>\n      <td>0</td>\n      <td>1</td>\n      <td>0</td>\n      <td>0</td>\n      <td>1</td>\n      <td>...</td>\n      <td>1</td>\n      <td>1</td>\n      <td>0</td>\n      <td>0</td>\n      <td>0</td>\n      <td>1</td>\n      <td>0</td>\n      <td>0</td>\n      <td>0</td>\n      <td>0</td>\n    </tr>\n    <tr>\n      <th>...</th>\n      <td>...</td>\n      <td>...</td>\n      <td>...</td>\n      <td>...</td>\n      <td>...</td>\n      <td>...</td>\n      <td>...</td>\n      <td>...</td>\n      <td>...</td>\n      <td>...</td>\n      <td>...</td>\n      <td>...</td>\n      <td>...</td>\n      <td>...</td>\n      <td>...</td>\n      <td>...</td>\n      <td>...</td>\n      <td>...</td>\n      <td>...</td>\n      <td>...</td>\n      <td>...</td>\n    </tr>\n    <tr>\n      <th>3264</th>\n      <td>0</td>\n      <td>0</td>\n      <td>0</td>\n      <td>1</td>\n      <td>0</td>\n      <td>0</td>\n      <td>1</td>\n      <td>0</td>\n      <td>0</td>\n      <td>0</td>\n      <td>...</td>\n      <td>0</td>\n      <td>0</td>\n      <td>0</td>\n      <td>0</td>\n      <td>0</td>\n      <td>1</td>\n      <td>0</td>\n      <td>0</td>\n      <td>0</td>\n      <td>0</td>\n    </tr>\n    <tr>\n      <th>3268</th>\n      <td>0</td>\n      <td>0</td>\n      <td>0</td>\n      <td>0</td>\n      <td>0</td>\n      <td>1</td>\n      <td>1</td>\n      <td>0</td>\n      <td>0</td>\n      <td>0</td>\n      <td>...</td>\n      <td>0</td>\n      <td>1</td>\n      <td>0</td>\n      <td>0</td>\n      <td>0</td>\n      <td>1</td>\n      <td>0</td>\n      <td>0</td>\n      <td>0</td>\n      <td>0</td>\n    </tr>\n    <tr>\n      <th>3269</th>\n      <td>0</td>\n      <td>1</td>\n      <td>0</td>\n      <td>0</td>\n      <td>0</td>\n      <td>0</td>\n      <td>0</td>\n      <td>0</td>\n      <td>0</td>\n      <td>0</td>\n      <td>...</td>\n      <td>0</td>\n      <td>1</td>\n      <td>0</td>\n      <td>0</td>\n      <td>0</td>\n      <td>1</td>\n      <td>0</td>\n      <td>0</td>\n      <td>0</td>\n      <td>0</td>\n    </tr>\n    <tr>\n      <th>3270</th>\n      <td>0</td>\n      <td>0</td>\n      <td>0</td>\n      <td>1</td>\n      <td>1</td>\n      <td>0</td>\n      <td>1</td>\n      <td>0</td>\n      <td>0</td>\n      <td>0</td>\n      <td>...</td>\n      <td>0</td>\n      <td>1</td>\n      <td>0</td>\n      <td>0</td>\n      <td>0</td>\n      <td>1</td>\n      <td>0</td>\n      <td>0</td>\n      <td>0</td>\n      <td>0</td>\n    </tr>\n    <tr>\n      <th>3271</th>\n      <td>0</td>\n      <td>0</td>\n      <td>0</td>\n      <td>1</td>\n      <td>0</td>\n      <td>0</td>\n      <td>1</td>\n      <td>0</td>\n      <td>0</td>\n      <td>0</td>\n      <td>...</td>\n      <td>0</td>\n      <td>1</td>\n      <td>0</td>\n      <td>0</td>\n      <td>0</td>\n      <td>1</td>\n      <td>0</td>\n      <td>0</td>\n      <td>1</td>\n      <td>0</td>\n    </tr>\n  </tbody>\n</table>\n<p>817 rows × 37 columns</p>\n</div>"
     },
     "execution_count": 17,
     "metadata": {},
     "output_type": "execute_result"
    }
   ],
   "source": [
    "result = creation.get_categorical_dataset()\n",
    "result"
   ],
   "metadata": {
    "collapsed": false,
    "pycharm": {
     "name": "#%%\n"
    }
   }
  },
  {
   "cell_type": "code",
   "execution_count": 18,
   "outputs": [
    {
     "data": {
      "text/plain": "      Completed     Price\n1             1  200000.0\n23            0     695.0\n24            1  170000.0\n95            0     675.0\n103           0     650.0\n...         ...       ...\n3264          0    1100.0\n3268          0    1100.0\n3269          0    1050.0\n3270          1  600000.0\n3271          1  450000.0\n\n[817 rows x 2 columns]",
      "text/html": "<div>\n<style scoped>\n    .dataframe tbody tr th:only-of-type {\n        vertical-align: middle;\n    }\n\n    .dataframe tbody tr th {\n        vertical-align: top;\n    }\n\n    .dataframe thead th {\n        text-align: right;\n    }\n</style>\n<table border=\"1\" class=\"dataframe\">\n  <thead>\n    <tr style=\"text-align: right;\">\n      <th></th>\n      <th>Completed</th>\n      <th>Price</th>\n    </tr>\n  </thead>\n  <tbody>\n    <tr>\n      <th>1</th>\n      <td>1</td>\n      <td>200000.0</td>\n    </tr>\n    <tr>\n      <th>23</th>\n      <td>0</td>\n      <td>695.0</td>\n    </tr>\n    <tr>\n      <th>24</th>\n      <td>1</td>\n      <td>170000.0</td>\n    </tr>\n    <tr>\n      <th>95</th>\n      <td>0</td>\n      <td>675.0</td>\n    </tr>\n    <tr>\n      <th>103</th>\n      <td>0</td>\n      <td>650.0</td>\n    </tr>\n    <tr>\n      <th>...</th>\n      <td>...</td>\n      <td>...</td>\n    </tr>\n    <tr>\n      <th>3264</th>\n      <td>0</td>\n      <td>1100.0</td>\n    </tr>\n    <tr>\n      <th>3268</th>\n      <td>0</td>\n      <td>1100.0</td>\n    </tr>\n    <tr>\n      <th>3269</th>\n      <td>0</td>\n      <td>1050.0</td>\n    </tr>\n    <tr>\n      <th>3270</th>\n      <td>1</td>\n      <td>600000.0</td>\n    </tr>\n    <tr>\n      <th>3271</th>\n      <td>1</td>\n      <td>450000.0</td>\n    </tr>\n  </tbody>\n</table>\n<p>817 rows × 2 columns</p>\n</div>"
     },
     "execution_count": 18,
     "metadata": {},
     "output_type": "execute_result"
    }
   ],
   "source": [
    "creation.get_labels()"
   ],
   "metadata": {
    "collapsed": false,
    "pycharm": {
     "name": "#%%\n"
    }
   }
  },
  {
   "cell_type": "code",
   "execution_count": 18,
   "outputs": [],
   "source": [],
   "metadata": {
    "collapsed": false,
    "pycharm": {
     "name": "#%%\n"
    }
   }
  }
 ],
 "metadata": {
  "kernelspec": {
   "display_name": "Python 3",
   "language": "python",
   "name": "python3"
  },
  "language_info": {
   "codemirror_mode": {
    "name": "ipython",
    "version": 2
   },
   "file_extension": ".py",
   "mimetype": "text/x-python",
   "name": "python",
   "nbconvert_exporter": "python",
   "pygments_lexer": "ipython2",
   "version": "2.7.6"
  }
 },
 "nbformat": 4,
 "nbformat_minor": 0
}