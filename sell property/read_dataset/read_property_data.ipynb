{
 "cells": [
  {
   "cell_type": "markdown",
   "source": [
    "# Import packages"
   ],
   "metadata": {
    "collapsed": false,
    "pycharm": {
     "name": "#%% md\n"
    }
   }
  },
  {
   "cell_type": "code",
   "execution_count": 1,
   "outputs": [],
   "source": [
    "import pandas as pd\n",
    "import numpy as np\n",
    "import parse\n",
    "import re\n",
    "import seaborn as sns\n",
    "from bs4 import BeautifulSoup # handle html strings\n",
    "from matplotlib import pyplot as plt\n",
    "\n",
    "from ProcessHTML import ProcessHTML\n",
    "from ExtractRooms import ExtractRooms\n",
    "from GeneralizeDataset import GeneralizeDataset"
   ],
   "metadata": {
    "collapsed": false,
    "pycharm": {
     "name": "#%%\n"
    }
   }
  },
  {
   "cell_type": "markdown",
   "source": [
    "# Read Dataset"
   ],
   "metadata": {
    "collapsed": false,
    "pycharm": {
     "name": "#%% md\n"
    }
   }
  },
  {
   "cell_type": "code",
   "execution_count": 2,
   "outputs": [
    {
     "data": {
      "text/plain": "      Postcode     Created  Advertised      Agreed   Completed  \\\n0      LU7 4WN  03/04/2019  03/04/2019         NaN         NaN   \n1      L23 6YD  21/03/2019  24/03/2019  05/04/2021  28/06/2021   \n2     DA17 5PJ  25/03/2019  03/04/2019  25/01/2021  15/03/2021   \n3      NW4 1AP  28/06/2019  04/07/2019         NaN         NaN   \n4      GL7 5UX  12/06/2019  09/08/2019  13/04/2021  05/07/2021   \n...        ...         ...         ...         ...         ...   \n3644   SS7 5PY  28/04/2019  20/05/2019         NaN         NaN   \n3645  RM20 3AF  09/05/2019  12/05/2019  14/05/2019  29/05/2019   \n3646   CM1 2BD  12/05/2019  14/05/2019  03/06/2019  21/06/2019   \n3647   SS7 4AX  22/05/2019  22/05/2019  28/05/2019  21/06/2019   \n3648  SS11 8RW  29/05/2019  18/06/2019         NaN         NaN   \n\n     Date Listing Last Cancelled Sale or Let  \\\n0                     28/02/2022        Sale   \n1                     26/02/2020        Sale   \n2                     13/06/2019        Sale   \n3                            NaN        Sale   \n4                            NaN        Sale   \n...                          ...         ...   \n3644                  12/12/2019        Sale   \n3645                         NaN      Rental   \n3646                         NaN      Rental   \n3647                         NaN      Rental   \n3648                  22/01/2020        Sale   \n\n     RTD3308_outside_space1 - Outside Space Description  \\\n0                                       Communal Garden   \n1                                                   NaN   \n2                                           Rear Garden   \n3                                                   NaN   \n4                                           Back Garden   \n...                                                 ...   \n3644                                        Back Garden   \n3645                                                NaN   \n3646                                        Back Garden   \n3647                                        Back Garden   \n3648                                              Patio   \n\n                        EweMove Description S1 Features  \\\n0     <ul><li>CASH BUYERS ONLY</li><li>No Upper Chai...   \n1     <ul><li>Sea Views</li><li>Very Popular Locatio...   \n2     <ul><li>Call NOW 24/7 or book instantly online...   \n3     <ul><li>5 bed link detached FREEHOLD house wit...   \n4     <ul><li>Four Bedrooms</li><li>Detached</li><li...   \n...                                                 ...   \n3644  <ul><li>Call NOW 24/7 or book instantly online...   \n3645                                          <ul></ul>   \n3646  <ul><li>Call NOW 24/7 or book instantly online...   \n3647  <ul><li>Call NOW 24/7 or book instantly online...   \n3648  <ul><li>Call NOW 24/7 or book instantly online...   \n\n                     EweMove Description S2 Description  ...  \\\n0     Cash Buyers... You could pounce super quick on...  ...   \n1     WATCHING THE SHIPS ROLL IN - from your very ow...  ...   \n2     Guide price &pound;325,000 - &pound;350,000.Lo...  ...   \n3     EweMove Hampstead - A rare opportunity to acqu...  ...   \n4     For anyone looking for a family home in South ...  ...   \n...                                                 ...  ...   \n3644  Almere is a popular, private close where homes...  ...   \n3645  STUNNING Top floor  Balcony Apartment in West ...  ...   \n3646  An excellent home for a working single or coup...  ...   \n3647  A detached bungalow on a substantial plot - if...  ...   \n3648  What a great home in terms of size and potenti...  ...   \n\n                                           Price / Rent      Price Qualifier  \\\n0     <font color='blue'>&pound;140,000</font><br>Of...  Offers In Excess Of   \n1     <font color='blue'>&pound;325,000</font><br>Of...          Offers Over   \n2     <font color='blue'>&pound;325,000</font><br>Gu...          Guide Price   \n3     <font color='blue'>&pound;1,095,000</font><br>...          Guide Price   \n4          <font color='blue'>&pound;395,000</font><br>                  NaN   \n...                                                 ...                  ...   \n3644  <font color='blue'>&pound;450,000</font><br>Of...          Offers Over   \n3645  <font color='blue'>&pound;1,000</font><br>Monthly              Monthly   \n3646    <font color='blue'>&pound;750</font><br>Monthly              Monthly   \n3647  <font color='blue'>&pound;1,100</font><br>Monthly              Monthly   \n3648       <font color='blue'>&pound;465,000</font><br>                  NaN   \n\n     Sale Price % Achieved Current EPC - EPC Expiry Date  \\\n0                  130.71%                    11/03/2028   \n1                      NaN                    28/03/2029   \n2                      NaN                    12/07/2028   \n3                      NaN                    30/06/2029   \n4                  100.00%                    30/06/2024   \n...                    ...                           ...   \n3644                   NaN                    19/06/2029   \n3645                   NaN                           NaN   \n3646                   NaN                    23/11/2028   \n3647                   NaN                    10/04/2028   \n3648                   NaN                    08/07/2028   \n\n     DESC Council Tax Band DESC Leasehold Ground Rent  \\\n0                   Band B                        NaN   \n1                   Band E                        NaN   \n2                   Band D                        NaN   \n3                      NaN                        NaN   \n4                      NaN                        NaN   \n...                    ...                        ...   \n3644                Band F                        NaN   \n3645                   NaN                        NaN   \n3646                Band A                        NaN   \n3647                Band D                        NaN   \n3648                Band D                        NaN   \n\n     DESC Leasehold Service Charge ZPG_lease_expiry_years_remaining  \\\n0                              NaN                             68.0   \n1                              NaN                              NaN   \n2                              NaN                              NaN   \n3                              NaN                              NaN   \n4                              NaN                              NaN   \n...                            ...                              ...   \n3644                           NaN                              NaN   \n3645                           NaN                              NaN   \n3646                           NaN                              NaN   \n3647                           NaN                              NaN   \n3648                           NaN                              NaN   \n\n     # of Enquiry or viewings # of Apps/Offers  \n0                          32               12  \n1                          15               10  \n2                          14                4  \n3                          13                1  \n4                          11                9  \n...                       ...              ...  \n3644                        0                0  \n3645                        0                1  \n3646                        0                2  \n3647                        0                3  \n3648                        0                0  \n\n[3649 rows x 35 columns]",
      "text/html": "<div>\n<style scoped>\n    .dataframe tbody tr th:only-of-type {\n        vertical-align: middle;\n    }\n\n    .dataframe tbody tr th {\n        vertical-align: top;\n    }\n\n    .dataframe thead th {\n        text-align: right;\n    }\n</style>\n<table border=\"1\" class=\"dataframe\">\n  <thead>\n    <tr style=\"text-align: right;\">\n      <th></th>\n      <th>Postcode</th>\n      <th>Created</th>\n      <th>Advertised</th>\n      <th>Agreed</th>\n      <th>Completed</th>\n      <th>Date Listing Last Cancelled</th>\n      <th>Sale or Let</th>\n      <th>RTD3308_outside_space1 - Outside Space Description</th>\n      <th>EweMove Description S1 Features</th>\n      <th>EweMove Description S2 Description</th>\n      <th>...</th>\n      <th>Price / Rent</th>\n      <th>Price Qualifier</th>\n      <th>Sale Price % Achieved</th>\n      <th>Current EPC - EPC Expiry Date</th>\n      <th>DESC Council Tax Band</th>\n      <th>DESC Leasehold Ground Rent</th>\n      <th>DESC Leasehold Service Charge</th>\n      <th>ZPG_lease_expiry_years_remaining</th>\n      <th># of Enquiry or viewings</th>\n      <th># of Apps/Offers</th>\n    </tr>\n  </thead>\n  <tbody>\n    <tr>\n      <th>0</th>\n      <td>LU7 4WN</td>\n      <td>03/04/2019</td>\n      <td>03/04/2019</td>\n      <td>NaN</td>\n      <td>NaN</td>\n      <td>28/02/2022</td>\n      <td>Sale</td>\n      <td>Communal Garden</td>\n      <td>&lt;ul&gt;&lt;li&gt;CASH BUYERS ONLY&lt;/li&gt;&lt;li&gt;No Upper Chai...</td>\n      <td>Cash Buyers... You could pounce super quick on...</td>\n      <td>...</td>\n      <td>&lt;font color='blue'&gt;&amp;pound;140,000&lt;/font&gt;&lt;br&gt;Of...</td>\n      <td>Offers In Excess Of</td>\n      <td>130.71%</td>\n      <td>11/03/2028</td>\n      <td>Band B</td>\n      <td>NaN</td>\n      <td>NaN</td>\n      <td>68.0</td>\n      <td>32</td>\n      <td>12</td>\n    </tr>\n    <tr>\n      <th>1</th>\n      <td>L23 6YD</td>\n      <td>21/03/2019</td>\n      <td>24/03/2019</td>\n      <td>05/04/2021</td>\n      <td>28/06/2021</td>\n      <td>26/02/2020</td>\n      <td>Sale</td>\n      <td>NaN</td>\n      <td>&lt;ul&gt;&lt;li&gt;Sea Views&lt;/li&gt;&lt;li&gt;Very Popular Locatio...</td>\n      <td>WATCHING THE SHIPS ROLL IN - from your very ow...</td>\n      <td>...</td>\n      <td>&lt;font color='blue'&gt;&amp;pound;325,000&lt;/font&gt;&lt;br&gt;Of...</td>\n      <td>Offers Over</td>\n      <td>NaN</td>\n      <td>28/03/2029</td>\n      <td>Band E</td>\n      <td>NaN</td>\n      <td>NaN</td>\n      <td>NaN</td>\n      <td>15</td>\n      <td>10</td>\n    </tr>\n    <tr>\n      <th>2</th>\n      <td>DA17 5PJ</td>\n      <td>25/03/2019</td>\n      <td>03/04/2019</td>\n      <td>25/01/2021</td>\n      <td>15/03/2021</td>\n      <td>13/06/2019</td>\n      <td>Sale</td>\n      <td>Rear Garden</td>\n      <td>&lt;ul&gt;&lt;li&gt;Call NOW 24/7 or book instantly online...</td>\n      <td>Guide price &amp;pound;325,000 - &amp;pound;350,000.Lo...</td>\n      <td>...</td>\n      <td>&lt;font color='blue'&gt;&amp;pound;325,000&lt;/font&gt;&lt;br&gt;Gu...</td>\n      <td>Guide Price</td>\n      <td>NaN</td>\n      <td>12/07/2028</td>\n      <td>Band D</td>\n      <td>NaN</td>\n      <td>NaN</td>\n      <td>NaN</td>\n      <td>14</td>\n      <td>4</td>\n    </tr>\n    <tr>\n      <th>3</th>\n      <td>NW4 1AP</td>\n      <td>28/06/2019</td>\n      <td>04/07/2019</td>\n      <td>NaN</td>\n      <td>NaN</td>\n      <td>NaN</td>\n      <td>Sale</td>\n      <td>NaN</td>\n      <td>&lt;ul&gt;&lt;li&gt;5 bed link detached FREEHOLD house wit...</td>\n      <td>EweMove Hampstead - A rare opportunity to acqu...</td>\n      <td>...</td>\n      <td>&lt;font color='blue'&gt;&amp;pound;1,095,000&lt;/font&gt;&lt;br&gt;...</td>\n      <td>Guide Price</td>\n      <td>NaN</td>\n      <td>30/06/2029</td>\n      <td>NaN</td>\n      <td>NaN</td>\n      <td>NaN</td>\n      <td>NaN</td>\n      <td>13</td>\n      <td>1</td>\n    </tr>\n    <tr>\n      <th>4</th>\n      <td>GL7 5UX</td>\n      <td>12/06/2019</td>\n      <td>09/08/2019</td>\n      <td>13/04/2021</td>\n      <td>05/07/2021</td>\n      <td>NaN</td>\n      <td>Sale</td>\n      <td>Back Garden</td>\n      <td>&lt;ul&gt;&lt;li&gt;Four Bedrooms&lt;/li&gt;&lt;li&gt;Detached&lt;/li&gt;&lt;li...</td>\n      <td>For anyone looking for a family home in South ...</td>\n      <td>...</td>\n      <td>&lt;font color='blue'&gt;&amp;pound;395,000&lt;/font&gt;&lt;br&gt;</td>\n      <td>NaN</td>\n      <td>100.00%</td>\n      <td>30/06/2024</td>\n      <td>NaN</td>\n      <td>NaN</td>\n      <td>NaN</td>\n      <td>NaN</td>\n      <td>11</td>\n      <td>9</td>\n    </tr>\n    <tr>\n      <th>...</th>\n      <td>...</td>\n      <td>...</td>\n      <td>...</td>\n      <td>...</td>\n      <td>...</td>\n      <td>...</td>\n      <td>...</td>\n      <td>...</td>\n      <td>...</td>\n      <td>...</td>\n      <td>...</td>\n      <td>...</td>\n      <td>...</td>\n      <td>...</td>\n      <td>...</td>\n      <td>...</td>\n      <td>...</td>\n      <td>...</td>\n      <td>...</td>\n      <td>...</td>\n      <td>...</td>\n    </tr>\n    <tr>\n      <th>3644</th>\n      <td>SS7 5PY</td>\n      <td>28/04/2019</td>\n      <td>20/05/2019</td>\n      <td>NaN</td>\n      <td>NaN</td>\n      <td>12/12/2019</td>\n      <td>Sale</td>\n      <td>Back Garden</td>\n      <td>&lt;ul&gt;&lt;li&gt;Call NOW 24/7 or book instantly online...</td>\n      <td>Almere is a popular, private close where homes...</td>\n      <td>...</td>\n      <td>&lt;font color='blue'&gt;&amp;pound;450,000&lt;/font&gt;&lt;br&gt;Of...</td>\n      <td>Offers Over</td>\n      <td>NaN</td>\n      <td>19/06/2029</td>\n      <td>Band F</td>\n      <td>NaN</td>\n      <td>NaN</td>\n      <td>NaN</td>\n      <td>0</td>\n      <td>0</td>\n    </tr>\n    <tr>\n      <th>3645</th>\n      <td>RM20 3AF</td>\n      <td>09/05/2019</td>\n      <td>12/05/2019</td>\n      <td>14/05/2019</td>\n      <td>29/05/2019</td>\n      <td>NaN</td>\n      <td>Rental</td>\n      <td>NaN</td>\n      <td>&lt;ul&gt;&lt;/ul&gt;</td>\n      <td>STUNNING Top floor  Balcony Apartment in West ...</td>\n      <td>...</td>\n      <td>&lt;font color='blue'&gt;&amp;pound;1,000&lt;/font&gt;&lt;br&gt;Monthly</td>\n      <td>Monthly</td>\n      <td>NaN</td>\n      <td>NaN</td>\n      <td>NaN</td>\n      <td>NaN</td>\n      <td>NaN</td>\n      <td>NaN</td>\n      <td>0</td>\n      <td>1</td>\n    </tr>\n    <tr>\n      <th>3646</th>\n      <td>CM1 2BD</td>\n      <td>12/05/2019</td>\n      <td>14/05/2019</td>\n      <td>03/06/2019</td>\n      <td>21/06/2019</td>\n      <td>NaN</td>\n      <td>Rental</td>\n      <td>Back Garden</td>\n      <td>&lt;ul&gt;&lt;li&gt;Call NOW 24/7 or book instantly online...</td>\n      <td>An excellent home for a working single or coup...</td>\n      <td>...</td>\n      <td>&lt;font color='blue'&gt;&amp;pound;750&lt;/font&gt;&lt;br&gt;Monthly</td>\n      <td>Monthly</td>\n      <td>NaN</td>\n      <td>23/11/2028</td>\n      <td>Band A</td>\n      <td>NaN</td>\n      <td>NaN</td>\n      <td>NaN</td>\n      <td>0</td>\n      <td>2</td>\n    </tr>\n    <tr>\n      <th>3647</th>\n      <td>SS7 4AX</td>\n      <td>22/05/2019</td>\n      <td>22/05/2019</td>\n      <td>28/05/2019</td>\n      <td>21/06/2019</td>\n      <td>NaN</td>\n      <td>Rental</td>\n      <td>Back Garden</td>\n      <td>&lt;ul&gt;&lt;li&gt;Call NOW 24/7 or book instantly online...</td>\n      <td>A detached bungalow on a substantial plot - if...</td>\n      <td>...</td>\n      <td>&lt;font color='blue'&gt;&amp;pound;1,100&lt;/font&gt;&lt;br&gt;Monthly</td>\n      <td>Monthly</td>\n      <td>NaN</td>\n      <td>10/04/2028</td>\n      <td>Band D</td>\n      <td>NaN</td>\n      <td>NaN</td>\n      <td>NaN</td>\n      <td>0</td>\n      <td>3</td>\n    </tr>\n    <tr>\n      <th>3648</th>\n      <td>SS11 8RW</td>\n      <td>29/05/2019</td>\n      <td>18/06/2019</td>\n      <td>NaN</td>\n      <td>NaN</td>\n      <td>22/01/2020</td>\n      <td>Sale</td>\n      <td>Patio</td>\n      <td>&lt;ul&gt;&lt;li&gt;Call NOW 24/7 or book instantly online...</td>\n      <td>What a great home in terms of size and potenti...</td>\n      <td>...</td>\n      <td>&lt;font color='blue'&gt;&amp;pound;465,000&lt;/font&gt;&lt;br&gt;</td>\n      <td>NaN</td>\n      <td>NaN</td>\n      <td>08/07/2028</td>\n      <td>Band D</td>\n      <td>NaN</td>\n      <td>NaN</td>\n      <td>NaN</td>\n      <td>0</td>\n      <td>0</td>\n    </tr>\n  </tbody>\n</table>\n<p>3649 rows × 35 columns</p>\n</div>"
     },
     "execution_count": 2,
     "metadata": {},
     "output_type": "execute_result"
    }
   ],
   "source": [
    "filename = \"../datasets/PropertyData_wDesc.csv\"\n",
    "# Default encoding (UTF-8) not working on this dataset\n",
    "data = pd.read_csv(filename, encoding=\"ISO8859-1\")\n",
    "data"
   ],
   "metadata": {
    "collapsed": false,
    "pycharm": {
     "name": "#%%\n"
    }
   }
  },
  {
   "cell_type": "code",
   "execution_count": 3,
   "outputs": [
    {
     "data": {
      "text/plain": "(3649, 35)"
     },
     "execution_count": 3,
     "metadata": {},
     "output_type": "execute_result"
    }
   ],
   "source": [
    "data.shape"
   ],
   "metadata": {
    "collapsed": false,
    "pycharm": {
     "name": "#%%\n"
    }
   }
  },
  {
   "cell_type": "code",
   "execution_count": 4,
   "outputs": [
    {
     "data": {
      "text/plain": "Postcode                                               0.000000\nCreated                                                0.000000\nAdvertised                                            12.414360\nAgreed                                                37.845985\nCompleted                                             40.641272\nDate Listing Last Cancelled                           59.714990\nSale or Let                                            0.000000\nRTD3308_outside_space1 - Outside Space Description    39.736914\nEweMove Description S1 Features                        0.000000\nEweMove Description S2 Description                     8.248835\nEweMove Description S3 Rooms                          26.774459\nEweMove Description S4 Summary                         0.000000\nRTD3307_parking1 - Parking Description                36.475747\nRTD3307_parking2 - Parking Description                56.919704\nRTD3307_parking3 - Parking Description                76.157851\nRTD3308_outside_space2 - Outside Space Description    54.836942\nRTD3308_outside_space3 - Outside Space Description    70.183612\nRTD3316_condition1 - Condition Description            37.900795\nRTD3318_heating1 - Heating Description                35.955056\nRTD3317_accessibility1 - accessibility Description    62.921348\nRTD3317_accessibility2 - accessibility Description    97.423952\nRTD3317_accessibility3 - accessibility Description    99.780762\nRTD3318_heating2 - Heating Description                52.589751\nRTD3313_land_area_unit - Area Description             99.013428\nRTD3318_heating3 - Heating Description                83.283091\nPrice / Rent                                           0.000000\nPrice Qualifier                                       31.460674\nSale Price % Achieved                                 85.694711\nCurrent EPC - EPC Expiry Date                         29.021650\nDESC Council Tax Band                                 39.956152\nDESC Leasehold Ground Rent                            94.573856\nDESC Leasehold Service Charge                         94.162784\nZPG_lease_expiry_years_remaining                      92.408879\n# of Enquiry or viewings                               0.000000\n# of Apps/Offers                                       0.000000\ndtype: float64"
     },
     "execution_count": 4,
     "metadata": {},
     "output_type": "execute_result"
    }
   ],
   "source": [
    "nan_data = data.isnull().sum()\n",
    "for i in range(len(nan_data)):\n",
    "    nan_data.iloc[i] = nan_data.iloc[i] / data.shape[0] * 100\n",
    "nan_data"
   ],
   "metadata": {
    "collapsed": false,
    "pycharm": {
     "name": "#%%\n"
    }
   }
  },
  {
   "cell_type": "markdown",
   "source": [
    "## Separate Sale and Rental Data"
   ],
   "metadata": {
    "collapsed": false,
    "pycharm": {
     "name": "#%% md\n"
    }
   }
  },
  {
   "cell_type": "code",
   "execution_count": 5,
   "outputs": [],
   "source": [
    "sale_data = data[data[\"Sale or Let\"] == \"Sale\"]\n",
    "rental_data = data[data[\"Sale or Let\"] == \"Rental\"]"
   ],
   "metadata": {
    "collapsed": false,
    "pycharm": {
     "name": "#%%\n"
    }
   }
  },
  {
   "cell_type": "code",
   "execution_count": 6,
   "outputs": [
    {
     "name": "stdout",
     "output_type": "stream",
     "text": [
      "The shape of Sale data is  (2674, 35)\n",
      "The shape of Rental data is (975, 35)\n"
     ]
    }
   ],
   "source": [
    "print(\"The shape of Sale data is \", sale_data.shape)\n",
    "print(\"The shape of Rental data is\", rental_data.shape)"
   ],
   "metadata": {
    "collapsed": false,
    "pycharm": {
     "name": "#%%\n"
    }
   }
  },
  {
   "cell_type": "markdown",
   "source": [
    "### Missing values in sale data"
   ],
   "metadata": {
    "collapsed": false,
    "pycharm": {
     "name": "#%% md\n"
    }
   }
  },
  {
   "cell_type": "code",
   "execution_count": 7,
   "outputs": [
    {
     "data": {
      "text/plain": "Postcode                                               0.000000\nCreated                                                0.000000\nAdvertised                                             8.489155\nAgreed                                                38.930441\nCompleted                                             43.118923\nDate Listing Last Cancelled                           56.768886\nSale or Let                                            0.000000\nRTD3308_outside_space1 - Outside Space Description    37.097981\nEweMove Description S1 Features                        0.000000\nEweMove Description S2 Description                     6.432311\nEweMove Description S3 Rooms                          21.989529\nEweMove Description S4 Summary                         0.000000\nRTD3307_parking1 - Parking Description                35.377711\nRTD3307_parking2 - Parking Description                52.916978\nRTD3307_parking3 - Parking Description                73.522812\nRTD3308_outside_space2 - Outside Space Description    49.551234\nRTD3308_outside_space3 - Outside Space Description    65.407629\nRTD3316_condition1 - Condition Description            37.359761\nRTD3318_heating1 - Heating Description                35.789080\nRTD3317_accessibility1 - accessibility Description    64.659686\nRTD3317_accessibility2 - accessibility Description    97.232610\nRTD3317_accessibility3 - accessibility Description    99.775617\nRTD3318_heating2 - Heating Description                50.785340\nRTD3313_land_area_unit - Area Description             98.878085\nRTD3318_heating3 - Heating Description                81.750187\nPrice / Rent                                           0.000000\nPrice Qualifier                                       42.931937\nSale Price % Achieved                                 81.563201\nCurrent EPC - EPC Expiry Date                         25.542259\nDESC Council Tax Band                                 38.219895\nDESC Leasehold Ground Rent                            93.231114\nDESC Leasehold Service Charge                         92.632760\nZPG_lease_expiry_years_remaining                      90.351533\n# of Enquiry or viewings                               0.000000\n# of Apps/Offers                                       0.000000\ndtype: float64"
     },
     "execution_count": 7,
     "metadata": {},
     "output_type": "execute_result"
    }
   ],
   "source": [
    "nan_data = sale_data.isnull().sum()\n",
    "for i in range(len(nan_data)):\n",
    "    nan_data.iloc[i] = nan_data.iloc[i] / sale_data.shape[0] * 100\n",
    "nan_data"
   ],
   "metadata": {
    "collapsed": false,
    "pycharm": {
     "name": "#%%\n"
    }
   }
  },
  {
   "cell_type": "markdown",
   "source": [
    "### Missing values in rental data"
   ],
   "metadata": {
    "collapsed": false,
    "pycharm": {
     "name": "#%% md\n"
    }
   }
  },
  {
   "cell_type": "code",
   "execution_count": 8,
   "outputs": [
    {
     "data": {
      "text/plain": "Postcode                                               0.000000\nCreated                                                0.000000\nAdvertised                                            23.179487\nAgreed                                                34.871795\nCompleted                                             33.846154\nDate Listing Last Cancelled                           67.794872\nSale or Let                                            0.000000\nRTD3308_outside_space1 - Outside Space Description    46.974359\nEweMove Description S1 Features                        0.000000\nEweMove Description S2 Description                    13.230769\nEweMove Description S3 Rooms                          39.897436\nEweMove Description S4 Summary                         0.000000\nRTD3307_parking1 - Parking Description                39.487179\nRTD3307_parking2 - Parking Description                67.897436\nRTD3307_parking3 - Parking Description                83.384615\nRTD3308_outside_space2 - Outside Space Description    69.333333\nRTD3308_outside_space3 - Outside Space Description    83.282051\nRTD3316_condition1 - Condition Description            39.384615\nRTD3318_heating1 - Heating Description                36.410256\nRTD3317_accessibility1 - accessibility Description    58.153846\nRTD3317_accessibility2 - accessibility Description    97.948718\nRTD3317_accessibility3 - accessibility Description    99.794872\nRTD3318_heating2 - Heating Description                57.538462\nRTD3313_land_area_unit - Area Description             99.384615\nRTD3318_heating3 - Heating Description                87.487179\nPrice / Rent                                           0.000000\nPrice Qualifier                                        0.000000\nSale Price % Achieved                                 97.025641\nCurrent EPC - EPC Expiry Date                         38.564103\nDESC Council Tax Band                                 44.717949\nDESC Leasehold Ground Rent                            98.256410\nDESC Leasehold Service Charge                         98.358974\nZPG_lease_expiry_years_remaining                      98.051282\n# of Enquiry or viewings                               0.000000\n# of Apps/Offers                                       0.000000\ndtype: float64"
     },
     "execution_count": 8,
     "metadata": {},
     "output_type": "execute_result"
    }
   ],
   "source": [
    "nan_data = rental_data.isnull().sum()\n",
    "for i in range(len(nan_data)):\n",
    "    nan_data.iloc[i] = nan_data.iloc[i] / rental_data.shape[0] * 100\n",
    "nan_data"
   ],
   "metadata": {
    "collapsed": false,
    "pycharm": {
     "name": "#%%\n"
    }
   }
  },
  {
   "cell_type": "markdown",
   "source": [
    "# Handling HTML text"
   ],
   "metadata": {
    "collapsed": false,
    "pycharm": {
     "name": "#%% md\n"
    }
   }
  },
  {
   "cell_type": "markdown",
   "source": [
    "## EweMove Description S1 Features"
   ],
   "metadata": {
    "collapsed": false,
    "pycharm": {
     "name": "#%% md\n"
    }
   }
  },
  {
   "cell_type": "code",
   "execution_count": 9,
   "outputs": [],
   "source": [
    "string = data[\"EweMove Description S1 Features\"][2]\n",
    "soup = BeautifulSoup(string, \"html.parser\")"
   ],
   "metadata": {
    "collapsed": false,
    "pycharm": {
     "name": "#%%\n"
    }
   }
  },
  {
   "cell_type": "code",
   "execution_count": 10,
   "outputs": [
    {
     "name": "stdout",
     "output_type": "stream",
     "text": [
      "Call NOW 24/7 or book instantly online to View\n",
      "Close to Excellent Local Amenities\n",
      "Close to Excellent Local Transport Links\n",
      "Close to Local Park\n",
      "Close to Local Schools\n",
      "Attention - First Time Buyers\n",
      "Investors - Look At This\n",
      "Very Popular Location\n"
     ]
    }
   ],
   "source": [
    "features = soup.select(\"li\")\n",
    "for feature in features:\n",
    "    print(feature.string.strip())"
   ],
   "metadata": {
    "collapsed": false,
    "pycharm": {
     "name": "#%%\n"
    }
   }
  },
  {
   "cell_type": "markdown",
   "source": [
    "## EweMove Description S3 Rooms"
   ],
   "metadata": {
    "collapsed": false,
    "pycharm": {
     "name": "#%% md\n"
    }
   }
  },
  {
   "cell_type": "code",
   "execution_count": 11,
   "outputs": [],
   "source": [
    "string = data[\"EweMove Description S3 Rooms\"][0]\n",
    "soup = BeautifulSoup(string, \"html.parser\")"
   ],
   "metadata": {
    "collapsed": false,
    "pycharm": {
     "name": "#%%\n"
    }
   }
  },
  {
   "cell_type": "code",
   "execution_count": 12,
   "outputs": [
    {
     "name": "stdout",
     "output_type": "stream",
     "text": [
      "Entrance Hall            1\n",
      "Living/Dining Room       6.58m x 3.78m (24.8 sqm) - 21' 7\" x 12' 4\" (267 sqft)\n",
      "Kitchen                  2.68m x 2.14m (5.7 sqm) - 8' 9\" x 7' (61 sqft)\n",
      "Bedroom 1                3.37m x 2.45m (8.2 sqm) - 11' x 8' (88 sqft)\n",
      "Bedroom 2                2.54m x 2.45m (6.2 sqm) - 8' 4\" x 8' (67 sqft)\n",
      "Bathroom                 2.14m x 2.04m (4.3 sqm) - 7' x 6' 8\" (46 sqft)\n",
      "Garden                   1\n",
      "Parking                  1\n"
     ]
    }
   ],
   "source": [
    "rooms = soup.select(\"li\")\n",
    "for room in rooms:\n",
    "    name = room.strong.string.split('-')[-1].strip()\n",
    "    try:\n",
    "        area = room.i.string\n",
    "    except AttributeError:\n",
    "        area = 1\n",
    "    print(\"{:25s}{}\".format(name, area))"
   ],
   "metadata": {
    "collapsed": false,
    "pycharm": {
     "name": "#%%\n"
    }
   }
  },
  {
   "cell_type": "markdown",
   "source": [
    "## EweMove Description S4 Summary"
   ],
   "metadata": {
    "collapsed": false,
    "pycharm": {
     "name": "#%% md\n"
    }
   }
  },
  {
   "cell_type": "code",
   "execution_count": 13,
   "outputs": [],
   "source": [
    "string = data[\"EweMove Description S4 Summary\"][0]\n",
    "soup = BeautifulSoup(string, \"html.parser\")"
   ],
   "metadata": {
    "collapsed": false,
    "pycharm": {
     "name": "#%%\n"
    }
   }
  },
  {
   "cell_type": "code",
   "execution_count": 14,
   "outputs": [
    {
     "data": {
      "text/plain": "['<b>Council Tax: </b><br><br>Band B<br><br>',\n '<b>Energy Performance Certificate (EPC) Rating:</b><br><br>Band C (69-80)<br></li>']"
     },
     "execution_count": 14,
     "metadata": {},
     "output_type": "execute_result"
    }
   ],
   "source": [
    "summary = list(filter(lambda s: s.startswith(\"<b>\"), string.split(\"<li>\")))\n",
    "summary"
   ],
   "metadata": {
    "collapsed": false,
    "pycharm": {
     "name": "#%%\n"
    }
   }
  },
  {
   "cell_type": "code",
   "execution_count": 15,
   "outputs": [
    {
     "name": "stdout",
     "output_type": "stream",
     "text": [
      "('Council Tax: ', 'Band B')\n",
      "('Energy Performance Certificate (EPC) Rating:', 'Band C (69-80)')\n"
     ]
    }
   ],
   "source": [
    "single = parse.compile(\"<b>{}</b><br>\")\n",
    "double = parse.compile(\"<b>{}</b><br><br>{}<br><br>\")\n",
    "final1 = parse.compile(\"<b>{}</b><br><br>{}<br></li>\")\n",
    "final2 = parse.compile(\"<b>{}</b><br><br>{}<br></li><br><br>{}\")\n",
    "final3 = parse.compile(\"<b>{}</b></li>\")\n",
    "final4 = parse.compile(\"<b>{}</b></li><br><br>{}\")\n",
    "parsers = [single, double, final1, final2, final3, final4]\n",
    "for s in summary:\n",
    "    result = list(filter(lambda r: r is not None, map(lambda p: p.parse(s), parsers)))[0]\n",
    "    print(result.fixed)"
   ],
   "metadata": {
    "collapsed": false,
    "pycharm": {
     "name": "#%%\n"
    }
   }
  },
  {
   "cell_type": "markdown",
   "source": [
    "## Price / Rent"
   ],
   "metadata": {
    "collapsed": false,
    "pycharm": {
     "name": "#%% md\n"
    }
   }
  },
  {
   "cell_type": "code",
   "execution_count": 16,
   "outputs": [
    {
     "data": {
      "text/plain": "\"<font color='blue'>&pound;140,000</font><br>Offers In Excess Of\""
     },
     "execution_count": 16,
     "metadata": {},
     "output_type": "execute_result"
    }
   ],
   "source": [
    "string = data[\"Price / Rent\"][0]\n",
    "string"
   ],
   "metadata": {
    "collapsed": false,
    "pycharm": {
     "name": "#%%\n"
    }
   }
  },
  {
   "cell_type": "code",
   "execution_count": 17,
   "outputs": [
    {
     "name": "stdout",
     "output_type": "stream",
     "text": [
      "Offers In Excess Of\n",
      "140,000\n"
     ]
    }
   ],
   "source": [
    "price_qualifier = string.split(\"<br>\")[-1]\n",
    "\n",
    "pattern = \"[-+]?[.]?[\\d]+(?:,\\d\\d\\d)*[\\.]?\\d*(?:[eE][-+]?\\d+)?\"\n",
    "price = re.findall(pattern, string)[0]\n",
    "\n",
    "print(price_qualifier)\n",
    "print(price)"
   ],
   "metadata": {
    "collapsed": false,
    "pycharm": {
     "name": "#%%\n"
    }
   }
  },
  {
   "cell_type": "code",
   "execution_count": 18,
   "outputs": [
    {
     "data": {
      "text/plain": "<seaborn.axisgrid.FacetGrid at 0x160a4dc40>"
     },
     "execution_count": 18,
     "metadata": {},
     "output_type": "execute_result"
    },
    {
     "data": {
      "text/plain": "<Figure size 360x360 with 1 Axes>",
      "image/png": "[encoded data removed]"
     },
     "metadata": {},
     "output_type": "display_data"
    }
   ],
   "source": [
    "info = data[\"Price / Rent\"]\n",
    "\n",
    "prices = []\n",
    "for i in info:\n",
    "    pattern = \"[-+]?[.]?[\\d]+(?:,\\d\\d\\d)*[\\.]?\\d*(?:[eE][-+]?\\d+)?\"\n",
    "    price = float(re.findall(pattern, i)[0].replace(\",\", \"\"))\n",
    "    prices.append(price)\n",
    "\n",
    "sns.displot(prices)"
   ],
   "metadata": {
    "collapsed": false,
    "pycharm": {
     "name": "#%%\n"
    }
   }
  },
  {
   "cell_type": "markdown",
   "source": [
    "### Separate the sale and rental data"
   ],
   "metadata": {
    "collapsed": false,
    "pycharm": {
     "name": "#%% md\n"
    }
   }
  },
  {
   "cell_type": "code",
   "execution_count": 19,
   "outputs": [],
   "source": [
    "sale_price = info[data[\"Sale or Let\"] == \"Sale\"]\n",
    "rental_price = info[data[\"Sale or Let\"] == \"Rental\"]"
   ],
   "metadata": {
    "collapsed": false,
    "pycharm": {
     "name": "#%%\n"
    }
   }
  },
  {
   "cell_type": "code",
   "execution_count": 20,
   "outputs": [
    {
     "data": {
      "text/plain": "Text(0.5, 1.0, 'Sale Price')"
     },
     "execution_count": 20,
     "metadata": {},
     "output_type": "execute_result"
    },
    {
     "data": {
      "text/plain": "<Figure size 360x360 with 1 Axes>",
      "image/png": "[encoded data removed]"
     },
     "metadata": {},
     "output_type": "display_data"
    }
   ],
   "source": [
    "prices = []\n",
    "for price in sale_price:\n",
    "    pattern = \"[-+]?[.]?[\\d]+(?:,\\d\\d\\d)*[\\.]?\\d*(?:[eE][-+]?\\d+)?\"\n",
    "    price = float(re.findall(pattern, price)[0].replace(\",\", \"\"))\n",
    "    prices.append(price)\n",
    "sns.displot(prices)\n",
    "plt.title(\"Sale Price\")"
   ],
   "metadata": {
    "collapsed": false,
    "pycharm": {
     "name": "#%%\n"
    }
   }
  },
  {
   "cell_type": "code",
   "execution_count": 21,
   "outputs": [
    {
     "data": {
      "text/plain": "Text(0.5, 1.0, 'Rental Price')"
     },
     "execution_count": 21,
     "metadata": {},
     "output_type": "execute_result"
    },
    {
     "data": {
      "text/plain": "<Figure size 360x360 with 1 Axes>",
      "image/png": "[encoded data removed]"
     },
     "metadata": {},
     "output_type": "display_data"
    }
   ],
   "source": [
    "prices = []\n",
    "for price in rental_price:\n",
    "    pattern = \"[-+]?[.]?[\\d]+(?:,\\d\\d\\d)*[\\.]?\\d*(?:[eE][-+]?\\d+)?\"\n",
    "    price = float(re.findall(pattern, price)[0].replace(\",\", \"\"))\n",
    "    prices.append(price)\n",
    "sns.displot(prices)\n",
    "plt.title(\"Rental Price\")"
   ],
   "metadata": {
    "collapsed": false,
    "pycharm": {
     "name": "#%%\n"
    }
   }
  },
  {
   "cell_type": "markdown",
   "source": [
    "# Preprocess records"
   ],
   "metadata": {
    "collapsed": false,
    "pycharm": {
     "name": "#%% md\n"
    }
   }
  },
  {
   "cell_type": "markdown",
   "source": [
    "## Parking spaces"
   ],
   "metadata": {
    "collapsed": false,
    "pycharm": {
     "name": "#%% md\n"
    }
   }
  },
  {
   "cell_type": "code",
   "execution_count": 22,
   "outputs": [
    {
     "data": {
      "text/plain": "  RTD3307_parking1 - Parking Description  \\\n0                              Allocated   \n1                                    NaN   \n2                              On Street   \n3                                    NaN   \n4                               Driveway   \n\n  RTD3307_parking2 - Parking Description  \\\n0                             Off Street   \n1                                    NaN   \n2                                    NaN   \n3                                    NaN   \n4                                 Garage   \n\n  RTD3307_parking3 - Parking Description  \n0                              Residents  \n1                                    NaN  \n2                                    NaN  \n3                                    NaN  \n4                             Off Street  ",
      "text/html": "<div>\n<style scoped>\n    .dataframe tbody tr th:only-of-type {\n        vertical-align: middle;\n    }\n\n    .dataframe tbody tr th {\n        vertical-align: top;\n    }\n\n    .dataframe thead th {\n        text-align: right;\n    }\n</style>\n<table border=\"1\" class=\"dataframe\">\n  <thead>\n    <tr style=\"text-align: right;\">\n      <th></th>\n      <th>RTD3307_parking1 - Parking Description</th>\n      <th>RTD3307_parking2 - Parking Description</th>\n      <th>RTD3307_parking3 - Parking Description</th>\n    </tr>\n  </thead>\n  <tbody>\n    <tr>\n      <th>0</th>\n      <td>Allocated</td>\n      <td>Off Street</td>\n      <td>Residents</td>\n    </tr>\n    <tr>\n      <th>1</th>\n      <td>NaN</td>\n      <td>NaN</td>\n      <td>NaN</td>\n    </tr>\n    <tr>\n      <th>2</th>\n      <td>On Street</td>\n      <td>NaN</td>\n      <td>NaN</td>\n    </tr>\n    <tr>\n      <th>3</th>\n      <td>NaN</td>\n      <td>NaN</td>\n      <td>NaN</td>\n    </tr>\n    <tr>\n      <th>4</th>\n      <td>Driveway</td>\n      <td>Garage</td>\n      <td>Off Street</td>\n    </tr>\n  </tbody>\n</table>\n</div>"
     },
     "execution_count": 22,
     "metadata": {},
     "output_type": "execute_result"
    }
   ],
   "source": [
    "parkings_name = list(filter(lambda s: \"parking\" in s, data.columns))\n",
    "parkings = data[parkings_name].copy()\n",
    "parkings.head()"
   ],
   "metadata": {
    "collapsed": false,
    "pycharm": {
     "name": "#%%\n"
    }
   }
  },
  {
   "cell_type": "markdown",
   "source": [
    "### Types of parking spaces for every property\n",
    "First obtaining all the parking types in the original dataset, then get the parking types for every property"
   ],
   "metadata": {
    "collapsed": false,
    "pycharm": {
     "name": "#%% md\n"
    }
   }
  },
  {
   "cell_type": "code",
   "execution_count": 23,
   "outputs": [
    {
     "data": {
      "text/plain": "[('Allocated', 343),\n ('Communal', 81),\n ('Covered', 36),\n ('Driveway', 1257),\n ('Garage', 842),\n ('Gated', 89),\n ('None', 6187),\n ('Off Street', 1209),\n ('On Street', 458),\n ('Permit', 70),\n ('Private', 258),\n ('Rear', 27),\n ('Residents', 90)]"
     },
     "execution_count": 23,
     "metadata": {},
     "output_type": "execute_result"
    }
   ],
   "source": [
    "parkings = parkings.fillna(\"None\")\n",
    "types, counts = np.unique(parkings.to_numpy().flatten(), return_counts=True)\n",
    "list(zip(types, counts))"
   ],
   "metadata": {
    "collapsed": false,
    "pycharm": {
     "name": "#%%\n"
    }
   }
  },
  {
   "cell_type": "code",
   "execution_count": 24,
   "outputs": [],
   "source": [
    "def get_parking_spaces_for_property(first: str, second: str, third: str):\n",
    "    parking_types = {\"Allocated\": 0, \"Off Street\": 0, \"Residents\": 0, \"On Street\": 0, \"Driveway\": 0, \"Garage\": 0,\n",
    "                     \"Permit\": 0, \"Private\": 0, \"Gated\": 0, \"Covered\": 0, \"Communal\": 0, \"Rear\": 0}\n",
    "\n",
    "    if first in parking_types.keys():\n",
    "        parking_types[first] += 1\n",
    "    if second in parking_types.keys():\n",
    "        parking_types[second] += 1\n",
    "    if third in parking_types.keys():\n",
    "        parking_types[third] += 1\n",
    "\n",
    "    return parking_types"
   ],
   "metadata": {
    "collapsed": false,
    "pycharm": {
     "name": "#%%\n"
    }
   }
  },
  {
   "cell_type": "code",
   "execution_count": 25,
   "outputs": [],
   "source": [
    "parking_types = {key: [] for key in types if key != \"None\"}\n",
    "for i in range(len(parkings)):\n",
    "    first = parkings.iloc[i, 0]\n",
    "    second = parkings.iloc[i, 1]\n",
    "    third = parkings.iloc[i, 2]\n",
    "    types = get_parking_spaces_for_property(first, second, third)\n",
    "\n",
    "    list(map(lambda value, d: parking_types[d].append(types[value]), types.keys(), types.keys()))"
   ],
   "metadata": {
    "collapsed": false,
    "pycharm": {
     "name": "#%%\n"
    }
   }
  },
  {
   "cell_type": "code",
   "execution_count": 26,
   "outputs": [
    {
     "name": "stdout",
     "output_type": "stream",
     "text": [
      "Allocated \t  343\n",
      "Communal  \t   81\n",
      "Covered   \t   36\n",
      "Driveway  \t 1257\n",
      "Garage    \t  842\n",
      "Gated     \t   89\n",
      "Off Street\t 1209\n",
      "On Street \t  458\n",
      "Permit    \t   70\n",
      "Private   \t  258\n",
      "Rear      \t   27\n",
      "Residents \t   90\n"
     ]
    }
   ],
   "source": [
    "for k, v in parking_types.items():\n",
    "    print(\"{:10s}\\t{:5d}\".format(k, sum(v)))"
   ],
   "metadata": {
    "collapsed": false,
    "pycharm": {
     "name": "#%%\n"
    }
   }
  },
  {
   "cell_type": "markdown",
   "source": [
    "### Number of keywords for every property"
   ],
   "metadata": {
    "collapsed": false,
    "pycharm": {
     "name": "#%% md\n"
    }
   }
  },
  {
   "cell_type": "code",
   "execution_count": 27,
   "outputs": [
    {
     "data": {
      "text/plain": "   parking num\n0            3\n1            0\n2            1\n3            0\n4            3",
      "text/html": "<div>\n<style scoped>\n    .dataframe tbody tr th:only-of-type {\n        vertical-align: middle;\n    }\n\n    .dataframe tbody tr th {\n        vertical-align: top;\n    }\n\n    .dataframe thead th {\n        text-align: right;\n    }\n</style>\n<table border=\"1\" class=\"dataframe\">\n  <thead>\n    <tr style=\"text-align: right;\">\n      <th></th>\n      <th>parking num</th>\n    </tr>\n  </thead>\n  <tbody>\n    <tr>\n      <th>0</th>\n      <td>3</td>\n    </tr>\n    <tr>\n      <th>1</th>\n      <td>0</td>\n    </tr>\n    <tr>\n      <th>2</th>\n      <td>1</td>\n    </tr>\n    <tr>\n      <th>3</th>\n      <td>0</td>\n    </tr>\n    <tr>\n      <th>4</th>\n      <td>3</td>\n    </tr>\n  </tbody>\n</table>\n</div>"
     },
     "execution_count": 27,
     "metadata": {},
     "output_type": "execute_result"
    }
   ],
   "source": [
    "parkings = data[parkings_name]\n",
    "parking_num = [parkings.iloc[i].count() for i in range(len(parkings))]\n",
    "parking_num = pd.DataFrame({\"parking num\": parking_num})\n",
    "parking_num.head()"
   ],
   "metadata": {
    "collapsed": false,
    "pycharm": {
     "name": "#%%\n"
    }
   }
  },
  {
   "cell_type": "code",
   "execution_count": 28,
   "outputs": [
    {
     "data": {
      "text/plain": "parking num    4760\ndtype: int64"
     },
     "execution_count": 28,
     "metadata": {},
     "output_type": "execute_result"
    }
   ],
   "source": [
    "parking_num.sum()"
   ],
   "metadata": {
    "collapsed": false,
    "pycharm": {
     "name": "#%%\n"
    }
   }
  },
  {
   "cell_type": "markdown",
   "source": [
    "## Outside spaces"
   ],
   "metadata": {
    "collapsed": false,
    "pycharm": {
     "name": "#%% md\n"
    }
   }
  },
  {
   "cell_type": "code",
   "execution_count": 29,
   "outputs": [
    {
     "data": {
      "text/plain": "  RTD3308_outside_space1 - Outside Space Description  \\\n0                                    Communal Garden   \n1                                                NaN   \n2                                        Rear Garden   \n3                                                NaN   \n4                                        Back Garden   \n\n  RTD3308_outside_space2 - Outside Space Description  \\\n0                                                NaN   \n1                                                NaN   \n2                                     Private Garden   \n3                                                NaN   \n4                                    Enclosed Garden   \n\n  RTD3308_outside_space3 - Outside Space Description  \n0                                                NaN  \n1                                                NaN  \n2                                                NaN  \n3                                                NaN  \n4                                     Private Garden  ",
      "text/html": "<div>\n<style scoped>\n    .dataframe tbody tr th:only-of-type {\n        vertical-align: middle;\n    }\n\n    .dataframe tbody tr th {\n        vertical-align: top;\n    }\n\n    .dataframe thead th {\n        text-align: right;\n    }\n</style>\n<table border=\"1\" class=\"dataframe\">\n  <thead>\n    <tr style=\"text-align: right;\">\n      <th></th>\n      <th>RTD3308_outside_space1 - Outside Space Description</th>\n      <th>RTD3308_outside_space2 - Outside Space Description</th>\n      <th>RTD3308_outside_space3 - Outside Space Description</th>\n    </tr>\n  </thead>\n  <tbody>\n    <tr>\n      <th>0</th>\n      <td>Communal Garden</td>\n      <td>NaN</td>\n      <td>NaN</td>\n    </tr>\n    <tr>\n      <th>1</th>\n      <td>NaN</td>\n      <td>NaN</td>\n      <td>NaN</td>\n    </tr>\n    <tr>\n      <th>2</th>\n      <td>Rear Garden</td>\n      <td>Private Garden</td>\n      <td>NaN</td>\n    </tr>\n    <tr>\n      <th>3</th>\n      <td>NaN</td>\n      <td>NaN</td>\n      <td>NaN</td>\n    </tr>\n    <tr>\n      <th>4</th>\n      <td>Back Garden</td>\n      <td>Enclosed Garden</td>\n      <td>Private Garden</td>\n    </tr>\n  </tbody>\n</table>\n</div>"
     },
     "execution_count": 29,
     "metadata": {},
     "output_type": "execute_result"
    }
   ],
   "source": [
    "outside_name = list(filter(lambda s: \"outside_space\" in s, data.columns))\n",
    "outside = data[outside_name].copy()\n",
    "outside.head()"
   ],
   "metadata": {
    "collapsed": false,
    "pycharm": {
     "name": "#%%\n"
    }
   }
  },
  {
   "cell_type": "markdown",
   "source": [
    "### Types of outside spaces for every property"
   ],
   "metadata": {
    "collapsed": false,
    "pycharm": {
     "name": "#%% md\n"
    }
   }
  },
  {
   "cell_type": "code",
   "execution_count": 30,
   "outputs": [],
   "source": [
    "def record_types(first: str, second: str, third: str, types: dict):\n",
    "    if first in types.keys():\n",
    "        types[first] += 1\n",
    "    if second in types.keys():\n",
    "        types[second] += 1\n",
    "    if third in types.keys():\n",
    "        types[third] += 1\n",
    "\n",
    "    return types"
   ],
   "metadata": {
    "collapsed": false,
    "pycharm": {
     "name": "#%%\n"
    }
   }
  },
  {
   "cell_type": "code",
   "execution_count": 31,
   "outputs": [
    {
     "data": {
      "text/plain": "[('Back Garden', 1366),\n ('Communal Garden', 227),\n ('Enclosed Garden', 735),\n ('Front Garden', 682),\n ('None', 6012),\n ('Patio', 431),\n ('Private Garden', 599),\n ('Rear Garden', 802),\n ('Terrace', 93)]"
     },
     "execution_count": 31,
     "metadata": {},
     "output_type": "execute_result"
    }
   ],
   "source": [
    "outside = outside.fillna(\"None\")\n",
    "types, counts = np.unique(outside.to_numpy().flatten(), return_counts=True)\n",
    "list(zip(types, counts))"
   ],
   "metadata": {
    "collapsed": false,
    "pycharm": {
     "name": "#%%\n"
    }
   }
  },
  {
   "cell_type": "code",
   "execution_count": 32,
   "outputs": [],
   "source": [
    "outside_types = {key: [] for key in types if key != \"None\"}\n",
    "for i in range(len(outside)):\n",
    "    types = {key: 0 for key in types if key != \"None\"}\n",
    "    first = outside.iloc[i, 0]\n",
    "    second = outside.iloc[i, 1]\n",
    "    third = outside.iloc[i, 2]\n",
    "    types = record_types(first, second, third, types)\n",
    "\n",
    "    list(map(lambda value, d: outside_types[d].append(types[value]), types.keys(), types.keys()))"
   ],
   "metadata": {
    "collapsed": false,
    "pycharm": {
     "name": "#%%\n"
    }
   }
  },
  {
   "cell_type": "code",
   "execution_count": 33,
   "outputs": [
    {
     "name": "stdout",
     "output_type": "stream",
     "text": [
      "Back Garden     1366\n",
      "Communal Garden  227\n",
      "Enclosed Garden  735\n",
      "Front Garden     682\n",
      "Patio            431\n",
      "Private Garden   599\n",
      "Rear Garden      802\n",
      "Terrace           93\n"
     ]
    }
   ],
   "source": [
    "for k, v in outside_types.items():\n",
    "    print(\"{:15s}{:5d}\".format(k, sum(v)))"
   ],
   "metadata": {
    "collapsed": false,
    "pycharm": {
     "name": "#%%\n"
    }
   }
  },
  {
   "cell_type": "markdown",
   "source": [
    "### Number of outside spaces for every property"
   ],
   "metadata": {
    "collapsed": false,
    "pycharm": {
     "name": "#%% md\n"
    }
   }
  },
  {
   "cell_type": "code",
   "execution_count": 34,
   "outputs": [
    {
     "data": {
      "text/plain": "   outside_num\n0            1\n1            0\n2            2\n3            0\n4            3",
      "text/html": "<div>\n<style scoped>\n    .dataframe tbody tr th:only-of-type {\n        vertical-align: middle;\n    }\n\n    .dataframe tbody tr th {\n        vertical-align: top;\n    }\n\n    .dataframe thead th {\n        text-align: right;\n    }\n</style>\n<table border=\"1\" class=\"dataframe\">\n  <thead>\n    <tr style=\"text-align: right;\">\n      <th></th>\n      <th>outside_num</th>\n    </tr>\n  </thead>\n  <tbody>\n    <tr>\n      <th>0</th>\n      <td>1</td>\n    </tr>\n    <tr>\n      <th>1</th>\n      <td>0</td>\n    </tr>\n    <tr>\n      <th>2</th>\n      <td>2</td>\n    </tr>\n    <tr>\n      <th>3</th>\n      <td>0</td>\n    </tr>\n    <tr>\n      <th>4</th>\n      <td>3</td>\n    </tr>\n  </tbody>\n</table>\n</div>"
     },
     "execution_count": 34,
     "metadata": {},
     "output_type": "execute_result"
    }
   ],
   "source": [
    "outside = data[outside_name]\n",
    "outside_num = [outside.iloc[i].count() for i in range(len(outside))]\n",
    "temp = pd.DataFrame({\"outside_num\": outside_num})\n",
    "temp.head()"
   ],
   "metadata": {
    "collapsed": false,
    "pycharm": {
     "name": "#%%\n"
    }
   }
  },
  {
   "cell_type": "markdown",
   "source": [
    "## Condition"
   ],
   "metadata": {
    "collapsed": false,
    "pycharm": {
     "name": "#%% md\n"
    }
   }
  },
  {
   "cell_type": "code",
   "execution_count": 35,
   "outputs": [
    {
     "data": {
      "text/plain": "  RTD3316_condition1 - Condition Description\n0                                       Good\n1                                        NaN\n2                                       Good\n3                                        NaN\n4                                       Good",
      "text/html": "<div>\n<style scoped>\n    .dataframe tbody tr th:only-of-type {\n        vertical-align: middle;\n    }\n\n    .dataframe tbody tr th {\n        vertical-align: top;\n    }\n\n    .dataframe thead th {\n        text-align: right;\n    }\n</style>\n<table border=\"1\" class=\"dataframe\">\n  <thead>\n    <tr style=\"text-align: right;\">\n      <th></th>\n      <th>RTD3316_condition1 - Condition Description</th>\n    </tr>\n  </thead>\n  <tbody>\n    <tr>\n      <th>0</th>\n      <td>Good</td>\n    </tr>\n    <tr>\n      <th>1</th>\n      <td>NaN</td>\n    </tr>\n    <tr>\n      <th>2</th>\n      <td>Good</td>\n    </tr>\n    <tr>\n      <th>3</th>\n      <td>NaN</td>\n    </tr>\n    <tr>\n      <th>4</th>\n      <td>Good</td>\n    </tr>\n  </tbody>\n</table>\n</div>"
     },
     "execution_count": 35,
     "metadata": {},
     "output_type": "execute_result"
    }
   ],
   "source": [
    "condition_names = list(filter(lambda s: \"condition\" in s, data.columns))\n",
    "condition = data[condition_names].copy()\n",
    "condition.head()"
   ],
   "metadata": {
    "collapsed": false,
    "pycharm": {
     "name": "#%%\n"
    }
   }
  },
  {
   "cell_type": "code",
   "execution_count": 36,
   "outputs": [
    {
     "data": {
      "text/plain": "  RTD3316_condition1 - Condition Description\n0                                       Good\n1                                       None\n2                                       Good\n3                                       None\n4                                       Good",
      "text/html": "<div>\n<style scoped>\n    .dataframe tbody tr th:only-of-type {\n        vertical-align: middle;\n    }\n\n    .dataframe tbody tr th {\n        vertical-align: top;\n    }\n\n    .dataframe thead th {\n        text-align: right;\n    }\n</style>\n<table border=\"1\" class=\"dataframe\">\n  <thead>\n    <tr style=\"text-align: right;\">\n      <th></th>\n      <th>RTD3316_condition1 - Condition Description</th>\n    </tr>\n  </thead>\n  <tbody>\n    <tr>\n      <th>0</th>\n      <td>Good</td>\n    </tr>\n    <tr>\n      <th>1</th>\n      <td>None</td>\n    </tr>\n    <tr>\n      <th>2</th>\n      <td>Good</td>\n    </tr>\n    <tr>\n      <th>3</th>\n      <td>None</td>\n    </tr>\n    <tr>\n      <th>4</th>\n      <td>Good</td>\n    </tr>\n  </tbody>\n</table>\n</div>"
     },
     "execution_count": 36,
     "metadata": {},
     "output_type": "execute_result"
    }
   ],
   "source": [
    "condition = condition.fillna(\"None\")\n",
    "condition.head()"
   ],
   "metadata": {
    "collapsed": false,
    "pycharm": {
     "name": "#%%\n"
    }
   }
  },
  {
   "cell_type": "markdown",
   "source": [
    "## Heating"
   ],
   "metadata": {
    "collapsed": false,
    "pycharm": {
     "name": "#%% md\n"
    }
   }
  },
  {
   "cell_type": "code",
   "execution_count": 37,
   "outputs": [
    {
     "data": {
      "text/plain": "  RTD3318_heating1 - Heating Description  \\\n0                         Double Glazing   \n1                                    NaN   \n2                                Central   \n3                                    NaN   \n4                                Central   \n\n  RTD3318_heating2 - Heating Description  \\\n0                               Electric   \n1                                    NaN   \n2                            Gas Central   \n3                                    NaN   \n4                                    Gas   \n\n  RTD3318_heating3 - Heating Description  \n0                          Night Storage  \n1                                    NaN  \n2                         Double Glazing  \n3                                    NaN  \n4                         Double Glazing  ",
      "text/html": "<div>\n<style scoped>\n    .dataframe tbody tr th:only-of-type {\n        vertical-align: middle;\n    }\n\n    .dataframe tbody tr th {\n        vertical-align: top;\n    }\n\n    .dataframe thead th {\n        text-align: right;\n    }\n</style>\n<table border=\"1\" class=\"dataframe\">\n  <thead>\n    <tr style=\"text-align: right;\">\n      <th></th>\n      <th>RTD3318_heating1 - Heating Description</th>\n      <th>RTD3318_heating2 - Heating Description</th>\n      <th>RTD3318_heating3 - Heating Description</th>\n    </tr>\n  </thead>\n  <tbody>\n    <tr>\n      <th>0</th>\n      <td>Double Glazing</td>\n      <td>Electric</td>\n      <td>Night Storage</td>\n    </tr>\n    <tr>\n      <th>1</th>\n      <td>NaN</td>\n      <td>NaN</td>\n      <td>NaN</td>\n    </tr>\n    <tr>\n      <th>2</th>\n      <td>Central</td>\n      <td>Gas Central</td>\n      <td>Double Glazing</td>\n    </tr>\n    <tr>\n      <th>3</th>\n      <td>NaN</td>\n      <td>NaN</td>\n      <td>NaN</td>\n    </tr>\n    <tr>\n      <th>4</th>\n      <td>Central</td>\n      <td>Gas</td>\n      <td>Double Glazing</td>\n    </tr>\n  </tbody>\n</table>\n</div>"
     },
     "execution_count": 37,
     "metadata": {},
     "output_type": "execute_result"
    }
   ],
   "source": [
    "heating_names = list(filter(lambda s: \"heating\" in s, data.columns))\n",
    "heating = data[heating_names].copy()\n",
    "heating.head()"
   ],
   "metadata": {
    "collapsed": false,
    "pycharm": {
     "name": "#%%\n"
    }
   }
  },
  {
   "cell_type": "code",
   "execution_count": 38,
   "outputs": [
    {
     "data": {
      "text/plain": "[('Air Conditioning', 6),\n ('Central', 476),\n ('Double Glazing', 1550),\n ('Eco-Friendly', 17),\n ('Electric', 183),\n ('Gas', 493),\n ('Gas Central', 1814),\n ('Night Storage', 24),\n ('None', 6270),\n ('Oil', 63),\n ('Solar', 15),\n ('Solar Water', 2),\n ('Under Floor', 34)]"
     },
     "execution_count": 38,
     "metadata": {},
     "output_type": "execute_result"
    }
   ],
   "source": [
    "heating = heating.fillna(\"None\")\n",
    "types, count = np.unique(heating.to_numpy().flatten(), return_counts=True)\n",
    "list(zip(types, count))"
   ],
   "metadata": {
    "collapsed": false,
    "pycharm": {
     "name": "#%%\n"
    }
   }
  },
  {
   "cell_type": "markdown",
   "source": [
    "### Types of heating for every property"
   ],
   "metadata": {
    "collapsed": false,
    "pycharm": {
     "name": "#%% md\n"
    }
   }
  },
  {
   "cell_type": "code",
   "execution_count": 39,
   "outputs": [],
   "source": [
    "heating_types = {key: [] for key in types if key != \"None\"}\n",
    "for i in range(len(heating)):\n",
    "    types = {key: 0 for key in types if key != \"None\"}\n",
    "\n",
    "    first = heating.iloc[i, 0]\n",
    "    second = heating.iloc[i, 1]\n",
    "    third = heating.iloc[i, 2]\n",
    "    types = record_types(first, second, third, types)\n",
    "\n",
    "    list(map(lambda d: heating_types[d].append(types[d]), types.keys()))"
   ],
   "metadata": {
    "collapsed": false,
    "pycharm": {
     "name": "#%%\n"
    }
   }
  },
  {
   "cell_type": "code",
   "execution_count": 40,
   "outputs": [
    {
     "name": "stdout",
     "output_type": "stream",
     "text": [
      "Air Conditioning        6\n",
      "Central               476\n",
      "Double Glazing       1550\n",
      "Eco-Friendly           17\n",
      "Electric              183\n",
      "Gas                   493\n",
      "Gas Central          1814\n",
      "Night Storage          24\n",
      "Oil                    63\n",
      "Solar                  15\n",
      "Solar Water             2\n",
      "Under Floor            34\n"
     ]
    }
   ],
   "source": [
    "for k, v in heating_types.items():\n",
    "    print(\"{:20s}{:5d}\".format(k, sum(v)))"
   ],
   "metadata": {
    "collapsed": false,
    "pycharm": {
     "name": "#%%\n"
    }
   }
  },
  {
   "cell_type": "markdown",
   "source": [
    "### Number of heating"
   ],
   "metadata": {
    "collapsed": false,
    "pycharm": {
     "name": "#%% md\n"
    }
   }
  },
  {
   "cell_type": "code",
   "execution_count": 41,
   "outputs": [
    {
     "data": {
      "text/plain": "   heating_num\n0            3\n1            0\n2            3\n3            0\n4            3",
      "text/html": "<div>\n<style scoped>\n    .dataframe tbody tr th:only-of-type {\n        vertical-align: middle;\n    }\n\n    .dataframe tbody tr th {\n        vertical-align: top;\n    }\n\n    .dataframe thead th {\n        text-align: right;\n    }\n</style>\n<table border=\"1\" class=\"dataframe\">\n  <thead>\n    <tr style=\"text-align: right;\">\n      <th></th>\n      <th>heating_num</th>\n    </tr>\n  </thead>\n  <tbody>\n    <tr>\n      <th>0</th>\n      <td>3</td>\n    </tr>\n    <tr>\n      <th>1</th>\n      <td>0</td>\n    </tr>\n    <tr>\n      <th>2</th>\n      <td>3</td>\n    </tr>\n    <tr>\n      <th>3</th>\n      <td>0</td>\n    </tr>\n    <tr>\n      <th>4</th>\n      <td>3</td>\n    </tr>\n  </tbody>\n</table>\n</div>"
     },
     "execution_count": 41,
     "metadata": {},
     "output_type": "execute_result"
    }
   ],
   "source": [
    "heating = data[heating_names]\n",
    "heating_num = [heating.iloc[i].count() for i in range(len(heating))]\n",
    "temp = pd.DataFrame({\"heating_num\": heating_num})\n",
    "temp.head()"
   ],
   "metadata": {
    "collapsed": false,
    "pycharm": {
     "name": "#%%\n"
    }
   }
  },
  {
   "cell_type": "code",
   "execution_count": 42,
   "outputs": [
    {
     "data": {
      "text/plain": "heating_num    4677\ndtype: int64"
     },
     "execution_count": 42,
     "metadata": {},
     "output_type": "execute_result"
    }
   ],
   "source": [
    "temp.sum()"
   ],
   "metadata": {
    "collapsed": false,
    "pycharm": {
     "name": "#%%\n"
    }
   }
  },
  {
   "cell_type": "markdown",
   "source": [
    "## Accessibility"
   ],
   "metadata": {
    "collapsed": false,
    "pycharm": {
     "name": "#%% md\n"
    }
   }
  },
  {
   "cell_type": "code",
   "execution_count": 43,
   "outputs": [
    {
     "data": {
      "text/plain": "  RTD3317_accessibility1 - accessibility Description  \\\n0                  Not suitable for wheelchair users   \n1                                                NaN   \n2                                                NaN   \n3                                                NaN   \n4                                       Level access   \n\n  RTD3317_accessibility2 - accessibility Description  \\\n0                                                NaN   \n1                                                NaN   \n2                                                NaN   \n3                                                NaN   \n4                                                NaN   \n\n  RTD3317_accessibility3 - accessibility Description  \n0                                                NaN  \n1                                                NaN  \n2                                                NaN  \n3                                                NaN  \n4                                                NaN  ",
      "text/html": "<div>\n<style scoped>\n    .dataframe tbody tr th:only-of-type {\n        vertical-align: middle;\n    }\n\n    .dataframe tbody tr th {\n        vertical-align: top;\n    }\n\n    .dataframe thead th {\n        text-align: right;\n    }\n</style>\n<table border=\"1\" class=\"dataframe\">\n  <thead>\n    <tr style=\"text-align: right;\">\n      <th></th>\n      <th>RTD3317_accessibility1 - accessibility Description</th>\n      <th>RTD3317_accessibility2 - accessibility Description</th>\n      <th>RTD3317_accessibility3 - accessibility Description</th>\n    </tr>\n  </thead>\n  <tbody>\n    <tr>\n      <th>0</th>\n      <td>Not suitable for wheelchair users</td>\n      <td>NaN</td>\n      <td>NaN</td>\n    </tr>\n    <tr>\n      <th>1</th>\n      <td>NaN</td>\n      <td>NaN</td>\n      <td>NaN</td>\n    </tr>\n    <tr>\n      <th>2</th>\n      <td>NaN</td>\n      <td>NaN</td>\n      <td>NaN</td>\n    </tr>\n    <tr>\n      <th>3</th>\n      <td>NaN</td>\n      <td>NaN</td>\n      <td>NaN</td>\n    </tr>\n    <tr>\n      <th>4</th>\n      <td>Level access</td>\n      <td>NaN</td>\n      <td>NaN</td>\n    </tr>\n  </tbody>\n</table>\n</div>"
     },
     "execution_count": 43,
     "metadata": {},
     "output_type": "execute_result"
    }
   ],
   "source": [
    "accessibility_name = list(filter(lambda s: \"accessibility\" in s, data.columns))\n",
    "accessibility = data[accessibility_name].copy()\n",
    "accessibility.head()"
   ],
   "metadata": {
    "collapsed": false,
    "pycharm": {
     "name": "#%%\n"
    }
   }
  },
  {
   "cell_type": "code",
   "execution_count": 44,
   "outputs": [],
   "source": [
    "accessibility = accessibility.fillna(\"None\")\n",
    "types, count = np.unique(accessibility.to_numpy().flatten(), return_counts=True)"
   ],
   "metadata": {
    "collapsed": false,
    "pycharm": {
     "name": "#%%\n"
    }
   }
  },
  {
   "cell_type": "markdown",
   "source": [
    "### Types of accessibility"
   ],
   "metadata": {
    "collapsed": false,
    "pycharm": {
     "name": "#%% md\n"
    }
   }
  },
  {
   "cell_type": "code",
   "execution_count": 45,
   "outputs": [],
   "source": [
    "accessibility_type = {key: [] for key in types if key != \"None\"}\n",
    "for i in range(len(accessibility)):\n",
    "    types = {key: 0 for key in types if key != \"None\"}\n",
    "\n",
    "    first = accessibility.iloc[i, 0]\n",
    "    second = accessibility.iloc[i, 1]\n",
    "    third = accessibility.iloc[i, 2]\n",
    "    types = record_types(first, second, third, types)\n",
    "\n",
    "    list(map(lambda d: accessibility_type[d].append(types[d]), types.keys()))"
   ],
   "metadata": {
    "collapsed": false,
    "pycharm": {
     "name": "#%%\n"
    }
   }
  },
  {
   "cell_type": "code",
   "execution_count": 46,
   "outputs": [
    {
     "name": "stdout",
     "output_type": "stream",
     "text": [
      "Level access                         522\n",
      "Lift access                           64\n",
      "Not suitable for wheelchair users    779\n",
      "Ramped access                         24\n",
      "Wet room                              19\n",
      "Wide doorways                         47\n"
     ]
    }
   ],
   "source": [
    "for k, v in accessibility_type.items():\n",
    "    print(\"{:35s}{:5d}\".format(k, sum(v)))"
   ],
   "metadata": {
    "collapsed": false,
    "pycharm": {
     "name": "#%%\n"
    }
   }
  },
  {
   "cell_type": "markdown",
   "source": [
    "### Number of accessibility"
   ],
   "metadata": {
    "collapsed": false,
    "pycharm": {
     "name": "#%% md\n"
    }
   }
  },
  {
   "cell_type": "code",
   "execution_count": 47,
   "outputs": [
    {
     "data": {
      "text/plain": "   accessibility_num\n0                  1\n1                  0\n2                  0\n3                  0\n4                  1",
      "text/html": "<div>\n<style scoped>\n    .dataframe tbody tr th:only-of-type {\n        vertical-align: middle;\n    }\n\n    .dataframe tbody tr th {\n        vertical-align: top;\n    }\n\n    .dataframe thead th {\n        text-align: right;\n    }\n</style>\n<table border=\"1\" class=\"dataframe\">\n  <thead>\n    <tr style=\"text-align: right;\">\n      <th></th>\n      <th>accessibility_num</th>\n    </tr>\n  </thead>\n  <tbody>\n    <tr>\n      <th>0</th>\n      <td>1</td>\n    </tr>\n    <tr>\n      <th>1</th>\n      <td>0</td>\n    </tr>\n    <tr>\n      <th>2</th>\n      <td>0</td>\n    </tr>\n    <tr>\n      <th>3</th>\n      <td>0</td>\n    </tr>\n    <tr>\n      <th>4</th>\n      <td>1</td>\n    </tr>\n  </tbody>\n</table>\n</div>"
     },
     "execution_count": 47,
     "metadata": {},
     "output_type": "execute_result"
    }
   ],
   "source": [
    "accessibility = data[accessibility_name]\n",
    "accessibility_num = [accessibility.iloc[i].count() for i in range(len(accessibility))]\n",
    "temp = pd.DataFrame({\"accessibility_num\": accessibility_num})\n",
    "temp.head()"
   ],
   "metadata": {
    "collapsed": false,
    "pycharm": {
     "name": "#%%\n"
    }
   }
  },
  {
   "cell_type": "markdown",
   "source": [
    "## Rooms"
   ],
   "metadata": {
    "collapsed": false,
    "pycharm": {
     "name": "#%% md\n"
    }
   }
  },
  {
   "cell_type": "code",
   "execution_count": 48,
   "outputs": [],
   "source": [
    "extract_area = parse.compile(\"{} ({} sqm){}\")"
   ],
   "metadata": {
    "collapsed": false,
    "pycharm": {
     "name": "#%%\n"
    }
   }
  },
  {
   "cell_type": "markdown",
   "source": [
    "### Bedrooms"
   ],
   "metadata": {
    "collapsed": false,
    "pycharm": {
     "name": "#%% md\n"
    }
   }
  },
  {
   "cell_type": "code",
   "execution_count": 49,
   "outputs": [],
   "source": [
    "info = data[\"EweMove Description S3 Rooms\"]\n",
    "handler = ProcessHTML()\n",
    "for i in info:\n",
    "    handler.EweMove_Description_S3_Rooms(i)"
   ],
   "metadata": {
    "collapsed": false,
    "pycharm": {
     "name": "#%%\n"
    }
   }
  },
  {
   "cell_type": "code",
   "execution_count": 50,
   "outputs": [
    {
     "data": {
      "text/plain": "['Bedroom39',\n 'Bedroom22',\n 'Bedroom45',\n 'Bedroom (Double)97',\n 'Bedroom49',\n 'Bedroom (Double)6',\n 'Bedroom (Single)55',\n 'Bedroom (Double)69',\n 'Bedroom (Double)96',\n 'Bedroom90',\n 'Bedroom5',\n 'Bedroom (Double)20',\n 'Bedroom',\n 'Bedroom 8',\n 'Attic Bedroom',\n 'Bedroom (Double)37',\n 'Bedroom37',\n 'Bedroom6',\n 'Bedroom 244',\n 'Bedroom (Double)49',\n 'Bedroom (Double)91',\n 'Bedroom (Double)3',\n 'Bedroom (Double)18',\n 'Bedroom (Double)42',\n 'Bedroom (Double) with Ensuite8',\n 'Bedroom72',\n 'Bedroom35',\n 'Bedroom82',\n 'Bedroom47',\n 'Bedroom 386',\n 'Bedroom17',\n 'Bedroom4',\n 'Bedroom (Single)34',\n 'Bedroom53',\n 'Bedroom 2',\n 'Bedroom20',\n 'Bedroom29',\n 'Bedroom (Double)95',\n 'Bedroom7',\n 'Bedroom (Double)71',\n 'Bedroom (Double) with Ensuite53',\n 'Bedroom (Double)24',\n 'Bedroom (Double)64',\n 'Bedroom (Double)100',\n 'Bedroom10',\n 'Bedroom (Double)60',\n 'Bedroom (Double)8',\n 'Bedroom43',\n 'Bedroom (Double)62',\n 'Bedroom (Double)80',\n 'Master Bedroom with Ensuite',\n 'Bedroom (Double) with Ensuite83',\n 'Bedroom0',\n 'Bedroom (Double) with Ensuite63',\n 'Bedroom (Double)73',\n 'Bedroom23',\n 'Bedroom (Double)88',\n 'Bedroom 13',\n 'Bedroom (Double) with Ensuite0',\n 'Bedroom (Double)7',\n 'Bedroom33',\n 'Bedroom (Double)61',\n 'Bedroom28',\n 'Bedroom41',\n 'Bedroom (Double)35',\n 'Bedroom (Double) with Ensuite80',\n 'Bedroom78',\n 'Bedroom (Double)25',\n 'Bedroom (Double) with Ensuite35',\n 'Bedroom (Single)51',\n 'Bedroom (Double)65',\n 'Bedroom (Double)52',\n 'Bedroom (Double)19',\n 'Bedroom (Double)67',\n 'Bedroom27',\n 'Bedroom (Single)',\n 'Bedroom (Double)58',\n 'Bedroom91',\n 'Bedroom (Double)46',\n 'Bedroom24',\n 'Bedroom (Double) with Ensuite69',\n 'Bedroom (Double) with Ensuite27',\n 'Bedroom57',\n 'Bedroom71',\n 'Bedroom (Double)53',\n 'Bedroom2',\n 'Bedroom65',\n 'Bedroom95',\n 'Bedroom94',\n 'Bedroom36',\n 'Bedroom (Double)81',\n 'Bedroom38',\n 'Bedroom97',\n 'Bedroom48',\n 'Bedroom (Double)38',\n 'Bedroom (Double)63',\n 'Bedroom44',\n 'Bedroom9',\n 'Bedroom84',\n 'Bedroom92',\n 'Bedroom (Double) with Ensuite9',\n 'Bedroom (Double)2',\n 'Bedroom50',\n 'Bedroom (Double)40',\n 'Bedroom (Single)7',\n 'Bedroom (Double)76',\n 'Bedroom 4',\n 'Bedroom (Double)39',\n 'Bedroom (Single) with Ensuite',\n 'Bedroom87',\n 'Bedroom 221',\n 'Bedroom (Double) with Ensuite92',\n 'Bedroom 5',\n 'Bedroom (Double) with Ensuite48',\n 'Bedroom (Double)50',\n 'Bedroom98',\n 'Bedroom (Double)1',\n 'Bedroom (Double)72',\n 'Bedroom (Double)75',\n 'Loft Bedroom',\n 'Bedroom46',\n 'Bedroom 210',\n 'Bedroom (Double)15',\n 'Bedroom (Double) with Ensuite73',\n 'Bedroom (Double)12',\n 'Bedroom 3',\n 'Bedroom (Double)78',\n 'Bedroom (Double)10',\n 'Bedroom (Double)92',\n 'Bedroom (Double)32',\n 'Bedroom (Double)83',\n 'Bedroom (Double)99',\n 'Bedroom (Double)14',\n 'Bedroom (Double)56',\n 'Bedroom 280',\n 'Bedroom (Double)86',\n 'Bedroom96',\n 'Bedroom (Double)87',\n 'Bedroom61',\n 'Bedroom (Double)41',\n 'Bedroom (Double) with Ensuite37',\n 'Bedroom69',\n 'Bedroom75',\n 'Bedroom54',\n 'Bedroom63',\n 'Bedroom60',\n 'Bedroom (Single)67',\n 'Bedroom (Double)57',\n 'Master Bedroom',\n 'Bedroom (Double)59',\n 'Bedroom (Double)93',\n 'Bedroom (Double)',\n 'Bedroom15',\n 'Bedroom85',\n 'Bedroom (Double)0',\n 'Bedroom (Single)12',\n 'Bedroom99',\n 'Bedroom (Double)98',\n 'Bedroom81',\n 'Bedroom66',\n 'Bedroom55',\n 'Bedroom (Double) with Ensuite',\n 'Bedroom (Double)77',\n 'Bedroom80',\n 'Bedroom11',\n 'Bedroom (Double) with Ensuite58',\n 'Bedroom (Single)94',\n 'Bedroom (Double) with Ensuite65',\n 'Bedroom14',\n 'Bedroom (Double)66',\n 'Bedroom (Double)27',\n 'Bedroom (Double)90',\n 'Bedroom (Double)70',\n 'Bedroom 7',\n 'Bedroom (Double)43',\n 'Bedroom64',\n 'Bedroom (Double)48',\n 'Bedroom40',\n 'Bedroom (Double)51',\n 'Bedroom21',\n 'Bedroom (Double)44',\n 'Bedroom (Double)21',\n 'Bedroom (Double)13',\n 'Bedroom 6',\n 'Bedroom (Double) with Ensuite33',\n 'Bedroom (Double)31',\n 'Bedroom52',\n 'Bedroom (Double)47',\n 'Master Bedroom53',\n 'Bedroom8',\n 'Bedroom (Double)4',\n 'Bedroom (Double)34',\n 'Bedroom (Double)33',\n 'Bedroom (Double)74',\n 'Bedroom74',\n 'Bedroom86',\n 'Bedroom19',\n 'Bedroom34',\n 'Bedroom 413',\n 'Bedroom100',\n 'Bedroom (Double) with Ensuite54',\n 'Bedroom42',\n 'Bedroom (Double) with Ensuite89',\n 'Bedroom (Double)36',\n 'Bedroom68',\n 'Bedroom18',\n 'Bedroom (Double) with Ensuite76',\n 'Bedroom70',\n 'Bedroom (Single)14',\n 'Bedroom76',\n 'Bedroom (Double)68',\n 'Bedroom (Double)5',\n 'Bedroom 1',\n 'Bedroom (Double)89',\n 'Bedroom1',\n 'Bedroom (Double)84',\n 'Bedroom (Double)9',\n 'Bedroom79',\n 'Bedroom (Double)29',\n 'Bedroom (Double)17',\n 'Bedroom (Double)11',\n 'Bedroom (Double)22',\n 'Bedroom25',\n 'Bedroom (Single)4',\n 'Bedroom (Double)16',\n 'Bedroom (Double)30',\n 'Bedroom (Double) with Ensuite57',\n 'Bedroom88',\n 'Bedroom (Double)55',\n 'Bedroom3',\n 'Bedroom (Double)82',\n 'Bedroom51',\n 'Bedroom (Double)26',\n 'Bedroom (Double)85',\n 'Bedroom58',\n 'Bedroom30',\n 'Bedroom (Double)94',\n 'Bedroom59',\n 'Bedroom16',\n 'Bedroom (Double)54',\n 'Bedroom/Living Room',\n 'Bedroom12',\n 'Bedroom (Double)28',\n 'Bedroom (Double)45']"
     },
     "execution_count": 50,
     "metadata": {},
     "output_type": "execute_result"
    }
   ],
   "source": [
    "bedroom_names = [i for i in handler.s3_rooms_set if \"Bedroom\" in i]\n",
    "bedroom_names"
   ],
   "metadata": {
    "collapsed": false,
    "pycharm": {
     "name": "#%%\n"
    }
   }
  },
  {
   "cell_type": "code",
   "execution_count": 51,
   "outputs": [
    {
     "name": "stdout",
     "output_type": "stream",
     "text": [
      "Bedroom 1                     3.37m x 2.45m (8.2 sqm) - 11' x 8' (88 sqft)\n",
      "Bedroom 2                     2.54m x 2.45m (6.2 sqm) - 8' 4\" x 8' (67 sqft)\n",
      "Bedroom 1                     4.07m x 2.43m (9.8 sqm) - 13' 4\" x 7' 11\" (106 sqft)\n",
      "Bedroom 2                     3.48m x 2.43m (8.4 sqm) - 11' 5\" x 7' 11\" (91 sqft)\n",
      "Bedroom 3                     5.74m x 2.31m (13.2 sqm) - 18' 9\" x 7' 6\" (142 sqft)\n",
      "Bedroom 4                     5.34m x 3.13m (16.7 sqm) - 17' 6\" x 10' 3\" (179 sqft)\n",
      "Bedroom (Double)              4.05m x 3.25m (13.1 sqm) - 13' 3\" x 10' 7\" (142 sqft)\n",
      "Bedroom (Double)85            3.28m x 2.36m (7.7 sqm) - 10' 9\" x 7' 8\" (83 sqft)\n",
      "Bedroom (Double)65            4.3m x 2.44m (10.4 sqm) - 14' 1\" x 8' (112 sqft)\n",
      "Master Bedroom                4.83m x 2.29m (11 sqm) - 15' 10\" x 7' 6\" (119 sqft)\n",
      "Bedroom 2                     3.24m x 3.01m (9.7 sqm) - 10' 7\" x 9' 10\" (104 sqft)\n",
      "Bedroom 3                     2.86m x 2.62m (7.4 sqm) - 9' 4\" x 8' 7\" (80 sqft)\n",
      "Bedroom 4                     2.86m x 2.62m (7.4 sqm) - 9' 4\" x 8' 7\" (80 sqft)\n"
     ]
    }
   ],
   "source": [
    "for room in handler.s3_rooms[: 5]:\n",
    "    if room is None: continue\n",
    "    for k, v in room.items():\n",
    "        if k in bedroom_names:\n",
    "            print(\"{:30s}{}\".format(k, v))"
   ],
   "metadata": {
    "collapsed": false,
    "pycharm": {
     "name": "#%%\n"
    }
   }
  },
  {
   "cell_type": "markdown",
   "source": [
    "#### Obtain the maximum number of bedrooms in a property"
   ],
   "metadata": {
    "collapsed": false,
    "pycharm": {
     "name": "#%% md\n"
    }
   }
  },
  {
   "cell_type": "code",
   "execution_count": 52,
   "outputs": [],
   "source": [
    "bedrooms_num = []\n",
    "for room in handler.s3_rooms:\n",
    "    if room is None:\n",
    "        bedrooms_num.append(0)\n",
    "        continue\n",
    "\n",
    "    bedrooms_num.append(len([key for key in room.keys() if \"Bedroom\" in key]))\n",
    "max_bedroom_num = max(bedrooms_num)"
   ],
   "metadata": {
    "collapsed": false,
    "pycharm": {
     "name": "#%%\n"
    }
   }
  },
  {
   "cell_type": "markdown",
   "source": [
    "#### Bedroom area"
   ],
   "metadata": {
    "collapsed": false,
    "pycharm": {
     "name": "#%% md\n"
    }
   }
  },
  {
   "cell_type": "code",
   "execution_count": 53,
   "outputs": [],
   "source": [
    "bedroom_names = [\"Bedroom {}\".format(i + 1) for i in range(max_bedroom_num)]\n",
    "bedrooms = []\n",
    "for i in range(len(handler.s3_rooms)):\n",
    "    bedroom_per_property = {key: 0 for key in bedroom_names}\n",
    "    if handler.s3_rooms[i] is None:\n",
    "        bedrooms.append(bedroom_per_property)\n",
    "        continue\n",
    "\n",
    "    num = 1\n",
    "    for k, v in handler.s3_rooms[i].items():\n",
    "        if \"Bedroom\" not in k:\n",
    "            continue\n",
    "\n",
    "        if not isinstance(v, str):\n",
    "            bedroom_per_property[\"Bedroom {}\".format(num)] = 0\n",
    "            num += 1\n",
    "            continue\n",
    "\n",
    "        bedroom_per_property[\"Bedroom {}\".format(num)] = float(extract_area.parse(handler.s3_rooms[i][k])[1])\n",
    "        num += 1\n",
    "\n",
    "    bedrooms.append(bedroom_per_property)"
   ],
   "metadata": {
    "collapsed": false,
    "pycharm": {
     "name": "#%%\n"
    }
   }
  },
  {
   "cell_type": "code",
   "execution_count": 54,
   "outputs": [
    {
     "data": {
      "text/plain": "   Bedroom 1  Bedroom 2  Bedroom 3  Bedroom 4  Bedroom 5  Bedroom 6  \\\n0        8.2        6.2        0.0        0.0        0.0        0.0   \n1        9.8        8.4       13.2       16.7        0.0        0.0   \n2       13.1        7.7       10.4        0.0        0.0        0.0   \n3        0.0        0.0        0.0        0.0        0.0        0.0   \n4       11.0        9.7        7.4        7.4        0.0        0.0   \n\n   Bedroom 7  Bedroom 8  Bedroom 9  Bedroom 10  Bedroom 11  \n0        0.0        0.0        0.0         0.0         0.0  \n1        0.0        0.0        0.0         0.0         0.0  \n2        0.0        0.0        0.0         0.0         0.0  \n3        0.0        0.0        0.0         0.0         0.0  \n4        0.0        0.0        0.0         0.0         0.0  ",
      "text/html": "<div>\n<style scoped>\n    .dataframe tbody tr th:only-of-type {\n        vertical-align: middle;\n    }\n\n    .dataframe tbody tr th {\n        vertical-align: top;\n    }\n\n    .dataframe thead th {\n        text-align: right;\n    }\n</style>\n<table border=\"1\" class=\"dataframe\">\n  <thead>\n    <tr style=\"text-align: right;\">\n      <th></th>\n      <th>Bedroom 1</th>\n      <th>Bedroom 2</th>\n      <th>Bedroom 3</th>\n      <th>Bedroom 4</th>\n      <th>Bedroom 5</th>\n      <th>Bedroom 6</th>\n      <th>Bedroom 7</th>\n      <th>Bedroom 8</th>\n      <th>Bedroom 9</th>\n      <th>Bedroom 10</th>\n      <th>Bedroom 11</th>\n    </tr>\n  </thead>\n  <tbody>\n    <tr>\n      <th>0</th>\n      <td>8.2</td>\n      <td>6.2</td>\n      <td>0.0</td>\n      <td>0.0</td>\n      <td>0.0</td>\n      <td>0.0</td>\n      <td>0.0</td>\n      <td>0.0</td>\n      <td>0.0</td>\n      <td>0.0</td>\n      <td>0.0</td>\n    </tr>\n    <tr>\n      <th>1</th>\n      <td>9.8</td>\n      <td>8.4</td>\n      <td>13.2</td>\n      <td>16.7</td>\n      <td>0.0</td>\n      <td>0.0</td>\n      <td>0.0</td>\n      <td>0.0</td>\n      <td>0.0</td>\n      <td>0.0</td>\n      <td>0.0</td>\n    </tr>\n    <tr>\n      <th>2</th>\n      <td>13.1</td>\n      <td>7.7</td>\n      <td>10.4</td>\n      <td>0.0</td>\n      <td>0.0</td>\n      <td>0.0</td>\n      <td>0.0</td>\n      <td>0.0</td>\n      <td>0.0</td>\n      <td>0.0</td>\n      <td>0.0</td>\n    </tr>\n    <tr>\n      <th>3</th>\n      <td>0.0</td>\n      <td>0.0</td>\n      <td>0.0</td>\n      <td>0.0</td>\n      <td>0.0</td>\n      <td>0.0</td>\n      <td>0.0</td>\n      <td>0.0</td>\n      <td>0.0</td>\n      <td>0.0</td>\n      <td>0.0</td>\n    </tr>\n    <tr>\n      <th>4</th>\n      <td>11.0</td>\n      <td>9.7</td>\n      <td>7.4</td>\n      <td>7.4</td>\n      <td>0.0</td>\n      <td>0.0</td>\n      <td>0.0</td>\n      <td>0.0</td>\n      <td>0.0</td>\n      <td>0.0</td>\n      <td>0.0</td>\n    </tr>\n  </tbody>\n</table>\n</div>"
     },
     "execution_count": 54,
     "metadata": {},
     "output_type": "execute_result"
    }
   ],
   "source": [
    "bedrooms = pd.DataFrame(bedrooms)\n",
    "bedrooms.head()"
   ],
   "metadata": {
    "collapsed": false,
    "pycharm": {
     "name": "#%%\n"
    }
   }
  },
  {
   "cell_type": "markdown",
   "source": [
    "### Kitchen"
   ],
   "metadata": {
    "collapsed": false,
    "pycharm": {
     "name": "#%% md\n"
    }
   }
  },
  {
   "cell_type": "code",
   "execution_count": 55,
   "outputs": [
    {
     "name": "stdout",
     "output_type": "stream",
     "text": [
      "Kitchen                       2.68m x 2.14m (5.7 sqm) - 8' 9\" x 7' (61 sqft)\n",
      "Kitchen /  Dining Room        5.33m x 4.58m (24.4 sqm) - 17' 5\" x 15' (262 sqft)\n",
      "Kitchen                       2.97m x 2.36m (7 sqm) - 9' 8\" x 7' 8\" (75 sqft)\n",
      "Kitchen                       3.99m x 2.61m (10.4 sqm) - 13' 1\" x 8' 6\" (112 sqft)\n",
      "Kitchen                       4.2m x 3.5m (14.7 sqm) - 13' 9\" x 11' 5\" (158 sqft)\n",
      "Kitchen                       3.12m x 2.83m (8.8 sqm) - 10' 2\" x 9' 3\" (95 sqft)\n",
      "Kitchen /  Dining Room        4.5m x 3.7m (16.6 sqm) - 14' 9\" x 12' 1\" (179 sqft)\n",
      "Kitchen Diner                 4.76m x 2.78m (13.2 sqm) - 15' 7\" x 9' 1\" (142 sqft)\n",
      "Kitchen /  Dining Room        2.82m x 4.46m (12.5 sqm) - 9' 3\" x 14' 7\" (135 sqft)\n",
      "Kitchen                       1\n",
      "Kitchen                       7.49m x 3.1m (23.2 sqm) - 24' 6\" x 10' 2\" (249 sqft)\n",
      "Kitchen /  Dining Room        6.5m x 3.73m (24.2 sqm) - 21' 3\" x 12' 2\" (260 sqft)\n",
      "Kitchen                       3.3m x 3m (9.9 sqm) - 10' 9\" x 9' 10\" (106 sqft)\n",
      "Open Plan Living Room / Kitchen7.96m x 4.75m (37.8 sqm) - 26' 1\" x 15' 7\" (406 sqft)\n",
      "Kitchen Diner                 6.9m x 3.4m (23.4 sqm) - 22' 7\" x 11' 1\" (252 sqft)\n",
      "Kitchen                       3.29m x 2.67m (8.7 sqm) - 10' 9\" x 8' 9\" (94 sqft)\n",
      "Kitchen /  Dining Room        2.85m x 6.26m (17.8 sqm) - 9' 4\" x 20' 6\" (192 sqft)\n",
      "Kitchen                       3.76m x 2m (7.5 sqm) - 12' 4\" x 6' 6\" (80 sqft)\n",
      "Kitchen Diner                 2.31m x 3.73m (8.6 sqm) - 7' 7\" x 12' 2\" (93 sqft)\n"
     ]
    }
   ],
   "source": [
    "for room in handler.s3_rooms[: 50]:\n",
    "    if room is None: continue\n",
    "    for k, v in room.items():\n",
    "        if \"kitchen\" in k.lower():\n",
    "            print(\"{:30s}{}\".format(k, v))"
   ],
   "metadata": {
    "collapsed": false,
    "pycharm": {
     "name": "#%%\n"
    }
   }
  },
  {
   "cell_type": "code",
   "execution_count": 56,
   "outputs": [],
   "source": [
    "kitchens = []\n",
    "\n",
    "for i in range(len(handler.s3_rooms)):\n",
    "    kitchen_per_property = 0\n",
    "    if handler.s3_rooms[i] is None:\n",
    "        kitchens.append(kitchen_per_property)\n",
    "        continue\n",
    "\n",
    "    for k, v in handler.s3_rooms[i].items():\n",
    "        if \"kitchen\" in k.lower():\n",
    "            kitchen_per_property = 1\n",
    "            break\n",
    "\n",
    "    kitchens.append(kitchen_per_property)"
   ],
   "metadata": {
    "collapsed": false,
    "pycharm": {
     "name": "#%%\n"
    }
   }
  },
  {
   "cell_type": "code",
   "execution_count": 57,
   "outputs": [
    {
     "data": {
      "text/plain": "   Kitchen\n0        1\n1        1\n2        1\n3        0\n4        1",
      "text/html": "<div>\n<style scoped>\n    .dataframe tbody tr th:only-of-type {\n        vertical-align: middle;\n    }\n\n    .dataframe tbody tr th {\n        vertical-align: top;\n    }\n\n    .dataframe thead th {\n        text-align: right;\n    }\n</style>\n<table border=\"1\" class=\"dataframe\">\n  <thead>\n    <tr style=\"text-align: right;\">\n      <th></th>\n      <th>Kitchen</th>\n    </tr>\n  </thead>\n  <tbody>\n    <tr>\n      <th>0</th>\n      <td>1</td>\n    </tr>\n    <tr>\n      <th>1</th>\n      <td>1</td>\n    </tr>\n    <tr>\n      <th>2</th>\n      <td>1</td>\n    </tr>\n    <tr>\n      <th>3</th>\n      <td>0</td>\n    </tr>\n    <tr>\n      <th>4</th>\n      <td>1</td>\n    </tr>\n  </tbody>\n</table>\n</div>"
     },
     "execution_count": 57,
     "metadata": {},
     "output_type": "execute_result"
    }
   ],
   "source": [
    "kitchens = pd.DataFrame({\"Kitchen\": kitchens})\n",
    "kitchens.head()"
   ],
   "metadata": {
    "collapsed": false,
    "pycharm": {
     "name": "#%%\n"
    }
   }
  },
  {
   "cell_type": "markdown",
   "source": [
    "### Living/Reception"
   ],
   "metadata": {
    "collapsed": false,
    "pycharm": {
     "name": "#%% md\n"
    }
   }
  },
  {
   "cell_type": "code",
   "execution_count": 58,
   "outputs": [
    {
     "name": "stdout",
     "output_type": "stream",
     "text": [
      "Living/Dining Room            6.58m x 3.78m (24.8 sqm) - 21' 7\" x 12' 4\" (267 sqft)\n",
      "Living Room                   4.34m x 4.11m (17.8 sqm) - 14' 3\" x 13' 5\" (192 sqft)\n",
      "Living Room                   4.9m x 3.7m (18.1 sqm) - 16' x 12' 1\" (195 sqft)\n",
      "Living Room                   4.16m x 8.69m (36.1 sqm) - 13' 7\" x 28' 6\" (389 sqft)\n",
      "Living Room                   4.5m x 3.7m (16.6 sqm) - 14' 9\" x 12' 1\" (179 sqft)\n",
      "Living Room                   3.83m x 3.58m (13.7 sqm) - 12' 6\" x 11' 8\" (147 sqft)\n",
      "Reception Room                3.68m x 3.68m (13.5 sqm) - 12' x 12' (145 sqft)\n",
      "Living Room                   3.63m x 4.25m (15.4 sqm) - 11' 10\" x 13' 11\" (166 sqft)\n",
      "Living Room                   3m x 4.12m (12.3 sqm) - 9' 10\" x 13' 6\" (133 sqft)\n",
      "Living Room                   3.6m x 3.73m (13.4 sqm) - 11' 9\" x 12' 2\" (144 sqft)\n"
     ]
    }
   ],
   "source": [
    "living_room_names = [i for i in handler.s3_rooms_set if (\"living\" in i.lower() or \"reception\" in i.lower()) and \"kitchen\" not in i.lower()]\n",
    "for room in handler.s3_rooms[: 50]:\n",
    "    if room is None: continue\n",
    "    for k, v in room.items():\n",
    "        if k in living_room_names:\n",
    "            print(\"{:30s}{}\".format(k, v))"
   ],
   "metadata": {
    "collapsed": false,
    "pycharm": {
     "name": "#%%\n"
    }
   }
  },
  {
   "cell_type": "code",
   "execution_count": 59,
   "outputs": [],
   "source": [
    "receptions = []\n",
    "for i in range(len(handler.s3_rooms)):\n",
    "    reception_per_property = 0\n",
    "    if handler.s3_rooms[i] is None:\n",
    "        receptions.append(reception_per_property)\n",
    "        continue\n",
    "\n",
    "    for k, v in handler.s3_rooms[i].items():\n",
    "        if k in living_room_names and isinstance(v, str):\n",
    "            reception_per_property += float(extract_area.parse(handler.s3_rooms[i][k])[1])\n",
    "\n",
    "    receptions.append(reception_per_property)"
   ],
   "metadata": {
    "collapsed": false,
    "pycharm": {
     "name": "#%%\n"
    }
   }
  },
  {
   "cell_type": "code",
   "execution_count": 60,
   "outputs": [
    {
     "data": {
      "text/plain": "   Reception\n0       24.8\n1        0.0\n2        0.0\n3        0.0\n4        0.0",
      "text/html": "<div>\n<style scoped>\n    .dataframe tbody tr th:only-of-type {\n        vertical-align: middle;\n    }\n\n    .dataframe tbody tr th {\n        vertical-align: top;\n    }\n\n    .dataframe thead th {\n        text-align: right;\n    }\n</style>\n<table border=\"1\" class=\"dataframe\">\n  <thead>\n    <tr style=\"text-align: right;\">\n      <th></th>\n      <th>Reception</th>\n    </tr>\n  </thead>\n  <tbody>\n    <tr>\n      <th>0</th>\n      <td>24.8</td>\n    </tr>\n    <tr>\n      <th>1</th>\n      <td>0.0</td>\n    </tr>\n    <tr>\n      <th>2</th>\n      <td>0.0</td>\n    </tr>\n    <tr>\n      <th>3</th>\n      <td>0.0</td>\n    </tr>\n    <tr>\n      <th>4</th>\n      <td>0.0</td>\n    </tr>\n  </tbody>\n</table>\n</div>"
     },
     "execution_count": 60,
     "metadata": {},
     "output_type": "execute_result"
    }
   ],
   "source": [
    "receptions = pd.DataFrame({\"Reception\": receptions})\n",
    "receptions.head()"
   ],
   "metadata": {
    "collapsed": false,
    "pycharm": {
     "name": "#%%\n"
    }
   }
  },
  {
   "cell_type": "markdown",
   "source": [
    "### Bathroom/WC/Washroom"
   ],
   "metadata": {
    "collapsed": false,
    "pycharm": {
     "name": "#%% md\n"
    }
   }
  },
  {
   "cell_type": "code",
   "execution_count": 61,
   "outputs": [
    {
     "name": "stdout",
     "output_type": "stream",
     "text": [
      "Bathroom                      2.14m x 2.04m (4.3 sqm) - 7' x 6' 8\" (46 sqft)\n",
      "Bathroom                      1.98m x 2.37m (4.6 sqm) - 6' 5\" x 7' 9\" (50 sqft)\n",
      "Bathroom                      1\n",
      "Bathroom74                    1\n",
      "Family Bathroom               1\n",
      "Bathroom                      2.5m x 1.7m (4.2 sqm) - 8' 2\" x 5' 6\" (45 sqft)\n",
      "WC                            1.7m x 1.5m (2.5 sqm) - 5' 6\" x 4' 11\" (27 sqft)\n",
      "Bathroom                      1\n",
      "Bathroom                      2.24m x 1.89m (4.2 sqm) - 7' 4\" x 6' 2\" (45 sqft)\n",
      "Bathroom                      2.08m x 1.81m (3.7 sqm) - 6' 9\" x 5' 11\" (40 sqft)\n",
      "Bathroom                      1\n",
      "WC                            2.45m x 0.75m (1.8 sqm) - 8' x 2' 5\" (19 sqft)\n",
      "Family Bathroom               3.29m x 3.17m (10.4 sqm) - 10' 9\" x 10' 4\" (112 sqft)\n",
      "Family Bathroom               2.5m x 2m (5 sqm) - 8' 2\" x 6' 6\" (53 sqft)\n",
      "Bathroom                      2.43m x 1.67m (4 sqm) - 7' 11\" x 5' 5\" (43 sqft)\n",
      "Bathroom                      1.5m x 2.9m (4.3 sqm) - 4' 11\" x 9' 6\" (46 sqft)\n",
      "Bathroom                      3.15m x 2.66m (8.3 sqm) - 10' 4\" x 8' 8\" (90 sqft)\n",
      "WC                            1.26m x 0.9m (1.1 sqm) - 4' 1\" x 2' 11\" (12 sqft)\n",
      "Bathroom                      1.6m x 3.32m (5.3 sqm) - 5' 2\" x 10' 10\" (57 sqft)\n",
      "Bathroom                      2.72m x 1.61m (4.3 sqm) - 8' 11\" x 5' 3\" (47 sqft)\n"
     ]
    }
   ],
   "source": [
    "bathroom_names = [i for i in handler.s3_rooms_set if \"bathroom\" in i.lower() or \"wc\" in i.lower()]\n",
    "for room in handler.s3_rooms[: 50]:\n",
    "    if room is None: continue\n",
    "    for k, v in room.items():\n",
    "        if k in bathroom_names:\n",
    "            print(\"{:30s}{}\".format(k, v))"
   ],
   "metadata": {
    "collapsed": false,
    "pycharm": {
     "name": "#%%\n"
    }
   }
  },
  {
   "cell_type": "code",
   "execution_count": 62,
   "outputs": [
    {
     "data": {
      "text/plain": "['WC35',\n 'WC10',\n 'Bathroom35',\n 'Bathroom64',\n 'Ensuite Bathroom95',\n 'Bathroom14',\n 'Bathroom100',\n 'WC0',\n 'Bathroom50',\n 'WC67',\n 'Bathroom12',\n 'Bathroom66',\n 'WC',\n 'Bathroom6',\n 'Bathroom80',\n 'Bathroom79',\n 'Outside WC',\n 'WC55',\n 'WC16',\n 'WC70',\n 'Bathroom20',\n 'Bathroom85',\n 'Bathroom68',\n 'Bathroom74',\n 'Bathroom15',\n 'WC71',\n 'Bathroom57',\n 'WC98',\n 'Ensuite Bathroom100',\n 'Bathroom48',\n 'Bathroom16',\n 'WC88',\n 'Ensuite Bathroom',\n 'Bathroom39',\n 'Ensuite Bathroom34',\n 'Master Bathroom',\n 'Bathroom18',\n 'Bathroom52',\n 'Bathroom62',\n 'Ensuite Bathroom54',\n 'Bathroom',\n 'Bathroom92',\n 'Bathroom53',\n 'Bathroom10',\n 'Bathroom90',\n 'Guest Bathroom',\n 'WC33',\n 'Ensuite Bathroom43',\n 'Bathroom78',\n 'WC38',\n 'Bathroom44',\n 'Bathroom70',\n 'Bathroom41',\n 'WC97',\n 'Bathroom36',\n 'Guest WC',\n 'Bathroom97',\n 'Bathroom17',\n 'Family Bathroom',\n 'Bathroom49',\n 'Bathroom96',\n 'WC79',\n 'Bathroom83',\n 'WC74',\n 'Bathroom3']"
     },
     "execution_count": 62,
     "metadata": {},
     "output_type": "execute_result"
    }
   ],
   "source": [
    "bathroom_names"
   ],
   "metadata": {
    "collapsed": false,
    "pycharm": {
     "name": "#%%\n"
    }
   }
  },
  {
   "cell_type": "code",
   "execution_count": 63,
   "outputs": [],
   "source": [
    "bathrooms = []\n",
    "for i in range(len(handler.s3_rooms)):\n",
    "    bathroom_per_property = {key: 0 for key in bathroom_names}\n",
    "    if handler.s3_rooms[i] is None:\n",
    "        bathrooms.append(bathroom_per_property)\n",
    "        continue\n",
    "\n",
    "    for k, v in handler.s3_rooms[i].items():\n",
    "        if k in bathroom_names and isinstance(v, str):\n",
    "            bathroom_per_property[k] = float(extract_area.parse(handler.s3_rooms[i][k])[1])\n",
    "\n",
    "    bathrooms.append(bathroom_per_property)"
   ],
   "metadata": {
    "collapsed": false,
    "pycharm": {
     "name": "#%%\n"
    }
   }
  },
  {
   "cell_type": "code",
   "execution_count": 64,
   "outputs": [
    {
     "data": {
      "text/plain": "   WC35  WC10  Bathroom35  Bathroom64  Ensuite Bathroom95  Bathroom14  \\\n0   0.0     0         0.0         0.0                 0.0         0.0   \n1   0.0     0         0.0         0.0                 0.0         0.0   \n2   0.0     0         0.0         0.0                 0.0         0.0   \n3   0.0     0         0.0         0.0                 0.0         0.0   \n4   0.0     0         0.0         0.0                 0.0         0.0   \n\n   Bathroom100  WC0  Bathroom50  WC67  ...  Guest WC  Bathroom97  Bathroom17  \\\n0            0  0.0         0.0     0  ...       0.0         0.0         0.0   \n1            0  0.0         0.0     0  ...       0.0         0.0         0.0   \n2            0  0.0         0.0     0  ...       0.0         0.0         0.0   \n3            0  0.0         0.0     0  ...       0.0         0.0         0.0   \n4            0  0.0         0.0     0  ...       0.0         0.0         0.0   \n\n   Family Bathroom  Bathroom49  Bathroom96  WC79  Bathroom83  WC74  Bathroom3  \n0              0.0         0.0         0.0   0.0           0   0.0          0  \n1              0.0         0.0         0.0   0.0           0   0.0          0  \n2              0.0         0.0         0.0   0.0           0   0.0          0  \n3              0.0         0.0         0.0   0.0           0   0.0          0  \n4              0.0         0.0         0.0   0.0           0   0.0          0  \n\n[5 rows x 65 columns]",
      "text/html": "<div>\n<style scoped>\n    .dataframe tbody tr th:only-of-type {\n        vertical-align: middle;\n    }\n\n    .dataframe tbody tr th {\n        vertical-align: top;\n    }\n\n    .dataframe thead th {\n        text-align: right;\n    }\n</style>\n<table border=\"1\" class=\"dataframe\">\n  <thead>\n    <tr style=\"text-align: right;\">\n      <th></th>\n      <th>WC35</th>\n      <th>WC10</th>\n      <th>Bathroom35</th>\n      <th>Bathroom64</th>\n      <th>Ensuite Bathroom95</th>\n      <th>Bathroom14</th>\n      <th>Bathroom100</th>\n      <th>WC0</th>\n      <th>Bathroom50</th>\n      <th>WC67</th>\n      <th>...</th>\n      <th>Guest WC</th>\n      <th>Bathroom97</th>\n      <th>Bathroom17</th>\n      <th>Family Bathroom</th>\n      <th>Bathroom49</th>\n      <th>Bathroom96</th>\n      <th>WC79</th>\n      <th>Bathroom83</th>\n      <th>WC74</th>\n      <th>Bathroom3</th>\n    </tr>\n  </thead>\n  <tbody>\n    <tr>\n      <th>0</th>\n      <td>0.0</td>\n      <td>0</td>\n      <td>0.0</td>\n      <td>0.0</td>\n      <td>0.0</td>\n      <td>0.0</td>\n      <td>0</td>\n      <td>0.0</td>\n      <td>0.0</td>\n      <td>0</td>\n      <td>...</td>\n      <td>0.0</td>\n      <td>0.0</td>\n      <td>0.0</td>\n      <td>0.0</td>\n      <td>0.0</td>\n      <td>0.0</td>\n      <td>0.0</td>\n      <td>0</td>\n      <td>0.0</td>\n      <td>0</td>\n    </tr>\n    <tr>\n      <th>1</th>\n      <td>0.0</td>\n      <td>0</td>\n      <td>0.0</td>\n      <td>0.0</td>\n      <td>0.0</td>\n      <td>0.0</td>\n      <td>0</td>\n      <td>0.0</td>\n      <td>0.0</td>\n      <td>0</td>\n      <td>...</td>\n      <td>0.0</td>\n      <td>0.0</td>\n      <td>0.0</td>\n      <td>0.0</td>\n      <td>0.0</td>\n      <td>0.0</td>\n      <td>0.0</td>\n      <td>0</td>\n      <td>0.0</td>\n      <td>0</td>\n    </tr>\n    <tr>\n      <th>2</th>\n      <td>0.0</td>\n      <td>0</td>\n      <td>0.0</td>\n      <td>0.0</td>\n      <td>0.0</td>\n      <td>0.0</td>\n      <td>0</td>\n      <td>0.0</td>\n      <td>0.0</td>\n      <td>0</td>\n      <td>...</td>\n      <td>0.0</td>\n      <td>0.0</td>\n      <td>0.0</td>\n      <td>0.0</td>\n      <td>0.0</td>\n      <td>0.0</td>\n      <td>0.0</td>\n      <td>0</td>\n      <td>0.0</td>\n      <td>0</td>\n    </tr>\n    <tr>\n      <th>3</th>\n      <td>0.0</td>\n      <td>0</td>\n      <td>0.0</td>\n      <td>0.0</td>\n      <td>0.0</td>\n      <td>0.0</td>\n      <td>0</td>\n      <td>0.0</td>\n      <td>0.0</td>\n      <td>0</td>\n      <td>...</td>\n      <td>0.0</td>\n      <td>0.0</td>\n      <td>0.0</td>\n      <td>0.0</td>\n      <td>0.0</td>\n      <td>0.0</td>\n      <td>0.0</td>\n      <td>0</td>\n      <td>0.0</td>\n      <td>0</td>\n    </tr>\n    <tr>\n      <th>4</th>\n      <td>0.0</td>\n      <td>0</td>\n      <td>0.0</td>\n      <td>0.0</td>\n      <td>0.0</td>\n      <td>0.0</td>\n      <td>0</td>\n      <td>0.0</td>\n      <td>0.0</td>\n      <td>0</td>\n      <td>...</td>\n      <td>0.0</td>\n      <td>0.0</td>\n      <td>0.0</td>\n      <td>0.0</td>\n      <td>0.0</td>\n      <td>0.0</td>\n      <td>0.0</td>\n      <td>0</td>\n      <td>0.0</td>\n      <td>0</td>\n    </tr>\n  </tbody>\n</table>\n<p>5 rows × 65 columns</p>\n</div>"
     },
     "execution_count": 64,
     "metadata": {},
     "output_type": "execute_result"
    }
   ],
   "source": [
    "bathrooms = pd.DataFrame(bathrooms)\n",
    "bathrooms.head()"
   ],
   "metadata": {
    "collapsed": false,
    "pycharm": {
     "name": "#%%\n"
    }
   }
  },
  {
   "cell_type": "markdown",
   "source": [
    "### Dining"
   ],
   "metadata": {
    "collapsed": false,
    "pycharm": {
     "name": "#%% md\n"
    }
   }
  },
  {
   "cell_type": "code",
   "execution_count": 65,
   "outputs": [
    {
     "name": "stdout",
     "output_type": "stream",
     "text": [
      "Dining Room                   3.5m x 3m (10.5 sqm) - 11' 5\" x 9' 10\" (113 sqft)\n",
      "Dining Room                   3.13m x 2.83m (8.8 sqm) - 10' 3\" x 9' 3\" (95 sqft)\n",
      "Dining Room                   4.3m x 3.13m (13.4 sqm) - 14' 1\" x 10' 3\" (144 sqft)\n",
      "Dining Room                   3.1m x 2.6m (8 sqm) - 10' 2\" x 8' 6\" (86 sqft)\n",
      "Dining Room                   5.09m x 3.7m (18.8 sqm) - 16' 8\" x 12' 1\" (203 sqft)\n",
      "Dining Room                   3.7m x 4.12m (15.2 sqm) - 12' 1\" x 13' 6\" (164 sqft)\n"
     ]
    }
   ],
   "source": [
    "dining_names = [i for i in handler.s3_rooms_set if (\"dining\" in i.lower() or \"breakfast\" in i.lower()) and \"kitchen\" not in i.lower() and \"living\" not in i.lower()]\n",
    "for room in handler.s3_rooms[: 50]:\n",
    "    if room is None: continue\n",
    "    for k, v in room.items():\n",
    "        if k in dining_names:\n",
    "            print(\"{:30s}{}\".format(k, v))"
   ],
   "metadata": {
    "collapsed": false,
    "pycharm": {
     "name": "#%%\n"
    }
   }
  },
  {
   "cell_type": "code",
   "execution_count": 66,
   "outputs": [],
   "source": [
    "dining_rooms = []\n",
    "for i in range(len(handler.s3_rooms)):\n",
    "    dining_room_per_property = 0\n",
    "    if handler.s3_rooms[i] is None:\n",
    "        dining_rooms.append(dining_room_per_property)\n",
    "        continue\n",
    "\n",
    "    for k, v in handler.s3_rooms[i].items():\n",
    "        if k in dining_names and isinstance(v, str):\n",
    "            dining_room_per_property += float(extract_area.parse(v)[1])\n",
    "\n",
    "    dining_rooms.append(dining_room_per_property)"
   ],
   "metadata": {
    "collapsed": false,
    "pycharm": {
     "name": "#%%\n"
    }
   }
  },
  {
   "cell_type": "code",
   "execution_count": 67,
   "outputs": [
    {
     "data": {
      "text/plain": "   Dining room\n0          0.0\n1          0.0\n2          0.0\n3          0.0\n4          0.0\n5         10.5\n6          8.8\n7          0.0\n8          0.0\n9          0.0",
      "text/html": "<div>\n<style scoped>\n    .dataframe tbody tr th:only-of-type {\n        vertical-align: middle;\n    }\n\n    .dataframe tbody tr th {\n        vertical-align: top;\n    }\n\n    .dataframe thead th {\n        text-align: right;\n    }\n</style>\n<table border=\"1\" class=\"dataframe\">\n  <thead>\n    <tr style=\"text-align: right;\">\n      <th></th>\n      <th>Dining room</th>\n    </tr>\n  </thead>\n  <tbody>\n    <tr>\n      <th>0</th>\n      <td>0.0</td>\n    </tr>\n    <tr>\n      <th>1</th>\n      <td>0.0</td>\n    </tr>\n    <tr>\n      <th>2</th>\n      <td>0.0</td>\n    </tr>\n    <tr>\n      <th>3</th>\n      <td>0.0</td>\n    </tr>\n    <tr>\n      <th>4</th>\n      <td>0.0</td>\n    </tr>\n    <tr>\n      <th>5</th>\n      <td>10.5</td>\n    </tr>\n    <tr>\n      <th>6</th>\n      <td>8.8</td>\n    </tr>\n    <tr>\n      <th>7</th>\n      <td>0.0</td>\n    </tr>\n    <tr>\n      <th>8</th>\n      <td>0.0</td>\n    </tr>\n    <tr>\n      <th>9</th>\n      <td>0.0</td>\n    </tr>\n  </tbody>\n</table>\n</div>"
     },
     "execution_count": 67,
     "metadata": {},
     "output_type": "execute_result"
    }
   ],
   "source": [
    "dining_rooms = pd.DataFrame({\"Dining room\": dining_rooms})\n",
    "dining_rooms.iloc[:10]"
   ],
   "metadata": {
    "collapsed": false,
    "pycharm": {
     "name": "#%%\n"
    }
   }
  },
  {
   "cell_type": "markdown",
   "source": [
    "### Work/study"
   ],
   "metadata": {
    "collapsed": false,
    "pycharm": {
     "name": "#%% md\n"
    }
   }
  },
  {
   "cell_type": "code",
   "execution_count": 68,
   "outputs": [
    {
     "name": "stdout",
     "output_type": "stream",
     "text": [
      "Study                         2.27m x 1.98m (4.5 sqm) - 7' 5\" x 6' 5\" (48 sqft)\n",
      "Garage / Office               5m x 3.1m (15.5 sqm) - 16' 4\" x 10' 2\" (166 sqft)\n",
      "Study                         2.16m x 3.14m (6.7 sqm) - 7' 1\" x 10' 3\" (73 sqft)\n",
      "Study Area                    2.5m x 1.85m (4.6 sqm) - 8' 2\" x 6' (49 sqft)\n",
      "Study                         5.7m x 2m (11.4 sqm) - 18' 8\" x 6' 6\" (122 sqft)\n",
      "Workspace                     8.69m x 2m (17.4 sqm) - 28' 6\" x 6' 6\" (187 sqft)\n",
      "Study                         3m x 3m (9 sqm) - 9' 10\" x 9' 10\" (96 sqft)\n",
      "Workshop                      14m x 3.6m (50.4 sqm) - 45' 11\" x 11' 9\" (542 sqft)\n",
      "Study/Family Room/Play Room   4m x 2.91m (11.6 sqm) - 13' 1\" x 9' 6\" (125 sqft)\n",
      "Study                         3.47m x 2.18m (7.5 sqm) - 11' 4\" x 7' 1\" (81 sqft)\n",
      "Workshop                      5.09m x 2.14m (10.9 sqm) - 16' 8\" x 7' (117 sqft)\n",
      "Study                         2.1m x 2.1m (4.4 sqm) - 6' 10\" x 6' 10\" (47 sqft)\n",
      "Study Area                    2.8m x 2.54m (7.1 sqm) - 9' 2\" x 8' 4\" (76 sqft)\n",
      "Study/Family Room/Play Room   4.29m x 2.74m (11.7 sqm) - 14' x 8' 11\" (126 sqft)\n",
      "Office                        1\n",
      "Study                         3.2m x 2.1m (6.7 sqm) - 10' 5\" x 6' 10\" (72 sqft)\n",
      "Study/Family Room/Play Room   3.7m x 3.1m (11.4 sqm) - 12' 1\" x 10' 2\" (123 sqft)\n",
      "Study                         2.2m x 2.8m (6.1 sqm) - 7' 2\" x 9' 2\" (66 sqft)\n",
      "Study                         6.15m x 3.33m (20.4 sqm) - 20' 2\" x 10' 11\" (220 sqft)\n",
      "Study                         3.49m x 2.89m (10 sqm) - 11' 5\" x 9' 5\" (108 sqft)\n",
      "Study                         3.52m x 2.69m (9.4 sqm) - 11' 6\" x 8' 9\" (101 sqft)\n",
      "Study                         3.14m x 1.92m (6 sqm) - 10' 3\" x 6' 3\" (64 sqft)\n"
     ]
    }
   ],
   "source": [
    "work_names = [i for i in handler.s3_rooms_set if \"work\" in i.lower() or \"study\" in i.lower() or \"office\" in i.lower()]\n",
    "for room in handler.s3_rooms[: 300]:\n",
    "    if room is None: continue\n",
    "    for k, v in room.items():\n",
    "        if k in work_names:\n",
    "            print(\"{:30s}{}\".format(k, v))"
   ],
   "metadata": {
    "collapsed": false,
    "pycharm": {
     "name": "#%%\n"
    }
   }
  },
  {
   "cell_type": "code",
   "execution_count": 69,
   "outputs": [],
   "source": [
    "work_spaces = []\n",
    "for room in handler.s3_rooms:\n",
    "    work_per_property = 0\n",
    "    if room is None:\n",
    "        work_spaces.append(work_per_property)\n",
    "        continue\n",
    "\n",
    "    for k, v in room.items():\n",
    "        if k in work_names and isinstance(v, str):\n",
    "            work_per_property += float(extract_area.parse(v)[1])\n",
    "\n",
    "    work_spaces.append(work_per_property)"
   ],
   "metadata": {
    "collapsed": false,
    "pycharm": {
     "name": "#%%\n"
    }
   }
  },
  {
   "cell_type": "code",
   "execution_count": 70,
   "outputs": [
    {
     "data": {
      "text/plain": "    work space\n0          0.0\n1          0.0\n2          0.0\n3          0.0\n4          4.5\n5          0.0\n6          0.0\n7         15.5\n8          0.0\n9          0.0\n10         0.0\n11         0.0\n12         0.0\n13         6.7\n14         0.0\n15         0.0\n16         0.0\n17         0.0\n18         0.0\n19         0.0\n20         0.0\n21         0.0\n22         0.0\n23         0.0\n24         0.0\n25         4.6\n26         0.0\n27         0.0\n28         0.0\n29         0.0\n30         0.0\n31         0.0\n32         0.0\n33         0.0\n34         0.0\n35         0.0\n36         0.0\n37         0.0\n38         0.0\n39         0.0\n40         0.0\n41         0.0\n42         0.0\n43         0.0\n44         0.0\n45         0.0\n46         0.0\n47         0.0\n48         0.0\n49         0.0",
      "text/html": "<div>\n<style scoped>\n    .dataframe tbody tr th:only-of-type {\n        vertical-align: middle;\n    }\n\n    .dataframe tbody tr th {\n        vertical-align: top;\n    }\n\n    .dataframe thead th {\n        text-align: right;\n    }\n</style>\n<table border=\"1\" class=\"dataframe\">\n  <thead>\n    <tr style=\"text-align: right;\">\n      <th></th>\n      <th>work space</th>\n    </tr>\n  </thead>\n  <tbody>\n    <tr>\n      <th>0</th>\n      <td>0.0</td>\n    </tr>\n    <tr>\n      <th>1</th>\n      <td>0.0</td>\n    </tr>\n    <tr>\n      <th>2</th>\n      <td>0.0</td>\n    </tr>\n    <tr>\n      <th>3</th>\n      <td>0.0</td>\n    </tr>\n    <tr>\n      <th>4</th>\n      <td>4.5</td>\n    </tr>\n    <tr>\n      <th>5</th>\n      <td>0.0</td>\n    </tr>\n    <tr>\n      <th>6</th>\n      <td>0.0</td>\n    </tr>\n    <tr>\n      <th>7</th>\n      <td>15.5</td>\n    </tr>\n    <tr>\n      <th>8</th>\n      <td>0.0</td>\n    </tr>\n    <tr>\n      <th>9</th>\n      <td>0.0</td>\n    </tr>\n    <tr>\n      <th>10</th>\n      <td>0.0</td>\n    </tr>\n    <tr>\n      <th>11</th>\n      <td>0.0</td>\n    </tr>\n    <tr>\n      <th>12</th>\n      <td>0.0</td>\n    </tr>\n    <tr>\n      <th>13</th>\n      <td>6.7</td>\n    </tr>\n    <tr>\n      <th>14</th>\n      <td>0.0</td>\n    </tr>\n    <tr>\n      <th>15</th>\n      <td>0.0</td>\n    </tr>\n    <tr>\n      <th>16</th>\n      <td>0.0</td>\n    </tr>\n    <tr>\n      <th>17</th>\n      <td>0.0</td>\n    </tr>\n    <tr>\n      <th>18</th>\n      <td>0.0</td>\n    </tr>\n    <tr>\n      <th>19</th>\n      <td>0.0</td>\n    </tr>\n    <tr>\n      <th>20</th>\n      <td>0.0</td>\n    </tr>\n    <tr>\n      <th>21</th>\n      <td>0.0</td>\n    </tr>\n    <tr>\n      <th>22</th>\n      <td>0.0</td>\n    </tr>\n    <tr>\n      <th>23</th>\n      <td>0.0</td>\n    </tr>\n    <tr>\n      <th>24</th>\n      <td>0.0</td>\n    </tr>\n    <tr>\n      <th>25</th>\n      <td>4.6</td>\n    </tr>\n    <tr>\n      <th>26</th>\n      <td>0.0</td>\n    </tr>\n    <tr>\n      <th>27</th>\n      <td>0.0</td>\n    </tr>\n    <tr>\n      <th>28</th>\n      <td>0.0</td>\n    </tr>\n    <tr>\n      <th>29</th>\n      <td>0.0</td>\n    </tr>\n    <tr>\n      <th>30</th>\n      <td>0.0</td>\n    </tr>\n    <tr>\n      <th>31</th>\n      <td>0.0</td>\n    </tr>\n    <tr>\n      <th>32</th>\n      <td>0.0</td>\n    </tr>\n    <tr>\n      <th>33</th>\n      <td>0.0</td>\n    </tr>\n    <tr>\n      <th>34</th>\n      <td>0.0</td>\n    </tr>\n    <tr>\n      <th>35</th>\n      <td>0.0</td>\n    </tr>\n    <tr>\n      <th>36</th>\n      <td>0.0</td>\n    </tr>\n    <tr>\n      <th>37</th>\n      <td>0.0</td>\n    </tr>\n    <tr>\n      <th>38</th>\n      <td>0.0</td>\n    </tr>\n    <tr>\n      <th>39</th>\n      <td>0.0</td>\n    </tr>\n    <tr>\n      <th>40</th>\n      <td>0.0</td>\n    </tr>\n    <tr>\n      <th>41</th>\n      <td>0.0</td>\n    </tr>\n    <tr>\n      <th>42</th>\n      <td>0.0</td>\n    </tr>\n    <tr>\n      <th>43</th>\n      <td>0.0</td>\n    </tr>\n    <tr>\n      <th>44</th>\n      <td>0.0</td>\n    </tr>\n    <tr>\n      <th>45</th>\n      <td>0.0</td>\n    </tr>\n    <tr>\n      <th>46</th>\n      <td>0.0</td>\n    </tr>\n    <tr>\n      <th>47</th>\n      <td>0.0</td>\n    </tr>\n    <tr>\n      <th>48</th>\n      <td>0.0</td>\n    </tr>\n    <tr>\n      <th>49</th>\n      <td>0.0</td>\n    </tr>\n  </tbody>\n</table>\n</div>"
     },
     "execution_count": 70,
     "metadata": {},
     "output_type": "execute_result"
    }
   ],
   "source": [
    "work_spaces = pd.DataFrame({\"work space\": work_spaces})\n",
    "work_spaces[:50]"
   ],
   "metadata": {
    "collapsed": false,
    "pycharm": {
     "name": "#%%\n"
    }
   }
  },
  {
   "cell_type": "markdown",
   "source": [
    "### Other rooms"
   ],
   "metadata": {
    "collapsed": false,
    "pycharm": {
     "name": "#%% md\n"
    }
   }
  },
  {
   "cell_type": "code",
   "execution_count": 71,
   "outputs": [],
   "source": [
    "bedroom_names = set([i for i in handler.s3_rooms_set if \"Bedroom\" in i])\n",
    "kitchen_names = set(i for i in handler.s3_rooms_set if \"kitchen\" in i.lower())\n",
    "reception_names = set(i for i in handler.s3_rooms_set if (\"living\" in i.lower() or \"reception\" in i.lower()) and \"kitchen\" not in i.lower())\n",
    "garden_names = set([i for i in handler.s3_rooms_set if \"garden\" in i.lower() or \"yard\" in i.lower()])\n",
    "bathroom_names = set(i for i in handler.s3_rooms_set if \"bathroom\" in i.lower() or \"wc\" in i.lower() or \"washroom\" in i.lower())\n",
    "dining_names = set(i for i in handler.s3_rooms_set if (\"dining\" in i.lower() or \"breakfast\" in i.lower()) and \"kitchen\" not in i.lower() and \"living\" not in i.lower())\n",
    "work_names = set([i for i in handler.s3_rooms_set if \"work\" in i.lower() or \"study\" in i.lower() or \"office\" in i.lower()])\n",
    "parking = set(i for i in handler.s3_rooms_set if \"car\" in i.lower() or \"garage\" in i.lower() or \"driveway\" in i.lower() or \"park\" in i.lower())\n",
    "\n",
    "rest_names = handler.s3_rooms_set - bedroom_names - kitchen_names - reception_names - garden_names - bathroom_names - dining_names - work_names - parking"
   ],
   "metadata": {
    "collapsed": false,
    "pycharm": {
     "name": "#%%\n"
    }
   }
  },
  {
   "cell_type": "code",
   "execution_count": 72,
   "outputs": [
    {
     "name": "stdout",
     "output_type": "stream",
     "text": [
      "Entrance Hall                 1\n",
      "Porch                         1.48m x 2.31m (3.4 sqm) - 4' 10\" x 7' 6\" (36 sqft)\n",
      "Hallway                       5.03m x 2.77m (13.9 sqm) - 16' 6\" x 9' 1\" (149 sqft)\n",
      "Shower Room                   0.79m x 1.57m (1.2 sqm) - 2' 7\" x 5' 1\" (13 sqft)\n",
      "Utility Room                  1.6m x 2.76m (4.4 sqm) - 5' 2\" x 9' (47 sqft)\n",
      "Downstairs Cloakroom          1.68m x 1.1m (1.8 sqm) - 5' 6\" x 3' 7\" (19 sqft)\n",
      "Landing                       2.63m x 1.04m (2.7 sqm) - 8' 7\" x 3' 4\" (29 sqft)\n",
      "Lounge                        4.33m x 5.36m (23.2 sqm) - 14' 2\" x 17' 7\" (249 sqft)\n",
      "Landing23                     2.41m x 1.06m (2.5 sqm) - 7' 10\" x 3' 5\" (27 sqft)\n",
      "Entrance Porch                1\n",
      "Lounge Diner                  6.76m x 4.04m (27.3 sqm) - 22' 2\" x 13' 3\" (293 sqft)\n",
      "Lobby                         1\n",
      "Landing                       1\n",
      "Entrance Hall                 1\n",
      "Downstairs Cloakroom          1\n",
      "Lounge Diner                  6.66m x 3.1m (20.6 sqm) - 21' 10\" x 10' 2\" (222 sqft)\n",
      "Conservatory                  1\n",
      "Ensuite Shower Room           1\n",
      "Lounge                        5.4m x 3.5m (18.9 sqm) - 17' 8\" x 11' 5\" (203 sqft)\n",
      "Vestibule                     2.2m x 1.7m (3.7 sqm) - 7' 2\" x 5' 6\" (40 sqft)\n",
      "Shower Room                   2.29m x 1.7m (3.9 sqm) - 7' 6\" x 5' 6\" (42 sqft)\n",
      "Utility Room                  3m x 2.7m (8.1 sqm) - 9' 10\" x 8' 10\" (87 sqft)\n",
      "Cloakroom                     1.7m x 1.2m (2 sqm) - 5' 6\" x 3' 11\" (21 sqft)\n",
      "Play Room                     2.29m x 2.04m (4.6 sqm) - 7' 6\" x 6' 8\" (50 sqft)\n",
      "Hallway                       1\n",
      "First Floor Landing           1\n",
      "Cellar                        2m x 2m (4 sqm) - 6' 6\" x 6' 6\" (43 sqft)\n",
      "Entrance Hall                 1\n",
      "Cloakroom                     1\n",
      "Lounge                        4.71m x 3.34m (15.7 sqm) - 15' 5\" x 10' 11\" (169 sqft)\n",
      "Landing                       1\n",
      "Ensuite Shower Room           2.82m x 1.28m (3.6 sqm) - 9' 3\" x 4' 2\" (38 sqft)\n",
      "Entrance Hall                 3.03m x 3.05m (9.2 sqm) - 9' 11\" x 10' (99 sqft)\n",
      "Lounge                        4.86m x 4.46m (21.6 sqm) - 15' 11\" x 14' 7\" (233 sqft)\n",
      "Conservatory                  1.94m x 2.62m (5 sqm) - 6' 4\" x 8' 7\" (54 sqft)\n",
      "First Floor Landing           1\n",
      "Exterior                      1\n",
      "Entrance Hall                 1\n",
      "Lounge                        1\n",
      "Entrance Hall                 6.55m x 2.27m (14.9 sqm) - 21' 5\" x 7' 5\" (160 sqft)\n",
      "Landing                       6.74m x 2.16m (14.5 sqm) - 22' 1\" x 7' 1\" (156 sqft)\n",
      "Loft                          1\n",
      "Entrance Hall                 1\n",
      "Utility Room                  1\n",
      "Downstairs Cloakroom          1\n",
      "Landing                       1\n",
      "Lounge                        7.28m x 5.07m (36.9 sqm) - 23' 10\" x 16' 7\" (397 sqft)\n",
      "Shower Room                   1\n",
      "Entrance Porch                2.9m x 2.2m (6.3 sqm) - 9' 6\" x 7' 2\" (68 sqft)\n",
      "Hallway                       4.4m x 1.9m (8.3 sqm) - 14' 5\" x 6' 2\" (89 sqft)\n",
      "Lounge                        6.6m x 3.6m (23.7 sqm) - 21' 7\" x 11' 9\" (255 sqft)\n",
      "Downstairs Cloakroom          1.9m x 1.1m (2 sqm) - 6' 2\" x 3' 7\" (22 sqft)\n",
      "Landing                       1\n",
      "Ensuite                       2.6m x 1.7m (4.4 sqm) - 8' 6\" x 5' 6\" (47 sqft)\n",
      "Entrance Hall                 1\n",
      "Ensuite Shower Room           2.62m x 1.63m (4.2 sqm) - 8' 7\" x 5' 4\" (45 sqft)\n",
      "Landing                       1\n",
      "Dressing Room                 2.86m x 2.54m (7.2 sqm) - 9' 4\" x 8' 4\" (78 sqft)\n",
      "Roof Terrace                  3.09m x 2.82m (8.7 sqm) - 10' 1\" x 9' 3\" (93 sqft)\n",
      "Vestibule                     1\n",
      "Entrance Hall                 1\n",
      "Lounge                        3.7m x 3.7m (13.6 sqm) - 12' 1\" x 12' 1\" (147 sqft)\n",
      "Utility Room                  1.7m x 1.4m (2.3 sqm) - 5' 6\" x 4' 7\" (25 sqft)\n",
      "Rear Porch                    1\n",
      "Landing                       1\n",
      "Ensuite                       2.5m x 1.8m (4.5 sqm) - 8' 2\" x 5' 10\" (48 sqft)\n",
      "Entrance Hall                 1\n",
      "Exterior                      1\n",
      "Entrance Hall                 1\n",
      "Utility Room                  1.6m x 1.85m (2.9 sqm) - 5' 2\" x 6' (31 sqft)\n",
      "Exterior                      1\n",
      "Porch                         1\n",
      "Inner Hall                    1\n",
      "Dressing Room                 3m x 2m (6 sqm) - 9' 10\" x 6' 6\" (64 sqft)\n",
      "Exterior                      1\n",
      "Veranda                       1\n",
      "Entrance Hall                 1\n",
      "Ensuite                       1.49m x 1.39m (2 sqm) - 4' 10\" x 4' 6\" (22 sqft)\n",
      "Shower Room                   1.17m x 2.1m (2.4 sqm) - 3' 10\" x 6' 10\" (26 sqft)\n"
     ]
    }
   ],
   "source": [
    "for room in handler.s3_rooms[:50]:\n",
    "    if room is None: continue\n",
    "    for k, v in room.items():\n",
    "        if k in rest_names:\n",
    "            print(\"{:30s}{}\".format(k, v))"
   ],
   "metadata": {
    "collapsed": false,
    "pycharm": {
     "name": "#%%\n"
    }
   }
  },
  {
   "cell_type": "code",
   "execution_count": 73,
   "outputs": [],
   "source": [
    "other_rooms = []\n",
    "for room in handler.s3_rooms:\n",
    "    other_room_per_property = 0\n",
    "    if room is None:\n",
    "        other_rooms.append(other_room_per_property)\n",
    "        continue\n",
    "\n",
    "    for k, v in room.items():\n",
    "        if k in rest_names:\n",
    "            other_room_per_property += 1\n",
    "    other_rooms.append(other_room_per_property)"
   ],
   "metadata": {
    "collapsed": false,
    "pycharm": {
     "name": "#%%\n"
    }
   }
  },
  {
   "cell_type": "code",
   "execution_count": 74,
   "outputs": [
    {
     "data": {
      "text/plain": "   Other rooms\n0            1\n1            8\n2            4\n3            0\n4            5",
      "text/html": "<div>\n<style scoped>\n    .dataframe tbody tr th:only-of-type {\n        vertical-align: middle;\n    }\n\n    .dataframe tbody tr th {\n        vertical-align: top;\n    }\n\n    .dataframe thead th {\n        text-align: right;\n    }\n</style>\n<table border=\"1\" class=\"dataframe\">\n  <thead>\n    <tr style=\"text-align: right;\">\n      <th></th>\n      <th>Other rooms</th>\n    </tr>\n  </thead>\n  <tbody>\n    <tr>\n      <th>0</th>\n      <td>1</td>\n    </tr>\n    <tr>\n      <th>1</th>\n      <td>8</td>\n    </tr>\n    <tr>\n      <th>2</th>\n      <td>4</td>\n    </tr>\n    <tr>\n      <th>3</th>\n      <td>0</td>\n    </tr>\n    <tr>\n      <th>4</th>\n      <td>5</td>\n    </tr>\n  </tbody>\n</table>\n</div>"
     },
     "execution_count": 74,
     "metadata": {},
     "output_type": "execute_result"
    }
   ],
   "source": [
    "other_rooms = pd.DataFrame({\"Other rooms\": other_rooms})\n",
    "other_rooms.head()"
   ],
   "metadata": {
    "collapsed": false,
    "pycharm": {
     "name": "#%%\n"
    }
   }
  },
  {
   "cell_type": "markdown",
   "source": [
    "# Testing classes"
   ],
   "metadata": {
    "collapsed": false,
    "pycharm": {
     "name": "#%% md\n"
    }
   }
  },
  {
   "cell_type": "markdown",
   "source": [
    "## Room information HTML texts\n",
    "### Test HTML texts"
   ],
   "metadata": {
    "collapsed": false,
    "pycharm": {
     "name": "#%% md\n"
    }
   }
  },
  {
   "cell_type": "code",
   "execution_count": 75,
   "outputs": [
    {
     "name": "stdout",
     "output_type": "stream",
     "text": [
      "Entrance Hall       1\n",
      "Living/Dining Room  6.58m x 3.78m (24.8 sqm) - 21' 7\" x 12' 4\" (267 sqft)\n",
      "Kitchen             2.68m x 2.14m (5.7 sqm) - 8' 9\" x 7' (61 sqft)\n",
      "Bedroom 1           3.37m x 2.45m (8.2 sqm) - 11' x 8' (88 sqft)\n",
      "Bedroom 2           2.54m x 2.45m (6.2 sqm) - 8' 4\" x 8' (67 sqft)\n",
      "Bathroom            2.14m x 2.04m (4.3 sqm) - 7' x 6' 8\" (46 sqft)\n",
      "Garden              1\n",
      "Parking             1\n"
     ]
    }
   ],
   "source": [
    "handler = ProcessHTML()\n",
    "\n",
    "info1 = \"\"\"This home includes:\n",
    "<ul>\n",
    "    <li>\n",
    "        <strong>01 - Entrance Hall</strong><br><br>\n",
    "    </li>\n",
    "    <li>\n",
    "        <strong>02 - Living/Dining Room</strong><br><br>\n",
    "        <i>6.58m x 3.78m (24.8 sqm) - 21' 7\" x 12' 4\" (267 sqft)</i><br><br>\n",
    "    </li>\n",
    "    <li>\n",
    "        <strong>03 - Kitchen</strong><br><br>\n",
    "        <i>2.68m x 2.14m (5.7 sqm) - 8' 9\" x 7' (61 sqft)</i><br><br>\n",
    "    </li>\n",
    "    <li>\n",
    "        <strong>04 - Bedroom 1</strong><br><br>\n",
    "        <i>3.37m x 2.45m (8.2 sqm) - 11' x 8' (88 sqft)</i><br><br>\n",
    "    </li>\n",
    "    <li>\n",
    "        <strong>05 - Bedroom 2</strong><br><br>\n",
    "        <i>2.54m x 2.45m (6.2 sqm) - 8' 4\" x 8' (67 sqft)</i><br><br>\n",
    "        The second double bedroom is bright and well-sized, with room for all required furniture.<br><br>\n",
    "    </li>\n",
    "    <li>\n",
    "        <strong>06 - Bathroom</strong><br><br>\n",
    "        <i>2.14m x 2.04m (4.3 sqm) - 7' x 6' 8\" (46 sqft)</i><br><br>\n",
    "    </li>\n",
    "    <li>\n",
    "        <strong>07 - Garden</strong><br><br>\n",
    "        Communal Gardens.<br><br>\n",
    "    </li>\n",
    "    <li>\n",
    "        <strong>08 - Parking</strong><br><br>\n",
    "        2 allocated parking spaces.<br><br>\n",
    "    </li>\n",
    "</ul>\"\"\"\n",
    "\n",
    "handler.EweMove_Description_S3_Rooms(info1)\n",
    "for k, v in handler.s3_rooms[0].items():\n",
    "    print(\"{:20s}{}\".format(k, v))"
   ],
   "metadata": {
    "collapsed": false,
    "pycharm": {
     "name": "#%%\n"
    }
   }
  },
  {
   "cell_type": "code",
   "execution_count": 76,
   "outputs": [
    {
     "name": "stdout",
     "output_type": "stream",
     "text": [
      "Entrance Porch      1\n",
      "Lounge Diner        6.76m x 4.04m (27.3 sqm) - 22' 2\" x 13' 3\" (293 sqft)\n",
      "Kitchen             2.97m x 2.36m (7 sqm) - 9' 8\" x 7' 8\" (75 sqft)\n",
      "Bathroom            1\n",
      "Bedroom (Double)    4.05m x 3.25m (13.1 sqm) - 13' 3\" x 10' 7\" (142 sqft)\n",
      "Bedroom (Double)10  3.28m x 2.36m (7.7 sqm) - 10' 9\" x 7' 8\" (83 sqft)\n",
      "Bedroom (Double)70  4.3m x 2.44m (10.4 sqm) - 14' 1\" x 8' (112 sqft)\n",
      "Bathroom41          1\n"
     ]
    }
   ],
   "source": [
    "info2 = \"\"\"This home includes:\n",
    "<ul>\n",
    "    <li>\n",
    "        <strong>01 - Entrance Porch</strong><br><br>\n",
    "    </li>\n",
    "    <li>\n",
    "        <strong>02 - Lounge Diner</strong><br><br>\n",
    "        <i>6.76m x 4.04m (27.3 sqm) - 22' 2\" x 13' 3\" (293 sqft)</i><br><br>\n",
    "    </li>\n",
    "    <li>\n",
    "        <strong>03 - Kitchen</strong><br><br>\n",
    "        <i>2.97m x 2.36m (7 sqm) - 9' 8\" x 7' 8\" (75 sqft)</i><br><br>\n",
    "    </li>\n",
    "    <li>\n",
    "        <strong>05 - Bathroom</strong><br><br>\n",
    "    </li>\n",
    "    <li>\n",
    "        <strong>07 - Bedroom (Double)</strong><br><br>\n",
    "        <i>4.05m x 3.25m (13.1 sqm) - 13' 3\" x 10' 7\" (142 sqft)</i><br><br>\n",
    "    </li>\n",
    "    <li>\n",
    "        <strong>08 - Bedroom (Double)</strong><br><br>\n",
    "        <i>3.28m x 2.36m (7.7 sqm) - 10' 9\" x 7' 8\" (83 sqft)</i><br><br>\n",
    "    </li>\n",
    "    <li>\n",
    "        <strong>09 - Bedroom (Double)</strong><br><br>\n",
    "        <i>4.3m x 2.44m (10.4 sqm) - 14' 1\" x 8' (112 sqft)</i><br><br>\n",
    "    </li>\n",
    "    <li>\n",
    "        <strong>10 - Bathroom</strong><br><br>\n",
    "    </li>\n",
    "</ul>\"\"\"\n",
    "\n",
    "handler.EweMove_Description_S3_Rooms(info2)\n",
    "for k, v in handler.s3_rooms[1].items():\n",
    "    print(\"{:20s}{}\".format(k, v))"
   ],
   "metadata": {
    "collapsed": false,
    "pycharm": {
     "name": "#%%\n"
    }
   }
  },
  {
   "cell_type": "markdown",
   "source": [
    "### All HTML Texts"
   ],
   "metadata": {
    "collapsed": false,
    "pycharm": {
     "name": "#%% md\n"
    }
   }
  },
  {
   "cell_type": "code",
   "execution_count": 77,
   "outputs": [],
   "source": [
    "info = data[\"EweMove Description S3 Rooms\"]\n",
    "handler = ProcessHTML()\n",
    "for i in info:\n",
    "    handler.EweMove_Description_S3_Rooms(i)"
   ],
   "metadata": {
    "collapsed": false,
    "pycharm": {
     "name": "#%%\n"
    }
   }
  },
  {
   "cell_type": "code",
   "execution_count": 78,
   "outputs": [],
   "source": [
    "extract_room = ExtractRooms(handler.s3_rooms, handler.s3_rooms_set, \"{} ({} sqm){}\")\n",
    "bedrooms = extract_room.get_rooms(\"bedroom\")"
   ],
   "metadata": {
    "collapsed": false,
    "pycharm": {
     "name": "#%%\n"
    }
   }
  },
  {
   "cell_type": "code",
   "execution_count": 79,
   "outputs": [
    {
     "data": {
      "text/plain": "      0    1     2     3    4    5    6    7    8    9   10\n0   8.2  6.2   0.0   0.0  0.0  0.0  0.0  0.0  0.0  0.0  0.0\n1   9.8  8.4  13.2  16.7  0.0  0.0  0.0  0.0  0.0  0.0  0.0\n2  13.1  7.7  10.4   0.0  0.0  0.0  0.0  0.0  0.0  0.0  0.0\n3   0.0  0.0   0.0   0.0  0.0  0.0  0.0  0.0  0.0  0.0  0.0\n4  11.0  9.7   7.4   7.4  0.0  0.0  0.0  0.0  0.0  0.0  0.0",
      "text/html": "<div>\n<style scoped>\n    .dataframe tbody tr th:only-of-type {\n        vertical-align: middle;\n    }\n\n    .dataframe tbody tr th {\n        vertical-align: top;\n    }\n\n    .dataframe thead th {\n        text-align: right;\n    }\n</style>\n<table border=\"1\" class=\"dataframe\">\n  <thead>\n    <tr style=\"text-align: right;\">\n      <th></th>\n      <th>0</th>\n      <th>1</th>\n      <th>2</th>\n      <th>3</th>\n      <th>4</th>\n      <th>5</th>\n      <th>6</th>\n      <th>7</th>\n      <th>8</th>\n      <th>9</th>\n      <th>10</th>\n    </tr>\n  </thead>\n  <tbody>\n    <tr>\n      <th>0</th>\n      <td>8.2</td>\n      <td>6.2</td>\n      <td>0.0</td>\n      <td>0.0</td>\n      <td>0.0</td>\n      <td>0.0</td>\n      <td>0.0</td>\n      <td>0.0</td>\n      <td>0.0</td>\n      <td>0.0</td>\n      <td>0.0</td>\n    </tr>\n    <tr>\n      <th>1</th>\n      <td>9.8</td>\n      <td>8.4</td>\n      <td>13.2</td>\n      <td>16.7</td>\n      <td>0.0</td>\n      <td>0.0</td>\n      <td>0.0</td>\n      <td>0.0</td>\n      <td>0.0</td>\n      <td>0.0</td>\n      <td>0.0</td>\n    </tr>\n    <tr>\n      <th>2</th>\n      <td>13.1</td>\n      <td>7.7</td>\n      <td>10.4</td>\n      <td>0.0</td>\n      <td>0.0</td>\n      <td>0.0</td>\n      <td>0.0</td>\n      <td>0.0</td>\n      <td>0.0</td>\n      <td>0.0</td>\n      <td>0.0</td>\n    </tr>\n    <tr>\n      <th>3</th>\n      <td>0.0</td>\n      <td>0.0</td>\n      <td>0.0</td>\n      <td>0.0</td>\n      <td>0.0</td>\n      <td>0.0</td>\n      <td>0.0</td>\n      <td>0.0</td>\n      <td>0.0</td>\n      <td>0.0</td>\n      <td>0.0</td>\n    </tr>\n    <tr>\n      <th>4</th>\n      <td>11.0</td>\n      <td>9.7</td>\n      <td>7.4</td>\n      <td>7.4</td>\n      <td>0.0</td>\n      <td>0.0</td>\n      <td>0.0</td>\n      <td>0.0</td>\n      <td>0.0</td>\n      <td>0.0</td>\n      <td>0.0</td>\n    </tr>\n  </tbody>\n</table>\n</div>"
     },
     "execution_count": 79,
     "metadata": {},
     "output_type": "execute_result"
    }
   ],
   "source": [
    "temp = pd.DataFrame(bedrooms)\n",
    "temp.head()"
   ],
   "metadata": {
    "collapsed": false,
    "pycharm": {
     "name": "#%%\n"
    }
   }
  },
  {
   "cell_type": "markdown",
   "source": [
    "### General information\n",
    "#### Parking"
   ],
   "metadata": {
    "collapsed": false,
    "pycharm": {
     "name": "#%% md\n"
    }
   }
  },
  {
   "cell_type": "code",
   "execution_count": 80,
   "outputs": [],
   "source": [
    "generalize = GeneralizeDataset(data)"
   ],
   "metadata": {
    "collapsed": false,
    "pycharm": {
     "name": "#%%\n"
    }
   }
  },
  {
   "cell_type": "code",
   "execution_count": 81,
   "outputs": [],
   "source": [
    "parking = generalize.get_feature_types(\"parking\")"
   ],
   "metadata": {
    "collapsed": false,
    "pycharm": {
     "name": "#%%\n"
    }
   }
  },
  {
   "cell_type": "code",
   "execution_count": 82,
   "outputs": [
    {
     "data": {
      "text/plain": "   Allocated  Communal  Covered  Driveway  Garage  Gated  Off Street  \\\n0          1         0        0         0       0      0           1   \n1          0         0        0         0       0      0           0   \n2          0         0        0         0       0      0           0   \n3          0         0        0         0       0      0           0   \n4          0         0        0         1       1      0           1   \n\n   On Street  Permit  Private  Rear  Residents  \n0          0       0        0     0          1  \n1          0       0        0     0          0  \n2          1       0        0     0          0  \n3          0       0        0     0          0  \n4          0       0        0     0          0  ",
      "text/html": "<div>\n<style scoped>\n    .dataframe tbody tr th:only-of-type {\n        vertical-align: middle;\n    }\n\n    .dataframe tbody tr th {\n        vertical-align: top;\n    }\n\n    .dataframe thead th {\n        text-align: right;\n    }\n</style>\n<table border=\"1\" class=\"dataframe\">\n  <thead>\n    <tr style=\"text-align: right;\">\n      <th></th>\n      <th>Allocated</th>\n      <th>Communal</th>\n      <th>Covered</th>\n      <th>Driveway</th>\n      <th>Garage</th>\n      <th>Gated</th>\n      <th>Off Street</th>\n      <th>On Street</th>\n      <th>Permit</th>\n      <th>Private</th>\n      <th>Rear</th>\n      <th>Residents</th>\n    </tr>\n  </thead>\n  <tbody>\n    <tr>\n      <th>0</th>\n      <td>1</td>\n      <td>0</td>\n      <td>0</td>\n      <td>0</td>\n      <td>0</td>\n      <td>0</td>\n      <td>1</td>\n      <td>0</td>\n      <td>0</td>\n      <td>0</td>\n      <td>0</td>\n      <td>1</td>\n    </tr>\n    <tr>\n      <th>1</th>\n      <td>0</td>\n      <td>0</td>\n      <td>0</td>\n      <td>0</td>\n      <td>0</td>\n      <td>0</td>\n      <td>0</td>\n      <td>0</td>\n      <td>0</td>\n      <td>0</td>\n      <td>0</td>\n      <td>0</td>\n    </tr>\n    <tr>\n      <th>2</th>\n      <td>0</td>\n      <td>0</td>\n      <td>0</td>\n      <td>0</td>\n      <td>0</td>\n      <td>0</td>\n      <td>0</td>\n      <td>1</td>\n      <td>0</td>\n      <td>0</td>\n      <td>0</td>\n      <td>0</td>\n    </tr>\n    <tr>\n      <th>3</th>\n      <td>0</td>\n      <td>0</td>\n      <td>0</td>\n      <td>0</td>\n      <td>0</td>\n      <td>0</td>\n      <td>0</td>\n      <td>0</td>\n      <td>0</td>\n      <td>0</td>\n      <td>0</td>\n      <td>0</td>\n    </tr>\n    <tr>\n      <th>4</th>\n      <td>0</td>\n      <td>0</td>\n      <td>0</td>\n      <td>1</td>\n      <td>1</td>\n      <td>0</td>\n      <td>1</td>\n      <td>0</td>\n      <td>0</td>\n      <td>0</td>\n      <td>0</td>\n      <td>0</td>\n    </tr>\n  </tbody>\n</table>\n</div>"
     },
     "execution_count": 82,
     "metadata": {},
     "output_type": "execute_result"
    }
   ],
   "source": [
    "parking = pd.DataFrame(parking)\n",
    "parking.head()"
   ],
   "metadata": {
    "collapsed": false,
    "pycharm": {
     "name": "#%%\n"
    }
   }
  },
  {
   "cell_type": "code",
   "execution_count": 83,
   "outputs": [],
   "source": [
    "parking = generalize.get_feature_num(\"parking\")"
   ],
   "metadata": {
    "collapsed": false,
    "pycharm": {
     "name": "#%%\n"
    }
   }
  },
  {
   "cell_type": "code",
   "execution_count": 84,
   "outputs": [
    {
     "data": {
      "text/plain": "   0\n0  3\n1  0\n2  1\n3  0\n4  3",
      "text/html": "<div>\n<style scoped>\n    .dataframe tbody tr th:only-of-type {\n        vertical-align: middle;\n    }\n\n    .dataframe tbody tr th {\n        vertical-align: top;\n    }\n\n    .dataframe thead th {\n        text-align: right;\n    }\n</style>\n<table border=\"1\" class=\"dataframe\">\n  <thead>\n    <tr style=\"text-align: right;\">\n      <th></th>\n      <th>0</th>\n    </tr>\n  </thead>\n  <tbody>\n    <tr>\n      <th>0</th>\n      <td>3</td>\n    </tr>\n    <tr>\n      <th>1</th>\n      <td>0</td>\n    </tr>\n    <tr>\n      <th>2</th>\n      <td>1</td>\n    </tr>\n    <tr>\n      <th>3</th>\n      <td>0</td>\n    </tr>\n    <tr>\n      <th>4</th>\n      <td>3</td>\n    </tr>\n  </tbody>\n</table>\n</div>"
     },
     "execution_count": 84,
     "metadata": {},
     "output_type": "execute_result"
    }
   ],
   "source": [
    "parking = pd.DataFrame(parking)\n",
    "parking.head()"
   ],
   "metadata": {
    "collapsed": false,
    "pycharm": {
     "name": "#%%\n"
    }
   }
  },
  {
   "cell_type": "code",
   "execution_count": 85,
   "outputs": [
    {
     "data": {
      "text/plain": "1331"
     },
     "execution_count": 85,
     "metadata": {},
     "output_type": "execute_result"
    }
   ],
   "source": [
    "nan_num = 0\n",
    "for i in range(len(parking)):\n",
    "    if parking.iloc[i, 0] == 0:\n",
    "        nan_num += 1\n",
    "\n",
    "nan_num"
   ],
   "metadata": {
    "collapsed": false,
    "pycharm": {
     "name": "#%%\n"
    }
   }
  },
  {
   "cell_type": "markdown",
   "source": [
    "#### Outside Spaces"
   ],
   "metadata": {
    "collapsed": false,
    "pycharm": {
     "name": "#%% md\n"
    }
   }
  },
  {
   "cell_type": "code",
   "execution_count": 86,
   "outputs": [],
   "source": [
    "outside_space = generalize.get_feature_types(\"outside_space\")"
   ],
   "metadata": {
    "collapsed": false,
    "pycharm": {
     "name": "#%%\n"
    }
   }
  },
  {
   "cell_type": "code",
   "execution_count": 87,
   "outputs": [
    {
     "data": {
      "text/plain": "   Back Garden  Communal Garden  Enclosed Garden  Front Garden  Patio  \\\n0            0                1                0             0      0   \n1            0                0                0             0      0   \n2            0                0                0             0      0   \n3            0                0                0             0      0   \n4            1                0                1             0      0   \n\n   Private Garden  Rear Garden  Terrace  \n0               0            0        0  \n1               0            0        0  \n2               1            1        0  \n3               0            0        0  \n4               1            0        0  ",
      "text/html": "<div>\n<style scoped>\n    .dataframe tbody tr th:only-of-type {\n        vertical-align: middle;\n    }\n\n    .dataframe tbody tr th {\n        vertical-align: top;\n    }\n\n    .dataframe thead th {\n        text-align: right;\n    }\n</style>\n<table border=\"1\" class=\"dataframe\">\n  <thead>\n    <tr style=\"text-align: right;\">\n      <th></th>\n      <th>Back Garden</th>\n      <th>Communal Garden</th>\n      <th>Enclosed Garden</th>\n      <th>Front Garden</th>\n      <th>Patio</th>\n      <th>Private Garden</th>\n      <th>Rear Garden</th>\n      <th>Terrace</th>\n    </tr>\n  </thead>\n  <tbody>\n    <tr>\n      <th>0</th>\n      <td>0</td>\n      <td>1</td>\n      <td>0</td>\n      <td>0</td>\n      <td>0</td>\n      <td>0</td>\n      <td>0</td>\n      <td>0</td>\n    </tr>\n    <tr>\n      <th>1</th>\n      <td>0</td>\n      <td>0</td>\n      <td>0</td>\n      <td>0</td>\n      <td>0</td>\n      <td>0</td>\n      <td>0</td>\n      <td>0</td>\n    </tr>\n    <tr>\n      <th>2</th>\n      <td>0</td>\n      <td>0</td>\n      <td>0</td>\n      <td>0</td>\n      <td>0</td>\n      <td>1</td>\n      <td>1</td>\n      <td>0</td>\n    </tr>\n    <tr>\n      <th>3</th>\n      <td>0</td>\n      <td>0</td>\n      <td>0</td>\n      <td>0</td>\n      <td>0</td>\n      <td>0</td>\n      <td>0</td>\n      <td>0</td>\n    </tr>\n    <tr>\n      <th>4</th>\n      <td>1</td>\n      <td>0</td>\n      <td>1</td>\n      <td>0</td>\n      <td>0</td>\n      <td>1</td>\n      <td>0</td>\n      <td>0</td>\n    </tr>\n  </tbody>\n</table>\n</div>"
     },
     "execution_count": 87,
     "metadata": {},
     "output_type": "execute_result"
    }
   ],
   "source": [
    "outside = pd.DataFrame(outside_space)\n",
    "outside.head()"
   ],
   "metadata": {
    "collapsed": false,
    "pycharm": {
     "name": "#%%\n"
    }
   }
  },
  {
   "cell_type": "code",
   "execution_count": 88,
   "outputs": [],
   "source": [
    "outside_space = generalize.get_feature_num(\"outside_space\")"
   ],
   "metadata": {
    "collapsed": false,
    "pycharm": {
     "name": "#%%\n"
    }
   }
  },
  {
   "cell_type": "code",
   "execution_count": 89,
   "outputs": [
    {
     "data": {
      "text/plain": "   0\n0  1\n1  0\n2  2\n3  0\n4  3",
      "text/html": "<div>\n<style scoped>\n    .dataframe tbody tr th:only-of-type {\n        vertical-align: middle;\n    }\n\n    .dataframe tbody tr th {\n        vertical-align: top;\n    }\n\n    .dataframe thead th {\n        text-align: right;\n    }\n</style>\n<table border=\"1\" class=\"dataframe\">\n  <thead>\n    <tr style=\"text-align: right;\">\n      <th></th>\n      <th>0</th>\n    </tr>\n  </thead>\n  <tbody>\n    <tr>\n      <th>0</th>\n      <td>1</td>\n    </tr>\n    <tr>\n      <th>1</th>\n      <td>0</td>\n    </tr>\n    <tr>\n      <th>2</th>\n      <td>2</td>\n    </tr>\n    <tr>\n      <th>3</th>\n      <td>0</td>\n    </tr>\n    <tr>\n      <th>4</th>\n      <td>3</td>\n    </tr>\n  </tbody>\n</table>\n</div>"
     },
     "execution_count": 89,
     "metadata": {},
     "output_type": "execute_result"
    }
   ],
   "source": [
    "outside = pd.DataFrame(outside_space)\n",
    "outside.head()"
   ],
   "metadata": {
    "collapsed": false,
    "pycharm": {
     "name": "#%%\n"
    }
   }
  },
  {
   "cell_type": "code",
   "execution_count": 90,
   "outputs": [
    {
     "data": {
      "text/plain": "1450"
     },
     "execution_count": 90,
     "metadata": {},
     "output_type": "execute_result"
    }
   ],
   "source": [
    "nan_num = 0\n",
    "for i in range(len(outside)):\n",
    "    if outside.iloc[i, 0] == 0:\n",
    "        nan_num += 1\n",
    "\n",
    "nan_num"
   ],
   "metadata": {
    "collapsed": false,
    "pycharm": {
     "name": "#%%\n"
    }
   }
  },
  {
   "cell_type": "markdown",
   "source": [
    "#### Heating"
   ],
   "metadata": {
    "collapsed": false,
    "pycharm": {
     "name": "#%% md\n"
    }
   }
  },
  {
   "cell_type": "code",
   "execution_count": 91,
   "outputs": [],
   "source": [
    "heating = generalize.get_feature_num(\"heating\")"
   ],
   "metadata": {
    "collapsed": false,
    "pycharm": {
     "name": "#%%\n"
    }
   }
  },
  {
   "cell_type": "code",
   "execution_count": 92,
   "outputs": [],
   "source": [
    "heating = pd.DataFrame(heating)"
   ],
   "metadata": {
    "collapsed": false,
    "pycharm": {
     "name": "#%%\n"
    }
   }
  },
  {
   "cell_type": "code",
   "execution_count": 93,
   "outputs": [
    {
     "data": {
      "text/plain": "1312"
     },
     "execution_count": 93,
     "metadata": {},
     "output_type": "execute_result"
    }
   ],
   "source": [
    "nan_num = 0\n",
    "for i in range(len(heating)):\n",
    "    if heating.iloc[i, 0] == 0:\n",
    "        nan_num += 1\n",
    "\n",
    "nan_num"
   ],
   "metadata": {
    "collapsed": false,
    "pycharm": {
     "name": "#%%\n"
    }
   }
  },
  {
   "cell_type": "markdown",
   "source": [
    "#### Accessibility"
   ],
   "metadata": {
    "collapsed": false,
    "pycharm": {
     "name": "#%% md\n"
    }
   }
  },
  {
   "cell_type": "code",
   "execution_count": 94,
   "outputs": [],
   "source": [
    "accessibility = generalize.get_feature_num(\"accessibility\")"
   ],
   "metadata": {
    "collapsed": false,
    "pycharm": {
     "name": "#%%\n"
    }
   }
  },
  {
   "cell_type": "code",
   "execution_count": 95,
   "outputs": [],
   "source": [
    "accessibility = pd.DataFrame(accessibility)"
   ],
   "metadata": {
    "collapsed": false,
    "pycharm": {
     "name": "#%%\n"
    }
   }
  },
  {
   "cell_type": "code",
   "execution_count": 96,
   "outputs": [
    {
     "data": {
      "text/plain": "2296"
     },
     "execution_count": 96,
     "metadata": {},
     "output_type": "execute_result"
    }
   ],
   "source": [
    "nan_num = 0\n",
    "for i in range(len(accessibility)):\n",
    "    if accessibility.iloc[i, 0] == 0:\n",
    "        nan_num += 1\n",
    "\n",
    "nan_num"
   ],
   "metadata": {
    "collapsed": false,
    "pycharm": {
     "name": "#%%\n"
    }
   }
  },
  {
   "cell_type": "markdown",
   "source": [
    "#### Condition"
   ],
   "metadata": {
    "collapsed": false,
    "pycharm": {
     "name": "#%% md\n"
    }
   }
  },
  {
   "cell_type": "code",
   "execution_count": 97,
   "outputs": [],
   "source": [
    "condition_header = [i for i in data.columns if \"condition\" in i.lower()]\n",
    "condition = data[condition_header]"
   ],
   "metadata": {
    "collapsed": false,
    "pycharm": {
     "name": "#%%\n"
    }
   }
  },
  {
   "cell_type": "code",
   "execution_count": 98,
   "outputs": [
    {
     "data": {
      "text/plain": "RTD3316_condition1 - Condition Description    1383\ndtype: int64"
     },
     "execution_count": 98,
     "metadata": {},
     "output_type": "execute_result"
    }
   ],
   "source": [
    "condition.isna().sum()"
   ],
   "metadata": {
    "collapsed": false,
    "pycharm": {
     "name": "#%%\n"
    }
   }
  },
  {
   "cell_type": "code",
   "execution_count": 99,
   "outputs": [],
   "source": [
    "description = data[\"EweMove Description S1 Features\"]\n",
    "rooms = data[\"EweMove Description S3 Rooms\"]\n",
    "for d in description:\n",
    "    handler.EweMove_Description_S1_Features(d)\n",
    "for r in rooms:\n",
    "    handler.EweMove_Description_S3_Rooms(r)"
   ],
   "metadata": {
    "collapsed": false,
    "pycharm": {
     "name": "#%%\n"
    }
   }
  },
  {
   "cell_type": "code",
   "execution_count": 100,
   "outputs": [
    {
     "name": "stdout",
     "output_type": "stream",
     "text": [
      "Wonderful Family Home\n",
      "FREE TO APPLY - No 'Rip-Off' Upfront Fees!\n",
      "Garage and driveway for off road parking\n",
      "Reduced deposit with suitable guarantor\n",
      "Quick Decision within 2 working days GUARANTEED\n",
      "Call NOW 24/7 or book instantly online to View\n",
      "\n",
      "\n",
      "Lounge                        \t13.5m x 125m (1687.5 sqm) - 44' 3\" x 410' 1\" (18163 sqft)\n",
      "Kitchen                       \t13m x 7.5m (97.5 sqm) - 42' 7\" x 24' 7\" (1049 sqft)\n",
      "Dining Room                   \t13m x 12m (156 sqm) - 42' 7\" x 39' 4\" (1679 sqft)\n",
      "Bedroom 1                     \t13m x 12.2m (158.6 sqm) - 42' 7\" x 40' (1707 sqft)\n",
      "Bedroom 2                     \t13m x 725m (9425 sqm) - 42' 7\" x 2378' 7\" (101449 sqft)\n",
      "Bedroom 3                     \t7.5m x 5.75m (43.1 sqm) - 24' 7\" x 18' 10\" (464 sqft)\n",
      "Bathroom                      \t1\n",
      "Garden                        \t1\n"
     ]
    }
   ],
   "source": [
    "index = 2849\n",
    "for i in handler.s1_description[index]:\n",
    "    print(i)\n",
    "print(\"\\n\")\n",
    "\n",
    "if handler.s3_rooms[index] is not None:\n",
    "    for k, v in handler.s3_rooms[index].items():\n",
    "        print(\"{:30s}\\t{}\".format(k, v))\n",
    "else:\n",
    "    print(\"None\")"
   ],
   "metadata": {
    "collapsed": false,
    "pycharm": {
     "name": "#%%\n"
    }
   }
  },
  {
   "cell_type": "code",
   "execution_count": 100,
   "outputs": [],
   "source": [],
   "metadata": {
    "collapsed": false,
    "pycharm": {
     "name": "#%%\n"
    }
   }
  }
 ],
 "metadata": {
  "kernelspec": {
   "display_name": "Python 3",
   "language": "python",
   "name": "python3"
  },
  "language_info": {
   "codemirror_mode": {
    "name": "ipython",
    "version": 2
   },
   "file_extension": ".py",
   "mimetype": "text/x-python",
   "name": "python",
   "nbconvert_exporter": "python",
   "pygments_lexer": "ipython2",
   "version": "2.7.6"
  }
 },
 "nbformat": 4,
 "nbformat_minor": 0
}