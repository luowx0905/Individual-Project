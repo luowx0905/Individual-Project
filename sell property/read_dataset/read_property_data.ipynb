{
 "cells": [
  {
   "cell_type": "markdown",
   "source": [
    "# Import packages"
   ],
   "metadata": {
    "collapsed": false,
    "pycharm": {
     "name": "#%% md\n"
    }
   }
  },
  {
   "cell_type": "code",
   "execution_count": 1,
   "outputs": [],
   "source": [
    "import pandas as pd\n",
    "import numpy as np\n",
    "import parse\n",
    "import re\n",
    "from bs4 import BeautifulSoup # handle html strings\n",
    "from ProcessHTML import ProcessHTML"
   ],
   "metadata": {
    "collapsed": false,
    "pycharm": {
     "name": "#%%\n"
    }
   }
  },
  {
   "cell_type": "markdown",
   "source": [
    "# Read Dataset"
   ],
   "metadata": {
    "collapsed": false,
    "pycharm": {
     "name": "#%% md\n"
    }
   }
  },
  {
   "cell_type": "code",
   "execution_count": 2,
   "outputs": [
    {
     "data": {
      "text/plain": "   Postcode     Created  Advertised      Agreed   Completed  \\\n0   LU7 4WN  03/04/2019  03/04/2019         NaN         NaN   \n1   L23 6YD  21/03/2019  24/03/2019  05/04/2021  28/06/2021   \n2  DA17 5PJ  25/03/2019  03/04/2019  25/01/2021  15/03/2021   \n3   NW4 1AP  28/06/2019  04/07/2019         NaN         NaN   \n4   GL7 5UX  12/06/2019  09/08/2019  13/04/2021  05/07/2021   \n\n  Date Listing Last Cancelled Sale or Let  \\\n0                  28/02/2022        Sale   \n1                  26/02/2020        Sale   \n2                  13/06/2019        Sale   \n3                         NaN        Sale   \n4                         NaN        Sale   \n\n  RTD3308_outside_space1 - Outside Space Description  \\\n0                                    Communal Garden   \n1                                                NaN   \n2                                        Rear Garden   \n3                                                NaN   \n4                                        Back Garden   \n\n                     EweMove Description S1 Features  \\\n0  <ul><li>CASH BUYERS ONLY</li><li>No Upper Chai...   \n1  <ul><li>Sea Views</li><li>Very Popular Locatio...   \n2  <ul><li>Call NOW 24/7 or book instantly online...   \n3  <ul><li>5 bed link detached FREEHOLD house wit...   \n4  <ul><li>Four Bedrooms</li><li>Detached</li><li...   \n\n                  EweMove Description S2 Description  ...  \\\n0  Cash Buyers... You could pounce super quick on...  ...   \n1  WATCHING THE SHIPS ROLL IN - from your very ow...  ...   \n2  Guide price &pound;325,000 - &pound;350,000.Lo...  ...   \n3  EweMove Hampstead - A rare opportunity to acqu...  ...   \n4  For anyone looking for a family home in South ...  ...   \n\n                                        Price / Rent      Price Qualifier  \\\n0  <font color='blue'>&pound;140,000</font><br>Of...  Offers In Excess Of   \n1  <font color='blue'>&pound;325,000</font><br>Of...          Offers Over   \n2  <font color='blue'>&pound;325,000</font><br>Gu...          Guide Price   \n3  <font color='blue'>&pound;1,095,000</font><br>...          Guide Price   \n4       <font color='blue'>&pound;395,000</font><br>                  NaN   \n\n  Sale Price % Achieved Current EPC - EPC Expiry Date DESC Council Tax Band  \\\n0               130.71%                    11/03/2028                Band B   \n1                   NaN                    28/03/2029                Band E   \n2                   NaN                    12/07/2028                Band D   \n3                   NaN                    30/06/2029                   NaN   \n4               100.00%                    30/06/2024                   NaN   \n\n  DESC Leasehold Ground Rent DESC Leasehold Service Charge  \\\n0                        NaN                           NaN   \n1                        NaN                           NaN   \n2                        NaN                           NaN   \n3                        NaN                           NaN   \n4                        NaN                           NaN   \n\n  ZPG_lease_expiry_years_remaining # of Enquiry or viewings # of Apps/Offers  \n0                             68.0                       32               12  \n1                              NaN                       15               10  \n2                              NaN                       14                4  \n3                              NaN                       13                1  \n4                              NaN                       11                9  \n\n[5 rows x 35 columns]",
      "text/html": "<div>\n<style scoped>\n    .dataframe tbody tr th:only-of-type {\n        vertical-align: middle;\n    }\n\n    .dataframe tbody tr th {\n        vertical-align: top;\n    }\n\n    .dataframe thead th {\n        text-align: right;\n    }\n</style>\n<table border=\"1\" class=\"dataframe\">\n  <thead>\n    <tr style=\"text-align: right;\">\n      <th></th>\n      <th>Postcode</th>\n      <th>Created</th>\n      <th>Advertised</th>\n      <th>Agreed</th>\n      <th>Completed</th>\n      <th>Date Listing Last Cancelled</th>\n      <th>Sale or Let</th>\n      <th>RTD3308_outside_space1 - Outside Space Description</th>\n      <th>EweMove Description S1 Features</th>\n      <th>EweMove Description S2 Description</th>\n      <th>...</th>\n      <th>Price / Rent</th>\n      <th>Price Qualifier</th>\n      <th>Sale Price % Achieved</th>\n      <th>Current EPC - EPC Expiry Date</th>\n      <th>DESC Council Tax Band</th>\n      <th>DESC Leasehold Ground Rent</th>\n      <th>DESC Leasehold Service Charge</th>\n      <th>ZPG_lease_expiry_years_remaining</th>\n      <th># of Enquiry or viewings</th>\n      <th># of Apps/Offers</th>\n    </tr>\n  </thead>\n  <tbody>\n    <tr>\n      <th>0</th>\n      <td>LU7 4WN</td>\n      <td>03/04/2019</td>\n      <td>03/04/2019</td>\n      <td>NaN</td>\n      <td>NaN</td>\n      <td>28/02/2022</td>\n      <td>Sale</td>\n      <td>Communal Garden</td>\n      <td>&lt;ul&gt;&lt;li&gt;CASH BUYERS ONLY&lt;/li&gt;&lt;li&gt;No Upper Chai...</td>\n      <td>Cash Buyers... You could pounce super quick on...</td>\n      <td>...</td>\n      <td>&lt;font color='blue'&gt;&amp;pound;140,000&lt;/font&gt;&lt;br&gt;Of...</td>\n      <td>Offers In Excess Of</td>\n      <td>130.71%</td>\n      <td>11/03/2028</td>\n      <td>Band B</td>\n      <td>NaN</td>\n      <td>NaN</td>\n      <td>68.0</td>\n      <td>32</td>\n      <td>12</td>\n    </tr>\n    <tr>\n      <th>1</th>\n      <td>L23 6YD</td>\n      <td>21/03/2019</td>\n      <td>24/03/2019</td>\n      <td>05/04/2021</td>\n      <td>28/06/2021</td>\n      <td>26/02/2020</td>\n      <td>Sale</td>\n      <td>NaN</td>\n      <td>&lt;ul&gt;&lt;li&gt;Sea Views&lt;/li&gt;&lt;li&gt;Very Popular Locatio...</td>\n      <td>WATCHING THE SHIPS ROLL IN - from your very ow...</td>\n      <td>...</td>\n      <td>&lt;font color='blue'&gt;&amp;pound;325,000&lt;/font&gt;&lt;br&gt;Of...</td>\n      <td>Offers Over</td>\n      <td>NaN</td>\n      <td>28/03/2029</td>\n      <td>Band E</td>\n      <td>NaN</td>\n      <td>NaN</td>\n      <td>NaN</td>\n      <td>15</td>\n      <td>10</td>\n    </tr>\n    <tr>\n      <th>2</th>\n      <td>DA17 5PJ</td>\n      <td>25/03/2019</td>\n      <td>03/04/2019</td>\n      <td>25/01/2021</td>\n      <td>15/03/2021</td>\n      <td>13/06/2019</td>\n      <td>Sale</td>\n      <td>Rear Garden</td>\n      <td>&lt;ul&gt;&lt;li&gt;Call NOW 24/7 or book instantly online...</td>\n      <td>Guide price &amp;pound;325,000 - &amp;pound;350,000.Lo...</td>\n      <td>...</td>\n      <td>&lt;font color='blue'&gt;&amp;pound;325,000&lt;/font&gt;&lt;br&gt;Gu...</td>\n      <td>Guide Price</td>\n      <td>NaN</td>\n      <td>12/07/2028</td>\n      <td>Band D</td>\n      <td>NaN</td>\n      <td>NaN</td>\n      <td>NaN</td>\n      <td>14</td>\n      <td>4</td>\n    </tr>\n    <tr>\n      <th>3</th>\n      <td>NW4 1AP</td>\n      <td>28/06/2019</td>\n      <td>04/07/2019</td>\n      <td>NaN</td>\n      <td>NaN</td>\n      <td>NaN</td>\n      <td>Sale</td>\n      <td>NaN</td>\n      <td>&lt;ul&gt;&lt;li&gt;5 bed link detached FREEHOLD house wit...</td>\n      <td>EweMove Hampstead - A rare opportunity to acqu...</td>\n      <td>...</td>\n      <td>&lt;font color='blue'&gt;&amp;pound;1,095,000&lt;/font&gt;&lt;br&gt;...</td>\n      <td>Guide Price</td>\n      <td>NaN</td>\n      <td>30/06/2029</td>\n      <td>NaN</td>\n      <td>NaN</td>\n      <td>NaN</td>\n      <td>NaN</td>\n      <td>13</td>\n      <td>1</td>\n    </tr>\n    <tr>\n      <th>4</th>\n      <td>GL7 5UX</td>\n      <td>12/06/2019</td>\n      <td>09/08/2019</td>\n      <td>13/04/2021</td>\n      <td>05/07/2021</td>\n      <td>NaN</td>\n      <td>Sale</td>\n      <td>Back Garden</td>\n      <td>&lt;ul&gt;&lt;li&gt;Four Bedrooms&lt;/li&gt;&lt;li&gt;Detached&lt;/li&gt;&lt;li...</td>\n      <td>For anyone looking for a family home in South ...</td>\n      <td>...</td>\n      <td>&lt;font color='blue'&gt;&amp;pound;395,000&lt;/font&gt;&lt;br&gt;</td>\n      <td>NaN</td>\n      <td>100.00%</td>\n      <td>30/06/2024</td>\n      <td>NaN</td>\n      <td>NaN</td>\n      <td>NaN</td>\n      <td>NaN</td>\n      <td>11</td>\n      <td>9</td>\n    </tr>\n  </tbody>\n</table>\n<p>5 rows × 35 columns</p>\n</div>"
     },
     "execution_count": 2,
     "metadata": {},
     "output_type": "execute_result"
    }
   ],
   "source": [
    "filename = \"../datasets/PropertyData_wDesc.csv\"\n",
    "# Default encoding (UTF-8) not working on this dataset\n",
    "data = pd.read_csv(filename, encoding=\"ISO8859-1\")\n",
    "data.head()"
   ],
   "metadata": {
    "collapsed": false,
    "pycharm": {
     "name": "#%%\n"
    }
   }
  },
  {
   "cell_type": "markdown",
   "source": [
    "# Inspecting the dataset"
   ],
   "metadata": {
    "collapsed": false,
    "pycharm": {
     "name": "#%% md\n"
    }
   }
  },
  {
   "cell_type": "code",
   "execution_count": 3,
   "outputs": [
    {
     "data": {
      "text/plain": "(3649, 35)"
     },
     "execution_count": 3,
     "metadata": {},
     "output_type": "execute_result"
    }
   ],
   "source": [
    "data.shape"
   ],
   "metadata": {
    "collapsed": false,
    "pycharm": {
     "name": "#%%\n"
    }
   }
  },
  {
   "cell_type": "code",
   "execution_count": 4,
   "outputs": [
    {
     "data": {
      "text/plain": "Postcode                                                 0\nCreated                                                  0\nAdvertised                                             453\nAgreed                                                1381\nCompleted                                             1483\nDate Listing Last Cancelled                           2179\nSale or Let                                              0\nRTD3308_outside_space1 - Outside Space Description    1450\nEweMove Description S1 Features                          0\nEweMove Description S2 Description                     301\nEweMove Description S3 Rooms                           977\nEweMove Description S4 Summary                           0\nRTD3307_parking1 - Parking Description                1331\nRTD3307_parking2 - Parking Description                2077\nRTD3307_parking3 - Parking Description                2779\nRTD3308_outside_space2 - Outside Space Description    2001\nRTD3308_outside_space3 - Outside Space Description    2561\nRTD3316_condition1 - Condition Description            1383\nRTD3318_heating1 - Heating Description                1312\nRTD3317_accessibility1 - accessibility Description    2296\nRTD3317_accessibility2 - accessibility Description    3555\nRTD3317_accessibility3 - accessibility Description    3641\nRTD3318_heating2 - Heating Description                1919\nRTD3313_land_area_unit - Area Description             3613\nRTD3318_heating3 - Heating Description                3039\nPrice / Rent                                             0\nPrice Qualifier                                       1148\nSale Price % Achieved                                 3127\nCurrent EPC - EPC Expiry Date                         1059\nDESC Council Tax Band                                 1458\nDESC Leasehold Ground Rent                            3451\nDESC Leasehold Service Charge                         3436\nZPG_lease_expiry_years_remaining                      3372\n# of Enquiry or viewings                                 0\n# of Apps/Offers                                         0\ndtype: int64"
     },
     "execution_count": 4,
     "metadata": {},
     "output_type": "execute_result"
    }
   ],
   "source": [
    "data.isnull().sum()"
   ],
   "metadata": {
    "collapsed": false,
    "pycharm": {
     "name": "#%%\n"
    }
   }
  },
  {
   "cell_type": "markdown",
   "source": [
    "# Handling HTML text"
   ],
   "metadata": {
    "collapsed": false,
    "pycharm": {
     "name": "#%% md\n"
    }
   }
  },
  {
   "cell_type": "markdown",
   "source": [
    "## EweMove Description S1 Features"
   ],
   "metadata": {
    "collapsed": false,
    "pycharm": {
     "name": "#%% md\n"
    }
   }
  },
  {
   "cell_type": "code",
   "execution_count": 5,
   "outputs": [
    {
     "data": {
      "text/plain": "'<ul><li>CASH BUYERS ONLY</li><li>No Upper Chain!</li><li>Very Rare 2 Car Parking Spaces</li><li>Great Commuter Links by Road & Rail</li><li>Communal Gardens</li><li>2 Bedrooms</li><li>Cul-De-Sac Location</li><li>Brand New Bathroom</li><li>Lovely Residential Area</li></ul>'"
     },
     "execution_count": 5,
     "metadata": {},
     "output_type": "execute_result"
    }
   ],
   "source": [
    "string = data[\"EweMove Description S1 Features\"][0]\n",
    "soup = BeautifulSoup(string, \"html.parser\")\n",
    "string"
   ],
   "metadata": {
    "collapsed": false,
    "pycharm": {
     "name": "#%%\n"
    }
   }
  },
  {
   "cell_type": "code",
   "execution_count": 6,
   "outputs": [
    {
     "name": "stdout",
     "output_type": "stream",
     "text": [
      "<ul>\n",
      " <li>\n",
      "  CASH BUYERS ONLY\n",
      " </li>\n",
      " <li>\n",
      "  No Upper Chain!\n",
      " </li>\n",
      " <li>\n",
      "  Very Rare 2 Car Parking Spaces\n",
      " </li>\n",
      " <li>\n",
      "  Great Commuter Links by Road &amp; Rail\n",
      " </li>\n",
      " <li>\n",
      "  Communal Gardens\n",
      " </li>\n",
      " <li>\n",
      "  2 Bedrooms\n",
      " </li>\n",
      " <li>\n",
      "  Cul-De-Sac Location\n",
      " </li>\n",
      " <li>\n",
      "  Brand New Bathroom\n",
      " </li>\n",
      " <li>\n",
      "  Lovely Residential Area\n",
      " </li>\n",
      "</ul>\n"
     ]
    }
   ],
   "source": [
    "print(soup.prettify())"
   ],
   "metadata": {
    "collapsed": false,
    "pycharm": {
     "name": "#%%\n"
    }
   }
  },
  {
   "cell_type": "code",
   "execution_count": 7,
   "outputs": [
    {
     "name": "stdout",
     "output_type": "stream",
     "text": [
      "CASH BUYERS ONLY\n",
      "No Upper Chain!\n",
      "Very Rare 2 Car Parking Spaces\n",
      "Great Commuter Links by Road & Rail\n",
      "Communal Gardens\n",
      "2 Bedrooms\n",
      "Cul-De-Sac Location\n",
      "Brand New Bathroom\n",
      "Lovely Residential Area\n"
     ]
    }
   ],
   "source": [
    "features = soup.select(\"li\")\n",
    "for feature in features:\n",
    "    print(feature.string.strip())"
   ],
   "metadata": {
    "collapsed": false,
    "pycharm": {
     "name": "#%%\n"
    }
   }
  },
  {
   "cell_type": "markdown",
   "source": [
    "## EweMove Description S3 Rooms"
   ],
   "metadata": {
    "collapsed": false,
    "pycharm": {
     "name": "#%% md\n"
    }
   }
  },
  {
   "cell_type": "code",
   "execution_count": 8,
   "outputs": [],
   "source": [
    "string = data[\"EweMove Description S3 Rooms\"][6]\n",
    "soup = BeautifulSoup(string, \"html.parser\")"
   ],
   "metadata": {
    "collapsed": false,
    "pycharm": {
     "name": "#%%\n"
    }
   }
  },
  {
   "cell_type": "code",
   "execution_count": 9,
   "outputs": [
    {
     "name": "stdout",
     "output_type": "stream",
     "text": [
      "Living Room              4.34m x 4.11m (17.8 sqm) - 14' 3\" x 13' 5\" (192 sqft)\n",
      "Dining Room              3.13m x 2.83m (8.8 sqm) - 10' 3\" x 9' 3\" (95 sqft)\n",
      "Kitchen                  3.12m x 2.83m (8.8 sqm) - 10' 2\" x 9' 3\" (95 sqft)\n",
      "Play Room                2.29m x 2.04m (4.6 sqm) - 7' 6\" x 6' 8\" (50 sqft)\n",
      "Bedroom 1                4.05m x 3.38m (13.7 sqm) - 13' 3\" x 11' 1\" (147 sqft)\n",
      "Bedroom 2                4.11m x 2.29m (9.4 sqm) - 13' 5\" x 7' 6\" (101 sqft)\n",
      "Bedroom 3                3.36m x 2.86m (9.6 sqm) - 11' x 9' 4\" (103 sqft)\n",
      "Garage                   5.09m x 2.48m (12.6 sqm) - 16' 8\" x 8' 1\" (136 sqft)\n"
     ]
    }
   ],
   "source": [
    "rooms = soup.select(\"li\")\n",
    "for room in rooms:\n",
    "    name = room.strong.string.split('-')[-1].strip()\n",
    "    try:\n",
    "        area = room.i.string\n",
    "    except AttributeError:\n",
    "        area = 1\n",
    "    print(\"{:25s}{}\".format(name, area))"
   ],
   "metadata": {
    "collapsed": false,
    "pycharm": {
     "name": "#%%\n"
    }
   }
  },
  {
   "cell_type": "markdown",
   "source": [
    "## EweMove Description S4 Summary"
   ],
   "metadata": {
    "collapsed": false,
    "pycharm": {
     "name": "#%% md\n"
    }
   }
  },
  {
   "cell_type": "code",
   "execution_count": 10,
   "outputs": [],
   "source": [
    "string = data[\"EweMove Description S4 Summary\"][26]\n",
    "soup = BeautifulSoup(string, \"html.parser\")"
   ],
   "metadata": {
    "collapsed": false,
    "pycharm": {
     "name": "#%%\n"
    }
   }
  },
  {
   "cell_type": "code",
   "execution_count": 11,
   "outputs": [
    {
     "data": {
      "text/plain": "['<b>HUGE Summerhouse</b><br>',\n '<b>Extra long garage</b><br>',\n '<b>Parking for 4 cars</b><br>',\n '<b>Great internal space</b><br>',\n \"<b>South-facing garden</b></li><br><br>Call 24/7 to register your interest or go online to book a viewing at a time that suits you - it's that easy.\"]"
     },
     "execution_count": 11,
     "metadata": {},
     "output_type": "execute_result"
    }
   ],
   "source": [
    "summary = list(filter(lambda s: s.startswith(\"<b>\"), string.split(\"<li>\")))\n",
    "summary"
   ],
   "metadata": {
    "collapsed": false,
    "pycharm": {
     "name": "#%%\n"
    }
   }
  },
  {
   "cell_type": "code",
   "execution_count": 12,
   "outputs": [
    {
     "name": "stdout",
     "output_type": "stream",
     "text": [
      "('HUGE Summerhouse',)\n",
      "('Extra long garage',)\n",
      "('Parking for 4 cars',)\n",
      "('Great internal space',)\n",
      "('South-facing garden', \"Call 24/7 to register your interest or go online to book a viewing at a time that suits you - it's that easy.\")\n"
     ]
    }
   ],
   "source": [
    "single = parse.compile(\"<b>{}</b><br>\")\n",
    "double = parse.compile(\"<b>{}</b><br><br>{}<br><br>\")\n",
    "final1 = parse.compile(\"<b>{}</b><br><br>{}<br></li>\")\n",
    "final2 = parse.compile(\"<b>{}</b><br><br>{}<br></li><br><br>{}\")\n",
    "final3 = parse.compile(\"<b>{}</b></li>\")\n",
    "final4 = parse.compile(\"<b>{}</b></li><br><br>{}\")\n",
    "parsers = [single, double, final1, final2, final3, final4]\n",
    "for s in summary:\n",
    "    result = list(filter(lambda r: r is not None, map(lambda p: p.parse(s), parsers)))[0]\n",
    "    print(result.fixed)"
   ],
   "metadata": {
    "collapsed": false,
    "pycharm": {
     "name": "#%%\n"
    }
   }
  },
  {
   "cell_type": "markdown",
   "source": [
    "## Price / Rent"
   ],
   "metadata": {
    "collapsed": false,
    "pycharm": {
     "name": "#%% md\n"
    }
   }
  },
  {
   "cell_type": "code",
   "execution_count": 13,
   "outputs": [
    {
     "data": {
      "text/plain": "\"<font color='blue'>&pound;0</font><br>\""
     },
     "execution_count": 13,
     "metadata": {},
     "output_type": "execute_result"
    }
   ],
   "source": [
    "string = data[\"Price / Rent\"][3632]\n",
    "string"
   ],
   "metadata": {
    "collapsed": false,
    "pycharm": {
     "name": "#%%\n"
    }
   }
  },
  {
   "cell_type": "code",
   "execution_count": 14,
   "outputs": [
    {
     "name": "stdout",
     "output_type": "stream",
     "text": [
      "\n",
      "0\n"
     ]
    }
   ],
   "source": [
    "price_qualifier = string.split(\"<br>\")[-1]\n",
    "\n",
    "pattern = \"[-+]?[.]?[\\d]+(?:,\\d\\d\\d)*[\\.]?\\d*(?:[eE][-+]?\\d+)?\"\n",
    "price = re.findall(pattern, string)[0]\n",
    "\n",
    "print(price_qualifier)\n",
    "print(price)"
   ],
   "metadata": {
    "collapsed": false,
    "pycharm": {
     "name": "#%%\n"
    }
   }
  },
  {
   "cell_type": "markdown",
   "source": [
    "# Preprocess records"
   ],
   "metadata": {
    "collapsed": false,
    "pycharm": {
     "name": "#%% md\n"
    }
   }
  },
  {
   "cell_type": "markdown",
   "source": [
    "## Parking spaces"
   ],
   "metadata": {
    "collapsed": false,
    "pycharm": {
     "name": "#%% md\n"
    }
   }
  },
  {
   "cell_type": "code",
   "execution_count": 15,
   "outputs": [
    {
     "data": {
      "text/plain": "  RTD3307_parking1 - Parking Description  \\\n0                              Allocated   \n1                                    NaN   \n2                              On Street   \n3                                    NaN   \n4                               Driveway   \n\n  RTD3307_parking2 - Parking Description  \\\n0                             Off Street   \n1                                    NaN   \n2                                    NaN   \n3                                    NaN   \n4                                 Garage   \n\n  RTD3307_parking3 - Parking Description  \n0                              Residents  \n1                                    NaN  \n2                                    NaN  \n3                                    NaN  \n4                             Off Street  ",
      "text/html": "<div>\n<style scoped>\n    .dataframe tbody tr th:only-of-type {\n        vertical-align: middle;\n    }\n\n    .dataframe tbody tr th {\n        vertical-align: top;\n    }\n\n    .dataframe thead th {\n        text-align: right;\n    }\n</style>\n<table border=\"1\" class=\"dataframe\">\n  <thead>\n    <tr style=\"text-align: right;\">\n      <th></th>\n      <th>RTD3307_parking1 - Parking Description</th>\n      <th>RTD3307_parking2 - Parking Description</th>\n      <th>RTD3307_parking3 - Parking Description</th>\n    </tr>\n  </thead>\n  <tbody>\n    <tr>\n      <th>0</th>\n      <td>Allocated</td>\n      <td>Off Street</td>\n      <td>Residents</td>\n    </tr>\n    <tr>\n      <th>1</th>\n      <td>NaN</td>\n      <td>NaN</td>\n      <td>NaN</td>\n    </tr>\n    <tr>\n      <th>2</th>\n      <td>On Street</td>\n      <td>NaN</td>\n      <td>NaN</td>\n    </tr>\n    <tr>\n      <th>3</th>\n      <td>NaN</td>\n      <td>NaN</td>\n      <td>NaN</td>\n    </tr>\n    <tr>\n      <th>4</th>\n      <td>Driveway</td>\n      <td>Garage</td>\n      <td>Off Street</td>\n    </tr>\n  </tbody>\n</table>\n</div>"
     },
     "execution_count": 15,
     "metadata": {},
     "output_type": "execute_result"
    }
   ],
   "source": [
    "parkings_name = list(filter(lambda s: \"parking\" in s, data.columns))\n",
    "parkings = data[parkings_name].copy()\n",
    "parkings.head()"
   ],
   "metadata": {
    "collapsed": false,
    "pycharm": {
     "name": "#%%\n"
    }
   }
  },
  {
   "cell_type": "markdown",
   "source": [
    "### Types of parking spaces for every property\n",
    "First obtaining all the parking types in the original dataset, then get the parking types for every property"
   ],
   "metadata": {
    "collapsed": false,
    "pycharm": {
     "name": "#%% md\n"
    }
   }
  },
  {
   "cell_type": "code",
   "execution_count": 16,
   "outputs": [
    {
     "data": {
      "text/plain": "[('Allocated', 343),\n ('Communal', 81),\n ('Covered', 36),\n ('Driveway', 1257),\n ('Garage', 842),\n ('Gated', 89),\n ('None', 6187),\n ('Off Street', 1209),\n ('On Street', 458),\n ('Permit', 70),\n ('Private', 258),\n ('Rear', 27),\n ('Residents', 90)]"
     },
     "execution_count": 16,
     "metadata": {},
     "output_type": "execute_result"
    }
   ],
   "source": [
    "parkings = parkings.fillna(\"None\")\n",
    "types, counts = np.unique(parkings.to_numpy().flatten(), return_counts=True)\n",
    "list(zip(types, counts))"
   ],
   "metadata": {
    "collapsed": false,
    "pycharm": {
     "name": "#%%\n"
    }
   }
  },
  {
   "cell_type": "code",
   "execution_count": 17,
   "outputs": [],
   "source": [
    "def get_parking_spaces_for_property(first: str, second: str, third: str):\n",
    "    parking_types = {\"Allocated\": 0, \"Off Street\": 0, \"Residents\": 0, \"On Street\": 0, \"Driveway\": 0, \"Garage\": 0,\n",
    "                     \"Permit\": 0, \"Private\": 0, \"Gated\": 0, \"Covered\": 0, \"Communal\": 0, \"Rear\": 0}\n",
    "\n",
    "    if first in parking_types.keys():\n",
    "        parking_types[first] += 1\n",
    "    if second in parking_types.keys():\n",
    "        parking_types[second] += 1\n",
    "    if third in parking_types.keys():\n",
    "        parking_types[third] += 1\n",
    "\n",
    "    return parking_types"
   ],
   "metadata": {
    "collapsed": false,
    "pycharm": {
     "name": "#%%\n"
    }
   }
  },
  {
   "cell_type": "code",
   "execution_count": 18,
   "outputs": [],
   "source": [
    "parking_types = {key: [] for key in types if key != \"None\"}\n",
    "for i in range(len(parkings)):\n",
    "    first = parkings.iloc[i, 0]\n",
    "    second = parkings.iloc[i, 1]\n",
    "    third = parkings.iloc[i, 2]\n",
    "    types = get_parking_spaces_for_property(first, second, third)\n",
    "\n",
    "    list(map(lambda value, d: parking_types[d].append(types[value]), types.keys(), types.keys()))"
   ],
   "metadata": {
    "collapsed": false,
    "pycharm": {
     "name": "#%%\n"
    }
   }
  },
  {
   "cell_type": "code",
   "execution_count": 19,
   "outputs": [
    {
     "name": "stdout",
     "output_type": "stream",
     "text": [
      "Allocated \t  343\t 3649\n",
      "Communal  \t   81\t 3649\n",
      "Covered   \t   36\t 3649\n",
      "Driveway  \t 1257\t 3649\n",
      "Garage    \t  842\t 3649\n",
      "Gated     \t   89\t 3649\n",
      "Off Street\t 1209\t 3649\n",
      "On Street \t  458\t 3649\n",
      "Permit    \t   70\t 3649\n",
      "Private   \t  258\t 3649\n",
      "Rear      \t   27\t 3649\n",
      "Residents \t   90\t 3649\n"
     ]
    }
   ],
   "source": [
    "for k, v in parking_types.items():\n",
    "    print(\"{:10s}\\t{:5d}\\t{:5d}\".format(k, sum(v), len(v)))"
   ],
   "metadata": {
    "collapsed": false,
    "pycharm": {
     "name": "#%%\n"
    }
   }
  },
  {
   "cell_type": "markdown",
   "source": [
    "### Number of parking spaces for every property"
   ],
   "metadata": {
    "collapsed": false,
    "pycharm": {
     "name": "#%% md\n"
    }
   }
  },
  {
   "cell_type": "code",
   "execution_count": 20,
   "outputs": [
    {
     "data": {
      "text/plain": "   parking num\n0            3\n1            0\n2            1\n3            0\n4            3",
      "text/html": "<div>\n<style scoped>\n    .dataframe tbody tr th:only-of-type {\n        vertical-align: middle;\n    }\n\n    .dataframe tbody tr th {\n        vertical-align: top;\n    }\n\n    .dataframe thead th {\n        text-align: right;\n    }\n</style>\n<table border=\"1\" class=\"dataframe\">\n  <thead>\n    <tr style=\"text-align: right;\">\n      <th></th>\n      <th>parking num</th>\n    </tr>\n  </thead>\n  <tbody>\n    <tr>\n      <th>0</th>\n      <td>3</td>\n    </tr>\n    <tr>\n      <th>1</th>\n      <td>0</td>\n    </tr>\n    <tr>\n      <th>2</th>\n      <td>1</td>\n    </tr>\n    <tr>\n      <th>3</th>\n      <td>0</td>\n    </tr>\n    <tr>\n      <th>4</th>\n      <td>3</td>\n    </tr>\n  </tbody>\n</table>\n</div>"
     },
     "execution_count": 20,
     "metadata": {},
     "output_type": "execute_result"
    }
   ],
   "source": [
    "parkings = data[parkings_name]\n",
    "parking_num = [parkings.iloc[i].count() for i in range(len(parkings))]\n",
    "parking_num = pd.DataFrame({\"parking num\": parking_num})\n",
    "parking_num.head()"
   ],
   "metadata": {
    "collapsed": false,
    "pycharm": {
     "name": "#%%\n"
    }
   }
  },
  {
   "cell_type": "code",
   "execution_count": 21,
   "outputs": [
    {
     "data": {
      "text/plain": "parking num    4760\ndtype: int64"
     },
     "execution_count": 21,
     "metadata": {},
     "output_type": "execute_result"
    }
   ],
   "source": [
    "parking_num.sum()"
   ],
   "metadata": {
    "collapsed": false,
    "pycharm": {
     "name": "#%%\n"
    }
   }
  },
  {
   "cell_type": "markdown",
   "source": [
    "## Outside spaces"
   ],
   "metadata": {
    "collapsed": false,
    "pycharm": {
     "name": "#%% md\n"
    }
   }
  },
  {
   "cell_type": "code",
   "execution_count": 22,
   "outputs": [
    {
     "data": {
      "text/plain": "  RTD3308_outside_space1 - Outside Space Description  \\\n0                                    Communal Garden   \n1                                                NaN   \n2                                        Rear Garden   \n3                                                NaN   \n4                                        Back Garden   \n\n  RTD3308_outside_space2 - Outside Space Description  \\\n0                                                NaN   \n1                                                NaN   \n2                                     Private Garden   \n3                                                NaN   \n4                                    Enclosed Garden   \n\n  RTD3308_outside_space3 - Outside Space Description  \n0                                                NaN  \n1                                                NaN  \n2                                                NaN  \n3                                                NaN  \n4                                     Private Garden  ",
      "text/html": "<div>\n<style scoped>\n    .dataframe tbody tr th:only-of-type {\n        vertical-align: middle;\n    }\n\n    .dataframe tbody tr th {\n        vertical-align: top;\n    }\n\n    .dataframe thead th {\n        text-align: right;\n    }\n</style>\n<table border=\"1\" class=\"dataframe\">\n  <thead>\n    <tr style=\"text-align: right;\">\n      <th></th>\n      <th>RTD3308_outside_space1 - Outside Space Description</th>\n      <th>RTD3308_outside_space2 - Outside Space Description</th>\n      <th>RTD3308_outside_space3 - Outside Space Description</th>\n    </tr>\n  </thead>\n  <tbody>\n    <tr>\n      <th>0</th>\n      <td>Communal Garden</td>\n      <td>NaN</td>\n      <td>NaN</td>\n    </tr>\n    <tr>\n      <th>1</th>\n      <td>NaN</td>\n      <td>NaN</td>\n      <td>NaN</td>\n    </tr>\n    <tr>\n      <th>2</th>\n      <td>Rear Garden</td>\n      <td>Private Garden</td>\n      <td>NaN</td>\n    </tr>\n    <tr>\n      <th>3</th>\n      <td>NaN</td>\n      <td>NaN</td>\n      <td>NaN</td>\n    </tr>\n    <tr>\n      <th>4</th>\n      <td>Back Garden</td>\n      <td>Enclosed Garden</td>\n      <td>Private Garden</td>\n    </tr>\n  </tbody>\n</table>\n</div>"
     },
     "execution_count": 22,
     "metadata": {},
     "output_type": "execute_result"
    }
   ],
   "source": [
    "outside_name = list(filter(lambda s: \"outside_space\" in s, data.columns))\n",
    "outside = data[outside_name].copy()\n",
    "outside.head()"
   ],
   "metadata": {
    "collapsed": false,
    "pycharm": {
     "name": "#%%\n"
    }
   }
  },
  {
   "cell_type": "markdown",
   "source": [
    "### Types of outside spaces for every property"
   ],
   "metadata": {
    "collapsed": false,
    "pycharm": {
     "name": "#%% md\n"
    }
   }
  },
  {
   "cell_type": "code",
   "execution_count": 23,
   "outputs": [],
   "source": [
    "def record_types(first: str, second: str, third: str, types: dict):\n",
    "    if first in types.keys():\n",
    "        types[first] += 1\n",
    "    if second in types.keys():\n",
    "        types[second] += 1\n",
    "    if third in types.keys():\n",
    "        types[third] += 1\n",
    "\n",
    "    return types"
   ],
   "metadata": {
    "collapsed": false,
    "pycharm": {
     "name": "#%%\n"
    }
   }
  },
  {
   "cell_type": "code",
   "execution_count": 24,
   "outputs": [
    {
     "data": {
      "text/plain": "[('Back Garden', 1366),\n ('Communal Garden', 227),\n ('Enclosed Garden', 735),\n ('Front Garden', 682),\n ('None', 6012),\n ('Patio', 431),\n ('Private Garden', 599),\n ('Rear Garden', 802),\n ('Terrace', 93)]"
     },
     "execution_count": 24,
     "metadata": {},
     "output_type": "execute_result"
    }
   ],
   "source": [
    "outside = outside.fillna(\"None\")\n",
    "types, counts = np.unique(outside.to_numpy().flatten(), return_counts=True)\n",
    "list(zip(types, counts))"
   ],
   "metadata": {
    "collapsed": false,
    "pycharm": {
     "name": "#%%\n"
    }
   }
  },
  {
   "cell_type": "code",
   "execution_count": 25,
   "outputs": [],
   "source": [
    "outside_types = {key: [] for key in types if key != \"None\"}\n",
    "for i in range(len(outside)):\n",
    "    types = {key: 0 for key in types if key != \"None\"}\n",
    "    first = outside.iloc[i, 0]\n",
    "    second = outside.iloc[i, 1]\n",
    "    third = outside.iloc[i, 2]\n",
    "    types = record_types(first, second, third, types)\n",
    "\n",
    "    list(map(lambda value, d: outside_types[d].append(types[value]), types.keys(), types.keys()))"
   ],
   "metadata": {
    "collapsed": false,
    "pycharm": {
     "name": "#%%\n"
    }
   }
  },
  {
   "cell_type": "code",
   "execution_count": 26,
   "outputs": [
    {
     "name": "stdout",
     "output_type": "stream",
     "text": [
      "Back Garden     1366\n",
      "Communal Garden  227\n",
      "Enclosed Garden  735\n",
      "Front Garden     682\n",
      "Patio            431\n",
      "Private Garden   599\n",
      "Rear Garden      802\n",
      "Terrace           93\n"
     ]
    }
   ],
   "source": [
    "for k, v in outside_types.items():\n",
    "    print(\"{:15s}{:5d}\".format(k, sum(v)))"
   ],
   "metadata": {
    "collapsed": false,
    "pycharm": {
     "name": "#%%\n"
    }
   }
  },
  {
   "cell_type": "markdown",
   "source": [
    "### Number of outside spaces for every property"
   ],
   "metadata": {
    "collapsed": false,
    "pycharm": {
     "name": "#%% md\n"
    }
   }
  },
  {
   "cell_type": "code",
   "execution_count": 27,
   "outputs": [
    {
     "data": {
      "text/plain": "   outside_num\n0            1\n1            0\n2            2\n3            0\n4            3",
      "text/html": "<div>\n<style scoped>\n    .dataframe tbody tr th:only-of-type {\n        vertical-align: middle;\n    }\n\n    .dataframe tbody tr th {\n        vertical-align: top;\n    }\n\n    .dataframe thead th {\n        text-align: right;\n    }\n</style>\n<table border=\"1\" class=\"dataframe\">\n  <thead>\n    <tr style=\"text-align: right;\">\n      <th></th>\n      <th>outside_num</th>\n    </tr>\n  </thead>\n  <tbody>\n    <tr>\n      <th>0</th>\n      <td>1</td>\n    </tr>\n    <tr>\n      <th>1</th>\n      <td>0</td>\n    </tr>\n    <tr>\n      <th>2</th>\n      <td>2</td>\n    </tr>\n    <tr>\n      <th>3</th>\n      <td>0</td>\n    </tr>\n    <tr>\n      <th>4</th>\n      <td>3</td>\n    </tr>\n  </tbody>\n</table>\n</div>"
     },
     "execution_count": 27,
     "metadata": {},
     "output_type": "execute_result"
    }
   ],
   "source": [
    "outside = data[outside_name]\n",
    "outside_num = [outside.iloc[i].count() for i in range(len(outside))]\n",
    "temp = pd.DataFrame({\"outside_num\": outside_num})\n",
    "temp.head()"
   ],
   "metadata": {
    "collapsed": false,
    "pycharm": {
     "name": "#%%\n"
    }
   }
  },
  {
   "cell_type": "code",
   "execution_count": 28,
   "outputs": [
    {
     "data": {
      "text/plain": "outside_num    4935\ndtype: int64"
     },
     "execution_count": 28,
     "metadata": {},
     "output_type": "execute_result"
    }
   ],
   "source": [
    "temp.sum()"
   ],
   "metadata": {
    "collapsed": false,
    "pycharm": {
     "name": "#%%\n"
    }
   }
  },
  {
   "cell_type": "markdown",
   "source": [
    "## Condition"
   ],
   "metadata": {
    "collapsed": false,
    "pycharm": {
     "name": "#%% md\n"
    }
   }
  },
  {
   "cell_type": "code",
   "execution_count": 29,
   "outputs": [
    {
     "data": {
      "text/plain": "  RTD3316_condition1 - Condition Description\n0                                       Good\n1                                        NaN\n2                                       Good\n3                                        NaN\n4                                       Good",
      "text/html": "<div>\n<style scoped>\n    .dataframe tbody tr th:only-of-type {\n        vertical-align: middle;\n    }\n\n    .dataframe tbody tr th {\n        vertical-align: top;\n    }\n\n    .dataframe thead th {\n        text-align: right;\n    }\n</style>\n<table border=\"1\" class=\"dataframe\">\n  <thead>\n    <tr style=\"text-align: right;\">\n      <th></th>\n      <th>RTD3316_condition1 - Condition Description</th>\n    </tr>\n  </thead>\n  <tbody>\n    <tr>\n      <th>0</th>\n      <td>Good</td>\n    </tr>\n    <tr>\n      <th>1</th>\n      <td>NaN</td>\n    </tr>\n    <tr>\n      <th>2</th>\n      <td>Good</td>\n    </tr>\n    <tr>\n      <th>3</th>\n      <td>NaN</td>\n    </tr>\n    <tr>\n      <th>4</th>\n      <td>Good</td>\n    </tr>\n  </tbody>\n</table>\n</div>"
     },
     "execution_count": 29,
     "metadata": {},
     "output_type": "execute_result"
    }
   ],
   "source": [
    "condition_names = list(filter(lambda s: \"condition\" in s, data.columns))\n",
    "condition = data[condition_names].copy()\n",
    "condition.head()"
   ],
   "metadata": {
    "collapsed": false,
    "pycharm": {
     "name": "#%%\n"
    }
   }
  },
  {
   "cell_type": "code",
   "execution_count": 30,
   "outputs": [
    {
     "data": {
      "text/plain": "  RTD3316_condition1 - Condition Description\n0                                       Good\n1                                       None\n2                                       Good\n3                                       None\n4                                       Good",
      "text/html": "<div>\n<style scoped>\n    .dataframe tbody tr th:only-of-type {\n        vertical-align: middle;\n    }\n\n    .dataframe tbody tr th {\n        vertical-align: top;\n    }\n\n    .dataframe thead th {\n        text-align: right;\n    }\n</style>\n<table border=\"1\" class=\"dataframe\">\n  <thead>\n    <tr style=\"text-align: right;\">\n      <th></th>\n      <th>RTD3316_condition1 - Condition Description</th>\n    </tr>\n  </thead>\n  <tbody>\n    <tr>\n      <th>0</th>\n      <td>Good</td>\n    </tr>\n    <tr>\n      <th>1</th>\n      <td>None</td>\n    </tr>\n    <tr>\n      <th>2</th>\n      <td>Good</td>\n    </tr>\n    <tr>\n      <th>3</th>\n      <td>None</td>\n    </tr>\n    <tr>\n      <th>4</th>\n      <td>Good</td>\n    </tr>\n  </tbody>\n</table>\n</div>"
     },
     "execution_count": 30,
     "metadata": {},
     "output_type": "execute_result"
    }
   ],
   "source": [
    "condition = condition.fillna(\"None\")\n",
    "condition.head()"
   ],
   "metadata": {
    "collapsed": false,
    "pycharm": {
     "name": "#%%\n"
    }
   }
  },
  {
   "cell_type": "markdown",
   "source": [
    "## Heating"
   ],
   "metadata": {
    "collapsed": false,
    "pycharm": {
     "name": "#%% md\n"
    }
   }
  },
  {
   "cell_type": "code",
   "execution_count": 31,
   "outputs": [
    {
     "data": {
      "text/plain": "  RTD3318_heating1 - Heating Description  \\\n0                         Double Glazing   \n1                                    NaN   \n2                                Central   \n3                                    NaN   \n4                                Central   \n\n  RTD3318_heating2 - Heating Description  \\\n0                               Electric   \n1                                    NaN   \n2                            Gas Central   \n3                                    NaN   \n4                                    Gas   \n\n  RTD3318_heating3 - Heating Description  \n0                          Night Storage  \n1                                    NaN  \n2                         Double Glazing  \n3                                    NaN  \n4                         Double Glazing  ",
      "text/html": "<div>\n<style scoped>\n    .dataframe tbody tr th:only-of-type {\n        vertical-align: middle;\n    }\n\n    .dataframe tbody tr th {\n        vertical-align: top;\n    }\n\n    .dataframe thead th {\n        text-align: right;\n    }\n</style>\n<table border=\"1\" class=\"dataframe\">\n  <thead>\n    <tr style=\"text-align: right;\">\n      <th></th>\n      <th>RTD3318_heating1 - Heating Description</th>\n      <th>RTD3318_heating2 - Heating Description</th>\n      <th>RTD3318_heating3 - Heating Description</th>\n    </tr>\n  </thead>\n  <tbody>\n    <tr>\n      <th>0</th>\n      <td>Double Glazing</td>\n      <td>Electric</td>\n      <td>Night Storage</td>\n    </tr>\n    <tr>\n      <th>1</th>\n      <td>NaN</td>\n      <td>NaN</td>\n      <td>NaN</td>\n    </tr>\n    <tr>\n      <th>2</th>\n      <td>Central</td>\n      <td>Gas Central</td>\n      <td>Double Glazing</td>\n    </tr>\n    <tr>\n      <th>3</th>\n      <td>NaN</td>\n      <td>NaN</td>\n      <td>NaN</td>\n    </tr>\n    <tr>\n      <th>4</th>\n      <td>Central</td>\n      <td>Gas</td>\n      <td>Double Glazing</td>\n    </tr>\n  </tbody>\n</table>\n</div>"
     },
     "execution_count": 31,
     "metadata": {},
     "output_type": "execute_result"
    }
   ],
   "source": [
    "heating_names = list(filter(lambda s: \"heating\" in s, data.columns))\n",
    "heating = data[heating_names].copy()\n",
    "heating.head()"
   ],
   "metadata": {
    "collapsed": false,
    "pycharm": {
     "name": "#%%\n"
    }
   }
  },
  {
   "cell_type": "code",
   "execution_count": 32,
   "outputs": [
    {
     "data": {
      "text/plain": "[('Air Conditioning', 6),\n ('Central', 476),\n ('Double Glazing', 1550),\n ('Eco-Friendly', 17),\n ('Electric', 183),\n ('Gas', 493),\n ('Gas Central', 1814),\n ('Night Storage', 24),\n ('None', 6270),\n ('Oil', 63),\n ('Solar', 15),\n ('Solar Water', 2),\n ('Under Floor', 34)]"
     },
     "execution_count": 32,
     "metadata": {},
     "output_type": "execute_result"
    }
   ],
   "source": [
    "heating = heating.fillna(\"None\")\n",
    "types, count = np.unique(heating.to_numpy().flatten(), return_counts=True)\n",
    "list(zip(types, count))"
   ],
   "metadata": {
    "collapsed": false,
    "pycharm": {
     "name": "#%%\n"
    }
   }
  },
  {
   "cell_type": "markdown",
   "source": [
    "### Types of heating for every property"
   ],
   "metadata": {
    "collapsed": false,
    "pycharm": {
     "name": "#%% md\n"
    }
   }
  },
  {
   "cell_type": "code",
   "execution_count": 33,
   "outputs": [],
   "source": [
    "heating_types = {key: [] for key in types if key != \"None\"}\n",
    "for i in range(len(heating)):\n",
    "    types = {key: 0 for key in types if key != \"None\"}\n",
    "\n",
    "    first = heating.iloc[i, 0]\n",
    "    second = heating.iloc[i, 1]\n",
    "    third = heating.iloc[i, 2]\n",
    "    types = record_types(first, second, third, types)\n",
    "\n",
    "    list(map(lambda d: heating_types[d].append(types[d]), types.keys()))"
   ],
   "metadata": {
    "collapsed": false,
    "pycharm": {
     "name": "#%%\n"
    }
   }
  },
  {
   "cell_type": "code",
   "execution_count": 34,
   "outputs": [
    {
     "name": "stdout",
     "output_type": "stream",
     "text": [
      "Air Conditioning        6\n",
      "Central               476\n",
      "Double Glazing       1550\n",
      "Eco-Friendly           17\n",
      "Electric              183\n",
      "Gas                   493\n",
      "Gas Central          1814\n",
      "Night Storage          24\n",
      "Oil                    63\n",
      "Solar                  15\n",
      "Solar Water             2\n",
      "Under Floor            34\n"
     ]
    }
   ],
   "source": [
    "for k, v in heating_types.items():\n",
    "    print(\"{:20s}{:5d}\".format(k, sum(v)))"
   ],
   "metadata": {
    "collapsed": false,
    "pycharm": {
     "name": "#%%\n"
    }
   }
  },
  {
   "cell_type": "markdown",
   "source": [
    "### Number of heating"
   ],
   "metadata": {
    "collapsed": false,
    "pycharm": {
     "name": "#%% md\n"
    }
   }
  },
  {
   "cell_type": "code",
   "execution_count": 35,
   "outputs": [
    {
     "data": {
      "text/plain": "   heating_num\n0            3\n1            0\n2            3\n3            0\n4            3",
      "text/html": "<div>\n<style scoped>\n    .dataframe tbody tr th:only-of-type {\n        vertical-align: middle;\n    }\n\n    .dataframe tbody tr th {\n        vertical-align: top;\n    }\n\n    .dataframe thead th {\n        text-align: right;\n    }\n</style>\n<table border=\"1\" class=\"dataframe\">\n  <thead>\n    <tr style=\"text-align: right;\">\n      <th></th>\n      <th>heating_num</th>\n    </tr>\n  </thead>\n  <tbody>\n    <tr>\n      <th>0</th>\n      <td>3</td>\n    </tr>\n    <tr>\n      <th>1</th>\n      <td>0</td>\n    </tr>\n    <tr>\n      <th>2</th>\n      <td>3</td>\n    </tr>\n    <tr>\n      <th>3</th>\n      <td>0</td>\n    </tr>\n    <tr>\n      <th>4</th>\n      <td>3</td>\n    </tr>\n  </tbody>\n</table>\n</div>"
     },
     "execution_count": 35,
     "metadata": {},
     "output_type": "execute_result"
    }
   ],
   "source": [
    "heating = data[heating_names]\n",
    "heating_num = [heating.iloc[i].count() for i in range(len(heating))]\n",
    "temp = pd.DataFrame({\"heating_num\": heating_num})\n",
    "temp.head()"
   ],
   "metadata": {
    "collapsed": false,
    "pycharm": {
     "name": "#%%\n"
    }
   }
  },
  {
   "cell_type": "code",
   "execution_count": 36,
   "outputs": [
    {
     "data": {
      "text/plain": "heating_num    4677\ndtype: int64"
     },
     "execution_count": 36,
     "metadata": {},
     "output_type": "execute_result"
    }
   ],
   "source": [
    "temp.sum()"
   ],
   "metadata": {
    "collapsed": false,
    "pycharm": {
     "name": "#%%\n"
    }
   }
  },
  {
   "cell_type": "markdown",
   "source": [
    "## Accessibility"
   ],
   "metadata": {
    "collapsed": false,
    "pycharm": {
     "name": "#%% md\n"
    }
   }
  },
  {
   "cell_type": "code",
   "execution_count": 37,
   "outputs": [
    {
     "data": {
      "text/plain": "  RTD3317_accessibility1 - accessibility Description  \\\n0                  Not suitable for wheelchair users   \n1                                                NaN   \n2                                                NaN   \n3                                                NaN   \n4                                       Level access   \n\n  RTD3317_accessibility2 - accessibility Description  \\\n0                                                NaN   \n1                                                NaN   \n2                                                NaN   \n3                                                NaN   \n4                                                NaN   \n\n  RTD3317_accessibility3 - accessibility Description  \n0                                                NaN  \n1                                                NaN  \n2                                                NaN  \n3                                                NaN  \n4                                                NaN  ",
      "text/html": "<div>\n<style scoped>\n    .dataframe tbody tr th:only-of-type {\n        vertical-align: middle;\n    }\n\n    .dataframe tbody tr th {\n        vertical-align: top;\n    }\n\n    .dataframe thead th {\n        text-align: right;\n    }\n</style>\n<table border=\"1\" class=\"dataframe\">\n  <thead>\n    <tr style=\"text-align: right;\">\n      <th></th>\n      <th>RTD3317_accessibility1 - accessibility Description</th>\n      <th>RTD3317_accessibility2 - accessibility Description</th>\n      <th>RTD3317_accessibility3 - accessibility Description</th>\n    </tr>\n  </thead>\n  <tbody>\n    <tr>\n      <th>0</th>\n      <td>Not suitable for wheelchair users</td>\n      <td>NaN</td>\n      <td>NaN</td>\n    </tr>\n    <tr>\n      <th>1</th>\n      <td>NaN</td>\n      <td>NaN</td>\n      <td>NaN</td>\n    </tr>\n    <tr>\n      <th>2</th>\n      <td>NaN</td>\n      <td>NaN</td>\n      <td>NaN</td>\n    </tr>\n    <tr>\n      <th>3</th>\n      <td>NaN</td>\n      <td>NaN</td>\n      <td>NaN</td>\n    </tr>\n    <tr>\n      <th>4</th>\n      <td>Level access</td>\n      <td>NaN</td>\n      <td>NaN</td>\n    </tr>\n  </tbody>\n</table>\n</div>"
     },
     "execution_count": 37,
     "metadata": {},
     "output_type": "execute_result"
    }
   ],
   "source": [
    "accessibility_name = list(filter(lambda s: \"accessibility\" in s, data.columns))\n",
    "accessibility = data[accessibility_name].copy()\n",
    "accessibility.head()"
   ],
   "metadata": {
    "collapsed": false,
    "pycharm": {
     "name": "#%%\n"
    }
   }
  },
  {
   "cell_type": "code",
   "execution_count": 38,
   "outputs": [],
   "source": [
    "accessibility = accessibility.fillna(\"None\")\n",
    "types, count = np.unique(accessibility.to_numpy().flatten(), return_counts=True)"
   ],
   "metadata": {
    "collapsed": false,
    "pycharm": {
     "name": "#%%\n"
    }
   }
  },
  {
   "cell_type": "markdown",
   "source": [
    "### Types of accessibility"
   ],
   "metadata": {
    "collapsed": false,
    "pycharm": {
     "name": "#%% md\n"
    }
   }
  },
  {
   "cell_type": "code",
   "execution_count": 39,
   "outputs": [],
   "source": [
    "accessibility_type = {key: [] for key in types if key != \"None\"}\n",
    "for i in range(len(accessibility)):\n",
    "    types = {key: 0 for key in types if key != \"None\"}\n",
    "\n",
    "    first = accessibility.iloc[i, 0]\n",
    "    second = accessibility.iloc[i, 1]\n",
    "    third = accessibility.iloc[i, 2]\n",
    "    types = record_types(first, second, third, types)\n",
    "\n",
    "    list(map(lambda d: accessibility_type[d].append(types[d]), types.keys()))"
   ],
   "metadata": {
    "collapsed": false,
    "pycharm": {
     "name": "#%%\n"
    }
   }
  },
  {
   "cell_type": "code",
   "execution_count": 40,
   "outputs": [
    {
     "name": "stdout",
     "output_type": "stream",
     "text": [
      "Level access                         522\n",
      "Lift access                           64\n",
      "Not suitable for wheelchair users    779\n",
      "Ramped access                         24\n",
      "Wet room                              19\n",
      "Wide doorways                         47\n"
     ]
    }
   ],
   "source": [
    "for k, v in accessibility_type.items():\n",
    "    print(\"{:35s}{:5d}\".format(k, sum(v)))"
   ],
   "metadata": {
    "collapsed": false,
    "pycharm": {
     "name": "#%%\n"
    }
   }
  },
  {
   "cell_type": "markdown",
   "source": [
    "### Number of accessibility"
   ],
   "metadata": {
    "collapsed": false,
    "pycharm": {
     "name": "#%% md\n"
    }
   }
  },
  {
   "cell_type": "code",
   "execution_count": 41,
   "outputs": [
    {
     "data": {
      "text/plain": "      accessibility_num\n0                     1\n1                     0\n2                     0\n3                     0\n4                     1\n...                 ...\n3644                  0\n3645                  0\n3646                  0\n3647                  0\n3648                  0\n\n[3649 rows x 1 columns]",
      "text/html": "<div>\n<style scoped>\n    .dataframe tbody tr th:only-of-type {\n        vertical-align: middle;\n    }\n\n    .dataframe tbody tr th {\n        vertical-align: top;\n    }\n\n    .dataframe thead th {\n        text-align: right;\n    }\n</style>\n<table border=\"1\" class=\"dataframe\">\n  <thead>\n    <tr style=\"text-align: right;\">\n      <th></th>\n      <th>accessibility_num</th>\n    </tr>\n  </thead>\n  <tbody>\n    <tr>\n      <th>0</th>\n      <td>1</td>\n    </tr>\n    <tr>\n      <th>1</th>\n      <td>0</td>\n    </tr>\n    <tr>\n      <th>2</th>\n      <td>0</td>\n    </tr>\n    <tr>\n      <th>3</th>\n      <td>0</td>\n    </tr>\n    <tr>\n      <th>4</th>\n      <td>1</td>\n    </tr>\n    <tr>\n      <th>...</th>\n      <td>...</td>\n    </tr>\n    <tr>\n      <th>3644</th>\n      <td>0</td>\n    </tr>\n    <tr>\n      <th>3645</th>\n      <td>0</td>\n    </tr>\n    <tr>\n      <th>3646</th>\n      <td>0</td>\n    </tr>\n    <tr>\n      <th>3647</th>\n      <td>0</td>\n    </tr>\n    <tr>\n      <th>3648</th>\n      <td>0</td>\n    </tr>\n  </tbody>\n</table>\n<p>3649 rows × 1 columns</p>\n</div>"
     },
     "execution_count": 41,
     "metadata": {},
     "output_type": "execute_result"
    }
   ],
   "source": [
    "accessibility = data[accessibility_name]\n",
    "accessibility_num = [accessibility.iloc[i].count() for i in range(len(accessibility))]\n",
    "temp = pd.DataFrame({\"accessibility_num\": accessibility_num})\n",
    "temp"
   ],
   "metadata": {
    "collapsed": false,
    "pycharm": {
     "name": "#%%\n"
    }
   }
  },
  {
   "cell_type": "code",
   "execution_count": 42,
   "outputs": [
    {
     "data": {
      "text/plain": "accessibility_num    1455\ndtype: int64"
     },
     "execution_count": 42,
     "metadata": {},
     "output_type": "execute_result"
    }
   ],
   "source": [
    "temp.sum()"
   ],
   "metadata": {
    "collapsed": false,
    "pycharm": {
     "name": "#%%\n"
    }
   }
  },
  {
   "cell_type": "markdown",
   "source": [
    "## Rooms"
   ],
   "metadata": {
    "collapsed": false,
    "pycharm": {
     "name": "#%% md\n"
    }
   }
  },
  {
   "cell_type": "code",
   "execution_count": 43,
   "outputs": [],
   "source": [
    "extract_area = parse.compile(\"{} ({} sqm){}\")"
   ],
   "metadata": {
    "collapsed": false,
    "pycharm": {
     "name": "#%%\n"
    }
   }
  },
  {
   "cell_type": "markdown",
   "source": [
    "### Bedrooms"
   ],
   "metadata": {
    "collapsed": false,
    "pycharm": {
     "name": "#%% md\n"
    }
   }
  },
  {
   "cell_type": "code",
   "execution_count": 44,
   "outputs": [],
   "source": [
    "info = data[\"EweMove Description S3 Rooms\"]\n",
    "handler = ProcessHTML()\n",
    "for i in info:\n",
    "    handler.EweMove_Description_S3_Rooms(i)"
   ],
   "metadata": {
    "collapsed": false,
    "pycharm": {
     "name": "#%%\n"
    }
   }
  },
  {
   "cell_type": "code",
   "execution_count": 144,
   "outputs": [
    {
     "data": {
      "text/plain": "['Bedroom 6',\n 'Attic Bedroom',\n 'Bedroom (Double)',\n 'Bedroom 8',\n 'Bedroom 4',\n 'Loft Bedroom',\n 'Bedroom 5',\n 'Bedroom 3',\n 'Bedroom 1',\n 'Bedroom (Single) with Ensuite',\n 'Bedroom 7',\n 'Bedroom 2',\n 'Bedroom (Single)',\n 'Bedroom/Living Room',\n 'Master Bedroom with Ensuite',\n 'Bedroom',\n 'Master Bedroom',\n 'Bedroom (Double) with Ensuite']"
     },
     "execution_count": 144,
     "metadata": {},
     "output_type": "execute_result"
    }
   ],
   "source": [
    "bedroom_names = [i for i in handler.s3_rooms_set if \"Bedroom\" in i]\n",
    "bedroom_names"
   ],
   "metadata": {
    "collapsed": false,
    "pycharm": {
     "name": "#%%\n"
    }
   }
  },
  {
   "cell_type": "code",
   "execution_count": 72,
   "outputs": [
    {
     "name": "stdout",
     "output_type": "stream",
     "text": [
      "Living/Dining Room            6.58m x 3.78m (24.8 sqm) - 21' 7\" x 12' 4\" (267 sqft)\n",
      "Bedroom 1                     3.37m x 2.45m (8.2 sqm) - 11' x 8' (88 sqft)\n",
      "Bedroom 2                     2.54m x 2.45m (6.2 sqm) - 8' 4\" x 8' (67 sqft)\n",
      "Bathroom                      2.14m x 2.04m (4.3 sqm) - 7' x 6' 8\" (46 sqft)\n",
      "Bedroom 1                     4.07m x 2.43m (9.8 sqm) - 13' 4\" x 7' 11\" (106 sqft)\n",
      "Shower Room                   0.79m x 1.57m (1.2 sqm) - 2' 7\" x 5' 1\" (13 sqft)\n",
      "Bedroom 2                     3.48m x 2.43m (8.4 sqm) - 11' 5\" x 7' 11\" (91 sqft)\n",
      "Utility Room                  1.6m x 2.76m (4.4 sqm) - 5' 2\" x 9' (47 sqft)\n",
      "Downstairs Cloakroom          1.68m x 1.1m (1.8 sqm) - 5' 6\" x 3' 7\" (19 sqft)\n",
      "Kitchen /  Dining Room        5.33m x 4.58m (24.4 sqm) - 17' 5\" x 15' (262 sqft)\n",
      "Bathroom                      1.98m x 2.37m (4.6 sqm) - 6' 5\" x 7' 9\" (50 sqft)\n",
      "Bedroom 3                     5.74m x 2.31m (13.2 sqm) - 18' 9\" x 7' 6\" (142 sqft)\n",
      "Bedroom 4                     5.34m x 3.13m (16.7 sqm) - 17' 6\" x 10' 3\" (179 sqft)\n",
      "Bathroom                      1\n",
      "Bedroom (Double)              4.3m x 2.44m (10.4 sqm) - 14' 1\" x 8' (112 sqft)\n",
      "Downstairs Cloakroom          1\n",
      "Master Bedroom                4.83m x 2.29m (11 sqm) - 15' 10\" x 7' 6\" (119 sqft)\n",
      "Ensuite Shower Room           1\n",
      "Family Bathroom               1\n",
      "Bedroom 2                     3.24m x 3.01m (9.7 sqm) - 10' 7\" x 9' 10\" (104 sqft)\n",
      "Bedroom 3                     2.86m x 2.62m (7.4 sqm) - 9' 4\" x 8' 7\" (80 sqft)\n",
      "Bedroom 4                     2.86m x 2.62m (7.4 sqm) - 9' 4\" x 8' 7\" (80 sqft)\n"
     ]
    }
   ],
   "source": [
    "for room in handler.s3_rooms[: 5]:\n",
    "    if room is None: continue\n",
    "    for k, v in room.items():\n",
    "        if k in bedroom_names:\n",
    "            print(\"{:30s}{}\".format(k, v))"
   ],
   "metadata": {
    "collapsed": false,
    "pycharm": {
     "name": "#%%\n"
    }
   }
  },
  {
   "cell_type": "markdown",
   "source": [
    "#### Obtain the maximum number of bedrooms in a property"
   ],
   "metadata": {
    "collapsed": false,
    "pycharm": {
     "name": "#%% md\n"
    }
   }
  },
  {
   "cell_type": "code",
   "execution_count": 73,
   "outputs": [],
   "source": [
    "bedrooms_num = []\n",
    "for room in handler.s3_rooms:\n",
    "    if room is None:\n",
    "        bedrooms_num.append(0)\n",
    "        continue\n",
    "\n",
    "    bedrooms_num.append(len([key for key in room.keys() if \"Bedroom\" in key]))\n",
    "max_bedroom_num = max(bedrooms_num)"
   ],
   "metadata": {
    "collapsed": false,
    "pycharm": {
     "name": "#%%\n"
    }
   }
  },
  {
   "cell_type": "markdown",
   "source": [
    "#### Bedroom area"
   ],
   "metadata": {
    "collapsed": false,
    "pycharm": {
     "name": "#%% md\n"
    }
   }
  },
  {
   "cell_type": "code",
   "execution_count": 74,
   "outputs": [],
   "source": [
    "bedroom_names = [\"Bedroom {}\".format(i + 1) for i in range(max_bedroom_num)]\n",
    "bedrooms = []\n",
    "for i in range(len(handler.s3_rooms)):\n",
    "    bedroom_per_property = {key: 0 for key in bedroom_names}\n",
    "    if handler.s3_rooms[i] is None:\n",
    "        bedrooms.append(bedroom_per_property)\n",
    "        continue\n",
    "\n",
    "    num = 1\n",
    "    for k, v in handler.s3_rooms[i].items():\n",
    "        if \"Bedroom\" not in k:\n",
    "            continue\n",
    "\n",
    "        if not isinstance(v, str):\n",
    "            bedroom_per_property[\"Bedroom {}\".format(num)] = 0\n",
    "            num += 1\n",
    "            continue\n",
    "\n",
    "        bedroom_per_property[\"Bedroom {}\".format(num)] = float(extract_area.parse(handler.s3_rooms[i][k])[1])\n",
    "        num += 1\n",
    "\n",
    "    bedrooms.append(bedroom_per_property)"
   ],
   "metadata": {
    "collapsed": false,
    "pycharm": {
     "name": "#%%\n"
    }
   }
  },
  {
   "cell_type": "code",
   "execution_count": 75,
   "outputs": [
    {
     "data": {
      "text/plain": "   Bedroom 1  Bedroom 2  Bedroom 3  Bedroom 4  Bedroom 5  Bedroom 6  \\\n0        8.2        6.2        0.0        0.0        0.0        0.0   \n1        9.8        8.4       13.2       16.7        0.0        0.0   \n2       10.4        0.0        0.0        0.0        0.0        0.0   \n3        0.0        0.0        0.0        0.0        0.0        0.0   \n4       11.0        9.7        7.4        7.4        0.0        0.0   \n\n   Bedroom 7  Bedroom 8  \n0        0.0        0.0  \n1        0.0        0.0  \n2        0.0        0.0  \n3        0.0        0.0  \n4        0.0        0.0  ",
      "text/html": "<div>\n<style scoped>\n    .dataframe tbody tr th:only-of-type {\n        vertical-align: middle;\n    }\n\n    .dataframe tbody tr th {\n        vertical-align: top;\n    }\n\n    .dataframe thead th {\n        text-align: right;\n    }\n</style>\n<table border=\"1\" class=\"dataframe\">\n  <thead>\n    <tr style=\"text-align: right;\">\n      <th></th>\n      <th>Bedroom 1</th>\n      <th>Bedroom 2</th>\n      <th>Bedroom 3</th>\n      <th>Bedroom 4</th>\n      <th>Bedroom 5</th>\n      <th>Bedroom 6</th>\n      <th>Bedroom 7</th>\n      <th>Bedroom 8</th>\n    </tr>\n  </thead>\n  <tbody>\n    <tr>\n      <th>0</th>\n      <td>8.2</td>\n      <td>6.2</td>\n      <td>0.0</td>\n      <td>0.0</td>\n      <td>0.0</td>\n      <td>0.0</td>\n      <td>0.0</td>\n      <td>0.0</td>\n    </tr>\n    <tr>\n      <th>1</th>\n      <td>9.8</td>\n      <td>8.4</td>\n      <td>13.2</td>\n      <td>16.7</td>\n      <td>0.0</td>\n      <td>0.0</td>\n      <td>0.0</td>\n      <td>0.0</td>\n    </tr>\n    <tr>\n      <th>2</th>\n      <td>10.4</td>\n      <td>0.0</td>\n      <td>0.0</td>\n      <td>0.0</td>\n      <td>0.0</td>\n      <td>0.0</td>\n      <td>0.0</td>\n      <td>0.0</td>\n    </tr>\n    <tr>\n      <th>3</th>\n      <td>0.0</td>\n      <td>0.0</td>\n      <td>0.0</td>\n      <td>0.0</td>\n      <td>0.0</td>\n      <td>0.0</td>\n      <td>0.0</td>\n      <td>0.0</td>\n    </tr>\n    <tr>\n      <th>4</th>\n      <td>11.0</td>\n      <td>9.7</td>\n      <td>7.4</td>\n      <td>7.4</td>\n      <td>0.0</td>\n      <td>0.0</td>\n      <td>0.0</td>\n      <td>0.0</td>\n    </tr>\n  </tbody>\n</table>\n</div>"
     },
     "execution_count": 75,
     "metadata": {},
     "output_type": "execute_result"
    }
   ],
   "source": [
    "bedrooms = pd.DataFrame(bedrooms)\n",
    "bedrooms.head()"
   ],
   "metadata": {
    "collapsed": false,
    "pycharm": {
     "name": "#%%\n"
    }
   }
  },
  {
   "cell_type": "markdown",
   "source": [
    "### Kitchen"
   ],
   "metadata": {
    "collapsed": false,
    "pycharm": {
     "name": "#%% md\n"
    }
   }
  },
  {
   "cell_type": "code",
   "execution_count": 50,
   "outputs": [
    {
     "name": "stdout",
     "output_type": "stream",
     "text": [
      "Kitchen                       2.68m x 2.14m (5.7 sqm) - 8' 9\" x 7' (61 sqft)\n",
      "Kitchen /  Dining Room        5.33m x 4.58m (24.4 sqm) - 17' 5\" x 15' (262 sqft)\n",
      "Kitchen                       2.97m x 2.36m (7 sqm) - 9' 8\" x 7' 8\" (75 sqft)\n",
      "Kitchen                       3.99m x 2.61m (10.4 sqm) - 13' 1\" x 8' 6\" (112 sqft)\n",
      "Kitchen                       4.2m x 3.5m (14.7 sqm) - 13' 9\" x 11' 5\" (158 sqft)\n",
      "Kitchen                       3.12m x 2.83m (8.8 sqm) - 10' 2\" x 9' 3\" (95 sqft)\n",
      "Kitchen /  Dining Room        4.5m x 3.7m (16.6 sqm) - 14' 9\" x 12' 1\" (179 sqft)\n",
      "Kitchen Diner                 4.76m x 2.78m (13.2 sqm) - 15' 7\" x 9' 1\" (142 sqft)\n",
      "Kitchen /  Dining Room        2.82m x 4.46m (12.5 sqm) - 9' 3\" x 14' 7\" (135 sqft)\n",
      "Kitchen                       1\n",
      "Kitchen                       7.49m x 3.1m (23.2 sqm) - 24' 6\" x 10' 2\" (249 sqft)\n",
      "Kitchen /  Dining Room        6.5m x 3.73m (24.2 sqm) - 21' 3\" x 12' 2\" (260 sqft)\n",
      "Kitchen                       3.3m x 3m (9.9 sqm) - 10' 9\" x 9' 10\" (106 sqft)\n",
      "Open Plan Living Room / Kitchen7.96m x 4.75m (37.8 sqm) - 26' 1\" x 15' 7\" (406 sqft)\n",
      "Kitchen Diner                 6.9m x 3.4m (23.4 sqm) - 22' 7\" x 11' 1\" (252 sqft)\n",
      "Kitchen                       3.29m x 2.67m (8.7 sqm) - 10' 9\" x 8' 9\" (94 sqft)\n",
      "Kitchen /  Dining Room        2.85m x 6.26m (17.8 sqm) - 9' 4\" x 20' 6\" (192 sqft)\n",
      "Kitchen                       3.76m x 2m (7.5 sqm) - 12' 4\" x 6' 6\" (80 sqft)\n",
      "Kitchen Diner                 2.31m x 3.73m (8.6 sqm) - 7' 7\" x 12' 2\" (93 sqft)\n"
     ]
    }
   ],
   "source": [
    "for room in handler.s3_rooms[: 50]:\n",
    "    if room is None: continue\n",
    "    for k, v in room.items():\n",
    "        if \"kitchen\" in k.lower():\n",
    "            print(\"{:30s}{}\".format(k, v))"
   ],
   "metadata": {
    "collapsed": false,
    "pycharm": {
     "name": "#%%\n"
    }
   }
  },
  {
   "cell_type": "code",
   "execution_count": 51,
   "outputs": [],
   "source": [
    "kitchens = []\n",
    "\n",
    "for i in range(len(handler.s3_rooms)):\n",
    "    kitchen_per_property = 0\n",
    "    if handler.s3_rooms[i] is None:\n",
    "        kitchens.append(kitchen_per_property)\n",
    "        continue\n",
    "\n",
    "    for k, v in handler.s3_rooms[i].items():\n",
    "        if \"kitchen\" in k.lower():\n",
    "            kitchen_per_property = 1\n",
    "            break\n",
    "\n",
    "    kitchens.append(kitchen_per_property)"
   ],
   "metadata": {
    "collapsed": false,
    "pycharm": {
     "name": "#%%\n"
    }
   }
  },
  {
   "cell_type": "code",
   "execution_count": 52,
   "outputs": [
    {
     "data": {
      "text/plain": "   Kitchen\n0        1\n1        1\n2        1\n3        0\n4        1",
      "text/html": "<div>\n<style scoped>\n    .dataframe tbody tr th:only-of-type {\n        vertical-align: middle;\n    }\n\n    .dataframe tbody tr th {\n        vertical-align: top;\n    }\n\n    .dataframe thead th {\n        text-align: right;\n    }\n</style>\n<table border=\"1\" class=\"dataframe\">\n  <thead>\n    <tr style=\"text-align: right;\">\n      <th></th>\n      <th>Kitchen</th>\n    </tr>\n  </thead>\n  <tbody>\n    <tr>\n      <th>0</th>\n      <td>1</td>\n    </tr>\n    <tr>\n      <th>1</th>\n      <td>1</td>\n    </tr>\n    <tr>\n      <th>2</th>\n      <td>1</td>\n    </tr>\n    <tr>\n      <th>3</th>\n      <td>0</td>\n    </tr>\n    <tr>\n      <th>4</th>\n      <td>1</td>\n    </tr>\n  </tbody>\n</table>\n</div>"
     },
     "execution_count": 52,
     "metadata": {},
     "output_type": "execute_result"
    }
   ],
   "source": [
    "kitchens = pd.DataFrame({\"Kitchen\": kitchens})\n",
    "kitchens.head()"
   ],
   "metadata": {
    "collapsed": false,
    "pycharm": {
     "name": "#%%\n"
    }
   }
  },
  {
   "cell_type": "markdown",
   "source": [
    "### Living/Reception"
   ],
   "metadata": {
    "collapsed": false,
    "pycharm": {
     "name": "#%% md\n"
    }
   }
  },
  {
   "cell_type": "code",
   "execution_count": 53,
   "outputs": [
    {
     "name": "stdout",
     "output_type": "stream",
     "text": [
      "Living/Dining Room            6.58m x 3.78m (24.8 sqm) - 21' 7\" x 12' 4\" (267 sqft)\n",
      "Living Room                   4.34m x 4.11m (17.8 sqm) - 14' 3\" x 13' 5\" (192 sqft)\n",
      "Living Room                   4.9m x 3.7m (18.1 sqm) - 16' x 12' 1\" (195 sqft)\n",
      "Living Room                   4.16m x 8.69m (36.1 sqm) - 13' 7\" x 28' 6\" (389 sqft)\n",
      "Living Room                   4.5m x 3.7m (16.6 sqm) - 14' 9\" x 12' 1\" (179 sqft)\n",
      "Living Room                   3.83m x 3.58m (13.7 sqm) - 12' 6\" x 11' 8\" (147 sqft)\n",
      "Reception Room                3.68m x 3.68m (13.5 sqm) - 12' x 12' (145 sqft)\n",
      "Living Room                   3.63m x 4.25m (15.4 sqm) - 11' 10\" x 13' 11\" (166 sqft)\n",
      "Living Room                   3m x 4.12m (12.3 sqm) - 9' 10\" x 13' 6\" (133 sqft)\n",
      "Living Room                   3.6m x 3.73m (13.4 sqm) - 11' 9\" x 12' 2\" (144 sqft)\n"
     ]
    }
   ],
   "source": [
    "living_room_names = [i for i in handler.s3_rooms_set if (\"living\" in i.lower() or \"reception\" in i.lower()) and \"kitchen\" not in i.lower()]\n",
    "for room in handler.s3_rooms[: 50]:\n",
    "    if room is None: continue\n",
    "    for k, v in room.items():\n",
    "        if k in living_room_names:\n",
    "            print(\"{:30s}{}\".format(k, v))"
   ],
   "metadata": {
    "collapsed": false,
    "pycharm": {
     "name": "#%%\n"
    }
   }
  },
  {
   "cell_type": "code",
   "execution_count": 54,
   "outputs": [],
   "source": [
    "receptions = []\n",
    "for i in range(len(handler.s3_rooms)):\n",
    "    reception_per_property = 0\n",
    "    if handler.s3_rooms[i] is None:\n",
    "        receptions.append(reception_per_property)\n",
    "        continue\n",
    "\n",
    "    for k, v in handler.s3_rooms[i].items():\n",
    "        if k in living_room_names and isinstance(v, str):\n",
    "            reception_per_property += float(extract_area.parse(handler.s3_rooms[i][k])[1])\n",
    "\n",
    "    receptions.append(reception_per_property)"
   ],
   "metadata": {
    "collapsed": false,
    "pycharm": {
     "name": "#%%\n"
    }
   }
  },
  {
   "cell_type": "code",
   "execution_count": 55,
   "outputs": [
    {
     "data": {
      "text/plain": "   Reception\n0       24.8\n1        0.0\n2        0.0\n3        0.0\n4        0.0",
      "text/html": "<div>\n<style scoped>\n    .dataframe tbody tr th:only-of-type {\n        vertical-align: middle;\n    }\n\n    .dataframe tbody tr th {\n        vertical-align: top;\n    }\n\n    .dataframe thead th {\n        text-align: right;\n    }\n</style>\n<table border=\"1\" class=\"dataframe\">\n  <thead>\n    <tr style=\"text-align: right;\">\n      <th></th>\n      <th>Reception</th>\n    </tr>\n  </thead>\n  <tbody>\n    <tr>\n      <th>0</th>\n      <td>24.8</td>\n    </tr>\n    <tr>\n      <th>1</th>\n      <td>0.0</td>\n    </tr>\n    <tr>\n      <th>2</th>\n      <td>0.0</td>\n    </tr>\n    <tr>\n      <th>3</th>\n      <td>0.0</td>\n    </tr>\n    <tr>\n      <th>4</th>\n      <td>0.0</td>\n    </tr>\n  </tbody>\n</table>\n</div>"
     },
     "execution_count": 55,
     "metadata": {},
     "output_type": "execute_result"
    }
   ],
   "source": [
    "receptions = pd.DataFrame({\"Reception\": receptions})\n",
    "receptions.head()"
   ],
   "metadata": {
    "collapsed": false,
    "pycharm": {
     "name": "#%%\n"
    }
   }
  },
  {
   "cell_type": "markdown",
   "source": [
    "### Bathroom/WC/Washroom"
   ],
   "metadata": {
    "collapsed": false,
    "pycharm": {
     "name": "#%% md\n"
    }
   }
  },
  {
   "cell_type": "code",
   "execution_count": 56,
   "outputs": [
    {
     "name": "stdout",
     "output_type": "stream",
     "text": [
      "Bathroom                      2.14m x 2.04m (4.3 sqm) - 7' x 6' 8\" (46 sqft)\n",
      "Bathroom                      1.98m x 2.37m (4.6 sqm) - 6' 5\" x 7' 9\" (50 sqft)\n",
      "Bathroom                      1\n",
      "Family Bathroom               1\n",
      "Bathroom                      2.5m x 1.7m (4.2 sqm) - 8' 2\" x 5' 6\" (45 sqft)\n",
      "Bathroom                      1\n",
      "Bathroom                      2.24m x 1.89m (4.2 sqm) - 7' 4\" x 6' 2\" (45 sqft)\n",
      "Bathroom                      2.08m x 1.81m (3.7 sqm) - 6' 9\" x 5' 11\" (40 sqft)\n",
      "Bathroom                      1\n",
      "Family Bathroom               3.29m x 3.17m (10.4 sqm) - 10' 9\" x 10' 4\" (112 sqft)\n",
      "Family Bathroom               2.5m x 2m (5 sqm) - 8' 2\" x 6' 6\" (53 sqft)\n",
      "Bathroom                      2.43m x 1.67m (4 sqm) - 7' 11\" x 5' 5\" (43 sqft)\n",
      "Bathroom                      1.5m x 2.9m (4.3 sqm) - 4' 11\" x 9' 6\" (46 sqft)\n",
      "Bathroom                      3.15m x 2.66m (8.3 sqm) - 10' 4\" x 8' 8\" (90 sqft)\n",
      "Bathroom                      1.6m x 3.32m (5.3 sqm) - 5' 2\" x 10' 10\" (57 sqft)\n",
      "Bathroom                      2.72m x 1.61m (4.3 sqm) - 8' 11\" x 5' 3\" (47 sqft)\n"
     ]
    }
   ],
   "source": [
    "bathroom_names = [i for i in handler.s3_rooms_set if \"bathroom\" in i.lower() or \"WC\" in i.lower()]\n",
    "for room in handler.s3_rooms[: 50]:\n",
    "    if room is None: continue\n",
    "    for k, v in room.items():\n",
    "        if k in bathroom_names:\n",
    "            print(\"{:30s}{}\".format(k, v))"
   ],
   "metadata": {
    "collapsed": false,
    "pycharm": {
     "name": "#%%\n"
    }
   }
  },
  {
   "cell_type": "code",
   "execution_count": 57,
   "outputs": [],
   "source": [
    "bathrooms = []\n",
    "for i in range(len(handler.s3_rooms)):\n",
    "    bathroom_per_property = {key: 0 for key in bathroom_names}\n",
    "    if handler.s3_rooms[i] is None:\n",
    "        bathrooms.append(bathroom_per_property)\n",
    "        continue\n",
    "\n",
    "    for k, v in handler.s3_rooms[i].items():\n",
    "        if k in bathroom_names and isinstance(v, str):\n",
    "            bathroom_per_property[k] = float(extract_area.parse(handler.s3_rooms[i][k])[1])\n",
    "\n",
    "    bathrooms.append(bathroom_per_property)"
   ],
   "metadata": {
    "collapsed": false,
    "pycharm": {
     "name": "#%%\n"
    }
   }
  },
  {
   "cell_type": "code",
   "execution_count": 58,
   "outputs": [
    {
     "data": {
      "text/plain": "   Master Bathroom  Bathroom  Family Bathroom  Ensuite Bathroom  \\\n0              0.0       4.3              0.0               0.0   \n1              0.0       4.6              0.0               0.0   \n2              0.0       0.0              0.0               0.0   \n3              0.0       0.0              0.0               0.0   \n4              0.0       0.0              0.0               0.0   \n\n   Guest Bathroom  \n0             0.0  \n1             0.0  \n2             0.0  \n3             0.0  \n4             0.0  ",
      "text/html": "<div>\n<style scoped>\n    .dataframe tbody tr th:only-of-type {\n        vertical-align: middle;\n    }\n\n    .dataframe tbody tr th {\n        vertical-align: top;\n    }\n\n    .dataframe thead th {\n        text-align: right;\n    }\n</style>\n<table border=\"1\" class=\"dataframe\">\n  <thead>\n    <tr style=\"text-align: right;\">\n      <th></th>\n      <th>Master Bathroom</th>\n      <th>Bathroom</th>\n      <th>Family Bathroom</th>\n      <th>Ensuite Bathroom</th>\n      <th>Guest Bathroom</th>\n    </tr>\n  </thead>\n  <tbody>\n    <tr>\n      <th>0</th>\n      <td>0.0</td>\n      <td>4.3</td>\n      <td>0.0</td>\n      <td>0.0</td>\n      <td>0.0</td>\n    </tr>\n    <tr>\n      <th>1</th>\n      <td>0.0</td>\n      <td>4.6</td>\n      <td>0.0</td>\n      <td>0.0</td>\n      <td>0.0</td>\n    </tr>\n    <tr>\n      <th>2</th>\n      <td>0.0</td>\n      <td>0.0</td>\n      <td>0.0</td>\n      <td>0.0</td>\n      <td>0.0</td>\n    </tr>\n    <tr>\n      <th>3</th>\n      <td>0.0</td>\n      <td>0.0</td>\n      <td>0.0</td>\n      <td>0.0</td>\n      <td>0.0</td>\n    </tr>\n    <tr>\n      <th>4</th>\n      <td>0.0</td>\n      <td>0.0</td>\n      <td>0.0</td>\n      <td>0.0</td>\n      <td>0.0</td>\n    </tr>\n  </tbody>\n</table>\n</div>"
     },
     "execution_count": 58,
     "metadata": {},
     "output_type": "execute_result"
    }
   ],
   "source": [
    "bathrooms = pd.DataFrame(bathrooms)\n",
    "bathrooms.head()"
   ],
   "metadata": {
    "collapsed": false,
    "pycharm": {
     "name": "#%%\n"
    }
   }
  },
  {
   "cell_type": "markdown",
   "source": [
    "### Dining"
   ],
   "metadata": {
    "collapsed": false,
    "pycharm": {
     "name": "#%% md\n"
    }
   }
  },
  {
   "cell_type": "code",
   "execution_count": 59,
   "outputs": [
    {
     "name": "stdout",
     "output_type": "stream",
     "text": [
      "Dining Room                   3.5m x 3m (10.5 sqm) - 11' 5\" x 9' 10\" (113 sqft)\n",
      "Dining Room                   3.13m x 2.83m (8.8 sqm) - 10' 3\" x 9' 3\" (95 sqft)\n",
      "Dining Room                   4.3m x 3.13m (13.4 sqm) - 14' 1\" x 10' 3\" (144 sqft)\n",
      "Dining Room                   3.1m x 2.6m (8 sqm) - 10' 2\" x 8' 6\" (86 sqft)\n",
      "Dining Room                   5.09m x 3.7m (18.8 sqm) - 16' 8\" x 12' 1\" (203 sqft)\n",
      "Dining Room                   3.7m x 4.12m (15.2 sqm) - 12' 1\" x 13' 6\" (164 sqft)\n"
     ]
    }
   ],
   "source": [
    "dining_names = [i for i in handler.s3_rooms_set if (\"dining\" in i.lower() or \"breakfast\" in i.lower()) and \"kitchen\" not in i.lower() and \"living\" not in i.lower()]\n",
    "for room in handler.s3_rooms[: 50]:\n",
    "    if room is None: continue\n",
    "    for k, v in room.items():\n",
    "        if k in dining_names:\n",
    "            print(\"{:30s}{}\".format(k, v))"
   ],
   "metadata": {
    "collapsed": false,
    "pycharm": {
     "name": "#%%\n"
    }
   }
  },
  {
   "cell_type": "code",
   "execution_count": 60,
   "outputs": [],
   "source": [
    "dining_rooms = []\n",
    "for i in range(len(handler.s3_rooms)):\n",
    "    dining_room_per_property = 0\n",
    "    if handler.s3_rooms[i] is None:\n",
    "        dining_rooms.append(dining_room_per_property)\n",
    "        continue\n",
    "\n",
    "    for k, v in handler.s3_rooms[i].items():\n",
    "        if k in dining_names and isinstance(v, str):\n",
    "            dining_room_per_property += float(extract_area.parse(v)[1])\n",
    "\n",
    "    dining_rooms.append(dining_room_per_property)"
   ],
   "metadata": {
    "collapsed": false,
    "pycharm": {
     "name": "#%%\n"
    }
   }
  },
  {
   "cell_type": "code",
   "execution_count": 61,
   "outputs": [
    {
     "data": {
      "text/plain": "   Dining room\n0          0.0\n1          0.0\n2          0.0\n3          0.0\n4          0.0\n5         10.5\n6          8.8\n7          0.0\n8          0.0\n9          0.0",
      "text/html": "<div>\n<style scoped>\n    .dataframe tbody tr th:only-of-type {\n        vertical-align: middle;\n    }\n\n    .dataframe tbody tr th {\n        vertical-align: top;\n    }\n\n    .dataframe thead th {\n        text-align: right;\n    }\n</style>\n<table border=\"1\" class=\"dataframe\">\n  <thead>\n    <tr style=\"text-align: right;\">\n      <th></th>\n      <th>Dining room</th>\n    </tr>\n  </thead>\n  <tbody>\n    <tr>\n      <th>0</th>\n      <td>0.0</td>\n    </tr>\n    <tr>\n      <th>1</th>\n      <td>0.0</td>\n    </tr>\n    <tr>\n      <th>2</th>\n      <td>0.0</td>\n    </tr>\n    <tr>\n      <th>3</th>\n      <td>0.0</td>\n    </tr>\n    <tr>\n      <th>4</th>\n      <td>0.0</td>\n    </tr>\n    <tr>\n      <th>5</th>\n      <td>10.5</td>\n    </tr>\n    <tr>\n      <th>6</th>\n      <td>8.8</td>\n    </tr>\n    <tr>\n      <th>7</th>\n      <td>0.0</td>\n    </tr>\n    <tr>\n      <th>8</th>\n      <td>0.0</td>\n    </tr>\n    <tr>\n      <th>9</th>\n      <td>0.0</td>\n    </tr>\n  </tbody>\n</table>\n</div>"
     },
     "execution_count": 61,
     "metadata": {},
     "output_type": "execute_result"
    }
   ],
   "source": [
    "dining_rooms = pd.DataFrame({\"Dining room\": dining_rooms})\n",
    "dining_rooms.iloc[:10]"
   ],
   "metadata": {
    "collapsed": false,
    "pycharm": {
     "name": "#%%\n"
    }
   }
  },
  {
   "cell_type": "markdown",
   "source": [
    "### Work/study"
   ],
   "metadata": {
    "collapsed": false,
    "pycharm": {
     "name": "#%% md\n"
    }
   }
  },
  {
   "cell_type": "code",
   "execution_count": 89,
   "outputs": [
    {
     "name": "stdout",
     "output_type": "stream",
     "text": [
      "Study                         2.27m x 1.98m (4.5 sqm) - 7' 5\" x 6' 5\" (48 sqft)\n",
      "Garage / Office               5m x 3.1m (15.5 sqm) - 16' 4\" x 10' 2\" (166 sqft)\n",
      "Study                         2.16m x 3.14m (6.7 sqm) - 7' 1\" x 10' 3\" (73 sqft)\n",
      "Study Area                    2.5m x 1.85m (4.6 sqm) - 8' 2\" x 6' (49 sqft)\n",
      "Study                         5.7m x 2m (11.4 sqm) - 18' 8\" x 6' 6\" (122 sqft)\n",
      "Workspace                     8.69m x 2m (17.4 sqm) - 28' 6\" x 6' 6\" (187 sqft)\n",
      "Study                         3m x 3m (9 sqm) - 9' 10\" x 9' 10\" (96 sqft)\n",
      "Workshop                      14m x 3.6m (50.4 sqm) - 45' 11\" x 11' 9\" (542 sqft)\n",
      "Study/Family Room/Play Room   4m x 2.91m (11.6 sqm) - 13' 1\" x 9' 6\" (125 sqft)\n",
      "Study                         3.47m x 2.18m (7.5 sqm) - 11' 4\" x 7' 1\" (81 sqft)\n",
      "Workshop                      5.09m x 2.14m (10.9 sqm) - 16' 8\" x 7' (117 sqft)\n",
      "Study                         2.1m x 2.1m (4.4 sqm) - 6' 10\" x 6' 10\" (47 sqft)\n",
      "Study Area                    2.8m x 2.54m (7.1 sqm) - 9' 2\" x 8' 4\" (76 sqft)\n",
      "Study/Family Room/Play Room   4.29m x 2.74m (11.7 sqm) - 14' x 8' 11\" (126 sqft)\n",
      "Office                        1\n",
      "Study                         3.2m x 2.1m (6.7 sqm) - 10' 5\" x 6' 10\" (72 sqft)\n",
      "Study/Family Room/Play Room   3.7m x 3.1m (11.4 sqm) - 12' 1\" x 10' 2\" (123 sqft)\n",
      "Study                         2.2m x 2.8m (6.1 sqm) - 7' 2\" x 9' 2\" (66 sqft)\n",
      "Study                         6.15m x 3.33m (20.4 sqm) - 20' 2\" x 10' 11\" (220 sqft)\n",
      "Study                         3.49m x 2.89m (10 sqm) - 11' 5\" x 9' 5\" (108 sqft)\n",
      "Study                         3.52m x 2.69m (9.4 sqm) - 11' 6\" x 8' 9\" (101 sqft)\n",
      "Study                         3.14m x 1.92m (6 sqm) - 10' 3\" x 6' 3\" (64 sqft)\n"
     ]
    }
   ],
   "source": [
    "work_names = [i for i in handler.s3_rooms_set if \"work\" in i.lower() or \"study\" in i.lower() or \"office\" in i.lower()]\n",
    "for room in handler.s3_rooms[: 300]:\n",
    "    if room is None: continue\n",
    "    for k, v in room.items():\n",
    "        if k in work_names:\n",
    "            print(\"{:30s}{}\".format(k, v))"
   ],
   "metadata": {
    "collapsed": false,
    "pycharm": {
     "name": "#%%\n"
    }
   }
  },
  {
   "cell_type": "code",
   "execution_count": 90,
   "outputs": [],
   "source": [
    "work_spaces = []\n",
    "for room in handler.s3_rooms:\n",
    "    work_per_property = 0\n",
    "    if room is None:\n",
    "        work_spaces.append(work_per_property)\n",
    "        continue\n",
    "\n",
    "    for k, v in room.items():\n",
    "        if k in work_names and isinstance(v, str):\n",
    "            work_per_property += float(extract_area.parse(v)[1])\n",
    "\n",
    "    work_spaces.append(work_per_property)"
   ],
   "metadata": {
    "collapsed": false,
    "pycharm": {
     "name": "#%%\n"
    }
   }
  },
  {
   "cell_type": "code",
   "execution_count": 91,
   "outputs": [
    {
     "data": {
      "text/plain": "      work space\n0            0.0\n1            0.0\n2            0.0\n3            0.0\n4            4.5\n...          ...\n3644         0.0\n3645         0.0\n3646         0.0\n3647         0.0\n3648         0.0\n\n[3649 rows x 1 columns]",
      "text/html": "<div>\n<style scoped>\n    .dataframe tbody tr th:only-of-type {\n        vertical-align: middle;\n    }\n\n    .dataframe tbody tr th {\n        vertical-align: top;\n    }\n\n    .dataframe thead th {\n        text-align: right;\n    }\n</style>\n<table border=\"1\" class=\"dataframe\">\n  <thead>\n    <tr style=\"text-align: right;\">\n      <th></th>\n      <th>work space</th>\n    </tr>\n  </thead>\n  <tbody>\n    <tr>\n      <th>0</th>\n      <td>0.0</td>\n    </tr>\n    <tr>\n      <th>1</th>\n      <td>0.0</td>\n    </tr>\n    <tr>\n      <th>2</th>\n      <td>0.0</td>\n    </tr>\n    <tr>\n      <th>3</th>\n      <td>0.0</td>\n    </tr>\n    <tr>\n      <th>4</th>\n      <td>4.5</td>\n    </tr>\n    <tr>\n      <th>...</th>\n      <td>...</td>\n    </tr>\n    <tr>\n      <th>3644</th>\n      <td>0.0</td>\n    </tr>\n    <tr>\n      <th>3645</th>\n      <td>0.0</td>\n    </tr>\n    <tr>\n      <th>3646</th>\n      <td>0.0</td>\n    </tr>\n    <tr>\n      <th>3647</th>\n      <td>0.0</td>\n    </tr>\n    <tr>\n      <th>3648</th>\n      <td>0.0</td>\n    </tr>\n  </tbody>\n</table>\n<p>3649 rows × 1 columns</p>\n</div>"
     },
     "execution_count": 91,
     "metadata": {},
     "output_type": "execute_result"
    }
   ],
   "source": [
    "work_spaces = pd.DataFrame({\"work space\": work_spaces})\n",
    "work_spaces"
   ],
   "metadata": {
    "collapsed": false,
    "pycharm": {
     "name": "#%%\n"
    }
   }
  },
  {
   "cell_type": "markdown",
   "source": [
    "### Other rooms"
   ],
   "metadata": {
    "collapsed": false,
    "pycharm": {
     "name": "#%% md\n"
    }
   }
  },
  {
   "cell_type": "code",
   "execution_count": 139,
   "outputs": [
    {
     "data": {
      "text/plain": "{'Airing Cupboard',\n 'Annexe',\n 'Approach',\n 'Attic',\n 'Balcony',\n 'Barn',\n 'Basement',\n 'Boiler Room',\n 'Boot Room',\n 'Cabin',\n 'Cellar',\n 'Cinema Room',\n 'Cloakroom',\n 'Coat Room',\n 'Conservatory',\n 'Day Room',\n 'Decking',\n 'Den',\n 'Downstairs Cloakroom',\n 'Drawing Room',\n 'Dressing Room',\n 'Electric Gate',\n 'Ensuite',\n 'Ensuite Shower Room',\n 'Entrance Hall',\n 'Entrance Porch',\n 'Extension',\n 'Exterior',\n 'Family Room',\n 'First Floor Landing',\n 'Foyer',\n 'Front Access',\n 'Front Porch',\n 'Front Room',\n 'Frontroom',\n 'Galleried Landing',\n 'Gallery Landing',\n 'Games Room',\n 'Green House',\n 'Guest Room',\n 'Gym',\n 'Hall',\n 'Hallway',\n 'Hobby Room',\n 'Hot Tub',\n 'Inner Hall',\n 'Inner Lobby',\n 'Jack & Jill Ensuite',\n 'Land',\n 'Landing',\n 'Larder',\n 'Laundry Room',\n 'Lift',\n 'Lobby',\n 'Loft',\n 'Loft Room',\n 'Lounge',\n 'Lounge Diner',\n 'Lower Ground Floor',\n 'Man Cave',\n 'Manège',\n 'Mezzanine',\n 'Morning Room',\n 'Open Front Porch',\n 'Orangery',\n 'Outbuilding',\n 'Outside Storage',\n 'Paddock',\n 'Pantry',\n 'Patio',\n 'Patio Area',\n 'Play Room',\n 'Porch',\n 'Rear Access',\n 'Rear Lobby',\n 'Rear Porch',\n 'Roof Terrace',\n 'Room 1',\n 'Room 2',\n 'Room 3',\n 'Room 4',\n 'Sauna',\n 'Second Floor Landing',\n 'Shed',\n 'Shopfront',\n 'Shower Room',\n 'Showroom',\n 'Side Access',\n 'Side Lobby',\n 'Side Porch',\n 'Sitting Room',\n 'Snug',\n 'Solarium',\n 'Stable',\n 'Stables',\n 'Storage Room',\n 'Store',\n 'Storm Porch',\n 'Studio',\n 'Summer House',\n 'Summer Room',\n 'Sun Lounge',\n 'Sun Room',\n 'Swimming Pool',\n 'Terrace',\n 'Third Floor Landing',\n 'Upstairs Cloakroom',\n 'Utility Room',\n 'Veranda',\n 'Vestibule',\n 'Walk In Wardrobe',\n 'Wash Room',\n 'Water Closet',\n 'Wet Room',\n 'Wine Cellar'}"
     },
     "execution_count": 139,
     "metadata": {},
     "output_type": "execute_result"
    }
   ],
   "source": [
    "bedroom_names = set([i for i in handler.s3_rooms_set if \"Bedroom\" in i])\n",
    "kitchen_names = set(i for i in handler.s3_rooms_set if \"kitchen\" in i.lower())\n",
    "reception_names = set(i for i in handler.s3_rooms_set if (\"living\" in i.lower() or \"reception\" in i.lower()) and \"kitchen\" not in i.lower())\n",
    "garden_names = set([i for i in handler.s3_rooms_set if \"garden\" in i.lower() or \"yard\" in i.lower()])\n",
    "bathroom_names = set(i for i in handler.s3_rooms_set if \"bathroom\" in i.lower() or \"wc\" in i.lower() or \"washroom\" in i.lower())\n",
    "dining_names = set(i for i in handler.s3_rooms_set if (\"dining\" in i.lower() or \"breakfast\" in i.lower()) and \"kitchen\" not in i.lower() and \"living\" not in i.lower())\n",
    "work_names = set([i for i in handler.s3_rooms_set if \"work\" in i.lower() or \"study\" in i.lower() or \"office\" in i.lower()])\n",
    "parking = set(i for i in handler.s3_rooms_set if \"car\" in i.lower() or \"garage\" in i.lower() or \"driveway\" in i.lower() or \"park\" in i.lower())\n",
    "\n",
    "rest_names = handler.s3_rooms_set - bedroom_names - kitchen_names - reception_names - garden_names - bathroom_names - dining_names - work_names - parking\n",
    "rest_names"
   ],
   "metadata": {
    "collapsed": false,
    "pycharm": {
     "name": "#%%\n"
    }
   }
  },
  {
   "cell_type": "code",
   "execution_count": 108,
   "outputs": [
    {
     "name": "stdout",
     "output_type": "stream",
     "text": [
      "Entrance Hall                 1\n",
      "Porch                         1.48m x 2.31m (3.4 sqm) - 4' 10\" x 7' 6\" (36 sqft)\n",
      "Hallway                       5.03m x 2.77m (13.9 sqm) - 16' 6\" x 9' 1\" (149 sqft)\n",
      "Landing                       2.41m x 1.06m (2.5 sqm) - 7' 10\" x 3' 5\" (27 sqft)\n",
      "Lounge                        4.33m x 5.36m (23.2 sqm) - 14' 2\" x 17' 7\" (249 sqft)\n",
      "Entrance Porch                1\n",
      "Lounge Diner                  6.76m x 4.04m (27.3 sqm) - 22' 2\" x 13' 3\" (293 sqft)\n",
      "Lobby                         1\n",
      "Landing                       1\n",
      "Entrance Hall                 1\n",
      "Lounge Diner                  6.66m x 3.1m (20.6 sqm) - 21' 10\" x 10' 2\" (222 sqft)\n",
      "Conservatory                  1\n",
      "Lounge                        5.4m x 3.5m (18.9 sqm) - 17' 8\" x 11' 5\" (203 sqft)\n",
      "Vestibule                     2.2m x 1.7m (3.7 sqm) - 7' 2\" x 5' 6\" (40 sqft)\n",
      "Hallway                       1\n",
      "First Floor Landing           1\n",
      "Cellar                        2m x 2m (4 sqm) - 6' 6\" x 6' 6\" (43 sqft)\n",
      "Entrance Hall                 1\n",
      "Lounge                        4.71m x 3.34m (15.7 sqm) - 15' 5\" x 10' 11\" (169 sqft)\n",
      "Landing                       1\n",
      "Entrance Hall                 3.03m x 3.05m (9.2 sqm) - 9' 11\" x 10' (99 sqft)\n",
      "Lounge                        4.86m x 4.46m (21.6 sqm) - 15' 11\" x 14' 7\" (233 sqft)\n",
      "Conservatory                  1.94m x 2.62m (5 sqm) - 6' 4\" x 8' 7\" (54 sqft)\n",
      "First Floor Landing           1\n",
      "Exterior                      1\n",
      "Entrance Hall                 1\n",
      "Lounge                        1\n",
      "Entrance Hall                 6.55m x 2.27m (14.9 sqm) - 21' 5\" x 7' 5\" (160 sqft)\n",
      "Landing                       6.74m x 2.16m (14.5 sqm) - 22' 1\" x 7' 1\" (156 sqft)\n",
      "Loft                          1\n",
      "Entrance Hall                 1\n",
      "Landing                       1\n",
      "Lounge                        7.28m x 5.07m (36.9 sqm) - 23' 10\" x 16' 7\" (397 sqft)\n",
      "Entrance Porch                2.9m x 2.2m (6.3 sqm) - 9' 6\" x 7' 2\" (68 sqft)\n",
      "Hallway                       4.4m x 1.9m (8.3 sqm) - 14' 5\" x 6' 2\" (89 sqft)\n",
      "Lounge                        6.6m x 3.6m (23.7 sqm) - 21' 7\" x 11' 9\" (255 sqft)\n",
      "Landing                       1\n",
      "Ensuite                       2.6m x 1.7m (4.4 sqm) - 8' 6\" x 5' 6\" (47 sqft)\n",
      "Entrance Hall                 1\n",
      "Landing                       1\n",
      "Roof Terrace                  3.09m x 2.82m (8.7 sqm) - 10' 1\" x 9' 3\" (93 sqft)\n",
      "Vestibule                     1\n",
      "Entrance Hall                 1\n",
      "Lounge                        3.7m x 3.7m (13.6 sqm) - 12' 1\" x 12' 1\" (147 sqft)\n",
      "Rear Porch                    1\n",
      "Landing                       1\n",
      "Ensuite                       2.5m x 1.8m (4.5 sqm) - 8' 2\" x 5' 10\" (48 sqft)\n",
      "Entrance Hall                 1\n",
      "Exterior                      1\n",
      "Entrance Hall                 1\n",
      "Exterior                      1\n",
      "Porch                         1\n",
      "Inner Hall                    1\n",
      "Exterior                      1\n",
      "Veranda                       1\n",
      "Entrance Hall                 1\n",
      "Ensuite                       1.49m x 1.39m (2 sqm) - 4' 10\" x 4' 6\" (22 sqft)\n"
     ]
    }
   ],
   "source": [
    "for room in handler.s3_rooms[:50]:\n",
    "    if room is None: continue\n",
    "    for k, v in room.items():\n",
    "        if k in rest_names:\n",
    "            print(\"{:30s}{}\".format(k, v))"
   ],
   "metadata": {
    "collapsed": false,
    "pycharm": {
     "name": "#%%\n"
    }
   }
  },
  {
   "cell_type": "code",
   "execution_count": 115,
   "outputs": [],
   "source": [
    "other_rooms = []\n",
    "for room in handler.s3_rooms:\n",
    "    other_room_per_property = 0\n",
    "    if room is None:\n",
    "        other_rooms.append(other_room_per_property)\n",
    "        continue\n",
    "\n",
    "    for k, v in room.items():\n",
    "        if k in rest_names:\n",
    "            other_room_per_property += 1\n",
    "    other_rooms.append(other_room_per_property)"
   ],
   "metadata": {
    "collapsed": false,
    "pycharm": {
     "name": "#%%\n"
    }
   }
  },
  {
   "cell_type": "code",
   "execution_count": 117,
   "outputs": [
    {
     "data": {
      "text/plain": "   Other rooms\n0            1\n1            4\n2            4\n3            0\n4            3",
      "text/html": "<div>\n<style scoped>\n    .dataframe tbody tr th:only-of-type {\n        vertical-align: middle;\n    }\n\n    .dataframe tbody tr th {\n        vertical-align: top;\n    }\n\n    .dataframe thead th {\n        text-align: right;\n    }\n</style>\n<table border=\"1\" class=\"dataframe\">\n  <thead>\n    <tr style=\"text-align: right;\">\n      <th></th>\n      <th>Other rooms</th>\n    </tr>\n  </thead>\n  <tbody>\n    <tr>\n      <th>0</th>\n      <td>1</td>\n    </tr>\n    <tr>\n      <th>1</th>\n      <td>4</td>\n    </tr>\n    <tr>\n      <th>2</th>\n      <td>4</td>\n    </tr>\n    <tr>\n      <th>3</th>\n      <td>0</td>\n    </tr>\n    <tr>\n      <th>4</th>\n      <td>3</td>\n    </tr>\n  </tbody>\n</table>\n</div>"
     },
     "execution_count": 117,
     "metadata": {},
     "output_type": "execute_result"
    }
   ],
   "source": [
    "other_rooms = pd.DataFrame({\"Other rooms\": other_rooms})\n",
    "other_rooms.head()"
   ],
   "metadata": {
    "collapsed": false,
    "pycharm": {
     "name": "#%%\n"
    }
   }
  },
  {
   "cell_type": "code",
   "execution_count": 140,
   "outputs": [
    {
     "data": {
      "text/plain": "['Bedroom 6',\n 'Attic Bedroom',\n 'Bedroom (Double)',\n 'Bedroom 8',\n 'Bedroom 4',\n 'Loft Bedroom',\n 'Bedroom 5',\n 'Bedroom 3',\n 'Bedroom 1',\n 'Bedroom (Single) with Ensuite',\n 'Bedroom 7',\n 'Bedroom 2',\n 'Bedroom (Single)',\n 'Bedroom/Living Room',\n 'Master Bedroom with Ensuite',\n 'Bedroom',\n 'Master Bedroom',\n 'Bedroom (Double) with Ensuite']"
     },
     "execution_count": 140,
     "metadata": {},
     "output_type": "execute_result"
    }
   ],
   "source": [
    "def get_rooms(dataset, *args):\n",
    "    room_names = []\n",
    "    for room in dataset:\n",
    "        for arg in args:\n",
    "            if arg in room.lower():\n",
    "                room_names.append(room)\n",
    "    return room_names\n",
    "\n",
    "result = get_rooms(handler.s3_rooms_set, \"bedroom\")\n",
    "result"
   ],
   "metadata": {
    "collapsed": false,
    "pycharm": {
     "name": "#%%\n"
    }
   }
  },
  {
   "cell_type": "code",
   "execution_count": 141,
   "outputs": [],
   "source": [
    "for i in result:\n",
    "    if i not in bedroom_names:\n",
    "        print(\"False\")\n",
    "        break"
   ],
   "metadata": {
    "collapsed": false,
    "pycharm": {
     "name": "#%%\n"
    }
   }
  },
  {
   "cell_type": "code",
   "execution_count": 142,
   "outputs": [
    {
     "data": {
      "text/plain": "(18, 18)"
     },
     "execution_count": 142,
     "metadata": {},
     "output_type": "execute_result"
    }
   ],
   "source": [
    "len(result), len(bedroom_names)"
   ],
   "metadata": {
    "collapsed": false,
    "pycharm": {
     "name": "#%%\n"
    }
   }
  },
  {
   "cell_type": "code",
   "execution_count": 143,
   "outputs": [
    {
     "data": {
      "text/plain": "(['dd', 'aa', 'a', 'd'], ['dd', 'aa', 'a', 'd'])"
     },
     "execution_count": 143,
     "metadata": {},
     "output_type": "execute_result"
    }
   ],
   "source": [
    "dataset = {\"a\", \"b\", \"c\", \"d\", \"dd\", \"aa\"}\n",
    "result = get_rooms(dataset, \"a\", \"d\")\n",
    "test = [i for i in dataset if \"a\" in i or \"d\" in i]\n",
    "\n",
    "result, test"
   ],
   "metadata": {
    "collapsed": false,
    "pycharm": {
     "name": "#%%\n"
    }
   }
  },
  {
   "cell_type": "code",
   "execution_count": null,
   "outputs": [],
   "source": [],
   "metadata": {
    "collapsed": false,
    "pycharm": {
     "name": "#%%\n"
    }
   }
  }
 ],
 "metadata": {
  "kernelspec": {
   "display_name": "Python 3",
   "language": "python",
   "name": "python3"
  },
  "language_info": {
   "codemirror_mode": {
    "name": "ipython",
    "version": 2
   },
   "file_extension": ".py",
   "mimetype": "text/x-python",
   "name": "python",
   "nbconvert_exporter": "python",
   "pygments_lexer": "ipython2",
   "version": "2.7.6"
  }
 },
 "nbformat": 4,
 "nbformat_minor": 0
}