{
 "cells": [
  {
   "cell_type": "markdown",
   "source": [
    "# Import packages"
   ],
   "metadata": {
    "collapsed": false,
    "pycharm": {
     "name": "#%% md\n"
    }
   }
  },
  {
   "cell_type": "code",
   "execution_count": 144,
   "outputs": [],
   "source": [
    "import pandas as pd\n",
    "import numpy as np\n",
    "import re\n",
    "from bs4 import BeautifulSoup # handle html strings"
   ],
   "metadata": {
    "collapsed": false,
    "pycharm": {
     "name": "#%%\n"
    }
   }
  },
  {
   "cell_type": "markdown",
   "source": [
    "# Read Dataset"
   ],
   "metadata": {
    "collapsed": false,
    "pycharm": {
     "name": "#%% md\n"
    }
   }
  },
  {
   "cell_type": "code",
   "execution_count": 15,
   "outputs": [
    {
     "data": {
      "text/plain": "   Postcode     Created  Advertised      Agreed   Completed  \\\n0   LU7 4WN  03/04/2019  03/04/2019         NaN         NaN   \n1   L23 6YD  21/03/2019  24/03/2019  05/04/2021  28/06/2021   \n2  DA17 5PJ  25/03/2019  03/04/2019  25/01/2021  15/03/2021   \n3   NW4 1AP  28/06/2019  04/07/2019         NaN         NaN   \n4   GL7 5UX  12/06/2019  09/08/2019  13/04/2021  05/07/2021   \n\n  Date Listing Last Cancelled Sale or Let  \\\n0                  28/02/2022        Sale   \n1                  26/02/2020        Sale   \n2                  13/06/2019        Sale   \n3                         NaN        Sale   \n4                         NaN        Sale   \n\n  RTD3308_outside_space1 - Outside Space Description  \\\n0                                    Communal Garden   \n1                                                NaN   \n2                                        Rear Garden   \n3                                                NaN   \n4                                        Back Garden   \n\n                     EweMove Description S1 Features  \\\n0  <ul><li>CASH BUYERS ONLY</li><li>No Upper Chai...   \n1  <ul><li>Sea Views</li><li>Very Popular Locatio...   \n2  <ul><li>Call NOW 24/7 or book instantly online...   \n3  <ul><li>5 bed link detached FREEHOLD house wit...   \n4  <ul><li>Four Bedrooms</li><li>Detached</li><li...   \n\n                  EweMove Description S2 Description  ...  \\\n0  Cash Buyers... You could pounce super quick on...  ...   \n1  WATCHING THE SHIPS ROLL IN - from your very ow...  ...   \n2  Guide price &pound;325,000 - &pound;350,000.Lo...  ...   \n3  EweMove Hampstead - A rare opportunity to acqu...  ...   \n4  For anyone looking for a family home in South ...  ...   \n\n                                        Price / Rent      Price Qualifier  \\\n0  <font color='blue'>&pound;140,000</font><br>Of...  Offers In Excess Of   \n1  <font color='blue'>&pound;325,000</font><br>Of...          Offers Over   \n2  <font color='blue'>&pound;325,000</font><br>Gu...          Guide Price   \n3  <font color='blue'>&pound;1,095,000</font><br>...          Guide Price   \n4       <font color='blue'>&pound;395,000</font><br>                  NaN   \n\n  Sale Price % Achieved Current EPC - EPC Expiry Date DESC Council Tax Band  \\\n0               130.71%                    11/03/2028                Band B   \n1                   NaN                    28/03/2029                Band E   \n2                   NaN                    12/07/2028                Band D   \n3                   NaN                    30/06/2029                   NaN   \n4               100.00%                    30/06/2024                   NaN   \n\n  DESC Leasehold Ground Rent DESC Leasehold Service Charge  \\\n0                        NaN                           NaN   \n1                        NaN                           NaN   \n2                        NaN                           NaN   \n3                        NaN                           NaN   \n4                        NaN                           NaN   \n\n  ZPG_lease_expiry_years_remaining # of Enquiry or viewings # of Apps/Offers  \n0                             68.0                       32               12  \n1                              NaN                       15               10  \n2                              NaN                       14                4  \n3                              NaN                       13                1  \n4                              NaN                       11                9  \n\n[5 rows x 35 columns]",
      "text/html": "<div>\n<style scoped>\n    .dataframe tbody tr th:only-of-type {\n        vertical-align: middle;\n    }\n\n    .dataframe tbody tr th {\n        vertical-align: top;\n    }\n\n    .dataframe thead th {\n        text-align: right;\n    }\n</style>\n<table border=\"1\" class=\"dataframe\">\n  <thead>\n    <tr style=\"text-align: right;\">\n      <th></th>\n      <th>Postcode</th>\n      <th>Created</th>\n      <th>Advertised</th>\n      <th>Agreed</th>\n      <th>Completed</th>\n      <th>Date Listing Last Cancelled</th>\n      <th>Sale or Let</th>\n      <th>RTD3308_outside_space1 - Outside Space Description</th>\n      <th>EweMove Description S1 Features</th>\n      <th>EweMove Description S2 Description</th>\n      <th>...</th>\n      <th>Price / Rent</th>\n      <th>Price Qualifier</th>\n      <th>Sale Price % Achieved</th>\n      <th>Current EPC - EPC Expiry Date</th>\n      <th>DESC Council Tax Band</th>\n      <th>DESC Leasehold Ground Rent</th>\n      <th>DESC Leasehold Service Charge</th>\n      <th>ZPG_lease_expiry_years_remaining</th>\n      <th># of Enquiry or viewings</th>\n      <th># of Apps/Offers</th>\n    </tr>\n  </thead>\n  <tbody>\n    <tr>\n      <th>0</th>\n      <td>LU7 4WN</td>\n      <td>03/04/2019</td>\n      <td>03/04/2019</td>\n      <td>NaN</td>\n      <td>NaN</td>\n      <td>28/02/2022</td>\n      <td>Sale</td>\n      <td>Communal Garden</td>\n      <td>&lt;ul&gt;&lt;li&gt;CASH BUYERS ONLY&lt;/li&gt;&lt;li&gt;No Upper Chai...</td>\n      <td>Cash Buyers... You could pounce super quick on...</td>\n      <td>...</td>\n      <td>&lt;font color='blue'&gt;&amp;pound;140,000&lt;/font&gt;&lt;br&gt;Of...</td>\n      <td>Offers In Excess Of</td>\n      <td>130.71%</td>\n      <td>11/03/2028</td>\n      <td>Band B</td>\n      <td>NaN</td>\n      <td>NaN</td>\n      <td>68.0</td>\n      <td>32</td>\n      <td>12</td>\n    </tr>\n    <tr>\n      <th>1</th>\n      <td>L23 6YD</td>\n      <td>21/03/2019</td>\n      <td>24/03/2019</td>\n      <td>05/04/2021</td>\n      <td>28/06/2021</td>\n      <td>26/02/2020</td>\n      <td>Sale</td>\n      <td>NaN</td>\n      <td>&lt;ul&gt;&lt;li&gt;Sea Views&lt;/li&gt;&lt;li&gt;Very Popular Locatio...</td>\n      <td>WATCHING THE SHIPS ROLL IN - from your very ow...</td>\n      <td>...</td>\n      <td>&lt;font color='blue'&gt;&amp;pound;325,000&lt;/font&gt;&lt;br&gt;Of...</td>\n      <td>Offers Over</td>\n      <td>NaN</td>\n      <td>28/03/2029</td>\n      <td>Band E</td>\n      <td>NaN</td>\n      <td>NaN</td>\n      <td>NaN</td>\n      <td>15</td>\n      <td>10</td>\n    </tr>\n    <tr>\n      <th>2</th>\n      <td>DA17 5PJ</td>\n      <td>25/03/2019</td>\n      <td>03/04/2019</td>\n      <td>25/01/2021</td>\n      <td>15/03/2021</td>\n      <td>13/06/2019</td>\n      <td>Sale</td>\n      <td>Rear Garden</td>\n      <td>&lt;ul&gt;&lt;li&gt;Call NOW 24/7 or book instantly online...</td>\n      <td>Guide price &amp;pound;325,000 - &amp;pound;350,000.Lo...</td>\n      <td>...</td>\n      <td>&lt;font color='blue'&gt;&amp;pound;325,000&lt;/font&gt;&lt;br&gt;Gu...</td>\n      <td>Guide Price</td>\n      <td>NaN</td>\n      <td>12/07/2028</td>\n      <td>Band D</td>\n      <td>NaN</td>\n      <td>NaN</td>\n      <td>NaN</td>\n      <td>14</td>\n      <td>4</td>\n    </tr>\n    <tr>\n      <th>3</th>\n      <td>NW4 1AP</td>\n      <td>28/06/2019</td>\n      <td>04/07/2019</td>\n      <td>NaN</td>\n      <td>NaN</td>\n      <td>NaN</td>\n      <td>Sale</td>\n      <td>NaN</td>\n      <td>&lt;ul&gt;&lt;li&gt;5 bed link detached FREEHOLD house wit...</td>\n      <td>EweMove Hampstead - A rare opportunity to acqu...</td>\n      <td>...</td>\n      <td>&lt;font color='blue'&gt;&amp;pound;1,095,000&lt;/font&gt;&lt;br&gt;...</td>\n      <td>Guide Price</td>\n      <td>NaN</td>\n      <td>30/06/2029</td>\n      <td>NaN</td>\n      <td>NaN</td>\n      <td>NaN</td>\n      <td>NaN</td>\n      <td>13</td>\n      <td>1</td>\n    </tr>\n    <tr>\n      <th>4</th>\n      <td>GL7 5UX</td>\n      <td>12/06/2019</td>\n      <td>09/08/2019</td>\n      <td>13/04/2021</td>\n      <td>05/07/2021</td>\n      <td>NaN</td>\n      <td>Sale</td>\n      <td>Back Garden</td>\n      <td>&lt;ul&gt;&lt;li&gt;Four Bedrooms&lt;/li&gt;&lt;li&gt;Detached&lt;/li&gt;&lt;li...</td>\n      <td>For anyone looking for a family home in South ...</td>\n      <td>...</td>\n      <td>&lt;font color='blue'&gt;&amp;pound;395,000&lt;/font&gt;&lt;br&gt;</td>\n      <td>NaN</td>\n      <td>100.00%</td>\n      <td>30/06/2024</td>\n      <td>NaN</td>\n      <td>NaN</td>\n      <td>NaN</td>\n      <td>NaN</td>\n      <td>11</td>\n      <td>9</td>\n    </tr>\n  </tbody>\n</table>\n<p>5 rows × 35 columns</p>\n</div>"
     },
     "execution_count": 15,
     "metadata": {},
     "output_type": "execute_result"
    }
   ],
   "source": [
    "filename = \"../datasets/PropertyData_wDesc.csv\"\n",
    "# Default encoding (UTF-8) not working on this dataset\n",
    "data = pd.read_csv(filename, encoding=\"ISO8859-1\")\n",
    "data.head()"
   ],
   "metadata": {
    "collapsed": false,
    "pycharm": {
     "name": "#%%\n"
    }
   }
  },
  {
   "cell_type": "markdown",
   "source": [
    "# Inspecting the dataset"
   ],
   "metadata": {
    "collapsed": false,
    "pycharm": {
     "name": "#%% md\n"
    }
   }
  },
  {
   "cell_type": "code",
   "execution_count": 14,
   "outputs": [
    {
     "data": {
      "text/plain": "(3649, 35)"
     },
     "execution_count": 14,
     "metadata": {},
     "output_type": "execute_result"
    }
   ],
   "source": [
    "data.shape"
   ],
   "metadata": {
    "collapsed": false,
    "pycharm": {
     "name": "#%%\n"
    }
   }
  },
  {
   "cell_type": "code",
   "execution_count": 54,
   "outputs": [
    {
     "data": {
      "text/plain": "Postcode                                                 0\nCreated                                                  0\nAdvertised                                             453\nAgreed                                                1381\nCompleted                                             1483\nDate Listing Last Cancelled                           2179\nSale or Let                                              0\nRTD3308_outside_space1 - Outside Space Description    1450\nEweMove Description S1 Features                          0\nEweMove Description S2 Description                     301\nEweMove Description S3 Rooms                           977\nEweMove Description S4 Summary                           0\nRTD3307_parking1 - Parking Description                1331\nRTD3307_parking2 - Parking Description                2077\nRTD3307_parking3 - Parking Description                2779\nRTD3308_outside_space2 - Outside Space Description    2001\nRTD3308_outside_space3 - Outside Space Description    2561\nRTD3316_condition1 - Condition Description            1383\nRTD3318_heating1 - Heating Description                1312\nRTD3317_accessibility1 - accessibility Description    2296\nRTD3317_accessibility2 - accessibility Description    3555\nRTD3317_accessibility3 - accessibility Description    3641\nRTD3318_heating2 - Heating Description                1919\nRTD3313_land_area_unit - Area Description             3613\nRTD3318_heating3 - Heating Description                3039\nPrice / Rent                                             0\nPrice Qualifier                                       1148\nSale Price % Achieved                                 3127\nCurrent EPC - EPC Expiry Date                         1059\nDESC Council Tax Band                                 1458\nDESC Leasehold Ground Rent                            3451\nDESC Leasehold Service Charge                         3436\nZPG_lease_expiry_years_remaining                      3372\n# of Enquiry or viewings                                 0\n# of Apps/Offers                                         0\ndtype: int64"
     },
     "execution_count": 54,
     "metadata": {},
     "output_type": "execute_result"
    }
   ],
   "source": [
    "data.isnull().sum()"
   ],
   "metadata": {
    "collapsed": false,
    "pycharm": {
     "name": "#%%\n"
    }
   }
  },
  {
   "cell_type": "markdown",
   "source": [
    "# Handling HTML text"
   ],
   "metadata": {
    "collapsed": false,
    "pycharm": {
     "name": "#%% md\n"
    }
   }
  },
  {
   "cell_type": "markdown",
   "source": [
    "## EweMove Description S1 Features"
   ],
   "metadata": {
    "collapsed": false,
    "pycharm": {
     "name": "#%% md\n"
    }
   }
  },
  {
   "cell_type": "code",
   "execution_count": 104,
   "outputs": [
    {
     "data": {
      "text/plain": "'<ul><li>CASH BUYERS ONLY</li><li>No Upper Chain!</li><li>Very Rare 2 Car Parking Spaces</li><li>Great Commuter Links by Road & Rail</li><li>Communal Gardens</li><li>2 Bedrooms</li><li>Cul-De-Sac Location</li><li>Brand New Bathroom</li><li>Lovely Residential Area</li></ul>'"
     },
     "execution_count": 104,
     "metadata": {},
     "output_type": "execute_result"
    }
   ],
   "source": [
    "string = data[\"EweMove Description S1 Features\"][0]\n",
    "soup = BeautifulSoup(string, \"html.parser\")\n",
    "string"
   ],
   "metadata": {
    "collapsed": false,
    "pycharm": {
     "name": "#%%\n"
    }
   }
  },
  {
   "cell_type": "code",
   "execution_count": 105,
   "outputs": [
    {
     "name": "stdout",
     "output_type": "stream",
     "text": [
      "<ul>\n",
      " <li>\n",
      "  CASH BUYERS ONLY\n",
      " </li>\n",
      " <li>\n",
      "  No Upper Chain!\n",
      " </li>\n",
      " <li>\n",
      "  Very Rare 2 Car Parking Spaces\n",
      " </li>\n",
      " <li>\n",
      "  Great Commuter Links by Road &amp; Rail\n",
      " </li>\n",
      " <li>\n",
      "  Communal Gardens\n",
      " </li>\n",
      " <li>\n",
      "  2 Bedrooms\n",
      " </li>\n",
      " <li>\n",
      "  Cul-De-Sac Location\n",
      " </li>\n",
      " <li>\n",
      "  Brand New Bathroom\n",
      " </li>\n",
      " <li>\n",
      "  Lovely Residential Area\n",
      " </li>\n",
      "</ul>\n"
     ]
    }
   ],
   "source": [
    "print(soup.prettify())"
   ],
   "metadata": {
    "collapsed": false,
    "pycharm": {
     "name": "#%%\n"
    }
   }
  },
  {
   "cell_type": "code",
   "execution_count": 106,
   "outputs": [
    {
     "name": "stdout",
     "output_type": "stream",
     "text": [
      "CASH BUYERS ONLY\n",
      "No Upper Chain!\n",
      "Very Rare 2 Car Parking Spaces\n",
      "Great Commuter Links by Road & Rail\n",
      "Communal Gardens\n",
      "2 Bedrooms\n",
      "Cul-De-Sac Location\n",
      "Brand New Bathroom\n",
      "Lovely Residential Area\n"
     ]
    }
   ],
   "source": [
    "features = soup.select(\"li\")\n",
    "for feature in features:\n",
    "    print(feature.string.strip())"
   ],
   "metadata": {
    "collapsed": false,
    "pycharm": {
     "name": "#%%\n"
    }
   }
  },
  {
   "cell_type": "markdown",
   "source": [
    "## EweMove Description S3 Rooms"
   ],
   "metadata": {
    "collapsed": false,
    "pycharm": {
     "name": "#%% md\n"
    }
   }
  },
  {
   "cell_type": "code",
   "execution_count": 107,
   "outputs": [],
   "source": [
    "string = data[\"EweMove Description S3 Rooms\"][0]\n",
    "soup = BeautifulSoup(string, \"html.parser\")"
   ],
   "metadata": {
    "collapsed": false,
    "pycharm": {
     "name": "#%%\n"
    }
   }
  },
  {
   "cell_type": "code",
   "execution_count": 108,
   "outputs": [
    {
     "name": "stdout",
     "output_type": "stream",
     "text": [
      " Entrance Hall           0\n",
      " Living/Dining Room      6.58m x 3.78m (24.8 sqm) - 21' 7\" x 12' 4\" (267 sqft)\n",
      " Kitchen                 2.68m x 2.14m (5.7 sqm) - 8' 9\" x 7' (61 sqft)\n",
      " Bedroom 1               3.37m x 2.45m (8.2 sqm) - 11' x 8' (88 sqft)\n",
      " Bedroom 2               2.54m x 2.45m (6.2 sqm) - 8' 4\" x 8' (67 sqft)\n",
      " Bathroom                2.14m x 2.04m (4.3 sqm) - 7' x 6' 8\" (46 sqft)\n",
      " Garden                  0\n",
      " Parking                 0\n"
     ]
    }
   ],
   "source": [
    "rooms = soup.select(\"li\")\n",
    "for room in rooms:\n",
    "    name = room.strong.string.strip().split('-')[-1]\n",
    "    try:\n",
    "        area = room.i.string\n",
    "    except AttributeError:\n",
    "        area = 0\n",
    "    print(\"{:25s}{}\".format(name, area))"
   ],
   "metadata": {
    "collapsed": false,
    "pycharm": {
     "name": "#%%\n"
    }
   }
  },
  {
   "cell_type": "markdown",
   "source": [
    "## EweMove Description S4 Summary"
   ],
   "metadata": {
    "collapsed": false,
    "pycharm": {
     "name": "#%% md\n"
    }
   }
  },
  {
   "cell_type": "code",
   "execution_count": 109,
   "outputs": [],
   "source": [
    "string = data[\"EweMove Description S4 Summary\"][0]\n",
    "soup = BeautifulSoup(string, \"html.parser\")"
   ],
   "metadata": {
    "collapsed": false,
    "pycharm": {
     "name": "#%%\n"
    }
   }
  },
  {
   "cell_type": "code",
   "execution_count": 113,
   "outputs": [
    {
     "name": "stdout",
     "output_type": "stream",
     "text": [
      "Council Tax                                       Band B         \n",
      "Energy Performance Certificate (EPC) Rating       Band C (69-80) \n"
     ]
    }
   ],
   "source": [
    "summary = soup.select(\"li\")\n",
    "for s in summary:\n",
    "    attribute = s.b.string.strip(\": \")\n",
    "    brand = list(filter(lambda c: isinstance(c, str) and c.startswith(\"Band\"), s.contents))[0]\n",
    "    print(\"{:50s}{:15s}\".format(attribute, brand))"
   ],
   "metadata": {
    "collapsed": false,
    "pycharm": {
     "name": "#%%\n"
    }
   }
  },
  {
   "cell_type": "markdown",
   "source": [
    "## Price / Rent"
   ],
   "metadata": {
    "collapsed": false,
    "pycharm": {
     "name": "#%% md\n"
    }
   }
  },
  {
   "cell_type": "code",
   "execution_count": 142,
   "outputs": [
    {
     "data": {
      "text/plain": "\"<font color='blue'>&pound;140,000</font><br>Offers In Excess Of\""
     },
     "execution_count": 142,
     "metadata": {},
     "output_type": "execute_result"
    }
   ],
   "source": [
    "string = data[\"Price / Rent\"][0]\n",
    "string"
   ],
   "metadata": {
    "collapsed": false,
    "pycharm": {
     "name": "#%%\n"
    }
   }
  },
  {
   "cell_type": "code",
   "execution_count": 160,
   "outputs": [
    {
     "name": "stdout",
     "output_type": "stream",
     "text": [
      "Offers In Excess Of\n",
      "140,000\n"
     ]
    }
   ],
   "source": [
    "price_qualifier = string.split(\"<br>\")[-1]\n",
    "\n",
    "pattern = \"[-+]?[.]?[\\d]+(?:,\\d\\d\\d)*[\\.]?\\d*(?:[eE][-+]?\\d+)?\"\n",
    "price = re.findall(pattern, string)[0]\n",
    "\n",
    "print(price_qualifier)\n",
    "print(price)"
   ],
   "metadata": {
    "collapsed": false,
    "pycharm": {
     "name": "#%%\n"
    }
   }
  },
  {
   "cell_type": "code",
   "execution_count": null,
   "outputs": [],
   "source": [],
   "metadata": {
    "collapsed": false,
    "pycharm": {
     "name": "#%%\n"
    }
   }
  }
 ],
 "metadata": {
  "kernelspec": {
   "display_name": "Python 3",
   "language": "python",
   "name": "python3"
  },
  "language_info": {
   "codemirror_mode": {
    "name": "ipython",
    "version": 2
   },
   "file_extension": ".py",
   "mimetype": "text/x-python",
   "name": "python",
   "nbconvert_exporter": "python",
   "pygments_lexer": "ipython2",
   "version": "2.7.6"
  }
 },
 "nbformat": 4,
 "nbformat_minor": 0
}