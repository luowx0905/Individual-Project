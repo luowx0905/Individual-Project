{
 "cells": [
  {
   "cell_type": "markdown",
   "source": [
    "# Import packages"
   ],
   "metadata": {
    "collapsed": false,
    "pycharm": {
     "name": "#%% md\n"
    }
   }
  },
  {
   "cell_type": "code",
   "execution_count": 4,
   "outputs": [],
   "source": [
    "import pandas as pd\n",
    "import numpy as np\n",
    "import parse\n",
    "import re\n",
    "from bs4 import BeautifulSoup # handle html strings\n",
    "from ProcessHTML import ProcessHTML"
   ],
   "metadata": {
    "collapsed": false,
    "pycharm": {
     "name": "#%%\n"
    }
   }
  },
  {
   "cell_type": "markdown",
   "source": [
    "# Read Dataset"
   ],
   "metadata": {
    "collapsed": false,
    "pycharm": {
     "name": "#%% md\n"
    }
   }
  },
  {
   "cell_type": "code",
   "execution_count": 5,
   "outputs": [
    {
     "data": {
      "text/plain": "   Postcode     Created  Advertised      Agreed   Completed  \\\n0   LU7 4WN  03/04/2019  03/04/2019         NaN         NaN   \n1   L23 6YD  21/03/2019  24/03/2019  05/04/2021  28/06/2021   \n2  DA17 5PJ  25/03/2019  03/04/2019  25/01/2021  15/03/2021   \n3   NW4 1AP  28/06/2019  04/07/2019         NaN         NaN   \n4   GL7 5UX  12/06/2019  09/08/2019  13/04/2021  05/07/2021   \n\n  Date Listing Last Cancelled Sale or Let  \\\n0                  28/02/2022        Sale   \n1                  26/02/2020        Sale   \n2                  13/06/2019        Sale   \n3                         NaN        Sale   \n4                         NaN        Sale   \n\n  RTD3308_outside_space1 - Outside Space Description  \\\n0                                    Communal Garden   \n1                                                NaN   \n2                                        Rear Garden   \n3                                                NaN   \n4                                        Back Garden   \n\n                     EweMove Description S1 Features  \\\n0  <ul><li>CASH BUYERS ONLY</li><li>No Upper Chai...   \n1  <ul><li>Sea Views</li><li>Very Popular Locatio...   \n2  <ul><li>Call NOW 24/7 or book instantly online...   \n3  <ul><li>5 bed link detached FREEHOLD house wit...   \n4  <ul><li>Four Bedrooms</li><li>Detached</li><li...   \n\n                  EweMove Description S2 Description  ...  \\\n0  Cash Buyers... You could pounce super quick on...  ...   \n1  WATCHING THE SHIPS ROLL IN - from your very ow...  ...   \n2  Guide price &pound;325,000 - &pound;350,000.Lo...  ...   \n3  EweMove Hampstead - A rare opportunity to acqu...  ...   \n4  For anyone looking for a family home in South ...  ...   \n\n                                        Price / Rent      Price Qualifier  \\\n0  <font color='blue'>&pound;140,000</font><br>Of...  Offers In Excess Of   \n1  <font color='blue'>&pound;325,000</font><br>Of...          Offers Over   \n2  <font color='blue'>&pound;325,000</font><br>Gu...          Guide Price   \n3  <font color='blue'>&pound;1,095,000</font><br>...          Guide Price   \n4       <font color='blue'>&pound;395,000</font><br>                  NaN   \n\n  Sale Price % Achieved Current EPC - EPC Expiry Date DESC Council Tax Band  \\\n0               130.71%                    11/03/2028                Band B   \n1                   NaN                    28/03/2029                Band E   \n2                   NaN                    12/07/2028                Band D   \n3                   NaN                    30/06/2029                   NaN   \n4               100.00%                    30/06/2024                   NaN   \n\n  DESC Leasehold Ground Rent DESC Leasehold Service Charge  \\\n0                        NaN                           NaN   \n1                        NaN                           NaN   \n2                        NaN                           NaN   \n3                        NaN                           NaN   \n4                        NaN                           NaN   \n\n  ZPG_lease_expiry_years_remaining # of Enquiry or viewings # of Apps/Offers  \n0                             68.0                       32               12  \n1                              NaN                       15               10  \n2                              NaN                       14                4  \n3                              NaN                       13                1  \n4                              NaN                       11                9  \n\n[5 rows x 35 columns]",
      "text/html": "<div>\n<style scoped>\n    .dataframe tbody tr th:only-of-type {\n        vertical-align: middle;\n    }\n\n    .dataframe tbody tr th {\n        vertical-align: top;\n    }\n\n    .dataframe thead th {\n        text-align: right;\n    }\n</style>\n<table border=\"1\" class=\"dataframe\">\n  <thead>\n    <tr style=\"text-align: right;\">\n      <th></th>\n      <th>Postcode</th>\n      <th>Created</th>\n      <th>Advertised</th>\n      <th>Agreed</th>\n      <th>Completed</th>\n      <th>Date Listing Last Cancelled</th>\n      <th>Sale or Let</th>\n      <th>RTD3308_outside_space1 - Outside Space Description</th>\n      <th>EweMove Description S1 Features</th>\n      <th>EweMove Description S2 Description</th>\n      <th>...</th>\n      <th>Price / Rent</th>\n      <th>Price Qualifier</th>\n      <th>Sale Price % Achieved</th>\n      <th>Current EPC - EPC Expiry Date</th>\n      <th>DESC Council Tax Band</th>\n      <th>DESC Leasehold Ground Rent</th>\n      <th>DESC Leasehold Service Charge</th>\n      <th>ZPG_lease_expiry_years_remaining</th>\n      <th># of Enquiry or viewings</th>\n      <th># of Apps/Offers</th>\n    </tr>\n  </thead>\n  <tbody>\n    <tr>\n      <th>0</th>\n      <td>LU7 4WN</td>\n      <td>03/04/2019</td>\n      <td>03/04/2019</td>\n      <td>NaN</td>\n      <td>NaN</td>\n      <td>28/02/2022</td>\n      <td>Sale</td>\n      <td>Communal Garden</td>\n      <td>&lt;ul&gt;&lt;li&gt;CASH BUYERS ONLY&lt;/li&gt;&lt;li&gt;No Upper Chai...</td>\n      <td>Cash Buyers... You could pounce super quick on...</td>\n      <td>...</td>\n      <td>&lt;font color='blue'&gt;&amp;pound;140,000&lt;/font&gt;&lt;br&gt;Of...</td>\n      <td>Offers In Excess Of</td>\n      <td>130.71%</td>\n      <td>11/03/2028</td>\n      <td>Band B</td>\n      <td>NaN</td>\n      <td>NaN</td>\n      <td>68.0</td>\n      <td>32</td>\n      <td>12</td>\n    </tr>\n    <tr>\n      <th>1</th>\n      <td>L23 6YD</td>\n      <td>21/03/2019</td>\n      <td>24/03/2019</td>\n      <td>05/04/2021</td>\n      <td>28/06/2021</td>\n      <td>26/02/2020</td>\n      <td>Sale</td>\n      <td>NaN</td>\n      <td>&lt;ul&gt;&lt;li&gt;Sea Views&lt;/li&gt;&lt;li&gt;Very Popular Locatio...</td>\n      <td>WATCHING THE SHIPS ROLL IN - from your very ow...</td>\n      <td>...</td>\n      <td>&lt;font color='blue'&gt;&amp;pound;325,000&lt;/font&gt;&lt;br&gt;Of...</td>\n      <td>Offers Over</td>\n      <td>NaN</td>\n      <td>28/03/2029</td>\n      <td>Band E</td>\n      <td>NaN</td>\n      <td>NaN</td>\n      <td>NaN</td>\n      <td>15</td>\n      <td>10</td>\n    </tr>\n    <tr>\n      <th>2</th>\n      <td>DA17 5PJ</td>\n      <td>25/03/2019</td>\n      <td>03/04/2019</td>\n      <td>25/01/2021</td>\n      <td>15/03/2021</td>\n      <td>13/06/2019</td>\n      <td>Sale</td>\n      <td>Rear Garden</td>\n      <td>&lt;ul&gt;&lt;li&gt;Call NOW 24/7 or book instantly online...</td>\n      <td>Guide price &amp;pound;325,000 - &amp;pound;350,000.Lo...</td>\n      <td>...</td>\n      <td>&lt;font color='blue'&gt;&amp;pound;325,000&lt;/font&gt;&lt;br&gt;Gu...</td>\n      <td>Guide Price</td>\n      <td>NaN</td>\n      <td>12/07/2028</td>\n      <td>Band D</td>\n      <td>NaN</td>\n      <td>NaN</td>\n      <td>NaN</td>\n      <td>14</td>\n      <td>4</td>\n    </tr>\n    <tr>\n      <th>3</th>\n      <td>NW4 1AP</td>\n      <td>28/06/2019</td>\n      <td>04/07/2019</td>\n      <td>NaN</td>\n      <td>NaN</td>\n      <td>NaN</td>\n      <td>Sale</td>\n      <td>NaN</td>\n      <td>&lt;ul&gt;&lt;li&gt;5 bed link detached FREEHOLD house wit...</td>\n      <td>EweMove Hampstead - A rare opportunity to acqu...</td>\n      <td>...</td>\n      <td>&lt;font color='blue'&gt;&amp;pound;1,095,000&lt;/font&gt;&lt;br&gt;...</td>\n      <td>Guide Price</td>\n      <td>NaN</td>\n      <td>30/06/2029</td>\n      <td>NaN</td>\n      <td>NaN</td>\n      <td>NaN</td>\n      <td>NaN</td>\n      <td>13</td>\n      <td>1</td>\n    </tr>\n    <tr>\n      <th>4</th>\n      <td>GL7 5UX</td>\n      <td>12/06/2019</td>\n      <td>09/08/2019</td>\n      <td>13/04/2021</td>\n      <td>05/07/2021</td>\n      <td>NaN</td>\n      <td>Sale</td>\n      <td>Back Garden</td>\n      <td>&lt;ul&gt;&lt;li&gt;Four Bedrooms&lt;/li&gt;&lt;li&gt;Detached&lt;/li&gt;&lt;li...</td>\n      <td>For anyone looking for a family home in South ...</td>\n      <td>...</td>\n      <td>&lt;font color='blue'&gt;&amp;pound;395,000&lt;/font&gt;&lt;br&gt;</td>\n      <td>NaN</td>\n      <td>100.00%</td>\n      <td>30/06/2024</td>\n      <td>NaN</td>\n      <td>NaN</td>\n      <td>NaN</td>\n      <td>NaN</td>\n      <td>11</td>\n      <td>9</td>\n    </tr>\n  </tbody>\n</table>\n<p>5 rows × 35 columns</p>\n</div>"
     },
     "execution_count": 5,
     "metadata": {},
     "output_type": "execute_result"
    }
   ],
   "source": [
    "filename = \"../datasets/PropertyData_wDesc.csv\"\n",
    "# Default encoding (UTF-8) not working on this dataset\n",
    "data = pd.read_csv(filename, encoding=\"ISO8859-1\")\n",
    "data.head()"
   ],
   "metadata": {
    "collapsed": false,
    "pycharm": {
     "name": "#%%\n"
    }
   }
  },
  {
   "cell_type": "markdown",
   "source": [
    "# Inspecting the dataset"
   ],
   "metadata": {
    "collapsed": false,
    "pycharm": {
     "name": "#%% md\n"
    }
   }
  },
  {
   "cell_type": "code",
   "execution_count": 6,
   "outputs": [
    {
     "data": {
      "text/plain": "(3649, 35)"
     },
     "execution_count": 6,
     "metadata": {},
     "output_type": "execute_result"
    }
   ],
   "source": [
    "data.shape"
   ],
   "metadata": {
    "collapsed": false,
    "pycharm": {
     "name": "#%%\n"
    }
   }
  },
  {
   "cell_type": "code",
   "execution_count": 7,
   "outputs": [
    {
     "data": {
      "text/plain": "Postcode                                                 0\nCreated                                                  0\nAdvertised                                             453\nAgreed                                                1381\nCompleted                                             1483\nDate Listing Last Cancelled                           2179\nSale or Let                                              0\nRTD3308_outside_space1 - Outside Space Description    1450\nEweMove Description S1 Features                          0\nEweMove Description S2 Description                     301\nEweMove Description S3 Rooms                           977\nEweMove Description S4 Summary                           0\nRTD3307_parking1 - Parking Description                1331\nRTD3307_parking2 - Parking Description                2077\nRTD3307_parking3 - Parking Description                2779\nRTD3308_outside_space2 - Outside Space Description    2001\nRTD3308_outside_space3 - Outside Space Description    2561\nRTD3316_condition1 - Condition Description            1383\nRTD3318_heating1 - Heating Description                1312\nRTD3317_accessibility1 - accessibility Description    2296\nRTD3317_accessibility2 - accessibility Description    3555\nRTD3317_accessibility3 - accessibility Description    3641\nRTD3318_heating2 - Heating Description                1919\nRTD3313_land_area_unit - Area Description             3613\nRTD3318_heating3 - Heating Description                3039\nPrice / Rent                                             0\nPrice Qualifier                                       1148\nSale Price % Achieved                                 3127\nCurrent EPC - EPC Expiry Date                         1059\nDESC Council Tax Band                                 1458\nDESC Leasehold Ground Rent                            3451\nDESC Leasehold Service Charge                         3436\nZPG_lease_expiry_years_remaining                      3372\n# of Enquiry or viewings                                 0\n# of Apps/Offers                                         0\ndtype: int64"
     },
     "execution_count": 7,
     "metadata": {},
     "output_type": "execute_result"
    }
   ],
   "source": [
    "data.isnull().sum()"
   ],
   "metadata": {
    "collapsed": false,
    "pycharm": {
     "name": "#%%\n"
    }
   }
  },
  {
   "cell_type": "markdown",
   "source": [
    "# Handling HTML text"
   ],
   "metadata": {
    "collapsed": false,
    "pycharm": {
     "name": "#%% md\n"
    }
   }
  },
  {
   "cell_type": "markdown",
   "source": [
    "## EweMove Description S1 Features"
   ],
   "metadata": {
    "collapsed": false,
    "pycharm": {
     "name": "#%% md\n"
    }
   }
  },
  {
   "cell_type": "code",
   "execution_count": 8,
   "outputs": [
    {
     "data": {
      "text/plain": "'<ul><li>CASH BUYERS ONLY</li><li>No Upper Chain!</li><li>Very Rare 2 Car Parking Spaces</li><li>Great Commuter Links by Road & Rail</li><li>Communal Gardens</li><li>2 Bedrooms</li><li>Cul-De-Sac Location</li><li>Brand New Bathroom</li><li>Lovely Residential Area</li></ul>'"
     },
     "execution_count": 8,
     "metadata": {},
     "output_type": "execute_result"
    }
   ],
   "source": [
    "string = data[\"EweMove Description S1 Features\"][0]\n",
    "soup = BeautifulSoup(string, \"html.parser\")\n",
    "string"
   ],
   "metadata": {
    "collapsed": false,
    "pycharm": {
     "name": "#%%\n"
    }
   }
  },
  {
   "cell_type": "code",
   "execution_count": 9,
   "outputs": [
    {
     "name": "stdout",
     "output_type": "stream",
     "text": [
      "<ul>\n",
      " <li>\n",
      "  CASH BUYERS ONLY\n",
      " </li>\n",
      " <li>\n",
      "  No Upper Chain!\n",
      " </li>\n",
      " <li>\n",
      "  Very Rare 2 Car Parking Spaces\n",
      " </li>\n",
      " <li>\n",
      "  Great Commuter Links by Road &amp; Rail\n",
      " </li>\n",
      " <li>\n",
      "  Communal Gardens\n",
      " </li>\n",
      " <li>\n",
      "  2 Bedrooms\n",
      " </li>\n",
      " <li>\n",
      "  Cul-De-Sac Location\n",
      " </li>\n",
      " <li>\n",
      "  Brand New Bathroom\n",
      " </li>\n",
      " <li>\n",
      "  Lovely Residential Area\n",
      " </li>\n",
      "</ul>\n"
     ]
    }
   ],
   "source": [
    "print(soup.prettify())"
   ],
   "metadata": {
    "collapsed": false,
    "pycharm": {
     "name": "#%%\n"
    }
   }
  },
  {
   "cell_type": "code",
   "execution_count": 10,
   "outputs": [
    {
     "name": "stdout",
     "output_type": "stream",
     "text": [
      "CASH BUYERS ONLY\n",
      "No Upper Chain!\n",
      "Very Rare 2 Car Parking Spaces\n",
      "Great Commuter Links by Road & Rail\n",
      "Communal Gardens\n",
      "2 Bedrooms\n",
      "Cul-De-Sac Location\n",
      "Brand New Bathroom\n",
      "Lovely Residential Area\n"
     ]
    }
   ],
   "source": [
    "features = soup.select(\"li\")\n",
    "for feature in features:\n",
    "    print(feature.string.strip())"
   ],
   "metadata": {
    "collapsed": false,
    "pycharm": {
     "name": "#%%\n"
    }
   }
  },
  {
   "cell_type": "markdown",
   "source": [
    "## EweMove Description S3 Rooms"
   ],
   "metadata": {
    "collapsed": false,
    "pycharm": {
     "name": "#%% md\n"
    }
   }
  },
  {
   "cell_type": "code",
   "execution_count": 11,
   "outputs": [],
   "source": [
    "string = data[\"EweMove Description S3 Rooms\"][6]\n",
    "soup = BeautifulSoup(string, \"html.parser\")"
   ],
   "metadata": {
    "collapsed": false,
    "pycharm": {
     "name": "#%%\n"
    }
   }
  },
  {
   "cell_type": "code",
   "execution_count": 12,
   "outputs": [
    {
     "name": "stdout",
     "output_type": "stream",
     "text": [
      "Living Room              4.34m x 4.11m (17.8 sqm) - 14' 3\" x 13' 5\" (192 sqft)\n",
      "Dining Room              3.13m x 2.83m (8.8 sqm) - 10' 3\" x 9' 3\" (95 sqft)\n",
      "Kitchen                  3.12m x 2.83m (8.8 sqm) - 10' 2\" x 9' 3\" (95 sqft)\n",
      "Play Room                2.29m x 2.04m (4.6 sqm) - 7' 6\" x 6' 8\" (50 sqft)\n",
      "Bedroom 1                4.05m x 3.38m (13.7 sqm) - 13' 3\" x 11' 1\" (147 sqft)\n",
      "Bedroom 2                4.11m x 2.29m (9.4 sqm) - 13' 5\" x 7' 6\" (101 sqft)\n",
      "Bedroom 3                3.36m x 2.86m (9.6 sqm) - 11' x 9' 4\" (103 sqft)\n",
      "Garage                   5.09m x 2.48m (12.6 sqm) - 16' 8\" x 8' 1\" (136 sqft)\n"
     ]
    }
   ],
   "source": [
    "rooms = soup.select(\"li\")\n",
    "for room in rooms:\n",
    "    name = room.strong.string.split('-')[-1].strip()\n",
    "    try:\n",
    "        area = room.i.string\n",
    "    except AttributeError:\n",
    "        area = 1\n",
    "    print(\"{:25s}{}\".format(name, area))"
   ],
   "metadata": {
    "collapsed": false,
    "pycharm": {
     "name": "#%%\n"
    }
   }
  },
  {
   "cell_type": "markdown",
   "source": [
    "## EweMove Description S4 Summary"
   ],
   "metadata": {
    "collapsed": false,
    "pycharm": {
     "name": "#%% md\n"
    }
   }
  },
  {
   "cell_type": "code",
   "execution_count": 13,
   "outputs": [],
   "source": [
    "string = data[\"EweMove Description S4 Summary\"][26]\n",
    "soup = BeautifulSoup(string, \"html.parser\")"
   ],
   "metadata": {
    "collapsed": false,
    "pycharm": {
     "name": "#%%\n"
    }
   }
  },
  {
   "cell_type": "code",
   "execution_count": 14,
   "outputs": [
    {
     "data": {
      "text/plain": "['<b>HUGE Summerhouse</b><br>',\n '<b>Extra long garage</b><br>',\n '<b>Parking for 4 cars</b><br>',\n '<b>Great internal space</b><br>',\n \"<b>South-facing garden</b></li><br><br>Call 24/7 to register your interest or go online to book a viewing at a time that suits you - it's that easy.\"]"
     },
     "execution_count": 14,
     "metadata": {},
     "output_type": "execute_result"
    }
   ],
   "source": [
    "summary = list(filter(lambda s: s.startswith(\"<b>\"), string.split(\"<li>\")))\n",
    "summary"
   ],
   "metadata": {
    "collapsed": false,
    "pycharm": {
     "name": "#%%\n"
    }
   }
  },
  {
   "cell_type": "code",
   "execution_count": 15,
   "outputs": [
    {
     "name": "stdout",
     "output_type": "stream",
     "text": [
      "('HUGE Summerhouse',)\n",
      "('Extra long garage',)\n",
      "('Parking for 4 cars',)\n",
      "('Great internal space',)\n",
      "('South-facing garden', \"Call 24/7 to register your interest or go online to book a viewing at a time that suits you - it's that easy.\")\n"
     ]
    }
   ],
   "source": [
    "single = parse.compile(\"<b>{}</b><br>\")\n",
    "double = parse.compile(\"<b>{}</b><br><br>{}<br><br>\")\n",
    "final1 = parse.compile(\"<b>{}</b><br><br>{}<br></li>\")\n",
    "final2 = parse.compile(\"<b>{}</b><br><br>{}<br></li><br><br>{}\")\n",
    "final3 = parse.compile(\"<b>{}</b></li>\")\n",
    "final4 = parse.compile(\"<b>{}</b></li><br><br>{}\")\n",
    "parsers = [single, double, final1, final2, final3, final4]\n",
    "for s in summary:\n",
    "    result = list(filter(lambda r: r is not None, map(lambda p: p.parse(s), parsers)))[0]\n",
    "    print(result.fixed)"
   ],
   "metadata": {
    "collapsed": false,
    "pycharm": {
     "name": "#%%\n"
    }
   }
  },
  {
   "cell_type": "markdown",
   "source": [
    "## Price / Rent"
   ],
   "metadata": {
    "collapsed": false,
    "pycharm": {
     "name": "#%% md\n"
    }
   }
  },
  {
   "cell_type": "code",
   "execution_count": 16,
   "outputs": [
    {
     "data": {
      "text/plain": "\"<font color='blue'>&pound;0</font><br>\""
     },
     "execution_count": 16,
     "metadata": {},
     "output_type": "execute_result"
    }
   ],
   "source": [
    "string = data[\"Price / Rent\"][3632]\n",
    "string"
   ],
   "metadata": {
    "collapsed": false,
    "pycharm": {
     "name": "#%%\n"
    }
   }
  },
  {
   "cell_type": "code",
   "execution_count": 17,
   "outputs": [
    {
     "name": "stdout",
     "output_type": "stream",
     "text": [
      "\n",
      "0\n"
     ]
    }
   ],
   "source": [
    "price_qualifier = string.split(\"<br>\")[-1]\n",
    "\n",
    "pattern = \"[-+]?[.]?[\\d]+(?:,\\d\\d\\d)*[\\.]?\\d*(?:[eE][-+]?\\d+)?\"\n",
    "price = re.findall(pattern, string)[0]\n",
    "\n",
    "print(price_qualifier)\n",
    "print(price)"
   ],
   "metadata": {
    "collapsed": false,
    "pycharm": {
     "name": "#%%\n"
    }
   }
  },
  {
   "cell_type": "markdown",
   "source": [
    "# Preprocess records"
   ],
   "metadata": {
    "collapsed": false,
    "pycharm": {
     "name": "#%% md\n"
    }
   }
  },
  {
   "cell_type": "markdown",
   "source": [
    "## Parking spaces"
   ],
   "metadata": {
    "collapsed": false,
    "pycharm": {
     "name": "#%% md\n"
    }
   }
  },
  {
   "cell_type": "code",
   "execution_count": 18,
   "outputs": [
    {
     "data": {
      "text/plain": "  RTD3307_parking1 - Parking Description  \\\n0                              Allocated   \n1                                    NaN   \n2                              On Street   \n3                                    NaN   \n4                               Driveway   \n\n  RTD3307_parking2 - Parking Description  \\\n0                             Off Street   \n1                                    NaN   \n2                                    NaN   \n3                                    NaN   \n4                                 Garage   \n\n  RTD3307_parking3 - Parking Description  \n0                              Residents  \n1                                    NaN  \n2                                    NaN  \n3                                    NaN  \n4                             Off Street  ",
      "text/html": "<div>\n<style scoped>\n    .dataframe tbody tr th:only-of-type {\n        vertical-align: middle;\n    }\n\n    .dataframe tbody tr th {\n        vertical-align: top;\n    }\n\n    .dataframe thead th {\n        text-align: right;\n    }\n</style>\n<table border=\"1\" class=\"dataframe\">\n  <thead>\n    <tr style=\"text-align: right;\">\n      <th></th>\n      <th>RTD3307_parking1 - Parking Description</th>\n      <th>RTD3307_parking2 - Parking Description</th>\n      <th>RTD3307_parking3 - Parking Description</th>\n    </tr>\n  </thead>\n  <tbody>\n    <tr>\n      <th>0</th>\n      <td>Allocated</td>\n      <td>Off Street</td>\n      <td>Residents</td>\n    </tr>\n    <tr>\n      <th>1</th>\n      <td>NaN</td>\n      <td>NaN</td>\n      <td>NaN</td>\n    </tr>\n    <tr>\n      <th>2</th>\n      <td>On Street</td>\n      <td>NaN</td>\n      <td>NaN</td>\n    </tr>\n    <tr>\n      <th>3</th>\n      <td>NaN</td>\n      <td>NaN</td>\n      <td>NaN</td>\n    </tr>\n    <tr>\n      <th>4</th>\n      <td>Driveway</td>\n      <td>Garage</td>\n      <td>Off Street</td>\n    </tr>\n  </tbody>\n</table>\n</div>"
     },
     "execution_count": 18,
     "metadata": {},
     "output_type": "execute_result"
    }
   ],
   "source": [
    "parkings_name = list(filter(lambda s: \"parking\" in s, data.columns))\n",
    "parkings = data[parkings_name].copy()\n",
    "parkings.head()"
   ],
   "metadata": {
    "collapsed": false,
    "pycharm": {
     "name": "#%%\n"
    }
   }
  },
  {
   "cell_type": "markdown",
   "source": [
    "### Types of parking spaces for every property\n",
    "First obtaining all the parking types in the original dataset, then get the parking types for every property"
   ],
   "metadata": {
    "collapsed": false,
    "pycharm": {
     "name": "#%% md\n"
    }
   }
  },
  {
   "cell_type": "code",
   "execution_count": 19,
   "outputs": [
    {
     "data": {
      "text/plain": "[('Allocated', 343),\n ('Communal', 81),\n ('Covered', 36),\n ('Driveway', 1257),\n ('Garage', 842),\n ('Gated', 89),\n ('None', 6187),\n ('Off Street', 1209),\n ('On Street', 458),\n ('Permit', 70),\n ('Private', 258),\n ('Rear', 27),\n ('Residents', 90)]"
     },
     "execution_count": 19,
     "metadata": {},
     "output_type": "execute_result"
    }
   ],
   "source": [
    "parkings = parkings.fillna(\"None\")\n",
    "types, counts = np.unique(parkings.to_numpy().flatten(), return_counts=True)\n",
    "list(zip(types, counts))"
   ],
   "metadata": {
    "collapsed": false,
    "pycharm": {
     "name": "#%%\n"
    }
   }
  },
  {
   "cell_type": "code",
   "execution_count": 20,
   "outputs": [],
   "source": [
    "def get_parking_spaces_for_property(first: str, second: str, third: str):\n",
    "    parking_types = {\"Allocated\": 0, \"Off Street\": 0, \"Residents\": 0, \"On Street\": 0, \"Driveway\": 0, \"Garage\": 0,\n",
    "                     \"Permit\": 0, \"Private\": 0, \"Gated\": 0, \"Covered\": 0, \"Communal\": 0, \"Rear\": 0}\n",
    "\n",
    "    if first in parking_types.keys():\n",
    "        parking_types[first] += 1\n",
    "    if second in parking_types.keys():\n",
    "        parking_types[second] += 1\n",
    "    if third in parking_types.keys():\n",
    "        parking_types[third] += 1\n",
    "\n",
    "    return parking_types"
   ],
   "metadata": {
    "collapsed": false,
    "pycharm": {
     "name": "#%%\n"
    }
   }
  },
  {
   "cell_type": "code",
   "execution_count": 21,
   "outputs": [],
   "source": [
    "parking_types = {key: [] for key in types if key != \"None\"}\n",
    "for i in range(len(parkings)):\n",
    "    first = parkings.iloc[i, 0]\n",
    "    second = parkings.iloc[i, 1]\n",
    "    third = parkings.iloc[i, 2]\n",
    "    types = get_parking_spaces_for_property(first, second, third)\n",
    "\n",
    "    list(map(lambda value, d: parking_types[d].append(types[value]), types.keys(), types.keys()))"
   ],
   "metadata": {
    "collapsed": false,
    "pycharm": {
     "name": "#%%\n"
    }
   }
  },
  {
   "cell_type": "code",
   "execution_count": 22,
   "outputs": [
    {
     "name": "stdout",
     "output_type": "stream",
     "text": [
      "Allocated \t  343\t 3649\n",
      "Communal  \t   81\t 3649\n",
      "Covered   \t   36\t 3649\n",
      "Driveway  \t 1257\t 3649\n",
      "Garage    \t  842\t 3649\n",
      "Gated     \t   89\t 3649\n",
      "Off Street\t 1209\t 3649\n",
      "On Street \t  458\t 3649\n",
      "Permit    \t   70\t 3649\n",
      "Private   \t  258\t 3649\n",
      "Rear      \t   27\t 3649\n",
      "Residents \t   90\t 3649\n"
     ]
    }
   ],
   "source": [
    "for k, v in parking_types.items():\n",
    "    print(\"{:10s}\\t{:5d}\\t{:5d}\".format(k, sum(v), len(v)))"
   ],
   "metadata": {
    "collapsed": false,
    "pycharm": {
     "name": "#%%\n"
    }
   }
  },
  {
   "cell_type": "markdown",
   "source": [
    "### Number of parking spaces for every property"
   ],
   "metadata": {
    "collapsed": false,
    "pycharm": {
     "name": "#%% md\n"
    }
   }
  },
  {
   "cell_type": "code",
   "execution_count": 23,
   "outputs": [
    {
     "data": {
      "text/plain": "   parking num\n0            3\n1            0\n2            1\n3            0\n4            3",
      "text/html": "<div>\n<style scoped>\n    .dataframe tbody tr th:only-of-type {\n        vertical-align: middle;\n    }\n\n    .dataframe tbody tr th {\n        vertical-align: top;\n    }\n\n    .dataframe thead th {\n        text-align: right;\n    }\n</style>\n<table border=\"1\" class=\"dataframe\">\n  <thead>\n    <tr style=\"text-align: right;\">\n      <th></th>\n      <th>parking num</th>\n    </tr>\n  </thead>\n  <tbody>\n    <tr>\n      <th>0</th>\n      <td>3</td>\n    </tr>\n    <tr>\n      <th>1</th>\n      <td>0</td>\n    </tr>\n    <tr>\n      <th>2</th>\n      <td>1</td>\n    </tr>\n    <tr>\n      <th>3</th>\n      <td>0</td>\n    </tr>\n    <tr>\n      <th>4</th>\n      <td>3</td>\n    </tr>\n  </tbody>\n</table>\n</div>"
     },
     "execution_count": 23,
     "metadata": {},
     "output_type": "execute_result"
    }
   ],
   "source": [
    "parkings = data[parkings_name]\n",
    "parking_num = [parkings.iloc[i].count() for i in range(len(parkings))]\n",
    "parking_num = pd.DataFrame({\"parking num\": parking_num})\n",
    "parking_num.head()"
   ],
   "metadata": {
    "collapsed": false,
    "pycharm": {
     "name": "#%%\n"
    }
   }
  },
  {
   "cell_type": "code",
   "execution_count": 24,
   "outputs": [
    {
     "data": {
      "text/plain": "parking num    4760\ndtype: int64"
     },
     "execution_count": 24,
     "metadata": {},
     "output_type": "execute_result"
    }
   ],
   "source": [
    "parking_num.sum()"
   ],
   "metadata": {
    "collapsed": false,
    "pycharm": {
     "name": "#%%\n"
    }
   }
  },
  {
   "cell_type": "markdown",
   "source": [
    "## Outside spaces"
   ],
   "metadata": {
    "collapsed": false,
    "pycharm": {
     "name": "#%% md\n"
    }
   }
  },
  {
   "cell_type": "code",
   "execution_count": 25,
   "outputs": [
    {
     "data": {
      "text/plain": "  RTD3308_outside_space1 - Outside Space Description  \\\n0                                    Communal Garden   \n1                                                NaN   \n2                                        Rear Garden   \n3                                                NaN   \n4                                        Back Garden   \n\n  RTD3308_outside_space2 - Outside Space Description  \\\n0                                                NaN   \n1                                                NaN   \n2                                     Private Garden   \n3                                                NaN   \n4                                    Enclosed Garden   \n\n  RTD3308_outside_space3 - Outside Space Description  \n0                                                NaN  \n1                                                NaN  \n2                                                NaN  \n3                                                NaN  \n4                                     Private Garden  ",
      "text/html": "<div>\n<style scoped>\n    .dataframe tbody tr th:only-of-type {\n        vertical-align: middle;\n    }\n\n    .dataframe tbody tr th {\n        vertical-align: top;\n    }\n\n    .dataframe thead th {\n        text-align: right;\n    }\n</style>\n<table border=\"1\" class=\"dataframe\">\n  <thead>\n    <tr style=\"text-align: right;\">\n      <th></th>\n      <th>RTD3308_outside_space1 - Outside Space Description</th>\n      <th>RTD3308_outside_space2 - Outside Space Description</th>\n      <th>RTD3308_outside_space3 - Outside Space Description</th>\n    </tr>\n  </thead>\n  <tbody>\n    <tr>\n      <th>0</th>\n      <td>Communal Garden</td>\n      <td>NaN</td>\n      <td>NaN</td>\n    </tr>\n    <tr>\n      <th>1</th>\n      <td>NaN</td>\n      <td>NaN</td>\n      <td>NaN</td>\n    </tr>\n    <tr>\n      <th>2</th>\n      <td>Rear Garden</td>\n      <td>Private Garden</td>\n      <td>NaN</td>\n    </tr>\n    <tr>\n      <th>3</th>\n      <td>NaN</td>\n      <td>NaN</td>\n      <td>NaN</td>\n    </tr>\n    <tr>\n      <th>4</th>\n      <td>Back Garden</td>\n      <td>Enclosed Garden</td>\n      <td>Private Garden</td>\n    </tr>\n  </tbody>\n</table>\n</div>"
     },
     "execution_count": 25,
     "metadata": {},
     "output_type": "execute_result"
    }
   ],
   "source": [
    "outside_name = list(filter(lambda s: \"outside_space\" in s, data.columns))\n",
    "outside = data[outside_name].copy()\n",
    "outside.head()"
   ],
   "metadata": {
    "collapsed": false,
    "pycharm": {
     "name": "#%%\n"
    }
   }
  },
  {
   "cell_type": "markdown",
   "source": [
    "### Types of outside spaces for every property"
   ],
   "metadata": {
    "collapsed": false,
    "pycharm": {
     "name": "#%% md\n"
    }
   }
  },
  {
   "cell_type": "code",
   "execution_count": 26,
   "outputs": [],
   "source": [
    "def record_types(first: str, second: str, third: str, types: dict):\n",
    "    if first in types.keys():\n",
    "        types[first] += 1\n",
    "    if second in types.keys():\n",
    "        types[second] += 1\n",
    "    if third in types.keys():\n",
    "        types[third] += 1\n",
    "\n",
    "    return types"
   ],
   "metadata": {
    "collapsed": false,
    "pycharm": {
     "name": "#%%\n"
    }
   }
  },
  {
   "cell_type": "code",
   "execution_count": 27,
   "outputs": [
    {
     "data": {
      "text/plain": "[('Back Garden', 1366),\n ('Communal Garden', 227),\n ('Enclosed Garden', 735),\n ('Front Garden', 682),\n ('None', 6012),\n ('Patio', 431),\n ('Private Garden', 599),\n ('Rear Garden', 802),\n ('Terrace', 93)]"
     },
     "execution_count": 27,
     "metadata": {},
     "output_type": "execute_result"
    }
   ],
   "source": [
    "outside = outside.fillna(\"None\")\n",
    "types, counts = np.unique(outside.to_numpy().flatten(), return_counts=True)\n",
    "list(zip(types, counts))"
   ],
   "metadata": {
    "collapsed": false,
    "pycharm": {
     "name": "#%%\n"
    }
   }
  },
  {
   "cell_type": "code",
   "execution_count": 28,
   "outputs": [],
   "source": [
    "outside_types = {key: [] for key in types if key != \"None\"}\n",
    "for i in range(len(outside)):\n",
    "    types = {key: 0 for key in types if key != \"None\"}\n",
    "    first = outside.iloc[i, 0]\n",
    "    second = outside.iloc[i, 1]\n",
    "    third = outside.iloc[i, 2]\n",
    "    types = record_types(first, second, third, types)\n",
    "\n",
    "    list(map(lambda value, d: outside_types[d].append(types[value]), types.keys(), types.keys()))"
   ],
   "metadata": {
    "collapsed": false,
    "pycharm": {
     "name": "#%%\n"
    }
   }
  },
  {
   "cell_type": "code",
   "execution_count": 29,
   "outputs": [
    {
     "name": "stdout",
     "output_type": "stream",
     "text": [
      "Back Garden     1366\n",
      "Communal Garden  227\n",
      "Enclosed Garden  735\n",
      "Front Garden     682\n",
      "Patio            431\n",
      "Private Garden   599\n",
      "Rear Garden      802\n",
      "Terrace           93\n"
     ]
    }
   ],
   "source": [
    "for k, v in outside_types.items():\n",
    "    print(\"{:15s}{:5d}\".format(k, sum(v)))"
   ],
   "metadata": {
    "collapsed": false,
    "pycharm": {
     "name": "#%%\n"
    }
   }
  },
  {
   "cell_type": "markdown",
   "source": [
    "### Number of outside spaces for every property"
   ],
   "metadata": {
    "collapsed": false,
    "pycharm": {
     "name": "#%% md\n"
    }
   }
  },
  {
   "cell_type": "code",
   "execution_count": 30,
   "outputs": [
    {
     "data": {
      "text/plain": "   outside_num\n0            1\n1            0\n2            2\n3            0\n4            3",
      "text/html": "<div>\n<style scoped>\n    .dataframe tbody tr th:only-of-type {\n        vertical-align: middle;\n    }\n\n    .dataframe tbody tr th {\n        vertical-align: top;\n    }\n\n    .dataframe thead th {\n        text-align: right;\n    }\n</style>\n<table border=\"1\" class=\"dataframe\">\n  <thead>\n    <tr style=\"text-align: right;\">\n      <th></th>\n      <th>outside_num</th>\n    </tr>\n  </thead>\n  <tbody>\n    <tr>\n      <th>0</th>\n      <td>1</td>\n    </tr>\n    <tr>\n      <th>1</th>\n      <td>0</td>\n    </tr>\n    <tr>\n      <th>2</th>\n      <td>2</td>\n    </tr>\n    <tr>\n      <th>3</th>\n      <td>0</td>\n    </tr>\n    <tr>\n      <th>4</th>\n      <td>3</td>\n    </tr>\n  </tbody>\n</table>\n</div>"
     },
     "execution_count": 30,
     "metadata": {},
     "output_type": "execute_result"
    }
   ],
   "source": [
    "outside = data[outside_name]\n",
    "outside_num = [outside.iloc[i].count() for i in range(len(outside))]\n",
    "temp = pd.DataFrame({\"outside_num\": outside_num})\n",
    "temp.head()"
   ],
   "metadata": {
    "collapsed": false,
    "pycharm": {
     "name": "#%%\n"
    }
   }
  },
  {
   "cell_type": "code",
   "execution_count": 31,
   "outputs": [
    {
     "data": {
      "text/plain": "outside_num    4935\ndtype: int64"
     },
     "execution_count": 31,
     "metadata": {},
     "output_type": "execute_result"
    }
   ],
   "source": [
    "temp.sum()"
   ],
   "metadata": {
    "collapsed": false,
    "pycharm": {
     "name": "#%%\n"
    }
   }
  },
  {
   "cell_type": "markdown",
   "source": [
    "## Condition"
   ],
   "metadata": {
    "collapsed": false,
    "pycharm": {
     "name": "#%% md\n"
    }
   }
  },
  {
   "cell_type": "code",
   "execution_count": 32,
   "outputs": [
    {
     "data": {
      "text/plain": "  RTD3316_condition1 - Condition Description\n0                                       Good\n1                                        NaN\n2                                       Good\n3                                        NaN\n4                                       Good",
      "text/html": "<div>\n<style scoped>\n    .dataframe tbody tr th:only-of-type {\n        vertical-align: middle;\n    }\n\n    .dataframe tbody tr th {\n        vertical-align: top;\n    }\n\n    .dataframe thead th {\n        text-align: right;\n    }\n</style>\n<table border=\"1\" class=\"dataframe\">\n  <thead>\n    <tr style=\"text-align: right;\">\n      <th></th>\n      <th>RTD3316_condition1 - Condition Description</th>\n    </tr>\n  </thead>\n  <tbody>\n    <tr>\n      <th>0</th>\n      <td>Good</td>\n    </tr>\n    <tr>\n      <th>1</th>\n      <td>NaN</td>\n    </tr>\n    <tr>\n      <th>2</th>\n      <td>Good</td>\n    </tr>\n    <tr>\n      <th>3</th>\n      <td>NaN</td>\n    </tr>\n    <tr>\n      <th>4</th>\n      <td>Good</td>\n    </tr>\n  </tbody>\n</table>\n</div>"
     },
     "execution_count": 32,
     "metadata": {},
     "output_type": "execute_result"
    }
   ],
   "source": [
    "condition_names = list(filter(lambda s: \"condition\" in s, data.columns))\n",
    "condition = data[condition_names].copy()\n",
    "condition.head()"
   ],
   "metadata": {
    "collapsed": false,
    "pycharm": {
     "name": "#%%\n"
    }
   }
  },
  {
   "cell_type": "code",
   "execution_count": 33,
   "outputs": [
    {
     "data": {
      "text/plain": "  RTD3316_condition1 - Condition Description\n0                                       Good\n1                                       None\n2                                       Good\n3                                       None\n4                                       Good",
      "text/html": "<div>\n<style scoped>\n    .dataframe tbody tr th:only-of-type {\n        vertical-align: middle;\n    }\n\n    .dataframe tbody tr th {\n        vertical-align: top;\n    }\n\n    .dataframe thead th {\n        text-align: right;\n    }\n</style>\n<table border=\"1\" class=\"dataframe\">\n  <thead>\n    <tr style=\"text-align: right;\">\n      <th></th>\n      <th>RTD3316_condition1 - Condition Description</th>\n    </tr>\n  </thead>\n  <tbody>\n    <tr>\n      <th>0</th>\n      <td>Good</td>\n    </tr>\n    <tr>\n      <th>1</th>\n      <td>None</td>\n    </tr>\n    <tr>\n      <th>2</th>\n      <td>Good</td>\n    </tr>\n    <tr>\n      <th>3</th>\n      <td>None</td>\n    </tr>\n    <tr>\n      <th>4</th>\n      <td>Good</td>\n    </tr>\n  </tbody>\n</table>\n</div>"
     },
     "execution_count": 33,
     "metadata": {},
     "output_type": "execute_result"
    }
   ],
   "source": [
    "condition = condition.fillna(\"None\")\n",
    "condition.head()"
   ],
   "metadata": {
    "collapsed": false,
    "pycharm": {
     "name": "#%%\n"
    }
   }
  },
  {
   "cell_type": "markdown",
   "source": [
    "## Heating"
   ],
   "metadata": {
    "collapsed": false,
    "pycharm": {
     "name": "#%% md\n"
    }
   }
  },
  {
   "cell_type": "code",
   "execution_count": 34,
   "outputs": [
    {
     "data": {
      "text/plain": "  RTD3318_heating1 - Heating Description  \\\n0                         Double Glazing   \n1                                    NaN   \n2                                Central   \n3                                    NaN   \n4                                Central   \n\n  RTD3318_heating2 - Heating Description  \\\n0                               Electric   \n1                                    NaN   \n2                            Gas Central   \n3                                    NaN   \n4                                    Gas   \n\n  RTD3318_heating3 - Heating Description  \n0                          Night Storage  \n1                                    NaN  \n2                         Double Glazing  \n3                                    NaN  \n4                         Double Glazing  ",
      "text/html": "<div>\n<style scoped>\n    .dataframe tbody tr th:only-of-type {\n        vertical-align: middle;\n    }\n\n    .dataframe tbody tr th {\n        vertical-align: top;\n    }\n\n    .dataframe thead th {\n        text-align: right;\n    }\n</style>\n<table border=\"1\" class=\"dataframe\">\n  <thead>\n    <tr style=\"text-align: right;\">\n      <th></th>\n      <th>RTD3318_heating1 - Heating Description</th>\n      <th>RTD3318_heating2 - Heating Description</th>\n      <th>RTD3318_heating3 - Heating Description</th>\n    </tr>\n  </thead>\n  <tbody>\n    <tr>\n      <th>0</th>\n      <td>Double Glazing</td>\n      <td>Electric</td>\n      <td>Night Storage</td>\n    </tr>\n    <tr>\n      <th>1</th>\n      <td>NaN</td>\n      <td>NaN</td>\n      <td>NaN</td>\n    </tr>\n    <tr>\n      <th>2</th>\n      <td>Central</td>\n      <td>Gas Central</td>\n      <td>Double Glazing</td>\n    </tr>\n    <tr>\n      <th>3</th>\n      <td>NaN</td>\n      <td>NaN</td>\n      <td>NaN</td>\n    </tr>\n    <tr>\n      <th>4</th>\n      <td>Central</td>\n      <td>Gas</td>\n      <td>Double Glazing</td>\n    </tr>\n  </tbody>\n</table>\n</div>"
     },
     "execution_count": 34,
     "metadata": {},
     "output_type": "execute_result"
    }
   ],
   "source": [
    "heating_names = list(filter(lambda s: \"heating\" in s, data.columns))\n",
    "heating = data[heating_names].copy()\n",
    "heating.head()"
   ],
   "metadata": {
    "collapsed": false,
    "pycharm": {
     "name": "#%%\n"
    }
   }
  },
  {
   "cell_type": "code",
   "execution_count": 35,
   "outputs": [
    {
     "data": {
      "text/plain": "[('Air Conditioning', 6),\n ('Central', 476),\n ('Double Glazing', 1550),\n ('Eco-Friendly', 17),\n ('Electric', 183),\n ('Gas', 493),\n ('Gas Central', 1814),\n ('Night Storage', 24),\n ('None', 6270),\n ('Oil', 63),\n ('Solar', 15),\n ('Solar Water', 2),\n ('Under Floor', 34)]"
     },
     "execution_count": 35,
     "metadata": {},
     "output_type": "execute_result"
    }
   ],
   "source": [
    "heating = heating.fillna(\"None\")\n",
    "types, count = np.unique(heating.to_numpy().flatten(), return_counts=True)\n",
    "list(zip(types, count))"
   ],
   "metadata": {
    "collapsed": false,
    "pycharm": {
     "name": "#%%\n"
    }
   }
  },
  {
   "cell_type": "markdown",
   "source": [
    "### Types of heating for every property"
   ],
   "metadata": {
    "collapsed": false,
    "pycharm": {
     "name": "#%% md\n"
    }
   }
  },
  {
   "cell_type": "code",
   "execution_count": 36,
   "outputs": [],
   "source": [
    "heating_types = {key: [] for key in types if key != \"None\"}\n",
    "for i in range(len(heating)):\n",
    "    types = {key: 0 for key in types if key != \"None\"}\n",
    "\n",
    "    first = heating.iloc[i, 0]\n",
    "    second = heating.iloc[i, 1]\n",
    "    third = heating.iloc[i, 2]\n",
    "    types = record_types(first, second, third, types)\n",
    "\n",
    "    list(map(lambda d: heating_types[d].append(types[d]), types.keys()))"
   ],
   "metadata": {
    "collapsed": false,
    "pycharm": {
     "name": "#%%\n"
    }
   }
  },
  {
   "cell_type": "code",
   "execution_count": 37,
   "outputs": [
    {
     "name": "stdout",
     "output_type": "stream",
     "text": [
      "Air Conditioning        6\n",
      "Central               476\n",
      "Double Glazing       1550\n",
      "Eco-Friendly           17\n",
      "Electric              183\n",
      "Gas                   493\n",
      "Gas Central          1814\n",
      "Night Storage          24\n",
      "Oil                    63\n",
      "Solar                  15\n",
      "Solar Water             2\n",
      "Under Floor            34\n"
     ]
    }
   ],
   "source": [
    "for k, v in heating_types.items():\n",
    "    print(\"{:20s}{:5d}\".format(k, sum(v)))"
   ],
   "metadata": {
    "collapsed": false,
    "pycharm": {
     "name": "#%%\n"
    }
   }
  },
  {
   "cell_type": "markdown",
   "source": [
    "### Number of heating"
   ],
   "metadata": {
    "collapsed": false,
    "pycharm": {
     "name": "#%% md\n"
    }
   }
  },
  {
   "cell_type": "code",
   "execution_count": 38,
   "outputs": [
    {
     "data": {
      "text/plain": "   heating_num\n0            3\n1            0\n2            3\n3            0\n4            3",
      "text/html": "<div>\n<style scoped>\n    .dataframe tbody tr th:only-of-type {\n        vertical-align: middle;\n    }\n\n    .dataframe tbody tr th {\n        vertical-align: top;\n    }\n\n    .dataframe thead th {\n        text-align: right;\n    }\n</style>\n<table border=\"1\" class=\"dataframe\">\n  <thead>\n    <tr style=\"text-align: right;\">\n      <th></th>\n      <th>heating_num</th>\n    </tr>\n  </thead>\n  <tbody>\n    <tr>\n      <th>0</th>\n      <td>3</td>\n    </tr>\n    <tr>\n      <th>1</th>\n      <td>0</td>\n    </tr>\n    <tr>\n      <th>2</th>\n      <td>3</td>\n    </tr>\n    <tr>\n      <th>3</th>\n      <td>0</td>\n    </tr>\n    <tr>\n      <th>4</th>\n      <td>3</td>\n    </tr>\n  </tbody>\n</table>\n</div>"
     },
     "execution_count": 38,
     "metadata": {},
     "output_type": "execute_result"
    }
   ],
   "source": [
    "heating = data[heating_names]\n",
    "heating_num = [heating.iloc[i].count() for i in range(len(heating))]\n",
    "temp = pd.DataFrame({\"heating_num\": heating_num})\n",
    "temp.head()"
   ],
   "metadata": {
    "collapsed": false,
    "pycharm": {
     "name": "#%%\n"
    }
   }
  },
  {
   "cell_type": "code",
   "execution_count": 39,
   "outputs": [
    {
     "data": {
      "text/plain": "heating_num    4677\ndtype: int64"
     },
     "execution_count": 39,
     "metadata": {},
     "output_type": "execute_result"
    }
   ],
   "source": [
    "temp.sum()"
   ],
   "metadata": {
    "collapsed": false,
    "pycharm": {
     "name": "#%%\n"
    }
   }
  },
  {
   "cell_type": "markdown",
   "source": [
    "## Accessibility"
   ],
   "metadata": {
    "collapsed": false,
    "pycharm": {
     "name": "#%% md\n"
    }
   }
  },
  {
   "cell_type": "code",
   "execution_count": 40,
   "outputs": [
    {
     "data": {
      "text/plain": "  RTD3317_accessibility1 - accessibility Description  \\\n0                  Not suitable for wheelchair users   \n1                                                NaN   \n2                                                NaN   \n3                                                NaN   \n4                                       Level access   \n\n  RTD3317_accessibility2 - accessibility Description  \\\n0                                                NaN   \n1                                                NaN   \n2                                                NaN   \n3                                                NaN   \n4                                                NaN   \n\n  RTD3317_accessibility3 - accessibility Description  \n0                                                NaN  \n1                                                NaN  \n2                                                NaN  \n3                                                NaN  \n4                                                NaN  ",
      "text/html": "<div>\n<style scoped>\n    .dataframe tbody tr th:only-of-type {\n        vertical-align: middle;\n    }\n\n    .dataframe tbody tr th {\n        vertical-align: top;\n    }\n\n    .dataframe thead th {\n        text-align: right;\n    }\n</style>\n<table border=\"1\" class=\"dataframe\">\n  <thead>\n    <tr style=\"text-align: right;\">\n      <th></th>\n      <th>RTD3317_accessibility1 - accessibility Description</th>\n      <th>RTD3317_accessibility2 - accessibility Description</th>\n      <th>RTD3317_accessibility3 - accessibility Description</th>\n    </tr>\n  </thead>\n  <tbody>\n    <tr>\n      <th>0</th>\n      <td>Not suitable for wheelchair users</td>\n      <td>NaN</td>\n      <td>NaN</td>\n    </tr>\n    <tr>\n      <th>1</th>\n      <td>NaN</td>\n      <td>NaN</td>\n      <td>NaN</td>\n    </tr>\n    <tr>\n      <th>2</th>\n      <td>NaN</td>\n      <td>NaN</td>\n      <td>NaN</td>\n    </tr>\n    <tr>\n      <th>3</th>\n      <td>NaN</td>\n      <td>NaN</td>\n      <td>NaN</td>\n    </tr>\n    <tr>\n      <th>4</th>\n      <td>Level access</td>\n      <td>NaN</td>\n      <td>NaN</td>\n    </tr>\n  </tbody>\n</table>\n</div>"
     },
     "execution_count": 40,
     "metadata": {},
     "output_type": "execute_result"
    }
   ],
   "source": [
    "accessibility_name = list(filter(lambda s: \"accessibility\" in s, data.columns))\n",
    "accessibility = data[accessibility_name].copy()\n",
    "accessibility.head()"
   ],
   "metadata": {
    "collapsed": false,
    "pycharm": {
     "name": "#%%\n"
    }
   }
  },
  {
   "cell_type": "code",
   "execution_count": 41,
   "outputs": [],
   "source": [
    "accessibility = accessibility.fillna(\"None\")\n",
    "types, count = np.unique(accessibility.to_numpy().flatten(), return_counts=True)"
   ],
   "metadata": {
    "collapsed": false,
    "pycharm": {
     "name": "#%%\n"
    }
   }
  },
  {
   "cell_type": "markdown",
   "source": [
    "### Types of accessibility"
   ],
   "metadata": {
    "collapsed": false,
    "pycharm": {
     "name": "#%% md\n"
    }
   }
  },
  {
   "cell_type": "code",
   "execution_count": 42,
   "outputs": [],
   "source": [
    "accessibility_type = {key: [] for key in types if key != \"None\"}\n",
    "for i in range(len(accessibility)):\n",
    "    types = {key: 0 for key in types if key != \"None\"}\n",
    "\n",
    "    first = accessibility.iloc[i, 0]\n",
    "    second = accessibility.iloc[i, 1]\n",
    "    third = accessibility.iloc[i, 2]\n",
    "    types = record_types(first, second, third, types)\n",
    "\n",
    "    list(map(lambda d: accessibility_type[d].append(types[d]), types.keys()))"
   ],
   "metadata": {
    "collapsed": false,
    "pycharm": {
     "name": "#%%\n"
    }
   }
  },
  {
   "cell_type": "code",
   "execution_count": 43,
   "outputs": [
    {
     "name": "stdout",
     "output_type": "stream",
     "text": [
      "Level access                         522\n",
      "Lift access                           64\n",
      "Not suitable for wheelchair users    779\n",
      "Ramped access                         24\n",
      "Wet room                              19\n",
      "Wide doorways                         47\n"
     ]
    }
   ],
   "source": [
    "for k, v in accessibility_type.items():\n",
    "    print(\"{:35s}{:5d}\".format(k, sum(v)))"
   ],
   "metadata": {
    "collapsed": false,
    "pycharm": {
     "name": "#%%\n"
    }
   }
  },
  {
   "cell_type": "markdown",
   "source": [
    "### Number of accessibility"
   ],
   "metadata": {
    "collapsed": false,
    "pycharm": {
     "name": "#%% md\n"
    }
   }
  },
  {
   "cell_type": "code",
   "execution_count": 44,
   "outputs": [
    {
     "data": {
      "text/plain": "      accessibility_num\n0                     1\n1                     0\n2                     0\n3                     0\n4                     1\n...                 ...\n3644                  0\n3645                  0\n3646                  0\n3647                  0\n3648                  0\n\n[3649 rows x 1 columns]",
      "text/html": "<div>\n<style scoped>\n    .dataframe tbody tr th:only-of-type {\n        vertical-align: middle;\n    }\n\n    .dataframe tbody tr th {\n        vertical-align: top;\n    }\n\n    .dataframe thead th {\n        text-align: right;\n    }\n</style>\n<table border=\"1\" class=\"dataframe\">\n  <thead>\n    <tr style=\"text-align: right;\">\n      <th></th>\n      <th>accessibility_num</th>\n    </tr>\n  </thead>\n  <tbody>\n    <tr>\n      <th>0</th>\n      <td>1</td>\n    </tr>\n    <tr>\n      <th>1</th>\n      <td>0</td>\n    </tr>\n    <tr>\n      <th>2</th>\n      <td>0</td>\n    </tr>\n    <tr>\n      <th>3</th>\n      <td>0</td>\n    </tr>\n    <tr>\n      <th>4</th>\n      <td>1</td>\n    </tr>\n    <tr>\n      <th>...</th>\n      <td>...</td>\n    </tr>\n    <tr>\n      <th>3644</th>\n      <td>0</td>\n    </tr>\n    <tr>\n      <th>3645</th>\n      <td>0</td>\n    </tr>\n    <tr>\n      <th>3646</th>\n      <td>0</td>\n    </tr>\n    <tr>\n      <th>3647</th>\n      <td>0</td>\n    </tr>\n    <tr>\n      <th>3648</th>\n      <td>0</td>\n    </tr>\n  </tbody>\n</table>\n<p>3649 rows × 1 columns</p>\n</div>"
     },
     "execution_count": 44,
     "metadata": {},
     "output_type": "execute_result"
    }
   ],
   "source": [
    "accessibility = data[accessibility_name]\n",
    "accessibility_num = [accessibility.iloc[i].count() for i in range(len(accessibility))]\n",
    "temp = pd.DataFrame({\"accessibility_num\": accessibility_num})\n",
    "temp"
   ],
   "metadata": {
    "collapsed": false,
    "pycharm": {
     "name": "#%%\n"
    }
   }
  },
  {
   "cell_type": "code",
   "execution_count": 45,
   "outputs": [
    {
     "data": {
      "text/plain": "accessibility_num    1455\ndtype: int64"
     },
     "execution_count": 45,
     "metadata": {},
     "output_type": "execute_result"
    }
   ],
   "source": [
    "temp.sum()"
   ],
   "metadata": {
    "collapsed": false,
    "pycharm": {
     "name": "#%%\n"
    }
   }
  },
  {
   "cell_type": "markdown",
   "source": [
    "## Rooms"
   ],
   "metadata": {
    "collapsed": false,
    "pycharm": {
     "name": "#%% md\n"
    }
   }
  },
  {
   "cell_type": "code",
   "execution_count": 46,
   "outputs": [],
   "source": [
    "extract_area = parse.compile(\"{} ({} sqm){}\")"
   ],
   "metadata": {
    "collapsed": false,
    "pycharm": {
     "name": "#%%\n"
    }
   }
  },
  {
   "cell_type": "markdown",
   "source": [
    "### Bedrooms"
   ],
   "metadata": {
    "collapsed": false,
    "pycharm": {
     "name": "#%% md\n"
    }
   }
  },
  {
   "cell_type": "code",
   "execution_count": 47,
   "outputs": [],
   "source": [
    "info = data[\"EweMove Description S3 Rooms\"]\n",
    "handler = ProcessHTML()\n",
    "for i in info:\n",
    "    handler.EweMove_Description_S3_Rooms(i)"
   ],
   "metadata": {
    "collapsed": false,
    "pycharm": {
     "name": "#%%\n"
    }
   }
  },
  {
   "cell_type": "code",
   "execution_count": 48,
   "outputs": [
    {
     "data": {
      "text/plain": "['Attic Bedroom',\n 'Loft Bedroom',\n 'Bedroom',\n 'Bedroom 6',\n 'Bedroom (Double)',\n 'Bedroom 7',\n 'Bedroom 3',\n 'Bedroom (Single) with Ensuite',\n 'Bedroom (Double) with Ensuite',\n 'Master Bedroom with Ensuite',\n 'Bedroom 4',\n 'Bedroom 8',\n 'Bedroom 5',\n 'Bedroom (Single)',\n 'Bedroom/Living Room',\n 'Master Bedroom',\n 'Bedroom 1',\n 'Bedroom 2']"
     },
     "execution_count": 48,
     "metadata": {},
     "output_type": "execute_result"
    }
   ],
   "source": [
    "bedroom_names = [i for i in handler.s3_rooms_set if \"Bedroom\" in i]\n",
    "bedroom_names"
   ],
   "metadata": {
    "collapsed": false,
    "pycharm": {
     "name": "#%%\n"
    }
   }
  },
  {
   "cell_type": "code",
   "execution_count": 49,
   "outputs": [
    {
     "name": "stdout",
     "output_type": "stream",
     "text": [
      "Bedroom 1                     3.37m x 2.45m (8.2 sqm) - 11' x 8' (88 sqft)\n",
      "Bedroom 2                     2.54m x 2.45m (6.2 sqm) - 8' 4\" x 8' (67 sqft)\n",
      "Bedroom 1                     4.07m x 2.43m (9.8 sqm) - 13' 4\" x 7' 11\" (106 sqft)\n",
      "Bedroom 2                     3.48m x 2.43m (8.4 sqm) - 11' 5\" x 7' 11\" (91 sqft)\n",
      "Bedroom 3                     5.74m x 2.31m (13.2 sqm) - 18' 9\" x 7' 6\" (142 sqft)\n",
      "Bedroom 4                     5.34m x 3.13m (16.7 sqm) - 17' 6\" x 10' 3\" (179 sqft)\n",
      "Bedroom (Double)              4.3m x 2.44m (10.4 sqm) - 14' 1\" x 8' (112 sqft)\n",
      "Master Bedroom                4.83m x 2.29m (11 sqm) - 15' 10\" x 7' 6\" (119 sqft)\n",
      "Bedroom 2                     3.24m x 3.01m (9.7 sqm) - 10' 7\" x 9' 10\" (104 sqft)\n",
      "Bedroom 3                     2.86m x 2.62m (7.4 sqm) - 9' 4\" x 8' 7\" (80 sqft)\n",
      "Bedroom 4                     2.86m x 2.62m (7.4 sqm) - 9' 4\" x 8' 7\" (80 sqft)\n"
     ]
    }
   ],
   "source": [
    "for room in handler.s3_rooms[: 5]:\n",
    "    if room is None: continue\n",
    "    for k, v in room.items():\n",
    "        if k in bedroom_names:\n",
    "            print(\"{:30s}{}\".format(k, v))"
   ],
   "metadata": {
    "collapsed": false,
    "pycharm": {
     "name": "#%%\n"
    }
   }
  },
  {
   "cell_type": "markdown",
   "source": [
    "#### Obtain the maximum number of bedrooms in a property"
   ],
   "metadata": {
    "collapsed": false,
    "pycharm": {
     "name": "#%% md\n"
    }
   }
  },
  {
   "cell_type": "code",
   "execution_count": 50,
   "outputs": [],
   "source": [
    "bedrooms_num = []\n",
    "for room in handler.s3_rooms:\n",
    "    if room is None:\n",
    "        bedrooms_num.append(0)\n",
    "        continue\n",
    "\n",
    "    bedrooms_num.append(len([key for key in room.keys() if \"Bedroom\" in key]))\n",
    "max_bedroom_num = max(bedrooms_num)"
   ],
   "metadata": {
    "collapsed": false,
    "pycharm": {
     "name": "#%%\n"
    }
   }
  },
  {
   "cell_type": "markdown",
   "source": [
    "#### Bedroom area"
   ],
   "metadata": {
    "collapsed": false,
    "pycharm": {
     "name": "#%% md\n"
    }
   }
  },
  {
   "cell_type": "code",
   "execution_count": 51,
   "outputs": [],
   "source": [
    "bedroom_names = [\"Bedroom {}\".format(i + 1) for i in range(max_bedroom_num)]\n",
    "bedrooms = []\n",
    "for i in range(len(handler.s3_rooms)):\n",
    "    bedroom_per_property = {key: 0 for key in bedroom_names}\n",
    "    if handler.s3_rooms[i] is None:\n",
    "        bedrooms.append(bedroom_per_property)\n",
    "        continue\n",
    "\n",
    "    num = 1\n",
    "    for k, v in handler.s3_rooms[i].items():\n",
    "        if \"Bedroom\" not in k:\n",
    "            continue\n",
    "\n",
    "        if not isinstance(v, str):\n",
    "            bedroom_per_property[\"Bedroom {}\".format(num)] = 0\n",
    "            num += 1\n",
    "            continue\n",
    "\n",
    "        bedroom_per_property[\"Bedroom {}\".format(num)] = float(extract_area.parse(handler.s3_rooms[i][k])[1])\n",
    "        num += 1\n",
    "\n",
    "    bedrooms.append(bedroom_per_property)"
   ],
   "metadata": {
    "collapsed": false,
    "pycharm": {
     "name": "#%%\n"
    }
   }
  },
  {
   "cell_type": "code",
   "execution_count": 52,
   "outputs": [
    {
     "data": {
      "text/plain": "   Bedroom 1  Bedroom 2  Bedroom 3  Bedroom 4  Bedroom 5  Bedroom 6  \\\n0        8.2        6.2        0.0        0.0        0.0        0.0   \n1        9.8        8.4       13.2       16.7        0.0        0.0   \n2       10.4        0.0        0.0        0.0        0.0        0.0   \n3        0.0        0.0        0.0        0.0        0.0        0.0   \n4       11.0        9.7        7.4        7.4        0.0        0.0   \n\n   Bedroom 7  Bedroom 8  \n0        0.0        0.0  \n1        0.0        0.0  \n2        0.0        0.0  \n3        0.0        0.0  \n4        0.0        0.0  ",
      "text/html": "<div>\n<style scoped>\n    .dataframe tbody tr th:only-of-type {\n        vertical-align: middle;\n    }\n\n    .dataframe tbody tr th {\n        vertical-align: top;\n    }\n\n    .dataframe thead th {\n        text-align: right;\n    }\n</style>\n<table border=\"1\" class=\"dataframe\">\n  <thead>\n    <tr style=\"text-align: right;\">\n      <th></th>\n      <th>Bedroom 1</th>\n      <th>Bedroom 2</th>\n      <th>Bedroom 3</th>\n      <th>Bedroom 4</th>\n      <th>Bedroom 5</th>\n      <th>Bedroom 6</th>\n      <th>Bedroom 7</th>\n      <th>Bedroom 8</th>\n    </tr>\n  </thead>\n  <tbody>\n    <tr>\n      <th>0</th>\n      <td>8.2</td>\n      <td>6.2</td>\n      <td>0.0</td>\n      <td>0.0</td>\n      <td>0.0</td>\n      <td>0.0</td>\n      <td>0.0</td>\n      <td>0.0</td>\n    </tr>\n    <tr>\n      <th>1</th>\n      <td>9.8</td>\n      <td>8.4</td>\n      <td>13.2</td>\n      <td>16.7</td>\n      <td>0.0</td>\n      <td>0.0</td>\n      <td>0.0</td>\n      <td>0.0</td>\n    </tr>\n    <tr>\n      <th>2</th>\n      <td>10.4</td>\n      <td>0.0</td>\n      <td>0.0</td>\n      <td>0.0</td>\n      <td>0.0</td>\n      <td>0.0</td>\n      <td>0.0</td>\n      <td>0.0</td>\n    </tr>\n    <tr>\n      <th>3</th>\n      <td>0.0</td>\n      <td>0.0</td>\n      <td>0.0</td>\n      <td>0.0</td>\n      <td>0.0</td>\n      <td>0.0</td>\n      <td>0.0</td>\n      <td>0.0</td>\n    </tr>\n    <tr>\n      <th>4</th>\n      <td>11.0</td>\n      <td>9.7</td>\n      <td>7.4</td>\n      <td>7.4</td>\n      <td>0.0</td>\n      <td>0.0</td>\n      <td>0.0</td>\n      <td>0.0</td>\n    </tr>\n  </tbody>\n</table>\n</div>"
     },
     "execution_count": 52,
     "metadata": {},
     "output_type": "execute_result"
    }
   ],
   "source": [
    "bedrooms = pd.DataFrame(bedrooms)\n",
    "bedrooms.head()"
   ],
   "metadata": {
    "collapsed": false,
    "pycharm": {
     "name": "#%%\n"
    }
   }
  },
  {
   "cell_type": "markdown",
   "source": [
    "### Kitchen"
   ],
   "metadata": {
    "collapsed": false,
    "pycharm": {
     "name": "#%% md\n"
    }
   }
  },
  {
   "cell_type": "code",
   "execution_count": 53,
   "outputs": [
    {
     "name": "stdout",
     "output_type": "stream",
     "text": [
      "Kitchen                       2.68m x 2.14m (5.7 sqm) - 8' 9\" x 7' (61 sqft)\n",
      "Kitchen /  Dining Room        5.33m x 4.58m (24.4 sqm) - 17' 5\" x 15' (262 sqft)\n",
      "Kitchen                       2.97m x 2.36m (7 sqm) - 9' 8\" x 7' 8\" (75 sqft)\n",
      "Kitchen                       3.99m x 2.61m (10.4 sqm) - 13' 1\" x 8' 6\" (112 sqft)\n",
      "Kitchen                       4.2m x 3.5m (14.7 sqm) - 13' 9\" x 11' 5\" (158 sqft)\n",
      "Kitchen                       3.12m x 2.83m (8.8 sqm) - 10' 2\" x 9' 3\" (95 sqft)\n",
      "Kitchen /  Dining Room        4.5m x 3.7m (16.6 sqm) - 14' 9\" x 12' 1\" (179 sqft)\n",
      "Kitchen Diner                 4.76m x 2.78m (13.2 sqm) - 15' 7\" x 9' 1\" (142 sqft)\n",
      "Kitchen /  Dining Room        2.82m x 4.46m (12.5 sqm) - 9' 3\" x 14' 7\" (135 sqft)\n",
      "Kitchen                       1\n",
      "Kitchen                       7.49m x 3.1m (23.2 sqm) - 24' 6\" x 10' 2\" (249 sqft)\n",
      "Kitchen /  Dining Room        6.5m x 3.73m (24.2 sqm) - 21' 3\" x 12' 2\" (260 sqft)\n",
      "Kitchen                       3.3m x 3m (9.9 sqm) - 10' 9\" x 9' 10\" (106 sqft)\n",
      "Open Plan Living Room / Kitchen7.96m x 4.75m (37.8 sqm) - 26' 1\" x 15' 7\" (406 sqft)\n",
      "Kitchen Diner                 6.9m x 3.4m (23.4 sqm) - 22' 7\" x 11' 1\" (252 sqft)\n",
      "Kitchen                       3.29m x 2.67m (8.7 sqm) - 10' 9\" x 8' 9\" (94 sqft)\n",
      "Kitchen /  Dining Room        2.85m x 6.26m (17.8 sqm) - 9' 4\" x 20' 6\" (192 sqft)\n",
      "Kitchen                       3.76m x 2m (7.5 sqm) - 12' 4\" x 6' 6\" (80 sqft)\n",
      "Kitchen Diner                 2.31m x 3.73m (8.6 sqm) - 7' 7\" x 12' 2\" (93 sqft)\n",
      "Kitchen                       3.3m x 3.1m (10.2 sqm) - 10' 9\" x 10' 2\" (110 sqft)\n",
      "Kitchen                       2.5m x 5m (12.5 sqm) - 8' 2\" x 16' 4\" (134 sqft)\n",
      "Kitchen                       3.4m x 1.9m (6.4 sqm) - 11' 1\" x 6' 2\" (69 sqft)\n",
      "Kitchen                       3.8m x 1.9m (7.2 sqm) - 12' 5\" x 6' 2\" (77 sqft)\n",
      "Kitchen                       4.8m x 4.3m (20.6 sqm) - 15' 8\" x 14' 1\" (222 sqft)\n",
      "Kitchen /  Dining Room        4.63m x 3.57m (16.5 sqm) - 15' 2\" x 11' 8\" (178 sqft)\n",
      "Kitchen                       3.14m x 2.29m (7.2 sqm) - 10' 3\" x 7' 6\" (77 sqft)\n",
      "Kitchen Diner                 2.7m x 3.73m (10 sqm) - 8' 10\" x 12' 2\" (108 sqft)\n",
      "Kitchen /  Dining Room        4.08m x 2.45m (9.9 sqm) - 13' 4\" x 8' (107 sqft)\n",
      "Kitchen                       3.7m x 2m (7.4 sqm) - 12' 1\" x 6' 6\" (79 sqft)\n",
      "Kitchen /  Dining Room        4.08m x 2.45m (9.9 sqm) - 13' 4\" x 8' (107 sqft)\n",
      "Kitchen                       4.28m x 3.56m (15.2 sqm) - 14' x 11' 8\" (164 sqft)\n",
      "Kitchen /  Dining Room        1\n",
      "Kitchen                       3.4m x 1.9m (6.4 sqm) - 11' 1\" x 6' 2\" (69 sqft)\n",
      "Kitchen / Breakfast Room      4.4m x 4.5m (19.8 sqm) - 14' 5\" x 14' 9\" (213 sqft)\n",
      "Kitchen /  Dining Room        4.59m x 4.9m (22.5 sqm) - 15' 1\" x 16' (242 sqft)\n",
      "Kitchen Diner                 3.5m x 4.09m (14.3 sqm) - 11' 5\" x 13' 5\" (154 sqft)\n",
      "Kitchen                       2.5m x 4.3m (10.7 sqm) - 8' 2\" x 14' 1\" (115 sqft)\n",
      "Kitchen / Breakfast Room      2.8m x 3.6m (10 sqm) - 9' 2\" x 11' 9\" (108 sqft)\n",
      "Kitchen /  Dining Room        3.5m x 5.09m (17.8 sqm) - 11' 5\" x 16' 8\" (192 sqft)\n",
      "Kitchen / Breakfast Room      6.5m x 3m (19.5 sqm) - 21' 3\" x 9' 10\" (209 sqft)\n",
      "Kitchen Diner                 3.6m x 5.2m (18.7 sqm) - 11' 9\" x 17' (201 sqft)\n",
      "Kitchen /  Dining Room        6.3m x 3.6m (22.6 sqm) - 20' 8\" x 11' 9\" (244 sqft)\n",
      "Kitchen                       3.39m x 1.76m (5.9 sqm) - 11' 1\" x 5' 9\" (64 sqft)\n",
      "Kitchen /  Dining Room        1\n",
      "Kitchen                       5.09m x 4m (20.4 sqm) - 16' 8\" x 13' 1\" (219 sqft)\n",
      "Kitchen                       2.29m x 4.3m (9.8 sqm) - 7' 6\" x 14' 1\" (106 sqft)\n",
      "Kitchen                       2.7m x 1.71m (4.6 sqm) - 8' 10\" x 5' 7\" (49 sqft)\n",
      "Kitchen                       5.4m x 1.8m (9.7 sqm) - 17' 8\" x 5' 10\" (104 sqft)\n",
      "Kitchen                       3.3m x 1.81m (5.9 sqm) - 10' 9\" x 5' 11\" (64 sqft)\n",
      "Kitchen                       2.75m x 2.34m (6.4 sqm) - 9' x 7' 8\" (69 sqft)\n",
      "Kitchen /  Dining Room        3.28m x 3.79m (12.4 sqm) - 10' 9\" x 12' 5\" (133 sqft)\n",
      "Kitchen /  Dining Room        2.76m x 3.39m (9.3 sqm) - 9' x 11' 1\" (100 sqft)\n",
      "Kitchen                       2.8m x 2.5m (7 sqm) - 9' 2\" x 8' 2\" (75 sqft)\n",
      "Kitchen                       2.83m x 1.73m (4.8 sqm) - 9' 3\" x 5' 8\" (52 sqft)\n",
      "Kitchen                       2.91m x 2.89m (8.4 sqm) - 9' 6\" x 9' 5\" (90 sqft)\n",
      "Kitchen /  Dining Room        4.13m x 3.91m (16.1 sqm) - 13' 6\" x 12' 9\" (174 sqft)\n",
      "Kitchen                       2.4m x 2.9m (6.9 sqm) - 7' 10\" x 9' 6\" (74 sqft)\n",
      "Kitchen / Breakfast Room      5.7m x 2.87m (16.3 sqm) - 18' 8\" x 9' 4\" (176 sqft)\n",
      "Kitchen /  Dining Room        5.41m x 3.73m (20.1 sqm) - 17' 8\" x 12' 2\" (217 sqft)\n",
      "Kitchen                       3.02m x 3.19m (9.6 sqm) - 9' 10\" x 10' 5\" (103 sqft)\n",
      "Kitchen                       3.25m x 3.11m (10.1 sqm) - 10' 7\" x 10' 2\" (108 sqft)\n",
      "Kitchen / Breakfast Room      8.63m x 6.36m (54.8 sqm) - 28' 3\" x 20' 10\" (590 sqft)\n",
      "Kitchenette                   1\n",
      "Kitchen /  Dining Room        6.42m x 3.5m (22.4 sqm) - 21' x 11' 5\" (241 sqft)\n",
      "Kitchen /  Dining Room        5.3m x 3.31m (17.5 sqm) - 17' 4\" x 10' 10\" (188 sqft)\n",
      "Kitchen / Breakfast Room      3.71m x 2.61m (9.6 sqm) - 12' 2\" x 8' 6\" (104 sqft)\n",
      "Kitchen /  Dining Room        5.45m x 4.38m (23.9 sqm) - 17' 10\" x 14' 4\" (257 sqft)\n",
      "Open Plan Living Room / Kitchen5.83m x 5.42m (31.5 sqm) - 19' 1\" x 17' 9\" (340 sqft)\n",
      "Kitchen                       6.28m x 2.98m (18.7 sqm) - 20' 7\" x 9' 9\" (201 sqft)\n",
      "Kitchen /  Dining Room        4.21m x 2.88m (12.1 sqm) - 13' 9\" x 9' 5\" (130 sqft)\n",
      "Kitchen                       3.8m x 2.61m (9.9 sqm) - 12' 5\" x 8' 6\" (106 sqft)\n",
      "Kitchen                       3.25m x 2.7m (8.7 sqm) - 10' 7\" x 8' 10\" (94 sqft)\n",
      "Kitchen                       3.5m x 2.84m (9.9 sqm) - 11' 5\" x 9' 3\" (106 sqft)\n",
      "Kitchen                       3.84m x 3.18m (12.2 sqm) - 12' 7\" x 10' 5\" (131 sqft)\n",
      "Kitchen / Breakfast Room      5.24m x 4.24m (22.2 sqm) - 17' 2\" x 13' 10\" (239 sqft)\n",
      "Open Plan Dining/Kitchen/Family Room7.74m x 2.79m (21.5 sqm) - 25' 4\" x 9' 1\" (232 sqft)\n",
      "Kitchen                       3.69m x 2.54m (9.3 sqm) - 12' 1\" x 8' 4\" (100 sqft)\n",
      "Kitchen /  Dining Room        7.06m x 3.08m (21.7 sqm) - 23' 1\" x 10' 1\" (234 sqft)\n",
      "Kitchen /  Dining Room        3.96m x 7.37m (29.1 sqm) - 12' 11\" x 24' 2\" (314 sqft)\n",
      "Kitchen /  Dining Room        4.93m x 4.71m (23.2 sqm) - 16' 2\" x 15' 5\" (249 sqft)\n",
      "Kitchen /  Dining Room        3.75m x 2.5m (9.4 sqm) - 12' 3\" x 8' 2\" (101 sqft)\n",
      "Kitchen / Breakfast Room      4.19m x 2.84m (11.8 sqm) - 13' 8\" x 9' 3\" (128 sqft)\n",
      "Open Plan Living Room / Kitchen1\n",
      "Kitchen /  Dining Room        4.34m x 2.74m (11.9 sqm) - 14' 3\" x 8' 11\" (128 sqft)\n",
      "Kitchen /  Dining Room        4.13m x 5m (20.6 sqm) - 13' 6\" x 16' 4\" (222 sqft)\n",
      "Kitchenette                   3.06m x 1.5m (4.5 sqm) - 10' x 4' 11\" (49 sqft)\n",
      "Kitchen                       4.74m x 2.49m (11.8 sqm) - 15' 6\" x 8' 2\" (127 sqft)\n",
      "Kitchen                       3.02m x 3.02m (9.1 sqm) - 9' 10\" x 9' 10\" (98 sqft)\n",
      "Kitchen                       2.42m x 3.29m (7.9 sqm) - 7' 11\" x 10' 9\" (85 sqft)\n",
      "Kitchen /  Dining Room        7.26m x 4.7m (34.1 sqm) - 23' 9\" x 15' 5\" (367 sqft)\n",
      "Kitchen / Breakfast Room      3.71m x 3.71m (13.7 sqm) - 12' 2\" x 12' 2\" (148 sqft)\n",
      "Kitchen /  Dining Room        1\n",
      "Kitchen / Breakfast Room      3.71m x 2.61m (9.6 sqm) - 12' 2\" x 8' 6\" (104 sqft)\n",
      "Kitchen /  Dining Room        3.71m x 2.61m (9.6 sqm) - 12' 2\" x 8' 6\" (104 sqft)\n",
      "Kitchen /  Dining Room        5.62m x 3.02m (16.9 sqm) - 18' 5\" x 9' 10\" (182 sqft)\n",
      "Kitchen /  Dining Room        4.72m x 3.74m (17.6 sqm) - 15' 5\" x 12' 3\" (190 sqft)\n",
      "Kitchen /  Dining Room        4.09m x 2.9m (11.8 sqm) - 13' 5\" x 9' 6\" (127 sqft)\n",
      "Kitchen                       4.65m x 2.29m (10.6 sqm) - 15' 3\" x 7' 6\" (115 sqft)\n",
      "Kitchen                       3.3m x 3.1m (10.2 sqm) - 10' 9\" x 10' 2\" (110 sqft)\n",
      "Kitchen /  Dining Room        7m x 3m (21 sqm) - 22' 11\" x 9' 10\" (226 sqft)\n",
      "Kitchen /  Dining Room        4.5m x 3.3m (14.8 sqm) - 14' 9\" x 10' 9\" (159 sqft)\n",
      "Kitchen /  Dining Room        4.7m x 3.3m (15.5 sqm) - 15' 5\" x 10' 9\" (166 sqft)\n",
      "Kitchen                       5.09m x 2.5m (12.7 sqm) - 16' 8\" x 8' 2\" (137 sqft)\n",
      "Kitchen / Breakfast Room      3.4m x 4m (13.6 sqm) - 11' 1\" x 13' 1\" (146 sqft)\n",
      "Kitchen /  Dining Room        4.4m x 3m (13.2 sqm) - 14' 5\" x 9' 10\" (142 sqft)\n",
      "Kitchen / Breakfast Room      5.2m x 2.6m (13.5 sqm) - 17' x 8' 6\" (145 sqft)\n",
      "Kitchen /  Dining Room        6.4m x 4.5m (28.8 sqm) - 20' 11\" x 14' 9\" (309 sqft)\n",
      "Kitchen /  Dining Room        4.5m x 3.2m (14.4 sqm) - 14' 9\" x 10' 5\" (154 sqft)\n",
      "Kitchen                       4.2m x 3.3m (13.8 sqm) - 13' 9\" x 10' 9\" (149 sqft)\n",
      "Open Plan Dining/Kitchen/Family Room8.1m x 7.3m (59.1 sqm) - 26' 6\" x 23' 11\" (636 sqft)\n",
      "Kitchen / Breakfast Room      5.8m x 4m (23.2 sqm) - 19' x 13' 1\" (249 sqft)\n",
      "Kitchen /  Dining Room        5.4m x 3m (16.2 sqm) - 17' 8\" x 9' 10\" (174 sqft)\n",
      "Kitchen / Breakfast Room      5m x 3m (15 sqm) - 16' 4\" x 9' 10\" (161 sqft)\n",
      "Kitchen                       3.6m x 3m (10.8 sqm) - 11' 9\" x 9' 10\" (116 sqft)\n",
      "Kitchen/Dining/Living Room    5.2m x 3.6m (18.7 sqm) - 17' x 11' 9\" (201 sqft)\n",
      "Kitchen /  Dining Room        3m x 4.59m (13.8 sqm) - 9' 10\" x 15' 1\" (148 sqft)\n",
      "Open Plan Living Room / Kitchen7.42m x 7.77m (57.6 sqm) - 24' 4\" x 25' 5\" (620 sqft)\n",
      "Kitchen                       3.59m x 1.91m (6.8 sqm) - 11' 9\" x 6' 3\" (73 sqft)\n",
      "Kitchen / Breakfast Room      4.45m x 6.79m (30.2 sqm) - 14' 7\" x 22' 3\" (325 sqft)\n",
      "Kitchen /  Dining Room        2.74m x 4.78m (13 sqm) - 8' 11\" x 15' 8\" (140 sqft)\n",
      "Kitchen /  Dining Room        3.6m x 3.35m (12 sqm) - 11' 9\" x 10' 11\" (129 sqft)\n",
      "Kitchen                       3.61m x 1.93m (6.9 sqm) - 11' 10\" x 6' 3\" (74 sqft)\n",
      "Kitchen                       3.8m x 2.24m (8.5 sqm) - 12' 5\" x 7' 4\" (91 sqft)\n",
      "Open Plan Living Room / Kitchen6.08m x 5.48m (33.3 sqm) - 19' 11\" x 17' 11\" (358 sqft)\n",
      "Kitchen                       4.2m x 2.06m (8.6 sqm) - 13' 9\" x 6' 9\" (93 sqft)\n",
      "Kitchen                       5.13m x 3.56m (18.2 sqm) - 16' 9\" x 11' 8\" (196 sqft)\n",
      "Kitchen Diner                 3.2m x 5.13m (16.4 sqm) - 10' 5\" x 16' 9\" (176 sqft)\n",
      "Kitchen                       2.97m x 3.89m (11.5 sqm) - 9' 8\" x 12' 9\" (124 sqft)\n",
      "Kitchen                       6.42m x 2.2m (14.1 sqm) - 21' x 7' 2\" (152 sqft)\n",
      "Kitchen                       2.5m x 4.32m (10.8 sqm) - 8' 2\" x 14' 2\" (116 sqft)\n",
      "Kitchen                       4.88m x 2.29m (11.1 sqm) - 16' x 7' 6\" (120 sqft)\n",
      "Kitchen                       3.86m x 2.67m (10.3 sqm) - 12' 7\" x 8' 9\" (110 sqft)\n",
      "Family Living Kitchen         7.8m x 3.47m (27 sqm) - 25' 7\" x 11' 4\" (291 sqft)\n",
      "Open Plan Dining/Kitchen/Family Room6.68m x 4.38m (29.2 sqm) - 21' 10\" x 14' 4\" (314 sqft)\n",
      "Kitchen                       3.81m x 3.66m (13.9 sqm) - 12' 6\" x 12' (150 sqft)\n",
      "Kitchen Diner                 5.42m x 5.58m (30.2 sqm) - 17' 9\" x 18' 3\" (325 sqft)\n",
      "Kitchen                       3.4m x 2.9m (9.8 sqm) - 11' 1\" x 9' 6\" (106 sqft)\n",
      "Kitchen                       2.8m x 3.5m (9.8 sqm) - 9' 2\" x 11' 5\" (105 sqft)\n",
      "Kitchen                       5.05m x 2.95m (14.8 sqm) - 16' 6\" x 9' 8\" (160 sqft)\n",
      "Kitchen Diner                 2.2m x 4.8m (10.5 sqm) - 7' 2\" x 15' 8\" (113 sqft)\n",
      "Kitchen                       2.48m x 3.1m (7.6 sqm) - 8' 1\" x 10' 2\" (82 sqft)\n",
      "Kitchen Diner                 6.4m x 5.09m (32.5 sqm) - 20' 11\" x 16' 8\" (350 sqft)\n",
      "Kitchen                       3.12m x 2.91m (9 sqm) - 10' 2\" x 9' 6\" (97 sqft)\n",
      "Kitchen                       3.59m x 1.91m (6.8 sqm) - 11' 9\" x 6' 3\" (73 sqft)\n",
      "Kitchen Diner                 3.05m x 7.9m (24 sqm) - 10' x 25' 11\" (259 sqft)\n",
      "Kitchen                       3.4m x 1.8m (6.1 sqm) - 11' 1\" x 5' 10\" (65 sqft)\n",
      "Kitchen Diner                 4.95m x 2.88m (14.2 sqm) - 16' 2\" x 9' 5\" (153 sqft)\n",
      "Kitchen                       3.47m x 3.93m (13.6 sqm) - 11' 4\" x 12' 10\" (146 sqft)\n",
      "Kitchen                       2.75m x 2.7m (7.4 sqm) - 9' x 8' 10\" (79 sqft)\n",
      "Kitchen                       2.65m x 3.1m (8.2 sqm) - 8' 8\" x 10' 2\" (88 sqft)\n",
      "Kitchen                       4.67m x 3.97m (18.5 sqm) - 15' 3\" x 13' (199 sqft)\n",
      "Kitchen                       3.02m x 2.87m (8.6 sqm) - 9' 10\" x 9' 4\" (93 sqft)\n",
      "Kitchen                       4.01m x 1.87m (7.4 sqm) - 13' 1\" x 6' 1\" (80 sqft)\n",
      "Kitchen                       3.29m x 2.38m (7.8 sqm) - 10' 9\" x 7' 9\" (84 sqft)\n",
      "Kitchen                       2.6m x 3.64m (9.4 sqm) - 8' 6\" x 11' 11\" (101 sqft)\n",
      "Kitchen                       4m x 2.1m (8.4 sqm) - 13' 1\" x 6' 10\" (90 sqft)\n",
      "Kitchen Diner                 4.76m x 8.5m (40.5 sqm) - 15' 7\" x 27' 10\" (436 sqft)\n",
      "Kitchen /  Dining Room        5m x 2.7m (13.5 sqm) - 16' 4\" x 8' 10\" (145 sqft)\n",
      "Kitchen /  Dining Room        9.1m x 5.6m (50.9 sqm) - 29' 10\" x 18' 4\" (548 sqft)\n",
      "Kitchen /  Dining Room        3.5m x 4.2m (14.7 sqm) - 11' 5\" x 13' 9\" (158 sqft)\n",
      "Kitchen                       2.9m x 3.72m (10.7 sqm) - 9' 6\" x 12' 2\" (116 sqft)\n",
      "Kitchen                       2.67m x 4.15m (11 sqm) - 8' 9\" x 13' 7\" (119 sqft)\n",
      "Kitchen                       3m x 1.8m (5.4 sqm) - 9' 10\" x 5' 10\" (58 sqft)\n",
      "Kitchen                       1.91m x 1.93m (3.6 sqm) - 6' 3\" x 6' 3\" (39 sqft)\n",
      "Kitchen /  Dining Room        2.31m x 3.67m (8.5 sqm) - 7' 7\" x 12' (91 sqft)\n",
      "Kitchen                       3.09m x 2.54m (7.8 sqm) - 10' 1\" x 8' 4\" (84 sqft)\n",
      "Kitchen                       1\n",
      "Kitchen                       1\n",
      "Kitchen                       3.6m x 4.55m (16.3 sqm) - 11' 9\" x 14' 11\" (176 sqft)\n",
      "Kitchen                       3.02m x 5.08m (15.3 sqm) - 9' 10\" x 16' 8\" (165 sqft)\n",
      "Kitchen Diner                 3.25m x 4.71m (15.3 sqm) - 10' 7\" x 15' 5\" (164 sqft)\n",
      "Kitchen                       2.95m x 3.67m (10.8 sqm) - 9' 8\" x 12' (116 sqft)\n",
      "Kitchen                       3m x 3.28m (9.8 sqm) - 9' 10\" x 10' 9\" (105 sqft)\n",
      "Kitchen                       3.8m x 1.8m (6.8 sqm) - 12' 5\" x 5' 10\" (73 sqft)\n",
      "Kitchen /  Dining Room        5.3m x 4.7m (24.9 sqm) - 17' 4\" x 15' 5\" (268 sqft)\n",
      "Kitchen /  Dining Room        5.85m x 3.45m (20.1 sqm) - 19' 2\" x 11' 3\" (217 sqft)\n",
      "Kitchen                       5.3m x 2.66m (14 sqm) - 17' 4\" x 8' 8\" (151 sqft)\n",
      "Kitchen                       3.3m x 2.91m (9.6 sqm) - 10' 9\" x 9' 6\" (103 sqft)\n",
      "Kitchen                       4.43m x 3.89m (17.2 sqm) - 14' 6\" x 12' 9\" (185 sqft)\n",
      "Kitchen Diner                 6.35m x 5.6m (35.5 sqm) - 20' 10\" x 18' 4\" (382 sqft)\n",
      "Kitchen                       3.42m x 2.54m (8.6 sqm) - 11' 2\" x 8' 4\" (93 sqft)\n",
      "Kitchen                       1\n",
      "Kitchen                       3.32m x 2.87m (9.5 sqm) - 10' 10\" x 9' 4\" (102 sqft)\n",
      "Kitchen                       4.15m x 3m (12.4 sqm) - 13' 7\" x 9' 10\" (134 sqft)\n",
      "Kitchen                       1\n",
      "Kitchen                       4.5m x 3.3m (14.8 sqm) - 14' 9\" x 10' 9\" (159 sqft)\n",
      "Kitchen                       3.22m x 2.79m (8.9 sqm) - 10' 6\" x 9' 1\" (96 sqft)\n",
      "Kitchen Diner                 6.6m x 2.9m (19.1 sqm) - 21' 7\" x 9' 6\" (206 sqft)\n",
      "Kitchen /  Dining Room        7.59m x 6.04m (45.8 sqm) - 24' 10\" x 19' 9\" (493 sqft)\n",
      "Kitchen                       2.66m x 2.62m (6.9 sqm) - 8' 8\" x 8' 7\" (75 sqft)\n",
      "Kitchen                       2.4m x 1.6m (3.8 sqm) - 7' 10\" x 5' 2\" (41 sqft)\n",
      "Kitchen                       2.4m x 1.6m (3.8 sqm) - 7' 10\" x 5' 2\" (41 sqft)\n",
      "Kitchen                       4.5m x 2.8m (12.6 sqm) - 14' 9\" x 9' 2\" (135 sqft)\n",
      "Kitchen                       5.2m x 2.29m (11.9 sqm) - 17' x 7' 6\" (128 sqft)\n",
      "Kitchen / Breakfast Room      4.5m x 3.3m (14.8 sqm) - 14' 9\" x 10' 9\" (159 sqft)\n",
      "Kitchen / Breakfast Room      2.9m x 3.8m (11 sqm) - 9' 6\" x 12' 5\" (118 sqft)\n",
      "Kitchen /  Dining Room        1\n",
      "Kitchen / Breakfast Room      4m x 4.09m (16.4 sqm) - 13' 1\" x 13' 5\" (176 sqft)\n",
      "Kitchen                       2.1m x 3m (6.3 sqm) - 6' 10\" x 9' 10\" (67 sqft)\n",
      "Kitchen                       2.4m x 3m (7.2 sqm) - 7' 10\" x 9' 10\" (77 sqft)\n",
      "Kitchen /  Dining Room        4.2m x 2.5m (10.5 sqm) - 13' 9\" x 8' 2\" (113 sqft)\n",
      "Kitchen /  Dining Room        6m x 2.5m (15 sqm) - 19' 8\" x 8' 2\" (161 sqft)\n",
      "Kitchen /  Dining Room        7m x 3.3m (23.1 sqm) - 22' 11\" x 10' 9\" (248 sqft)\n",
      "Kitchen                       3m x 3m (9 sqm) - 9' 10\" x 9' 10\" (96 sqft)\n",
      "Kitchen                       2.7m x 3.2m (8.6 sqm) - 8' 10\" x 10' 5\" (92 sqft)\n",
      "Kitchen                       2.29m x 4.5m (10.3 sqm) - 7' 6\" x 14' 9\" (111 sqft)\n",
      "Kitchen                       3.2m x 3.3m (10.5 sqm) - 10' 5\" x 10' 9\" (113 sqft)\n",
      "Kitchen /  Dining Room        4.09m x 3.4m (13.9 sqm) - 13' 5\" x 11' 1\" (150 sqft)\n",
      "Kitchen                       2.4m x 3.6m (8.6 sqm) - 7' 10\" x 11' 9\" (92 sqft)\n",
      "Kitchen /  Dining Room        4.7m x 3m (14.1 sqm) - 15' 5\" x 9' 10\" (151 sqft)\n",
      "Kitchen Diner                 5m x 6.8m (34 sqm) - 16' 4\" x 22' 3\" (365 sqft)\n",
      "Kitchen                       3.6m x 4.2m (15.1 sqm) - 11' 9\" x 13' 9\" (162 sqft)\n",
      "Kitchen /  Dining Room        3.8m x 7.2m (27.3 sqm) - 12' 5\" x 23' 7\" (294 sqft)\n",
      "Kitchen / Breakfast Room      3.5m x 3.9m (13.6 sqm) - 11' 5\" x 12' 9\" (146 sqft)\n",
      "Kitchen                       2.1m x 2.6m (5.4 sqm) - 6' 10\" x 8' 6\" (58 sqft)\n",
      "Kitchen                       3.1m x 3m (9.3 sqm) - 10' 2\" x 9' 10\" (100 sqft)\n",
      "Kitchen / Breakfast Room      3m x 5.3m (15.9 sqm) - 9' 10\" x 17' 4\" (171 sqft)\n",
      "Kitchen /  Dining Room        5.2m x 2.6m (13.5 sqm) - 17' x 8' 6\" (145 sqft)\n",
      "Kitchen Diner                 5.2m x 3.3m (17.1 sqm) - 17' x 10' 9\" (184 sqft)\n",
      "Kitchen                       1.8m x 3.6m (6.4 sqm) - 5' 10\" x 11' 9\" (69 sqft)\n",
      "Kitchen /  Dining Room        3.9m x 2.5m (9.7 sqm) - 12' 9\" x 8' 2\" (104 sqft)\n",
      "Kitchen /  Dining Room        7m x 3.2m (22.4 sqm) - 22' 11\" x 10' 5\" (241 sqft)\n",
      "Kitchen                       2.4m x 3.2m (7.6 sqm) - 7' 10\" x 10' 5\" (82 sqft)\n",
      "Kitchen                       3.1m x 3.1m (9.6 sqm) - 10' 2\" x 10' 2\" (103 sqft)\n",
      "Kitchen / Breakfast Room      3m x 3.1m (9.3 sqm) - 9' 10\" x 10' 2\" (100 sqft)\n",
      "Kitchen                       2.29m x 3.4m (7.8 sqm) - 7' 6\" x 11' 1\" (84 sqft)\n",
      "Kitchen /  Dining Room        3.9m x 4.8m (18.7 sqm) - 12' 9\" x 15' 8\" (201 sqft)\n",
      "Kitchen                       3.3m x 2.8m (9.2 sqm) - 10' 9\" x 9' 2\" (99 sqft)\n",
      "Kitchen                       3.2m x 3.6m (11.5 sqm) - 10' 5\" x 11' 9\" (123 sqft)\n",
      "Kitchen /  Dining Room        6m x 2.29m (13.8 sqm) - 19' 8\" x 7' 6\" (148 sqft)\n",
      "Kitchen /  Dining Room        3.5m x 6m (21 sqm) - 11' 5\" x 19' 8\" (226 sqft)\n",
      "Kitchen /  Dining Room        5.8m x 3.4m (19.7 sqm) - 19' x 11' 1\" (212 sqft)\n",
      "Kitchen                       3.5m x 2.9m (10.1 sqm) - 11' 5\" x 9' 6\" (109 sqft)\n",
      "Kitchen                       3m x 3m (9 sqm) - 9' 10\" x 9' 10\" (96 sqft)\n",
      "Kitchen / Breakfast Room      3.2m x 5.09m (16.3 sqm) - 10' 5\" x 16' 8\" (175 sqft)\n",
      "Kitchen / Breakfast Room      2.9m x 3.8m (11 sqm) - 9' 6\" x 12' 5\" (118 sqft)\n",
      "Kitchen                       3.5m x 3.7m (12.9 sqm) - 11' 5\" x 12' 1\" (139 sqft)\n",
      "Kitchen                       3.6m x 3.6m (12.9 sqm) - 11' 9\" x 11' 9\" (139 sqft)\n",
      "Kitchen                       2.2m x 3.1m (6.8 sqm) - 7' 2\" x 10' 2\" (73 sqft)\n",
      "Kitchen / Breakfast Room      3.6m x 4.29m (15.4 sqm) - 11' 9\" x 14' (166 sqft)\n",
      "Kitchen / Breakfast Room      3.1m x 5.3m (16.4 sqm) - 10' 2\" x 17' 4\" (176 sqft)\n",
      "Breakfast Kitchen             2.8m x 5.5m (15.4 sqm) - 9' 2\" x 18' (165 sqft)\n",
      "Kitchen / Breakfast Room      3.6m x 3.3m (11.8 sqm) - 11' 9\" x 10' 9\" (127 sqft)\n",
      "Kitchen /  Dining Room        5m x 2.7m (13.5 sqm) - 16' 4\" x 8' 10\" (145 sqft)\n",
      "Kitchen                       3.4m x 1.5m (5.1 sqm) - 11' 1\" x 4' 11\" (54 sqft)\n",
      "Kitchen /  Dining Room        2.35m x 3.37m (7.9 sqm) - 7' 8\" x 11' (85 sqft)\n",
      "Kitchen /  Dining Room        3.2m x 4.2m (13.4 sqm) - 10' 5\" x 13' 9\" (144 sqft)\n",
      "Kitchen                       4.59m x 2.6m (11.9 sqm) - 15' 1\" x 8' 6\" (128 sqft)\n",
      "Kitchen /  Dining Room        5.05m x 2.85m (14.3 sqm) - 16' 6\" x 9' 4\" (154 sqft)\n",
      "Kitchen                       3.54m x 3.29m (11.6 sqm) - 11' 7\" x 10' 9\" (125 sqft)\n",
      "Kitchen                       6.48m x 3.59m (23.2 sqm) - 21' 3\" x 11' 9\" (250 sqft)\n",
      "Kitchen                       3.62m x 1.73m (6.2 sqm) - 11' 10\" x 5' 8\" (67 sqft)\n",
      "Kitchen                       2.96m x 2.4m (7.1 sqm) - 9' 8\" x 7' 10\" (76 sqft)\n",
      "Kitchen                       2.8m x 2.16m (6 sqm) - 9' 2\" x 7' 1\" (65 sqft)\n",
      "Kitchen                       4.3m x 3.8m (16.3 sqm) - 14' 1\" x 12' 5\" (175 sqft)\n",
      "Kitchen                       4.3m x 3.8m (16.3 sqm) - 14' 1\" x 12' 5\" (175 sqft)\n",
      "Kitchen Diner                 7.36m x 2.95m (21.7 sqm) - 24' 1\" x 9' 8\" (233 sqft)\n",
      "Kitchen Diner                 5.25m x 2.84m (14.9 sqm) - 17' 2\" x 9' 3\" (160 sqft)\n",
      "Kitchen                       1\n",
      "Kitchen Diner                 4.38m x 3.28m (14.3 sqm) - 14' 4\" x 10' 9\" (154 sqft)\n",
      "Kitchen                       3.9m x 3m (11.7 sqm) - 12' 9\" x 9' 10\" (125 sqft)\n",
      "Kitchen                       1\n",
      "Kitchen                       3.72m x 3.28m (12.2 sqm) - 12' 2\" x 10' 9\" (131 sqft)\n",
      "Kitchen Diner                 3.65m x 3.06m (11.1 sqm) - 11' 11\" x 10' (120 sqft)\n",
      "Kitchen                       2.91m x 1.97m (5.7 sqm) - 9' 6\" x 6' 5\" (61 sqft)\n",
      "Kitchen /  Dining Room        3.58m x 3.63m (12.9 sqm) - 11' 8\" x 11' 10\" (139 sqft)\n",
      "Kitchen / Breakfast Room      3.15m x 2.94m (9.2 sqm) - 10' 4\" x 9' 7\" (99 sqft)\n",
      "Kitchen /  Dining Room        1\n",
      "Open Plan Dining/Kitchen/Family Room5.04m x 2.99m (15 sqm) - 16' 6\" x 9' 9\" (162 sqft)\n",
      "Kitchen Diner                 1\n",
      "Kitchen                       3.04m x 2.84m (8.6 sqm) - 9' 11\" x 9' 3\" (92 sqft)\n",
      "Open Plan Living Room / Kitchen6.1m x 4.7m (28.6 sqm) - 20' x 15' 5\" (308 sqft)\n",
      "Kitchen Area                  2.4m x 2.29m (5.5 sqm) - 7' 10\" x 7' 6\" (59 sqft)\n",
      "Kitchen                       2.8m x 2.7m (7.5 sqm) - 9' 2\" x 8' 10\" (81 sqft)\n",
      "Kitchen / Breakfast Room      4.59m x 3m (13.8 sqm) - 15' 1\" x 9' 10\" (148 sqft)\n",
      "Kitchen                       3m x 2.9m (8.7 sqm) - 9' 10\" x 9' 6\" (93 sqft)\n",
      "Kitchen                       3m x 3m (9 sqm) - 9' 10\" x 9' 10\" (96 sqft)\n",
      "Kitchen                       3.8m x 2.4m (9.1 sqm) - 12' 5\" x 7' 10\" (98 sqft)\n",
      "Kitchen                       1\n",
      "Kitchen / Breakfast Room      5.3m x 2.6m (13.7 sqm) - 17' 4\" x 8' 6\" (148 sqft)\n",
      "Kitchen Diner                 4.4m x 3m (13.2 sqm) - 14' 5\" x 9' 10\" (142 sqft)\n",
      "Kitchen /  Dining Room        7.7m x 1.75m (13.4 sqm) - 25' 3\" x 5' 8\" (145 sqft)\n",
      "Kitchen Area                  1\n",
      "Open Plan Dining/Kitchen/Family Room6.3m x 3.5m (22 sqm) - 20' 8\" x 11' 5\" (237 sqft)\n",
      "Kitchen / Breakfast Room      3m x 4.25m (12.7 sqm) - 9' 10\" x 13' 11\" (137 sqft)\n",
      "Kitchen Diner                 5m x 3.15m (15.7 sqm) - 16' 4\" x 10' 4\" (169 sqft)\n",
      "Kitchen                       3.1m x 2.9m (8.9 sqm) - 10' 2\" x 9' 6\" (96 sqft)\n",
      "Kitchen / Breakfast Room      4.82m x 3.86m (18.6 sqm) - 15' 9\" x 12' 7\" (200 sqft)\n",
      "Kitchen / Breakfast Room      4.5m x 3.7m (16.6 sqm) - 14' 9\" x 12' 1\" (179 sqft)\n",
      "Kitchen / Breakfast Room      4.3m x 2.7m (11.6 sqm) - 14' 1\" x 8' 10\" (124 sqft)\n",
      "Kitchen                       3.5m x 2.9m (10.1 sqm) - 11' 5\" x 9' 6\" (109 sqft)\n",
      "Kitchen                       2.9m x 2.2m (6.3 sqm) - 9' 6\" x 7' 2\" (68 sqft)\n",
      "Open Plan Living Kitchen      7.1m x 3.8m (26.9 sqm) - 23' 3\" x 12' 5\" (290 sqft)\n",
      "Kitchen                       3.4m x 2.95m (10 sqm) - 11' 1\" x 9' 8\" (107 sqft)\n",
      "Kitchen                       3m x 2.4m (7.2 sqm) - 9' 10\" x 7' 10\" (77 sqft)\n",
      "Kitchen                       4.09m x 1.5m (6.1 sqm) - 13' 5\" x 4' 11\" (66 sqft)\n",
      "Open Plan Dining /  Kitchen   4.7m x 2.8m (13.1 sqm) - 15' 5\" x 9' 2\" (141 sqft)\n",
      "Kitchen                       3.6m x 1.76m (6.3 sqm) - 11' 9\" x 5' 9\" (68 sqft)\n",
      "Open Plan Dining /  Kitchen   7.3m x 2.8m (20.4 sqm) - 23' 11\" x 9' 2\" (220 sqft)\n",
      "Kitchen / Breakfast Room      5.09m x 4m (20.4 sqm) - 16' 8\" x 13' 1\" (219 sqft)\n",
      "Open Plan Dining/Kitchen/Family Room6m x 7.2m (43.2 sqm) - 19' 8\" x 23' 7\" (464 sqft)\n",
      "Kitchen / Breakfast Room      4.7m x 4.2m (19.7 sqm) - 15' 5\" x 13' 9\" (212 sqft)\n",
      "Kitchen /  Dining Room        2.54m x 4.75m (12 sqm) - 8' 4\" x 15' 7\" (129 sqft)\n",
      "Breakfast Kitchen             5.28m x 3.14m (16.5 sqm) - 17' 3\" x 10' 3\" (178 sqft)\n",
      "Kitchen                       3.01m x 3.26m (9.8 sqm) - 9' 10\" x 10' 8\" (105 sqft)\n",
      "Breakfast Kitchen             4.98m x 3.04m (15.1 sqm) - 16' 4\" x 9' 11\" (162 sqft)\n",
      "Open Plan Dining /  Kitchen   4.11m x 4.53m (18.6 sqm) - 13' 5\" x 14' 10\" (200 sqft)\n",
      "Kitchen /  Dining Room        3.62m x 4.21m (15.2 sqm) - 11' 10\" x 13' 9\" (164 sqft)\n",
      "Breakfast Kitchen             3.63m x 2.63m (9.5 sqm) - 11' 10\" x 8' 7\" (102 sqft)\n",
      "Family Living Kitchen         7.91m x 2.99m (23.6 sqm) - 25' 11\" x 9' 9\" (254 sqft)\n",
      "Kitchen                       3.3m x 2.2m (7.2 sqm) - 10' 9\" x 7' 2\" (78 sqft)\n",
      "Open Plan Dining /  Kitchen   2.78m x 4.68m (13 sqm) - 9' 1\" x 15' 4\" (140 sqft)\n",
      "Breakfast Kitchen             2.71m x 3.37m (9.1 sqm) - 8' 10\" x 11' (98 sqft)\n",
      "Breakfast Kitchen             3.43m x 3.24m (11.1 sqm) - 11' 3\" x 10' 7\" (119 sqft)\n",
      "Kitchen                       3.18m x 2.58m (8.2 sqm) - 10' 5\" x 8' 5\" (88 sqft)\n",
      "Kitchen                       3.62m x 1.97m (7.1 sqm) - 11' 10\" x 6' 5\" (76 sqft)\n",
      "Kitchen /  Dining Room        3.71m x 4.4m (16.3 sqm) - 12' 2\" x 14' 5\" (175 sqft)\n",
      "Kitchen                       3.1m x 4.13m (12.8 sqm) - 10' 2\" x 13' 6\" (137 sqft)\n",
      "Breakfast Kitchen             4.75m x 3.73m (17.7 sqm) - 15' 7\" x 12' 2\" (190 sqft)\n",
      "Kitchen                       2.09m x 2.7m (5.6 sqm) - 6' 10\" x 8' 10\" (60 sqft)\n",
      "Breakfast Kitchen             2.56m x 4.71m (12 sqm) - 8' 4\" x 15' 5\" (129 sqft)\n",
      "Kitchen /  Dining Room        2.52m x 4.55m (11.5 sqm) - 8' 3\" x 14' 11\" (123 sqft)\n",
      "Breakfast Kitchen             4.29m x 4.09m (17.5 sqm) - 14' x 13' 5\" (189 sqft)\n",
      "Kitchen /  Dining Room        4.51m x 3.4m (15.3 sqm) - 14' 9\" x 11' 1\" (165 sqft)\n",
      "Breakfast Kitchen             4.93m x 2.79m (13.7 sqm) - 16' 2\" x 9' 1\" (148 sqft)\n",
      "Kitchen                       3.86m x 2.86m (11 sqm) - 12' 7\" x 9' 4\" (118 sqft)\n",
      "Kitchen                       1\n",
      "Open Plan Dining/Kitchen/Family Room3.1m x 7.95m (24.6 sqm) - 10' 2\" x 26' (265 sqft)\n",
      "Family Living Kitchen         1\n",
      "Kitchen                       3.58m x 2.7m (9.6 sqm) - 11' 8\" x 8' 10\" (104 sqft)\n",
      "Kitchen                       5.5m x 2.2m (12.1 sqm) - 18' x 7' 2\" (130 sqft)\n",
      "Open Plan Living Room / Kitchen1\n",
      "Kitchen /  Dining Room        2.86m x 4.15m (11.8 sqm) - 9' 4\" x 13' 7\" (127 sqft)\n",
      "Open Plan Living Room / Kitchen1\n",
      "Breakfast Kitchen             2.54m x 4.68m (11.8 sqm) - 8' 4\" x 15' 4\" (127 sqft)\n",
      "Kitchen /  Dining Room        3.8m x 3.5m (13.3 sqm) - 12' 5\" x 11' 5\" (143 sqft)\n",
      "Breakfast Kitchen             4.84m x 4.34m (21 sqm) - 15' 10\" x 14' 3\" (226 sqft)\n",
      "Open Plan Dining/Kitchen/Family Room7.18m x 6.45m (46.3 sqm) - 23' 6\" x 21' 1\" (498 sqft)\n",
      "Kitchen /  Dining Room        2.9m x 4m (11.6 sqm) - 9' 6\" x 13' 1\" (124 sqft)\n",
      "Kitchen /  Dining Room        2.99m x 4.86m (14.5 sqm) - 9' 9\" x 15' 11\" (156 sqft)\n",
      "Kitchen /  Dining Room        4.34m x 4.15m (18 sqm) - 14' 2\" x 13' 7\" (193 sqft)\n",
      "Kitchen /  Dining Room        4.13m x 4.42m (18.2 sqm) - 13' 6\" x 14' 6\" (196 sqft)\n",
      "Kitchen /  Dining Room        3.35m x 3.72m (12.4 sqm) - 10' 11\" x 12' 2\" (134 sqft)\n",
      "Breakfast Kitchen             4.3m x 3.95m (16.9 sqm) - 14' 1\" x 12' 11\" (182 sqft)\n",
      "Kitchen                       2.7m x 2.89m (7.8 sqm) - 8' 10\" x 9' 5\" (83 sqft)\n",
      "Kitchen /  Dining Room        4.59m x 2.5m (11.4 sqm) - 15' 1\" x 8' 2\" (123 sqft)\n",
      "Breakfast Kitchen             4.76m x 3.9m (18.5 sqm) - 15' 7\" x 12' 9\" (199 sqft)\n",
      "Breakfast Kitchen             2.92m x 5.89m (17.1 sqm) - 9' 6\" x 19' 3\" (185 sqft)\n",
      "Breakfast Kitchen             4.05m x 4.3m (17.4 sqm) - 13' 3\" x 14' 1\" (187 sqft)\n",
      "Kitchen                       2.5m x 2.41m (6 sqm) - 8' 2\" x 7' 10\" (65 sqft)\n",
      "Kitchen                       3.27m x 2.48m (8.1 sqm) - 10' 8\" x 8' 1\" (87 sqft)\n",
      "Kitchen                       2.73m x 2.6m (7 sqm) - 8' 11\" x 8' 6\" (76 sqft)\n",
      "Kitchen /  Dining Room        5.8m x 3.8m (22 sqm) - 19' x 12' 5\" (237 sqft)\n",
      "Kitchen                       4.13m x 3.4m (14 sqm) - 13' 6\" x 11' 1\" (151 sqft)\n",
      "Kitchen /  Dining Room        4.99m x 3.61m (18 sqm) - 16' 4\" x 11' 10\" (193 sqft)\n",
      "Kitchen /  Dining Room        3.28m x 3.45m (11.3 sqm) - 10' 9\" x 11' 3\" (121 sqft)\n",
      "Kitchen                       2.6m x 2.2m (5.7 sqm) - 8' 6\" x 7' 2\" (61 sqft)\n",
      "Kitchen                       2.67m x 1.84m (4.9 sqm) - 8' 9\" x 6' (52 sqft)\n",
      "Kitchen Diner                 5.7m x 3.5m (19.9 sqm) - 18' 8\" x 11' 5\" (214 sqft)\n",
      "Kitchen                       3.02m x 2.38m (7.1 sqm) - 9' 10\" x 7' 9\" (77 sqft)\n",
      "Kitchen                       7.4m x 4.5m (33.3 sqm) - 24' 3\" x 14' 9\" (358 sqft)\n",
      "Kitchen                       2.67m x 1.84m (4.9 sqm) - 8' 9\" x 6' (52 sqft)\n",
      "Kitchen /  Dining Room        4.44m x 3.26m (14.4 sqm) - 14' 6\" x 10' 8\" (155 sqft)\n",
      "Kitchen                       3.82m x 3.53m (13.4 sqm) - 12' 6\" x 11' 6\" (145 sqft)\n",
      "Kitchen                       3.82m x 3.53m (13.4 sqm) - 12' 6\" x 11' 6\" (145 sqft)\n",
      "Kitchen /  Dining Room        1\n",
      "Kitchen                       4.83m x 2.57m (12.4 sqm) - 15' 10\" x 8' 5\" (133 sqft)\n",
      "Kitchen                       2.65m x 2.23m (5.9 sqm) - 8' 8\" x 7' 3\" (63 sqft)\n",
      "Kitchen /  Dining Room        5.99m x 3.6m (21.5 sqm) - 19' 7\" x 11' 9\" (232 sqft)\n",
      "Kitchen / Breakfast Room      4.13m x 3.22m (13.3 sqm) - 13' 6\" x 10' 6\" (143 sqft)\n",
      "Kitchen                       2.85m x 2.35m (6.6 sqm) - 9' 4\" x 7' 8\" (72 sqft)\n",
      "Kitchen                       3.34m x 2.38m (7.9 sqm) - 10' 11\" x 7' 9\" (85 sqft)\n",
      "Kitchen                       1\n",
      "Kitchen                       4.11m x 2.54m (10.4 sqm) - 13' 5\" x 8' 4\" (112 sqft)\n",
      "Kitchen /  Dining Room        4.45m x 4.18m (18.6 sqm) - 14' 7\" x 13' 8\" (200 sqft)\n",
      "Kitchen                       3.16m x 2.33m (7.3 sqm) - 10' 4\" x 7' 7\" (79 sqft)\n",
      "Kitchen / Breakfast Room      7m x 2.47m (17.2 sqm) - 22' 11\" x 8' 1\" (186 sqft)\n",
      "Kitchen /  Dining Room        4.7m x 2.7m (12.6 sqm) - 15' 5\" x 8' 10\" (136 sqft)\n",
      "Kitchen                       2.72m x 2.36m (6.4 sqm) - 8' 11\" x 7' 8\" (69 sqft)\n",
      "Kitchen Diner                 5.97m x 2.87m (17.1 sqm) - 19' 7\" x 9' 4\" (184 sqft)\n",
      "Kitchen /  Dining Room        4.37m x 4.11m (17.9 sqm) - 14' 4\" x 13' 5\" (193 sqft)\n",
      "Breakfast Kitchen             4.01m x 2.93m (11.7 sqm) - 13' 1\" x 9' 7\" (126 sqft)\n",
      "Kitchen                       2.92m x 2.59m (7.5 sqm) - 9' 6\" x 8' 5\" (81 sqft)\n",
      "Kitchen                       3.3m x 2.42m (7.9 sqm) - 10' 9\" x 7' 11\" (85 sqft)\n",
      "Kitchen                       4.13m x 2.65m (10.9 sqm) - 13' 6\" x 8' 8\" (117 sqft)\n",
      "Kitchen                       3.43m x 2.57m (8.8 sqm) - 11' 3\" x 8' 5\" (94 sqft)\n",
      "Kitchen Diner                 4.86m x 3.83m (18.6 sqm) - 15' 11\" x 12' 6\" (200 sqft)\n",
      "Kitchen /  Dining Room        7.09m x 4.69m (33.2 sqm) - 23' 3\" x 15' 4\" (357 sqft)\n",
      "Kitchen                       3.41m x 2.19m (7.4 sqm) - 11' 2\" x 7' 2\" (80 sqft)\n",
      "Kitchen/Dining/Living Room    7m x 5m (35 sqm) - 22' 11\" x 16' 4\" (376 sqft)\n",
      "Kitchen Area                  3m x 2.57m (7.7 sqm) - 9' 10\" x 8' 5\" (82 sqft)\n",
      "Kitchen                       3.39m x 1.85m (6.2 sqm) - 11' 1\" x 6' (67 sqft)\n",
      "Kitchen /  Dining Room        5.8m x 3.61m (20.9 sqm) - 19' x 11' 10\" (225 sqft)\n",
      "Kitchen Area                  3.61m x 2.19m (7.9 sqm) - 11' 10\" x 7' 2\" (85 sqft)\n",
      "Kitchen Diner                 4.07m x 4.05m (16.5 sqm) - 13' 4\" x 13' 3\" (177 sqft)\n",
      "Kitchen /  Dining Room        8.41m x 6.05m (50.8 sqm) - 27' 7\" x 19' 10\" (547 sqft)\n",
      "Kitchen                       4.05m x 2.58m (10.4 sqm) - 13' 3\" x 8' 5\" (112 sqft)\n",
      "Kitchen /  Dining Room        5.96m x 4.54m (27 sqm) - 19' 6\" x 14' 10\" (291 sqft)\n",
      "Kitchen / Breakfast Room      5.63m x 3.6m (20.2 sqm) - 18' 5\" x 11' 9\" (218 sqft)\n",
      "Breakfast Kitchen             4.69m x 3.73m (17.4 sqm) - 15' 4\" x 12' 2\" (188 sqft)\n",
      "Kitchen                       1.95m x 3.54m (6.9 sqm) - 6' 4\" x 11' 7\" (74 sqft)\n",
      "Kitchen / Breakfast Room      3.18m x 3.26m (10.3 sqm) - 10' 5\" x 10' 8\" (111 sqft)\n",
      "Kitchen Area                  3.1m x 3.27m (10.1 sqm) - 10' 2\" x 10' 8\" (109 sqft)\n",
      "Kitchen                       6.34m x 2.54m (16.1 sqm) - 20' 9\" x 8' 4\" (173 sqft)\n",
      "Kitchen / Breakfast Room      2.82m x 3.9m (10.9 sqm) - 9' 3\" x 12' 9\" (118 sqft)\n",
      "Kitchen                       3.77m x 1.92m (7.2 sqm) - 12' 4\" x 6' 3\" (77 sqft)\n",
      "Kitchen / Breakfast Room      3.65m x 3.21m (11.7 sqm) - 11' 11\" x 10' 6\" (126 sqft)\n",
      "Kitchen                       3.43m x 3.42m (11.7 sqm) - 11' 3\" x 11' 2\" (126 sqft)\n",
      "Kitchen                       4.38m x 2.64m (11.5 sqm) - 14' 4\" x 8' 7\" (124 sqft)\n",
      "Kitchen /  Dining Room        3.58m x 3.62m (12.9 sqm) - 11' 8\" x 11' 10\" (139 sqft)\n",
      "Kitchen                       2.08m x 3.56m (7.4 sqm) - 6' 9\" x 11' 8\" (79 sqft)\n",
      "Kitchen                       3.39m x 4.25m (14.4 sqm) - 11' 1\" x 13' 11\" (155 sqft)\n",
      "Kitchen                       3m x 1.75m (5.2 sqm) - 9' 10\" x 5' 8\" (56 sqft)\n",
      "Kitchen                       4.16m x 2.29m (9.5 sqm) - 13' 7\" x 7' 6\" (102 sqft)\n",
      "Kitchen / Breakfast Room      5.33m x 3.02m (16 sqm) - 17' 5\" x 9' 10\" (173 sqft)\n",
      "Kitchen                       2.42m x 2.06m (5 sqm) - 7' 11\" x 6' 9\" (53 sqft)\n",
      "Kitchen / Breakfast Room      3.92m x 3.3m (12.9 sqm) - 12' 10\" x 10' 9\" (139 sqft)\n",
      "Kitchen / Breakfast Room      6.07m x 3.11m (18.8 sqm) - 19' 10\" x 10' 2\" (203 sqft)\n",
      "Kitchen                       2.39m x 3.19m (7.6 sqm) - 7' 10\" x 10' 5\" (82 sqft)\n",
      "Kitchen                       1.8m x 3.14m (5.6 sqm) - 5' 10\" x 10' 3\" (60 sqft)\n",
      "Kitchen                       1.88m x 3.23m (6 sqm) - 6' 2\" x 10' 7\" (65 sqft)\n",
      "Kitchen Diner                 3.6m x 4.46m (16 sqm) - 11' 9\" x 14' 7\" (172 sqft)\n",
      "Kitchen / Breakfast Room      3.36m x 2.96m (9.9 sqm) - 11' x 9' 8\" (107 sqft)\n",
      "Kitchen                       2.33m x 3.42m (7.9 sqm) - 7' 7\" x 11' 2\" (85 sqft)\n",
      "Kitchen                       2.66m x 3.25m (8.6 sqm) - 8' 8\" x 10' 7\" (93 sqft)\n",
      "Kitchen /  Dining Room        4.24m x 3.51m (14.8 sqm) - 13' 10\" x 11' 6\" (160 sqft)\n",
      "Kitchen                       2.72m x 1.99m (5.4 sqm) - 8' 11\" x 6' 6\" (58 sqft)\n",
      "Kitchen Area                  2.37m x 1.9m (4.5 sqm) - 7' 9\" x 6' 2\" (48 sqft)\n",
      "Kitchen Diner                 2.93m x 4.38m (12.8 sqm) - 9' 7\" x 14' 4\" (138 sqft)\n",
      "Kitchen                       1.58m x 2.2m (3.4 sqm) - 5' 2\" x 7' 2\" (37 sqft)\n",
      "Kitchen Diner                 4.58m x 2.59m (11.8 sqm) - 15' x 8' 5\" (127 sqft)\n",
      "Kitchen                       3.38m x 1.63m (5.5 sqm) - 11' 1\" x 5' 4\" (59 sqft)\n",
      "Kitchen / Breakfast Room      4.07m x 2.58m (10.5 sqm) - 13' 4\" x 8' 5\" (113 sqft)\n",
      "Kitchen                       1\n",
      "Kitchen                       2.66m x 3.25m (8.6 sqm) - 8' 8\" x 10' 7\" (93 sqft)\n",
      "Kitchen                       2.9m x 2m (5.8 sqm) - 9' 6\" x 6' 6\" (62 sqft)\n",
      "Kitchen                       2.49m x 5.26m (13 sqm) - 8' 2\" x 17' 3\" (140 sqft)\n",
      "Kitchen                       2.74m x 2.81m (7.6 sqm) - 8' 11\" x 9' 2\" (82 sqft)\n",
      "Kitchen Diner                 3.37m x 3.32m (11.1 sqm) - 11' x 10' 10\" (120 sqft)\n",
      "Kitchen / Breakfast Room      3.93m x 1.59m (6.2 sqm) - 12' 10\" x 5' 2\" (67 sqft)\n",
      "Kitchen / Breakfast Room      3.66m x 3.12m (11.4 sqm) - 12' x 10' 2\" (122 sqft)\n",
      "Kitchen                       4.05m x 3.02m (12.2 sqm) - 13' 3\" x 9' 10\" (131 sqft)\n",
      "Kitchen                       2.75m x 2.25m (6.1 sqm) - 9' x 7' 4\" (66 sqft)\n",
      "Kitchen                       2.06m x 4.4m (9.1 sqm) - 6' 9\" x 14' 5\" (98 sqft)\n",
      "Kitchen                       3.1m x 2.69m (8.3 sqm) - 10' 2\" x 8' 9\" (89 sqft)\n",
      "Kitchen                       3.18m x 2.29m (7.2 sqm) - 10' 5\" x 7' 6\" (78 sqft)\n",
      "Kitchen                       2.13m x 3.11m (6.6 sqm) - 6' 11\" x 10' 2\" (71 sqft)\n",
      "Kitchen                       3.51m x 1.84m (6.4 sqm) - 11' 6\" x 6' (69 sqft)\n",
      "Kitchen                       2.54m x 1.95m (4.9 sqm) - 8' 4\" x 6' 4\" (53 sqft)\n",
      "Kitchen Diner                 3.03m x 4.83m (14.6 sqm) - 9' 11\" x 15' 10\" (157 sqft)\n",
      "Kitchen                       3.72m x 3.1m (11.5 sqm) - 12' 2\" x 10' 2\" (124 sqft)\n",
      "Kitchen Diner                 1\n",
      "Kitchen                       1\n",
      "Kitchen                       3.08m x 3.25m (10 sqm) - 10' 1\" x 10' 7\" (107 sqft)\n",
      "Kitchen                       3.35m x 1.9m (6.3 sqm) - 10' 11\" x 6' 2\" (68 sqft)\n",
      "Kitchen /  Dining Room        3.77m x 3.22m (12.1 sqm) - 12' 4\" x 10' 6\" (130 sqft)\n",
      "Kitchen                       4.36m x 1.77m (7.7 sqm) - 14' 3\" x 5' 9\" (83 sqft)\n",
      "Kitchen Diner                 3.41m x 2.41m (8.2 sqm) - 11' 2\" x 7' 10\" (88 sqft)\n",
      "Kitchen Diner                 3.63m x 3.49m (12.6 sqm) - 11' 10\" x 11' 5\" (136 sqft)\n",
      "Kitchen /  Dining Room        4.36m x 2.7m (11.7 sqm) - 14' 3\" x 8' 10\" (126 sqft)\n",
      "Kitchen                       2.7m x 2.88m (7.7 sqm) - 8' 10\" x 9' 5\" (83 sqft)\n",
      "Kitchen                       2.7m x 1.8m (4.8 sqm) - 8' 10\" x 5' 10\" (52 sqft)\n",
      "Kitchen                       4.72m x 3.06m (14.4 sqm) - 15' 5\" x 10' (155 sqft)\n",
      "Kitchen                       4.11m x 1.43m (5.8 sqm) - 13' 5\" x 4' 8\" (63 sqft)\n",
      "Kitchen                       4.38m x 1.86m (8.1 sqm) - 14' 4\" x 6' 1\" (87 sqft)\n",
      "Kitchen                       3.81m x 2.39m (9.1 sqm) - 12' 6\" x 7' 10\" (98 sqft)\n",
      "Kitchen / Breakfast Room      3.68m x 1.97m (7.2 sqm) - 12' x 6' 5\" (78 sqft)\n",
      "Open Plan Living Room / Kitchen5.6m x 4.73m (26.4 sqm) - 18' 4\" x 15' 6\" (285 sqft)\n",
      "Kitchen Area                  2.87m x 1.88m (5.3 sqm) - 9' 4\" x 6' 2\" (58 sqft)\n",
      "Kitchen                       3.4m x 2.64m (8.9 sqm) - 11' 1\" x 8' 7\" (96 sqft)\n",
      "Kitchen                       3.98m x 3.43m (13.6 sqm) - 13' x 11' 3\" (146 sqft)\n",
      "Kitchen                       3.72m x 2.34m (8.7 sqm) - 12' 2\" x 7' 8\" (93 sqft)\n",
      "Kitchen                       2.9m x 4.9m (14.2 sqm) - 9' 6\" x 16' (152 sqft)\n",
      "Kitchen                       3.85m x 3.01m (11.5 sqm) - 12' 7\" x 9' 10\" (124 sqft)\n",
      "Kitchen                       3.44m x 2.08m (7.1 sqm) - 11' 3\" x 6' 9\" (77 sqft)\n",
      "Kitchen / Breakfast Room      3.06m x 3.01m (9.2 sqm) - 10' x 9' 10\" (99 sqft)\n",
      "Kitchen                       1\n",
      "Family Kitchen                2.4m x 5.59m (13.4 sqm) - 7' 10\" x 18' 4\" (144 sqft)\n",
      "Kitchen                       1\n",
      "Kitchen                       2.75m x 2m (5.5 sqm) - 9' x 6' 7\" (59 sqft)\n",
      "Kitchen Diner                 4.43m x 2.48m (10.9 sqm) - 14' 6\" x 8' 1\" (118 sqft)\n",
      "Kitchen                       3.15m x 2.82m (8.8 sqm) - 10' 4\" x 9' 3\" (95 sqft)\n",
      "Kitchen / Breakfast Room      8.48m x 3.84m (32.5 sqm) - 27' 9\" x 12' 7\" (350 sqft)\n",
      "Kitchen                       3.65m x 2.45m (8.9 sqm) - 11' 11\" x 8' (96 sqft)\n",
      "Kitchen /  Dining Room        4.13m x 6.21m (25.6 sqm) - 13' 6\" x 20' 4\" (276 sqft)\n",
      "Kitchen                       3.46m x 2.63m (9 sqm) - 11' 4\" x 8' 7\" (97 sqft)\n",
      "Kitchen Diner                 7.42m x 4.08m (30.2 sqm) - 24' 4\" x 13' 4\" (325 sqft)\n",
      "Kitchen                       3.1m x 3.77m (11.6 sqm) - 10' 2\" x 12' 4\" (125 sqft)\n",
      "Kitchen                       2.38m x 2.65m (6.3 sqm) - 7' 9\" x 8' 8\" (67 sqft)\n",
      "Kitchen                       2.57m x 3.37m (8.6 sqm) - 8' 5\" x 11' (93 sqft)\n",
      "Kitchen                       3.6m x 3m (10.8 sqm) - 11' 9\" x 9' 10\" (116 sqft)\n",
      "Kitchen                       3.75m x 2.35m (8.8 sqm) - 12' 3\" x 7' 8\" (94 sqft)\n",
      "Kitchen                       2.97m x 1.83m (5.4 sqm) - 9' 8\" x 6' (58 sqft)\n",
      "Kitchen / Breakfast Room      5.8m x 3.15m (18.2 sqm) - 19' x 10' 4\" (196 sqft)\n",
      "Kitchen                       3.84m x 2.25m (8.6 sqm) - 12' 7\" x 7' 4\" (92 sqft)\n",
      "Kitchen                       2.79m x 1.55m (4.3 sqm) - 9' 1\" x 5' 1\" (46 sqft)\n",
      "Kitchen                       2.95m x 2.85m (8.4 sqm) - 9' 8\" x 9' 4\" (90 sqft)\n",
      "Kitchen                       3.05m x 2.64m (8 sqm) - 10' x 8' 7\" (86 sqft)\n",
      "Kitchen                       3.01m x 2.78m (8.3 sqm) - 9' 10\" x 9' 1\" (90 sqft)\n",
      "Kitchen                       2.78m x 1.73m (4.8 sqm) - 9' 1\" x 5' 8\" (51 sqft)\n",
      "Kitchen                       3.4m x 3.28m (11.1 sqm) - 11' 1\" x 10' 9\" (120 sqft)\n",
      "Kitchen                       1\n",
      "Kitchen / Breakfast Room      4.75m x 2.95m (14 sqm) - 15' 7\" x 9' 8\" (150 sqft)\n",
      "Kitchen                       3.06m x 3m (9.1 sqm) - 10' x 9' 10\" (98 sqft)\n",
      "Kitchen                       1\n",
      "Kitchen                       3.86m x 2.27m (8.7 sqm) - 12' 7\" x 7' 5\" (94 sqft)\n",
      "Kitchen                       2.64m x 2.33m (6.1 sqm) - 8' 7\" x 7' 7\" (66 sqft)\n",
      "Kitchen /  Dining Room        4.41m x 3.42m (15 sqm) - 14' 5\" x 11' 2\" (162 sqft)\n",
      "Kitchen                       3.27m x 1.39m (4.5 sqm) - 10' 8\" x 4' 6\" (48 sqft)\n",
      "Kitchen                       3.27m x 2.45m (8 sqm) - 10' 8\" x 8' (86 sqft)\n",
      "Kitchen                       2.96m x 2.5m (7.4 sqm) - 9' 8\" x 8' 2\" (79 sqft)\n",
      "Kitchen                       2.62m x 2.36m (6.1 sqm) - 8' 7\" x 7' 8\" (66 sqft)\n",
      "Kitchen                       2.06m x 2.06m (4.2 sqm) - 6' 9\" x 6' 9\" (45 sqft)\n",
      "Kitchen Diner                 5.21m x 3.28m (17 sqm) - 17' 1\" x 10' 9\" (183 sqft)\n",
      "Kitchen                       3.94m x 2.79m (10.9 sqm) - 12' 11\" x 9' 1\" (118 sqft)\n",
      "Kitchen                       3.06m x 2.04m (6.2 sqm) - 10' x 6' 8\" (67 sqft)\n",
      "Kitchen /  Dining Room        5.11m x 3.61m (18.4 sqm) - 16' 9\" x 11' 10\" (198 sqft)\n",
      "Kitchen                       2.95m x 2.85m (8.4 sqm) - 9' 8\" x 9' 4\" (90 sqft)\n",
      "Kitchen                       3.05m x 2.43m (7.4 sqm) - 10' x 7' 11\" (79 sqft)\n",
      "Kitchen                       3.4m x 2.08m (7 sqm) - 11' 1\" x 6' 9\" (76 sqft)\n",
      "Kitchen                       4.34m x 3.4m (14.7 sqm) - 14' 2\" x 11' 1\" (158 sqft)\n",
      "Kitchen                       5.01m x 2.04m (10.2 sqm) - 16' 5\" x 6' 8\" (110 sqft)\n",
      "Kitchen                       2.88m x 1.64m (4.7 sqm) - 9' 5\" x 5' 4\" (50 sqft)\n",
      "Kitchen                       2.16m x 2.95m (6.3 sqm) - 7' 1\" x 9' 8\" (68 sqft)\n",
      "Kitchen Diner                 5.76m x 2.56m (14.7 sqm) - 18' 10\" x 8' 4\" (158 sqft)\n",
      "Kitchen                       2.65m x 2.62m (6.9 sqm) - 8' 8\" x 8' 7\" (74 sqft)\n",
      "Kitchen /  Dining Room        7.44m x 4.95m (36.8 sqm) - 24' 4\" x 16' 2\" (396 sqft)\n",
      "Kitchen                       3.28m x 2.49m (8.1 sqm) - 10' 9\" x 8' 2\" (87 sqft)\n",
      "Kitchen /  Dining Room        1\n",
      "Kitchen Area                  1\n",
      "Kitchen                       3.02m x 2.58m (7.7 sqm) - 9' 10\" x 8' 5\" (83 sqft)\n",
      "Kitchen                       2.41m x 2.56m (6.1 sqm) - 7' 10\" x 8' 4\" (66 sqft)\n",
      "Kitchen /  Dining Room        5.71m x 3.57m (20.3 sqm) - 18' 8\" x 11' 8\" (219 sqft)\n",
      "Kitchen                       3.47m x 1.75m (6 sqm) - 11' 4\" x 5' 8\" (65 sqft)\n",
      "Kitchen                       2.67m x 2.49m (6.6 sqm) - 8' 9\" x 8' 2\" (71 sqft)\n",
      "Kitchen                       2.74m x 1.96m (5.3 sqm) - 8' 11\" x 6' 5\" (57 sqft)\n",
      "Kitchen Diner                 5.87m x 4.09m (24 sqm) - 19' 3\" x 13' 5\" (258 sqft)\n",
      "Kitchen Diner                 5.39m x 3.06m (16.4 sqm) - 17' 8\" x 10' (177 sqft)\n",
      "Kitchen                       3.61m x 2.64m (9.5 sqm) - 11' 10\" x 8' 7\" (102 sqft)\n",
      "Kitchen Diner                 5.76m x 2.56m (14.7 sqm) - 18' 10\" x 8' 4\" (158 sqft)\n",
      "Kitchen / Breakfast Room      5.09m x 3.65m (18.5 sqm) - 16' 8\" x 11' 11\" (199 sqft)\n",
      "Kitchen /  Dining Room        5.11m x 3.78m (19.3 sqm) - 16' 9\" x 12' 4\" (207 sqft)\n",
      "Open Plan Living Kitchen      4.83m x 4.07m (19.6 sqm) - 15' 10\" x 13' 4\" (211 sqft)\n",
      "Kitchen / Breakfast Room      4.34m x 3.96m (17.1 sqm) - 14' 2\" x 12' 11\" (184 sqft)\n",
      "Kitchen                       3.86m x 2.47m (9.5 sqm) - 12' 7\" x 8' 1\" (102 sqft)\n",
      "Kitchen                       2.66m x 2.65m (7 sqm) - 8' 8\" x 8' 8\" (75 sqft)\n",
      "Kitchen                       2.54m x 3.96m (10 sqm) - 8' 4\" x 12' 11\" (108 sqft)\n",
      "Kitchen                       5m x 5m (25 sqm) - 16' 4\" x 16' 4\" (269 sqft)\n",
      "Kitchen                       5.5m x 3.65m (20 sqm) - 18' x 11' 11\" (216 sqft)\n",
      "Kitchen / Breakfast Room      5.46m x 2.36m (12.8 sqm) - 17' 10\" x 7' 8\" (138 sqft)\n",
      "Kitchen                       3.76m x 2.24m (8.4 sqm) - 12' 4\" x 7' 4\" (90 sqft)\n",
      "Kitchen/Dining/Living Room    4.47m x 4.09m (18.2 sqm) - 14' 7\" x 13' 5\" (196 sqft)\n",
      "Kitchen                       3.99m x 1.68m (6.7 sqm) - 13' 1\" x 5' 6\" (72 sqft)\n",
      "Kitchen                       3.81m x 3.41m (12.9 sqm) - 12' 6\" x 11' 2\" (139 sqft)\n",
      "Kitchen /  Dining Room        4.42m x 2.52m (11.1 sqm) - 14' 6\" x 8' 3\" (119 sqft)\n",
      "Kitchen                       3.64m x 2.41m (8.7 sqm) - 11' 11\" x 7' 10\" (94 sqft)\n",
      "Kitchen                       2.38m x 3.63m (8.6 sqm) - 7' 9\" x 11' 10\" (92 sqft)\n",
      "Kitchen                       3.6m x 3.3m (11.8 sqm) - 11' 9\" x 10' 9\" (127 sqft)\n",
      "Kitchen                       3.05m x 4.47m (13.6 sqm) - 10' x 14' 7\" (146 sqft)\n",
      "Kitchen                       2.23m x 3.4m (7.5 sqm) - 7' 3\" x 11' 1\" (81 sqft)\n",
      "Kitchen                       2.89m x 2.1m (6 sqm) - 9' 5\" x 6' 10\" (65 sqft)\n",
      "Kitchen                       2.23m x 3.21m (7.1 sqm) - 7' 3\" x 10' 6\" (77 sqft)\n",
      "Kitchen Diner                 5.6m x 4.59m (25.7 sqm) - 18' 4\" x 15' 1\" (277 sqft)\n",
      "Kitchen                       4.74m x 2.41m (11.4 sqm) - 15' 6\" x 7' 10\" (122 sqft)\n",
      "Kitchen                       1\n",
      "Open Plan Living Room / Kitchen8.39m x 3.64m (30.5 sqm) - 27' 6\" x 11' 11\" (328 sqft)\n",
      "Kitchen                       3.63m x 1.86m (6.7 sqm) - 11' 10\" x 6' 1\" (72 sqft)\n",
      "Kitchen / Breakfast Room      5m x 2.98m (14.9 sqm) - 16' 4\" x 9' 9\" (160 sqft)\n",
      "Kitchen                       3.11m x 2.72m (8.4 sqm) - 10' 2\" x 8' 11\" (91 sqft)\n",
      "Kitchen Area                  1\n",
      "Open Plan Living Room / Kitchen3.1m x 7.4m (22.9 sqm) - 10' 2\" x 24' 3\" (246 sqft)\n",
      "Kitchen                       2.89m x 2.1m (6 sqm) - 9' 5\" x 6' 10\" (65 sqft)\n",
      "Kitchen                       2.89m x 2.1m (6 sqm) - 9' 5\" x 6' 10\" (65 sqft)\n",
      "Kitchen                       3.45m x 3.48m (12 sqm) - 11' 3\" x 11' 5\" (129 sqft)\n",
      "Kitchen Diner                 3.29m x 4.28m (14 sqm) - 10' 9\" x 14' (151 sqft)\n",
      "Kitchen Diner                 6.88m x 3.45m (23.7 sqm) - 22' 6\" x 11' 3\" (255 sqft)\n",
      "Kitchen / Breakfast Room      6.03m x 3.05m (18.3 sqm) - 19' 9\" x 10' (197 sqft)\n",
      "Kitchen                       3.47m x 1.93m (6.6 sqm) - 11' 4\" x 6' 3\" (72 sqft)\n",
      "Kitchen Diner                 6.88m x 3.45m (23.7 sqm) - 22' 6\" x 11' 3\" (255 sqft)\n",
      "Kitchen                       1\n",
      "Kitchen Area                  3m x 5.14m (15.4 sqm) - 9' 10\" x 16' 10\" (165 sqft)\n",
      "Kitchen / Breakfast Room      2.5m x 4.16m (10.4 sqm) - 8' 2\" x 13' 7\" (112 sqft)\n",
      "Kitchen                       2.5m x 2.4m (6 sqm) - 8' 2\" x 7' 10\" (64 sqft)\n",
      "Kitchen/Dining/Living Room    1\n",
      "Open Plan Living Room / Kitchen4.3m x 5.36m (23 sqm) - 14' 1\" x 17' 7\" (248 sqft)\n",
      "Kitchen                       4.7m x 3.59m (16.8 sqm) - 15' 5\" x 11' 9\" (181 sqft)\n",
      "Kitchen                       2.9m x 3.19m (9.2 sqm) - 9' 6\" x 10' 5\" (99 sqft)\n",
      "Kitchen                       4.22m x 2.25m (9.4 sqm) - 13' 10\" x 7' 4\" (102 sqft)\n",
      "Kitchen / Breakfast Room      6.32m x 2.5m (15.8 sqm) - 20' 8\" x 8' 2\" (170 sqft)\n",
      "Kitchen                       3.63m x 3.21m (11.6 sqm) - 11' 10\" x 10' 6\" (125 sqft)\n",
      "Kitchen                       5.98m x 2.96m (17.7 sqm) - 19' 7\" x 9' 8\" (190 sqft)\n",
      "Kitchen                       3.51m x 3.47m (12.1 sqm) - 11' 6\" x 11' 4\" (131 sqft)\n",
      "Kitchen                       3.75m x 2.68m (10 sqm) - 12' 3\" x 8' 9\" (108 sqft)\n",
      "Kitchen                       4.13m x 2.4m (9.9 sqm) - 13' 6\" x 7' 10\" (106 sqft)\n",
      "Kitchen                       2.86m x 2.67m (7.6 sqm) - 9' 4\" x 8' 9\" (82 sqft)\n",
      "Kitchen                       3.63m x 3.21m (11.6 sqm) - 11' 10\" x 10' 6\" (125 sqft)\n",
      "Kitchen /  Dining Room        4.3m x 6.2m (26.6 sqm) - 14' 1\" x 20' 4\" (286 sqft)\n",
      "Kitchen /  Dining Room        8.4m x 4.3m (36.1 sqm) - 27' 6\" x 14' 1\" (388 sqft)\n",
      "Kitchen /  Dining Room        4.3m x 6.2m (26.6 sqm) - 14' 1\" x 20' 4\" (286 sqft)\n",
      "Kitchen                       4.7m x 3.6m (16.9 sqm) - 15' 5\" x 11' 9\" (182 sqft)\n",
      "Kitchen                       4.34m x 2.75m (11.9 sqm) - 14' 3\" x 9' (128 sqft)\n",
      "Kitchen                       1.85m x 3m (5.5 sqm) - 6' x 9' 10\" (59 sqft)\n",
      "Kitchen                       4.59m x 2.6m (11.9 sqm) - 15' 1\" x 8' 6\" (128 sqft)\n",
      "Kitchen Diner                 3.43m x 3.33m (11.4 sqm) - 11' 3\" x 10' 11\" (122 sqft)\n",
      "Kitchen                       3.5m x 2.25m (7.8 sqm) - 11' 5\" x 7' 4\" (84 sqft)\n",
      "Kitchen                       2.77m x 2.02m (5.6 sqm) - 9' 1\" x 6' 7\" (60 sqft)\n",
      "Kitchen Area                  3.1m x 1.8m (5.5 sqm) - 10' 2\" x 5' 10\" (60 sqft)\n",
      "Kitchen                       5.23m x 2.82m (14.7 sqm) - 17' 1\" x 9' 3\" (158 sqft)\n",
      "Kitchen                       2.92m x 2.25m (6.5 sqm) - 9' 6\" x 7' 4\" (71 sqft)\n",
      "Kitchen                       3.9m x 2.6m (10.1 sqm) - 12' 9\" x 8' 6\" (109 sqft)\n",
      "Kitchen                       4.55m x 2.97m (13.5 sqm) - 14' 11\" x 9' 8\" (145 sqft)\n",
      "Kitchen                       2.39m x 2.36m (5.6 sqm) - 7' 10\" x 7' 8\" (60 sqft)\n",
      "Kitchen                       1\n",
      "Kitchen                       5.23m x 2.82m (14.7 sqm) - 17' 1\" x 9' 3\" (158 sqft)\n",
      "Kitchen                       5.23m x 2.82m (14.7 sqm) - 17' 1\" x 9' 3\" (158 sqft)\n",
      "Kitchen/Dining/Living Room    7.4m x 4m (29.6 sqm) - 24' 3\" x 13' 1\" (318 sqft)\n",
      "Kitchen /  Dining Room        1\n",
      "Kitchen                       1.98m x 1.77m (3.5 sqm) - 6' 5\" x 5' 9\" (37 sqft)\n",
      "Kitchen                       4.28m x 2.5m (10.7 sqm) - 14' x 8' 2\" (115 sqft)\n",
      "Kitchen                       4.3m x 2.82m (12.1 sqm) - 14' 1\" x 9' 3\" (130 sqft)\n",
      "Kitchen /  Dining Room        4.55m x 4.55m (20.7 sqm) - 14' 11\" x 14' 11\" (223 sqft)\n",
      "Kitchen Diner                 4.05m x 3.04m (12.3 sqm) - 13' 3\" x 9' 11\" (132 sqft)\n",
      "Breakfast Kitchen             5.51m x 2.74m (15 sqm) - 18' x 8' 11\" (162 sqft)\n",
      "Kitchen                       3.55m x 3.79m (13.4 sqm) - 11' 7\" x 12' 5\" (144 sqft)\n",
      "Kitchen                       2.4m x 3.62m (8.6 sqm) - 7' 10\" x 11' 10\" (93 sqft)\n",
      "Kitchen                       2.96m x 2.61m (7.7 sqm) - 9' 8\" x 8' 6\" (83 sqft)\n",
      "Kitchen Diner                 3.94m x 4.54m (17.8 sqm) - 12' 11\" x 14' 10\" (192 sqft)\n",
      "Kitchen                       2.56m x 3.33m (8.5 sqm) - 8' 4\" x 10' 11\" (91 sqft)\n",
      "Breakfast Kitchen             6.76m x 2.64m (17.8 sqm) - 22' 2\" x 8' 7\" (192 sqft)\n",
      "Kitchen                       1\n",
      "Kitchen                       3m x 2.39m (7.1 sqm) - 9' 10\" x 7' 10\" (77 sqft)\n",
      "Kitchen Diner                 1\n",
      "Kitchen / Breakfast Room      1\n",
      "Kitchen/Dining/Living Room    1\n",
      "Kitchen                       1\n",
      "Kitchen                       3.24m x 2.86m (9.2 sqm) - 10' 7\" x 9' 4\" (99 sqft)\n",
      "Kitchen Area                  4.68m x 2.65m (12.4 sqm) - 15' 4\" x 8' 8\" (133 sqft)\n",
      "Breakfast Kitchen             3.63m x 3.63m (13.1 sqm) - 11' 10\" x 11' 10\" (141 sqft)\n",
      "Kitchen Diner                 5.54m x 3.66m (20.2 sqm) - 18' 2\" x 12' (218 sqft)\n",
      "Kitchen Area                  1\n",
      "Kitchen Diner                 10.27m x 3.02m (31 sqm) - 33' 8\" x 9' 10\" (333 sqft)\n",
      "Kitchen Area                  5.55m x 3.02m (16.7 sqm) - 18' 2\" x 9' 10\" (180 sqft)\n",
      "Kitchen                       2.92m x 2.39m (6.9 sqm) - 9' 6\" x 7' 10\" (75 sqft)\n",
      "Open Plan Living Room / Kitchen7.47m x 3.71m (27.7 sqm) - 24' 6\" x 12' 2\" (298 sqft)\n",
      "Kitchen /  Dining Room        4.57m x 3.22m (14.7 sqm) - 14' 11\" x 10' 6\" (158 sqft)\n",
      "Kitchen                       3.04m x 3.56m (10.8 sqm) - 9' 11\" x 11' 8\" (116 sqft)\n",
      "Kitchen / Breakfast Room      3.91m x 3.31m (12.9 sqm) - 12' 9\" x 10' 10\" (139 sqft)\n",
      "Kitchen                       2.49m x 2.31m (5.7 sqm) - 8' 2\" x 7' 6\" (61 sqft)\n",
      "Kitchen / Breakfast Room      5.95m x 2.38m (14.1 sqm) - 19' 6\" x 7' 9\" (152 sqft)\n",
      "Kitchen                       2.25m x 1.88m (4.2 sqm) - 7' 4\" x 6' 2\" (45 sqft)\n",
      "Kitchen                       2.88m x 1.96m (5.6 sqm) - 9' 5\" x 6' 5\" (60 sqft)\n",
      "Kitchen                       3.53m x 2.7m (9.5 sqm) - 11' 6\" x 8' 10\" (102 sqft)\n",
      "Kitchen                       1\n",
      "Kitchen / Breakfast Room      1\n",
      "Kitchen                       3.66m x 2.04m (7.5 sqm) - 12' x 6' 8\" (80 sqft)\n",
      "Kitchen / Breakfast Room      3.34m x 3.09m (10.3 sqm) - 10' 11\" x 10' 1\" (111 sqft)\n",
      "Kitchen / Breakfast Room      4.63m x 3.15m (14.5 sqm) - 15' 2\" x 10' 4\" (156 sqft)\n",
      "Kitchen                       2.88m x 2.11m (6 sqm) - 9' 5\" x 6' 11\" (65 sqft)\n",
      "Kitchen                       3.69m x 2.87m (10.5 sqm) - 12' 1\" x 9' 4\" (113 sqft)\n",
      "Kitchen/Dining/Living Room    3.48m x 4.26m (14.8 sqm) - 11' 5\" x 13' 11\" (159 sqft)\n",
      "Kitchen / Breakfast Room      5.87m x 1.91m (11.2 sqm) - 19' 3\" x 6' 3\" (120 sqft)\n",
      "Kitchen /  Dining Room        4.32m x 3.34m (14.4 sqm) - 14' 2\" x 10' 11\" (155 sqft)\n",
      "Kitchen                       2.97m x 2.84m (8.4 sqm) - 9' 8\" x 9' 3\" (90 sqft)\n",
      "Kitchen / Breakfast Room      5.21m x 3.33m (17.3 sqm) - 17' 1\" x 10' 11\" (186 sqft)\n",
      "Kitchen /  Dining Room        3.6m x 3.2m (11.5 sqm) - 11' 9\" x 10' 5\" (123 sqft)\n",
      "Kitchen                       3.46m x 1.5m (5.1 sqm) - 11' 4\" x 4' 11\" (55 sqft)\n",
      "Kitchen                       2.54m x 1.11m (2.8 sqm) - 8' 4\" x 3' 7\" (30 sqft)\n",
      "Kitchen                       1\n",
      "Kitchen                       1\n",
      "Kitchen /  Dining Room        4.82m x 2.12m (10.2 sqm) - 15' 9\" x 6' 11\" (109 sqft)\n",
      "Kitchen                       2.86m x 2.76m (7.8 sqm) - 9' 4\" x 9' (84 sqft)\n",
      "Kitchen                       3.6m x 2.66m (9.5 sqm) - 11' 9\" x 8' 8\" (103 sqft)\n",
      "Kitchen /  Dining Room        4.33m x 4.17m (18 sqm) - 14' 2\" x 13' 8\" (194 sqft)\n",
      "Kitchen                       3.7m x 2.4m (8.8 sqm) - 12' 1\" x 7' 10\" (95 sqft)\n",
      "Kitchen                       3.78m x 2.29m (8.6 sqm) - 12' 4\" x 7' 6\" (93 sqft)\n",
      "Kitchen                       3.78m x 2.29m (8.6 sqm) - 12' 4\" x 7' 6\" (93 sqft)\n",
      "Kitchen                       2.76m x 2.22m (6.1 sqm) - 9' x 7' 3\" (65 sqft)\n",
      "Open Plan Dining/Kitchen/Family Room6.09m x 3.6m (21.9 sqm) - 19' 11\" x 11' 9\" (235 sqft)\n",
      "Kitchen Diner                 4.98m x 3.02m (15 sqm) - 16' 4\" x 9' 10\" (161 sqft)\n",
      "Kitchen                       3.23m x 1.84m (5.9 sqm) - 10' 7\" x 6' (63 sqft)\n",
      "Kitchen                       1.78m x 5.33m (9.4 sqm) - 5' 10\" x 17' 5\" (102 sqft)\n",
      "Kitchen Diner                 3.32m x 5.7m (18.9 sqm) - 10' 10\" x 18' 8\" (203 sqft)\n",
      "Kitchen                       3.14m x 2.6m (8.1 sqm) - 10' 3\" x 8' 6\" (87 sqft)\n",
      "Kitchen                       3.13m x 1.81m (5.6 sqm) - 10' 3\" x 5' 11\" (60 sqft)\n",
      "Kitchen                       2.95m x 1.79m (5.2 sqm) - 9' 8\" x 5' 10\" (56 sqft)\n",
      "Kitchen                       2.17m x 3.8m (8.2 sqm) - 7' 1\" x 12' 5\" (88 sqft)\n",
      "Kitchen                       3.6m x 2.69m (9.6 sqm) - 11' 9\" x 8' 9\" (104 sqft)\n",
      "Kitchen Diner                 4.68m x 2.69m (12.5 sqm) - 15' 4\" x 8' 9\" (135 sqft)\n",
      "Kitchen Diner                 3.38m x 6.19m (20.9 sqm) - 11' 1\" x 20' 3\" (225 sqft)\n",
      "Kitchen                       2.82m x 2.4m (6.7 sqm) - 9' 3\" x 7' 10\" (72 sqft)\n",
      "Kitchen                       4.5m x 2.5m (11.2 sqm) - 14' 9\" x 8' 2\" (121 sqft)\n",
      "Kitchen                       4.03m x 3.21m (12.9 sqm) - 13' 2\" x 10' 6\" (139 sqft)\n",
      "Kitchen                       3.2m x 2.54m (8.1 sqm) - 10' 5\" x 8' 4\" (87 sqft)\n",
      "Kitchen                       2.93m x 1.54m (4.5 sqm) - 9' 7\" x 5' (48 sqft)\n",
      "Kitchen                       3.63m x 2.95m (10.7 sqm) - 11' 10\" x 9' 8\" (115 sqft)\n",
      "Kitchen /  Dining Room        5.9m x 3.17m (18.7 sqm) - 19' 4\" x 10' 4\" (201 sqft)\n",
      "Kitchen / Breakfast Room      4.45m x 2.57m (11.4 sqm) - 14' 7\" x 8' 5\" (123 sqft)\n",
      "Kitchen /  Dining Room        4.62m x 3.6m (16.6 sqm) - 15' 1\" x 11' 9\" (179 sqft)\n",
      "Kitchen / Breakfast Room      4.58m x 3.76m (17.2 sqm) - 15' x 12' 4\" (185 sqft)\n",
      "Kitchen                       5.13m x 4.59m (23.5 sqm) - 16' 9\" x 15' (253 sqft)\n",
      "Kitchen                       3.4m x 2.82m (9.5 sqm) - 11' 1\" x 9' 3\" (103 sqft)\n",
      "Kitchen                       3.96m x 2.19m (8.6 sqm) - 12' 11\" x 7' 2\" (93 sqft)\n",
      "Kitchen / Breakfast Room      4.01m x 3.2m (12.8 sqm) - 13' 1\" x 10' 5\" (138 sqft)\n",
      "Kitchen                       3.86m x 3.56m (13.7 sqm) - 12' 7\" x 11' 8\" (147 sqft)\n",
      "Kitchen                       2.77m x 2.77m (7.6 sqm) - 9' 1\" x 9' 1\" (82 sqft)\n",
      "Kitchen /  Dining Room        5.42m x 3.48m (18.8 sqm) - 17' 9\" x 11' 5\" (203 sqft)\n",
      "Kitchen                       2.7m x 2.47m (6.6 sqm) - 8' 10\" x 8' 1\" (71 sqft)\n",
      "Kitchen                       4.24m x 2.99m (12.6 sqm) - 13' 10\" x 9' 9\" (136 sqft)\n",
      "Kitchen                       2.1m x 3.4m (7.1 sqm) - 6' 10\" x 11' 1\" (76 sqft)\n",
      "Kitchen /  Dining Room        4.8m x 3.1m (14.8 sqm) - 15' 8\" x 10' 2\" (160 sqft)\n",
      "Kitchen                       3.05m x 1.83m (5.5 sqm) - 10' x 6' (60 sqft)\n",
      "Kitchen                       5.16m x 2.4m (12.3 sqm) - 16' 11\" x 7' 10\" (133 sqft)\n",
      "Kitchen /  Dining Room        6.61m x 2.85m (18.8 sqm) - 21' 8\" x 9' 4\" (202 sqft)\n",
      "Kitchen / Breakfast Room      7.44m x 2.79m (20.7 sqm) - 24' 4\" x 9' 1\" (223 sqft)\n",
      "Kitchen                       2.87m x 2.76m (7.9 sqm) - 9' 4\" x 9' (85 sqft)\n",
      "Kitchen / Breakfast Room      4.4m x 2.67m (11.7 sqm) - 14' 5\" x 8' 9\" (126 sqft)\n",
      "Kitchen                       3.92m x 2.97m (11.6 sqm) - 12' 10\" x 9' 8\" (125 sqft)\n",
      "Kitchen                       3.9m x 2.71m (10.5 sqm) - 12' 9\" x 8' 10\" (113 sqft)\n",
      "Kitchen                       3.49m x 3.11m (10.8 sqm) - 11' 5\" x 10' 2\" (116 sqft)\n",
      "Kitchen /  Dining Room        4.03m x 3.87m (15.5 sqm) - 13' 2\" x 12' 8\" (167 sqft)\n",
      "Kitchen /  Dining Room        5.28m x 4.13m (21.8 sqm) - 17' 3\" x 13' 6\" (235 sqft)\n",
      "Kitchen                       2.64m x 3.11m (8.2 sqm) - 8' 7\" x 10' 2\" (88 sqft)\n",
      "Kitchen                       4.49m x 2.31m (10.3 sqm) - 14' 8\" x 7' 6\" (111 sqft)\n",
      "Kitchen                       3.13m x 2.78m (8.7 sqm) - 10' 3\" x 9' 1\" (93 sqft)\n",
      "Kitchen / Breakfast Room      3.75m x 2.41m (9 sqm) - 12' 3\" x 7' 10\" (97 sqft)\n",
      "Kitchen / Breakfast Room      5.42m x 2.76m (14.9 sqm) - 17' 9\" x 9' (161 sqft)\n",
      "Kitchen                       2.87m x 1.85m (5.3 sqm) - 9' 4\" x 6' (57 sqft)\n",
      "Kitchen                       2.56m x 2.33m (5.9 sqm) - 8' 4\" x 7' 7\" (64 sqft)\n",
      "Kitchen                       3.64m x 2.31m (8.4 sqm) - 11' 11\" x 7' 7\" (90 sqft)\n",
      "Kitchen /  Dining Room        5.8m x 3.61m (20.9 sqm) - 19' x 11' 10\" (225 sqft)\n",
      "Kitchen                       2.74m x 2.43m (6.6 sqm) - 8' 11\" x 7' 11\" (71 sqft)\n",
      "Kitchen /  Dining Room        6.58m x 4.04m (26.5 sqm) - 21' 7\" x 13' 3\" (286 sqft)\n",
      "Kitchen                       3.35m x 2.34m (7.8 sqm) - 10' 11\" x 7' 8\" (84 sqft)\n",
      "Kitchen                       3.2m x 2.27m (7.2 sqm) - 10' 5\" x 7' 5\" (78 sqft)\n",
      "Kitchen                       3.42m x 2.92m (9.9 sqm) - 11' 2\" x 9' 6\" (107 sqft)\n",
      "Kitchen                       4.22m x 3.01m (12.7 sqm) - 13' 10\" x 9' 10\" (136 sqft)\n",
      "Kitchen                       5.66m x 2.91m (16.4 sqm) - 18' 6\" x 9' 6\" (177 sqft)\n",
      "Kitchen /  Dining Room        4.09m x 2.89m (11.8 sqm) - 13' 5\" x 9' 5\" (127 sqft)\n",
      "Kitchen / Breakfast Room      4.57m x 2.36m (10.7 sqm) - 14' 11\" x 7' 8\" (116 sqft)\n",
      "Kitchen                       3.1m x 3m (9.3 sqm) - 10' 2\" x 9' 10\" (100 sqft)\n",
      "Kitchen                       3.8m x 1.8m (6.8 sqm) - 12' 5\" x 5' 10\" (73 sqft)\n",
      "Kitchen                       3.1m x 3m (9.3 sqm) - 10' 2\" x 9' 10\" (100 sqft)\n",
      "Kitchen /  Dining Room        5.84m x 4.82m (28.1 sqm) - 19' 1\" x 15' 9\" (302 sqft)\n",
      "Kitchen                       3.55m x 2.6m (9.2 sqm) - 11' 7\" x 8' 6\" (99 sqft)\n",
      "Kitchen                       2.4m x 3.1m (7.4 sqm) - 7' 10\" x 10' 2\" (80 sqft)\n",
      "Kitchen                       2.66m x 3.38m (8.9 sqm) - 8' 8\" x 11' 1\" (96 sqft)\n",
      "Kitchen                       3.91m x 1.59m (6.2 sqm) - 12' 9\" x 5' 2\" (66 sqft)\n",
      "Kitchen Diner                 1\n",
      "Kitchen Diner                 1\n",
      "Kitchen                       2.47m x 2.29m (5.6 sqm) - 8' 1\" x 7' 6\" (60 sqft)\n",
      "Kitchen                       4.65m x 2.75m (12.7 sqm) - 15' 3\" x 9' (137 sqft)\n",
      "Kitchen                       2.8m x 6.3m (17.6 sqm) - 9' 2\" x 20' 8\" (189 sqft)\n",
      "Kitchen                       4.2m x 2.4m (10 sqm) - 13' 9\" x 7' 10\" (108 sqft)\n",
      "Kitchen                       4.55m x 3.75m (17 sqm) - 14' 11\" x 12' 3\" (183 sqft)\n",
      "Kitchen Diner                 1\n",
      "Kitchen Diner                 1\n",
      "Kitchen Diner                 1\n",
      "Kitchen                       2.4m x 2.29m (5.5 sqm) - 7' 10\" x 7' 6\" (59 sqft)\n",
      "Kitchen                       3.5m x 2.8m (9.8 sqm) - 11' 5\" x 9' 2\" (105 sqft)\n",
      "Kitchen                       2.67m x 1.84m (4.9 sqm) - 8' 9\" x 6' (52 sqft)\n",
      "Kitchen                       2.69m x 2.71m (7.2 sqm) - 8' 9\" x 8' 10\" (78 sqft)\n",
      "Kitchen                       3.06m x 1.91m (5.8 sqm) - 10' x 6' 3\" (62 sqft)\n",
      "Kitchen Diner                 4.91m x 3.11m (15.2 sqm) - 16' 1\" x 10' 2\" (164 sqft)\n",
      "Kitchen                       1.93m x 2.71m (5.2 sqm) - 6' 3\" x 8' 10\" (56 sqft)\n",
      "Kitchen                       4.3m x 1.9m (8.1 sqm) - 14' 1\" x 6' 2\" (87 sqft)\n",
      "Kitchen                       2.48m x 3.95m (9.7 sqm) - 8' 1\" x 12' 11\" (105 sqft)\n",
      "Kitchen Diner                 6.4m x 5.09m (32.6 sqm) - 20' 11\" x 16' 8\" (351 sqft)\n",
      "Kitchen Diner                 1\n",
      "Kitchen                       4.7m x 4.59m (21.6 sqm) - 15' 5\" x 15' 1\" (232 sqft)\n",
      "Kitchen                       5.4m x 1.8m (9.7 sqm) - 17' 8\" x 5' 10\" (104 sqft)\n",
      "Kitchen                       2.7m x 1.8m (4.8 sqm) - 8' 10\" x 5' 10\" (52 sqft)\n",
      "Kitchen                       3.27m x 3.27m (10.6 sqm) - 10' 8\" x 10' 8\" (115 sqft)\n",
      "Open Plan Living Kitchen      6.3m x 4.78m (30.1 sqm) - 20' 8\" x 15' 8\" (324 sqft)\n",
      "Kitchen                       3.12m x 2.76m (8.6 sqm) - 10' 2\" x 9' (92 sqft)\n",
      "Kitchen / Breakfast Room      4m x 3.1m (12.4 sqm) - 13' 1\" x 10' 2\" (133 sqft)\n",
      "Kitchen /  Dining Room        4.7m x 2.9m (13.6 sqm) - 15' 5\" x 9' 6\" (146 sqft)\n",
      "Kitchen                       2.71m x 4.19m (11.3 sqm) - 8' 10\" x 13' 8\" (122 sqft)\n",
      "Kitchen Area                  3.8m x 2.6m (9.8 sqm) - 12' 5\" x 8' 6\" (106 sqft)\n",
      "Kitchen                       3.64m x 1.88m (6.8 sqm) - 11' 11\" x 6' 2\" (73 sqft)\n",
      "Kitchen/Dining/Living Room    5.09m x 3m (15.3 sqm) - 16' 8\" x 9' 10\" (164 sqft)\n",
      "Kitchen                       2.16m x 1.68m (3.6 sqm) - 7' 1\" x 5' 6\" (39 sqft)\n",
      "Kitchen                       2.4m x 3.9m (9.3 sqm) - 7' 10\" x 12' 9\" (100 sqft)\n",
      "Kitchen /  Dining Room        5.9m x 3.65m (21.5 sqm) - 19' 4\" x 11' 11\" (231 sqft)\n",
      "Kitchen /  Dining Room        5.5m x 3.7m (20.3 sqm) - 18' x 12' 1\" (219 sqft)\n",
      "Kitchen /  Dining Room        7.7m x 3.3m (25.4 sqm) - 25' 3\" x 10' 9\" (273 sqft)\n",
      "Kitchen                       2.7m x 3.7m (9.9 sqm) - 8' 10\" x 12' 1\" (107 sqft)\n",
      "Kitchen /  Dining Room        6.1m x 2.9m (17.6 sqm) - 20' x 9' 6\" (190 sqft)\n",
      "Kitchen /  Dining Room        6.01m x 3.91m (23.4 sqm) - 19' 8\" x 12' 9\" (252 sqft)\n",
      "Kitchen /  Dining Room        5.24m x 2.74m (14.3 sqm) - 17' 2\" x 8' 11\" (154 sqft)\n",
      "Kitchen /  Dining Room        4.7m x 3.5m (16.4 sqm) - 15' 5\" x 11' 5\" (177 sqft)\n",
      "Open Plan Living Room / Kitchen4.9m x 3.8m (18.6 sqm) - 16' x 12' 5\" (200 sqft)\n",
      "Kitchen /  Dining Room        6.9m x 4.3m (29.6 sqm) - 22' 7\" x 14' 1\" (319 sqft)\n",
      "Kitchen                       3.9m x 3.5m (13.6 sqm) - 12' 9\" x 11' 5\" (146 sqft)\n",
      "Kitchen /  Dining Room        5.47m x 2.86m (15.6 sqm) - 17' 11\" x 9' 4\" (168 sqft)\n",
      "Kitchen                       3.05m x 2.74m (8.3 sqm) - 10' x 8' 11\" (89 sqft)\n",
      "Kitchen                       3.35m x 3.29m (11 sqm) - 10' 11\" x 10' 9\" (118 sqft)\n",
      "Kitchen                       3.76m x 3.23m (12.1 sqm) - 12' 4\" x 10' 7\" (130 sqft)\n",
      "Kitchen                       3.37m x 2.93m (9.8 sqm) - 11' x 9' 7\" (106 sqft)\n",
      "Kitchen                       2.69m x 2.65m (7.1 sqm) - 8' 9\" x 8' 8\" (76 sqft)\n",
      "Kitchen / Breakfast Room      7.61m x 3.54m (26.9 sqm) - 24' 11\" x 11' 7\" (289 sqft)\n",
      "Kitchen                       3.24m x 2.04m (6.6 sqm) - 10' 7\" x 6' 8\" (71 sqft)\n",
      "Kitchen                       3.75m x 2.46m (9.2 sqm) - 12' 3\" x 8' (99 sqft)\n",
      "Kitchen                       2.5m x 2m (5 sqm) - 8' 2\" x 6' 6\" (53 sqft)\n",
      "Kitchen                       4m x 2.85m (11.4 sqm) - 13' 1\" x 9' 4\" (122 sqft)\n",
      "Kitchen Area                  3.29m x 3.6m (11.8 sqm) - 10' 9\" x 11' 9\" (127 sqft)\n",
      "Kitchen /  Dining Room        3.16m x 4.55m (14.4 sqm) - 10' 4\" x 14' 11\" (155 sqft)\n",
      "Kitchen / Breakfast Room      2.94m x 4.69m (13.7 sqm) - 9' 7\" x 15' 4\" (148 sqft)\n",
      "Kitchen / Breakfast Room      7.78m x 3.27m (25.4 sqm) - 25' 6\" x 10' 8\" (273 sqft)\n",
      "Kitchen / Breakfast Room      7.78m x 3.27m (25.4 sqm) - 25' 6\" x 10' 8\" (273 sqft)\n",
      "Family Living Kitchen         7.78m x 3.27m (25.4 sqm) - 25' 6\" x 10' 8\" (273 sqft)\n",
      "Kitchen /  Dining Room        7m x 4.38m (30.7 sqm) - 22' 11\" x 14' 4\" (330 sqft)\n",
      "Kitchen                       2.76m x 3.84m (10.5 sqm) - 9' x 12' 7\" (114 sqft)\n",
      "Kitchen                       3.25m x 2.89m (9.3 sqm) - 10' 7\" x 9' 5\" (101 sqft)\n",
      "Kitchen                       1.77m x 4.13m (7.3 sqm) - 5' 9\" x 13' 6\" (78 sqft)\n",
      "Kitchen                       1.77m x 4.13m (7.3 sqm) - 5' 9\" x 13' 6\" (78 sqft)\n",
      "Kitchen                       1.77m x 4.13m (7.3 sqm) - 5' 9\" x 13' 6\" (78 sqft)\n",
      "Kitchen                       2.43m x 3.15m (7.6 sqm) - 7' 11\" x 10' 4\" (82 sqft)\n",
      "Kitchen / Breakfast Room      3.58m x 3.62m (12.9 sqm) - 11' 8\" x 11' 10\" (139 sqft)\n",
      "Kitchen                       3.01m x 2.47m (7.4 sqm) - 9' 10\" x 8' 1\" (80 sqft)\n",
      "Kitchen / Breakfast Room      4.75m x 3.43m (16.2 sqm) - 15' 7\" x 11' 3\" (175 sqft)\n",
      "Kitchen Diner                 4.2m x 4.01m (16.8 sqm) - 13' 9\" x 13' 1\" (181 sqft)\n",
      "Kitchen / Breakfast Room      2.34m x 4.43m (10.3 sqm) - 7' 8\" x 14' 6\" (111 sqft)\n",
      "Kitchen                       2.24m x 1.55m (3.4 sqm) - 7' 4\" x 5' 1\" (37 sqft)\n",
      "Kitchen                       2.37m x 2.23m (5.2 sqm) - 7' 9\" x 7' 3\" (56 sqft)\n",
      "Kitchen                       3.07m x 2.25m (6.9 sqm) - 10' x 7' 4\" (74 sqft)\n",
      "Kitchen / Breakfast Room      7.24m x 4.9m (35.4 sqm) - 23' 9\" x 16' (381 sqft)\n",
      "Kitchen                       3.06m x 3.26m (9.9 sqm) - 10' x 10' 8\" (107 sqft)\n",
      "Kitchen                       2.97m x 1.83m (5.4 sqm) - 9' 8\" x 6' (58 sqft)\n",
      "Kitchen /  Dining Room        9.55m x 5.05m (48.3 sqm) - 31' 3\" x 16' 7\" (520 sqft)\n",
      "Kitchen                       2.4m x 2.29m (5.5 sqm) - 7' 10\" x 7' 6\" (59 sqft)\n",
      "Kitchen / Breakfast Room      5.01m x 2.33m (11.6 sqm) - 16' 5\" x 7' 7\" (125 sqft)\n",
      "Kitchen                       4.07m x 2.36m (9.6 sqm) - 13' 4\" x 7' 8\" (103 sqft)\n",
      "Kitchen                       3.81m x 1.96m (7.4 sqm) - 12' 6\" x 6' 5\" (80 sqft)\n",
      "Kitchen                       3.5m x 2.24m (7.8 sqm) - 11' 5\" x 7' 4\" (84 sqft)\n",
      "Kitchen / Breakfast Room      2.98m x 2.63m (7.8 sqm) - 9' 9\" x 8' 7\" (84 sqft)\n",
      "Kitchen                       3.19m x 2.5m (7.9 sqm) - 10' 5\" x 8' 2\" (85 sqft)\n",
      "Kitchen                       4.33m x 3.96m (17.1 sqm) - 14' 2\" x 12' 11\" (184 sqft)\n",
      "Kitchen                       4.66m x 2.88m (13.4 sqm) - 15' 3\" x 9' 5\" (144 sqft)\n",
      "Kitchen                       2.61m x 3.46m (9 sqm) - 8' 6\" x 11' 4\" (97 sqft)\n",
      "Kitchen / Breakfast Room      3.95m x 3.25m (12.8 sqm) - 12' 11\" x 10' 7\" (138 sqft)\n",
      "Kitchen                       4.2m x 2.52m (10.5 sqm) - 13' 9\" x 8' 3\" (113 sqft)\n",
      "Kitchen                       4.59m x 3.77m (17.3 sqm) - 15' 1\" x 12' 4\" (186 sqft)\n",
      "Kitchen                       4.29m x 2.78m (11.9 sqm) - 14' x 9' 1\" (128 sqft)\n",
      "Kitchen                       3.39m x 2.93m (9.9 sqm) - 11' 1\" x 9' 7\" (106 sqft)\n",
      "Kitchen / Breakfast Room      5.86m x 3.54m (20.7 sqm) - 19' 2\" x 11' 7\" (223 sqft)\n",
      "Kitchen                       2.9m x 2.76m (8 sqm) - 9' 6\" x 9' (86 sqft)\n",
      "Kitchen                       3.31m x 2.46m (8.1 sqm) - 10' 10\" x 8' (87 sqft)\n",
      "Kitchen                       3.81m x 1.88m (7.1 sqm) - 12' 6\" x 6' 2\" (77 sqft)\n",
      "Kitchen                       2.91m x 2.12m (6.1 sqm) - 9' 6\" x 6' 11\" (66 sqft)\n",
      "Kitchen                       2.52m x 3m (7.5 sqm) - 8' 3\" x 9' 10\" (81 sqft)\n",
      "Kitchen / Breakfast Room      2.98m x 4.5m (13.4 sqm) - 9' 9\" x 14' 9\" (144 sqft)\n",
      "Kitchen                       2.89m x 3.69m (10.6 sqm) - 9' 5\" x 12' 1\" (114 sqft)\n",
      "Kitchen                       3.36m x 3.44m (11.5 sqm) - 11' x 11' 3\" (124 sqft)\n",
      "Family Living Kitchen         7.33m x 3.44m (25.2 sqm) - 24' x 11' 3\" (271 sqft)\n",
      "Kitchen                       5.32m x 2004m (10661.2 sqm) - 17' 5\" x 6574' 9\" (114756 sqft)\n",
      "Kitchen                       2.8m x 3.2m (8.9 sqm) - 9' 2\" x 10' 5\" (96 sqft)\n",
      "Kitchen                       2.77m x 2.46m (6.8 sqm) - 9' 1\" x 8' (73 sqft)\n",
      "Kitchen                       3.34m x 3.06m (10.2 sqm) - 10' 11\" x 10' (110 sqft)\n",
      "Kitchen / Breakfast Room      8m x 2.25m (18 sqm) - 26' 2\" x 7' 4\" (194 sqft)\n",
      "Kitchen                       3.96m x 3.78m (14.9 sqm) - 12' 11\" x 12' 4\" (161 sqft)\n",
      "Kitchen                       3.41m x 2.12m (7.2 sqm) - 11' 2\" x 6' 11\" (77 sqft)\n",
      "Kitchen                       3.37m x 3.28m (11 sqm) - 11' x 10' 9\" (118 sqft)\n",
      "Kitchen                       2.74m x 6.99m (19.1 sqm) - 8' 11\" x 22' 11\" (206 sqft)\n",
      "Kitchen                       1\n",
      "Kitchen / Breakfast Room      1\n",
      "Kitchen                       4.8m x 2.25m (10.8 sqm) - 15' 8\" x 7' 4\" (116 sqft)\n",
      "Kitchen                       5.38m x 3.86m (20.7 sqm) - 17' 7\" x 12' 7\" (223 sqft)\n",
      "Kitchen                       3.17m x 2.5m (7.9 sqm) - 10' 4\" x 8' 2\" (85 sqft)\n",
      "Kitchen                       3.33m x 2.16m (7.1 sqm) - 10' 11\" x 7' 1\" (77 sqft)\n",
      "Kitchen                       2.8m x 1.9m (5.3 sqm) - 9' 2\" x 6' 2\" (57 sqft)\n",
      "Kitchen                       2.39m x 2.29m (5.4 sqm) - 7' 10\" x 7' 6\" (58 sqft)\n",
      "Kitchen                       3.69m x 2.27m (8.4 sqm) - 12' 1\" x 7' 5\" (90 sqft)\n",
      "Kitchen                       3.64m x 1.96m (7.1 sqm) - 11' 11\" x 6' 5\" (76 sqft)\n",
      "Kitchen                       3.02m x 2.49m (7.5 sqm) - 9' 10\" x 8' 2\" (80 sqft)\n",
      "Kitchen                       3.36m x 1.77m (5.9 sqm) - 11' x 5' 9\" (64 sqft)\n",
      "Kitchen                       3.45m x 3.19m (11 sqm) - 11' 3\" x 10' 5\" (118 sqft)\n",
      "Kitchen                       3.12m x 2.21m (6.8 sqm) - 10' 2\" x 7' 3\" (74 sqft)\n",
      "Kitchen                       4.95m x 3.62m (17.9 sqm) - 16' 2\" x 11' 10\" (192 sqft)\n",
      "Kitchen/Dining/Living Room    5.79m x 5.18m (29.9 sqm) - 18' 11\" x 16' 11\" (322 sqft)\n",
      "Kitchen                       5.82m x 3.4m (19.7 sqm) - 19' 1\" x 11' 1\" (212 sqft)\n",
      "Kitchen                       3.7m x 1.6m (5.9 sqm) - 12' 1\" x 5' 2\" (63 sqft)\n",
      "Kitchen                       2.41m x 2.19m (5.2 sqm) - 7' 10\" x 7' 2\" (56 sqft)\n",
      "Kitchen                       5.28m x 2.9m (15.3 sqm) - 17' 3\" x 9' 6\" (164 sqft)\n",
      "Kitchen                       2.49m x 2.36m (5.8 sqm) - 8' 2\" x 7' 8\" (63 sqft)\n",
      "Kitchen                       5.28m x 2.9m (15.3 sqm) - 17' 3\" x 9' 6\" (164 sqft)\n",
      "Kitchen                       2.84m x 2.29m (6.5 sqm) - 9' 3\" x 7' 6\" (70 sqft)\n",
      "Kitchen Diner                 4.86m x 2.04m (9.9 sqm) - 15' 11\" x 6' 8\" (107 sqft)\n",
      "Kitchen / Breakfast Room      5.21m x 5m (26 sqm) - 17' 1\" x 16' 4\" (280 sqft)\n",
      "Kitchen                       4.98m x 4.71m (23.4 sqm) - 16' 4\" x 15' 5\" (252 sqft)\n",
      "Kitchen /  Dining Room        1\n",
      "Kitchen /  Dining Room        3.69m x 3.07m (11.3 sqm) - 12' 1\" x 10' (121 sqft)\n",
      "Kitchen                       4.66m x 3.04m (14.1 sqm) - 15' 3\" x 9' 11\" (152 sqft)\n",
      "Kitchen /  Dining Room        4.73m x 3.33m (15.7 sqm) - 15' 6\" x 10' 11\" (169 sqft)\n",
      "Kitchen /  Dining Room        4.7m x 3.73m (17.5 sqm) - 15' 5\" x 12' 2\" (188 sqft)\n",
      "Kitchen                       2.73m x 1.97m (5.3 sqm) - 8' 11\" x 6' 5\" (57 sqft)\n",
      "Kitchen                       4.65m x 4.44m (20.6 sqm) - 15' 3\" x 14' 6\" (222 sqft)\n",
      "Kitchen /  Dining Room        5m x 4m (20 sqm) - 16' 4\" x 13' 1\" (215 sqft)\n",
      "Kitchen                       3.65m x 2.57m (9.3 sqm) - 11' 11\" x 8' 5\" (100 sqft)\n",
      "Kitchen                       3.36m x 1.65m (5.5 sqm) - 11' x 5' 4\" (59 sqft)\n",
      "Kitchen                       3.72m x 2.9m (10.7 sqm) - 12' 2\" x 9' 6\" (116 sqft)\n",
      "Kitchen                       3.47m x 3.32m (11.5 sqm) - 11' 4\" x 10' 10\" (124 sqft)\n",
      "Kitchen                       3.46m x 2.8m (9.6 sqm) - 11' 4\" x 9' 2\" (104 sqft)\n",
      "Kitchen Diner                 4.98m x 2.7m (13.4 sqm) - 16' 4\" x 8' 10\" (144 sqft)\n",
      "Kitchen Diner                 4.34m x 3.2m (13.9 sqm) - 14' 3\" x 10' 5\" (149 sqft)\n",
      "Kitchen Diner                 4.97m x 2.77m (13.7 sqm) - 16' 3\" x 9' 1\" (148 sqft)\n",
      "Kitchen                       5.09m x 2.39m (12.1 sqm) - 16' 8\" x 7' 10\" (131 sqft)\n",
      "Kitchen                       3.6m x 3.4m (12.2 sqm) - 11' 9\" x 11' 1\" (131 sqft)\n",
      "Kitchen                       3.24m x 2.87m (9.2 sqm) - 10' 7\" x 9' 4\" (100 sqft)\n",
      "Kitchen                       3.6m x 3.4m (12.2 sqm) - 11' 9\" x 11' 1\" (131 sqft)\n",
      "Kitchen Diner                 5m x 3.07m (15.3 sqm) - 16' 4\" x 10' (165 sqft)\n",
      "Kitchen Diner                 5.59m x 2.68m (14.9 sqm) - 18' 4\" x 8' 9\" (161 sqft)\n",
      "Open Plan Dining /  Kitchen   7.71m x 3.19m (24.5 sqm) - 25' 3\" x 10' 5\" (264 sqft)\n",
      "Kitchen /  Dining Room        5m x 4m (20 sqm) - 16' 4\" x 13' 1\" (215 sqft)\n",
      "Kitchen                       9.08m x 2.86m (25.9 sqm) - 29' 9\" x 9' 4\" (279 sqft)\n",
      "Kitchen Diner                 6.25m x 4.65m (29 sqm) - 20' 6\" x 15' 3\" (312 sqft)\n",
      "Kitchen                       2.6m x 2.2m (5.7 sqm) - 8' 6\" x 7' 2\" (61 sqft)\n",
      "Kitchen                       2.6m x 2.2m (5.7 sqm) - 8' 6\" x 7' 2\" (61 sqft)\n",
      "Kitchen                       2.92m x 2.06m (6 sqm) - 9' 6\" x 6' 9\" (65 sqft)\n",
      "Kitchen/Dining/Living Room    4.83m x 4.21m (20.3 sqm) - 15' 10\" x 13' 9\" (218 sqft)\n",
      "Kitchen                       2.7m x 1.8m (4.8 sqm) - 8' 10\" x 5' 10\" (52 sqft)\n",
      "Kitchen                       4.55m x 2.97m (13.5 sqm) - 14' 11\" x 9' 8\" (145 sqft)\n",
      "Kitchen                       4m x 3m (12 sqm) - 13' 1\" x 9' 10\" (129 sqft)\n",
      "Kitchen                       3.6m x 2.2m (7.9 sqm) - 11' 9\" x 7' 2\" (85 sqft)\n",
      "Kitchen                       3m x 2.7m (8.1 sqm) - 9' 10\" x 8' 10\" (87 sqft)\n",
      "Kitchen                       3.61m x 3.24m (11.6 sqm) - 11' 10\" x 10' 7\" (125 sqft)\n",
      "Kitchen                       4.08m x 2.47m (10 sqm) - 13' 4\" x 8' 1\" (108 sqft)\n",
      "Kitchen /  Dining Room        8.43m x 2.72m (22.9 sqm) - 27' 7\" x 8' 11\" (246 sqft)\n",
      "Kitchen                       2.81m x 2.74m (7.6 sqm) - 9' 2\" x 8' 11\" (82 sqft)\n",
      "Kitchen / Breakfast Room      4.42m x 3.65m (16.1 sqm) - 14' 6\" x 11' 11\" (173 sqft)\n",
      "Kitchen                       3.96m x 3.46m (13.7 sqm) - 12' 11\" x 11' 4\" (147 sqft)\n",
      "Breakfast Kitchen             4.86m x 3.12m (15.1 sqm) - 15' 11\" x 10' 2\" (163 sqft)\n",
      "Kitchen                       3.17m x 2.71m (8.5 sqm) - 10' 4\" x 8' 10\" (92 sqft)\n",
      "Kitchen / Breakfast Room      3.8m x 3.74m (14.2 sqm) - 12' 5\" x 12' 3\" (152 sqft)\n",
      "Kitchen /  Dining Room        5.18m x 2.97m (15.3 sqm) - 16' 11\" x 9' 8\" (165 sqft)\n",
      "Kitchen /  Dining Room        7.63m x 3.66m (27.9 sqm) - 25' x 12' (300 sqft)\n",
      "Kitchen                       4.57m x 2.77m (12.6 sqm) - 14' 11\" x 9' 1\" (136 sqft)\n",
      "Kitchen Area                  4.87m x 3.22m (15.6 sqm) - 15' 11\" x 10' 6\" (168 sqft)\n",
      "Kitchen / Breakfast Room      4.3m x 2.47m (10.6 sqm) - 14' 1\" x 8' 1\" (114 sqft)\n",
      "Kitchen Diner                 5.92m x 3.71m (21.9 sqm) - 19' 5\" x 12' 2\" (236 sqft)\n",
      "Kitchen                       5.22m x 1.43m (7.4 sqm) - 17' 1\" x 4' 8\" (80 sqft)\n",
      "Kitchen                       7.85m x 2.49m (19.5 sqm) - 25' 9\" x 8' 2\" (210 sqft)\n",
      "Kitchen / Breakfast Room      4.78m x 2.66m (12.7 sqm) - 15' 8\" x 8' 8\" (136 sqft)\n",
      "Kitchen                       6.26m x 3.84m (24 sqm) - 20' 6\" x 12' 7\" (258 sqft)\n",
      "Kitchen Diner                 5.01m x 4.12m (20.6 sqm) - 16' 5\" x 13' 6\" (222 sqft)\n",
      "Kitchen / Breakfast Room      4.34m x 3.52m (15.3 sqm) - 14' 3\" x 11' 6\" (164 sqft)\n",
      "Kitchen / Breakfast Room      3.92m x 2.99m (11.7 sqm) - 12' 10\" x 9' 9\" (126 sqft)\n",
      "Kitchen / Breakfast Room      3.65m x 2.52m (9.2 sqm) - 11' 11\" x 8' 3\" (99 sqft)\n",
      "Kitchen /  Dining Room        6.2m x 3.4m (21 sqm) - 20' 4\" x 11' 1\" (226 sqft)\n",
      "Kitchen Diner                 5.9m x 3.6m (21.2 sqm) - 19' 4\" x 11' 9\" (228 sqft)\n",
      "Kitchen / Breakfast Room      6.4m x 2.17m (13.8 sqm) - 20' 11\" x 7' 1\" (149 sqft)\n",
      "Kitchen / Breakfast Room      7.21m x 3.53m (25.4 sqm) - 23' 7\" x 11' 6\" (273 sqft)\n",
      "Kitchen Diner                 5.74m x 3.49m (20 sqm) - 18' 9\" x 11' 5\" (215 sqft)\n",
      "Kitchen Diner                 3.64m x 3.58m (13 sqm) - 11' 11\" x 11' 8\" (140 sqft)\n",
      "Kitchen Diner                 7m x 5.59m (39.1 sqm) - 22' 11\" x 18' 4\" (421 sqft)\n",
      "Kitchen Diner                 5.22m x 2.69m (14 sqm) - 17' 1\" x 8' 9\" (151 sqft)\n",
      "Kitchen Diner                 4.76m x 4.13m (19.7 sqm) - 15' 7\" x 13' 6\" (212 sqft)\n",
      "Kitchen                       3m x 2.39m (7.1 sqm) - 9' 10\" x 7' 10\" (77 sqft)\n",
      "Kitchen/Dining/Living Room    6.75m x 5.75m (38.8 sqm) - 22' 1\" x 18' 10\" (417 sqft)\n",
      "Kitchen /  Dining Room        5.21m x 4.47m (23.2 sqm) - 17' 1\" x 14' 7\" (250 sqft)\n",
      "Kitchen Diner                 5.77m x 3.11m (17.9 sqm) - 18' 11\" x 10' 2\" (193 sqft)\n",
      "Breakfast Kitchen             6.64m x 2.35m (15.6 sqm) - 21' 9\" x 7' 8\" (167 sqft)\n",
      "Kitchen                       3.06m x 2.47m (7.5 sqm) - 10' x 8' 1\" (81 sqft)\n",
      "Kitchen                       3.7m x 3.05m (11.2 sqm) - 12' 1\" x 10' (121 sqft)\n",
      "Kitchen                       2.86m x 1.77m (5 sqm) - 9' 4\" x 5' 9\" (54 sqft)\n",
      "Kitchen                       1\n",
      "Open Plan Dining/Kitchen/Family Room5.09m x 4.8m (24.4 sqm) - 16' 8\" x 15' 8\" (263 sqft)\n",
      "Kitchen                       3.03m x 3.01m (9.1 sqm) - 9' 11\" x 9' 10\" (98 sqft)\n",
      "Kitchen                       3.73m x 2.84m (10.5 sqm) - 12' 2\" x 9' 3\" (114 sqft)\n",
      "Kitchen /  Dining Room        6.4m x 3.7m (23.6 sqm) - 20' 11\" x 12' 1\" (254 sqft)\n",
      "Kitchen                       3.6m x 2.5m (9 sqm) - 11' 9\" x 8' 2\" (96 sqft)\n",
      "Kitchen                       1\n",
      "Kitchen                       3.6m x 1.9m (6.8 sqm) - 11' 9\" x 6' 2\" (73 sqft)\n",
      "Kitchen                       3.06m x 2.96m (9 sqm) - 10' x 9' 8\" (97 sqft)\n",
      "Kitchen Diner                 5.13m x 4.49m (23 sqm) - 16' 9\" x 14' 8\" (247 sqft)\n",
      "Kitchen / Breakfast Room      4.23m x 3.21m (13.5 sqm) - 13' 10\" x 10' 6\" (146 sqft)\n",
      "Kitchen /  Dining Room        4.05m x 2.87m (11.6 sqm) - 13' 3\" x 9' 4\" (125 sqft)\n",
      "Kitchen                       1\n",
      "Kitchen /  Dining Room        4.76m x 3.81m (18.1 sqm) - 15' 7\" x 12' 6\" (195 sqft)\n",
      "Kitchen Diner                 4.62m x 3.12m (14.4 sqm) - 15' 1\" x 10' 2\" (155 sqft)\n",
      "Kitchen                       3.3m x 1.8m (5.9 sqm) - 10' 9\" x 5' 10\" (63 sqft)\n",
      "Kitchen                       2.9m x 2.7m (7.8 sqm) - 9' 6\" x 8' 10\" (84 sqft)\n",
      "Kitchen                       4.59m x 2.77m (12.7 sqm) - 15' 1\" x 9' 1\" (137 sqft)\n",
      "Kitchen                       2.9m x 2.7m (7.8 sqm) - 9' 6\" x 8' 10\" (84 sqft)\n",
      "Open Plan Living Room / Kitchen8.6m x 3.75m (32.2 sqm) - 28' 2\" x 12' 3\" (347 sqft)\n",
      "Open Plan Dining/Kitchen/Family Room11.46m x 3.43m (39.3 sqm) - 37' 7\" x 11' 3\" (423 sqft)\n",
      "Kitchen                       3.75m x 3.2m (12 sqm) - 12' 3\" x 10' 5\" (129 sqft)\n",
      "Kitchen                       4.01m x 2.7m (10.8 sqm) - 13' 2\" x 8' 10\" (116 sqft)\n",
      "Kitchen                       2.97m x 2.57m (7.6 sqm) - 9' 8\" x 8' 5\" (82 sqft)\n",
      "Kitchen                       3.6m x 3.63m (13 sqm) - 11' 9\" x 11' 10\" (140 sqft)\n",
      "Kitchen/Dining/Living Room    5.82m x 3.88m (22.5 sqm) - 19' 1\" x 12' 8\" (243 sqft)\n",
      "Kitchen                       4.65m x 2.79m (12.9 sqm) - 15' 3\" x 9' 1\" (139 sqft)\n",
      "Kitchen                       5.27m x 2.5m (13.1 sqm) - 17' 3\" x 8' 2\" (141 sqft)\n",
      "Kitchen /  Dining Room        7.39m x 3.38m (24.9 sqm) - 24' 2\" x 11' 1\" (268 sqft)\n",
      "Kitchen /  Dining Room        8.81m x 3.23m (28.4 sqm) - 28' 10\" x 10' 7\" (306 sqft)\n",
      "Kitchen /  Dining Room        6.4m x 2.66m (17 sqm) - 20' 11\" x 8' 8\" (183 sqft)\n",
      "Kitchen                       5.87m x 3.5m (20.5 sqm) - 19' 3\" x 11' 5\" (221 sqft)\n",
      "Kitchen /  Dining Room        8.6m x 3.66m (31.4 sqm) - 28' 2\" x 12' (338 sqft)\n",
      "Kitchen / Breakfast Room      4.32m x 2.48m (10.7 sqm) - 14' 2\" x 8' 1\" (115 sqft)\n",
      "Kitchen                       3.61m x 3.02m (10.9 sqm) - 11' 10\" x 9' 10\" (117 sqft)\n",
      "Kitchen /  Dining Room        6.25m x 3.8m (23.7 sqm) - 20' 6\" x 12' 5\" (255 sqft)\n",
      "Kitchen                       3.42m x 2.58m (8.8 sqm) - 11' 2\" x 8' 5\" (94 sqft)\n",
      "Kitchen /  Dining Room        6.51m x 4.29m (27.9 sqm) - 21' 4\" x 14' (300 sqft)\n",
      "Kitchen                       3.85m x 2.71m (10.4 sqm) - 12' 7\" x 8' 10\" (112 sqft)\n",
      "Kitchen                       2.88m x 2.31m (6.6 sqm) - 9' 5\" x 7' 6\" (71 sqft)\n",
      "Kitchen /  Dining Room        6.05m x 4m (24.2 sqm) - 19' 10\" x 13' 1\" (260 sqft)\n",
      "Kitchen Diner                 6.12m x 3.66m (22.3 sqm) - 20' x 12' (241 sqft)\n",
      "Kitchen                       3.7m x 2.61m (9.6 sqm) - 12' 1\" x 8' 6\" (103 sqft)\n",
      "Kitchen                       3.34m x 2.5m (8.3 sqm) - 10' 11\" x 8' 2\" (89 sqft)\n",
      "Kitchen                       5.8m x 3.96m (22.9 sqm) - 19' x 12' 11\" (247 sqft)\n",
      "Kitchen                       2.93m x 1.84m (5.3 sqm) - 9' 7\" x 6' (58 sqft)\n",
      "Kitchen                       5.17m x 4.47m (23.1 sqm) - 16' 11\" x 14' 7\" (248 sqft)\n",
      "Kitchen / Breakfast Room      2.96m x 2.95m (8.7 sqm) - 9' 8\" x 9' 8\" (93 sqft)\n",
      "Kitchen /  Dining Room        6.18m x 2.34m (14.4 sqm) - 20' 3\" x 7' 8\" (155 sqft)\n",
      "Kitchen Diner                 8.63m x 4.46m (38.4 sqm) - 28' 3\" x 14' 7\" (414 sqft)\n",
      "Kitchen                       6.08m x 2.74m (16.6 sqm) - 19' 11\" x 8' 11\" (179 sqft)\n",
      "Kitchen                       3.92m x 2.35m (9.2 sqm) - 12' 10\" x 7' 8\" (99 sqft)\n",
      "Kitchen Area                  4.79m x 4.34m (20.8 sqm) - 15' 8\" x 14' 3\" (224 sqft)\n",
      "Kitchen / Breakfast Room      3.43m x 2.58m (8.8 sqm) - 11' 3\" x 8' 5\" (95 sqft)\n",
      "Kitchen                       3.91m x 2.41m (9.4 sqm) - 12' 9\" x 7' 10\" (101 sqft)\n",
      "Kitchen Diner                 4.73m x 3.21m (15.1 sqm) - 15' 6\" x 10' 6\" (163 sqft)\n",
      "Kitchen /  Dining Room        3.58m x 5.08m (18.1 sqm) - 11' 8\" x 16' 8\" (195 sqft)\n",
      "Kitchen                       1\n",
      "Kitchen                       3.63m x 3.38m (12.2 sqm) - 11' 10\" x 11' 1\" (132 sqft)\n",
      "Kitchen                       4.38m x 3.08m (13.5 sqm) - 14' 4\" x 10' 1\" (145 sqft)\n",
      "Kitchen /  Dining Room        5.17m x 3.99m (20.6 sqm) - 16' 11\" x 13' 1\" (222 sqft)\n",
      "Kitchen /  Dining Room        5.49m x 4.65m (25.5 sqm) - 18' x 15' 3\" (274 sqft)\n",
      "Kitchen                       6.53m x 2.2m (14.3 sqm) - 21' 5\" x 7' 2\" (154 sqft)\n",
      "Kitchen                       4.37m x 2.39m (10.4 sqm) - 14' 4\" x 7' 10\" (112 sqft)\n",
      "Kitchen                       1.52m x 2.43m (3.6 sqm) - 4' 11\" x 7' 11\" (39 sqft)\n",
      "Kitchen /  Dining Room        5.36m x 4.57m (24.4 sqm) - 17' 7\" x 14' 11\" (263 sqft)\n",
      "Kitchen                       2.57m x 2.21m (5.6 sqm) - 8' 5\" x 7' 3\" (61 sqft)\n",
      "Kitchen /  Dining Room        7.37m x 4.44m (32.7 sqm) - 24' 2\" x 14' 6\" (352 sqft)\n",
      "Kitchen                       3.21m x 3.21m (10.3 sqm) - 10' 6\" x 10' 6\" (110 sqft)\n",
      "Kitchen /  Dining Room        4.24m x 3.12m (13.2 sqm) - 13' 10\" x 10' 2\" (142 sqft)\n",
      "Kitchen                       3.2m x 3.3m (10.5 sqm) - 10' 5\" x 10' 9\" (113 sqft)\n",
      "Kitchen                       4.25m x 3.04m (12.9 sqm) - 13' 11\" x 9' 11\" (139 sqft)\n",
      "Kitchen                       2.7m x 2.67m (7.2 sqm) - 8' 10\" x 8' 9\" (77 sqft)\n",
      "Kitchen                       3.16m x 1.7m (5.3 sqm) - 10' 4\" x 5' 6\" (57 sqft)\n",
      "Kitchen                       3.56m x 3.02m (10.7 sqm) - 11' 8\" x 9' 10\" (115 sqft)\n",
      "Kitchen                       4.59m x 1.96m (8.9 sqm) - 15' x 6' 5\" (96 sqft)\n",
      "Kitchen /  Dining Room        4.13m x 2.79m (11.5 sqm) - 13' 6\" x 9' 1\" (124 sqft)\n",
      "Kitchen                       4.01m x 2.92m (11.7 sqm) - 13' 1\" x 9' 6\" (126 sqft)\n",
      "Kitchen                       2.74m x 2.71m (7.4 sqm) - 8' 11\" x 8' 10\" (79 sqft)\n",
      "Kitchen                       3.56m x 2.49m (8.8 sqm) - 11' 8\" x 8' 2\" (95 sqft)\n",
      "Kitchen                       3.66m x 3.32m (12.1 sqm) - 12' x 10' 10\" (130 sqft)\n",
      "Kitchen                       5.4m x 2.9m (15.6 sqm) - 17' 8\" x 9' 6\" (168 sqft)\n",
      "Kitchen                       3.41m x 2.87m (9.7 sqm) - 11' 2\" x 9' 4\" (105 sqft)\n",
      "Kitchen /  Dining Room        3.71m x 3.17m (11.7 sqm) - 12' 2\" x 10' 4\" (126 sqft)\n",
      "Kitchen                       3.87m x 3.04m (11.7 sqm) - 12' 8\" x 9' 11\" (126 sqft)\n",
      "Kitchen                       5.8m x 2.41m (13.9 sqm) - 19' x 7' 10\" (150 sqft)\n",
      "Kitchen                       3.89m x 2.2m (8.5 sqm) - 12' 9\" x 7' 2\" (92 sqft)\n",
      "Kitchen                       3.66m x 3.2m (11.7 sqm) - 12' x 10' 5\" (126 sqft)\n",
      "Kitchen                       3.15m x 2.64m (8.3 sqm) - 10' 4\" x 8' 7\" (89 sqft)\n",
      "Kitchen                       3.3m x 2.77m (9.1 sqm) - 10' 9\" x 9' 1\" (98 sqft)\n",
      "Kitchen                       3.35m x 1.93m (6.4 sqm) - 10' 11\" x 6' 3\" (69 sqft)\n",
      "Kitchen                       2.92m x 2.64m (7.7 sqm) - 9' 6\" x 8' 7\" (82 sqft)\n",
      "Kitchen Diner                 5.64m x 2.49m (14 sqm) - 18' 6\" x 8' 2\" (151 sqft)\n",
      "Kitchen / Breakfast Room      5.82m x 2.67m (15.5 sqm) - 19' 1\" x 8' 9\" (167 sqft)\n",
      "Kitchen / Breakfast Room      5.68m x 2.62m (14.8 sqm) - 18' 7\" x 8' 7\" (160 sqft)\n",
      "Kitchen /  Dining Room        4.57m x 3.23m (14.7 sqm) - 14' 11\" x 10' 7\" (158 sqft)\n",
      "Kitchen / Breakfast Room      4.95m x 2.67m (13.2 sqm) - 16' 2\" x 8' 9\" (142 sqft)\n",
      "Kitchen                       3.2m x 2.84m (9 sqm) - 10' 5\" x 9' 3\" (97 sqft)\n",
      "Kitchen Diner                 5.94m x 4.47m (26.5 sqm) - 19' 5\" x 14' 7\" (285 sqft)\n",
      "Kitchen /  Dining Room        7.42m x 5.72m (42.4 sqm) - 24' 4\" x 18' 9\" (456 sqft)\n",
      "Kitchen                       2.92m x 1.88m (5.4 sqm) - 9' 6\" x 6' 2\" (59 sqft)\n",
      "Kitchen                       4.78m x 1.75m (8.3 sqm) - 15' 8\" x 5' 8\" (90 sqft)\n",
      "Kitchen / Breakfast Room      3.53m x 3.1m (10.9 sqm) - 11' 6\" x 10' 2\" (117 sqft)\n",
      "Kitchen                       3.94m x 2.34m (9.2 sqm) - 12' 11\" x 7' 8\" (99 sqft)\n",
      "Kitchen /  Dining Room        7.39m x 3.43m (25.3 sqm) - 24' 2\" x 11' 3\" (272 sqft)\n",
      "Kitchen                       3.15m x 2.02m (6.3 sqm) - 10' 4\" x 6' 7\" (68 sqft)\n",
      "Kitchen / Breakfast Room      4.37m x 3.23m (14.1 sqm) - 14' 4\" x 10' 7\" (151 sqft)\n",
      "Kitchen                       2.98m x 2.56m (7.6 sqm) - 9' 9\" x 8' 4\" (82 sqft)\n",
      "Kitchen                       3.18m x 2.59m (8.2 sqm) - 10' 5\" x 8' 5\" (88 sqft)\n",
      "Kitchen / Breakfast Room      7.38m x 3.05m (22.5 sqm) - 24' 2\" x 10' (242 sqft)\n",
      "Kitchen                       4.19m x 3.76m (15.7 sqm) - 13' 8\" x 12' 4\" (169 sqft)\n",
      "Kitchen / Breakfast Room      5.28m x 2.13m (11.2 sqm) - 17' 3\" x 6' 11\" (121 sqft)\n",
      "Kitchen / Breakfast Room      5.59m x 3.25m (18.1 sqm) - 18' 4\" x 10' 7\" (195 sqft)\n",
      "Kitchen                       4.62m x 2.34m (10.8 sqm) - 15' 1\" x 7' 8\" (116 sqft)\n",
      "Kitchen                       3.58m x 3.48m (12.4 sqm) - 11' 8\" x 11' 5\" (134 sqft)\n",
      "Kitchen                       3.2m x 2.37m (7.5 sqm) - 10' 5\" x 7' 9\" (81 sqft)\n",
      "Kitchen                       2.97m x 2.34m (6.9 sqm) - 9' 8\" x 7' 8\" (74 sqft)\n",
      "Kitchen / Breakfast Room      4.45m x 3.54m (15.7 sqm) - 14' 7\" x 11' 7\" (169 sqft)\n",
      "Kitchen Diner                 3.3m x 5.5m (18.1 sqm) - 10' 9\" x 18' (195 sqft)\n",
      "Kitchen                       1\n",
      "Kitchen                       2.82m x 2.24m (6.3 sqm) - 9' 3\" x 7' 4\" (67 sqft)\n",
      "Kitchen                       3.13m x 3.09m (9.6 sqm) - 10' 3\" x 10' 1\" (104 sqft)\n",
      "Kitchen /  Dining Room        1\n",
      "Kitchen /  Dining Room        1\n",
      "Kitchen /  Dining Room        4.32m x 2.69m (11.6 sqm) - 14' 2\" x 8' 9\" (125 sqft)\n",
      "Kitchen                       2.46m x 4.59m (11.3 sqm) - 8' x 15' 1\" (121 sqft)\n",
      "Kitchen /  Dining Room        3.68m x 4.34m (15.9 sqm) - 12' x 14' 2\" (171 sqft)\n",
      "Kitchen /  Dining Room        2.72m x 5.2m (14.1 sqm) - 8' 11\" x 17' (152 sqft)\n",
      "Kitchen / Breakfast Room      3.22m x 4.03m (12.9 sqm) - 10' 6\" x 13' 2\" (139 sqft)\n",
      "Kitchen                       1.87m x 3.1m (5.7 sqm) - 6' 1\" x 10' 2\" (62 sqft)\n",
      "Kitchen                       1\n",
      "Breakfast Kitchen             14.5m x 8.6m (124.7 sqm) - 47' 6\" x 28' 2\" (1342 sqft)\n",
      "Kitchen                       2m x 4.36m (8.7 sqm) - 6' 6\" x 14' 3\" (93 sqft)\n",
      "Kitchen /  Dining Room        4.26m x 3.63m (15.5 sqm) - 14' x 11' 10\" (166 sqft)\n",
      "Kitchen                       3.32m x 2.27m (7.5 sqm) - 10' 10\" x 7' 5\" (81 sqft)\n",
      "Breakfast Kitchen             6.65m x 3.97m (26.4 sqm) - 21' 9\" x 13' (284 sqft)\n",
      "Kitchen                       2.84m x 2.72m (7.7 sqm) - 9' 3\" x 8' 11\" (83 sqft)\n",
      "Kitchen /  Dining Room        3.99m x 3.97m (15.8 sqm) - 13' 1\" x 13' (170 sqft)\n",
      "Kitchen                       2.94m x 2.09m (6.1 sqm) - 9' 7\" x 6' 10\" (66 sqft)\n",
      "Kitchen                       2.95m x 1.78m (5.2 sqm) - 9' 8\" x 5' 10\" (56 sqft)\n",
      "Breakfast Kitchen             8.44m x 2.52m (21.3 sqm) - 27' 8\" x 8' 3\" (229 sqft)\n",
      "Kitchen /  Dining Room        2.78m x 4.25m (11.8 sqm) - 9' 1\" x 13' 11\" (127 sqft)\n",
      "Kitchen                       3.88m x 2.64m (10.2 sqm) - 12' 8\" x 8' 7\" (110 sqft)\n",
      "Kitchen                       3.5m x 1.84m (6.4 sqm) - 11' 5\" x 6' (69 sqft)\n",
      "Kitchen                       3.98m x 2.61m (10.3 sqm) - 13' x 8' 6\" (111 sqft)\n",
      "Kitchen /  Dining Room        3.33m x 4.76m (15.8 sqm) - 10' 11\" x 15' 7\" (170 sqft)\n",
      "Kitchen /  Dining Room        2.69m x 3.66m (9.8 sqm) - 8' 9\" x 12' (105 sqft)\n",
      "Kitchen                       2.5m x 3.84m (9.6 sqm) - 8' 2\" x 12' 7\" (103 sqft)\n",
      "Family Living Kitchen         4.93m x 4.63m (22.8 sqm) - 16' 2\" x 15' 2\" (245 sqft)\n",
      "Kitchen / Breakfast Room      2.77m x 4.41m (12.2 sqm) - 9' 1\" x 14' 5\" (131 sqft)\n",
      "Kitchen Area                  1\n",
      "Kitchen /  Dining Room        4.45m x 4.99m (22.2 sqm) - 14' 7\" x 16' 4\" (239 sqft)\n",
      "Kitchen                       4.99m x 2.25m (11.2 sqm) - 16' 4\" x 7' 4\" (121 sqft)\n",
      "Kitchen                       2.85m x 3.16m (9 sqm) - 9' 4\" x 10' 4\" (96 sqft)\n",
      "Kitchen                       4.58m x 2.42m (11 sqm) - 15' x 7' 11\" (119 sqft)\n",
      "Kitchen /  Dining Room        5.43m x 2.92m (15.8 sqm) - 17' 9\" x 9' 6\" (170 sqft)\n",
      "Breakfast Kitchen             4.83m x 3.87m (18.6 sqm) - 15' 10\" x 12' 8\" (201 sqft)\n",
      "Kitchen Diner                 5.87m x 3.63m (21.3 sqm) - 19' 3\" x 11' 10\" (229 sqft)\n",
      "Kitchen                       3.78m x 2.75m (10.3 sqm) - 12' 4\" x 9' (111 sqft)\n",
      "Kitchen /  Dining Room        1\n",
      "Kitchen                       2.84m x 2.25m (6.4 sqm) - 9' 3\" x 7' 4\" (69 sqft)\n",
      "Open Plan Dining /  Kitchen   1\n",
      "Kitchen Area                  3m x 2.16m (6.4 sqm) - 9' 10\" x 7' 1\" (69 sqft)\n",
      "Kitchen Area                  5.09m x 5.3m (27 sqm) - 16' 8\" x 17' 4\" (290 sqft)\n",
      "Kitchen                       2.82m x 2.24m (6.3 sqm) - 9' 3\" x 7' 4\" (67 sqft)\n",
      "Breakfast Kitchen             3.78m x 3.66m (13.8 sqm) - 12' 4\" x 12' (148 sqft)\n",
      "Kitchen                       4.65m x 2.69m (12.5 sqm) - 15' 3\" x 8' 9\" (134 sqft)\n",
      "Kitchen                       1\n",
      "Kitchen                       2.45m x 2.77m (6.7 sqm) - 8' x 9' 1\" (73 sqft)\n",
      "Kitchen Diner                 1\n",
      "Kitchen                       3.66m x 2.92m (10.6 sqm) - 12' x 9' 6\" (115 sqft)\n",
      "Kitchen                       5.15m x 1.98m (10.1 sqm) - 16' 10\" x 6' 5\" (109 sqft)\n",
      "Kitchen /  Dining Room        4.95m x 3.93m (19.4 sqm) - 16' 2\" x 12' 10\" (209 sqft)\n",
      "Kitchen /  Dining Room        1\n",
      "Breakfast Kitchen             14.5m x 8.6m (124.7 sqm) - 47' 6\" x 28' 2\" (1342 sqft)\n",
      "Kitchen                       1.8m x 4.67m (8.4 sqm) - 5' 10\" x 15' 3\" (90 sqft)\n",
      "Kitchen                       2.68m x 3.91m (10.4 sqm) - 8' 9\" x 12' 9\" (112 sqft)\n",
      "Kitchen                       2.74m x 2.52m (6.9 sqm) - 8' 11\" x 8' 3\" (74 sqft)\n",
      "Kitchen Diner                 1\n",
      "Kitchen /  Dining Room        6.29m x 3.8m (23.9 sqm) - 20' 7\" x 12' 5\" (257 sqft)\n",
      "Kitchen                       2.09m x 3.27m (6.8 sqm) - 6' 10\" x 10' 8\" (73 sqft)\n",
      "Kitchen / Breakfast Room      1\n",
      "Kitchen /  Dining Room        2.52m x 4.51m (11.3 sqm) - 8' 3\" x 14' 9\" (122 sqft)\n",
      "Kitchen                       2.47m x 1.85m (4.5 sqm) - 8' 1\" x 6' (49 sqft)\n",
      "Kitchen /  Dining Room        4.51m x 2.06m (9.2 sqm) - 14' 9\" x 6' 9\" (100 sqft)\n",
      "Kitchen /  Dining Room        6.04m x 2.37m (14.3 sqm) - 19' 9\" x 7' 9\" (154 sqft)\n",
      "Kitchen /  Dining Room        6.41m x 5.2m (33.3 sqm) - 21' x 17' (358 sqft)\n",
      "Kitchen                       2.54m x 2m (5 sqm) - 8' 4\" x 6' 6\" (54 sqft)\n",
      "Kitchen                       4.15m x 1.81m (7.5 sqm) - 13' 7\" x 5' 11\" (80 sqft)\n",
      "Kitchen                       5.6m x 2.5m (14 sqm) - 18' 4\" x 8' 2\" (150 sqft)\n",
      "Kitchen                       3.53m x 2.45m (8.6 sqm) - 11' 6\" x 8' (93 sqft)\n",
      "Kitchen                       2.47m x 1.85m (4.5 sqm) - 8' 1\" x 6' (49 sqft)\n",
      "Kitchen                       4.88m x 4.05m (19.8 sqm) - 16' x 13' 3\" (213 sqft)\n",
      "Breakfast Kitchen             5.08m x 2.9m (14.7 sqm) - 16' 8\" x 9' 6\" (158 sqft)\n",
      "Open Plan Living Room / Kitchen7.61m x 4.12m (31.3 sqm) - 24' 11\" x 13' 6\" (337 sqft)\n",
      "Kitchen                       4.01m x 3.25m (13 sqm) - 13' 2\" x 10' 7\" (140 sqft)\n",
      "Kitchen                       3.57m x 1.92m (6.8 sqm) - 11' 8\" x 6' 3\" (73 sqft)\n",
      "Kitchen                       2.98m x 2.7m (8 sqm) - 9' 9\" x 8' 10\" (86 sqft)\n",
      "Kitchen /  Dining Room        4.54m x 2.62m (11.8 sqm) - 14' 10\" x 8' 7\" (128 sqft)\n",
      "Kitchen /  Dining Room        5m x 2.7m (13.5 sqm) - 16' 4\" x 8' 10\" (145 sqft)\n",
      "Kitchen                       3.73m x 2.7m (10 sqm) - 12' 2\" x 8' 10\" (108 sqft)\n",
      "Kitchen Diner                 7.01m x 5.16m (36.1 sqm) - 22' 11\" x 16' 11\" (389 sqft)\n",
      "Kitchen                       3.86m x 3.45m (13.3 sqm) - 12' 7\" x 11' 3\" (143 sqft)\n",
      "Kitchen /  Dining Room        4.58m x 2.5m (11.4 sqm) - 15' x 8' 2\" (123 sqft)\n",
      "Kitchen /  Dining Room        3.47m x 3.2m (11.1 sqm) - 11' 4\" x 10' 5\" (119 sqft)\n",
      "Kitchen /  Dining Room        6.94m x 3.78m (26.2 sqm) - 22' 9\" x 12' 4\" (282 sqft)\n",
      "Kitchen /  Dining Room        7.4m x 2.8m (20.7 sqm) - 24' 3\" x 9' 2\" (223 sqft)\n",
      "Kitchen Diner                 8.22m x 4.63m (38.1 sqm) - 26' 11\" x 15' 2\" (410 sqft)\n",
      "Kitchen / Breakfast Room      5.9m x 4.18m (24.6 sqm) - 19' 4\" x 13' 8\" (265 sqft)\n",
      "Open Plan Living Kitchen      11.01m x 3.45m (37.9 sqm) - 36' 1\" x 11' 3\" (408 sqft)\n",
      "Kitchen                       4.28m x 1.86m (7.9 sqm) - 14' x 6' 1\" (85 sqft)\n",
      "Kitchen /  Dining Room        3.43m x 3.19m (10.9 sqm) - 11' 3\" x 10' 5\" (117 sqft)\n",
      "Kitchen / Breakfast Room      4.59m x 2.49m (11.4 sqm) - 15' 1\" x 8' 2\" (123 sqft)\n",
      "Breakfast Kitchen             6m x 2.7m (16.2 sqm) - 19' 8\" x 8' 10\" (174 sqft)\n",
      "Kitchen                       2.76m x 2.6m (7.1 sqm) - 9' x 8' 6\" (77 sqft)\n",
      "Open Plan Dining /  Kitchen   4.66m x 3.51m (16.3 sqm) - 15' 3\" x 11' 6\" (176 sqft)\n",
      "Kitchen                       3.2m x 2.84m (9 sqm) - 10' 5\" x 9' 3\" (97 sqft)\n",
      "Kitchen                       3.18m x 2.73m (8.6 sqm) - 10' 5\" x 8' 11\" (93 sqft)\n",
      "Kitchen Diner                 4.59m x 2.54m (11.7 sqm) - 15' x 8' 4\" (125 sqft)\n",
      "Kitchen /  Dining Room        4.17m x 3.18m (13.2 sqm) - 13' 8\" x 10' 5\" (142 sqft)\n",
      "Kitchen Diner                 5.08m x 2.96m (15 sqm) - 16' 8\" x 9' 8\" (161 sqft)\n",
      "Kitchen /  Dining Room        3.77m x 2.78m (10.4 sqm) - 12' 4\" x 9' 1\" (112 sqft)\n",
      "Kitchen                       3.36m x 2.7m (9 sqm) - 11' x 8' 10\" (97 sqft)\n",
      "Kitchen /  Dining Room        4.17m x 2.96m (12.3 sqm) - 13' 8\" x 9' 8\" (132 sqft)\n",
      "Kitchen /  Dining Room        3.43m x 3.15m (10.8 sqm) - 11' 3\" x 10' 4\" (116 sqft)\n",
      "Kitchen                       3.37m x 2.15m (7.2 sqm) - 11' x 7' (77 sqft)\n",
      "Kitchen                       2.7m x 2.64m (7.1 sqm) - 8' 10\" x 8' 7\" (76 sqft)\n",
      "Kitchen                       2.86m x 2.4m (6.8 sqm) - 9' 4\" x 7' 10\" (73 sqft)\n",
      "Kitchen /  Dining Room        5.41m x 3.12m (16.8 sqm) - 17' 8\" x 10' 2\" (181 sqft)\n",
      "Kitchen /  Dining Room        7.59m x 3.42m (25.9 sqm) - 24' 10\" x 11' 2\" (279 sqft)\n",
      "Kitchen Diner                 4.5m x 3.34m (15 sqm) - 14' 9\" x 10' 11\" (161 sqft)\n",
      "Open Plan Dining/Kitchen/Family Room1\n",
      "Open Plan Dining /  Kitchen   7.63m x 4.74m (36.1 sqm) - 25' x 15' 6\" (389 sqft)\n",
      "Kitchen                       4.46m x 2.67m (11.9 sqm) - 14' 7\" x 8' 9\" (128 sqft)\n",
      "Kitchen                       2.71m x 2.67m (7.2 sqm) - 8' 10\" x 8' 9\" (77 sqft)\n",
      "Kitchen /  Dining Room        4.83m x 2.96m (14.2 sqm) - 15' 10\" x 9' 8\" (153 sqft)\n",
      "Open Plan Dining /  Kitchen   7.42m x 5.8m (43 sqm) - 24' 4\" x 19' (463 sqft)\n",
      "Kitchen /  Dining Room        7.9m x 3.54m (27.9 sqm) - 25' 11\" x 11' 7\" (301 sqft)\n",
      "Kitchen                       3.77m x 3.18m (11.9 sqm) - 12' 4\" x 10' 5\" (129 sqft)\n",
      "Open Plan Living Room / Kitchen8m x 5.76m (46 sqm) - 26' 2\" x 18' 10\" (495 sqft)\n",
      "Open Plan Living Kitchen      6.5m x 3.6m (23.4 sqm) - 21' 3\" x 11' 9\" (251 sqft)\n",
      "Kitchen                       4.32m x 2.9m (12.5 sqm) - 14' 2\" x 9' 6\" (134 sqft)\n",
      "Kitchen /  Dining Room        7.02m x 3.07m (21.5 sqm) - 23' x 10' (231 sqft)\n",
      "Kitchen                       5.88m x 2.39m (14 sqm) - 19' 3\" x 7' 10\" (151 sqft)\n",
      "Kitchen /  Dining Room        5.78m x 3.04m (17.5 sqm) - 18' 11\" x 9' 11\" (189 sqft)\n",
      "Kitchen                       3.6m x 2.5m (9 sqm) - 11' 9\" x 8' 2\" (96 sqft)\n",
      "Breakfast Kitchen             3.98m x 2.85m (11.3 sqm) - 13' x 9' 4\" (122 sqft)\n",
      "Kitchen / Breakfast Room      7.46m x 3.8m (28.3 sqm) - 24' 5\" x 12' 5\" (305 sqft)\n",
      "Kitchen                       3.45m x 2.62m (9 sqm) - 11' 3\" x 8' 7\" (97 sqft)\n",
      "Kitchen/Dining/Living Room    6.24m x 3.78m (23.5 sqm) - 20' 5\" x 12' 4\" (253 sqft)\n",
      "Kitchen Diner                 3.63m x 3.59m (13 sqm) - 11' 10\" x 11' 9\" (140 sqft)\n",
      "Kitchen /  Dining Room        6.04m x 4.16m (25.1 sqm) - 19' 9\" x 13' 7\" (270 sqft)\n",
      "Kitchen / Breakfast Room      4.44m x 2.86m (12.6 sqm) - 14' 6\" x 9' 4\" (136 sqft)\n",
      "Kitchen                       4.3m x 2.15m (9.2 sqm) - 14' 1\" x 7' (99 sqft)\n",
      "Kitchen                       3.8m x 2.2m (8.3 sqm) - 12' 5\" x 7' 2\" (89 sqft)\n",
      "Kitchen                       3.8m x 2.2m (8.3 sqm) - 12' 5\" x 7' 2\" (89 sqft)\n",
      "Kitchen /  Dining Room        4.95m x 2.9m (14.3 sqm) - 16' 2\" x 9' 6\" (154 sqft)\n",
      "Kitchen /  Dining Room        4.08m x 2.91m (11.8 sqm) - 13' 4\" x 9' 6\" (127 sqft)\n",
      "Kitchen                       3.47m x 2.54m (8.8 sqm) - 11' 4\" x 8' 4\" (95 sqft)\n",
      "Kitchen /  Dining Room        8.5m x 4.11m (34.9 sqm) - 27' 10\" x 13' 5\" (376 sqft)\n",
      "Kitchen                       5.37m x 4.61m (24.7 sqm) - 17' 7\" x 15' 1\" (266 sqft)\n",
      "Kitchen Diner                 4.59m x 4.5m (20.6 sqm) - 15' 1\" x 14' 9\" (222 sqft)\n",
      "Kitchen                       4.22m x 2.24m (9.4 sqm) - 13' 10\" x 7' 4\" (101 sqft)\n",
      "Kitchen /  Dining Room        4.62m x 2.64m (12.1 sqm) - 15' 1\" x 8' 7\" (131 sqft)\n",
      "Kitchen                       3.03m x 2.88m (8.7 sqm) - 9' 11\" x 9' 5\" (93 sqft)\n",
      "Kitchen /  Dining Room        4.46m x 3.06m (13.6 sqm) - 14' 7\" x 10' (146 sqft)\n",
      "Kitchen /  Dining Room        5.38m x 4.43m (23.8 sqm) - 17' 7\" x 14' 6\" (256 sqft)\n",
      "Kitchen                       2.72m x 2.69m (7.3 sqm) - 8' 11\" x 8' 9\" (78 sqft)\n",
      "Kitchen                       5.3m x 3.51m (18.6 sqm) - 17' 4\" x 11' 6\" (200 sqft)\n",
      "Kitchen Diner                 4m x 2.61m (10.4 sqm) - 13' 1\" x 8' 6\" (112 sqft)\n",
      "Kitchen                       4.3m x 2.17m (9.3 sqm) - 14' 1\" x 7' 1\" (100 sqft)\n",
      "Kitchen                       3.77m x 2.65m (9.9 sqm) - 12' 4\" x 8' 8\" (107 sqft)\n",
      "Kitchen Diner                 5.5m x 2.83m (15.5 sqm) - 18' x 9' 3\" (167 sqft)\n",
      "Kitchen Area                  3.03m x 2.67m (8 sqm) - 9' 11\" x 8' 9\" (87 sqft)\n",
      "Kitchen Diner                 4.53m x 2.77m (12.5 sqm) - 14' 10\" x 9' 1\" (135 sqft)\n",
      "Kitchen /  Dining Room        4.41m x 4.25m (18.7 sqm) - 14' 5\" x 13' 11\" (201 sqft)\n",
      "Kitchen Area                  3.94m x 2.6m (10.2 sqm) - 12' 11\" x 8' 6\" (110 sqft)\n",
      "Kitchen                       3.5m x 2.9m (10.1 sqm) - 11' 5\" x 9' 6\" (109 sqft)\n",
      "Family Kitchen                20m x 20m (400 sqm) - 65' 7\" x 65' 7\" (4305 sqft)\n",
      "Kitchen /  Dining Room        7.6m x 4.59m (34.9 sqm) - 24' 11\" x 15' 1\" (376 sqft)\n",
      "Kitchen                       5.47m x 2.72m (14.8 sqm) - 17' 11\" x 8' 11\" (160 sqft)\n",
      "Kitchen /  Dining Room        8.11m x 3.38m (27.4 sqm) - 26' 7\" x 11' 1\" (295 sqft)\n",
      "Kitchen Diner                 3.72m x 6.15m (22.8 sqm) - 12' 2\" x 20' 2\" (246 sqft)\n",
      "Kitchen / Breakfast Room      3.43m x 4.95m (16.9 sqm) - 11' 3\" x 16' 2\" (182 sqft)\n",
      "Kitchen                       3.26m x 3.11m (10.1 sqm) - 10' 8\" x 10' 2\" (109 sqft)\n",
      "Kitchen                       2.5m x 3.28m (8.2 sqm) - 8' 2\" x 10' 9\" (88 sqft)\n",
      "Kitchen                       3.75m x 2.59m (9.7 sqm) - 12' 3\" x 8' 5\" (104 sqft)\n",
      "Kitchen                       4.79m x 3.02m (14.4 sqm) - 15' 8\" x 9' 10\" (155 sqft)\n",
      "Kitchen                       1.89m x 3.62m (6.8 sqm) - 6' 2\" x 11' 10\" (73 sqft)\n",
      "Kitchen /  Dining Room        6.12m x 2.49m (15.2 sqm) - 20' x 8' 2\" (164 sqft)\n",
      "Kitchen                       1\n",
      "Kitchen/Dining/Living Room    7.46m x 2.75m (20.5 sqm) - 24' 5\" x 9' (220 sqft)\n",
      "Kitchen                       5.69m x 2.46m (13.9 sqm) - 18' 8\" x 8' (150 sqft)\n",
      "Kitchen                       5.87m x 2.47m (14.4 sqm) - 19' 3\" x 8' 1\" (156 sqft)\n",
      "Kitchen Area                  3.35m x 2.82m (9.4 sqm) - 10' 11\" x 9' 3\" (101 sqft)\n",
      "Kitchen                       3.12m x 1.78m (5.5 sqm) - 10' 2\" x 5' 10\" (59 sqft)\n",
      "Kitchen                       3.1m x 1.68m (5.2 sqm) - 10' 2\" x 5' 6\" (56 sqft)\n",
      "Kitchen                       2.74m x 2.6m (7.1 sqm) - 8' 11\" x 8' 6\" (76 sqft)\n",
      "Kitchen                       4.84m x 1.78m (8.6 sqm) - 15' 10\" x 5' 10\" (92 sqft)\n",
      "Kitchen                       3.69m x 2.22m (8.1 sqm) - 12' 1\" x 7' 3\" (88 sqft)\n",
      "Kitchen                       2.8m x 1.8m (5 sqm) - 9' 2\" x 5' 10\" (54 sqft)\n",
      "Kitchen                       3.47m x 2.63m (9.1 sqm) - 11' 4\" x 8' 7\" (98 sqft)\n",
      "Kitchen /  Dining Room        5.89m x 2.49m (14.6 sqm) - 19' 3\" x 8' 2\" (157 sqft)\n",
      "Kitchen                       3.42m x 2.81m (9.6 sqm) - 11' 2\" x 9' 2\" (103 sqft)\n",
      "Kitchen                       4.04m x 2.27m (9.1 sqm) - 13' 3\" x 7' 5\" (98 sqft)\n",
      "Kitchen                       4.63m x 3.49m (16.1 sqm) - 15' 2\" x 11' 5\" (174 sqft)\n",
      "Kitchen /  Dining Room        1\n",
      "Kitchen                       3m x 3.35m (10 sqm) - 9' 10\" x 10' 11\" (108 sqft)\n",
      "Kitchen Diner                 4.53m x 3.29m (14.9 sqm) - 14' 10\" x 10' 9\" (160 sqft)\n",
      "Kitchen                       3.54m x 2.35m (8.3 sqm) - 11' 7\" x 7' 8\" (89 sqft)\n",
      "Kitchen                       3.69m x 2.66m (9.8 sqm) - 12' 1\" x 8' 8\" (105 sqft)\n",
      "Kitchen /  Dining Room        7.87m x 3.37m (26.5 sqm) - 25' 9\" x 11' (285 sqft)\n",
      "Kitchen                       5.29m x 2.42m (12.8 sqm) - 17' 4\" x 7' 11\" (137 sqft)\n",
      "Kitchen                       2.96m x 2.17m (6.4 sqm) - 9' 8\" x 7' 1\" (69 sqft)\n",
      "Kitchen                       3.35m x 2.02m (6.8 sqm) - 10' 11\" x 6' 7\" (73 sqft)\n",
      "Kitchen                       3.34m x 2.42m (8 sqm) - 10' 11\" x 7' 11\" (87 sqft)\n",
      "Kitchen                       2.54m x 2.16m (5.4 sqm) - 8' 4\" x 7' 1\" (59 sqft)\n",
      "Kitchen                       2.79m x 2.66m (7.4 sqm) - 9' 1\" x 8' 8\" (79 sqft)\n",
      "Kitchen                       4.91m x 3.16m (15.5 sqm) - 16' 1\" x 10' 4\" (167 sqft)\n",
      "Kitchen /  Dining Room        6.31m x 2.93m (18.4 sqm) - 20' 8\" x 9' 7\" (199 sqft)\n",
      "Kitchen                       3.15m x 2.22m (6.9 sqm) - 10' 4\" x 7' 3\" (75 sqft)\n",
      "Kitchen                       3.81m x 2.83m (10.7 sqm) - 12' 6\" x 9' 3\" (116 sqft)\n",
      "Kitchen                       3.94m x 3.17m (12.4 sqm) - 12' 11\" x 10' 4\" (134 sqft)\n",
      "Kitchen                       2.74m x 3.34m (9.1 sqm) - 8' 11\" x 10' 11\" (98 sqft)\n",
      "Kitchen                       3.3m x 2.58m (8.5 sqm) - 10' 9\" x 8' 5\" (91 sqft)\n",
      "Kitchen                       3.57m x 2.11m (7.5 sqm) - 11' 8\" x 6' 11\" (81 sqft)\n",
      "Kitchen /  Dining Room        5.99m x 3.43m (20.5 sqm) - 19' 7\" x 11' 3\" (221 sqft)\n",
      "Kitchen                       3.69m x 2.22m (8.1 sqm) - 12' 1\" x 7' 3\" (88 sqft)\n",
      "Kitchen                       3.47m x 3.92m (13.6 sqm) - 11' 4\" x 12' 10\" (146 sqft)\n",
      "Kitchen                       4.78m x 2.71m (12.9 sqm) - 15' 8\" x 8' 10\" (139 sqft)\n",
      "Kitchen /  Dining Room        4.9m x 3.82m (18.7 sqm) - 16' x 12' 6\" (201 sqft)\n",
      "Kitchen                       4.2m x 3m (12.6 sqm) - 13' 9\" x 9' 10\" (135 sqft)\n",
      "Kitchen                       3.5m x 2.62m (9.1 sqm) - 11' 5\" x 8' 7\" (98 sqft)\n",
      "Kitchen                       3.97m x 2.84m (11.2 sqm) - 13' x 9' 3\" (121 sqft)\n",
      "Kitchen                       3.76m x 2.35m (8.8 sqm) - 12' 4\" x 7' 8\" (95 sqft)\n",
      "Kitchen /  Dining Room        5.2m x 3.72m (19.3 sqm) - 17' x 12' 2\" (208 sqft)\n",
      "Breakfast Kitchen             5.8m x 2.9m (16.8 sqm) - 19' x 9' 6\" (181 sqft)\n",
      "Kitchen /  Dining Room        4.22m x 2.7m (11.3 sqm) - 13' 10\" x 8' 10\" (122 sqft)\n",
      "Kitchen                       3.47m x 2.65m (9.1 sqm) - 11' 4\" x 8' 8\" (98 sqft)\n",
      "Kitchen                       3.2m x 3.2m (10.2 sqm) - 10' 5\" x 10' 5\" (110 sqft)\n",
      "Kitchen                       3.2m x 3.2m (10.2 sqm) - 10' 5\" x 10' 5\" (110 sqft)\n",
      "Kitchen /  Dining Room        5.05m x 3.35m (16.9 sqm) - 16' 6\" x 10' 11\" (182 sqft)\n",
      "Kitchen                       2.1m x 3.65m (7.6 sqm) - 6' 10\" x 11' 11\" (82 sqft)\n",
      "Kitchen                       5.5m x 1.7m (9.3 sqm) - 18' x 5' 6\" (100 sqft)\n",
      "Kitchen                       2.1m x 5.3m (11.1 sqm) - 6' 10\" x 17' 4\" (119 sqft)\n",
      "Kitchen /  Dining Room        3.86m x 2.97m (11.4 sqm) - 12' 7\" x 9' 8\" (123 sqft)\n",
      "Kitchen /  Dining Room        5.74m x 3m (17.2 sqm) - 18' 9\" x 9' 10\" (185 sqft)\n",
      "Kitchen                       4.75m x 3.03m (14.3 sqm) - 15' 7\" x 9' 11\" (154 sqft)\n",
      "Kitchen Diner                 4.34m x 5.09m (22.1 sqm) - 14' 3\" x 16' 8\" (238 sqft)\n",
      "Kitchen                       3.42m x 3.42m (11.6 sqm) - 11' 2\" x 11' 2\" (125 sqft)\n",
      "Open Plan Dining/Kitchen/Family Room7.28m x 4.47m (32.5 sqm) - 23' 10\" x 14' 7\" (350 sqft)\n",
      "Kitchen                       2.82m x 2.29m (6.4 sqm) - 9' 3\" x 7' 6\" (69 sqft)\n",
      "Kitchen                       4.15m x 3.17m (13.1 sqm) - 13' 7\" x 10' 4\" (141 sqft)\n",
      "Kitchen                       2.42m x 3.17m (7.6 sqm) - 7' 11\" x 10' 4\" (82 sqft)\n",
      "Kitchen                       2m x 3.56m (7.1 sqm) - 6' 6\" x 11' 8\" (76 sqft)\n",
      "Kitchen                       3.81m x 2.15m (8.1 sqm) - 12' 6\" x 7' (88 sqft)\n",
      "Kitchen Diner                 4.41m x 3.56m (15.6 sqm) - 14' 5\" x 11' 8\" (168 sqft)\n",
      "Kitchen /  Dining Room        4.07m x 3.12m (12.6 sqm) - 13' 4\" x 10' 2\" (136 sqft)\n",
      "Kitchen                       3.62m x 2.5m (9 sqm) - 11' 10\" x 8' 2\" (97 sqft)\n",
      "Kitchen /  Dining Room        3.8m x 2.65m (10 sqm) - 12' 5\" x 8' 8\" (108 sqft)\n",
      "Kitchen                       4.45m x 2.29m (10.2 sqm) - 14' 7\" x 7' 6\" (110 sqft)\n",
      "Breakfast Kitchen             3.25m x 3.19m (10.3 sqm) - 10' 7\" x 10' 5\" (111 sqft)\n",
      "Family Kitchen                5.2m x 3.2m (16.6 sqm) - 17' x 10' 5\" (179 sqft)\n",
      "Kitchen                       3.3m x 2.6m (8.5 sqm) - 10' 9\" x 8' 6\" (92 sqft)\n",
      "Kitchen /  Dining Room        4m x 3.3m (13.2 sqm) - 13' 1\" x 10' 9\" (142 sqft)\n",
      "Kitchen                       3.92m x 2.25m (8.8 sqm) - 12' 10\" x 7' 4\" (94 sqft)\n",
      "Kitchen                       3.79m x 2.4m (9 sqm) - 12' 5\" x 7' 10\" (97 sqft)\n",
      "Kitchen                       3.5m x 2.54m (8.8 sqm) - 11' 5\" x 8' 4\" (95 sqft)\n",
      "Kitchen                       3.34m x 2.76m (9.2 sqm) - 10' 11\" x 9' (99 sqft)\n",
      "Kitchen                       2.45m x 2.44m (5.9 sqm) - 8' x 8' (64 sqft)\n",
      "Kitchen                       2.41m x 3.2m (7.7 sqm) - 7' 10\" x 10' 5\" (83 sqft)\n",
      "Kitchen                       3.78m x 229m (865.6 sqm) - 12' 4\" x 751' 3\" (9317 sqft)\n",
      "Kitchen                       6.1m x 3.2m (19.5 sqm) - 20' x 10' 5\" (210 sqft)\n",
      "Kitchen                       2.41m x 3.2m (7.7 sqm) - 7' 10\" x 10' 5\" (83 sqft)\n",
      "Kitchen /  Dining Room        3.67m x 3.95m (14.4 sqm) - 12' x 12' 11\" (156 sqft)\n",
      "Kitchen Diner                 5.7m x 3.02m (17.2 sqm) - 18' 8\" x 9' 10\" (185 sqft)\n",
      "Kitchen Area                  3.38m x 1.53m (5.1 sqm) - 11' 1\" x 5' (55 sqft)\n",
      "Kitchen Area                  3.38m x 1.53m (5.1 sqm) - 11' 1\" x 5' (55 sqft)\n",
      "Kitchen Area                  3.38m x 1.53m (5.1 sqm) - 11' 1\" x 5' (55 sqft)\n",
      "Kitchen Area                  3.38m x 1.53m (5.1 sqm) - 11' 1\" x 5' (55 sqft)\n",
      "Kitchen Area                  3.38m x 1.53m (5.1 sqm) - 11' 1\" x 5' (55 sqft)\n",
      "Kitchen                       2.41m x 3.2m (7.7 sqm) - 7' 10\" x 10' 5\" (83 sqft)\n",
      "Kitchen                       2.45m x 2.44m (5.9 sqm) - 8' x 8' (64 sqft)\n",
      "Kitchen                       2.45m x 2.44m (5.9 sqm) - 8' x 8' (64 sqft)\n",
      "Kitchen                       2.41m x 3.2m (7.7 sqm) - 7' 10\" x 10' 5\" (83 sqft)\n",
      "Kitchen                       2.41m x 3.2m (7.7 sqm) - 7' 10\" x 10' 5\" (83 sqft)\n",
      "Kitchen                       2.41m x 3.2m (7.7 sqm) - 7' 10\" x 10' 5\" (83 sqft)\n",
      "Kitchen Area                  3.38m x 1.53m (5.1 sqm) - 11' 1\" x 5' (55 sqft)\n",
      "Kitchen                       2.45m x 2.44m (5.9 sqm) - 8' x 8' (64 sqft)\n",
      "Kitchen Area                  3.38m x 1.53m (5.1 sqm) - 11' 1\" x 5' (55 sqft)\n",
      "Kitchen Diner                 3.73m x 2.45m (9.1 sqm) - 12' 2\" x 8' (98 sqft)\n",
      "Kitchen Diner                 3.73m x 2.45m (9.1 sqm) - 12' 2\" x 8' (98 sqft)\n",
      "Kitchen Diner                 3.73m x 2.45m (9.1 sqm) - 12' 2\" x 8' (98 sqft)\n",
      "Kitchen Diner                 3.73m x 2.45m (9.1 sqm) - 12' 2\" x 8' (98 sqft)\n",
      "Kitchen                       2.41m x 3.2m (7.7 sqm) - 7' 10\" x 10' 5\" (83 sqft)\n",
      "Kitchen                       2.41m x 3.2m (7.7 sqm) - 7' 10\" x 10' 5\" (83 sqft)\n",
      "Kitchen                       3.6m x 3.29m (11.8 sqm) - 11' 9\" x 10' 9\" (127 sqft)\n",
      "Kitchen                       3.6m x 3.29m (11.8 sqm) - 11' 9\" x 10' 9\" (127 sqft)\n",
      "Kitchen /  Dining Room        2.42m x 5.24m (12.6 sqm) - 7' 11\" x 17' 2\" (136 sqft)\n",
      "Kitchen                       4.22m x 2.11m (8.9 sqm) - 13' 10\" x 6' 11\" (95 sqft)\n",
      "Kitchen                       4.8m x 2.69m (12.9 sqm) - 15' 9\" x 8' 9\" (139 sqft)\n",
      "Kitchen                       3.87m x 2.17m (8.3 sqm) - 12' 8\" x 7' 1\" (90 sqft)\n",
      "Kitchen /  Dining Room        2.46m x 4.51m (11 sqm) - 8' x 14' 9\" (119 sqft)\n",
      "Kitchen                       4.19m x 1.82m (7.6 sqm) - 13' 8\" x 5' 11\" (82 sqft)\n",
      "Kitchen /  Dining Room        3.21m x 4.59m (14.7 sqm) - 10' 6\" x 15' 1\" (158 sqft)\n",
      "Kitchen                       4.23m x 4.74m (20 sqm) - 13' 10\" x 15' 6\" (215 sqft)\n",
      "Kitchen Diner                 6.49m x 3.16m (20.5 sqm) - 21' 3\" x 10' 4\" (220 sqft)\n",
      "Kitchen                       5.73m x 2.87m (16.4 sqm) - 18' 9\" x 9' 4\" (177 sqft)\n",
      "Kitchen /  Dining Room        5.52m x 2.49m (13.7 sqm) - 18' 1\" x 8' 2\" (147 sqft)\n",
      "Kitchen Diner                 5.65m x 3.76m (21.2 sqm) - 18' 6\" x 12' 4\" (228 sqft)\n",
      "Kitchen                       2.7m x 3.94m (10.6 sqm) - 8' 10\" x 12' 11\" (114 sqft)\n",
      "Kitchen Diner                 3.01m x 4.62m (13.9 sqm) - 9' 10\" x 15' 1\" (149 sqft)\n",
      "Kitchen                       2.88m x 2.91m (8.3 sqm) - 9' 5\" x 9' 6\" (90 sqft)\n",
      "Kitchen /  Dining Room        3.21m x 4.59m (14.7 sqm) - 10' 6\" x 15' 1\" (158 sqft)\n",
      "Kitchen                       4.2m x 2.85m (11.9 sqm) - 13' 9\" x 9' 4\" (128 sqft)\n",
      "Kitchen /  Dining Room        6.03m x 2.73m (16.4 sqm) - 19' 9\" x 8' 11\" (177 sqft)\n",
      "Kitchen                       4.18m x 2.6m (10.8 sqm) - 13' 8\" x 8' 6\" (116 sqft)\n",
      "Kitchen                       2.99m x 3.91m (11.6 sqm) - 9' 9\" x 12' 9\" (125 sqft)\n",
      "Kitchen                       3.9m x 2.18m (8.5 sqm) - 12' 9\" x 7' 1\" (91 sqft)\n",
      "Kitchen Diner                 4.84m x 3.09m (14.9 sqm) - 15' 10\" x 10' 1\" (160 sqft)\n",
      "Kitchen                       1.95m x 4.25m (8.2 sqm) - 6' 4\" x 13' 11\" (89 sqft)\n",
      "Kitchen /  Dining Room        6.06m x 5.3m (32.1 sqm) - 19' 10\" x 17' 4\" (345 sqft)\n",
      "Kitchen                       2.61m x 2.15m (5.6 sqm) - 8' 6\" x 7' (60 sqft)\n",
      "Kitchen                       1\n",
      "Kitchen                       1\n",
      "Kitchen                       2.87m x 2.34m (6.7 sqm) - 9' 4\" x 7' 8\" (72 sqft)\n",
      "Kitchen                       3.65m x 2.58m (9.4 sqm) - 11' 11\" x 8' 5\" (101 sqft)\n",
      "Kitchen Area                  2.5m x 2.34m (5.8 sqm) - 8' 2\" x 7' 8\" (62 sqft)\n",
      "Kitchen Area                  3.5m x 2.6m (9.1 sqm) - 11' 5\" x 8' 6\" (97 sqft)\n",
      "Kitchen                       5.16m x 2.81m (14.4 sqm) - 16' 11\" x 9' 2\" (156 sqft)\n",
      "Kitchen                       3.13m x 1.89m (5.9 sqm) - 10' 3\" x 6' 2\" (63 sqft)\n",
      "Kitchen                       3.6m x 2.35m (8.4 sqm) - 11' 9\" x 7' 8\" (91 sqft)\n",
      "Kitchen                       3.4m x 2m (6.8 sqm) - 11' 1\" x 6' 6\" (73 sqft)\n",
      "Kitchen                       2.76m x 3.17m (8.7 sqm) - 9' x 10' 4\" (94 sqft)\n",
      "Kitchen                       3.65m x 3.53m (12.8 sqm) - 11' 11\" x 11' 6\" (138 sqft)\n",
      "Kitchen /  Dining Room        5.98m x 2.86m (17.1 sqm) - 19' 7\" x 9' 4\" (184 sqft)\n",
      "Kitchen /  Dining Room        1\n",
      "Kitchen                       1\n",
      "Kitchen                       3.73m x 3m (11.1 sqm) - 12' 2\" x 9' 10\" (120 sqft)\n",
      "Kitchen                       1\n",
      "Kitchen                       1\n",
      "Kitchen                       3.02m x 2.2m (6.6 sqm) - 9' 10\" x 7' 2\" (71 sqft)\n",
      "Kitchen                       4.93m x 3.05m (15 sqm) - 16' 2\" x 10' (161 sqft)\n",
      "Kitchen                       2.61m x 1.51m (3.9 sqm) - 8' 6\" x 4' 11\" (42 sqft)\n",
      "Kitchen /  Dining Room        3.36m x 3.55m (11.9 sqm) - 11' x 11' 7\" (128 sqft)\n",
      "Kitchen                       3.1m x 3.2m (9.9 sqm) - 10' 2\" x 10' 5\" (106 sqft)\n",
      "Kitchen /  Dining Room        4.04m x 4.98m (20.1 sqm) - 13' 3\" x 16' 4\" (216 sqft)\n",
      "Kitchen                       3.44m x 2.25m (7.7 sqm) - 11' 3\" x 7' 4\" (83 sqft)\n",
      "Kitchen Diner                 4.8m x 2.73m (13.1 sqm) - 15' 8\" x 8' 11\" (141 sqft)\n",
      "Kitchen                       1\n",
      "Kitchen                       3.53m x 4.45m (15.7 sqm) - 11' 6\" x 14' 7\" (169 sqft)\n",
      "Kitchen                       1\n",
      "Kitchen / Breakfast Room      5.44m x 3.35m (18.2 sqm) - 17' 10\" x 10' 11\" (196 sqft)\n",
      "Kitchen                       3.46m x 2.02m (6.9 sqm) - 11' 4\" x 6' 7\" (75 sqft)\n",
      "Kitchen                       3.17m x 2.76m (8.7 sqm) - 10' 4\" x 9' (94 sqft)\n",
      "Kitchen / Breakfast Room      5.16m x 2.86m (14.7 sqm) - 16' 11\" x 9' 4\" (158 sqft)\n",
      "Family Living Kitchen         5.8m x 3.3m (19.1 sqm) - 19' x 10' 9\" (206 sqft)\n",
      "Kitchen                       1\n",
      "Kitchen /  Dining Room        3.46m x 5.22m (18 sqm) - 11' 4\" x 17' 1\" (194 sqft)\n",
      "Kitchen /  Dining Room        4.55m x 4.66m (21.2 sqm) - 14' 11\" x 15' 3\" (228 sqft)\n",
      "Kitchen /  Dining Room        3.62m x 4.73m (17.1 sqm) - 11' 10\" x 15' 6\" (184 sqft)\n",
      "Kitchen                       1\n",
      "Kitchen                       1\n",
      "Kitchen                       1\n",
      "Kitchen                       3.4m x 2.4m (8.1 sqm) - 11' 1\" x 7' 10\" (87 sqft)\n",
      "Kitchen /  Dining Room        4.84m x 3.82m (18.5 sqm) - 15' 10\" x 12' 6\" (199 sqft)\n",
      "Kitchen Area                  1\n",
      "Kitchen                       3.31m x 3.76m (12.4 sqm) - 10' 10\" x 12' 4\" (133 sqft)\n",
      "Kitchen /  Dining Room        4.11m x 2.62m (10.7 sqm) - 13' 5\" x 8' 7\" (115 sqft)\n",
      "Kitchen                       4.17m x 2.31m (9.6 sqm) - 13' 8\" x 7' 6\" (103 sqft)\n",
      "Open Plan Living Room / Kitchen4.16m x 5.17m (21.5 sqm) - 13' 7\" x 16' 11\" (231 sqft)\n",
      "Kitchen /  Dining Room        3.11m x 5.18m (16.1 sqm) - 10' 2\" x 16' 11\" (173 sqft)\n",
      "Kitchen                       2.97m x 4.43m (13.1 sqm) - 9' 8\" x 14' 6\" (141 sqft)\n",
      "Kitchen                       6.88m x 1.92m (13.2 sqm) - 22' 6\" x 6' 3\" (142 sqft)\n",
      "Kitchen                       2.54m x 1.87m (4.7 sqm) - 8' 4\" x 6' 1\" (51 sqft)\n",
      "Kitchen /  Dining Room        3.1m x 4m (12.4 sqm) - 10' 2\" x 13' 1\" (133 sqft)\n",
      "Kitchen                       4.3m x 3.73m (16 sqm) - 14' 1\" x 12' 2\" (173 sqft)\n",
      "Kitchen                       2.48m x 3.72m (9.2 sqm) - 8' 1\" x 12' 2\" (99 sqft)\n",
      "Kitchen /  Dining Room        4.63m x 4.38m (20.3 sqm) - 15' 2\" x 14' 4\" (218 sqft)\n",
      "Kitchen /  Dining Room        3.17m x 4.45m (14.1 sqm) - 10' 4\" x 14' 7\" (151 sqft)\n",
      "Kitchen                       2.92m x 2.91m (8.4 sqm) - 9' 6\" x 9' 6\" (91 sqft)\n",
      "Kitchen                       2.92m x 2.91m (8.4 sqm) - 9' 6\" x 9' 6\" (91 sqft)\n",
      "Kitchen                       2.75m x 1.83m (5 sqm) - 9' x 6' (54 sqft)\n",
      "Kitchen                       2.86m x 2.46m (7 sqm) - 9' 4\" x 8' (75 sqft)\n",
      "Kitchen                       4.84m x 2.82m (13.6 sqm) - 15' 10\" x 9' 3\" (147 sqft)\n",
      "Kitchen                       3.28m x 2.41m (7.9 sqm) - 10' 9\" x 7' 10\" (85 sqft)\n",
      "Kitchen                       2.94m x 2.99m (8.7 sqm) - 9' 7\" x 9' 9\" (94 sqft)\n",
      "Kitchen                       2.35m x 2.64m (6.2 sqm) - 7' 8\" x 8' 7\" (66 sqft)\n",
      "Kitchen                       2.82m x 2.08m (5.8 sqm) - 9' 3\" x 6' 9\" (63 sqft)\n",
      "Kitchen /  Dining Room        3.45m x 5.45m (18.8 sqm) - 11' 3\" x 17' 10\" (202 sqft)\n",
      "Kitchen                       3.58m x 2.5m (8.9 sqm) - 11' 8\" x 8' 2\" (96 sqft)\n",
      "Kitchen                       1\n",
      "Kitchen /  Dining Room        9.24m x 2.64m (24.3 sqm) - 30' 3\" x 8' 7\" (262 sqft)\n",
      "Kitchen / Breakfast Room      2.73m x 5.35m (14.6 sqm) - 8' 11\" x 17' 6\" (157 sqft)\n",
      "Kitchen                       4.03m x 3.31m (13.3 sqm) - 13' 2\" x 10' 10\" (143 sqft)\n",
      "Kitchen                       2.49m x 3.84m (9.5 sqm) - 8' 2\" x 12' 7\" (102 sqft)\n",
      "Kitchen                       2.57m x 2.41m (6.1 sqm) - 8' 5\" x 7' 10\" (66 sqft)\n",
      "Kitchen                       2.62m x 3.64m (9.5 sqm) - 8' 7\" x 11' 11\" (102 sqft)\n",
      "Kitchen                       1\n",
      "Kitchen / Breakfast Room      5.72m x 3.12m (17.8 sqm) - 18' 9\" x 10' 2\" (192 sqft)\n",
      "Kitchen /  Dining Room        7.35m x 4.08m (29.9 sqm) - 24' 1\" x 13' 4\" (322 sqft)\n",
      "Kitchen                       1\n",
      "Kitchen                       2.6m x 2.29m (5.9 sqm) - 8' 6\" x 7' 6\" (64 sqft)\n",
      "Kitchen                       3.07m x 2.39m (7.3 sqm) - 10' x 7' 10\" (78 sqft)\n",
      "Kitchen / Breakfast Room      5.59m x 2.82m (15.7 sqm) - 18' 4\" x 9' 3\" (169 sqft)\n",
      "Kitchen                       3.14m x 2.74m (8.6 sqm) - 10' 3\" x 8' 11\" (92 sqft)\n",
      "Kitchen                       2.67m x 2.5m (6.7 sqm) - 8' 9\" x 8' 2\" (72 sqft)\n",
      "Kitchen /  Dining Room        4.11m x 2.57m (10.5 sqm) - 13' 5\" x 8' 5\" (113 sqft)\n",
      "Kitchen                       1\n",
      "Kitchen                       2.67m x 2.24m (5.9 sqm) - 8' 9\" x 7' 4\" (64 sqft)\n",
      "Kitchen                       1\n",
      "Open Plan Living Room / Kitchen6.44m x 5.72m (36.8 sqm) - 21' 1\" x 18' 9\" (396 sqft)\n",
      "Kitchen                       1\n",
      "Kitchen                       3.66m x 2.06m (7.5 sqm) - 12' x 6' 9\" (81 sqft)\n",
      "Kitchen                       3.76m x 3.72m (13.9 sqm) - 12' 4\" x 12' 2\" (150 sqft)\n",
      "Kitchen                       2.1m x 4.21m (8.8 sqm) - 6' 10\" x 13' 9\" (95 sqft)\n",
      "Kitchen                       4.09m x 2.4m (9.8 sqm) - 13' 5\" x 7' 10\" (105 sqft)\n",
      "Kitchen                       3.27m x 1.55m (5 sqm) - 10' 8\" x 5' 1\" (54 sqft)\n",
      "Kitchen /  Dining Room        2.72m x 4.45m (12.1 sqm) - 8' 11\" x 14' 7\" (130 sqft)\n",
      "Kitchen                       3.18m x 2.27m (7.2 sqm) - 10' 5\" x 7' 5\" (78 sqft)\n",
      "Kitchen                       4.96m x 2.06m (10.2 sqm) - 16' 3\" x 6' 9\" (109 sqft)\n",
      "Kitchen                       3.09m x 3.88m (11.9 sqm) - 10' 1\" x 12' 8\" (129 sqft)\n",
      "Kitchen                       3.37m x 2.29m (7.7 sqm) - 11' x 7' 6\" (83 sqft)\n",
      "Kitchen                       3.28m x 2.76m (9 sqm) - 10' 9\" x 9' (97 sqft)\n",
      "Kitchen                       3.26m x 3m (9.7 sqm) - 10' 8\" x 9' 10\" (105 sqft)\n",
      "Kitchen Diner                 3.93m x 2.63m (10.3 sqm) - 12' 10\" x 8' 7\" (111 sqft)\n",
      "Kitchen                       2.97m x 2.77m (8.2 sqm) - 9' 8\" x 9' 1\" (88 sqft)\n",
      "Kitchen /  Dining Room        5.92m x 3.27m (19.3 sqm) - 19' 5\" x 10' 8\" (208 sqft)\n",
      "Kitchen                       3.16m x 2.85m (9 sqm) - 10' 4\" x 9' 4\" (96 sqft)\n",
      "Kitchen                       3.32m x 3.67m (12.1 sqm) - 10' 10\" x 12' (131 sqft)\n",
      "Kitchen / Breakfast Room      3.02m x 2.82m (8.5 sqm) - 9' 10\" x 9' 3\" (91 sqft)\n",
      "Kitchen                       2.79m x 6.09m (16.9 sqm) - 9' 1\" x 19' 11\" (182 sqft)\n",
      "Kitchen / Breakfast Room      3.06m x 4.58m (14 sqm) - 10' x 15' (150 sqft)\n",
      "Kitchen                       5.01m x 2.24m (11.2 sqm) - 16' 5\" x 7' 4\" (120 sqft)\n",
      "Kitchen /  Dining Room        5.6m x 3.7m (20.7 sqm) - 18' 4\" x 12' 1\" (223 sqft)\n",
      "Kitchen                       4m x 3.5m (14 sqm) - 13' 1\" x 11' 5\" (150 sqft)\n",
      "Kitchen                       4.4m x 2.5m (11 sqm) - 14' 5\" x 8' 2\" (118 sqft)\n",
      "Kitchen                       3.1m x 2.8m (8.6 sqm) - 10' 2\" x 9' 2\" (93 sqft)\n",
      "Family Kitchen                5.09m x 3.5m (17.8 sqm) - 16' 8\" x 11' 5\" (192 sqft)\n",
      "Kitchen                       3m x 3m (9 sqm) - 9' 10\" x 9' 10\" (96 sqft)\n",
      "Kitchen /  Dining Room        5m x 4.8m (24 sqm) - 16' 4\" x 15' 8\" (258 sqft)\n",
      "Kitchen                       4m x 2.7m (10.8 sqm) - 13' 1\" x 8' 10\" (116 sqft)\n",
      "Kitchen /  Dining Room        4m x 3.3m (13.2 sqm) - 13' 1\" x 10' 9\" (142 sqft)\n",
      "Kitchen                       5.4m x 2.6m (14 sqm) - 17' 8\" x 8' 6\" (151 sqft)\n",
      "Kitchen                       4m x 2.29m (9.2 sqm) - 13' 1\" x 7' 6\" (99 sqft)\n",
      "Family Living Kitchen         10.4m x 4.2m (43.6 sqm) - 34' 1\" x 13' 9\" (470 sqft)\n",
      "Kitchen                       3.8m x 2.4m (9.1 sqm) - 12' 5\" x 7' 10\" (98 sqft)\n",
      "Kitchen Diner                 4m x 3m (12 sqm) - 13' 1\" x 9' 10\" (129 sqft)\n",
      "Kitchen                       4.3m x 2.6m (11.1 sqm) - 14' 1\" x 8' 6\" (120 sqft)\n",
      "Kitchen /  Dining Room        5.5m x 3.1m (17 sqm) - 18' x 10' 2\" (183 sqft)\n",
      "Kitchen / Breakfast Room      3.2m x 3m (9.6 sqm) - 10' 5\" x 9' 10\" (103 sqft)\n",
      "Kitchen Diner                 4m x 35m (140 sqm) - 13' 1\" x 114' 9\" (1506 sqft)\n",
      "Kitchen                       3m x 2.7m (8.1 sqm) - 9' 10\" x 8' 10\" (87 sqft)\n",
      "Kitchen Diner                 5.6m x 3m (16.8 sqm) - 18' 4\" x 9' 10\" (180 sqft)\n",
      "Open Plan Dining/Kitchen/Family Room6.7m x 3.5m (23.4 sqm) - 21' 11\" x 11' 5\" (252 sqft)\n",
      "Kitchen Diner                 5.6m x 3m (16.8 sqm) - 18' 4\" x 9' 10\" (180 sqft)\n",
      "Kitchen Diner                 5.7m x 3m (17.1 sqm) - 18' 8\" x 9' 10\" (184 sqft)\n",
      "Kitchen Diner                 4.09m x 4.59m (18.8 sqm) - 13' 5\" x 15' 1\" (203 sqft)\n",
      "Kitchen                       4m x 2.8m (11.2 sqm) - 13' 1\" x 9' 2\" (120 sqft)\n",
      "Kitchen Diner                 5.6m x 3m (16.8 sqm) - 18' 4\" x 9' 10\" (180 sqft)\n",
      "Kitchen Diner                 4m x 4m (16 sqm) - 13' 1\" x 13' 1\" (172 sqft)\n",
      "Kitchen                       3.2m x 3m (9.6 sqm) - 10' 5\" x 9' 10\" (103 sqft)\n",
      "Family Living Kitchen         6.3m x 6.1m (38.4 sqm) - 20' 8\" x 20' (413 sqft)\n",
      "Kitchen Diner                 5.09m x 4.5m (22.9 sqm) - 16' 8\" x 14' 9\" (247 sqft)\n",
      "Kitchen Diner                 4.3m x 2.8m (12 sqm) - 14' 1\" x 9' 2\" (129 sqft)\n",
      "Kitchen Diner                 4.5m x 3.5m (15.7 sqm) - 14' 9\" x 11' 5\" (169 sqft)\n",
      "Kitchen Diner                 7m x 3m (21 sqm) - 22' 11\" x 9' 10\" (226 sqft)\n",
      "Kitchen                       4.4m x 2.8m (12.3 sqm) - 14' 5\" x 9' 2\" (132 sqft)\n",
      "Kitchen Diner                 4.3m x 3.1m (13.3 sqm) - 14' 1\" x 10' 2\" (143 sqft)\n",
      "Kitchen                       4.7m x 2.4m (11.2 sqm) - 15' 5\" x 7' 10\" (121 sqft)\n",
      "Kitchen Diner                 5.09m x 3.2m (16.3 sqm) - 16' 8\" x 10' 5\" (175 sqft)\n",
      "Kitchen                       4.09m x 2.6m (10.6 sqm) - 13' 5\" x 8' 6\" (114 sqft)\n",
      "Kitchen                       3m x 2.7m (8.1 sqm) - 9' 10\" x 8' 10\" (87 sqft)\n",
      "Family Kitchen                4m x 3.3m (13.2 sqm) - 13' 1\" x 10' 9\" (142 sqft)\n",
      "Kitchen Diner                 5.8m x 4.2m (24.3 sqm) - 19' x 13' 9\" (262 sqft)\n",
      "Kitchen Diner                 5.09m x 3.4m (17.3 sqm) - 16' 8\" x 11' 1\" (186 sqft)\n",
      "Kitchen Diner                 5.4m x 2.5m (13.5 sqm) - 17' 8\" x 8' 2\" (145 sqft)\n",
      "Kitchen                       3.3m x 2.5m (8.2 sqm) - 10' 9\" x 8' 2\" (88 sqft)\n",
      "Kitchen Area                  3.5m x 2.4m (8.4 sqm) - 11' 5\" x 7' 10\" (90 sqft)\n",
      "Kitchen                       3m x 2.4m (7.2 sqm) - 9' 10\" x 7' 10\" (77 sqft)\n",
      "Kitchen /  Dining Room        4.5m x 3m (13.5 sqm) - 14' 9\" x 9' 10\" (145 sqft)\n",
      "Kitchen Diner                 5.5m x 4m (22 sqm) - 18' x 13' 1\" (236 sqft)\n",
      "Kitchen /  Dining Room        7m x 3m (21 sqm) - 22' 11\" x 9' 10\" (226 sqft)\n",
      "Kitchen Diner                 6m x 3m (18 sqm) - 19' 8\" x 9' 10\" (193 sqft)\n",
      "Kitchen                       3.2m x 3m (9.6 sqm) - 10' 5\" x 9' 10\" (103 sqft)\n",
      "Kitchen                       3.1m x 2.7m (8.3 sqm) - 10' 2\" x 8' 10\" (90 sqft)\n",
      "Kitchen Diner                 7m x 2.7m (18.9 sqm) - 22' 11\" x 8' 10\" (203 sqft)\n",
      "Kitchen /  Dining Room        4.2m x 3.13m (13.1 sqm) - 13' 9\" x 10' 3\" (141 sqft)\n",
      "Kitchen / Breakfast Room      5.51m x 3.84m (21.1 sqm) - 18' x 12' 7\" (227 sqft)\n",
      "Kitchen                       3.57m x 2.33m (8.3 sqm) - 11' 8\" x 7' 7\" (89 sqft)\n",
      "Kitchen                       3.65m x 2.54m (9.3 sqm) - 11' 11\" x 8' 4\" (100 sqft)\n",
      "Open Plan Living Room / Kitchen7.8m x 4.7m (36.6 sqm) - 25' 7\" x 15' 5\" (394 sqft)\n",
      "Kitchen                       3.11m x 3.72m (11.5 sqm) - 10' 2\" x 12' 2\" (124 sqft)\n",
      "Kitchen                       3.85m x 3.32m (12.7 sqm) - 12' 7\" x 10' 10\" (137 sqft)\n",
      "Kitchen                       2.7m x 2.65m (7.1 sqm) - 8' 10\" x 8' 8\" (77 sqft)\n",
      "Kitchen                       2.5m x 2.49m (6.2 sqm) - 8' 2\" x 8' 2\" (67 sqft)\n",
      "Open Plan Living Room / Kitchen8.1m x 3.61m (29.2 sqm) - 26' 6\" x 11' 10\" (314 sqft)\n",
      "Kitchen /  Dining Room        4.7m x 2.9m (13.6 sqm) - 15' 5\" x 9' 6\" (146 sqft)\n",
      "Kitchen Diner                 5.03m x 3.9m (19.6 sqm) - 16' 6\" x 12' 9\" (211 sqft)\n",
      "Kitchen                       3.56m x 2.98m (10.6 sqm) - 11' 8\" x 9' 9\" (114 sqft)\n",
      "Kitchen / Breakfast Room      5.32m x 2.68m (14.2 sqm) - 17' 5\" x 8' 9\" (153 sqft)\n",
      "Kitchen /  Dining Room        4.61m x 4.51m (20.7 sqm) - 15' 1\" x 14' 9\" (223 sqft)\n",
      "Open Plan Dining /  Kitchen   6.06m x 5.56m (33.6 sqm) - 19' 10\" x 18' 2\" (362 sqft)\n",
      "Kitchen /  Dining Room        5.24m x 2.56m (13.4 sqm) - 17' 2\" x 8' 4\" (144 sqft)\n",
      "Kitchen / Breakfast Room      4.86m x 3m (14.5 sqm) - 15' 11\" x 9' 10\" (156 sqft)\n",
      "Kitchen                       2.7m x 2.64m (7.1 sqm) - 8' 10\" x 8' 7\" (76 sqft)\n",
      "Kitchen Diner                 3.06m x 2.84m (8.6 sqm) - 10' x 9' 3\" (93 sqft)\n",
      "Open Plan Living Kitchen      7.42m x 4.18m (31 sqm) - 24' 4\" x 13' 8\" (333 sqft)\n",
      "Kitchen                       3.12m x 2.78m (8.6 sqm) - 10' 2\" x 9' 1\" (93 sqft)\n",
      "Kitchen / Breakfast Room      2.68m x 2.06m (5.5 sqm) - 8' 9\" x 6' 9\" (59 sqft)\n",
      "Kitchen /  Dining Room        3.75m x 2.36m (8.8 sqm) - 12' 3\" x 7' 8\" (95 sqft)\n",
      "Kitchen /  Dining Room        5.4m x 4.09m (22.1 sqm) - 17' 8\" x 13' 5\" (238 sqft)\n",
      "Kitchen                       4m x 2.29m (9.2 sqm) - 13' 1\" x 7' 6\" (99 sqft)\n",
      "Kitchen                       3.7m x 3.3m (12.2 sqm) - 12' 1\" x 10' 9\" (131 sqft)\n",
      "Kitchen/Dining/Living Room    5.9m x 4.82m (28.4 sqm) - 19' 4\" x 15' 9\" (306 sqft)\n",
      "Kitchen                       2.2m x 4.86m (10.6 sqm) - 7' 2\" x 15' 11\" (115 sqft)\n",
      "Breakfast Kitchen             4.87m x 3.02m (14.7 sqm) - 15' 11\" x 9' 10\" (158 sqft)\n",
      "Kitchen                       4.47m x 2.79m (12.4 sqm) - 14' 7\" x 9' 1\" (134 sqft)\n",
      "Family Living Kitchen         5.49m x 4.05m (22.2 sqm) - 18' x 13' 3\" (239 sqft)\n",
      "Kitchen /  Dining Room        5.97m x 4.79m (28.5 sqm) - 19' 7\" x 15' 8\" (307 sqft)\n",
      "Kitchen / Breakfast Room      4.07m x 6.12m (24.9 sqm) - 13' 4\" x 20' (268 sqft)\n",
      "Kitchen /  Dining Room        5.34m x 4.2m (22.4 sqm) - 17' 6\" x 13' 9\" (241 sqft)\n",
      "Kitchen                       2.95m x 1.99m (5.8 sqm) - 9' 8\" x 6' 6\" (63 sqft)\n",
      "Open Plan Living Room / Kitchen5m x 4.37m (21.8 sqm) - 16' 4\" x 14' 4\" (235 sqft)\n",
      "Kitchen / Breakfast Room      2.93m x 4.4m (12.8 sqm) - 9' 7\" x 14' 5\" (138 sqft)\n",
      "Kitchen                       4.61m x 2.86m (13.1 sqm) - 15' 1\" x 9' 4\" (141 sqft)\n",
      "Kitchen /  Dining Room        3.63m x 4.95m (17.9 sqm) - 11' 10\" x 16' 2\" (193 sqft)\n",
      "Kitchen                       3.82m x 2.54m (9.7 sqm) - 12' 6\" x 8' 4\" (104 sqft)\n",
      "Kitchen                       3.92m x 1.96m (7.6 sqm) - 12' 10\" x 6' 5\" (82 sqft)\n",
      "Kitchen                       3.07m x 2.31m (7 sqm) - 10' x 7' 6\" (76 sqft)\n",
      "Kitchen                       3.15m x 3.08m (9.7 sqm) - 10' 4\" x 10' 1\" (104 sqft)\n",
      "Kitchen                       3.41m x 2.5m (8.5 sqm) - 11' 2\" x 8' 2\" (91 sqft)\n",
      "Kitchen                       4.4m x 2.7m (11.8 sqm) - 14' 5\" x 8' 10\" (127 sqft)\n",
      "Kitchen                       2.95m x 3.45m (10.1 sqm) - 9' 8\" x 11' 3\" (109 sqft)\n",
      "Kitchen /  Dining Room        6.2m x 3.2m (19.8 sqm) - 20' 4\" x 10' 5\" (213 sqft)\n",
      "Kitchen /  Dining Room        8.46m x 6.17m (52.1 sqm) - 27' 9\" x 20' 2\" (561 sqft)\n",
      "Kitchen /  Dining Room        8.46m x 6.17m (52.1 sqm) - 27' 9\" x 20' 2\" (561 sqft)\n",
      "Kitchen                       4.8m x 2.18m (10.4 sqm) - 15' 8\" x 7' 1\" (112 sqft)\n",
      "Kitchen                       3.6m x 2.1m (7.5 sqm) - 11' 9\" x 6' 10\" (81 sqft)\n",
      "Kitchen                       3.06m x 3.65m (11.1 sqm) - 10' x 11' 11\" (120 sqft)\n",
      "Kitchen                       5.3m x 3.24m (17.1 sqm) - 17' 4\" x 10' 7\" (184 sqft)\n",
      "Kitchen                       3.07m x 1.73m (5.3 sqm) - 10' x 5' 8\" (57 sqft)\n",
      "Kitchen                       3.21m x 1.94m (6.2 sqm) - 10' 6\" x 6' 4\" (67 sqft)\n",
      "Kitchen                       5.3m x 3.24m (17.1 sqm) - 17' 4\" x 10' 7\" (184 sqft)\n",
      "Kitchen                       4.22m x 3.79m (15.9 sqm) - 13' 10\" x 12' 5\" (172 sqft)\n",
      "Kitchen                       4.4m x 2m (8.8 sqm) - 14' 5\" x 6' 6\" (94 sqft)\n",
      "Open Plan Living Room / Kitchen7.08m x 3.72m (26.3 sqm) - 23' 2\" x 12' 2\" (283 sqft)\n",
      "Kitchen                       2.6m x 2.2m (5.7 sqm) - 8' 6\" x 7' 2\" (61 sqft)\n",
      "Kitchen                       2.56m x 5.36m (13.7 sqm) - 8' 4\" x 17' 7\" (147 sqft)\n",
      "Kitchen / Breakfast Room      3.6m x 3m (10.8 sqm) - 11' 9\" x 9' 10\" (116 sqft)\n",
      "Kitchen                       3.18m x 4.68m (14.8 sqm) - 10' 5\" x 15' 4\" (160 sqft)\n",
      "Kitchen                       2.6m x 2.2m (5.7 sqm) - 8' 6\" x 7' 2\" (61 sqft)\n",
      "Kitchen / Breakfast Room      2.54m x 4.45m (11.3 sqm) - 8' 4\" x 14' 7\" (122 sqft)\n",
      "Kitchen                       3.27m x 2.43m (7.9 sqm) - 10' 8\" x 7' 11\" (85 sqft)\n",
      "Kitchen                       3.88m x 2.76m (10.7 sqm) - 12' 8\" x 9' (115 sqft)\n",
      "Kitchen / Breakfast Room      2.54m x 4.45m (11.3 sqm) - 8' 4\" x 14' 7\" (122 sqft)\n",
      "Kitchen / Breakfast Room      3.6m x 3m (10.8 sqm) - 11' 9\" x 9' 10\" (116 sqft)\n",
      "Kitchen                       2.85m x 2.06m (5.8 sqm) - 9' 4\" x 6' 9\" (63 sqft)\n",
      "Kitchen                       2.67m x 2.54m (6.8 sqm) - 8' 9\" x 8' 4\" (73 sqft)\n",
      "Kitchen Diner                 4.26m x 2.44m (10.3 sqm) - 13' 11\" x 8' (111 sqft)\n",
      "Kitchen                       1\n",
      "Kitchen                       1\n",
      "Kitchen                       5.55m x 2.14m (11.8 sqm) - 18' 2\" x 7' (127 sqft)\n",
      "Kitchen /  Dining Room        4.2m x 2.4m (10 sqm) - 13' 9\" x 7' 10\" (108 sqft)\n",
      "Kitchen / Breakfast Room      1\n",
      "Kitchen                       3.3m x 4.25m (14 sqm) - 10' 9\" x 13' 11\" (150 sqft)\n",
      "Kitchen /  Dining Room        4m x 4m (16 sqm) - 13' 1\" x 13' 1\" (172 sqft)\n",
      "Kitchen                       2.91m x 2.56m (7.4 sqm) - 9' 6\" x 8' 4\" (80 sqft)\n",
      "Kitchen                       3m x 1.9m (5.7 sqm) - 9' 10\" x 6' 2\" (61 sqft)\n",
      "Kitchen                       3.15m x 4.34m (13.7 sqm) - 10' 4\" x 14' 3\" (147 sqft)\n",
      "Kitchen /  Dining Room        4m x 2.46m (9.8 sqm) - 13' 1\" x 8' (105 sqft)\n",
      "Kitchen                       1\n",
      "Kitchen                       1\n",
      "Kitchen                       4.32m x 2.84m (12.2 sqm) - 14' 2\" x 9' 3\" (132 sqft)\n",
      "Kitchen                       3.22m x 2.33m (7.5 sqm) - 10' 6\" x 7' 7\" (80 sqft)\n",
      "Kitchen                       4.33m x 3.85m (16.6 sqm) - 14' 2\" x 12' 7\" (179 sqft)\n",
      "Kitchen                       2.87m x 2.25m (6.4 sqm) - 9' 4\" x 7' 4\" (69 sqft)\n",
      "Kitchen Diner                 6.68m x 2.95m (19.7 sqm) - 21' 10\" x 9' 8\" (212 sqft)\n",
      "Kitchen Diner                 5.78m x 2.82m (16.2 sqm) - 18' 11\" x 9' 3\" (175 sqft)\n",
      "Kitchen Diner                 5.2m x 5m (26 sqm) - 17' x 16' 4\" (279 sqft)\n",
      "Kitchen                       3.17m x 2.19m (6.9 sqm) - 10' 4\" x 7' 2\" (74 sqft)\n",
      "Kitchen /  Dining Room        5.45m x 3.29m (17.9 sqm) - 17' 10\" x 10' 9\" (193 sqft)\n",
      "Kitchen                       3.38m x 2.4m (8.1 sqm) - 11' 1\" x 7' 10\" (87 sqft)\n",
      "Kitchen                       3.53m x 2.43m (8.5 sqm) - 11' 6\" x 7' 11\" (92 sqft)\n",
      "Kitchen/Dining/Living Room    9.51m x 6.33m (60.1 sqm) - 31' 2\" x 20' 9\" (647 sqft)\n",
      "Kitchen /  Dining Room        5m x 3.65m (18.2 sqm) - 16' 4\" x 11' 11\" (196 sqft)\n",
      "Kitchen                       3.5m x 1.81m (6.3 sqm) - 11' 5\" x 5' 11\" (68 sqft)\n",
      "Kitchen                       3.59m x 2m (7.1 sqm) - 11' 9\" x 6' 6\" (77 sqft)\n",
      "Kitchen /  Dining Room        1\n",
      "Kitchen /  Dining Room        4.79m x 2.42m (11.5 sqm) - 15' 8\" x 7' 11\" (124 sqft)\n",
      "Kitchen                       2.84m x 2.52m (7.1 sqm) - 9' 3\" x 8' 3\" (77 sqft)\n",
      "Kitchen                       1.7m x 3.33m (5.6 sqm) - 5' 6\" x 10' 11\" (60 sqft)\n",
      "Kitchen                       3.14m x 3.13m (9.8 sqm) - 10' 3\" x 10' 3\" (105 sqft)\n",
      "Kitchen                       3.61m x 1.99m (7.1 sqm) - 11' 10\" x 6' 6\" (77 sqft)\n",
      "Kitchen                       2.16m x 2.37m (5.1 sqm) - 7' 1\" x 7' 9\" (55 sqft)\n",
      "Kitchen /  Dining Room        2.45m x 3.7m (9 sqm) - 8' x 12' 1\" (97 sqft)\n",
      "Kitchen /  Dining Room        5.21m x 3.59m (18.7 sqm) - 17' 1\" x 11' 9\" (201 sqft)\n",
      "Kitchen /  Dining Room        7.35m x 2.97m (21.8 sqm) - 24' 1\" x 9' 8\" (234 sqft)\n",
      "Kitchen /  Dining Room        6.15m x 4.3m (26.5 sqm) - 20' 2\" x 14' 1\" (285 sqft)\n",
      "Kitchen                       3.21m x 3.35m (10.7 sqm) - 10' 6\" x 10' 11\" (115 sqft)\n",
      "Kitchen /  Dining Room        2.6m x 4.59m (11.9 sqm) - 8' 6\" x 15' 1\" (128 sqft)\n",
      "Kitchen                       3.57m x 2.33m (8.3 sqm) - 11' 8\" x 7' 7\" (89 sqft)\n",
      "Kitchen /  Dining Room        1\n",
      "Open Plan Living Room / Kitchen5.09m x 3.89m (19.8 sqm) - 16' 8\" x 12' 9\" (213 sqft)\n",
      "Kitchen                       4.17m x 2.19m (9.1 sqm) - 13' 8\" x 7' 2\" (98 sqft)\n",
      "Kitchen/Dining/Living Room    1\n",
      "Kitchen / Breakfast Room      3.7m x 3.6m (13.3 sqm) - 12' 1\" x 11' 9\" (143 sqft)\n",
      "Kitchen                       3.8m x 2.5m (9.5 sqm) - 12' 5\" x 8' 2\" (102 sqft)\n",
      "Kitchen                       3.7m x 2.29m (8.5 sqm) - 12' 1\" x 7' 6\" (91 sqft)\n",
      "Kitchen                       2.5m x 2m (5 sqm) - 8' 2\" x 6' 6\" (53 sqft)\n",
      "Kitchen                       4.09m x 3.9m (15.9 sqm) - 13' 5\" x 12' 9\" (172 sqft)\n",
      "Kitchen /  Dining Room        5.7m x 3.5m (19.9 sqm) - 18' 8\" x 11' 5\" (214 sqft)\n",
      "Kitchen                       2.8m x 2.8m (7.8 sqm) - 9' 2\" x 9' 2\" (84 sqft)\n",
      "Kitchen Diner                 4.09m x 2.9m (11.8 sqm) - 13' 5\" x 9' 6\" (127 sqft)\n",
      "Kitchen Diner                 5.9m x 2.6m (15.3 sqm) - 19' 4\" x 8' 6\" (165 sqft)\n",
      "Kitchen                       2.5m x 2m (5 sqm) - 8' 2\" x 6' 6\" (53 sqft)\n",
      "Kitchen /  Dining Room        4.98m x 2.21m (11 sqm) - 16' 4\" x 7' 3\" (118 sqft)\n",
      "Kitchen /  Dining Room        3.53m x 3.53m (12.4 sqm) - 11' 6\" x 11' 6\" (134 sqft)\n",
      "Kitchen Diner                 3.42m x 2.94m (10 sqm) - 11' 2\" x 9' 7\" (108 sqft)\n",
      "Kitchen                       3.3m x 2.67m (8.8 sqm) - 10' 9\" x 8' 9\" (94 sqft)\n",
      "Kitchen                       3.49m x 2.5m (8.7 sqm) - 11' 5\" x 8' 2\" (94 sqft)\n",
      "Kitchen /  Dining Room        3.96m x 2.44m (9.6 sqm) - 12' 11\" x 8' (104 sqft)\n",
      "Kitchen                       3.64m x 2.68m (9.7 sqm) - 11' 11\" x 8' 9\" (105 sqft)\n",
      "Kitchen /  Dining Room        3.35m x 2.67m (8.9 sqm) - 10' 11\" x 8' 9\" (96 sqft)\n",
      "Kitchen                       4.94m x 3.97m (19.6 sqm) - 16' 2\" x 13' (211 sqft)\n",
      "Kitchen                       4.2m x 2.65m (11.1 sqm) - 13' 9\" x 8' 8\" (119 sqft)\n",
      "Open Plan Living Room / Kitchen4.99m x 3.99m (19.9 sqm) - 16' 4\" x 13' 1\" (214 sqft)\n",
      "Kitchen /  Dining Room        3.35m x 2.89m (9.6 sqm) - 10' 11\" x 9' 5\" (104 sqft)\n",
      "Kitchen /  Dining Room        3.4m x 2.9m (9.8 sqm) - 11' 1\" x 9' 6\" (106 sqft)\n",
      "Kitchen /  Dining Room        1\n",
      "Open Plan Dining/Kitchen/Family Room4.99m x 3.99m (19.9 sqm) - 16' 4\" x 13' 1\" (214 sqft)\n",
      "Kitchen /  Dining Room        3.42m x 2.97m (10.1 sqm) - 11' 2\" x 9' 8\" (109 sqft)\n",
      "Kitchen Diner                 5.38m x 5.04m (27.1 sqm) - 17' 7\" x 16' 6\" (291 sqft)\n",
      "Kitchen / Breakfast Room      5.2m x 1.9m (9.8 sqm) - 17' x 6' 2\" (106 sqft)\n",
      "Kitchen / Breakfast Room      1\n",
      "Kitchen / Breakfast Room      7.79m x 4.41m (34.3 sqm) - 25' 6\" x 14' 5\" (369 sqft)\n",
      "Kitchen /  Dining Room        4.41m x 3.2m (14.1 sqm) - 14' 5\" x 10' 5\" (151 sqft)\n",
      "Kitchen /  Dining Room        3.35m x 2.67m (8.9 sqm) - 10' 11\" x 8' 9\" (96 sqft)\n",
      "Kitchen                       3.3m x 2.67m (8.8 sqm) - 10' 9\" x 8' 9\" (94 sqft)\n",
      "Kitchen / Breakfast Room      5.2m x 1.9m (9.8 sqm) - 17' x 6' 2\" (106 sqft)\n",
      "Kitchen                       4m x 2.9m (11.6 sqm) - 13' 1\" x 9' 6\" (124 sqft)\n",
      "Kitchen                       3.2m x 2.5m (8 sqm) - 10' 5\" x 8' 2\" (86 sqft)\n",
      "Kitchen /  Dining Room        3m x 3.8m (11.4 sqm) - 9' 10\" x 12' 5\" (122 sqft)\n",
      "Kitchen                       1\n",
      "Open Plan Living Room / Kitchen5.6m x 5.6m (31.3 sqm) - 18' 4\" x 18' 4\" (337 sqft)\n",
      "Open Plan Living Room / Kitchen5.6m x 5.6m (31.3 sqm) - 18' 4\" x 18' 4\" (337 sqft)\n",
      "Kitchen                       3.6m x 2.6m (9.3 sqm) - 11' 9\" x 8' 6\" (100 sqft)\n",
      "Kitchen                       4m x 2.29m (9.2 sqm) - 13' 1\" x 7' 6\" (99 sqft)\n",
      "Kitchen                       4.5m x 3.4m (15.3 sqm) - 14' 9\" x 11' 1\" (164 sqft)\n",
      "Kitchen /  Dining Room        4.5m x 3.8m (17.1 sqm) - 14' 9\" x 12' 5\" (184 sqft)\n",
      "Kitchen /  Dining Room        4.5m x 3.8m (17.1 sqm) - 14' 9\" x 12' 5\" (184 sqft)\n",
      "Kitchen /  Dining Room        4.5m x 3.8m (17.1 sqm) - 14' 9\" x 12' 5\" (184 sqft)\n",
      "Kitchen /  Dining Room        4.5m x 3.8m (17.1 sqm) - 14' 9\" x 12' 5\" (184 sqft)\n",
      "Kitchen /  Dining Room        5.4m x 2.8m (15.1 sqm) - 17' 8\" x 9' 2\" (162 sqft)\n",
      "Kitchen                       3.8m x 34m (129.2 sqm) - 12' 5\" x 111' 6\" (1390 sqft)\n",
      "Kitchen                       2.7m x 2.29m (6.2 sqm) - 8' 10\" x 7' 6\" (66 sqft)\n",
      "Kitchen                       2.8m x 2.12m (5.9 sqm) - 9' 2\" x 6' 11\" (63 sqft)\n",
      "Kitchen                       2.7m x 2.2m (5.9 sqm) - 8' 10\" x 7' 2\" (63 sqft)\n",
      "Kitchen                       4m x 2.9m (11.6 sqm) - 13' 1\" x 9' 6\" (124 sqft)\n",
      "Family Kitchen                4.33m x 2.6m (11.2 sqm) - 14' 2\" x 8' 6\" (121 sqft)\n",
      "Kitchen /  Dining Room        4.5m x 2.5m (11.2 sqm) - 14' 9\" x 8' 2\" (121 sqft)\n",
      "Kitchen                       2.5m x 2.2m (5.5 sqm) - 8' 2\" x 7' 2\" (59 sqft)\n",
      "Kitchen /  Dining Room        5m x 5m (25 sqm) - 16' 4\" x 16' 4\" (269 sqft)\n",
      "Kitchen                       4.4m x 2.2m (9.6 sqm) - 14' 5\" x 7' 2\" (104 sqft)\n",
      "Kitchen /  Dining Room        4.5m x 3.8m (17.1 sqm) - 14' 9\" x 12' 5\" (184 sqft)\n",
      "Kitchen                       3m x 2.6m (7.8 sqm) - 9' 10\" x 8' 6\" (83 sqft)\n",
      "Kitchen                       3.35m x 2.8m (9.3 sqm) - 10' 11\" x 9' 2\" (100 sqft)\n",
      "Kitchen                       5m x 2m (10 sqm) - 16' 4\" x 6' 6\" (107 sqft)\n",
      "Kitchen                       3.3m x 2.29m (7.5 sqm) - 10' 9\" x 7' 6\" (81 sqft)\n",
      "Kitchen                       3.3m x 2.29m (7.5 sqm) - 10' 9\" x 7' 6\" (81 sqft)\n",
      "Kitchen /  Dining Room        7.9m x 2.9m (22.9 sqm) - 25' 11\" x 9' 6\" (246 sqft)\n",
      "Kitchen                       3.54m x 2.27m (8 sqm) - 11' 7\" x 7' 5\" (86 sqft)\n",
      "Kitchen                       3.49m x 2.78m (9.7 sqm) - 11' 5\" x 9' 1\" (104 sqft)\n",
      "Kitchen Diner                 4.59m x 2m (9.2 sqm) - 15' 1\" x 6' 6\" (99 sqft)\n",
      "Kitchen                       2.7m x 1.8m (4.8 sqm) - 8' 10\" x 5' 10\" (52 sqft)\n",
      "Kitchen                       3.2m x 2.2m (7 sqm) - 10' 5\" x 7' 2\" (75 sqft)\n",
      "Kitchen                       4m x 2.8m (11.2 sqm) - 13' 1\" x 9' 2\" (120 sqft)\n",
      "Kitchen                       3.9m x 2.7m (10.5 sqm) - 12' 9\" x 8' 10\" (113 sqft)\n",
      "Kitchen Diner                 1\n",
      "Kitchen                       1\n",
      "Kitchen                       2.92m x 2.56m (7.4 sqm) - 9' 6\" x 8' 4\" (80 sqft)\n",
      "Kitchen                       3m x 2.7m (8.1 sqm) - 9' 10\" x 8' 10\" (87 sqft)\n",
      "Kitchen Diner                 1\n",
      "Kitchen                       3.61m x 3.61m (13 sqm) - 11' 10\" x 11' 10\" (140 sqft)\n",
      "Kitchen                       3.4m x 1.85m (6.2 sqm) - 11' 1\" x 6' (67 sqft)\n",
      "Kitchen / Breakfast Room      4.9m x 3.2m (15.6 sqm) - 16' x 10' 5\" (168 sqft)\n",
      "Kitchen /  Dining Room        6.49m x 3.53m (22.9 sqm) - 21' 3\" x 11' 6\" (246 sqft)\n",
      "Kitchen                       3.62m x 3.16m (11.4 sqm) - 11' 10\" x 10' 4\" (123 sqft)\n",
      "Kitchen                       2.97m x 1.98m (5.8 sqm) - 9' 8\" x 6' 5\" (63 sqft)\n",
      "Kitchen                       3.15m x 2.21m (6.9 sqm) - 10' 4\" x 7' 3\" (74 sqft)\n",
      "Kitchen                       3.34m x 2.52m (8.4 sqm) - 10' 11\" x 8' 3\" (90 sqft)\n",
      "Open Plan Dining/Kitchen/Family Room6.1m x 5.38m (32.8 sqm) - 20' x 17' 7\" (353 sqft)\n",
      "Kitchen                       4.38m x 3.41m (14.9 sqm) - 14' 4\" x 11' 2\" (161 sqft)\n",
      "Kitchen                       3m x 2.22m (6.6 sqm) - 9' 10\" x 7' 3\" (71 sqft)\n",
      "Kitchen /  Dining Room        5.46m x 3.21m (17.5 sqm) - 17' 10\" x 10' 6\" (188 sqft)\n",
      "Kitchen / Breakfast Room      7.32m x 5.72m (41.8 sqm) - 24' x 18' 9\" (450 sqft)\n",
      "Kitchen                       2.6m x 1.64m (4.2 sqm) - 8' 6\" x 5' 4\" (45 sqft)\n",
      "Kitchen                       3.48m x 3.46m (12 sqm) - 11' 5\" x 11' 4\" (129 sqft)\n",
      "Kitchen                       3.51m x 2.67m (9.3 sqm) - 11' 6\" x 8' 9\" (100 sqft)\n",
      "Kitchen                       2.81m x 2.5m (7 sqm) - 9' 2\" x 8' 2\" (75 sqft)\n",
      "Kitchen                       3.51m x 2.88m (10.1 sqm) - 11' 6\" x 9' 5\" (108 sqft)\n",
      "Kitchen /  Dining Room        4.82m x 3.49m (16.8 sqm) - 15' 9\" x 11' 5\" (181 sqft)\n",
      "Kitchen                       4.83m x 2.98m (14.3 sqm) - 15' 10\" x 9' 9\" (154 sqft)\n",
      "Kitchen / Breakfast Room      5.13m x 2.13m (10.9 sqm) - 16' 9\" x 6' 11\" (117 sqft)\n",
      "Kitchen /  Dining Room        5.5m x 7.92m (43.5 sqm) - 18' x 25' 11\" (468 sqft)\n",
      "Kitchen /  Dining Room        6.95m x 4.63m (32.1 sqm) - 22' 9\" x 15' 2\" (346 sqft)\n",
      "Open Plan Living Room / Kitchen6m x 6.34m (38 sqm) - 19' 8\" x 20' 9\" (409 sqft)\n",
      "Open Plan Dining/Kitchen/Family Room7.35m x 5.5m (40.4 sqm) - 24' 1\" x 18' (435 sqft)\n",
      "Kitchen                       3.9m x 2.5m (9.7 sqm) - 12' 9\" x 8' 2\" (104 sqft)\n",
      "Kitchen                       2.27m x 2.33m (5.2 sqm) - 7' 5\" x 7' 7\" (56 sqft)\n",
      "Kitchen / Breakfast Room      8.17m x 2.95m (24.1 sqm) - 26' 9\" x 9' 8\" (259 sqft)\n",
      "Kitchen Diner                 3.8m x 2.8m (10.6 sqm) - 12' 5\" x 9' 2\" (114 sqft)\n",
      "Kitchen                       1\n",
      "Kitchen                       3.7m x 2.29m (8.5 sqm) - 12' 1\" x 7' 6\" (91 sqft)\n",
      "Kitchen                       5m x 2.29m (11.5 sqm) - 16' 4\" x 7' 6\" (123 sqft)\n",
      "Kitchen                       4.01m x 2.15m (8.6 sqm) - 13' 2\" x 7' (93 sqft)\n",
      "Kitchen                       2.67m x 2.34m (6.2 sqm) - 8' 9\" x 7' 8\" (67 sqft)\n",
      "Kitchen                       4.16m x 2.9m (12 sqm) - 13' 7\" x 9' 6\" (129 sqft)\n",
      "Kitchen                       4.24m x 2.43m (10.3 sqm) - 13' 10\" x 7' 11\" (110 sqft)\n",
      "Kitchen                       2.87m x 2.52m (7.2 sqm) - 9' 4\" x 8' 3\" (77 sqft)\n",
      "Kitchen /  Dining Room        7.01m x 3.96m (27.7 sqm) - 22' 11\" x 12' 11\" (298 sqft)\n",
      "Kitchen /  Dining Room        5.05m x 3.5m (17.6 sqm) - 16' 6\" x 11' 5\" (190 sqft)\n",
      "Breakfast Kitchen             6.35m x 2.37m (15 sqm) - 20' 10\" x 7' 9\" (161 sqft)\n",
      "Kitchen                       3.31m x 3.2m (10.5 sqm) - 10' 10\" x 10' 5\" (114 sqft)\n",
      "Kitchen                       4.28m x 3.39m (14.5 sqm) - 14' x 11' 1\" (156 sqft)\n",
      "Kitchen                       3.27m x 1.86m (6 sqm) - 10' 8\" x 6' 1\" (65 sqft)\n",
      "Kitchen                       3.2m x 2.29m (7.3 sqm) - 10' 5\" x 7' 6\" (79 sqft)\n",
      "Breakfast Kitchen             3.94m x 3.33m (13.1 sqm) - 12' 11\" x 10' 11\" (141 sqft)\n",
      "Breakfast Kitchen             5.52m x 4.51m (24.9 sqm) - 18' 1\" x 14' 9\" (268 sqft)\n",
      "Kitchen Diner                 5.28m x 3.62m (19.1 sqm) - 17' 3\" x 11' 10\" (205 sqft)\n",
      "Kitchen Diner                 4.83m x 4.7m (22.7 sqm) - 15' 10\" x 15' 5\" (244 sqft)\n",
      "Kitchen                       3.76m x 2.6m (9.7 sqm) - 12' 4\" x 8' 6\" (105 sqft)\n",
      "Kitchen                       2.98m x 1.98m (5.9 sqm) - 9' 9\" x 6' 5\" (63 sqft)\n",
      "Kitchen                       3.3m x 2.86m (9.4 sqm) - 10' 9\" x 9' 4\" (101 sqft)\n",
      "Kitchen                       4.09m x 2.76m (11.3 sqm) - 13' 5\" x 9' (121 sqft)\n",
      "Kitchen                       7.1m x 3.03m (21.5 sqm) - 23' 3\" x 9' 11\" (231 sqft)\n",
      "Kitchen                       3.29m x 1.86m (6.1 sqm) - 10' 9\" x 6' 1\" (65 sqft)\n",
      "Kitchen                       4.34m x 2.5m (10.8 sqm) - 14' 3\" x 8' 2\" (117 sqft)\n",
      "Kitchen Diner                 6.7m x 2.15m (14.4 sqm) - 21' 11\" x 7' (155 sqft)\n",
      "Kitchen                       2.27m x 2.72m (6.1 sqm) - 7' 5\" x 8' 11\" (66 sqft)\n",
      "Kitchen                       3.53m x 2.69m (9.4 sqm) - 11' 6\" x 8' 9\" (102 sqft)\n",
      "Kitchen                       4.28m x 2.8m (11.9 sqm) - 14' x 9' 2\" (128 sqft)\n",
      "Kitchen / Breakfast Room      5.2m x 2.56m (13.3 sqm) - 17' x 8' 4\" (143 sqft)\n",
      "Kitchen Diner                 4.79m x 3.24m (15.5 sqm) - 15' 8\" x 10' 7\" (167 sqft)\n",
      "Kitchen                       3.08m x 2.35m (7.2 sqm) - 10' 1\" x 7' 8\" (77 sqft)\n",
      "Kitchen                       5.49m x 2.09m (11.4 sqm) - 18' x 6' 10\" (123 sqft)\n",
      "Kitchen                       3.28m x 2.25m (7.3 sqm) - 10' 9\" x 7' 4\" (79 sqft)\n",
      "Kitchen Diner                 6.37m x 3.99m (25.4 sqm) - 20' 10\" x 13' 1\" (273 sqft)\n",
      "Kitchen                       4.2m x 2.65m (11.1 sqm) - 13' 9\" x 8' 8\" (119 sqft)\n",
      "Kitchen / Breakfast Room      3.22m x 2.7m (8.6 sqm) - 10' 6\" x 8' 10\" (93 sqft)\n",
      "Kitchen                       3.27m x 2.54m (8.3 sqm) - 10' 8\" x 8' 4\" (89 sqft)\n",
      "Kitchen                       3.05m x 2.74m (8.3 sqm) - 10' x 8' 11\" (89 sqft)\n",
      "Kitchen                       4m x 3.5m (14 sqm) - 13' 1\" x 11' 5\" (150 sqft)\n",
      "Kitchen                       4.84m x 3.37m (16.3 sqm) - 15' 10\" x 11' (175 sqft)\n",
      "Kitchen                       3.07m x 2.77m (8.5 sqm) - 10' x 9' 1\" (91 sqft)\n",
      "Kitchen                       2.65m x 1.74m (4.6 sqm) - 8' 8\" x 5' 8\" (49 sqft)\n",
      "Kitchen / Breakfast Room      3.93m x 2.69m (10.5 sqm) - 12' 10\" x 8' 9\" (113 sqft)\n",
      "Kitchen                       3.73m x 2.81m (10.4 sqm) - 12' 2\" x 9' 2\" (112 sqft)\n",
      "Kitchen                       3.23m x 2.9m (9.3 sqm) - 10' 7\" x 9' 6\" (100 sqft)\n",
      "Kitchen                       3.84m x 2m (7.7 sqm) - 12' 7\" x 6' 7\" (83 sqft)\n",
      "Kitchen / Breakfast Room      4.26m x 2.44m (10.4 sqm) - 14' x 8' (112 sqft)\n",
      "Kitchen                       3.2m x 2.5m (8 sqm) - 10' 5\" x 8' 2\" (86 sqft)\n",
      "Kitchen                       2.92m x 2.96m (8.6 sqm) - 9' 6\" x 9' 8\" (93 sqft)\n",
      "Kitchen                       3.17m x 2.5m (7.9 sqm) - 10' 4\" x 8' 2\" (85 sqft)\n",
      "Kitchen                       4.55m x 2.4m (10.9 sqm) - 14' 11\" x 7' 10\" (117 sqft)\n",
      "Kitchen                       2.7m x 2.8m (7.5 sqm) - 8' 10\" x 9' 2\" (81 sqft)\n",
      "Breakfast Kitchen             1\n",
      "Kitchen                       1\n",
      "Kitchen /  Dining Room        5.7m x 3.1m (17.6 sqm) - 18' 8\" x 10' 2\" (190 sqft)\n",
      "Kitchen                       4.3m x 2.29m (9.8 sqm) - 14' 1\" x 7' 6\" (106 sqft)\n",
      "Kitchen                       3.03m x 2.52m (7.6 sqm) - 9' 11\" x 8' 3\" (82 sqft)\n",
      "Kitchen                       5.89m x 3.65m (21.4 sqm) - 19' 3\" x 11' 11\" (231 sqft)\n",
      "Kitchen                       1\n",
      "Kitchen                       3.75m x 2.02m (7.6 sqm) - 12' 3\" x 6' 7\" (81 sqft)\n",
      "Kitchen /  Dining Room        4.5m x 2.8m (12.6 sqm) - 14' 9\" x 9' 2\" (135 sqft)\n",
      "Kitchen                       3.38m x 2.84m (9.5 sqm) - 11' 1\" x 9' 3\" (103 sqft)\n",
      "Kitchen                       3.12m x 2.52m (7.8 sqm) - 10' 2\" x 8' 3\" (84 sqft)\n",
      "Kitchen                       4.37m x 2.06m (9 sqm) - 14' 4\" x 6' 9\" (96 sqft)\n",
      "Kitchen / Breakfast Room      4.88m x 3.12m (15.2 sqm) - 16' x 10' 2\" (164 sqft)\n",
      "Kitchen / Breakfast Room      6.93m x 2.54m (17.6 sqm) - 22' 8\" x 8' 4\" (189 sqft)\n",
      "Open Plan Living Room / Kitchen6.7m x 3.9m (26.1 sqm) - 21' 11\" x 12' 9\" (281 sqft)\n",
      "Kitchen / Breakfast Room      4.8m x 3.12m (14.9 sqm) - 15' 8\" x 10' 2\" (161 sqft)\n",
      "Kitchen /  Dining Room        2.77m x 7.28m (20.1 sqm) - 9' 1\" x 23' 10\" (217 sqft)\n",
      "Kitchen                       5.76m x 1.92m (11 sqm) - 18' 10\" x 6' 3\" (119 sqft)\n",
      "Kitchen                       2.87m x 3.15m (9 sqm) - 9' 4\" x 10' 4\" (97 sqft)\n",
      "Kitchen                       1\n",
      "Kitchen /  Dining Room        6.79m x 4.18m (28.3 sqm) - 22' 3\" x 13' 8\" (305 sqft)\n",
      "Kitchen                       1\n",
      "Kitchen                       1\n",
      "Kitchen /  Dining Room        5.88m x 3.3m (19.4 sqm) - 19' 3\" x 10' 9\" (208 sqft)\n",
      "Kitchen                       5.68m x 3.31m (18.8 sqm) - 18' 7\" x 10' 10\" (202 sqft)\n",
      "Kitchen                       1\n",
      "Kitchen                       3.91m x 2.69m (10.5 sqm) - 12' 9\" x 8' 9\" (113 sqft)\n",
      "Kitchen /  Dining Room        6.11m x 3.2m (19.5 sqm) - 20' x 10' 5\" (210 sqft)\n",
      "Kitchen Diner                 6.35m x 2.69m (17 sqm) - 20' 10\" x 8' 9\" (183 sqft)\n",
      "Kitchen                       2.5m x 3.7m (9.2 sqm) - 8' 2\" x 12' 1\" (99 sqft)\n",
      "Kitchen                       5.5m x 3m (16.5 sqm) - 18' x 9' 10\" (177 sqft)\n",
      "Kitchen                       4.59m x 2.39m (10.9 sqm) - 15' 1\" x 7' 10\" (118 sqft)\n",
      "Kitchen                       4.09m x 2.6m (10.6 sqm) - 13' 5\" x 8' 6\" (114 sqft)\n",
      "Kitchen                       2.8m x 1.7m (4.7 sqm) - 9' 2\" x 5' 6\" (51 sqft)\n",
      "Kitchen /  Dining Room        6.6m x 3.2m (21.1 sqm) - 21' 7\" x 10' 5\" (227 sqft)\n",
      "Breakfast Kitchen             4.4m x 3.65m (16 sqm) - 14' 5\" x 11' 11\" (172 sqft)\n",
      "Kitchen /  Dining Room        4.59m x 3.18m (14.6 sqm) - 15' 1\" x 10' 5\" (157 sqft)\n",
      "Kitchen Diner                 4.8m x 3.7m (17.7 sqm) - 15' 8\" x 12' 1\" (191 sqft)\n",
      "Kitchen                       9.9m x 9.19m (91 sqm) - 32' 5\" x 30' 2\" (980 sqft)\n",
      "Kitchen / Breakfast Room      5.5m x 3.2m (17.6 sqm) - 18' x 10' 5\" (189 sqft)\n",
      "Kitchen                       3.08m x 2.61m (8 sqm) - 10' 1\" x 8' 6\" (86 sqft)\n",
      "Kitchen                       5.17m x 4.09m (21.1 sqm) - 16' 11\" x 13' 5\" (227 sqft)\n",
      "Kitchen /  Dining Room        3.59m x 4.18m (15 sqm) - 11' 9\" x 13' 8\" (161 sqft)\n",
      "Kitchen                       6.27m x 2.27m (14.2 sqm) - 20' 6\" x 7' 5\" (153 sqft)\n",
      "Kitchen                       3.74m x 2.52m (9.4 sqm) - 12' 3\" x 8' 3\" (101 sqft)\n",
      "Kitchen                       3.14m x 3.79m (11.9 sqm) - 10' 3\" x 12' 5\" (128 sqft)\n",
      "Kitchen /  Dining Room        3.02m x 4.76m (14.3 sqm) - 9' 10\" x 15' 7\" (154 sqft)\n",
      "Kitchen                       5.78m x 2.27m (13.1 sqm) - 18' 11\" x 7' 5\" (141 sqft)\n",
      "Kitchen Diner                 5.62m x 2.99m (16.8 sqm) - 18' 5\" x 9' 9\" (180 sqft)\n",
      "Kitchen /  Dining Room        3.9m x 5.59m (21.8 sqm) - 12' 9\" x 18' 4\" (234 sqft)\n",
      "Kitchen                       2.99m x 2.23m (6.6 sqm) - 9' 9\" x 7' 3\" (71 sqft)\n",
      "Kitchen                       4.57m x 1.92m (8.7 sqm) - 14' 11\" x 6' 3\" (94 sqft)\n",
      "Kitchen /  Dining Room        8.48m x 3.17m (26.8 sqm) - 27' 9\" x 10' 4\" (289 sqft)\n",
      "Kitchen                       3.1m x 2.31m (7.1 sqm) - 10' 2\" x 7' 6\" (77 sqft)\n",
      "Kitchen                       3.52m x 3.62m (12.7 sqm) - 11' 6\" x 11' 10\" (137 sqft)\n",
      "Kitchen                       2.98m x 2.23m (6.6 sqm) - 9' 9\" x 7' 3\" (71 sqft)\n",
      "Kitchen                       3.26m x 2.25m (7.3 sqm) - 10' 8\" x 7' 4\" (78 sqft)\n",
      "Kitchen                       3.56m x 2.62m (9.3 sqm) - 11' 8\" x 8' 7\" (100 sqft)\n",
      "Kitchen                       2.82m x 4.59m (12.9 sqm) - 9' 3\" x 15' 1\" (139 sqft)\n",
      "Kitchen                       3.4m x 1.73m (5.8 sqm) - 11' 1\" x 5' 8\" (63 sqft)\n",
      "Kitchen / Breakfast Room      6.7m x 4.98m (33.3 sqm) - 21' 11\" x 16' 4\" (359 sqft)\n",
      "Kitchen                       3.48m x 2.9m (10 sqm) - 11' 5\" x 9' 6\" (108 sqft)\n",
      "Kitchen                       2.8m x 2.97m (8.3 sqm) - 9' 2\" x 9' 8\" (89 sqft)\n",
      "Kitchen                       4.24m x 2m (8.5 sqm) - 13' 10\" x 6' 7\" (91 sqft)\n",
      "Kitchen /  Dining Room        7.7m x 2.41m (18.5 sqm) - 25' 3\" x 7' 10\" (199 sqft)\n",
      "Kitchen                       3.33m x 2.87m (9.5 sqm) - 10' 11\" x 9' 4\" (102 sqft)\n",
      "Kitchen Diner                 6.3m x 4.4m (27.7 sqm) - 20' 8\" x 14' 5\" (298 sqft)\n",
      "Kitchen                       2.8m x 3.4m (9.5 sqm) - 9' 2\" x 11' 1\" (102 sqft)\n",
      "Kitchen                       5.9m x 2.29m (13.5 sqm) - 19' 4\" x 7' 6\" (146 sqft)\n",
      "Kitchen                       4.51m x 2.58m (11.6 sqm) - 14' 9\" x 8' 5\" (125 sqft)\n",
      "Kitchen                       3.4m x 2.65m (9 sqm) - 11' 1\" x 8' 8\" (96 sqft)\n",
      "Kitchen /  Dining Room        5.5m x 3m (16.5 sqm) - 18' x 9' 10\" (177 sqft)\n",
      "Kitchen /  Dining Room        5.4m x 2m (10.8 sqm) - 17' 8\" x 6' 6\" (116 sqft)\n",
      "Kitchen /  Dining Room        5.5m x 2.75m (15.1 sqm) - 18' x 9' (162 sqft)\n",
      "Kitchen /  Dining Room        3.4m x 2.7m (9.1 sqm) - 11' 1\" x 8' 10\" (98 sqft)\n",
      "Kitchen /  Dining Room        3.4m x 2.7m (9.1 sqm) - 11' 1\" x 8' 10\" (98 sqft)\n",
      "Kitchen /  Dining Room        3.4m x 2.7m (9.1 sqm) - 11' 1\" x 8' 10\" (98 sqft)\n",
      "Kitchen /  Dining Room        3.4m x 2.7m (9.1 sqm) - 11' 1\" x 8' 10\" (98 sqft)\n",
      "Kitchen /  Dining Room        3.8m x 3.3m (12.5 sqm) - 12' 5\" x 10' 9\" (134 sqft)\n",
      "Kitchen /  Dining Room        3.9m x 2.5m (9.7 sqm) - 12' 9\" x 8' 2\" (104 sqft)\n",
      "Kitchen / Breakfast Room      4.2m x 3.4m (14.2 sqm) - 13' 9\" x 11' 1\" (153 sqft)\n",
      "Kitchen                       3.25m x 2.5m (8.1 sqm) - 10' 7\" x 8' 2\" (87 sqft)\n",
      "Kitchen /  Dining Room        5.5m x 2.9m (15.9 sqm) - 18' x 9' 6\" (171 sqft)\n",
      "Kitchen / Breakfast Room      3.7m x 2.75m (10.1 sqm) - 12' 1\" x 9' (109 sqft)\n",
      "Kitchen                       3m x 2.9m (8.7 sqm) - 9' 10\" x 9' 6\" (93 sqft)\n",
      "Kitchen                       3.5m x 1.9m (6.6 sqm) - 11' 5\" x 6' 2\" (71 sqft)\n",
      "Kitchen                       3m x 2.1m (6.3 sqm) - 9' 10\" x 6' 10\" (67 sqft)\n",
      "Kitchen                       3.76m x 3m (11.2 sqm) - 12' 4\" x 9' 10\" (121 sqft)\n",
      "Kitchen                       4.4m x 1.7m (7.4 sqm) - 14' 5\" x 5' 6\" (80 sqft)\n",
      "Open Plan Living Room / Kitchen4.9m x 4.5m (22 sqm) - 16' x 14' 9\" (237 sqft)\n",
      "Kitchen                       3.4m x 2.4m (8.1 sqm) - 11' 1\" x 7' 10\" (87 sqft)\n",
      "Kitchen                       4m x 2.4m (9.6 sqm) - 13' 1\" x 7' 10\" (103 sqft)\n",
      "Kitchen /  Dining Room        5.2m x 2.2m (11.4 sqm) - 17' x 7' 2\" (123 sqft)\n",
      "Kitchen                       3m x 2.13m (6.3 sqm) - 9' 10\" x 6' 11\" (68 sqft)\n",
      "Kitchen                       3.3m x 2.75m (9 sqm) - 10' 9\" x 9' (97 sqft)\n",
      "Kitchen /  Dining Room        4.59m x 2.7m (12.4 sqm) - 15' 1\" x 8' 10\" (133 sqft)\n",
      "Kitchen Diner                 3.3m x 2.29m (7.5 sqm) - 10' 9\" x 7' 6\" (81 sqft)\n",
      "Kitchen /  Dining Room        6.19m x 3.57m (22 sqm) - 20' 3\" x 11' 8\" (237 sqft)\n",
      "Kitchen                       4.2m x 2.65m (11.1 sqm) - 13' 9\" x 8' 8\" (119 sqft)\n",
      "Kitchen                       3.16m x 2.8m (8.8 sqm) - 10' 4\" x 9' 2\" (95 sqft)\n",
      "Kitchen                       3.5m x 1.54m (5.3 sqm) - 11' 5\" x 5' (58 sqft)\n",
      "Kitchen /  Dining Room        5.09m x 2.7m (13.7 sqm) - 16' 8\" x 8' 10\" (148 sqft)\n",
      "Kitchen / Breakfast Room      5m x 3.18m (15.9 sqm) - 16' 4\" x 10' 5\" (171 sqft)\n",
      "Kitchen                       3.25m x 2.22m (7.2 sqm) - 10' 7\" x 7' 3\" (77 sqft)\n",
      "Kitchen                       5.01m x 3.36m (16.8 sqm) - 16' 5\" x 11' (181 sqft)\n",
      "Kitchen                       4.01m x 1.08m (4.3 sqm) - 13' 2\" x 3' 6\" (46 sqft)\n",
      "Kitchen Diner                 4.7m x 4.5m (21.1 sqm) - 15' 5\" x 14' 9\" (227 sqft)\n",
      "Kitchen /  Dining Room        5m x 3m (15 sqm) - 16' 4\" x 9' 10\" (161 sqft)\n",
      "Family Living Kitchen         5.25m x 4.4m (23.1 sqm) - 17' 2\" x 14' 5\" (248 sqft)\n",
      "Kitchen                       2.74m x 2.46m (6.7 sqm) - 8' 11\" x 8' (72 sqft)\n",
      "Kitchen Diner                 4.5m x 3.4m (15.3 sqm) - 14' 9\" x 11' 1\" (164 sqft)\n",
      "Kitchen                       2.4m x 1.75m (4.2 sqm) - 7' 10\" x 5' 8\" (45 sqft)\n",
      "Open Plan Living Kitchen      4.59m x 2.5m (11.4 sqm) - 15' 1\" x 8' 2\" (123 sqft)\n",
      "Kitchen Diner                 3.9m x 3.8m (14.8 sqm) - 12' 9\" x 12' 5\" (159 sqft)\n",
      "Kitchen                       1.8m x 1.7m (3 sqm) - 5' 10\" x 5' 6\" (32 sqft)\n",
      "Kitchen /  Dining Room        4.09m x 3.1m (12.7 sqm) - 13' 5\" x 10' 2\" (136 sqft)\n",
      "Kitchen                       3.7m x 2.2m (8.1 sqm) - 12' 1\" x 7' 2\" (87 sqft)\n",
      "Kitchen /  Dining Room        5m x 3m (15 sqm) - 16' 4\" x 9' 10\" (161 sqft)\n",
      "Kitchen /  Dining Room        4.5m x 2.9m (13 sqm) - 14' 9\" x 9' 6\" (140 sqft)\n",
      "Kitchen /  Dining Room        6.5m x 3.5m (22.7 sqm) - 21' 3\" x 11' 5\" (244 sqft)\n",
      "Kitchen /  Dining Room        3.9m x 2.9m (11.3 sqm) - 12' 9\" x 9' 6\" (121 sqft)\n",
      "Kitchen /  Dining Room        4.26m x 4.09m (17.5 sqm) - 14' x 13' 5\" (188 sqft)\n",
      "Kitchen /  Dining Room        8.3m x 3.7m (30.7 sqm) - 27' 2\" x 12' 1\" (330 sqft)\n",
      "Kitchen /  Dining Room        4.5m x 3.7m (16.6 sqm) - 14' 9\" x 12' 1\" (179 sqft)\n",
      "Kitchen /  Dining Room        3.8m x 3.3m (12.5 sqm) - 12' 5\" x 10' 9\" (134 sqft)\n",
      "Kitchen /  Dining Room        4.5m x 3.7m (16.6 sqm) - 14' 9\" x 12' 1\" (179 sqft)\n",
      "Kitchen /  Dining Room        1\n",
      "Kitchen                       1\n",
      "Kitchen /  Dining Room        1\n",
      "Kitchen Area                  1\n",
      "Kitchen /  Dining Room        1\n",
      "Kitchen Area                  1\n",
      "Kitchen Diner                 1\n",
      "Kitchen Area                  1\n",
      "Kitchen /  Dining Room        5.01m x 6.41m (32.1 sqm) - 16' 5\" x 21' (345 sqft)\n",
      "Kitchen                       1\n",
      "Kitchen Diner                 1\n",
      "Kitchen / Breakfast Room      3.5m x 3.1m (10.8 sqm) - 11' 5\" x 10' 2\" (116 sqft)\n",
      "Kitchen                       2.88m x 2.35m (6.7 sqm) - 9' 5\" x 7' 8\" (72 sqft)\n",
      "Kitchen                       3.3m x 2.7m (8.9 sqm) - 10' 9\" x 8' 10\" (95 sqft)\n",
      "Kitchen                       4.36m x 2.24m (9.7 sqm) - 14' 3\" x 7' 4\" (105 sqft)\n",
      "Kitchen                       4.36m x 2.24m (9.7 sqm) - 14' 3\" x 7' 4\" (105 sqft)\n",
      "Kitchen / Breakfast Room      4.34m x 3.13m (13.5 sqm) - 14' 2\" x 10' 3\" (146 sqft)\n",
      "Kitchen                       2.87m x 2.58m (7.4 sqm) - 9' 4\" x 8' 5\" (79 sqft)\n",
      "Kitchen /  Dining Room        4.32m x 7.48m (32.3 sqm) - 14' 2\" x 24' 6\" (347 sqft)\n",
      "Kitchen                       3.56m x 2.57m (9.1 sqm) - 11' 8\" x 8' 5\" (98 sqft)\n",
      "Open Plan Living Room / Kitchen5.76m x 3.93m (22.6 sqm) - 18' 10\" x 12' 10\" (243 sqft)\n",
      "Kitchen                       3.1m x 2.2m (6.8 sqm) - 10' 2\" x 7' 2\" (73 sqft)\n",
      "Kitchen Area                  4.91m x 3.09m (15.1 sqm) - 16' 1\" x 10' 1\" (163 sqft)\n",
      "Kitchen/Dining/Living Room    7.26m x 7.66m (55.6 sqm) - 23' 9\" x 25' 1\" (598 sqft)\n",
      "Kitchen                       3.05m x 2.75m (8.3 sqm) - 10' x 9' (90 sqft)\n",
      "Kitchen                       3.9m x 2.29m (8.9 sqm) - 12' 9\" x 7' 6\" (96 sqft)\n",
      "Kitchen                       3.25m x 1.82m (5.9 sqm) - 10' 7\" x 5' 11\" (63 sqft)\n",
      "Kitchen                       4.7m x 1.82m (8.5 sqm) - 15' 5\" x 5' 11\" (92 sqft)\n",
      "Kitchen                       3.2m x 1.7m (5.4 sqm) - 10' 5\" x 5' 6\" (58 sqft)\n",
      "Open Plan Living Kitchen      10.85m x 7.82m (84.8 sqm) - 35' 7\" x 25' 7\" (913 sqft)\n",
      "Kitchen                       2.46m x 3m (7.3 sqm) - 8' x 9' 10\" (79 sqft)\n",
      "Kitchen                       3.71m x 2.18m (8 sqm) - 12' 2\" x 7' 1\" (87 sqft)\n",
      "Kitchen                       3.2m x 2.4m (7.6 sqm) - 10' 5\" x 7' 10\" (82 sqft)\n",
      "Kitchen /  Dining Room        4.19m x 3.25m (13.6 sqm) - 13' 8\" x 10' 7\" (146 sqft)\n",
      "Kitchen /  Dining Room        6.36m x 5m (31.8 sqm) - 20' 10\" x 16' 4\" (342 sqft)\n",
      "Kitchen /  Dining Room        5.78m x 4.09m (23.6 sqm) - 18' 11\" x 13' 5\" (255 sqft)\n",
      "Kitchen /  Dining Room        4.19m x 3.25m (13.6 sqm) - 13' 8\" x 10' 7\" (146 sqft)\n",
      "Kitchen / Breakfast Room      5.11m x 3.86m (19.7 sqm) - 16' 9\" x 12' 7\" (212 sqft)\n",
      "Kitchen                       3.97m x 2.57m (10.2 sqm) - 13' x 8' 5\" (109 sqft)\n",
      "Kitchen Diner                 5.42m x 3.1m (16.8 sqm) - 17' 9\" x 10' 2\" (180 sqft)\n",
      "Kitchen Diner                 4.88m x 4.5m (21.9 sqm) - 16' x 14' 9\" (236 sqft)\n",
      "Kitchen                       4m x 1.9m (7.6 sqm) - 13' 1\" x 6' 2\" (81 sqft)\n",
      "Kitchen                       2.4m x 2m (4.8 sqm) - 7' 10\" x 6' 6\" (51 sqft)\n",
      "Kitchen                       4.3m x 4m (17.2 sqm) - 14' 1\" x 13' 1\" (185 sqft)\n",
      "Kitchen                       2.4m x 2.7m (6.4 sqm) - 7' 10\" x 8' 10\" (69 sqft)\n",
      "Kitchen                       2.15m x 2m (4.3 sqm) - 7' x 6' 6\" (46 sqft)\n",
      "Kitchen                       2.8m x 2.1m (5.8 sqm) - 9' 2\" x 6' 10\" (63 sqft)\n",
      "Kitchen Diner                 4.59m x 2.4m (11 sqm) - 15' 1\" x 7' 10\" (118 sqft)\n",
      "Kitchen Diner                 4.45m x 2.5m (11.1 sqm) - 14' 7\" x 8' 2\" (119 sqft)\n",
      "Kitchen/Dining/Living Room    6.9m x 3.2m (22 sqm) - 22' 7\" x 10' 5\" (237 sqft)\n",
      "Kitchen/Dining/Living Room    6.9m x 3.2m (22 sqm) - 22' 7\" x 10' 5\" (237 sqft)\n",
      "Kitchen                       3.38m x 1.72m (5.8 sqm) - 11' 1\" x 5' 7\" (62 sqft)\n",
      "Kitchen Diner                 4.59m x 4.3m (19.7 sqm) - 15' 1\" x 14' 1\" (212 sqft)\n",
      "Kitchen                       3.11m x 1.87m (5.8 sqm) - 10' 2\" x 6' 1\" (62 sqft)\n",
      "Kitchen /  Dining Room        7.94m x 5.98m (47.4 sqm) - 26' x 19' 7\" (511 sqft)\n",
      "Kitchen                       2.6m x 2.29m (5.9 sqm) - 8' 6\" x 7' 6\" (64 sqft)\n",
      "Kitchen /  Dining Room        1\n",
      "Kitchen                       1\n",
      "Kitchen                       2.8m x 2.4m (6.7 sqm) - 9' 2\" x 7' 10\" (72 sqft)\n",
      "Kitchen                       3.6m x 2.8m (10 sqm) - 11' 9\" x 9' 2\" (108 sqft)\n",
      "Kitchen /  Dining Room        2.7m x 4.34m (11.7 sqm) - 8' 10\" x 14' 2\" (126 sqft)\n",
      "Kitchen /  Dining Room        4.55m x 2.74m (12.4 sqm) - 14' 11\" x 8' 11\" (134 sqft)\n",
      "Kitchen                       3.25m x 2.58m (8.3 sqm) - 10' 7\" x 8' 5\" (90 sqft)\n",
      "Kitchen                       3.46m x 2.27m (7.8 sqm) - 11' 4\" x 7' 5\" (84 sqft)\n",
      "Kitchen                       2.67m x 2.5m (6.6 sqm) - 8' 9\" x 8' 2\" (71 sqft)\n",
      "Kitchen                       4.38m x 2.33m (10.2 sqm) - 14' 4\" x 7' 7\" (110 sqft)\n",
      "Kitchen /  Dining Room        4.5m x 3.52m (15.8 sqm) - 14' 9\" x 11' 6\" (170 sqft)\n",
      "Kitchen                       3.41m x 3.29m (11.2 sqm) - 11' 2\" x 10' 9\" (120 sqft)\n",
      "Kitchen                       4.5m x 3.01m (13.5 sqm) - 14' 9\" x 9' 10\" (145 sqft)\n",
      "Kitchen Diner                 4.55m x 3.32m (15.1 sqm) - 14' 11\" x 10' 10\" (162 sqft)\n",
      "Kitchen                       3.16m x 2.44m (7.7 sqm) - 10' 4\" x 8' (82 sqft)\n",
      "Kitchen                       3.24m x 2.25m (7.3 sqm) - 10' 7\" x 7' 4\" (78 sqft)\n",
      "Kitchen                       3.9m x 3.36m (13.1 sqm) - 12' 9\" x 11' (141 sqft)\n",
      "Kitchen Area                  2.8m x 1.95m (5.4 sqm) - 9' 2\" x 6' 4\" (58 sqft)\n",
      "Kitchen Diner                 5.38m x 3.24m (17.4 sqm) - 17' 7\" x 10' 7\" (187 sqft)\n",
      "Breakfast Kitchen             3.48m x 4.18m (14.5 sqm) - 11' 5\" x 13' 8\" (156 sqft)\n",
      "Open Plan Dining/Kitchen/Family Room2.74m x 3.72m (10.1 sqm) - 8' 11\" x 12' 2\" (109 sqft)\n",
      "Kitchen Area                  7.24m x 2.2m (15.9 sqm) - 23' 9\" x 7' 2\" (171 sqft)\n",
      "Kitchen Diner                 3.24m x 7.25m (23.4 sqm) - 10' 7\" x 23' 9\" (252 sqft)\n",
      "Kitchen                       4.98m x 2.7m (13.4 sqm) - 16' 4\" x 8' 10\" (144 sqft)\n",
      "Kitchen                       3.35m x 2.36m (7.9 sqm) - 10' 11\" x 7' 8\" (85 sqft)\n",
      "Kitchen Diner                 7.4m x 3.22m (23.8 sqm) - 24' 3\" x 10' 6\" (256 sqft)\n",
      "Open Plan Living Room / Kitchen1\n",
      "Kitchen                       1\n",
      "Kitchen                       13m x 7.5m (97.5 sqm) - 42' 7\" x 24' 7\" (1049 sqft)\n",
      "Kitchen                       3.3m x 2.8m (9.2 sqm) - 10' 9\" x 9' 2\" (99 sqft)\n",
      "Kitchen                       3.11m x 2.37m (7.3 sqm) - 10' 2\" x 7' 9\" (79 sqft)\n",
      "Breakfast Kitchen             4.91m x 2.67m (13.1 sqm) - 16' 1\" x 8' 9\" (141 sqft)\n",
      "Kitchen Area                  1\n",
      "Kitchen Diner                 5.72m x 3.38m (19.3 sqm) - 18' 9\" x 11' 1\" (208 sqft)\n",
      "Breakfast Kitchen             4.79m x 2.33m (11.1 sqm) - 15' 8\" x 7' 7\" (120 sqft)\n",
      "Kitchen                       3.29m x 2.86m (9.4 sqm) - 10' 9\" x 9' 4\" (101 sqft)\n",
      "Kitchen                       5.54m x 2.38m (13.1 sqm) - 18' 2\" x 7' 9\" (141 sqft)\n",
      "Kitchen Area                  1\n",
      "Kitchen Area                  1\n",
      "Kitchen Area                  1\n",
      "Kitchen Diner                 1\n",
      "Family Kitchen                23.4m x 17.7m (414.1 sqm) - 76' 9\" x 58' (4458 sqft)\n",
      "Kitchen                       4.01m x 2.48m (9.9 sqm) - 13' 2\" x 8' 1\" (107 sqft)\n",
      "Kitchen Diner                 4.15m x 2.92m (12.1 sqm) - 13' 7\" x 9' 6\" (130 sqft)\n",
      "Kitchen Diner                 3.9m x 3.5m (13.6 sqm) - 12' 9\" x 11' 5\" (146 sqft)\n",
      "Kitchen Diner                 5.44m x 4.88m (26.5 sqm) - 17' 10\" x 16' (285 sqft)\n",
      "Family Living Kitchen         6.47m x 4.98m (32.2 sqm) - 21' 2\" x 16' 4\" (346 sqft)\n",
      "Breakfast Kitchen             3.97m x 3.07m (12.1 sqm) - 13' x 10' (131 sqft)\n",
      "Kitchen                       2.86m x 2m (5.7 sqm) - 9' 4\" x 6' 7\" (61 sqft)\n",
      "Kitchen                       4.57m x 2.4m (10.9 sqm) - 14' 11\" x 7' 10\" (118 sqft)\n",
      "Kitchen /  Dining Room        3.84m x 3.38m (12.9 sqm) - 12' 7\" x 11' 1\" (139 sqft)\n",
      "Kitchen /  Dining Room        5.63m x 3.1m (17.4 sqm) - 18' 5\" x 10' 2\" (187 sqft)\n",
      "Kitchen                       3.56m x 2.31m (8.2 sqm) - 11' 8\" x 7' 6\" (88 sqft)\n",
      "Kitchen /  Dining Room        5.81m x 3.96m (23 sqm) - 19' x 12' 11\" (247 sqft)\n",
      "Kitchen /  Dining Room        6.4m x 2.74m (17.5 sqm) - 20' 11\" x 8' 11\" (188 sqft)\n",
      "Kitchen                       3.88m x 2.45m (9.5 sqm) - 12' 8\" x 8' (102 sqft)\n",
      "Kitchen                       3.65m x 2.97m (10.8 sqm) - 11' 11\" x 9' 8\" (116 sqft)\n",
      "Kitchen /  Dining Room        4.33m x 2.44m (10.5 sqm) - 14' 2\" x 8' (113 sqft)\n",
      "Kitchen /  Dining Room        3.83m x 3.36m (12.8 sqm) - 12' 6\" x 11' (138 sqft)\n",
      "Open Plan Living Kitchen      5.94m x 4.87m (28.9 sqm) - 19' 5\" x 15' 11\" (311 sqft)\n",
      "Open Plan Dining /  Kitchen   5.55m x 4.92m (27.3 sqm) - 18' 2\" x 16' 1\" (293 sqft)\n",
      "Kitchen /  Dining Room        10.6m x 3.1m (32.8 sqm) - 34' 9\" x 10' 2\" (353 sqft)\n",
      "Open Plan Living Room / Kitchen4.59m x 4.45m (20.4 sqm) - 15' x 14' 7\" (219 sqft)\n",
      "Kitchen                       3.61m x 2.36m (8.5 sqm) - 11' 10\" x 7' 8\" (91 sqft)\n",
      "Kitchen Diner                 4.55m x 2.44m (11.1 sqm) - 14' 11\" x 8' (119 sqft)\n",
      "Kitchen                       3.67m x 1.79m (6.5 sqm) - 12' x 5' 10\" (70 sqft)\n",
      "Kitchen Diner                 3.01m x 2.93m (8.8 sqm) - 9' 10\" x 9' 7\" (94 sqft)\n",
      "Kitchen Diner                 5m x 4.09m (20.5 sqm) - 16' 4\" x 13' 5\" (220 sqft)\n",
      "Open Plan Dining /  Kitchen   5.03m x 3.66m (18.4 sqm) - 16' 6\" x 12' (198 sqft)\n",
      "Kitchen Diner                 4.58m x 4.5m (20.6 sqm) - 15' x 14' 9\" (221 sqft)\n",
      "Kitchenette                   3.81m x 1.83m (6.9 sqm) - 12' 6\" x 6' (75 sqft)\n",
      "Kitchen Diner                 5.65m x 3.02m (17 sqm) - 18' 6\" x 9' 10\" (183 sqft)\n",
      "Kitchen /  Dining Room        5.25m x 2.45m (12.8 sqm) - 17' 2\" x 8' (138 sqft)\n",
      "Kitchen/Dining/Living Room    1\n",
      "Open Plan Living Room / Kitchen6.05m x 5.18m (31.3 sqm) - 19' 10\" x 16' 11\" (337 sqft)\n",
      "Kitchen Area                  1\n",
      "Open Plan Living Room / Kitchen6.9m x 3.17m (21.8 sqm) - 22' 7\" x 10' 4\" (235 sqft)\n",
      "Open Plan Dining /  Kitchen   4.8m x 4.13m (19.8 sqm) - 15' 8\" x 13' 6\" (213 sqft)\n",
      "Kitchen Diner                 4.86m x 3.69m (17.9 sqm) - 15' 11\" x 12' 1\" (193 sqft)\n",
      "Kitchen                       3.8m x 2.76m (10.4 sqm) - 12' 5\" x 9' (112 sqft)\n",
      "Kitchen                       2.43m x 2.13m (5.1 sqm) - 7' 11\" x 6' 11\" (55 sqft)\n",
      "Kitchen                       3.05m x 1.87m (5.7 sqm) - 10' x 6' 1\" (61 sqft)\n",
      "Kitchen                       3.65m x 3.04m (11 sqm) - 11' 11\" x 9' 11\" (119 sqft)\n",
      "Kitchen Diner                 4.36m x 2.68m (11.6 sqm) - 14' 3\" x 8' 9\" (125 sqft)\n",
      "Kitchen Diner                 4.11m x 3.38m (13.8 sqm) - 13' 5\" x 11' 1\" (149 sqft)\n",
      "Kitchen Diner                 3.71m x 3.4m (12.6 sqm) - 12' 2\" x 11' 1\" (135 sqft)\n",
      "Kitchen                       4.38m x 2.74m (12 sqm) - 14' 4\" x 8' 11\" (129 sqft)\n",
      "Kitchen                       5.59m x 2.79m (15.5 sqm) - 18' 4\" x 9' 1\" (167 sqft)\n",
      "Kitchen                       3.46m x 2.45m (8.4 sqm) - 11' 4\" x 8' (91 sqft)\n",
      "Kitchen                       2.95m x 2.49m (7.3 sqm) - 9' 8\" x 8' 2\" (79 sqft)\n",
      "Kitchen Diner                 4.09m x 2.74m (11.2 sqm) - 13' 5\" x 8' 11\" (120 sqft)\n",
      "Kitchen                       5.68m x 3.09m (17.5 sqm) - 18' 7\" x 10' 1\" (188 sqft)\n",
      "Kitchen                       2.18m x 3.05m (6.6 sqm) - 7' 1\" x 10' (71 sqft)\n",
      "Open Plan Living Kitchen      6.43m x 2.82m (18.1 sqm) - 21' 1\" x 9' 3\" (195 sqft)\n",
      "Kitchen                       2.95m x 2.49m (7.3 sqm) - 9' 8\" x 8' 2\" (79 sqft)\n",
      "Kitchen                       2.69m x 2.56m (6.8 sqm) - 8' 9\" x 8' 4\" (74 sqft)\n",
      "Kitchen                       5.22m x 2.8m (14.6 sqm) - 17' 1\" x 9' 2\" (157 sqft)\n",
      "Kitchen Area                  1\n",
      "Open Plan Living Kitchen      4.84m x 3.36m (16.2 sqm) - 15' 10\" x 11' (175 sqft)\n",
      "Kitchen                       2.97m x 1.65m (4.9 sqm) - 9' 8\" x 5' 4\" (52 sqft)\n",
      "Kitchen                       3.37m x 2.63m (8.8 sqm) - 11' x 8' 7\" (95 sqft)\n",
      "Kitchen                       1\n",
      "Kitchen Diner                 2.57m x 4.63m (11.9 sqm) - 8' 5\" x 15' 2\" (128 sqft)\n",
      "Kitchen Area                  2m x 3.32m (6.6 sqm) - 6' 6\" x 10' 10\" (71 sqft)\n",
      "Kitchen Diner                 6.5m x 3.11m (20.2 sqm) - 21' 3\" x 10' 2\" (217 sqft)\n",
      "Kitchen                       2.77m x 1.7m (4.7 sqm) - 9' 1\" x 5' 6\" (50 sqft)\n",
      "Kitchen Diner                 4.76m x 2.66m (12.6 sqm) - 15' 7\" x 8' 8\" (136 sqft)\n",
      "Open Plan Living Room / Kitchen5.72m x 2.92m (16.7 sqm) - 18' 9\" x 9' 6\" (179 sqft)\n",
      "Kitchen                       3.45m x 2.35m (8.1 sqm) - 11' 3\" x 7' 8\" (87 sqft)\n",
      "Open Plan Living Room / Kitchen5.8m x 2.7m (15.6 sqm) - 19' x 8' 10\" (168 sqft)\n",
      "Kitchen Area                  5.8m x 2.7m (15.6 sqm) - 19' x 8' 10\" (168 sqft)\n",
      "Kitchen Area                  5.8m x 2.7m (15.6 sqm) - 19' x 8' 10\" (168 sqft)\n",
      "Kitchen                       4.57m x 2.69m (12.2 sqm) - 14' 11\" x 8' 9\" (132 sqft)\n",
      "Kitchen                       3.84m x 2.67m (10.2 sqm) - 12' 7\" x 8' 9\" (110 sqft)\n",
      "Kitchen Area                  3m x 1.86m (5.5 sqm) - 9' 10\" x 6' 1\" (60 sqft)\n",
      "Kitchen                       2.72m x 4.25m (11.5 sqm) - 8' 11\" x 13' 11\" (124 sqft)\n",
      "Kitchen                       3.05m x 1.88m (5.7 sqm) - 10' x 6' 2\" (61 sqft)\n",
      "Kitchen Diner                 2.66m x 4.57m (12.1 sqm) - 8' 8\" x 14' 11\" (130 sqft)\n",
      "Open Plan Dining/Kitchen/Family Room5m x 7.45m (37.2 sqm) - 16' 4\" x 24' 5\" (400 sqft)\n",
      "Kitchen                       2.36m x 2.36m (5.5 sqm) - 7' 8\" x 7' 8\" (59 sqft)\n",
      "Kitchen                       2.7m x 1.7m (4.5 sqm) - 8' 10\" x 5' 6\" (49 sqft)\n",
      "Kitchen                       4.13m x 2.21m (9.1 sqm) - 13' 6\" x 7' 3\" (98 sqft)\n",
      "Kitchen Area                  1\n",
      "Kitchen                       3.3m x 3.01m (9.9 sqm) - 10' 9\" x 9' 10\" (106 sqft)\n",
      "Kitchen                       3.37m x 3.53m (11.8 sqm) - 11' x 11' 6\" (128 sqft)\n",
      "Kitchen /  Dining Room        6.6m x 2.92m (19.2 sqm) - 21' 7\" x 9' 6\" (207 sqft)\n",
      "Kitchen Area                  1\n",
      "Open Plan Dining/Kitchen/Family Room4.67m x 2.69m (12.5 sqm) - 15' 3\" x 8' 9\" (135 sqft)\n",
      "Kitchen Diner                 4.87m x 2.97m (14.4 sqm) - 15' 11\" x 9' 8\" (155 sqft)\n",
      "Open Plan Living Room / Kitchen6.76m x 4.25m (28.7 sqm) - 22' 2\" x 13' 11\" (309 sqft)\n",
      "Kitchen Area                  1\n",
      "Kitchen Diner                 5.36m x 2.9m (15.5 sqm) - 17' 7\" x 9' 6\" (167 sqft)\n",
      "Open Plan Living Kitchen      5.74m x 4.88m (28 sqm) - 18' 9\" x 16' (301 sqft)\n",
      "Kitchen Area                  1\n",
      "Kitchen /  Dining Room        5.05m x 4.24m (21.4 sqm) - 16' 6\" x 13' 10\" (230 sqft)\n",
      "Kitchen                       5.41m x 4.3m (23.3 sqm) - 17' 8\" x 14' 1\" (250 sqft)\n",
      "Kitchen Diner                 3.07m x 2.6m (7.9 sqm) - 10' x 8' 6\" (85 sqft)\n",
      "Kitchen                       2.75m x 2.4m (6.6 sqm) - 9' x 7' 10\" (71 sqft)\n",
      "Kitchen /  Dining Room        3.16m x 4.55m (14.4 sqm) - 10' 4\" x 14' 11\" (155 sqft)\n",
      "Kitchen                       3.92m x 1.9m (7.4 sqm) - 12' 10\" x 6' 2\" (80 sqft)\n",
      "Kitchen /  Dining Room        6.87m x 3.04m (20.8 sqm) - 22' 6\" x 9' 11\" (224 sqft)\n",
      "Kitchen / Breakfast Room      1\n",
      "Kitchen /  Dining Room        5.33m x 3.5m (18.6 sqm) - 17' 5\" x 11' 5\" (200 sqft)\n",
      "Kitchen                       3.44m x 2.84m (9.7 sqm) - 11' 3\" x 9' 3\" (105 sqft)\n",
      "Kitchen                       1\n",
      "Kitchen /  Dining Room        4.09m x 3.25m (13.3 sqm) - 13' 5\" x 10' 7\" (143 sqft)\n",
      "Kitchen /  Dining Room        5m x 3.2m (16 sqm) - 16' 4\" x 10' 5\" (172 sqft)\n",
      "Kitchen                       3.1m x 2.5m (7.7 sqm) - 10' 2\" x 8' 2\" (83 sqft)\n",
      "Kitchen Diner                 4.09m x 3.2m (13.1 sqm) - 13' 5\" x 10' 5\" (141 sqft)\n",
      "Kitchen                       1\n",
      "Kitchen Diner                 3.6m x 3.2m (11.5 sqm) - 11' 9\" x 10' 5\" (123 sqft)\n",
      "Kitchen Diner                 4.2m x 3.6m (15.1 sqm) - 13' 9\" x 11' 9\" (162 sqft)\n",
      "Kitchen                       5m x 3.4m (17 sqm) - 16' 4\" x 11' 1\" (182 sqft)\n",
      "Kitchen                       4.97m x 2.5m (12.4 sqm) - 16' 3\" x 8' 2\" (133 sqft)\n",
      "Open Plan Dining/Kitchen/Family Room6.99m x 5.51m (38.5 sqm) - 22' 11\" x 18' (414 sqft)\n",
      "Kitchen                       3.3m x 2.2m (7.2 sqm) - 10' 9\" x 7' 2\" (78 sqft)\n",
      "Open Plan Dining/Kitchen/Family Room6.75m x 6.65m (44.8 sqm) - 22' 1\" x 21' 9\" (483 sqft)\n",
      "Kitchen                       4.93m x 2.27m (11.2 sqm) - 16' 2\" x 7' 5\" (120 sqft)\n",
      "Kitchen /  Dining Room        6.02m x 5.49m (33 sqm) - 19' 9\" x 18' (355 sqft)\n",
      "Kitchen                       2.77m x 2.54m (7 sqm) - 9' 1\" x 8' 4\" (76 sqft)\n",
      "Kitchen / Breakfast Room      5.39m x 4.3m (23.1 sqm) - 17' 8\" x 14' 1\" (249 sqft)\n",
      "Kitchen                       3.27m x 1.91m (6.2 sqm) - 10' 8\" x 6' 3\" (67 sqft)\n",
      "Kitchen                       3.64m x 2.16m (7.8 sqm) - 11' 11\" x 7' 1\" (84 sqft)\n",
      "Kitchen                       5.14m x 2.44m (12.5 sqm) - 16' 10\" x 8' (134 sqft)\n",
      "Kitchen                       4.59m x 3.85m (17.6 sqm) - 15' x 12' 7\" (190 sqft)\n",
      "Kitchen                       3.15m x 2.5m (7.9 sqm) - 10' 4\" x 8' 2\" (85 sqft)\n",
      "Kitchen Diner                 5.91m x 4.16m (24.5 sqm) - 19' 4\" x 13' 7\" (264 sqft)\n",
      "Kitchen                       2.85m x 2.8m (7.9 sqm) - 9' 4\" x 9' 2\" (85 sqft)\n",
      "Kitchen                       3.73m x 3.37m (12.5 sqm) - 12' 2\" x 11' (135 sqft)\n",
      "Kitchen                       5.25m x 11.3m (59.3 sqm) - 17' 2\" x 37' (638 sqft)\n",
      "Kitchen Diner                 6.22m x 3.71m (23 sqm) - 20' 4\" x 12' 2\" (248 sqft)\n",
      "Family Kitchen                6.02m x 4.88m (29.4 sqm) - 19' 9\" x 16' (316 sqft)\n",
      "Kitchen Diner                 4.53m x 2.96m (13.4 sqm) - 14' 10\" x 9' 8\" (144 sqft)\n",
      "Kitchen                       4.92m x 3m (14.7 sqm) - 16' 1\" x 9' 10\" (158 sqft)\n",
      "Kitchen                       4.01m x 2.36m (9.4 sqm) - 13' 2\" x 7' 8\" (102 sqft)\n",
      "Kitchen                       2.71m x 1.69m (4.5 sqm) - 8' 10\" x 5' 6\" (49 sqft)\n",
      "Kitchen                       3.74m x 3.64m (13.6 sqm) - 12' 3\" x 11' 11\" (146 sqft)\n",
      "Open Plan Dining/Kitchen/Family Room1\n",
      "Kitchen                       6.13m x 3.02m (18.5 sqm) - 20' 1\" x 9' 10\" (199 sqft)\n",
      "Kitchen                       5.71m x 2.49m (14.2 sqm) - 18' 8\" x 8' 2\" (153 sqft)\n",
      "Kitchen Diner                 4.21m x 3.42m (14.3 sqm) - 13' 9\" x 11' 2\" (154 sqft)\n",
      "Kitchen Diner                 5.91m x 4.16m (24.5 sqm) - 19' 4\" x 13' 7\" (264 sqft)\n",
      "Kitchen                       3.15m x 2.19m (6.8 sqm) - 10' 4\" x 7' 2\" (74 sqft)\n",
      "Kitchen                       4.65m x 3.87m (17.9 sqm) - 15' 3\" x 12' 8\" (193 sqft)\n",
      "Kitchen / Breakfast Room      6.08m x 4.38m (26.6 sqm) - 19' 11\" x 14' 4\" (286 sqft)\n",
      "Kitchen                       3.42m x 2.62m (8.9 sqm) - 11' 2\" x 8' 7\" (96 sqft)\n",
      "Kitchen /  Dining Room        6.55m x 3.55m (23.2 sqm) - 21' 5\" x 11' 7\" (250 sqft)\n",
      "Kitchen                       3.2m x 2.8m (8.9 sqm) - 10' 5\" x 9' 2\" (96 sqft)\n",
      "Kitchen /  Dining Room        6.9m x 3.9m (26.9 sqm) - 22' 7\" x 12' 9\" (289 sqft)\n",
      "Kitchen                       2.25m x 2.35m (5.2 sqm) - 7' 4\" x 7' 8\" (56 sqft)\n",
      "Breakfast Kitchen             5.2m x 4.25m (22.1 sqm) - 17' x 13' 11\" (237 sqft)\n",
      "Kitchen                       3m x 2.5m (7.5 sqm) - 9' 10\" x 8' 2\" (80 sqft)\n",
      "Kitchen Diner                 6.75m x 3.15m (21.2 sqm) - 22' 1\" x 10' 4\" (228 sqft)\n",
      "Kitchen Diner                 6.5m x 3.5m (22.7 sqm) - 21' 3\" x 11' 5\" (244 sqft)\n",
      "Kitchen                       3.2m x 2.7m (8.6 sqm) - 10' 5\" x 8' 10\" (92 sqft)\n",
      "Breakfast Kitchen             4m x 3.75m (15 sqm) - 13' 1\" x 12' 3\" (161 sqft)\n",
      "Kitchen                       4.3m x 3.65m (15.6 sqm) - 14' 1\" x 11' 11\" (168 sqft)\n",
      "Kitchen                       2.85m x 2.35m (6.6 sqm) - 9' 4\" x 7' 8\" (72 sqft)\n",
      "Kitchen                       2.29m x 2.29m (5.2 sqm) - 7' 6\" x 7' 6\" (56 sqft)\n",
      "Kitchen Diner                 4.75m x 3.15m (14.9 sqm) - 15' 7\" x 10' 4\" (161 sqft)\n",
      "Kitchen                       3.3m x 2.2m (7.2 sqm) - 10' 9\" x 7' 2\" (78 sqft)\n",
      "Kitchen                       2.85m x 1.95m (5.5 sqm) - 9' 4\" x 6' 4\" (59 sqft)\n",
      "Breakfast Kitchen             6m x 2.6m (15.6 sqm) - 19' 8\" x 8' 6\" (167 sqft)\n",
      "Breakfast Kitchen             5.05m x 4.15m (20.9 sqm) - 16' 6\" x 13' 7\" (225 sqft)\n",
      "Kitchen                       3.5m x 2.5m (8.7 sqm) - 11' 5\" x 8' 2\" (94 sqft)\n",
      "Breakfast Kitchen             4.15m x 3.15m (13 sqm) - 13' 7\" x 10' 4\" (140 sqft)\n",
      "Kitchen                       2.88m x 3.18m (9.1 sqm) - 9' 5\" x 10' 5\" (98 sqft)\n",
      "Kitchen /  Dining Room        6.92m x 5.44m (37.6 sqm) - 22' 8\" x 17' 10\" (405 sqft)\n",
      "Kitchen /  Dining Room        4.37m x 5.33m (23.2 sqm) - 14' 4\" x 17' 5\" (250 sqft)\n",
      "Kitchen                       3.7m x 3.23m (11.9 sqm) - 12' 1\" x 10' 7\" (128 sqft)\n",
      "Kitchen                       5.96m x 2.67m (15.9 sqm) - 19' 6\" x 8' 9\" (171 sqft)\n",
      "Kitchen                       4.29m x 2.84m (12.1 sqm) - 14' x 9' 3\" (131 sqft)\n",
      "Kitchen Diner                 4.86m x 3.69m (17.9 sqm) - 15' 11\" x 12' 1\" (193 sqft)\n",
      "Kitchen                       3.06m x 4.01m (12.2 sqm) - 10' x 13' 1\" (132 sqft)\n",
      "Kitchen                       3.52m x 2.38m (8.3 sqm) - 11' 6\" x 7' 9\" (90 sqft)\n",
      "Kitchen                       3.09m x 2.96m (9.1 sqm) - 10' 1\" x 9' 8\" (98 sqft)\n",
      "Kitchen /  Dining Room        3.61m x 6.11m (22 sqm) - 11' 10\" x 20' (237 sqft)\n",
      "Kitchen /  Dining Room        5.68m x 5.23m (29.7 sqm) - 18' 7\" x 17' 1\" (319 sqft)\n",
      "Kitchen                       4.42m x 2.54m (11.2 sqm) - 14' 6\" x 8' 4\" (120 sqft)\n",
      "Kitchen                       3.39m x 3.11m (10.5 sqm) - 11' 1\" x 10' 2\" (113 sqft)\n",
      "Kitchen /  Dining Room        1\n",
      "Kitchen /  Dining Room        4.34m x 5.31m (23 sqm) - 14' 3\" x 17' 5\" (248 sqft)\n",
      "Kitchen                       3.78m x 3.35m (12.6 sqm) - 12' 4\" x 10' 11\" (136 sqft)\n",
      "Kitchen                       4.53m x 2.36m (10.6 sqm) - 14' 10\" x 7' 8\" (115 sqft)\n",
      "Kitchen                       2.69m x 2.78m (7.4 sqm) - 8' 9\" x 9' 1\" (80 sqft)\n",
      "Kitchen                       4.36m x 2.58m (11.2 sqm) - 14' 3\" x 8' 5\" (121 sqft)\n",
      "Kitchen Diner                 2.64m x 5.6m (14.7 sqm) - 8' 7\" x 18' 4\" (159 sqft)\n",
      "Kitchen                       4.19m x 1.82m (7.6 sqm) - 13' 8\" x 5' 11\" (82 sqft)\n",
      "Kitchen /  Dining Room        5.86m x 2.96m (17.3 sqm) - 19' 2\" x 9' 8\" (186 sqft)\n",
      "Kitchen                       2.97m x 4.48m (13.3 sqm) - 9' 8\" x 14' 8\" (143 sqft)\n",
      "Kitchen                       3.2m x 2.81m (8.9 sqm) - 10' 5\" x 9' 2\" (96 sqft)\n",
      "Kitchen                       5.79m x 2.92m (16.9 sqm) - 18' 11\" x 9' 6\" (181 sqft)\n",
      "Kitchen                       4.34m x 2.39m (10.3 sqm) - 14' 2\" x 7' 10\" (111 sqft)\n",
      "Kitchen/Dining/Living Room    8.05m x 7.73m (62.2 sqm) - 26' 4\" x 25' 4\" (669 sqft)\n",
      "Kitchen                       3.44m x 3.57m (12.2 sqm) - 11' 3\" x 11' 8\" (132 sqft)\n",
      "Kitchen                       4.71m x 3.46m (16.2 sqm) - 15' 5\" x 11' 4\" (175 sqft)\n",
      "Kitchen                       4.94m x 2.59m (12.7 sqm) - 16' 2\" x 8' 5\" (137 sqft)\n",
      "Kitchen                       3.2m x 2.59m (8.2 sqm) - 10' 5\" x 8' 5\" (89 sqft)\n",
      "Kitchen                       4.44m x 2.78m (12.3 sqm) - 14' 6\" x 9' 1\" (132 sqft)\n",
      "Kitchen Diner                 3.58m x 4.34m (15.5 sqm) - 11' 8\" x 14' 2\" (167 sqft)\n",
      "Kitchen                       1\n",
      "Kitchen                       1\n",
      "Kitchen                       2.85m x 3.95m (11.2 sqm) - 9' 4\" x 12' 11\" (121 sqft)\n",
      "Kitchen / Breakfast Room      6.93m x 2.29m (15.8 sqm) - 22' 8\" x 7' 6\" (170 sqft)\n",
      "Kitchen                       2.86m x 2.43m (6.9 sqm) - 9' 4\" x 7' 11\" (74 sqft)\n",
      "Kitchen                       2.95m x 2.79m (8.2 sqm) - 9' 8\" x 9' 1\" (88 sqft)\n",
      "Kitchen                       2.72m x 1.96m (5.3 sqm) - 8' 11\" x 6' 5\" (57 sqft)\n",
      "Kitchen                       2.92m x 1.82m (5.3 sqm) - 9' 6\" x 5' 11\" (57 sqft)\n",
      "Kitchen                       2.54m x 2.24m (5.7 sqm) - 8' 4\" x 7' 4\" (61 sqft)\n",
      "Kitchen                       3.45m x 3.45m (11.9 sqm) - 11' 3\" x 11' 3\" (128 sqft)\n",
      "Kitchen                       3.2m x 2.2m (7 sqm) - 10' 5\" x 7' 2\" (75 sqft)\n",
      "Kitchen/Dining/Living Room    5.5m x 3.83m (21 sqm) - 18' x 12' 6\" (226 sqft)\n",
      "Kitchen                       3.97m x 2.54m (10 sqm) - 13' x 8' 4\" (108 sqft)\n",
      "Kitchen                       3.94m x 1.84m (7.2 sqm) - 12' 11\" x 6' (78 sqft)\n",
      "Kitchen                       3.46m x 2.27m (7.8 sqm) - 11' 4\" x 7' 5\" (84 sqft)\n",
      "Kitchen /  Dining Room        4.45m x 3.21m (14.2 sqm) - 14' 7\" x 10' 6\" (153 sqft)\n",
      "Kitchen                       3.26m x 3.22m (10.4 sqm) - 10' 8\" x 10' 6\" (112 sqft)\n",
      "Kitchen                       2.38m x 2.38m (5.6 sqm) - 7' 9\" x 7' 9\" (60 sqft)\n",
      "Kitchen                       2.18m x 2.12m (4.6 sqm) - 7' 1\" x 6' 11\" (49 sqft)\n",
      "Kitchen                       4.24m x 3.49m (14.7 sqm) - 13' 10\" x 11' 5\" (159 sqft)\n",
      "Kitchen                       5.12m x 1.82m (9.3 sqm) - 16' 9\" x 5' 11\" (100 sqft)\n",
      "Kitchen                       1.65m x 1.59m (2.6 sqm) - 5' 4\" x 5' 2\" (28 sqft)\n",
      "Kitchen                       2.27m x 2.74m (6.2 sqm) - 7' 5\" x 8' 11\" (67 sqft)\n",
      "Kitchen                       1.65m x 1.59m (2.6 sqm) - 5' 4\" x 5' 2\" (28 sqft)\n",
      "Kitchen                       2.47m x 1.98m (4.8 sqm) - 8' 1\" x 6' 5\" (52 sqft)\n",
      "Kitchen                       2m x 1.69m (3.3 sqm) - 6' 7\" x 5' 6\" (36 sqft)\n",
      "Kitchen                       3.48m x 2.38m (8.2 sqm) - 11' 5\" x 7' 9\" (89 sqft)\n",
      "Kitchen                       3.94m x 1.84m (7.2 sqm) - 12' 11\" x 6' (78 sqft)\n",
      "Kitchen                       2.98m x 2.5m (7.4 sqm) - 9' 9\" x 8' 2\" (80 sqft)\n",
      "Open Plan Living Room / Kitchen6.2m x 4.3m (26.6 sqm) - 20' 4\" x 14' 1\" (286 sqft)\n",
      "Kitchen                       3.01m x 2.9m (8.7 sqm) - 9' 10\" x 9' 6\" (93 sqft)\n",
      "Open Plan Living Room / Kitchen6.3m x 3.5m (22 sqm) - 20' 8\" x 11' 5\" (237 sqft)\n",
      "Open Plan Living Room / Kitchen4.5m x 3.8m (17.1 sqm) - 14' 9\" x 12' 5\" (184 sqft)\n",
      "Kitchen Diner                 4.99m x 3.04m (15.1 sqm) - 16' 4\" x 9' 11\" (163 sqft)\n",
      "Kitchen / Breakfast Room      3.71m x 2.06m (7.6 sqm) - 12' 2\" x 6' 9\" (82 sqft)\n",
      "Open Plan Living Kitchen      7.9m x 4m (31.6 sqm) - 25' 11\" x 13' 1\" (340 sqft)\n",
      "Open Plan Dining/Kitchen/Family Room6.94m x 4.2m (29.1 sqm) - 22' 9\" x 13' 9\" (313 sqft)\n",
      "Kitchen /  Dining Room        4.87m x 4.05m (19.7 sqm) - 15' 11\" x 13' 3\" (212 sqft)\n",
      "Open Plan Living Room / Kitchen1\n",
      "Kitchen                       4.44m x 2.24m (9.9 sqm) - 14' 6\" x 7' 4\" (107 sqft)\n",
      "Kitchen Diner                 5.09m x 4.2m (21.4 sqm) - 16' 8\" x 13' 9\" (230 sqft)\n",
      "Kitchen Diner                 4.59m x 3.8m (17.4 sqm) - 15' x 12' 5\" (187 sqft)\n",
      "Kitchen                       1\n",
      "Kitchen /  Dining Room        20m x 15m (300 sqm) - 65' 7\" x 49' 2\" (3229 sqft)\n",
      "Kitchen                       4.5m x 3.74m (16.8 sqm) - 14' 9\" x 12' 3\" (181 sqft)\n",
      "Kitchen /  Dining Room        5.54m x 2.75m (15.2 sqm) - 18' 2\" x 9' (163 sqft)\n",
      "Kitchen /  Dining Room        5.18m x 4.43m (22.9 sqm) - 16' 11\" x 14' 6\" (247 sqft)\n",
      "Kitchen                       3.19m x 2.72m (8.6 sqm) - 10' 5\" x 8' 11\" (93 sqft)\n",
      "Kitchen                       3.68m x 3.65m (13.4 sqm) - 12' x 11' 11\" (144 sqft)\n",
      "Kitchen /  Dining Room        4.57m x 4.26m (19.5 sqm) - 14' 11\" x 14' (210 sqft)\n",
      "Kitchen /  Dining Room        5.51m x 4.51m (24.9 sqm) - 18' x 14' 9\" (268 sqft)\n",
      "Kitchen /  Dining Room        3.92m x 3.56m (13.9 sqm) - 12' 10\" x 11' 8\" (150 sqft)\n",
      "Kitchen /  Dining Room        6.02m x 5.25m (31.6 sqm) - 19' 9\" x 17' 2\" (340 sqft)\n",
      "Kitchen / Breakfast Room      9.01m x 4.78m (43 sqm) - 29' 6\" x 15' 8\" (463 sqft)\n",
      "Kitchen /  Dining Room        8m x 2.93m (23.4 sqm) - 26' 2\" x 9' 7\" (252 sqft)\n",
      "Kitchen                       3.94m x 3.03m (11.9 sqm) - 12' 11\" x 9' 11\" (128 sqft)\n",
      "Kitchen / Breakfast Room      5.11m x 2.57m (13.1 sqm) - 16' 9\" x 8' 5\" (141 sqft)\n",
      "Kitchen /  Dining Room        4.75m x 2.95m (14 sqm) - 15' 7\" x 9' 8\" (150 sqft)\n",
      "Kitchen                       4.04m x 3.27m (13.2 sqm) - 13' 3\" x 10' 8\" (142 sqft)\n",
      "Kitchen                       4.7m x 2.09m (9.8 sqm) - 15' 5\" x 6' 10\" (105 sqft)\n",
      "Kitchen                       3.54m x 3.32m (11.7 sqm) - 11' 7\" x 10' 10\" (126 sqft)\n",
      "Kitchen                       3.73m x 3.25m (12.1 sqm) - 12' 2\" x 10' 7\" (130 sqft)\n",
      "Kitchen Diner                 4.33m x 4.2m (18.1 sqm) - 14' 2\" x 13' 9\" (195 sqft)\n",
      "Kitchen / Breakfast Room      5.49m x 3.07m (16.8 sqm) - 18' x 10' (181 sqft)\n",
      "Kitchen /  Dining Room        5.89m x 3.75m (22 sqm) - 19' 3\" x 12' 3\" (237 sqft)\n",
      "Kitchen                       4.43m x 2.39m (10.5 sqm) - 14' 6\" x 7' 10\" (113 sqft)\n",
      "Kitchen                       4.24m x 2.99m (12.6 sqm) - 13' 10\" x 9' 9\" (136 sqft)\n",
      "Kitchen                       3.83m x 2.58m (9.8 sqm) - 12' 6\" x 8' 5\" (106 sqft)\n",
      "Kitchen                       3.08m x 3.01m (9.2 sqm) - 10' 1\" x 9' 10\" (99 sqft)\n",
      "Kitchen                       3.08m x 3.01m (9.2 sqm) - 10' 1\" x 9' 10\" (99 sqft)\n",
      "Kitchen /  Dining Room        5.69m x 5.36m (30.4 sqm) - 18' 8\" x 17' 7\" (328 sqft)\n",
      "Kitchen                       3.08m x 2.18m (6.7 sqm) - 10' 1\" x 7' 1\" (72 sqft)\n",
      "Kitchen /  Dining Room        6.78m x 3.02m (20.4 sqm) - 22' 2\" x 9' 10\" (220 sqft)\n",
      "Kitchen Diner                 5.69m x 5.01m (28.5 sqm) - 18' 8\" x 16' 5\" (306 sqft)\n",
      "Kitchen / Breakfast Room      7.29m x 4.04m (29.4 sqm) - 23' 11\" x 13' 3\" (317 sqft)\n",
      "Kitchen                       3.66m x 2.74m (10 sqm) - 12' x 8' 11\" (107 sqft)\n",
      "Kitchen                       3.68m x 2.29m (8.4 sqm) - 12' x 7' 6\" (90 sqft)\n",
      "Kitchen /  Dining Room        4.01m x 3.98m (15.9 sqm) - 13' 1\" x 13' (171 sqft)\n",
      "Kitchen /  Dining Room        5.41m x 3m (16.2 sqm) - 17' 8\" x 9' 10\" (174 sqft)\n",
      "Kitchen                       4.24m x 2.46m (10.4 sqm) - 13' 10\" x 8' (112 sqft)\n",
      "Kitchen                       4.37m x 3.12m (13.6 sqm) - 14' 4\" x 10' 2\" (146 sqft)\n",
      "Kitchen                       2.21m x 1.51m (3.3 sqm) - 7' 3\" x 4' 11\" (35 sqft)\n",
      "Kitchen /  Dining Room        5.31m x 3.53m (18.7 sqm) - 17' 5\" x 11' 6\" (201 sqft)\n",
      "Kitchen                       3.78m x 1.9m (7.1 sqm) - 12' 4\" x 6' 2\" (77 sqft)\n",
      "Kitchen /  Dining Room        4.66m x 3.23m (15 sqm) - 15' 3\" x 10' 7\" (162 sqft)\n",
      "Kitchen                       3.43m x 2.96m (10.1 sqm) - 11' 3\" x 9' 8\" (109 sqft)\n",
      "Kitchen /  Dining Room        4.26m x 4.11m (17.5 sqm) - 14' x 13' 5\" (188 sqft)\n",
      "Kitchen /  Dining Room        6.15m x 3.63m (22.3 sqm) - 20' 2\" x 11' 10\" (240 sqft)\n",
      "Kitchen /  Dining Room        3.81m x 3.05m (11.6 sqm) - 12' 6\" x 10' (125 sqft)\n",
      "Kitchen /  Dining Room        5.45m x 2.83m (15.4 sqm) - 17' 10\" x 9' 3\" (166 sqft)\n",
      "Kitchen                       3.21m x 2.62m (8.4 sqm) - 10' 6\" x 8' 7\" (90 sqft)\n",
      "Kitchen /  Dining Room        5.88m x 4.49m (26.4 sqm) - 19' 3\" x 14' 8\" (284 sqft)\n",
      "Kitchen Diner                 4.18m x 3.56m (14.8 sqm) - 13' 8\" x 11' 8\" (160 sqft)\n",
      "Kitchen                       2.64m x 2.73m (7.2 sqm) - 8' 7\" x 8' 11\" (77 sqft)\n",
      "Kitchen                       1\n",
      "Kitchen                       3.53m x 2.62m (9.2 sqm) - 11' 6\" x 8' 7\" (99 sqft)\n",
      "Kitchen / Breakfast Room      8.41m x 2.76m (23.2 sqm) - 27' 7\" x 9' (249 sqft)\n",
      "Kitchen                       2.62m x 2.42m (6.3 sqm) - 8' 7\" x 7' 11\" (68 sqft)\n",
      "Kitchen /  Dining Room        2.97m x 4.69m (13.9 sqm) - 9' 8\" x 15' 4\" (149 sqft)\n",
      "Kitchen /  Dining Room        4.8m x 2.92m (14 sqm) - 15' 8\" x 9' 6\" (150 sqft)\n",
      "Kitchen Diner                 5.98m x 3.17m (18.9 sqm) - 19' 7\" x 10' 4\" (204 sqft)\n",
      "Kitchen / Breakfast Room      4.38m x 3.05m (13.3 sqm) - 14' 4\" x 10' (143 sqft)\n",
      "Kitchen Diner                 4.93m x 3.1m (15.2 sqm) - 16' 2\" x 10' 2\" (164 sqft)\n",
      "Kitchen Diner                 4.65m x 2.7m (12.5 sqm) - 15' 3\" x 8' 10\" (135 sqft)\n",
      "Kitchen / Breakfast Room      2.34m x 3.38m (7.9 sqm) - 7' 8\" x 11' 1\" (85 sqft)\n",
      "Kitchen / Breakfast Room      2.5m x 5.67m (14.1 sqm) - 8' 2\" x 18' 7\" (152 sqft)\n",
      "Kitchen                       2.29m x 3.19m (7.3 sqm) - 7' 6\" x 10' 5\" (78 sqft)\n",
      "Kitchen Diner                 4.93m x 3.1m (15.2 sqm) - 16' 2\" x 10' 2\" (164 sqft)\n",
      "Open Plan Dining /  Kitchen   9.6m x 5.8m (55.6 sqm) - 31' 5\" x 19' (599 sqft)\n",
      "Kitchen                       4.33m x 2.31m (10 sqm) - 14' 2\" x 7' 6\" (107 sqft)\n",
      "Kitchen                       3.84m x 2.94m (11.2 sqm) - 12' 7\" x 9' 7\" (121 sqft)\n",
      "Kitchen                       2.81m x 2.79m (7.8 sqm) - 9' 2\" x 9' 1\" (84 sqft)\n",
      "Kitchen Diner                 4.8m x 4.42m (21.2 sqm) - 15' 8\" x 14' 6\" (228 sqft)\n",
      "Kitchen                       3.74m x 3.09m (11.5 sqm) - 12' 3\" x 10' 1\" (124 sqft)\n",
      "Kitchen Diner                 4.63m x 3.42m (15.8 sqm) - 15' 2\" x 11' 2\" (170 sqft)\n",
      "Kitchen /  Dining Room        5.15m x 4.38m (22.5 sqm) - 16' 10\" x 14' 4\" (242 sqft)\n",
      "Kitchen /  Dining Room        3.11m x 4.91m (15.2 sqm) - 10' 2\" x 16' 1\" (164 sqft)\n",
      "Kitchen                       3.17m x 2.69m (8.5 sqm) - 10' 4\" x 8' 9\" (91 sqft)\n",
      "Kitchen                       3.52m x 2.98m (10.4 sqm) - 11' 6\" x 9' 9\" (112 sqft)\n",
      "Kitchen /  Dining Room        5.16m x 4.51m (23.2 sqm) - 16' 11\" x 14' 9\" (250 sqft)\n",
      "Kitchen /  Dining Room        4.5m x 2.78m (12.5 sqm) - 14' 9\" x 9' 1\" (134 sqft)\n",
      "Kitchen                       2.99m x 2.29m (6.8 sqm) - 9' 9\" x 7' 6\" (74 sqft)\n",
      "Kitchen                       3.78m x 2.25m (8.5 sqm) - 12' 4\" x 7' 4\" (91 sqft)\n",
      "Kitchen                       2.88m x 2.64m (7.6 sqm) - 9' 5\" x 8' 7\" (81 sqft)\n",
      "Kitchen                       2.4m x 1.8m (4.3 sqm) - 7' 10\" x 5' 10\" (46 sqft)\n",
      "Kitchen /  Dining Room        3.86m x 3.59m (13.8 sqm) - 12' 7\" x 11' 9\" (149 sqft)\n",
      "Kitchen                       3.81m x 3.06m (11.6 sqm) - 12' 6\" x 10' (125 sqft)\n",
      "Kitchen / Breakfast Room      2.84m x 2.69m (7.6 sqm) - 9' 3\" x 8' 9\" (82 sqft)\n",
      "Kitchen / Breakfast Room      4.8m x 3.29m (15.7 sqm) - 15' 8\" x 10' 9\" (169 sqft)\n",
      "Kitchen                       3.99m x 2.56m (10.2 sqm) - 13' 1\" x 8' 4\" (109 sqft)\n",
      "Kitchen                       3.82m x 2.69m (10.2 sqm) - 12' 6\" x 8' 9\" (110 sqft)\n",
      "Kitchen                       3.65m x 2.91m (10.6 sqm) - 11' 11\" x 9' 6\" (114 sqft)\n",
      "Kitchen                       3.1m x 2.35m (7.2 sqm) - 10' 2\" x 7' 8\" (78 sqft)\n",
      "Kitchen /  Dining Room        5.72m x 2.74m (15.6 sqm) - 18' 9\" x 8' 11\" (168 sqft)\n",
      "Kitchen                       2.96m x 2.48m (7.3 sqm) - 9' 8\" x 8' 1\" (79 sqft)\n",
      "Kitchen                       3.8m x 2.54m (9.6 sqm) - 12' 5\" x 8' 4\" (103 sqft)\n",
      "Kitchen                       3.36m x 2.82m (9.4 sqm) - 11' x 9' 3\" (101 sqft)\n",
      "Kitchen                       2.71m x 1.93m (5.2 sqm) - 8' 10\" x 6' 3\" (56 sqft)\n",
      "Kitchen                       2.94m x 1.98m (5.8 sqm) - 9' 7\" x 6' 5\" (62 sqft)\n",
      "Kitchen                       2.74m x 2.6m (7.1 sqm) - 8' 11\" x 8' 6\" (76 sqft)\n",
      "Kitchen /  Dining Room        4.98m x 2.8m (13.9 sqm) - 16' 4\" x 9' 2\" (150 sqft)\n",
      "Kitchen                       2.39m x 2.38m (5.6 sqm) - 7' 10\" x 7' 9\" (61 sqft)\n",
      "Kitchen                       3.66m x 2.62m (9.5 sqm) - 12' x 8' 7\" (103 sqft)\n",
      "Kitchen                       4.65m x 2.58m (11.9 sqm) - 15' 3\" x 8' 5\" (129 sqft)\n",
      "Kitchen / Breakfast Room      4.84m x 2.4m (11.6 sqm) - 15' 10\" x 7' 10\" (125 sqft)\n",
      "Kitchen Diner                 5.38m x 2.94m (15.8 sqm) - 17' 7\" x 9' 7\" (170 sqft)\n",
      "Kitchen                       5.23m x 3.52m (18.4 sqm) - 17' 1\" x 11' 6\" (198 sqft)\n",
      "Kitchen                       3.76m x 2m (7.5 sqm) - 12' 4\" x 6' 7\" (81 sqft)\n",
      "Kitchen                       3.73m x 3.07m (11.4 sqm) - 12' 2\" x 10' (123 sqft)\n",
      "Kitchen                       2.52m x 2.44m (6.1 sqm) - 8' 3\" x 8' (66 sqft)\n",
      "Kitchen                       3.96m x 3.37m (13.3 sqm) - 12' 11\" x 11' (143 sqft)\n",
      "Kitchen                       3.54m x 3.06m (10.8 sqm) - 11' 7\" x 10' (116 sqft)\n",
      "Kitchen                       3.65m x 2.58m (9.4 sqm) - 11' 11\" x 8' 5\" (101 sqft)\n",
      "Kitchen /  Dining Room        3.57m x 3.45m (12.3 sqm) - 11' 8\" x 11' 3\" (132 sqft)\n",
      "Kitchen                       2.8m x 2.64m (7.3 sqm) - 9' 2\" x 8' 7\" (79 sqft)\n",
      "Kitchen / Breakfast Room      4.05m x 2.27m (9.2 sqm) - 13' 3\" x 7' 5\" (99 sqft)\n",
      "Kitchen                       3m x 2.4m (7.2 sqm) - 9' 10\" x 7' 10\" (77 sqft)\n",
      "Kitchen Diner                 3.86m x 3.59m (13.8 sqm) - 12' 7\" x 11' 9\" (149 sqft)\n",
      "Kitchen                       4.07m x 2.93m (11.9 sqm) - 13' 4\" x 9' 7\" (128 sqft)\n",
      "Kitchen /  Dining Room        5.41m x 4.5m (24.3 sqm) - 17' 8\" x 14' 9\" (262 sqft)\n",
      "Kitchen                       3.54m x 1.82m (6.4 sqm) - 11' 7\" x 5' 11\" (69 sqft)\n",
      "Kitchen                       5.12m x 2.52m (12.9 sqm) - 16' 9\" x 8' 3\" (138 sqft)\n",
      "Kitchen / Breakfast Room      5.62m x 2.4m (13.4 sqm) - 18' 5\" x 7' 10\" (145 sqft)\n",
      "Kitchen /  Dining Room        7.08m x 2.86m (20.2 sqm) - 23' 2\" x 9' 4\" (217 sqft)\n",
      "Open Plan Living Room / Kitchen6.15m x 3.44m (21.1 sqm) - 20' 2\" x 11' 3\" (227 sqft)\n",
      "Kitchen                       2.8m x 2.6m (7.2 sqm) - 9' 2\" x 8' 6\" (78 sqft)\n",
      "Kitchen / Breakfast Room      6.5m x 2.9m (18.8 sqm) - 21' 3\" x 9' 6\" (202 sqft)\n",
      "Kitchen                       3.8m x 2.29m (8.7 sqm) - 12' 5\" x 7' 6\" (94 sqft)\n",
      "Kitchen                       3.1m x 2.4m (7.4 sqm) - 10' 2\" x 7' 10\" (80 sqft)\n",
      "Kitchen                       4.5m x 2.9m (13 sqm) - 14' 9\" x 9' 6\" (140 sqft)\n",
      "Kitchen Area                  3.9m x 2.29m (8.9 sqm) - 12' 9\" x 7' 6\" (96 sqft)\n",
      "Kitchen Area                  2.9m x 2.4m (6.9 sqm) - 9' 6\" x 7' 10\" (74 sqft)\n",
      "Kitchen                       3.5m x 2.5m (8.7 sqm) - 11' 5\" x 8' 2\" (94 sqft)\n",
      "Kitchen /  Dining Room        8.11m x 4.13m (33.6 sqm) - 26' 7\" x 13' 6\" (361 sqft)\n",
      "Kitchen                       3.4m x 1.8m (6.1 sqm) - 11' 1\" x 5' 10\" (65 sqft)\n",
      "Kitchen                       3.4m x 2.7m (9.1 sqm) - 11' 1\" x 8' 10\" (98 sqft)\n",
      "Kitchen                       3.3m x 2.6m (8.5 sqm) - 10' 9\" x 8' 6\" (92 sqft)\n",
      "Kitchen Diner                 3.57m x 3.43m (12.2 sqm) - 11' 8\" x 11' 3\" (131 sqft)\n",
      "Kitchen                       2.6m x 3.2m (8.3 sqm) - 8' 6\" x 10' 5\" (89 sqft)\n",
      "Kitchen                       2.9m x 2.8m (8.1 sqm) - 9' 6\" x 9' 2\" (87 sqft)\n",
      "Kitchen                       4.44m x 3.12m (13.8 sqm) - 14' 6\" x 10' 2\" (149 sqft)\n",
      "Kitchen Area                  2.54m x 4.24m (10.7 sqm) - 8' 4\" x 13' 10\" (115 sqft)\n",
      "Kitchen                       1.87m x 3.2m (5.9 sqm) - 6' 1\" x 10' 5\" (64 sqft)\n",
      "Kitchen /  Dining Room        4.72m x 5.13m (24.2 sqm) - 15' 5\" x 16' 9\" (260 sqft)\n",
      "Kitchen                       3.63m x 2.95m (10.7 sqm) - 11' 10\" x 9' 8\" (115 sqft)\n",
      "Open Plan Living Room / Kitchen4.78m x 3.35m (16 sqm) - 15' 8\" x 10' 11\" (172 sqft)\n",
      "Kitchen                       3.5m x 2.6m (9.1 sqm) - 11' 5\" x 8' 6\" (97 sqft)\n",
      "Kitchen                       3.4m x 2.7m (9.1 sqm) - 11' 1\" x 8' 10\" (98 sqft)\n",
      "Kitchen Diner                 4.3m x 4.2m (18 sqm) - 14' 1\" x 13' 9\" (194 sqft)\n",
      "Kitchen / Breakfast Room      3.85m x 3.5m (13.4 sqm) - 12' 7\" x 11' 5\" (145 sqft)\n",
      "Kitchen / Breakfast Room      3.85m x 3.5m (13.4 sqm) - 12' 7\" x 11' 5\" (145 sqft)\n",
      "Kitchen                       2.27m x 2.54m (5.8 sqm) - 7' 5\" x 8' 4\" (62 sqft)\n",
      "Kitchen                       2.9m x 2.4m (6.9 sqm) - 9' 6\" x 7' 10\" (74 sqft)\n",
      "Kitchen                       6m x 3.3m (19.8 sqm) - 19' 8\" x 10' 9\" (213 sqft)\n",
      "Kitchen                       2.6m x 3.5m (9.1 sqm) - 8' 6\" x 11' 5\" (97 sqft)\n",
      "Kitchen / Breakfast Room      4.67m x 3.35m (15.6 sqm) - 15' 3\" x 10' 11\" (168 sqft)\n",
      "Kitchen / Breakfast Room      3.05m x 3.72m (11.3 sqm) - 10' x 12' 2\" (122 sqft)\n",
      "Kitchen                       3.09m x 2.52m (7.7 sqm) - 10' 1\" x 8' 3\" (83 sqft)\n",
      "Kitchen                       3.4m x 2.7m (9.1 sqm) - 11' 1\" x 8' 10\" (98 sqft)\n",
      "Kitchen                       3.66m x 2.54m (9.2 sqm) - 12' x 8' 4\" (100 sqft)\n",
      "Kitchen /  Dining Room        3.68m x 5.75m (21.1 sqm) - 12' x 18' 10\" (227 sqft)\n",
      "Kitchen                       2.99m x 2.67m (7.9 sqm) - 9' 9\" x 8' 9\" (85 sqft)\n",
      "Kitchen / Breakfast Room      3.85m x 3.5m (13.4 sqm) - 12' 7\" x 11' 5\" (145 sqft)\n",
      "Kitchen / Breakfast Room      3.6m x 3.3m (11.8 sqm) - 11' 9\" x 10' 9\" (127 sqft)\n",
      "Kitchen                       3.66m x 2.87m (10.5 sqm) - 12' x 9' 4\" (113 sqft)\n",
      "Kitchen                       2.77m x 2.24m (6.2 sqm) - 9' 1\" x 7' 4\" (66 sqft)\n",
      "Kitchen                       2.77m x 2.46m (6.8 sqm) - 9' 1\" x 8' (73 sqft)\n",
      "Kitchen                       3.48m x 2.69m (9.3 sqm) - 11' 5\" x 8' 9\" (100 sqft)\n",
      "Kitchen                       2.06m x 2.6m (5.3 sqm) - 6' 9\" x 8' 6\" (57 sqft)\n",
      "Kitchen / Breakfast Room      3.9m x 2.62m (10.2 sqm) - 12' 9\" x 8' 7\" (109 sqft)\n",
      "Kitchen                       2.59m x 2.33m (6 sqm) - 8' 5\" x 7' 7\" (64 sqft)\n",
      "Kitchen / Breakfast Room      6.5m x 4.8m (31.2 sqm) - 21' 3\" x 15' 9\" (336 sqft)\n",
      "Kitchen /  Dining Room        6.47m x 3.24m (20.9 sqm) - 21' 2\" x 10' 7\" (225 sqft)\n",
      "Kitchen /  Dining Room        6m x 3.5m (21 sqm) - 19' 8\" x 11' 5\" (226 sqft)\n",
      "Kitchen / Breakfast Room      7.41m x 3.6m (26.6 sqm) - 24' 3\" x 11' 9\" (287 sqft)\n",
      "Kitchen                       3.6m x 3.1m (11.1 sqm) - 11' 9\" x 10' 2\" (120 sqft)\n",
      "Kitchen                       3.07m x 1.96m (6 sqm) - 10' x 6' 5\" (64 sqft)\n",
      "Open Plan Living Room / Kitchen10m x 3.4m (34 sqm) - 32' 9\" x 11' 1\" (365 sqft)\n",
      "Kitchen                       3.63m x 2.41m (8.7 sqm) - 11' 10\" x 7' 10\" (94 sqft)\n",
      "Kitchen / Breakfast Room      4m x 2.29m (9.2 sqm) - 13' 1\" x 7' 6\" (99 sqft)\n",
      "Kitchen                       3.6m x 3.1m (11.1 sqm) - 11' 9\" x 10' 2\" (120 sqft)\n",
      "Kitchen Diner                 7m x 2.7m (18.9 sqm) - 22' 11\" x 8' 10\" (203 sqft)\n",
      "Kitchen Diner                 7m x 2.7m (18.9 sqm) - 22' 11\" x 8' 10\" (203 sqft)\n",
      "Kitchen Diner                 7m x 2.7m (18.9 sqm) - 22' 11\" x 8' 10\" (203 sqft)\n",
      "Kitchen Diner                 7m x 2.7m (18.9 sqm) - 22' 11\" x 8' 10\" (203 sqft)\n",
      "Kitchen                       2.25m x 2.91m (6.5 sqm) - 7' 4\" x 9' 6\" (70 sqft)\n",
      "Kitchen/Dining/Living Room    6.7m x 3.65m (24.4 sqm) - 21' 11\" x 11' 11\" (263 sqft)\n",
      "Kitchen/Dining/Living Room    6.7m x 3.65m (24.4 sqm) - 21' 11\" x 11' 11\" (263 sqft)\n",
      "Kitchen / Breakfast Room      3.32m x 4.22m (14 sqm) - 10' 10\" x 13' 10\" (150 sqft)\n",
      "Kitchen                       3.8m x 2.8m (10.6 sqm) - 12' 5\" x 9' 2\" (114 sqft)\n",
      "Kitchen                       4.59m x 2.5m (11.4 sqm) - 15' 1\" x 8' 2\" (123 sqft)\n",
      "Kitchen / Breakfast Room      3.8m x 2.2m (8.3 sqm) - 12' 5\" x 7' 2\" (89 sqft)\n",
      "Kitchen / Breakfast Room      4.9m x 4.09m (20 sqm) - 16' x 13' 5\" (216 sqft)\n",
      "Kitchen Diner                 4m x 3m (12 sqm) - 13' 1\" x 9' 10\" (129 sqft)\n",
      "Kitchen                       1.8m x 3.7m (6.6 sqm) - 5' 10\" x 12' 1\" (71 sqft)\n",
      "Kitchen /  Dining Room        4.48m x 3.41m (15.2 sqm) - 14' 8\" x 11' 2\" (164 sqft)\n",
      "Kitchen Area                  6.21m x 2.31m (14.4 sqm) - 20' 4\" x 7' 7\" (155 sqft)\n",
      "Kitchen Diner                 4.33m x 3.87m (16.7 sqm) - 14' 2\" x 12' 8\" (180 sqft)\n",
      "Kitchen                       3.18m x 6.3m (20 sqm) - 10' 5\" x 20' 8\" (215 sqft)\n",
      "Kitchen                       2.98m x 2.77m (8.2 sqm) - 9' 9\" x 9' 1\" (88 sqft)\n",
      "Kitchen                       3.49m x 3.98m (13.8 sqm) - 11' 5\" x 13' (149 sqft)\n",
      "Kitchen                       3.23m x 3.2m (10.3 sqm) - 10' 7\" x 10' 5\" (111 sqft)\n",
      "Kitchen                       3.01m x 2.66m (8 sqm) - 9' 10\" x 8' 8\" (86 sqft)\n",
      "Kitchen                       4.53m x 2.89m (13 sqm) - 14' 10\" x 9' 5\" (140 sqft)\n",
      "Kitchen                       1\n",
      "Kitchen /  Dining Room        6.54m x 4.16m (27.2 sqm) - 21' 5\" x 13' 7\" (292 sqft)\n",
      "Kitchen /  Dining Room        3.62m x 3m (10.8 sqm) - 11' 10\" x 9' 10\" (116 sqft)\n",
      "Kitchen /  Dining Room        6.29m x 5m (31.4 sqm) - 20' 7\" x 16' 4\" (338 sqft)\n",
      "Kitchen /  Dining Room        5.05m x 2.52m (12.7 sqm) - 16' 7\" x 8' 3\" (137 sqft)\n",
      "Kitchen                       7.37m x 3.13m (23 sqm) - 24' 2\" x 10' 3\" (248 sqft)\n",
      "Kitchen                       1\n",
      "Kitchen /  Dining Room        10.7m x 8m (85.6 sqm) - 35' 1\" x 26' 2\" (921 sqft)\n",
      "Kitchen                       2.63m x 2.08m (5.4 sqm) - 8' 7\" x 6' 9\" (58 sqft)\n",
      "Kitchen                       4.09m x 1.82m (7.4 sqm) - 13' 5\" x 5' 11\" (80 sqft)\n",
      "Kitchen                       2m x 1.85m (3.7 sqm) - 6' 7\" x 6' (40 sqft)\n",
      "Breakfast Kitchen             2.82m x 4.08m (11.5 sqm) - 9' 3\" x 13' 4\" (123 sqft)\n",
      "Kitchen / Breakfast Room      4.54m x 3.3m (14.9 sqm) - 14' 10\" x 10' 9\" (161 sqft)\n",
      "Kitchen Diner                 4.38m x 3.03m (13.3 sqm) - 14' 4\" x 9' 11\" (143 sqft)\n",
      "Kitchen                       2.48m x 2.24m (5.5 sqm) - 8' 1\" x 7' 4\" (59 sqft)\n",
      "Kitchen                       2.48m x 2.24m (5.5 sqm) - 8' 1\" x 7' 4\" (59 sqft)\n",
      "Kitchen                       1.98m x 4.17m (8.2 sqm) - 6' 5\" x 13' 8\" (88 sqft)\n",
      "Kitchen Area                  2.9m x 2.4m (6.9 sqm) - 9' 6\" x 7' 10\" (74 sqft)\n",
      "Kitchen                       6.9m x 3.4m (23.4 sqm) - 22' 7\" x 11' 1\" (252 sqft)\n",
      "Kitchen                       5.09m x 2.9m (14.7 sqm) - 16' 8\" x 9' 6\" (159 sqft)\n",
      "Kitchen                       5.09m x 2.9m (14.7 sqm) - 16' 8\" x 9' 6\" (159 sqft)\n",
      "Kitchen                       1\n",
      "Open Plan Living Room / Kitchen1\n",
      "Kitchen /  Dining Room        5.62m x 5.05m (28.4 sqm) - 18' 5\" x 16' 7\" (306 sqft)\n",
      "Kitchen                       2.16m x 3.62m (7.8 sqm) - 7' 1\" x 11' 10\" (84 sqft)\n",
      "Kitchen /  Dining Room        5.59m x 5.03m (28.1 sqm) - 18' 4\" x 16' 6\" (302 sqft)\n",
      "Kitchen                       3.36m x 3.29m (11 sqm) - 11' x 10' 9\" (118 sqft)\n",
      "Kitchen /  Dining Room        4.19m x 3.85m (16.1 sqm) - 13' 8\" x 12' 7\" (173 sqft)\n",
      "Kitchen /  Dining Room        5.45m x 2.85m (15.5 sqm) - 17' 10\" x 9' 4\" (167 sqft)\n",
      "Family Living Kitchen         5.99m x 3.63m (21.7 sqm) - 19' 7\" x 11' 10\" (234 sqft)\n",
      "Kitchen                       3.6m x 2.1m (7.5 sqm) - 11' 9\" x 6' 10\" (81 sqft)\n",
      "Kitchen Diner                 4.34m x 2.69m (11.6 sqm) - 14' 2\" x 8' 9\" (125 sqft)\n",
      "Kitchen / Breakfast Room      3.44m x 2.71m (9.3 sqm) - 11' 3\" x 8' 10\" (100 sqft)\n",
      "Kitchen Diner                 4.21m x 3.02m (12.7 sqm) - 13' 9\" x 9' 10\" (136 sqft)\n",
      "Kitchen                       2.34m x 1.73m (4 sqm) - 7' 8\" x 5' 8\" (43 sqft)\n",
      "Family Kitchen                6.9m x 4.04m (27.8 sqm) - 22' 7\" x 13' 3\" (300 sqft)\n",
      "Kitchen                       3m x 2.8m (8.4 sqm) - 9' 10\" x 9' 2\" (90 sqft)\n",
      "Kitchen                       4.13m x 3.68m (15.2 sqm) - 13' 6\" x 12' (163 sqft)\n",
      "Kitchen Diner                 7.29m x 3.71m (27 sqm) - 23' 11\" x 12' 2\" (291 sqft)\n",
      "Open Plan Living Room / Kitchen5.41m x 4.63m (25 sqm) - 17' 8\" x 15' 2\" (269 sqft)\n",
      "Kitchen                       3.21m x 2.04m (6.5 sqm) - 10' 6\" x 6' 8\" (70 sqft)\n",
      "Kitchen Diner                 4.26m x 2.63m (11.2 sqm) - 13' 11\" x 8' 7\" (120 sqft)\n",
      "Breakfast Kitchen             3.95m x 3.36m (13.2 sqm) - 12' 11\" x 11' (142 sqft)\n",
      "Kitchen                       6.28m x 2.81m (17.6 sqm) - 20' 7\" x 9' 2\" (189 sqft)\n",
      "Family Kitchen                5.05m x 4.42m (22.3 sqm) - 16' 7\" x 14' 6\" (240 sqft)\n",
      "Kitchen Diner                 4.18m x 2.52m (10.5 sqm) - 13' 8\" x 8' 3\" (113 sqft)\n",
      "Kitchen                       2.64m x 2.12m (5.5 sqm) - 8' 7\" x 6' 11\" (60 sqft)\n",
      "Kitchen                       5.01m x 2.42m (12.1 sqm) - 16' 5\" x 7' 11\" (130 sqft)\n",
      "Kitchen Diner                 4.83m x 2.81m (13.5 sqm) - 15' 10\" x 9' 2\" (146 sqft)\n",
      "Kitchen                       3.6m x 2.4m (8.6 sqm) - 11' 9\" x 7' 10\" (92 sqft)\n",
      "Kitchen Diner                 5m x 2.29m (11.5 sqm) - 16' 4\" x 7' 6\" (123 sqft)\n",
      "Kitchen                       3.36m x 2.8m (9.4 sqm) - 11' x 9' 2\" (101 sqft)\n",
      "Kitchen / Breakfast Room      1\n",
      "Kitchen                       3.07m x 2.97m (9.1 sqm) - 10' x 9' 8\" (98 sqft)\n",
      "Kitchen                       1.78m x 3.33m (5.9 sqm) - 5' 10\" x 10' 11\" (63 sqft)\n",
      "Kitchen                       3.43m x 2.04m (7 sqm) - 11' 3\" x 6' 8\" (75 sqft)\n",
      "Kitchen /  Dining Room        5.84m x 5.79m (33.8 sqm) - 19' 1\" x 18' 11\" (363 sqft)\n",
      "Kitchen / Breakfast Room      5.31m x 2.89m (15.3 sqm) - 17' 5\" x 9' 5\" (165 sqft)\n",
      "Kitchen                       4.65m x 2.54m (11.8 sqm) - 15' 3\" x 8' 4\" (127 sqft)\n",
      "Kitchen                       3.69m x 3.42m (12.6 sqm) - 12' 1\" x 11' 2\" (135 sqft)\n",
      "Kitchen                       4.22m x 2.8m (11.8 sqm) - 13' 10\" x 9' 2\" (127 sqft)\n",
      "Kitchen                       3.13m x 2.88m (9 sqm) - 10' 3\" x 9' 5\" (97 sqft)\n",
      "Kitchen                       3.47m x 1.78m (6.1 sqm) - 11' 4\" x 5' 10\" (66 sqft)\n",
      "Kitchen                       3.04m x 3.02m (9.1 sqm) - 9' 11\" x 9' 10\" (98 sqft)\n",
      "Kitchen                       4.98m x 4.09m (20.3 sqm) - 16' 4\" x 13' 5\" (219 sqft)\n",
      "Kitchen /  Dining Room        5.4m x 2.7m (14.5 sqm) - 17' 8\" x 8' 10\" (156 sqft)\n",
      "Kitchen /  Dining Room        4.5m x 2.4m (10.8 sqm) - 14' 9\" x 7' 10\" (116 sqft)\n",
      "Kitchen /  Dining Room        5.6m x 3.1m (17.3 sqm) - 18' 4\" x 10' 2\" (186 sqft)\n",
      "Kitchen                       3.9m x 2.5m (9.7 sqm) - 12' 9\" x 8' 2\" (104 sqft)\n",
      "Kitchen                       3m x 2.4m (7.2 sqm) - 9' 10\" x 7' 10\" (77 sqft)\n",
      "Kitchen /  Dining Room        3.6m x 3.3m (11.8 sqm) - 11' 9\" x 10' 9\" (127 sqft)\n",
      "Kitchen /  Dining Room        4.9m x 3.6m (17.6 sqm) - 16' x 11' 9\" (189 sqft)\n",
      "Kitchen /  Dining Room        5.56m x 2.54m (14.1 sqm) - 18' 2\" x 8' 4\" (152 sqft)\n",
      "Kitchen                       2.58m x 2.4m (6.1 sqm) - 8' 5\" x 7' 10\" (66 sqft)\n",
      "Kitchen                       1\n",
      "Kitchen                       2.65m x 2.62m (6.9 sqm) - 8' 8\" x 8' 7\" (74 sqft)\n",
      "Kitchen                       4.07m x 3.15m (12.8 sqm) - 13' 4\" x 10' 4\" (137 sqft)\n",
      "Kitchen                       3.5m x 2.12m (7.4 sqm) - 11' 5\" x 6' 11\" (79 sqft)\n",
      "Kitchen                       2.65m x 2.5m (6.6 sqm) - 8' 8\" x 8' 2\" (71 sqft)\n",
      "Kitchen                       2.88m x 1.64m (4.7 sqm) - 9' 5\" x 5' 4\" (50 sqft)\n",
      "Kitchen                       2.64m x 2.64m (6.9 sqm) - 8' 7\" x 8' 7\" (75 sqft)\n",
      "Kitchen                       3.09m x 2.64m (8.1 sqm) - 10' 1\" x 8' 7\" (87 sqft)\n",
      "Kitchen                       2.65m x 2.64m (6.9 sqm) - 8' 8\" x 8' 7\" (75 sqft)\n",
      "Kitchen                       5.04m x 3.23m (16.2 sqm) - 16' 6\" x 10' 7\" (175 sqft)\n",
      "Kitchen                       5.91m x 1.8m (10.6 sqm) - 19' 4\" x 5' 10\" (114 sqft)\n",
      "Kitchen                       3.27m x 2.08m (6.8 sqm) - 10' 8\" x 6' 9\" (73 sqft)\n",
      "Kitchen                       2.41m x 2.39m (5.7 sqm) - 7' 10\" x 7' 10\" (61 sqft)\n",
      "Kitchen                       4.82m x 3.21m (15.4 sqm) - 15' 9\" x 10' 6\" (166 sqft)\n",
      "Kitchen                       3.35m x 2.25m (7.5 sqm) - 10' 11\" x 7' 4\" (81 sqft)\n",
      "Kitchen                       1\n",
      "Kitchen                       2.61m x 2.64m (6.8 sqm) - 8' 6\" x 8' 7\" (74 sqft)\n",
      "Kitchen                       2.66m x 2.52m (6.7 sqm) - 8' 8\" x 8' 3\" (72 sqft)\n",
      "Kitchen /  Dining Room        5.27m x 4.44m (23.3 sqm) - 17' 3\" x 14' 6\" (251 sqft)\n",
      "Kitchen                       3m x 3m (9 sqm) - 9' 10\" x 9' 10\" (96 sqft)\n",
      "Kitchen                       3.62m x 2.63m (9.5 sqm) - 11' 10\" x 8' 7\" (102 sqft)\n",
      "Kitchen Diner                 5.76m x 5.03m (28.9 sqm) - 18' 10\" x 16' 6\" (311 sqft)\n",
      "Kitchen                       3.84m x 3.23m (12.4 sqm) - 12' 7\" x 10' 7\" (133 sqft)\n",
      "Kitchen                       2.15m x 2m (4.3 sqm) - 7' x 6' 6\" (46 sqft)\n",
      "Kitchen                       2.56m x 2m (5.1 sqm) - 8' 4\" x 6' 7\" (55 sqft)\n",
      "Kitchen Diner                 3.3m x 4.7m (15.5 sqm) - 10' 9\" x 15' 5\" (166 sqft)\n",
      "Kitchen Diner                 2.88m x 4.08m (11.7 sqm) - 9' 5\" x 13' 4\" (126 sqft)\n",
      "Kitchen                       2.57m x 2.18m (5.6 sqm) - 8' 5\" x 7' 1\" (60 sqft)\n",
      "Kitchen                       3.01m x 2.66m (8 sqm) - 9' 10\" x 8' 8\" (86 sqft)\n",
      "Kitchen Diner                 5.47m x 3.63m (19.8 sqm) - 17' 11\" x 11' 10\" (213 sqft)\n",
      "Kitchen                       4.26m x 2.47m (10.5 sqm) - 13' 11\" x 8' 1\" (113 sqft)\n",
      "Kitchen /  Dining Room        4.53m x 2.88m (13 sqm) - 14' 10\" x 9' 5\" (140 sqft)\n",
      "Kitchen                       3.6m x 2.1m (7.5 sqm) - 11' 9\" x 6' 10\" (81 sqft)\n",
      "Kitchen / Breakfast Room      5.14m x 4.01m (20.6 sqm) - 16' 10\" x 13' 2\" (222 sqft)\n",
      "Kitchen Diner                 7.66m x 3.25m (24.8 sqm) - 25' 1\" x 10' 7\" (267 sqft)\n",
      "Breakfast Kitchen             5.09m x 2.78m (14.1 sqm) - 16' 8\" x 9' 1\" (152 sqft)\n",
      "Kitchen                       2.88m x 4.07m (11.7 sqm) - 9' 5\" x 13' 4\" (126 sqft)\n",
      "Open Plan Dining /  Kitchen   5.3m x 2.5m (13.2 sqm) - 17' 4\" x 8' 2\" (142 sqft)\n",
      "Kitchen /  Dining Room        4m x 4.09m (16.4 sqm) - 13' 1\" x 13' 5\" (176 sqft)\n",
      "Kitchen                       5.5m x 4.3m (23.6 sqm) - 18' x 14' 1\" (254 sqft)\n",
      "Kitchen /  Dining Room        4.59m x 2.5m (11.4 sqm) - 15' 1\" x 8' 2\" (123 sqft)\n",
      "Kitchen /  Dining Room        5.8m x 4.9m (28.4 sqm) - 19' x 16' (305 sqft)\n",
      "Kitchen Area                  2.29m x 1.7m (3.9 sqm) - 7' 6\" x 5' 6\" (42 sqft)\n",
      "Kitchen                       1\n",
      "Kitchen                       1\n",
      "Kitchen                       3.7m x 3.3m (12.2 sqm) - 12' 1\" x 10' 9\" (131 sqft)\n",
      "Kitchen                       4.8m x 2.8m (13.4 sqm) - 15' 8\" x 9' 2\" (144 sqft)\n",
      "Kitchen                       1\n",
      "Kitchen                       3.4m x 2.1m (7.1 sqm) - 11' 1\" x 6' 10\" (76 sqft)\n",
      "Kitchen Diner                 1\n",
      "Kitchen Diner                 4.7m x 2.6m (12.2 sqm) - 15' 5\" x 8' 6\" (131 sqft)\n",
      "Kitchen                       3.4m x 2.2m (7.4 sqm) - 11' 1\" x 7' 2\" (80 sqft)\n",
      "Kitchen Diner                 4.4m x 3.7m (16.2 sqm) - 14' 5\" x 12' 1\" (175 sqft)\n",
      "Open Plan Dining/Kitchen/Family Room12.4m x 7.3m (90.5 sqm) - 40' 8\" x 23' 11\" (974 sqft)\n",
      "Kitchen Area                  1\n",
      "Kitchen /  Dining Room        4.5m x 1.8m (8.1 sqm) - 14' 9\" x 5' 10\" (87 sqft)\n",
      "Kitchen                       4.2m x 2.1m (8.8 sqm) - 13' 9\" x 6' 10\" (94 sqft)\n",
      "Kitchen                       4m x 2.8m (11.2 sqm) - 13' 1\" x 9' 2\" (120 sqft)\n",
      "Kitchen                       1\n",
      "Kitchen                       3.3m x 2m (6.6 sqm) - 10' 9\" x 6' 6\" (71 sqft)\n",
      "Kitchen /  Dining Room        4.8m x 2.4m (11.5 sqm) - 15' 8\" x 7' 10\" (123 sqft)\n",
      "Kitchen                       5.09m x 2.8m (14.2 sqm) - 16' 8\" x 9' 2\" (153 sqft)\n",
      "Kitchen                       4.7m x 2.29m (10.8 sqm) - 15' 5\" x 7' 6\" (116 sqft)\n",
      "Kitchen Diner                 3.9m x 3.1m (12 sqm) - 12' 9\" x 10' 2\" (130 sqft)\n",
      "Kitchen Diner                 1\n",
      "Kitchen /  Dining Room        4.7m x 4m (18.8 sqm) - 15' 5\" x 13' 1\" (202 sqft)\n",
      "Kitchen                       2.44m x 2.95m (7.1 sqm) - 8' x 9' 8\" (77 sqft)\n",
      "Open Plan Dining/Kitchen/Family Room8.73m x 4.84m (42.3 sqm) - 28' 7\" x 15' 10\" (455 sqft)\n",
      "Kitchen                       6.5m x 3m (19.5 sqm) - 21' 3\" x 9' 10\" (209 sqft)\n",
      "Kitchen                       3.96m x 2.74m (10.8 sqm) - 12' 11\" x 8' 11\" (116 sqft)\n",
      "Kitchen                       1\n",
      "Kitchen                       3.38m x 2.82m (9.5 sqm) - 11' 1\" x 9' 3\" (102 sqft)\n",
      "Kitchen                       3.38m x 2.47m (8.3 sqm) - 11' 1\" x 8' 1\" (89 sqft)\n",
      "Kitchen                       4m x 2.87m (11.4 sqm) - 13' 1\" x 9' 4\" (123 sqft)\n",
      "Kitchen                       3.5m x 3.6m (12.6 sqm) - 11' 5\" x 11' 9\" (135 sqft)\n",
      "Kitchen                       2.4m x 3.71m (8.9 sqm) - 7' 10\" x 12' 2\" (95 sqft)\n",
      "Kitchen                       3.09m x 2.87m (8.8 sqm) - 10' 1\" x 9' 4\" (95 sqft)\n",
      "Kitchen                       3.2m x 2.9m (9.2 sqm) - 10' 5\" x 9' 6\" (99 sqft)\n",
      "Kitchen                       2.7m x 2.1m (5.6 sqm) - 8' 10\" x 6' 10\" (61 sqft)\n",
      "Kitchen                       2.7m x 2.1m (5.6 sqm) - 8' 10\" x 6' 10\" (61 sqft)\n",
      "Kitchen                       2.1m x 3m (6.3 sqm) - 6' 10\" x 9' 10\" (67 sqft)\n",
      "Open Plan Living Room / Kitchen3.08m x 6.4m (19.7 sqm) - 10' 1\" x 20' 11\" (212 sqft)\n",
      "Kitchen                       4.7m x 3m (14.1 sqm) - 15' 5\" x 9' 10\" (151 sqft)\n",
      "Kitchen                       4.2m x 3.4m (14.2 sqm) - 13' 9\" x 11' 1\" (153 sqft)\n",
      "Kitchen                       2.29m x 3.5m (8 sqm) - 7' 6\" x 11' 5\" (86 sqft)\n",
      "Kitchen/Dining/Living Room    1\n",
      "Kitchen                       1.5m x 3.2m (4.8 sqm) - 4' 11\" x 10' 5\" (51 sqft)\n",
      "Kitchen                       3.52m x 2.84m (9.9 sqm) - 11' 6\" x 9' 3\" (107 sqft)\n",
      "Kitchen                       5.2m x 3.2m (16.6 sqm) - 17' x 10' 5\" (179 sqft)\n"
     ]
    }
   ],
   "source": [
    "for room in handler.s3_rooms:\n",
    "    if room is None: continue\n",
    "    for k, v in room.items():\n",
    "        if \"kitchen\" in k.lower():\n",
    "            print(\"{:30s}{}\".format(k, v))"
   ],
   "metadata": {
    "collapsed": false,
    "pycharm": {
     "name": "#%%\n"
    }
   }
  },
  {
   "cell_type": "code",
   "execution_count": 54,
   "outputs": [],
   "source": [
    "kitchens = []\n",
    "\n",
    "for i in range(len(handler.s3_rooms)):\n",
    "    kitchen_per_property = 0\n",
    "    if handler.s3_rooms[i] is None:\n",
    "        kitchens.append(kitchen_per_property)\n",
    "        continue\n",
    "\n",
    "    for k, v in handler.s3_rooms[i].items():\n",
    "        if \"kitchen\" in k.lower():\n",
    "            kitchen_per_property = 1\n",
    "            break\n",
    "\n",
    "    kitchens.append(kitchen_per_property)"
   ],
   "metadata": {
    "collapsed": false,
    "pycharm": {
     "name": "#%%\n"
    }
   }
  },
  {
   "cell_type": "code",
   "execution_count": 55,
   "outputs": [
    {
     "data": {
      "text/plain": "   Kitchen\n0        1\n1        1\n2        1\n3        0\n4        1",
      "text/html": "<div>\n<style scoped>\n    .dataframe tbody tr th:only-of-type {\n        vertical-align: middle;\n    }\n\n    .dataframe tbody tr th {\n        vertical-align: top;\n    }\n\n    .dataframe thead th {\n        text-align: right;\n    }\n</style>\n<table border=\"1\" class=\"dataframe\">\n  <thead>\n    <tr style=\"text-align: right;\">\n      <th></th>\n      <th>Kitchen</th>\n    </tr>\n  </thead>\n  <tbody>\n    <tr>\n      <th>0</th>\n      <td>1</td>\n    </tr>\n    <tr>\n      <th>1</th>\n      <td>1</td>\n    </tr>\n    <tr>\n      <th>2</th>\n      <td>1</td>\n    </tr>\n    <tr>\n      <th>3</th>\n      <td>0</td>\n    </tr>\n    <tr>\n      <th>4</th>\n      <td>1</td>\n    </tr>\n  </tbody>\n</table>\n</div>"
     },
     "execution_count": 55,
     "metadata": {},
     "output_type": "execute_result"
    }
   ],
   "source": [
    "kitchens = pd.DataFrame({\"Kitchen\": kitchens})\n",
    "kitchens.head()"
   ],
   "metadata": {
    "collapsed": false,
    "pycharm": {
     "name": "#%%\n"
    }
   }
  },
  {
   "cell_type": "markdown",
   "source": [
    "### Living/Reception"
   ],
   "metadata": {
    "collapsed": false,
    "pycharm": {
     "name": "#%% md\n"
    }
   }
  },
  {
   "cell_type": "code",
   "execution_count": 56,
   "outputs": [
    {
     "name": "stdout",
     "output_type": "stream",
     "text": [
      "Living/Dining Room            6.58m x 3.78m (24.8 sqm) - 21' 7\" x 12' 4\" (267 sqft)\n",
      "Living Room                   4.34m x 4.11m (17.8 sqm) - 14' 3\" x 13' 5\" (192 sqft)\n",
      "Living Room                   4.9m x 3.7m (18.1 sqm) - 16' x 12' 1\" (195 sqft)\n",
      "Living Room                   4.16m x 8.69m (36.1 sqm) - 13' 7\" x 28' 6\" (389 sqft)\n",
      "Living Room                   4.5m x 3.7m (16.6 sqm) - 14' 9\" x 12' 1\" (179 sqft)\n",
      "Living Room                   3.83m x 3.58m (13.7 sqm) - 12' 6\" x 11' 8\" (147 sqft)\n",
      "Reception Room                3.68m x 3.68m (13.5 sqm) - 12' x 12' (145 sqft)\n",
      "Living Room                   3.63m x 4.25m (15.4 sqm) - 11' 10\" x 13' 11\" (166 sqft)\n",
      "Living Room                   3m x 4.12m (12.3 sqm) - 9' 10\" x 13' 6\" (133 sqft)\n",
      "Living Room                   3.6m x 3.73m (13.4 sqm) - 11' 9\" x 12' 2\" (144 sqft)\n"
     ]
    }
   ],
   "source": [
    "living_room_names = [i for i in handler.s3_rooms_set if (\"living\" in i.lower() or \"reception\" in i.lower()) and \"kitchen\" not in i.lower()]\n",
    "for room in handler.s3_rooms[: 50]:\n",
    "    if room is None: continue\n",
    "    for k, v in room.items():\n",
    "        if k in living_room_names:\n",
    "            print(\"{:30s}{}\".format(k, v))"
   ],
   "metadata": {
    "collapsed": false,
    "pycharm": {
     "name": "#%%\n"
    }
   }
  },
  {
   "cell_type": "code",
   "execution_count": 57,
   "outputs": [],
   "source": [
    "receptions = []\n",
    "for i in range(len(handler.s3_rooms)):\n",
    "    reception_per_property = 0\n",
    "    if handler.s3_rooms[i] is None:\n",
    "        receptions.append(reception_per_property)\n",
    "        continue\n",
    "\n",
    "    for k, v in handler.s3_rooms[i].items():\n",
    "        if k in living_room_names and isinstance(v, str):\n",
    "            reception_per_property += float(extract_area.parse(handler.s3_rooms[i][k])[1])\n",
    "\n",
    "    receptions.append(reception_per_property)"
   ],
   "metadata": {
    "collapsed": false,
    "pycharm": {
     "name": "#%%\n"
    }
   }
  },
  {
   "cell_type": "code",
   "execution_count": 58,
   "outputs": [
    {
     "data": {
      "text/plain": "   Reception\n0       24.8\n1        0.0\n2        0.0\n3        0.0\n4        0.0",
      "text/html": "<div>\n<style scoped>\n    .dataframe tbody tr th:only-of-type {\n        vertical-align: middle;\n    }\n\n    .dataframe tbody tr th {\n        vertical-align: top;\n    }\n\n    .dataframe thead th {\n        text-align: right;\n    }\n</style>\n<table border=\"1\" class=\"dataframe\">\n  <thead>\n    <tr style=\"text-align: right;\">\n      <th></th>\n      <th>Reception</th>\n    </tr>\n  </thead>\n  <tbody>\n    <tr>\n      <th>0</th>\n      <td>24.8</td>\n    </tr>\n    <tr>\n      <th>1</th>\n      <td>0.0</td>\n    </tr>\n    <tr>\n      <th>2</th>\n      <td>0.0</td>\n    </tr>\n    <tr>\n      <th>3</th>\n      <td>0.0</td>\n    </tr>\n    <tr>\n      <th>4</th>\n      <td>0.0</td>\n    </tr>\n  </tbody>\n</table>\n</div>"
     },
     "execution_count": 58,
     "metadata": {},
     "output_type": "execute_result"
    }
   ],
   "source": [
    "receptions = pd.DataFrame({\"Reception\": receptions})\n",
    "receptions.head()"
   ],
   "metadata": {
    "collapsed": false,
    "pycharm": {
     "name": "#%%\n"
    }
   }
  },
  {
   "cell_type": "markdown",
   "source": [
    "### Bathroom/WC/Washroom"
   ],
   "metadata": {
    "collapsed": false,
    "pycharm": {
     "name": "#%% md\n"
    }
   }
  },
  {
   "cell_type": "code",
   "execution_count": 95,
   "outputs": [
    {
     "name": "stdout",
     "output_type": "stream",
     "text": [
      "Bathroom                      2.14m x 2.04m (4.3 sqm) - 7' x 6' 8\" (46 sqft)\n",
      "Bathroom                      1.98m x 2.37m (4.6 sqm) - 6' 5\" x 7' 9\" (50 sqft)\n",
      "Bathroom                      1\n",
      "Family Bathroom               1\n",
      "Bathroom                      2.5m x 1.7m (4.2 sqm) - 8' 2\" x 5' 6\" (45 sqft)\n",
      "Bathroom                      1\n",
      "Bathroom                      2.24m x 1.89m (4.2 sqm) - 7' 4\" x 6' 2\" (45 sqft)\n",
      "Bathroom                      2.08m x 1.81m (3.7 sqm) - 6' 9\" x 5' 11\" (40 sqft)\n",
      "Bathroom                      1\n",
      "Family Bathroom               3.29m x 3.17m (10.4 sqm) - 10' 9\" x 10' 4\" (112 sqft)\n",
      "Family Bathroom               2.5m x 2m (5 sqm) - 8' 2\" x 6' 6\" (53 sqft)\n",
      "Bathroom                      2.43m x 1.67m (4 sqm) - 7' 11\" x 5' 5\" (43 sqft)\n",
      "Bathroom                      1.5m x 2.9m (4.3 sqm) - 4' 11\" x 9' 6\" (46 sqft)\n",
      "Bathroom                      3.15m x 2.66m (8.3 sqm) - 10' 4\" x 8' 8\" (90 sqft)\n",
      "Bathroom                      1.6m x 3.32m (5.3 sqm) - 5' 2\" x 10' 10\" (57 sqft)\n",
      "Bathroom                      2.72m x 1.61m (4.3 sqm) - 8' 11\" x 5' 3\" (47 sqft)\n"
     ]
    }
   ],
   "source": [
    "bathroom_names = [i for i in handler.s3_rooms_set if \"bathroom\" in i.lower() or \"WC\" in i.lower()]\n",
    "for room in handler.s3_rooms[: 50]:\n",
    "    if room is None: continue\n",
    "    for k, v in room.items():\n",
    "        if k in bathroom_names:\n",
    "            print(\"{:30s}{}\".format(k, v))"
   ],
   "metadata": {
    "collapsed": false,
    "pycharm": {
     "name": "#%%\n"
    }
   }
  },
  {
   "cell_type": "code",
   "execution_count": 81,
   "outputs": [],
   "source": [
    "bathrooms = []\n",
    "for i in range(len(handler.s3_rooms)):\n",
    "    bathroom_per_property = {key: 0 for key in bathroom_names}\n",
    "    if handler.s3_rooms[i] is None:\n",
    "        bathrooms.append(bathroom_per_property)\n",
    "        continue\n",
    "\n",
    "    for k, v in handler.s3_rooms[i].items():\n",
    "        if k in bathroom_names and isinstance(v, str):\n",
    "            bathroom_per_property[k] = float(extract_area.parse(handler.s3_rooms[i][k])[1])\n",
    "\n",
    "    bathrooms.append(bathroom_per_property)"
   ],
   "metadata": {
    "collapsed": false,
    "pycharm": {
     "name": "#%%\n"
    }
   }
  },
  {
   "cell_type": "code",
   "execution_count": 94,
   "outputs": [
    {
     "data": {
      "text/plain": "      Family Bathroom  Ensuite Bathroom  Master Bathroom  Guest Bathroom  \\\n0                 0.0               0.0              0.0             0.0   \n1                 0.0               0.0              0.0             0.0   \n2                 0.0               0.0              0.0             0.0   \n3                 0.0               0.0              0.0             0.0   \n4                 0.0               0.0              0.0             0.0   \n...               ...               ...              ...             ...   \n3644              0.0               0.0              0.0             0.0   \n3645              0.0               0.0              0.0             0.0   \n3646              0.0               0.0              0.0             0.0   \n3647              0.0               0.0              0.0             0.0   \n3648              0.0               0.0              0.0             0.0   \n\n      Bathroom  \n0          4.3  \n1          4.6  \n2          0.0  \n3          0.0  \n4          0.0  \n...        ...  \n3644       4.1  \n3645       0.0  \n3646       4.1  \n3647       2.7  \n3648       6.4  \n\n[3649 rows x 5 columns]",
      "text/html": "<div>\n<style scoped>\n    .dataframe tbody tr th:only-of-type {\n        vertical-align: middle;\n    }\n\n    .dataframe tbody tr th {\n        vertical-align: top;\n    }\n\n    .dataframe thead th {\n        text-align: right;\n    }\n</style>\n<table border=\"1\" class=\"dataframe\">\n  <thead>\n    <tr style=\"text-align: right;\">\n      <th></th>\n      <th>Family Bathroom</th>\n      <th>Ensuite Bathroom</th>\n      <th>Master Bathroom</th>\n      <th>Guest Bathroom</th>\n      <th>Bathroom</th>\n    </tr>\n  </thead>\n  <tbody>\n    <tr>\n      <th>0</th>\n      <td>0.0</td>\n      <td>0.0</td>\n      <td>0.0</td>\n      <td>0.0</td>\n      <td>4.3</td>\n    </tr>\n    <tr>\n      <th>1</th>\n      <td>0.0</td>\n      <td>0.0</td>\n      <td>0.0</td>\n      <td>0.0</td>\n      <td>4.6</td>\n    </tr>\n    <tr>\n      <th>2</th>\n      <td>0.0</td>\n      <td>0.0</td>\n      <td>0.0</td>\n      <td>0.0</td>\n      <td>0.0</td>\n    </tr>\n    <tr>\n      <th>3</th>\n      <td>0.0</td>\n      <td>0.0</td>\n      <td>0.0</td>\n      <td>0.0</td>\n      <td>0.0</td>\n    </tr>\n    <tr>\n      <th>4</th>\n      <td>0.0</td>\n      <td>0.0</td>\n      <td>0.0</td>\n      <td>0.0</td>\n      <td>0.0</td>\n    </tr>\n    <tr>\n      <th>...</th>\n      <td>...</td>\n      <td>...</td>\n      <td>...</td>\n      <td>...</td>\n      <td>...</td>\n    </tr>\n    <tr>\n      <th>3644</th>\n      <td>0.0</td>\n      <td>0.0</td>\n      <td>0.0</td>\n      <td>0.0</td>\n      <td>4.1</td>\n    </tr>\n    <tr>\n      <th>3645</th>\n      <td>0.0</td>\n      <td>0.0</td>\n      <td>0.0</td>\n      <td>0.0</td>\n      <td>0.0</td>\n    </tr>\n    <tr>\n      <th>3646</th>\n      <td>0.0</td>\n      <td>0.0</td>\n      <td>0.0</td>\n      <td>0.0</td>\n      <td>4.1</td>\n    </tr>\n    <tr>\n      <th>3647</th>\n      <td>0.0</td>\n      <td>0.0</td>\n      <td>0.0</td>\n      <td>0.0</td>\n      <td>2.7</td>\n    </tr>\n    <tr>\n      <th>3648</th>\n      <td>0.0</td>\n      <td>0.0</td>\n      <td>0.0</td>\n      <td>0.0</td>\n      <td>6.4</td>\n    </tr>\n  </tbody>\n</table>\n<p>3649 rows × 5 columns</p>\n</div>"
     },
     "execution_count": 94,
     "metadata": {},
     "output_type": "execute_result"
    }
   ],
   "source": [
    "bathrooms = pd.DataFrame(bathrooms)\n",
    "bathrooms"
   ],
   "metadata": {
    "collapsed": false,
    "pycharm": {
     "name": "#%%\n"
    }
   }
  },
  {
   "cell_type": "markdown",
   "source": [
    "### Dining"
   ],
   "metadata": {
    "collapsed": false,
    "pycharm": {
     "name": "#%% md\n"
    }
   }
  },
  {
   "cell_type": "code",
   "execution_count": 118,
   "outputs": [
    {
     "name": "stdout",
     "output_type": "stream",
     "text": [
      "Dining Room                   3.5m x 3m (10.5 sqm) - 11' 5\" x 9' 10\" (113 sqft)\n",
      "Dining Room                   3.13m x 2.83m (8.8 sqm) - 10' 3\" x 9' 3\" (95 sqft)\n",
      "Dining Room                   4.3m x 3.13m (13.4 sqm) - 14' 1\" x 10' 3\" (144 sqft)\n",
      "Dining Room                   3.1m x 2.6m (8 sqm) - 10' 2\" x 8' 6\" (86 sqft)\n",
      "Dining Room                   5.09m x 3.7m (18.8 sqm) - 16' 8\" x 12' 1\" (203 sqft)\n",
      "Dining Room                   3.7m x 4.12m (15.2 sqm) - 12' 1\" x 13' 6\" (164 sqft)\n"
     ]
    }
   ],
   "source": [
    "dining_names = [i for i in handler.s3_rooms_set if (\"dining\" in i.lower() or \"breakfast\" in i.lower()) and \"kitchen\" not in i.lower() and \"living\" not in i.lower()]\n",
    "for room in handler.s3_rooms[: 50]:\n",
    "    if room is None: continue\n",
    "    for k, v in room.items():\n",
    "        if k in dining_names:\n",
    "            print(\"{:30s}{}\".format(k, v))"
   ],
   "metadata": {
    "collapsed": false,
    "pycharm": {
     "name": "#%%\n"
    }
   }
  },
  {
   "cell_type": "code",
   "execution_count": 119,
   "outputs": [],
   "source": [
    "dining_rooms = []\n",
    "for i in range(len(handler.s3_rooms)):\n",
    "    dining_room_per_property = 0\n",
    "    if handler.s3_rooms[i] is None:\n",
    "        dining_rooms.append(dining_room_per_property)\n",
    "        continue\n",
    "\n",
    "    for k, v in handler.s3_rooms[i].items():\n",
    "        if k in dining_names and isinstance(v, str):\n",
    "            dining_room_per_property += float(extract_area.parse(v)[1])\n",
    "\n",
    "    dining_rooms.append(dining_room_per_property)"
   ],
   "metadata": {
    "collapsed": false,
    "pycharm": {
     "name": "#%%\n"
    }
   }
  },
  {
   "cell_type": "code",
   "execution_count": 120,
   "outputs": [
    {
     "data": {
      "text/plain": "    Dining room\n0           0.0\n1           0.0\n2           0.0\n3           0.0\n4           0.0\n5          10.5\n6           8.8\n7           0.0\n8           0.0\n9           0.0\n10          0.0\n11          0.0\n12          0.0\n13         13.4\n14          0.0\n15          0.0\n16          8.0\n17          0.0\n18          0.0\n19         18.8\n20          0.0\n21          0.0\n22          0.0\n23          0.0\n24          0.0\n25          0.0\n26          0.0\n27          0.0\n28         15.2\n29          0.0\n30          0.0\n31          0.0\n32          0.0\n33          0.0\n34          0.0\n35          0.0\n36          0.0\n37          0.0\n38          0.0\n39          0.0\n40          0.0\n41          0.0\n42          0.0\n43          0.0\n44          0.0\n45          0.0\n46          0.0\n47          0.0\n48          0.0\n49          0.0",
      "text/html": "<div>\n<style scoped>\n    .dataframe tbody tr th:only-of-type {\n        vertical-align: middle;\n    }\n\n    .dataframe tbody tr th {\n        vertical-align: top;\n    }\n\n    .dataframe thead th {\n        text-align: right;\n    }\n</style>\n<table border=\"1\" class=\"dataframe\">\n  <thead>\n    <tr style=\"text-align: right;\">\n      <th></th>\n      <th>Dining room</th>\n    </tr>\n  </thead>\n  <tbody>\n    <tr>\n      <th>0</th>\n      <td>0.0</td>\n    </tr>\n    <tr>\n      <th>1</th>\n      <td>0.0</td>\n    </tr>\n    <tr>\n      <th>2</th>\n      <td>0.0</td>\n    </tr>\n    <tr>\n      <th>3</th>\n      <td>0.0</td>\n    </tr>\n    <tr>\n      <th>4</th>\n      <td>0.0</td>\n    </tr>\n    <tr>\n      <th>5</th>\n      <td>10.5</td>\n    </tr>\n    <tr>\n      <th>6</th>\n      <td>8.8</td>\n    </tr>\n    <tr>\n      <th>7</th>\n      <td>0.0</td>\n    </tr>\n    <tr>\n      <th>8</th>\n      <td>0.0</td>\n    </tr>\n    <tr>\n      <th>9</th>\n      <td>0.0</td>\n    </tr>\n    <tr>\n      <th>10</th>\n      <td>0.0</td>\n    </tr>\n    <tr>\n      <th>11</th>\n      <td>0.0</td>\n    </tr>\n    <tr>\n      <th>12</th>\n      <td>0.0</td>\n    </tr>\n    <tr>\n      <th>13</th>\n      <td>13.4</td>\n    </tr>\n    <tr>\n      <th>14</th>\n      <td>0.0</td>\n    </tr>\n    <tr>\n      <th>15</th>\n      <td>0.0</td>\n    </tr>\n    <tr>\n      <th>16</th>\n      <td>8.0</td>\n    </tr>\n    <tr>\n      <th>17</th>\n      <td>0.0</td>\n    </tr>\n    <tr>\n      <th>18</th>\n      <td>0.0</td>\n    </tr>\n    <tr>\n      <th>19</th>\n      <td>18.8</td>\n    </tr>\n    <tr>\n      <th>20</th>\n      <td>0.0</td>\n    </tr>\n    <tr>\n      <th>21</th>\n      <td>0.0</td>\n    </tr>\n    <tr>\n      <th>22</th>\n      <td>0.0</td>\n    </tr>\n    <tr>\n      <th>23</th>\n      <td>0.0</td>\n    </tr>\n    <tr>\n      <th>24</th>\n      <td>0.0</td>\n    </tr>\n    <tr>\n      <th>25</th>\n      <td>0.0</td>\n    </tr>\n    <tr>\n      <th>26</th>\n      <td>0.0</td>\n    </tr>\n    <tr>\n      <th>27</th>\n      <td>0.0</td>\n    </tr>\n    <tr>\n      <th>28</th>\n      <td>15.2</td>\n    </tr>\n    <tr>\n      <th>29</th>\n      <td>0.0</td>\n    </tr>\n    <tr>\n      <th>30</th>\n      <td>0.0</td>\n    </tr>\n    <tr>\n      <th>31</th>\n      <td>0.0</td>\n    </tr>\n    <tr>\n      <th>32</th>\n      <td>0.0</td>\n    </tr>\n    <tr>\n      <th>33</th>\n      <td>0.0</td>\n    </tr>\n    <tr>\n      <th>34</th>\n      <td>0.0</td>\n    </tr>\n    <tr>\n      <th>35</th>\n      <td>0.0</td>\n    </tr>\n    <tr>\n      <th>36</th>\n      <td>0.0</td>\n    </tr>\n    <tr>\n      <th>37</th>\n      <td>0.0</td>\n    </tr>\n    <tr>\n      <th>38</th>\n      <td>0.0</td>\n    </tr>\n    <tr>\n      <th>39</th>\n      <td>0.0</td>\n    </tr>\n    <tr>\n      <th>40</th>\n      <td>0.0</td>\n    </tr>\n    <tr>\n      <th>41</th>\n      <td>0.0</td>\n    </tr>\n    <tr>\n      <th>42</th>\n      <td>0.0</td>\n    </tr>\n    <tr>\n      <th>43</th>\n      <td>0.0</td>\n    </tr>\n    <tr>\n      <th>44</th>\n      <td>0.0</td>\n    </tr>\n    <tr>\n      <th>45</th>\n      <td>0.0</td>\n    </tr>\n    <tr>\n      <th>46</th>\n      <td>0.0</td>\n    </tr>\n    <tr>\n      <th>47</th>\n      <td>0.0</td>\n    </tr>\n    <tr>\n      <th>48</th>\n      <td>0.0</td>\n    </tr>\n    <tr>\n      <th>49</th>\n      <td>0.0</td>\n    </tr>\n  </tbody>\n</table>\n</div>"
     },
     "execution_count": 120,
     "metadata": {},
     "output_type": "execute_result"
    }
   ],
   "source": [
    "dining_rooms = pd.DataFrame({\"Dining room\": dining_rooms})\n",
    "dining_rooms.iloc[:50]"
   ],
   "metadata": {
    "collapsed": false,
    "pycharm": {
     "name": "#%%\n"
    }
   }
  },
  {
   "cell_type": "markdown",
   "source": [
    "### Work/study"
   ],
   "metadata": {
    "collapsed": false,
    "pycharm": {
     "name": "#%% md\n"
    }
   }
  },
  {
   "cell_type": "code",
   "execution_count": 125,
   "outputs": [
    {
     "name": "stdout",
     "output_type": "stream",
     "text": [
      "Study                         2.27m x 1.98m (4.5 sqm) - 7' 5\" x 6' 5\" (48 sqft)\n",
      "Study                         2.16m x 3.14m (6.7 sqm) - 7' 1\" x 10' 3\" (73 sqft)\n",
      "Study Area                    2.5m x 1.85m (4.6 sqm) - 8' 2\" x 6' (49 sqft)\n",
      "Study                         5.7m x 2m (11.4 sqm) - 18' 8\" x 6' 6\" (122 sqft)\n",
      "Workspace                     8.69m x 2m (17.4 sqm) - 28' 6\" x 6' 6\" (187 sqft)\n",
      "Study                         3m x 3m (9 sqm) - 9' 10\" x 9' 10\" (96 sqft)\n",
      "Workshop                      14m x 3.6m (50.4 sqm) - 45' 11\" x 11' 9\" (542 sqft)\n",
      "Study/Family Room/Play Room   4m x 2.91m (11.6 sqm) - 13' 1\" x 9' 6\" (125 sqft)\n",
      "Study                         3.47m x 2.18m (7.5 sqm) - 11' 4\" x 7' 1\" (81 sqft)\n",
      "Workshop                      5.09m x 2.14m (10.9 sqm) - 16' 8\" x 7' (117 sqft)\n",
      "Study                         2.1m x 2.1m (4.4 sqm) - 6' 10\" x 6' 10\" (47 sqft)\n",
      "Study Area                    2.8m x 2.54m (7.1 sqm) - 9' 2\" x 8' 4\" (76 sqft)\n",
      "Study/Family Room/Play Room   4.29m x 2.74m (11.7 sqm) - 14' x 8' 11\" (126 sqft)\n",
      "Study                         3.2m x 2.1m (6.7 sqm) - 10' 5\" x 6' 10\" (72 sqft)\n",
      "Study/Family Room/Play Room   3.7m x 3.1m (11.4 sqm) - 12' 1\" x 10' 2\" (123 sqft)\n",
      "Study                         2.2m x 2.8m (6.1 sqm) - 7' 2\" x 9' 2\" (66 sqft)\n",
      "Study                         6.15m x 3.33m (20.4 sqm) - 20' 2\" x 10' 11\" (220 sqft)\n",
      "Study                         3.49m x 2.89m (10 sqm) - 11' 5\" x 9' 5\" (108 sqft)\n",
      "Study                         3.52m x 2.69m (9.4 sqm) - 11' 6\" x 8' 9\" (101 sqft)\n",
      "Study                         3.14m x 1.92m (6 sqm) - 10' 3\" x 6' 3\" (64 sqft)\n",
      "Study                         1.96m x 2.68m (5.2 sqm) - 6' 5\" x 8' 9\" (56 sqft)\n",
      "Workshop                      8.24m x 2.19m (18 sqm) - 27' x 7' 2\" (194 sqft)\n",
      "Study                         2.9m x 3.4m (9.8 sqm) - 9' 6\" x 11' 1\" (106 sqft)\n",
      "Workshop                      2.7m x 5m (13.5 sqm) - 8' 10\" x 16' 4\" (145 sqft)\n",
      "Study                         2.71m x 2.89m (7.8 sqm) - 8' 10\" x 9' 5\" (84 sqft)\n",
      "Workshop                      1\n",
      "Study/Family Room/Play Room   3.1m x 2.95m (9.1 sqm) - 10' 2\" x 9' 8\" (98 sqft)\n",
      "Workshop                      3.8m x 2.6m (9.8 sqm) - 12' 5\" x 8' 6\" (106 sqft)\n",
      "Study                         2.96m x 2.92m (8.6 sqm) - 9' 8\" x 9' 6\" (93 sqft)\n"
     ]
    }
   ],
   "source": [
    "work_names = [i for i in handler.s3_rooms_set if \"work\" in i.lower() or \"study\" in i.lower()]\n",
    "for room in handler.s3_rooms[: 500]:\n",
    "    if room is None: continue\n",
    "    for k, v in room.items():\n",
    "        if k in work_names:\n",
    "            print(\"{:30s}{}\".format(k, v))"
   ],
   "metadata": {
    "collapsed": false,
    "pycharm": {
     "name": "#%%\n"
    }
   }
  },
  {
   "cell_type": "code",
   "execution_count": 127,
   "outputs": [],
   "source": [
    "work_spaces = []\n",
    "for room in handler.s3_rooms:\n",
    "    work_per_property = 0\n",
    "    if room is None:\n",
    "        work_spaces.append(work_per_property)\n",
    "        continue\n",
    "\n",
    "    for k, v in room.items():\n",
    "        if k in work_names and isinstance(v, str):\n",
    "            work_per_property += float(extract_area.parse(v)[1])\n",
    "\n",
    "    work_spaces.append(work_per_property)"
   ],
   "metadata": {
    "collapsed": false,
    "pycharm": {
     "name": "#%%\n"
    }
   }
  },
  {
   "cell_type": "code",
   "execution_count": 129,
   "outputs": [
    {
     "data": {
      "text/plain": "      work space\n0            0.0\n1            0.0\n2            0.0\n3            0.0\n4            4.5\n...          ...\n3644         0.0\n3645         0.0\n3646         0.0\n3647         0.0\n3648         0.0\n\n[3649 rows x 1 columns]",
      "text/html": "<div>\n<style scoped>\n    .dataframe tbody tr th:only-of-type {\n        vertical-align: middle;\n    }\n\n    .dataframe tbody tr th {\n        vertical-align: top;\n    }\n\n    .dataframe thead th {\n        text-align: right;\n    }\n</style>\n<table border=\"1\" class=\"dataframe\">\n  <thead>\n    <tr style=\"text-align: right;\">\n      <th></th>\n      <th>work space</th>\n    </tr>\n  </thead>\n  <tbody>\n    <tr>\n      <th>0</th>\n      <td>0.0</td>\n    </tr>\n    <tr>\n      <th>1</th>\n      <td>0.0</td>\n    </tr>\n    <tr>\n      <th>2</th>\n      <td>0.0</td>\n    </tr>\n    <tr>\n      <th>3</th>\n      <td>0.0</td>\n    </tr>\n    <tr>\n      <th>4</th>\n      <td>4.5</td>\n    </tr>\n    <tr>\n      <th>...</th>\n      <td>...</td>\n    </tr>\n    <tr>\n      <th>3644</th>\n      <td>0.0</td>\n    </tr>\n    <tr>\n      <th>3645</th>\n      <td>0.0</td>\n    </tr>\n    <tr>\n      <th>3646</th>\n      <td>0.0</td>\n    </tr>\n    <tr>\n      <th>3647</th>\n      <td>0.0</td>\n    </tr>\n    <tr>\n      <th>3648</th>\n      <td>0.0</td>\n    </tr>\n  </tbody>\n</table>\n<p>3649 rows × 1 columns</p>\n</div>"
     },
     "execution_count": 129,
     "metadata": {},
     "output_type": "execute_result"
    }
   ],
   "source": [
    "work_spaces = pd.DataFrame({\"work space\": work_spaces})\n",
    "work_spaces"
   ],
   "metadata": {
    "collapsed": false,
    "pycharm": {
     "name": "#%%\n"
    }
   }
  },
  {
   "cell_type": "code",
   "execution_count": 131,
   "outputs": [
    {
     "data": {
      "text/plain": "{'Airing Cupboard',\n 'Annexe',\n 'Approach',\n 'Attic',\n 'Back Office',\n 'Balcony',\n 'Barn',\n 'Basement',\n 'Boiler Room',\n 'Boot Room',\n 'Cabin',\n 'Car Park',\n 'Car Port',\n 'Carport',\n 'Cellar',\n 'Cinema Room',\n 'Cloakroom',\n 'Coat Room',\n 'Conservatory',\n 'Day Room',\n 'Decking',\n 'Den',\n 'Double Driveway',\n 'Double Garage',\n 'Downstairs Cloakroom',\n 'Drawing Room',\n 'Dressing Room',\n 'Driveway',\n 'Electric Gate',\n 'Ensuite',\n 'Ensuite Shower Room',\n 'Entrance Hall',\n 'Entrance Porch',\n 'Extension',\n 'Exterior',\n 'Family Room',\n 'First Floor Landing',\n 'Foyer',\n 'Front Access',\n 'Front Porch',\n 'Front Room',\n 'Frontroom',\n 'Galleried Landing',\n 'Gallery Landing',\n 'Games Room',\n 'Garage',\n 'Garage (Double)',\n 'Garage (Single)',\n 'Garage (Triple)',\n 'Garage / Office',\n 'Green House',\n 'Guest Room',\n 'Guest WC',\n 'Gym',\n 'Hall',\n 'Hallway',\n 'Hobby Room',\n 'Hot Tub',\n 'Inner Hall',\n 'Inner Lobby',\n 'Jack & Jill Ensuite',\n 'Land',\n 'Landing',\n 'Larder',\n 'Laundry Room',\n 'Lift',\n 'Lobby',\n 'Loft',\n 'Loft Room',\n 'Lounge',\n 'Lounge Diner',\n 'Lower Ground Floor',\n 'Man Cave',\n 'Manège',\n 'Mezzanine',\n 'Morning Room',\n 'Office',\n 'Office / Gym / Games Room / Annexe',\n 'Open Front Porch',\n 'Orangery',\n 'Outbuilding',\n 'Outside Storage',\n 'Outside WC',\n 'Paddock',\n 'Pantry',\n 'Parking',\n 'Patio',\n 'Patio Area',\n 'Play Room',\n 'Porch',\n 'Rear Access',\n 'Rear Lobby',\n 'Rear Porch',\n 'Roof Terrace',\n 'Room 1',\n 'Room 2',\n 'Room 3',\n 'Room 4',\n 'Sauna',\n 'Second Floor Landing',\n 'Shed',\n 'Shed / Storage / Garage',\n 'Shopfront',\n 'Shower Room',\n 'Showroom',\n 'Side Access',\n 'Side Lobby',\n 'Side Porch',\n 'Single Garage',\n 'Sitting Room',\n 'Snug',\n 'Solarium',\n 'Stable',\n 'Stables',\n 'Storage Room',\n 'Store',\n 'Storm Porch',\n 'Studio',\n 'Summer House',\n 'Summer Room',\n 'Sun Lounge',\n 'Sun Room',\n 'Swimming Pool',\n 'Terrace',\n 'Third Floor Landing',\n 'Upstairs Cloakroom',\n 'Utility Room',\n 'Veranda',\n 'Vestibule',\n 'WC',\n 'Walk In Wardrobe',\n 'Wash Room',\n 'Water Closet',\n 'Wet Room',\n 'Wine Cellar'}"
     },
     "execution_count": 131,
     "metadata": {},
     "output_type": "execute_result"
    }
   ],
   "source": [
    "bedroom_names = set(i for i in handler.s3_rooms_set if \"Bedroom\" in i)\n",
    "kitchen_names = set(i for i in handler.s3_rooms_set if \"kitchen\" in i.lower())\n",
    "reception_names = set(i for i in handler.s3_rooms_set if (\"living\" in i.lower() or \"reception\" in i.lower()) and \"kitchen\" not in i.lower())\n",
    "garden_names = set([i for i in handler.s3_rooms_set if \"garden\" in i.lower() or \"yard\" in i.lower()])\n",
    "bathroom_names = set(i for i in handler.s3_rooms_set if \"bathroom\" in i.lower() or \"WC\" in i.lower() or \"washroom\" in i.lower())\n",
    "dining_names = set(i for i in handler.s3_rooms_set if (\"dining\" in i.lower() or \"breakfast\" in i.lower()) and \"kitchen\" not in i.lower() and \"living\" not in i.lower())\n",
    "work_names = set(i for i in handler.s3_rooms_set if \"work\" in i.lower() or \"study\" in i.lower())\n",
    "\n",
    "rest = handler.s3_rooms_set.difference(bedroom_names).difference(kitchen_names).difference(reception_names).difference(garden_names).difference(bathroom_names).difference(dining_names).difference(work_names)\n",
    "rest"
   ],
   "metadata": {
    "collapsed": false,
    "pycharm": {
     "name": "#%%\n"
    }
   }
  },
  {
   "cell_type": "code",
   "execution_count": 83,
   "outputs": [],
   "source": [
    "temp = bathrooms[bathrooms[\"Family Bathroom\"] != 0]"
   ],
   "metadata": {
    "collapsed": false,
    "pycharm": {
     "name": "#%%\n"
    }
   }
  },
  {
   "cell_type": "code",
   "execution_count": null,
   "outputs": [],
   "source": [],
   "metadata": {
    "collapsed": false,
    "pycharm": {
     "name": "#%%\n"
    }
   }
  }
 ],
 "metadata": {
  "kernelspec": {
   "display_name": "Python 3",
   "language": "python",
   "name": "python3"
  },
  "language_info": {
   "codemirror_mode": {
    "name": "ipython",
    "version": 2
   },
   "file_extension": ".py",
   "mimetype": "text/x-python",
   "name": "python",
   "nbconvert_exporter": "python",
   "pygments_lexer": "ipython2",
   "version": "2.7.6"
  }
 },
 "nbformat": 4,
 "nbformat_minor": 0
}