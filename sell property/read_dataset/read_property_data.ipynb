{
 "cells": [
  {
   "cell_type": "markdown",
   "source": [
    "# Import packages"
   ],
   "metadata": {
    "collapsed": false,
    "pycharm": {
     "name": "#%% md\n"
    }
   }
  },
  {
   "cell_type": "code",
   "execution_count": 34,
   "outputs": [],
   "source": [
    "import pandas as pd\n",
    "import numpy as np\n",
    "import parse\n",
    "import re\n",
    "from bs4 import BeautifulSoup # handle html strings"
   ],
   "metadata": {
    "collapsed": false,
    "pycharm": {
     "name": "#%%\n"
    }
   }
  },
  {
   "cell_type": "markdown",
   "source": [
    "# Read Dataset"
   ],
   "metadata": {
    "collapsed": false,
    "pycharm": {
     "name": "#%% md\n"
    }
   }
  },
  {
   "cell_type": "code",
   "execution_count": 73,
   "outputs": [
    {
     "data": {
      "text/plain": "   Postcode     Created  Advertised      Agreed   Completed  \\\n0   LU7 4WN  03/04/2019  03/04/2019         NaN         NaN   \n1   L23 6YD  21/03/2019  24/03/2019  05/04/2021  28/06/2021   \n2  DA17 5PJ  25/03/2019  03/04/2019  25/01/2021  15/03/2021   \n3   NW4 1AP  28/06/2019  04/07/2019         NaN         NaN   \n4   GL7 5UX  12/06/2019  09/08/2019  13/04/2021  05/07/2021   \n\n  Date Listing Last Cancelled Sale or Let  \\\n0                  28/02/2022        Sale   \n1                  26/02/2020        Sale   \n2                  13/06/2019        Sale   \n3                         NaN        Sale   \n4                         NaN        Sale   \n\n  RTD3308_outside_space1 - Outside Space Description  \\\n0                                    Communal Garden   \n1                                                NaN   \n2                                        Rear Garden   \n3                                                NaN   \n4                                        Back Garden   \n\n                     EweMove Description S1 Features  \\\n0  <ul><li>CASH BUYERS ONLY</li><li>No Upper Chai...   \n1  <ul><li>Sea Views</li><li>Very Popular Locatio...   \n2  <ul><li>Call NOW 24/7 or book instantly online...   \n3  <ul><li>5 bed link detached FREEHOLD house wit...   \n4  <ul><li>Four Bedrooms</li><li>Detached</li><li...   \n\n                  EweMove Description S2 Description  ...  \\\n0  Cash Buyers... You could pounce super quick on...  ...   \n1  WATCHING THE SHIPS ROLL IN - from your very ow...  ...   \n2  Guide price &pound;325,000 - &pound;350,000.Lo...  ...   \n3  EweMove Hampstead - A rare opportunity to acqu...  ...   \n4  For anyone looking for a family home in South ...  ...   \n\n                                        Price / Rent      Price Qualifier  \\\n0  <font color='blue'>&pound;140,000</font><br>Of...  Offers In Excess Of   \n1  <font color='blue'>&pound;325,000</font><br>Of...          Offers Over   \n2  <font color='blue'>&pound;325,000</font><br>Gu...          Guide Price   \n3  <font color='blue'>&pound;1,095,000</font><br>...          Guide Price   \n4       <font color='blue'>&pound;395,000</font><br>                  NaN   \n\n  Sale Price % Achieved Current EPC - EPC Expiry Date DESC Council Tax Band  \\\n0               130.71%                    11/03/2028                Band B   \n1                   NaN                    28/03/2029                Band E   \n2                   NaN                    12/07/2028                Band D   \n3                   NaN                    30/06/2029                   NaN   \n4               100.00%                    30/06/2024                   NaN   \n\n  DESC Leasehold Ground Rent DESC Leasehold Service Charge  \\\n0                        NaN                           NaN   \n1                        NaN                           NaN   \n2                        NaN                           NaN   \n3                        NaN                           NaN   \n4                        NaN                           NaN   \n\n  ZPG_lease_expiry_years_remaining # of Enquiry or viewings # of Apps/Offers  \n0                             68.0                       32               12  \n1                              NaN                       15               10  \n2                              NaN                       14                4  \n3                              NaN                       13                1  \n4                              NaN                       11                9  \n\n[5 rows x 35 columns]",
      "text/html": "<div>\n<style scoped>\n    .dataframe tbody tr th:only-of-type {\n        vertical-align: middle;\n    }\n\n    .dataframe tbody tr th {\n        vertical-align: top;\n    }\n\n    .dataframe thead th {\n        text-align: right;\n    }\n</style>\n<table border=\"1\" class=\"dataframe\">\n  <thead>\n    <tr style=\"text-align: right;\">\n      <th></th>\n      <th>Postcode</th>\n      <th>Created</th>\n      <th>Advertised</th>\n      <th>Agreed</th>\n      <th>Completed</th>\n      <th>Date Listing Last Cancelled</th>\n      <th>Sale or Let</th>\n      <th>RTD3308_outside_space1 - Outside Space Description</th>\n      <th>EweMove Description S1 Features</th>\n      <th>EweMove Description S2 Description</th>\n      <th>...</th>\n      <th>Price / Rent</th>\n      <th>Price Qualifier</th>\n      <th>Sale Price % Achieved</th>\n      <th>Current EPC - EPC Expiry Date</th>\n      <th>DESC Council Tax Band</th>\n      <th>DESC Leasehold Ground Rent</th>\n      <th>DESC Leasehold Service Charge</th>\n      <th>ZPG_lease_expiry_years_remaining</th>\n      <th># of Enquiry or viewings</th>\n      <th># of Apps/Offers</th>\n    </tr>\n  </thead>\n  <tbody>\n    <tr>\n      <th>0</th>\n      <td>LU7 4WN</td>\n      <td>03/04/2019</td>\n      <td>03/04/2019</td>\n      <td>NaN</td>\n      <td>NaN</td>\n      <td>28/02/2022</td>\n      <td>Sale</td>\n      <td>Communal Garden</td>\n      <td>&lt;ul&gt;&lt;li&gt;CASH BUYERS ONLY&lt;/li&gt;&lt;li&gt;No Upper Chai...</td>\n      <td>Cash Buyers... You could pounce super quick on...</td>\n      <td>...</td>\n      <td>&lt;font color='blue'&gt;&amp;pound;140,000&lt;/font&gt;&lt;br&gt;Of...</td>\n      <td>Offers In Excess Of</td>\n      <td>130.71%</td>\n      <td>11/03/2028</td>\n      <td>Band B</td>\n      <td>NaN</td>\n      <td>NaN</td>\n      <td>68.0</td>\n      <td>32</td>\n      <td>12</td>\n    </tr>\n    <tr>\n      <th>1</th>\n      <td>L23 6YD</td>\n      <td>21/03/2019</td>\n      <td>24/03/2019</td>\n      <td>05/04/2021</td>\n      <td>28/06/2021</td>\n      <td>26/02/2020</td>\n      <td>Sale</td>\n      <td>NaN</td>\n      <td>&lt;ul&gt;&lt;li&gt;Sea Views&lt;/li&gt;&lt;li&gt;Very Popular Locatio...</td>\n      <td>WATCHING THE SHIPS ROLL IN - from your very ow...</td>\n      <td>...</td>\n      <td>&lt;font color='blue'&gt;&amp;pound;325,000&lt;/font&gt;&lt;br&gt;Of...</td>\n      <td>Offers Over</td>\n      <td>NaN</td>\n      <td>28/03/2029</td>\n      <td>Band E</td>\n      <td>NaN</td>\n      <td>NaN</td>\n      <td>NaN</td>\n      <td>15</td>\n      <td>10</td>\n    </tr>\n    <tr>\n      <th>2</th>\n      <td>DA17 5PJ</td>\n      <td>25/03/2019</td>\n      <td>03/04/2019</td>\n      <td>25/01/2021</td>\n      <td>15/03/2021</td>\n      <td>13/06/2019</td>\n      <td>Sale</td>\n      <td>Rear Garden</td>\n      <td>&lt;ul&gt;&lt;li&gt;Call NOW 24/7 or book instantly online...</td>\n      <td>Guide price &amp;pound;325,000 - &amp;pound;350,000.Lo...</td>\n      <td>...</td>\n      <td>&lt;font color='blue'&gt;&amp;pound;325,000&lt;/font&gt;&lt;br&gt;Gu...</td>\n      <td>Guide Price</td>\n      <td>NaN</td>\n      <td>12/07/2028</td>\n      <td>Band D</td>\n      <td>NaN</td>\n      <td>NaN</td>\n      <td>NaN</td>\n      <td>14</td>\n      <td>4</td>\n    </tr>\n    <tr>\n      <th>3</th>\n      <td>NW4 1AP</td>\n      <td>28/06/2019</td>\n      <td>04/07/2019</td>\n      <td>NaN</td>\n      <td>NaN</td>\n      <td>NaN</td>\n      <td>Sale</td>\n      <td>NaN</td>\n      <td>&lt;ul&gt;&lt;li&gt;5 bed link detached FREEHOLD house wit...</td>\n      <td>EweMove Hampstead - A rare opportunity to acqu...</td>\n      <td>...</td>\n      <td>&lt;font color='blue'&gt;&amp;pound;1,095,000&lt;/font&gt;&lt;br&gt;...</td>\n      <td>Guide Price</td>\n      <td>NaN</td>\n      <td>30/06/2029</td>\n      <td>NaN</td>\n      <td>NaN</td>\n      <td>NaN</td>\n      <td>NaN</td>\n      <td>13</td>\n      <td>1</td>\n    </tr>\n    <tr>\n      <th>4</th>\n      <td>GL7 5UX</td>\n      <td>12/06/2019</td>\n      <td>09/08/2019</td>\n      <td>13/04/2021</td>\n      <td>05/07/2021</td>\n      <td>NaN</td>\n      <td>Sale</td>\n      <td>Back Garden</td>\n      <td>&lt;ul&gt;&lt;li&gt;Four Bedrooms&lt;/li&gt;&lt;li&gt;Detached&lt;/li&gt;&lt;li...</td>\n      <td>For anyone looking for a family home in South ...</td>\n      <td>...</td>\n      <td>&lt;font color='blue'&gt;&amp;pound;395,000&lt;/font&gt;&lt;br&gt;</td>\n      <td>NaN</td>\n      <td>100.00%</td>\n      <td>30/06/2024</td>\n      <td>NaN</td>\n      <td>NaN</td>\n      <td>NaN</td>\n      <td>NaN</td>\n      <td>11</td>\n      <td>9</td>\n    </tr>\n  </tbody>\n</table>\n<p>5 rows × 35 columns</p>\n</div>"
     },
     "execution_count": 73,
     "metadata": {},
     "output_type": "execute_result"
    }
   ],
   "source": [
    "filename = \"../datasets/PropertyData_wDesc.csv\"\n",
    "# Default encoding (UTF-8) not working on this dataset\n",
    "data = pd.read_csv(filename, encoding=\"ISO8859-1\")\n",
    "data.head()"
   ],
   "metadata": {
    "collapsed": false,
    "pycharm": {
     "name": "#%%\n"
    }
   }
  },
  {
   "cell_type": "markdown",
   "source": [
    "# Inspecting the dataset"
   ],
   "metadata": {
    "collapsed": false,
    "pycharm": {
     "name": "#%% md\n"
    }
   }
  },
  {
   "cell_type": "code",
   "execution_count": 36,
   "outputs": [
    {
     "data": {
      "text/plain": "(3649, 35)"
     },
     "execution_count": 36,
     "metadata": {},
     "output_type": "execute_result"
    }
   ],
   "source": [
    "data.shape"
   ],
   "metadata": {
    "collapsed": false,
    "pycharm": {
     "name": "#%%\n"
    }
   }
  },
  {
   "cell_type": "code",
   "execution_count": 37,
   "outputs": [
    {
     "data": {
      "text/plain": "Postcode                                                 0\nCreated                                                  0\nAdvertised                                             453\nAgreed                                                1381\nCompleted                                             1483\nDate Listing Last Cancelled                           2179\nSale or Let                                              0\nRTD3308_outside_space1 - Outside Space Description    1450\nEweMove Description S1 Features                          0\nEweMove Description S2 Description                     301\nEweMove Description S3 Rooms                           977\nEweMove Description S4 Summary                           0\nRTD3307_parking1 - Parking Description                1331\nRTD3307_parking2 - Parking Description                2077\nRTD3307_parking3 - Parking Description                2779\nRTD3308_outside_space2 - Outside Space Description    2001\nRTD3308_outside_space3 - Outside Space Description    2561\nRTD3316_condition1 - Condition Description            1383\nRTD3318_heating1 - Heating Description                1312\nRTD3317_accessibility1 - accessibility Description    2296\nRTD3317_accessibility2 - accessibility Description    3555\nRTD3317_accessibility3 - accessibility Description    3641\nRTD3318_heating2 - Heating Description                1919\nRTD3313_land_area_unit - Area Description             3613\nRTD3318_heating3 - Heating Description                3039\nPrice / Rent                                             0\nPrice Qualifier                                       1148\nSale Price % Achieved                                 3127\nCurrent EPC - EPC Expiry Date                         1059\nDESC Council Tax Band                                 1458\nDESC Leasehold Ground Rent                            3451\nDESC Leasehold Service Charge                         3436\nZPG_lease_expiry_years_remaining                      3372\n# of Enquiry or viewings                                 0\n# of Apps/Offers                                         0\ndtype: int64"
     },
     "execution_count": 37,
     "metadata": {},
     "output_type": "execute_result"
    }
   ],
   "source": [
    "data.isnull().sum()"
   ],
   "metadata": {
    "collapsed": false,
    "pycharm": {
     "name": "#%%\n"
    }
   }
  },
  {
   "cell_type": "markdown",
   "source": [
    "# Handling HTML text"
   ],
   "metadata": {
    "collapsed": false,
    "pycharm": {
     "name": "#%% md\n"
    }
   }
  },
  {
   "cell_type": "markdown",
   "source": [
    "## EweMove Description S1 Features"
   ],
   "metadata": {
    "collapsed": false,
    "pycharm": {
     "name": "#%% md\n"
    }
   }
  },
  {
   "cell_type": "code",
   "execution_count": 38,
   "outputs": [
    {
     "data": {
      "text/plain": "'<ul><li>CASH BUYERS ONLY</li><li>No Upper Chain!</li><li>Very Rare 2 Car Parking Spaces</li><li>Great Commuter Links by Road & Rail</li><li>Communal Gardens</li><li>2 Bedrooms</li><li>Cul-De-Sac Location</li><li>Brand New Bathroom</li><li>Lovely Residential Area</li></ul>'"
     },
     "execution_count": 38,
     "metadata": {},
     "output_type": "execute_result"
    }
   ],
   "source": [
    "string = data[\"EweMove Description S1 Features\"][0]\n",
    "soup = BeautifulSoup(string, \"html.parser\")\n",
    "string"
   ],
   "metadata": {
    "collapsed": false,
    "pycharm": {
     "name": "#%%\n"
    }
   }
  },
  {
   "cell_type": "code",
   "execution_count": 39,
   "outputs": [
    {
     "name": "stdout",
     "output_type": "stream",
     "text": [
      "<ul>\n",
      " <li>\n",
      "  CASH BUYERS ONLY\n",
      " </li>\n",
      " <li>\n",
      "  No Upper Chain!\n",
      " </li>\n",
      " <li>\n",
      "  Very Rare 2 Car Parking Spaces\n",
      " </li>\n",
      " <li>\n",
      "  Great Commuter Links by Road &amp; Rail\n",
      " </li>\n",
      " <li>\n",
      "  Communal Gardens\n",
      " </li>\n",
      " <li>\n",
      "  2 Bedrooms\n",
      " </li>\n",
      " <li>\n",
      "  Cul-De-Sac Location\n",
      " </li>\n",
      " <li>\n",
      "  Brand New Bathroom\n",
      " </li>\n",
      " <li>\n",
      "  Lovely Residential Area\n",
      " </li>\n",
      "</ul>\n"
     ]
    }
   ],
   "source": [
    "print(soup.prettify())"
   ],
   "metadata": {
    "collapsed": false,
    "pycharm": {
     "name": "#%%\n"
    }
   }
  },
  {
   "cell_type": "code",
   "execution_count": 40,
   "outputs": [
    {
     "name": "stdout",
     "output_type": "stream",
     "text": [
      "CASH BUYERS ONLY\n",
      "No Upper Chain!\n",
      "Very Rare 2 Car Parking Spaces\n",
      "Great Commuter Links by Road & Rail\n",
      "Communal Gardens\n",
      "2 Bedrooms\n",
      "Cul-De-Sac Location\n",
      "Brand New Bathroom\n",
      "Lovely Residential Area\n"
     ]
    }
   ],
   "source": [
    "features = soup.select(\"li\")\n",
    "for feature in features:\n",
    "    print(feature.string.strip())"
   ],
   "metadata": {
    "collapsed": false,
    "pycharm": {
     "name": "#%%\n"
    }
   }
  },
  {
   "cell_type": "markdown",
   "source": [
    "## EweMove Description S3 Rooms"
   ],
   "metadata": {
    "collapsed": false,
    "pycharm": {
     "name": "#%% md\n"
    }
   }
  },
  {
   "cell_type": "code",
   "execution_count": 41,
   "outputs": [],
   "source": [
    "string = data[\"EweMove Description S3 Rooms\"][6]\n",
    "soup = BeautifulSoup(string, \"html.parser\")"
   ],
   "metadata": {
    "collapsed": false,
    "pycharm": {
     "name": "#%%\n"
    }
   }
  },
  {
   "cell_type": "code",
   "execution_count": 42,
   "outputs": [
    {
     "name": "stdout",
     "output_type": "stream",
     "text": [
      "Living Room              4.34m x 4.11m (17.8 sqm) - 14' 3\" x 13' 5\" (192 sqft)\n",
      "Dining Room              3.13m x 2.83m (8.8 sqm) - 10' 3\" x 9' 3\" (95 sqft)\n",
      "Kitchen                  3.12m x 2.83m (8.8 sqm) - 10' 2\" x 9' 3\" (95 sqft)\n",
      "Play Room                2.29m x 2.04m (4.6 sqm) - 7' 6\" x 6' 8\" (50 sqft)\n",
      "Bedroom 1                4.05m x 3.38m (13.7 sqm) - 13' 3\" x 11' 1\" (147 sqft)\n",
      "Bedroom 2                4.11m x 2.29m (9.4 sqm) - 13' 5\" x 7' 6\" (101 sqft)\n",
      "Bedroom 3                3.36m x 2.86m (9.6 sqm) - 11' x 9' 4\" (103 sqft)\n",
      "Garage                   5.09m x 2.48m (12.6 sqm) - 16' 8\" x 8' 1\" (136 sqft)\n"
     ]
    }
   ],
   "source": [
    "rooms = soup.select(\"li\")\n",
    "for room in rooms:\n",
    "    name = room.strong.string.split('-')[-1].strip()\n",
    "    try:\n",
    "        area = room.i.string\n",
    "    except AttributeError:\n",
    "        area = 1\n",
    "    print(\"{:25s}{}\".format(name, area))"
   ],
   "metadata": {
    "collapsed": false,
    "pycharm": {
     "name": "#%%\n"
    }
   }
  },
  {
   "cell_type": "markdown",
   "source": [
    "## EweMove Description S4 Summary"
   ],
   "metadata": {
    "collapsed": false,
    "pycharm": {
     "name": "#%% md\n"
    }
   }
  },
  {
   "cell_type": "code",
   "execution_count": 43,
   "outputs": [],
   "source": [
    "string = data[\"EweMove Description S4 Summary\"][26]\n",
    "soup = BeautifulSoup(string, \"html.parser\")"
   ],
   "metadata": {
    "collapsed": false,
    "pycharm": {
     "name": "#%%\n"
    }
   }
  },
  {
   "cell_type": "code",
   "execution_count": 44,
   "outputs": [
    {
     "data": {
      "text/plain": "['<b>HUGE Summerhouse</b><br>',\n '<b>Extra long garage</b><br>',\n '<b>Parking for 4 cars</b><br>',\n '<b>Great internal space</b><br>',\n \"<b>South-facing garden</b></li><br><br>Call 24/7 to register your interest or go online to book a viewing at a time that suits you - it's that easy.\"]"
     },
     "execution_count": 44,
     "metadata": {},
     "output_type": "execute_result"
    }
   ],
   "source": [
    "summary = list(filter(lambda s: s.startswith(\"<b>\"), string.split(\"<li>\")))\n",
    "summary"
   ],
   "metadata": {
    "collapsed": false,
    "pycharm": {
     "name": "#%%\n"
    }
   }
  },
  {
   "cell_type": "code",
   "execution_count": 45,
   "outputs": [
    {
     "name": "stdout",
     "output_type": "stream",
     "text": [
      "('HUGE Summerhouse',)\n",
      "('Extra long garage',)\n",
      "('Parking for 4 cars',)\n",
      "('Great internal space',)\n",
      "('South-facing garden', \"Call 24/7 to register your interest or go online to book a viewing at a time that suits you - it's that easy.\")\n"
     ]
    }
   ],
   "source": [
    "single = parse.compile(\"<b>{}</b><br>\")\n",
    "double = parse.compile(\"<b>{}</b><br><br>{}<br><br>\")\n",
    "final1 = parse.compile(\"<b>{}</b><br><br>{}<br></li>\")\n",
    "final2 = parse.compile(\"<b>{}</b><br><br>{}<br></li><br><br>{}\")\n",
    "final3 = parse.compile(\"<b>{}</b></li>\")\n",
    "final4 = parse.compile(\"<b>{}</b></li><br><br>{}\")\n",
    "parsers = [single, double, final1, final2, final3, final4]\n",
    "for s in summary:\n",
    "    result = list(filter(lambda r: r is not None, map(lambda p: p.parse(s), parsers)))[0]\n",
    "    print(result.fixed)"
   ],
   "metadata": {
    "collapsed": false,
    "pycharm": {
     "name": "#%%\n"
    }
   }
  },
  {
   "cell_type": "markdown",
   "source": [
    "## Price / Rent"
   ],
   "metadata": {
    "collapsed": false,
    "pycharm": {
     "name": "#%% md\n"
    }
   }
  },
  {
   "cell_type": "code",
   "execution_count": 46,
   "outputs": [
    {
     "data": {
      "text/plain": "\"<font color='blue'>&pound;0</font><br>\""
     },
     "execution_count": 46,
     "metadata": {},
     "output_type": "execute_result"
    }
   ],
   "source": [
    "string = data[\"Price / Rent\"][3632]\n",
    "string"
   ],
   "metadata": {
    "collapsed": false,
    "pycharm": {
     "name": "#%%\n"
    }
   }
  },
  {
   "cell_type": "code",
   "execution_count": 47,
   "outputs": [
    {
     "name": "stdout",
     "output_type": "stream",
     "text": [
      "\n",
      "0\n"
     ]
    }
   ],
   "source": [
    "price_qualifier = string.split(\"<br>\")[-1]\n",
    "\n",
    "pattern = \"[-+]?[.]?[\\d]+(?:,\\d\\d\\d)*[\\.]?\\d*(?:[eE][-+]?\\d+)?\"\n",
    "price = re.findall(pattern, string)[0]\n",
    "\n",
    "print(price_qualifier)\n",
    "print(price)"
   ],
   "metadata": {
    "collapsed": false,
    "pycharm": {
     "name": "#%%\n"
    }
   }
  },
  {
   "cell_type": "markdown",
   "source": [
    "# Generalize records"
   ],
   "metadata": {
    "collapsed": false,
    "pycharm": {
     "name": "#%% md\n"
    }
   }
  },
  {
   "cell_type": "markdown",
   "source": [
    "## Parking spaces"
   ],
   "metadata": {
    "collapsed": false,
    "pycharm": {
     "name": "#%% md\n"
    }
   }
  },
  {
   "cell_type": "code",
   "execution_count": 74,
   "outputs": [
    {
     "data": {
      "text/plain": "  RTD3307_parking1 - Parking Description  \\\n0                              Allocated   \n1                                    NaN   \n2                              On Street   \n3                                    NaN   \n4                               Driveway   \n\n  RTD3307_parking2 - Parking Description  \\\n0                             Off Street   \n1                                    NaN   \n2                                    NaN   \n3                                    NaN   \n4                                 Garage   \n\n  RTD3307_parking3 - Parking Description  \n0                              Residents  \n1                                    NaN  \n2                                    NaN  \n3                                    NaN  \n4                             Off Street  ",
      "text/html": "<div>\n<style scoped>\n    .dataframe tbody tr th:only-of-type {\n        vertical-align: middle;\n    }\n\n    .dataframe tbody tr th {\n        vertical-align: top;\n    }\n\n    .dataframe thead th {\n        text-align: right;\n    }\n</style>\n<table border=\"1\" class=\"dataframe\">\n  <thead>\n    <tr style=\"text-align: right;\">\n      <th></th>\n      <th>RTD3307_parking1 - Parking Description</th>\n      <th>RTD3307_parking2 - Parking Description</th>\n      <th>RTD3307_parking3 - Parking Description</th>\n    </tr>\n  </thead>\n  <tbody>\n    <tr>\n      <th>0</th>\n      <td>Allocated</td>\n      <td>Off Street</td>\n      <td>Residents</td>\n    </tr>\n    <tr>\n      <th>1</th>\n      <td>NaN</td>\n      <td>NaN</td>\n      <td>NaN</td>\n    </tr>\n    <tr>\n      <th>2</th>\n      <td>On Street</td>\n      <td>NaN</td>\n      <td>NaN</td>\n    </tr>\n    <tr>\n      <th>3</th>\n      <td>NaN</td>\n      <td>NaN</td>\n      <td>NaN</td>\n    </tr>\n    <tr>\n      <th>4</th>\n      <td>Driveway</td>\n      <td>Garage</td>\n      <td>Off Street</td>\n    </tr>\n  </tbody>\n</table>\n</div>"
     },
     "execution_count": 74,
     "metadata": {},
     "output_type": "execute_result"
    }
   ],
   "source": [
    "parkings_name = list(filter(lambda s: \"parking\" in s, data.columns))\n",
    "parkings = data[parkings_name].copy()\n",
    "parkings.head()"
   ],
   "metadata": {
    "collapsed": false,
    "pycharm": {
     "name": "#%%\n"
    }
   }
  },
  {
   "cell_type": "markdown",
   "source": [
    "### Types of parking spaces for every property\n",
    "First obtaining all the parking types in the original dataset, then get the parking types for every property"
   ],
   "metadata": {
    "collapsed": false,
    "pycharm": {
     "name": "#%% md\n"
    }
   }
  },
  {
   "cell_type": "code",
   "execution_count": 75,
   "outputs": [
    {
     "data": {
      "text/plain": "[('Allocated', 343),\n ('Communal', 81),\n ('Covered', 36),\n ('Driveway', 1257),\n ('Garage', 842),\n ('Gated', 89),\n ('None', 6187),\n ('Off Street', 1209),\n ('On Street', 458),\n ('Permit', 70),\n ('Private', 258),\n ('Rear', 27),\n ('Residents', 90)]"
     },
     "execution_count": 75,
     "metadata": {},
     "output_type": "execute_result"
    }
   ],
   "source": [
    "parkings = parkings.fillna(\"None\")\n",
    "types, counts = np.unique(parkings.to_numpy().flatten(), return_counts=True)\n",
    "list(zip(types, counts))"
   ],
   "metadata": {
    "collapsed": false,
    "pycharm": {
     "name": "#%%\n"
    }
   }
  },
  {
   "cell_type": "code",
   "execution_count": 76,
   "outputs": [],
   "source": [
    "def get_parking_spaces_for_property(first: str, second: str, third: str):\n",
    "    parking_types = {\"Allocated\": 0, \"Off Street\": 0, \"Residents\": 0, \"On Street\": 0, \"Driveway\": 0, \"Garage\": 0,\n",
    "                     \"Permit\": 0, \"Private\": 0, \"Gated\": 0, \"Covered\": 0, \"Communal\": 0, \"Rear\": 0}\n",
    "\n",
    "    if first in parking_types.keys():\n",
    "        parking_types[first] += 1\n",
    "    if second in parking_types.keys():\n",
    "        parking_types[second] += 1\n",
    "    if third in parking_types.keys():\n",
    "        parking_types[third] += 1\n",
    "\n",
    "    return parking_types"
   ],
   "metadata": {
    "collapsed": false,
    "pycharm": {
     "name": "#%%\n"
    }
   }
  },
  {
   "cell_type": "code",
   "execution_count": 77,
   "outputs": [],
   "source": [
    "parking_types = {key: [] for key in types if key != \"None\"}\n",
    "for i in range(len(parkings)):\n",
    "    first = parkings.iloc[i, 0]\n",
    "    second = parkings.iloc[i, 1]\n",
    "    third = parkings.iloc[i, 2]\n",
    "    types = get_parking_spaces_for_property(first, second, third)\n",
    "\n",
    "    list(map(lambda value, d: parking_types[d].append(types[value]), types.keys(), types.keys()))"
   ],
   "metadata": {
    "collapsed": false,
    "pycharm": {
     "name": "#%%\n"
    }
   }
  },
  {
   "cell_type": "code",
   "execution_count": 78,
   "outputs": [
    {
     "name": "stdout",
     "output_type": "stream",
     "text": [
      "Allocated \t  343\t 3649\n",
      "Communal  \t   81\t 3649\n",
      "Covered   \t   36\t 3649\n",
      "Driveway  \t 1257\t 3649\n",
      "Garage    \t  842\t 3649\n",
      "Gated     \t   89\t 3649\n",
      "Off Street\t 1209\t 3649\n",
      "On Street \t  458\t 3649\n",
      "Permit    \t   70\t 3649\n",
      "Private   \t  258\t 3649\n",
      "Rear      \t   27\t 3649\n",
      "Residents \t   90\t 3649\n"
     ]
    }
   ],
   "source": [
    "for k, v in parking_types.items():\n",
    "    print(\"{:10s}\\t{:5d}\\t{:5d}\".format(k, sum(v), len(v)))"
   ],
   "metadata": {
    "collapsed": false,
    "pycharm": {
     "name": "#%%\n"
    }
   }
  },
  {
   "cell_type": "markdown",
   "source": [
    "### Number of parking spaces for every property"
   ],
   "metadata": {
    "collapsed": false,
    "pycharm": {
     "name": "#%% md\n"
    }
   }
  },
  {
   "cell_type": "code",
   "execution_count": 79,
   "outputs": [
    {
     "data": {
      "text/plain": "   parking num\n0            3\n1            0\n2            1\n3            0\n4            3",
      "text/html": "<div>\n<style scoped>\n    .dataframe tbody tr th:only-of-type {\n        vertical-align: middle;\n    }\n\n    .dataframe tbody tr th {\n        vertical-align: top;\n    }\n\n    .dataframe thead th {\n        text-align: right;\n    }\n</style>\n<table border=\"1\" class=\"dataframe\">\n  <thead>\n    <tr style=\"text-align: right;\">\n      <th></th>\n      <th>parking num</th>\n    </tr>\n  </thead>\n  <tbody>\n    <tr>\n      <th>0</th>\n      <td>3</td>\n    </tr>\n    <tr>\n      <th>1</th>\n      <td>0</td>\n    </tr>\n    <tr>\n      <th>2</th>\n      <td>1</td>\n    </tr>\n    <tr>\n      <th>3</th>\n      <td>0</td>\n    </tr>\n    <tr>\n      <th>4</th>\n      <td>3</td>\n    </tr>\n  </tbody>\n</table>\n</div>"
     },
     "execution_count": 79,
     "metadata": {},
     "output_type": "execute_result"
    }
   ],
   "source": [
    "parkings = data[parkings_name]\n",
    "parking_num = [parkings.iloc[i].count() for i in range(len(parkings))]\n",
    "parking_num = pd.DataFrame({\"parking num\": parking_num})\n",
    "parking_num.head()"
   ],
   "metadata": {
    "collapsed": false,
    "pycharm": {
     "name": "#%%\n"
    }
   }
  },
  {
   "cell_type": "code",
   "execution_count": 82,
   "outputs": [
    {
     "data": {
      "text/plain": "parking num    4760\ndtype: int64"
     },
     "execution_count": 82,
     "metadata": {},
     "output_type": "execute_result"
    }
   ],
   "source": [
    "parking_num.sum()"
   ],
   "metadata": {
    "collapsed": false,
    "pycharm": {
     "name": "#%%\n"
    }
   }
  },
  {
   "cell_type": "markdown",
   "source": [
    "## Outside spaces"
   ],
   "metadata": {
    "collapsed": false,
    "pycharm": {
     "name": "#%% md\n"
    }
   }
  },
  {
   "cell_type": "code",
   "execution_count": 101,
   "outputs": [
    {
     "data": {
      "text/plain": "  RTD3308_outside_space1 - Outside Space Description  \\\n0                                    Communal Garden   \n1                                                NaN   \n2                                        Rear Garden   \n3                                                NaN   \n4                                        Back Garden   \n\n  RTD3308_outside_space2 - Outside Space Description  \\\n0                                                NaN   \n1                                                NaN   \n2                                     Private Garden   \n3                                                NaN   \n4                                    Enclosed Garden   \n\n  RTD3308_outside_space3 - Outside Space Description  \n0                                                NaN  \n1                                                NaN  \n2                                                NaN  \n3                                                NaN  \n4                                     Private Garden  ",
      "text/html": "<div>\n<style scoped>\n    .dataframe tbody tr th:only-of-type {\n        vertical-align: middle;\n    }\n\n    .dataframe tbody tr th {\n        vertical-align: top;\n    }\n\n    .dataframe thead th {\n        text-align: right;\n    }\n</style>\n<table border=\"1\" class=\"dataframe\">\n  <thead>\n    <tr style=\"text-align: right;\">\n      <th></th>\n      <th>RTD3308_outside_space1 - Outside Space Description</th>\n      <th>RTD3308_outside_space2 - Outside Space Description</th>\n      <th>RTD3308_outside_space3 - Outside Space Description</th>\n    </tr>\n  </thead>\n  <tbody>\n    <tr>\n      <th>0</th>\n      <td>Communal Garden</td>\n      <td>NaN</td>\n      <td>NaN</td>\n    </tr>\n    <tr>\n      <th>1</th>\n      <td>NaN</td>\n      <td>NaN</td>\n      <td>NaN</td>\n    </tr>\n    <tr>\n      <th>2</th>\n      <td>Rear Garden</td>\n      <td>Private Garden</td>\n      <td>NaN</td>\n    </tr>\n    <tr>\n      <th>3</th>\n      <td>NaN</td>\n      <td>NaN</td>\n      <td>NaN</td>\n    </tr>\n    <tr>\n      <th>4</th>\n      <td>Back Garden</td>\n      <td>Enclosed Garden</td>\n      <td>Private Garden</td>\n    </tr>\n  </tbody>\n</table>\n</div>"
     },
     "execution_count": 101,
     "metadata": {},
     "output_type": "execute_result"
    }
   ],
   "source": [
    "outside_name = list(filter(lambda s: \"outside_space\" in s, data.columns))\n",
    "outside = data[outside_name].copy()\n",
    "outside.head()"
   ],
   "metadata": {
    "collapsed": false,
    "pycharm": {
     "name": "#%%\n"
    }
   }
  },
  {
   "cell_type": "markdown",
   "source": [
    "### Types of outside spaces for every property"
   ],
   "metadata": {
    "collapsed": false,
    "pycharm": {
     "name": "#%% md\n"
    }
   }
  },
  {
   "cell_type": "code",
   "execution_count": 55,
   "outputs": [],
   "source": [
    "def record_types(first: str, second: str, third: str, types: dict):\n",
    "    if first in types.keys():\n",
    "        types[first] += 1\n",
    "    if second in types.keys():\n",
    "        types[second] += 1\n",
    "    if third in types.keys():\n",
    "        types[third] += 1\n",
    "\n",
    "    return types"
   ],
   "metadata": {
    "collapsed": false,
    "pycharm": {
     "name": "#%%\n"
    }
   }
  },
  {
   "cell_type": "code",
   "execution_count": 90,
   "outputs": [
    {
     "data": {
      "text/plain": "[('Back Garden', 1366),\n ('Communal Garden', 227),\n ('Enclosed Garden', 735),\n ('Front Garden', 682),\n ('None', 6012),\n ('Patio', 431),\n ('Private Garden', 599),\n ('Rear Garden', 802),\n ('Terrace', 93)]"
     },
     "execution_count": 90,
     "metadata": {},
     "output_type": "execute_result"
    }
   ],
   "source": [
    "outside = outside.fillna(\"None\")\n",
    "types, counts = np.unique(outside.to_numpy().flatten(), return_counts=True)\n",
    "list(zip(types, counts))"
   ],
   "metadata": {
    "collapsed": false,
    "pycharm": {
     "name": "#%%\n"
    }
   }
  },
  {
   "cell_type": "code",
   "execution_count": 94,
   "outputs": [],
   "source": [
    "outside_types = {key: [] for key in types if key != \"None\"}\n",
    "for i in range(len(outside)):\n",
    "    types = {key: 0 for key in types if key != \"None\"}\n",
    "    first = outside.iloc[i, 0]\n",
    "    second = outside.iloc[i, 1]\n",
    "    third = outside.iloc[i, 2]\n",
    "    types = record_types(first, second, third, types)\n",
    "\n",
    "    list(map(lambda value, d: outside_types[d].append(types[value]), types.keys(), types.keys()))"
   ],
   "metadata": {
    "collapsed": false,
    "pycharm": {
     "name": "#%%\n"
    }
   }
  },
  {
   "cell_type": "code",
   "execution_count": 95,
   "outputs": [
    {
     "name": "stdout",
     "output_type": "stream",
     "text": [
      "Back Garden     1366\n",
      "Communal Garden  227\n",
      "Enclosed Garden  735\n",
      "Front Garden     682\n",
      "Patio            431\n",
      "Private Garden   599\n",
      "Rear Garden      802\n",
      "Terrace           93\n"
     ]
    }
   ],
   "source": [
    "for k, v in outside_types.items():\n",
    "    print(\"{:15s}{:5d}\".format(k, sum(v)))"
   ],
   "metadata": {
    "collapsed": false,
    "pycharm": {
     "name": "#%%\n"
    }
   }
  },
  {
   "cell_type": "markdown",
   "source": [
    "### Number of outside spaces for every property"
   ],
   "metadata": {
    "collapsed": false,
    "pycharm": {
     "name": "#%% md\n"
    }
   }
  },
  {
   "cell_type": "code",
   "execution_count": 104,
   "outputs": [
    {
     "data": {
      "text/plain": "   outside_num\n0            1\n1            0\n2            2\n3            0\n4            3",
      "text/html": "<div>\n<style scoped>\n    .dataframe tbody tr th:only-of-type {\n        vertical-align: middle;\n    }\n\n    .dataframe tbody tr th {\n        vertical-align: top;\n    }\n\n    .dataframe thead th {\n        text-align: right;\n    }\n</style>\n<table border=\"1\" class=\"dataframe\">\n  <thead>\n    <tr style=\"text-align: right;\">\n      <th></th>\n      <th>outside_num</th>\n    </tr>\n  </thead>\n  <tbody>\n    <tr>\n      <th>0</th>\n      <td>1</td>\n    </tr>\n    <tr>\n      <th>1</th>\n      <td>0</td>\n    </tr>\n    <tr>\n      <th>2</th>\n      <td>2</td>\n    </tr>\n    <tr>\n      <th>3</th>\n      <td>0</td>\n    </tr>\n    <tr>\n      <th>4</th>\n      <td>3</td>\n    </tr>\n  </tbody>\n</table>\n</div>"
     },
     "execution_count": 104,
     "metadata": {},
     "output_type": "execute_result"
    }
   ],
   "source": [
    "outside = data[outside_name]\n",
    "outside_num = [outside.iloc[i].count() for i in range(len(outside))]\n",
    "temp = pd.DataFrame({\"outside_num\": outside_num})\n",
    "temp.head()"
   ],
   "metadata": {
    "collapsed": false,
    "pycharm": {
     "name": "#%%\n"
    }
   }
  },
  {
   "cell_type": "code",
   "execution_count": 105,
   "outputs": [
    {
     "data": {
      "text/plain": "outside_num    4935\ndtype: int64"
     },
     "execution_count": 105,
     "metadata": {},
     "output_type": "execute_result"
    }
   ],
   "source": [
    "temp.sum()"
   ],
   "metadata": {
    "collapsed": false,
    "pycharm": {
     "name": "#%%\n"
    }
   }
  },
  {
   "cell_type": "code",
   "execution_count": null,
   "outputs": [],
   "source": [],
   "metadata": {
    "collapsed": false,
    "pycharm": {
     "name": "#%%\n"
    }
   }
  }
 ],
 "metadata": {
  "kernelspec": {
   "display_name": "Python 3",
   "language": "python",
   "name": "python3"
  },
  "language_info": {
   "codemirror_mode": {
    "name": "ipython",
    "version": 2
   },
   "file_extension": ".py",
   "mimetype": "text/x-python",
   "name": "python",
   "nbconvert_exporter": "python",
   "pygments_lexer": "ipython2",
   "version": "2.7.6"
  }
 },
 "nbformat": 4,
 "nbformat_minor": 0
}