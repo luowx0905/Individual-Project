{
 "cells": [
  {
   "cell_type": "markdown",
   "source": [
    "# Import packages"
   ],
   "metadata": {
    "collapsed": false,
    "pycharm": {
     "name": "#%% md\n"
    }
   }
  },
  {
   "cell_type": "code",
   "execution_count": 1,
   "outputs": [],
   "source": [
    "import pandas as pd\n",
    "import numpy as np\n",
    "import parse\n",
    "import re\n",
    "import seaborn as sns\n",
    "from bs4 import BeautifulSoup\n",
    "from matplotlib import pyplot as plt\n",
    "\n",
    "from ProcessHTML import ProcessHTML\n",
    "from ExtractRooms import ExtractRooms\n",
    "from GeneralizeDataset import GeneralizeDataset"
   ],
   "metadata": {
    "collapsed": false,
    "pycharm": {
     "name": "#%%\n"
    }
   }
  },
  {
   "cell_type": "markdown",
   "source": [
    "# Preprocess dataset\n",
    "## HTML Texts"
   ],
   "metadata": {
    "collapsed": false,
    "pycharm": {
     "name": "#%% md\n"
    }
   }
  },
  {
   "cell_type": "code",
   "execution_count": 2,
   "outputs": [],
   "source": [
    "filename = \"../datasets/PropertyData_wDesc.csv\"\n",
    "data = pd.read_csv(filename, encoding=\"ISO8859-1\")"
   ],
   "metadata": {
    "collapsed": false,
    "pycharm": {
     "name": "#%%\n"
    }
   }
  },
  {
   "cell_type": "code",
   "execution_count": 3,
   "outputs": [],
   "source": [
    "handler = ProcessHTML()\n",
    "\n",
    "rooms = data[\"EweMove Description S3 Rooms\"]\n",
    "price = data[\"Price / Rent\"]\n",
    "\n",
    "for room in rooms:\n",
    "    handler.EweMove_Description_S3_Rooms(room)\n",
    "for p in price:\n",
    "    handler.price_rent(p)"
   ],
   "metadata": {
    "collapsed": false,
    "pycharm": {
     "name": "#%%\n"
    }
   }
  },
  {
   "cell_type": "code",
   "execution_count": 4,
   "outputs": [],
   "source": [
    "indices = set(range(len(data)))\n",
    "room_indices = set(i for i in range(len(handler.s3_rooms)) if handler.s3_rooms[i] is not None)\n",
    "price_indices = set(i for i in range(len(handler.price_or_rent)) if handler.price_or_rent[i][0] != 0)"
   ],
   "metadata": {
    "collapsed": false,
    "pycharm": {
     "name": "#%%\n"
    }
   }
  },
  {
   "cell_type": "code",
   "execution_count": 5,
   "outputs": [],
   "source": [
    "valid_indices = indices & room_indices & price_indices"
   ],
   "metadata": {
    "collapsed": false,
    "pycharm": {
     "name": "#%%\n"
    }
   }
  },
  {
   "cell_type": "markdown",
   "source": [
    "## Categorical data"
   ],
   "metadata": {
    "collapsed": false,
    "pycharm": {
     "name": "#%% md\n"
    }
   }
  },
  {
   "cell_type": "code",
   "execution_count": 6,
   "outputs": [],
   "source": [
    "generalize = GeneralizeDataset(data)\n",
    "\n",
    "parking = generalize.get_feature_num(\"parking\")\n",
    "outside = generalize.get_feature_num(\"outside_space\")\n",
    "heating = generalize.get_feature_num(\"heating\")\n",
    "accessibility = generalize.get_feature_num(\"accessibility\")"
   ],
   "metadata": {
    "collapsed": false,
    "pycharm": {
     "name": "#%%\n"
    }
   }
  },
  {
   "cell_type": "code",
   "execution_count": 7,
   "outputs": [],
   "source": [
    "condition_indices = set(i for i in indices if data[\"RTD3316_condition1 - Condition Description\"].notna()[i])\n",
    "qualifier_indices = set(i for i in indices if data[\"Price Qualifier\"].notna()[i])\n",
    "council_tax_indices = set(i for i in indices if data[\"DESC Council Tax Band\"].notna()[i])"
   ],
   "metadata": {
    "collapsed": false,
    "pycharm": {
     "name": "#%%\n"
    }
   }
  },
  {
   "cell_type": "code",
   "execution_count": 8,
   "outputs": [],
   "source": [
    "valid_indices = valid_indices & condition_indices & qualifier_indices & council_tax_indices"
   ],
   "metadata": {
    "collapsed": false,
    "pycharm": {
     "name": "#%%\n"
    }
   }
  },
  {
   "cell_type": "markdown",
   "source": [
    "# Obtain the dataset for model input"
   ],
   "metadata": {
    "collapsed": false,
    "pycharm": {
     "name": "#%% md\n"
    }
   }
  },
  {
   "cell_type": "code",
   "execution_count": 9,
   "outputs": [
    {
     "data": {
      "text/plain": "    Postcode Sale or Let                       EweMove Description S3 Rooms  \\\n0    LU7 4WN        Sale  This home includes:<ul><li><strong>01 - Entran...   \n2   DA17 5PJ        Sale  This home includes:<ul><li><strong>01 - Entran...   \n6   RG26 5PX        Sale  This home includes:<ul><li><strong>01 - Living...   \n7    BD8 0HT        Sale  This home includes:<ul><li><strong>01 - Hallwa...   \n15  HU17 7AB        Sale  This home includes:<ul><li><strong>01 - Entran...   \n\n                                         Price / Rent      Price Qualifier  \\\n0   <font color='blue'>&pound;140,000</font><br>Of...  Offers In Excess Of   \n2   <font color='blue'>&pound;325,000</font><br>Gu...          Guide Price   \n6   <font color='blue'>&pound;500,000</font><br>Gu...          Guide Price   \n7   <font color='blue'>&pound;170,000</font><br>Of...  Offers in Region Of   \n15  <font color='blue'>&pound;410,000</font><br>Of...          Offers Over   \n\n   DESC Council Tax Band  # of Enquiry or viewings  # of Apps/Offers  \\\n0                 Band B                        32                12   \n2                 Band D                        14                 4   \n6                 Band E                        10                 2   \n7                 Band B                         9                 1   \n15                Band B                         1                 2   \n\n   RTD3307_parking1 - Parking Description  \\\n0                               Allocated   \n2                               On Street   \n6                                Driveway   \n7                                Driveway   \n15                             Off Street   \n\n   RTD3307_parking2 - Parking Description  ...  \\\n0                              Off Street  ...   \n2                                     NaN  ...   \n6                                  Garage  ...   \n7                                     NaN  ...   \n15                              Allocated  ...   \n\n   RTD3308_outside_space1 - Outside Space Description  \\\n0                                     Communal Garden   \n2                                         Rear Garden   \n6                                         Back Garden   \n7                                        Front Garden   \n15                                        Rear Garden   \n\n   RTD3308_outside_space2 - Outside Space Description  \\\n0                                                 NaN   \n2                                      Private Garden   \n6                                     Enclosed Garden   \n7                                         Rear Garden   \n15                                                NaN   \n\n   RTD3308_outside_space3 - Outside Space Description  \\\n0                                                 NaN   \n2                                                 NaN   \n6                                               Patio   \n7                                                 NaN   \n15                                                NaN   \n\n   RTD3318_heating1 - Heating Description  \\\n0                          Double Glazing   \n2                                 Central   \n6                          Double Glazing   \n7                             Gas Central   \n15                            Gas Central   \n\n   RTD3318_heating2 - Heating Description  \\\n0                                Electric   \n2                             Gas Central   \n6                             Gas Central   \n7                                     NaN   \n15                                    NaN   \n\n   RTD3318_heating3 - Heating Description  \\\n0                           Night Storage   \n2                          Double Glazing   \n6                             Under Floor   \n7                                     NaN   \n15                                    NaN   \n\n   RTD3317_accessibility1 - accessibility Description  \\\n0                   Not suitable for wheelchair users   \n2                                                 NaN   \n6                                                 NaN   \n7                                        Level access   \n15                                       Level access   \n\n   RTD3317_accessibility2 - accessibility Description  \\\n0                                                 NaN   \n2                                                 NaN   \n6                                                 NaN   \n7                                                 NaN   \n15                                                NaN   \n\n   RTD3317_accessibility3 - accessibility Description  \\\n0                                                 NaN   \n2                                                 NaN   \n6                                                 NaN   \n7                                                 NaN   \n15                                                NaN   \n\n   RTD3316_condition1 - Condition Description  \n0                                        Good  \n2                                        Good  \n6                                        Good  \n7                                        Good  \n15                                       Good  \n\n[5 rows x 21 columns]",
      "text/html": "<div>\n<style scoped>\n    .dataframe tbody tr th:only-of-type {\n        vertical-align: middle;\n    }\n\n    .dataframe tbody tr th {\n        vertical-align: top;\n    }\n\n    .dataframe thead th {\n        text-align: right;\n    }\n</style>\n<table border=\"1\" class=\"dataframe\">\n  <thead>\n    <tr style=\"text-align: right;\">\n      <th></th>\n      <th>Postcode</th>\n      <th>Sale or Let</th>\n      <th>EweMove Description S3 Rooms</th>\n      <th>Price / Rent</th>\n      <th>Price Qualifier</th>\n      <th>DESC Council Tax Band</th>\n      <th># of Enquiry or viewings</th>\n      <th># of Apps/Offers</th>\n      <th>RTD3307_parking1 - Parking Description</th>\n      <th>RTD3307_parking2 - Parking Description</th>\n      <th>...</th>\n      <th>RTD3308_outside_space1 - Outside Space Description</th>\n      <th>RTD3308_outside_space2 - Outside Space Description</th>\n      <th>RTD3308_outside_space3 - Outside Space Description</th>\n      <th>RTD3318_heating1 - Heating Description</th>\n      <th>RTD3318_heating2 - Heating Description</th>\n      <th>RTD3318_heating3 - Heating Description</th>\n      <th>RTD3317_accessibility1 - accessibility Description</th>\n      <th>RTD3317_accessibility2 - accessibility Description</th>\n      <th>RTD3317_accessibility3 - accessibility Description</th>\n      <th>RTD3316_condition1 - Condition Description</th>\n    </tr>\n  </thead>\n  <tbody>\n    <tr>\n      <th>0</th>\n      <td>LU7 4WN</td>\n      <td>Sale</td>\n      <td>This home includes:&lt;ul&gt;&lt;li&gt;&lt;strong&gt;01 - Entran...</td>\n      <td>&lt;font color='blue'&gt;&amp;pound;140,000&lt;/font&gt;&lt;br&gt;Of...</td>\n      <td>Offers In Excess Of</td>\n      <td>Band B</td>\n      <td>32</td>\n      <td>12</td>\n      <td>Allocated</td>\n      <td>Off Street</td>\n      <td>...</td>\n      <td>Communal Garden</td>\n      <td>NaN</td>\n      <td>NaN</td>\n      <td>Double Glazing</td>\n      <td>Electric</td>\n      <td>Night Storage</td>\n      <td>Not suitable for wheelchair users</td>\n      <td>NaN</td>\n      <td>NaN</td>\n      <td>Good</td>\n    </tr>\n    <tr>\n      <th>2</th>\n      <td>DA17 5PJ</td>\n      <td>Sale</td>\n      <td>This home includes:&lt;ul&gt;&lt;li&gt;&lt;strong&gt;01 - Entran...</td>\n      <td>&lt;font color='blue'&gt;&amp;pound;325,000&lt;/font&gt;&lt;br&gt;Gu...</td>\n      <td>Guide Price</td>\n      <td>Band D</td>\n      <td>14</td>\n      <td>4</td>\n      <td>On Street</td>\n      <td>NaN</td>\n      <td>...</td>\n      <td>Rear Garden</td>\n      <td>Private Garden</td>\n      <td>NaN</td>\n      <td>Central</td>\n      <td>Gas Central</td>\n      <td>Double Glazing</td>\n      <td>NaN</td>\n      <td>NaN</td>\n      <td>NaN</td>\n      <td>Good</td>\n    </tr>\n    <tr>\n      <th>6</th>\n      <td>RG26 5PX</td>\n      <td>Sale</td>\n      <td>This home includes:&lt;ul&gt;&lt;li&gt;&lt;strong&gt;01 - Living...</td>\n      <td>&lt;font color='blue'&gt;&amp;pound;500,000&lt;/font&gt;&lt;br&gt;Gu...</td>\n      <td>Guide Price</td>\n      <td>Band E</td>\n      <td>10</td>\n      <td>2</td>\n      <td>Driveway</td>\n      <td>Garage</td>\n      <td>...</td>\n      <td>Back Garden</td>\n      <td>Enclosed Garden</td>\n      <td>Patio</td>\n      <td>Double Glazing</td>\n      <td>Gas Central</td>\n      <td>Under Floor</td>\n      <td>NaN</td>\n      <td>NaN</td>\n      <td>NaN</td>\n      <td>Good</td>\n    </tr>\n    <tr>\n      <th>7</th>\n      <td>BD8 0HT</td>\n      <td>Sale</td>\n      <td>This home includes:&lt;ul&gt;&lt;li&gt;&lt;strong&gt;01 - Hallwa...</td>\n      <td>&lt;font color='blue'&gt;&amp;pound;170,000&lt;/font&gt;&lt;br&gt;Of...</td>\n      <td>Offers in Region Of</td>\n      <td>Band B</td>\n      <td>9</td>\n      <td>1</td>\n      <td>Driveway</td>\n      <td>NaN</td>\n      <td>...</td>\n      <td>Front Garden</td>\n      <td>Rear Garden</td>\n      <td>NaN</td>\n      <td>Gas Central</td>\n      <td>NaN</td>\n      <td>NaN</td>\n      <td>Level access</td>\n      <td>NaN</td>\n      <td>NaN</td>\n      <td>Good</td>\n    </tr>\n    <tr>\n      <th>15</th>\n      <td>HU17 7AB</td>\n      <td>Sale</td>\n      <td>This home includes:&lt;ul&gt;&lt;li&gt;&lt;strong&gt;01 - Entran...</td>\n      <td>&lt;font color='blue'&gt;&amp;pound;410,000&lt;/font&gt;&lt;br&gt;Of...</td>\n      <td>Offers Over</td>\n      <td>Band B</td>\n      <td>1</td>\n      <td>2</td>\n      <td>Off Street</td>\n      <td>Allocated</td>\n      <td>...</td>\n      <td>Rear Garden</td>\n      <td>NaN</td>\n      <td>NaN</td>\n      <td>Gas Central</td>\n      <td>NaN</td>\n      <td>NaN</td>\n      <td>Level access</td>\n      <td>NaN</td>\n      <td>NaN</td>\n      <td>Good</td>\n    </tr>\n  </tbody>\n</table>\n<p>5 rows × 21 columns</p>\n</div>"
     },
     "execution_count": 9,
     "metadata": {},
     "output_type": "execute_result"
    }
   ],
   "source": [
    "parking_names = [i for i in data.columns if \"parking\" in i]\n",
    "outside_names = [i for i in data.columns if \"outside\" in i]\n",
    "heating_names = [i for i in data.columns if \"heating\" in i]\n",
    "accessibility_names = [i for i in data.columns if \"accessibility\" in i]\n",
    "condition_names = [i for i in data.columns if \"condition\" in i]\n",
    "column_names = [\"Postcode\", \"Sale or Let\", \"EweMove Description S3 Rooms\", \"Price / Rent\",\n",
    "                \"Price Qualifier\", \"DESC Council Tax Band\", \"# of Enquiry or viewings\", \"# of Apps/Offers\"]\n",
    "column_names += parking_names + outside_names + heating_names + accessibility_names + condition_names\n",
    "\n",
    "valid_indices = sorted(list(valid_indices))\n",
    "input_data = data.iloc[valid_indices][column_names]\n",
    "input_data.head()"
   ],
   "metadata": {
    "collapsed": false,
    "pycharm": {
     "name": "#%%\n"
    }
   }
  },
  {
   "cell_type": "code",
   "execution_count": 15,
   "outputs": [
    {
     "data": {
      "text/plain": "    Postcode Sale or Let      Price Qualifier DESC Council Tax Band  \\\n0    LU7 4WN        Sale  Offers In Excess Of                Band B   \n2   DA17 5PJ        Sale          Guide Price                Band D   \n6   RG26 5PX        Sale          Guide Price                Band E   \n7    BD8 0HT        Sale  Offers in Region Of                Band B   \n15  HU17 7AB        Sale          Offers Over                Band B   \n\n    # of Enquiry or viewings  # of Apps/Offers  \\\n0                         32                12   \n2                         14                 4   \n6                         10                 2   \n7                          9                 1   \n15                         1                 2   \n\n   RTD3307_parking1 - Parking Description  \\\n0                               Allocated   \n2                               On Street   \n6                                Driveway   \n7                                Driveway   \n15                             Off Street   \n\n   RTD3307_parking2 - Parking Description  \\\n0                              Off Street   \n2                                     NaN   \n6                                  Garage   \n7                                     NaN   \n15                              Allocated   \n\n   RTD3307_parking3 - Parking Description  \\\n0                               Residents   \n2                                     NaN   \n6                              Off Street   \n7                                     NaN   \n15                                    NaN   \n\n   RTD3308_outside_space1 - Outside Space Description  \\\n0                                     Communal Garden   \n2                                         Rear Garden   \n6                                         Back Garden   \n7                                        Front Garden   \n15                                        Rear Garden   \n\n   RTD3308_outside_space2 - Outside Space Description  \\\n0                                                 NaN   \n2                                      Private Garden   \n6                                     Enclosed Garden   \n7                                         Rear Garden   \n15                                                NaN   \n\n   RTD3308_outside_space3 - Outside Space Description  \\\n0                                                 NaN   \n2                                                 NaN   \n6                                               Patio   \n7                                                 NaN   \n15                                                NaN   \n\n   RTD3318_heating1 - Heating Description  \\\n0                          Double Glazing   \n2                                 Central   \n6                          Double Glazing   \n7                             Gas Central   \n15                            Gas Central   \n\n   RTD3318_heating2 - Heating Description  \\\n0                                Electric   \n2                             Gas Central   \n6                             Gas Central   \n7                                     NaN   \n15                                    NaN   \n\n   RTD3318_heating3 - Heating Description  \\\n0                           Night Storage   \n2                          Double Glazing   \n6                             Under Floor   \n7                                     NaN   \n15                                    NaN   \n\n   RTD3317_accessibility1 - accessibility Description  \\\n0                   Not suitable for wheelchair users   \n2                                                 NaN   \n6                                                 NaN   \n7                                        Level access   \n15                                       Level access   \n\n   RTD3317_accessibility2 - accessibility Description  \\\n0                                                 NaN   \n2                                                 NaN   \n6                                                 NaN   \n7                                                 NaN   \n15                                                NaN   \n\n   RTD3317_accessibility3 - accessibility Description  \\\n0                                                 NaN   \n2                                                 NaN   \n6                                                 NaN   \n7                                                 NaN   \n15                                                NaN   \n\n   RTD3316_condition1 - Condition Description  \n0                                        Good  \n2                                        Good  \n6                                        Good  \n7                                        Good  \n15                                       Good  ",
      "text/html": "<div>\n<style scoped>\n    .dataframe tbody tr th:only-of-type {\n        vertical-align: middle;\n    }\n\n    .dataframe tbody tr th {\n        vertical-align: top;\n    }\n\n    .dataframe thead th {\n        text-align: right;\n    }\n</style>\n<table border=\"1\" class=\"dataframe\">\n  <thead>\n    <tr style=\"text-align: right;\">\n      <th></th>\n      <th>Postcode</th>\n      <th>Sale or Let</th>\n      <th>Price Qualifier</th>\n      <th>DESC Council Tax Band</th>\n      <th># of Enquiry or viewings</th>\n      <th># of Apps/Offers</th>\n      <th>RTD3307_parking1 - Parking Description</th>\n      <th>RTD3307_parking2 - Parking Description</th>\n      <th>RTD3307_parking3 - Parking Description</th>\n      <th>RTD3308_outside_space1 - Outside Space Description</th>\n      <th>RTD3308_outside_space2 - Outside Space Description</th>\n      <th>RTD3308_outside_space3 - Outside Space Description</th>\n      <th>RTD3318_heating1 - Heating Description</th>\n      <th>RTD3318_heating2 - Heating Description</th>\n      <th>RTD3318_heating3 - Heating Description</th>\n      <th>RTD3317_accessibility1 - accessibility Description</th>\n      <th>RTD3317_accessibility2 - accessibility Description</th>\n      <th>RTD3317_accessibility3 - accessibility Description</th>\n      <th>RTD3316_condition1 - Condition Description</th>\n    </tr>\n  </thead>\n  <tbody>\n    <tr>\n      <th>0</th>\n      <td>LU7 4WN</td>\n      <td>Sale</td>\n      <td>Offers In Excess Of</td>\n      <td>Band B</td>\n      <td>32</td>\n      <td>12</td>\n      <td>Allocated</td>\n      <td>Off Street</td>\n      <td>Residents</td>\n      <td>Communal Garden</td>\n      <td>NaN</td>\n      <td>NaN</td>\n      <td>Double Glazing</td>\n      <td>Electric</td>\n      <td>Night Storage</td>\n      <td>Not suitable for wheelchair users</td>\n      <td>NaN</td>\n      <td>NaN</td>\n      <td>Good</td>\n    </tr>\n    <tr>\n      <th>2</th>\n      <td>DA17 5PJ</td>\n      <td>Sale</td>\n      <td>Guide Price</td>\n      <td>Band D</td>\n      <td>14</td>\n      <td>4</td>\n      <td>On Street</td>\n      <td>NaN</td>\n      <td>NaN</td>\n      <td>Rear Garden</td>\n      <td>Private Garden</td>\n      <td>NaN</td>\n      <td>Central</td>\n      <td>Gas Central</td>\n      <td>Double Glazing</td>\n      <td>NaN</td>\n      <td>NaN</td>\n      <td>NaN</td>\n      <td>Good</td>\n    </tr>\n    <tr>\n      <th>6</th>\n      <td>RG26 5PX</td>\n      <td>Sale</td>\n      <td>Guide Price</td>\n      <td>Band E</td>\n      <td>10</td>\n      <td>2</td>\n      <td>Driveway</td>\n      <td>Garage</td>\n      <td>Off Street</td>\n      <td>Back Garden</td>\n      <td>Enclosed Garden</td>\n      <td>Patio</td>\n      <td>Double Glazing</td>\n      <td>Gas Central</td>\n      <td>Under Floor</td>\n      <td>NaN</td>\n      <td>NaN</td>\n      <td>NaN</td>\n      <td>Good</td>\n    </tr>\n    <tr>\n      <th>7</th>\n      <td>BD8 0HT</td>\n      <td>Sale</td>\n      <td>Offers in Region Of</td>\n      <td>Band B</td>\n      <td>9</td>\n      <td>1</td>\n      <td>Driveway</td>\n      <td>NaN</td>\n      <td>NaN</td>\n      <td>Front Garden</td>\n      <td>Rear Garden</td>\n      <td>NaN</td>\n      <td>Gas Central</td>\n      <td>NaN</td>\n      <td>NaN</td>\n      <td>Level access</td>\n      <td>NaN</td>\n      <td>NaN</td>\n      <td>Good</td>\n    </tr>\n    <tr>\n      <th>15</th>\n      <td>HU17 7AB</td>\n      <td>Sale</td>\n      <td>Offers Over</td>\n      <td>Band B</td>\n      <td>1</td>\n      <td>2</td>\n      <td>Off Street</td>\n      <td>Allocated</td>\n      <td>NaN</td>\n      <td>Rear Garden</td>\n      <td>NaN</td>\n      <td>NaN</td>\n      <td>Gas Central</td>\n      <td>NaN</td>\n      <td>NaN</td>\n      <td>Level access</td>\n      <td>NaN</td>\n      <td>NaN</td>\n      <td>Good</td>\n    </tr>\n  </tbody>\n</table>\n</div>"
     },
     "execution_count": 15,
     "metadata": {},
     "output_type": "execute_result"
    }
   ],
   "source": [
    "general_data = input_data.loc[:, ~input_data.columns.isin([\"EweMove Description S3 Rooms\", \"Price / Rent\"])]\n",
    "general_data.head()"
   ],
   "metadata": {
    "collapsed": false,
    "pycharm": {
     "name": "#%%\n"
    }
   }
  },
  {
   "cell_type": "code",
   "execution_count": 16,
   "outputs": [
    {
     "data": {
      "text/plain": "[0,\n 2,\n 6,\n 7,\n 15,\n 19,\n 28,\n 118,\n 121,\n 127,\n 155,\n 157,\n 165,\n 167,\n 168,\n 170,\n 172,\n 177,\n 191,\n 193,\n 209,\n 212,\n 217,\n 219,\n 223,\n 224,\n 225,\n 230,\n 232,\n 233,\n 237,\n 240,\n 242,\n 243,\n 314,\n 323,\n 344,\n 345,\n 347,\n 348,\n 350,\n 351,\n 353,\n 357,\n 359,\n 360,\n 362,\n 363,\n 364,\n 365,\n 366,\n 368,\n 371,\n 373,\n 375,\n 376,\n 377,\n 378,\n 379,\n 380,\n 382,\n 384,\n 385,\n 386,\n 387,\n 388,\n 390,\n 391,\n 392,\n 393,\n 394,\n 395,\n 396,\n 397,\n 398,\n 399,\n 400,\n 401,\n 403,\n 406,\n 409,\n 410,\n 411,\n 412,\n 414,\n 415,\n 417,\n 418,\n 419,\n 420,\n 425,\n 427,\n 428,\n 429,\n 430,\n 431,\n 432,\n 433,\n 435,\n 438,\n 440,\n 441,\n 442,\n 445,\n 449,\n 450,\n 451,\n 478,\n 479,\n 480,\n 481,\n 482,\n 483,\n 485,\n 488,\n 489,\n 490,\n 492,\n 496,\n 507,\n 522,\n 525,\n 527,\n 530,\n 531,\n 534,\n 536,\n 537,\n 548,\n 554,\n 555,\n 559,\n 562,\n 565,\n 566,\n 567,\n 573,\n 574,\n 576,\n 578,\n 579,\n 581,\n 582,\n 592,\n 593,\n 594,\n 595,\n 597,\n 598,\n 599,\n 600,\n 601,\n 604,\n 605,\n 626,\n 627,\n 629,\n 631,\n 632,\n 633,\n 634,\n 635,\n 636,\n 637,\n 638,\n 639,\n 640,\n 641,\n 642,\n 643,\n 644,\n 646,\n 647,\n 648,\n 649,\n 650,\n 651,\n 652,\n 653,\n 654,\n 655,\n 656,\n 657,\n 658,\n 660,\n 662,\n 663,\n 664,\n 665,\n 666,\n 667,\n 668,\n 669,\n 670,\n 673,\n 674,\n 675,\n 676,\n 677,\n 678,\n 679,\n 680,\n 681,\n 683,\n 685,\n 686,\n 687,\n 688,\n 689,\n 690,\n 691,\n 692,\n 693,\n 694,\n 695,\n 696,\n 697,\n 698,\n 700,\n 701,\n 704,\n 705,\n 706,\n 707,\n 708,\n 709,\n 711,\n 714,\n 716,\n 717,\n 728,\n 729,\n 730,\n 733,\n 734,\n 735,\n 737,\n 738,\n 742,\n 745,\n 747,\n 748,\n 749,\n 757,\n 765,\n 767,\n 768,\n 772,\n 775,\n 780,\n 781,\n 782,\n 785,\n 786,\n 787,\n 796,\n 806,\n 807,\n 808,\n 813,\n 814,\n 815,\n 817,\n 818,\n 819,\n 820,\n 823,\n 824,\n 825,\n 826,\n 827,\n 830,\n 831,\n 833,\n 836,\n 847,\n 848,\n 849,\n 853,\n 854,\n 855,\n 856,\n 858,\n 859,\n 860,\n 861,\n 862,\n 863,\n 864,\n 871,\n 875,\n 876,\n 878,\n 880,\n 882,\n 883,\n 884,\n 887,\n 890,\n 891,\n 897,\n 900,\n 910,\n 911,\n 912,\n 914,\n 915,\n 919,\n 922,\n 929,\n 949,\n 953,\n 961,\n 969,\n 990,\n 1061,\n 1070,\n 1071,\n 1072,\n 1073,\n 1074,\n 1076,\n 1078,\n 1085,\n 1088,\n 1094,\n 1099,\n 1104,\n 1106,\n 1107,\n 1110,\n 1111,\n 1112,\n 1119,\n 1122,\n 1123,\n 1124,\n 1126,\n 1127,\n 1128,\n 1131,\n 1132,\n 1133,\n 1215,\n 1217,\n 1228,\n 1233,\n 1235,\n 1246,\n 1249,\n 1250,\n 1253,\n 1255,\n 1256,\n 1259,\n 1260,\n 1262,\n 1263,\n 1264,\n 1265,\n 1278,\n 1285,\n 1292,\n 1323,\n 1325,\n 1326,\n 1329,\n 1331,\n 1332,\n 1333,\n 1334,\n 1335,\n 1336,\n 1337,\n 1338,\n 1339,\n 1341,\n 1342,\n 1343,\n 1346,\n 1347,\n 1348,\n 1349,\n 1351,\n 1352,\n 1353,\n 1359,\n 1362,\n 1364,\n 1365,\n 1366,\n 1368,\n 1371,\n 1372,\n 1373,\n 1374,\n 1375,\n 1376,\n 1379,\n 1380,\n 1382,\n 1386,\n 1387,\n 1388,\n 1391,\n 1393,\n 1394,\n 1395,\n 1396,\n 1399,\n 1400,\n 1401,\n 1402,\n 1414,\n 1416,\n 1419,\n 1421,\n 1424,\n 1426,\n 1427,\n 1428,\n 1429,\n 1443,\n 1450,\n 1455,\n 1459,\n 1465,\n 1467,\n 1514,\n 1517,\n 1518,\n 1523,\n 1524,\n 1525,\n 1526,\n 1528,\n 1532,\n 1533,\n 1534,\n 1535,\n 1536,\n 1537,\n 1538,\n 1540,\n 1541,\n 1542,\n 1543,\n 1544,\n 1545,\n 1615,\n 1618,\n 1665,\n 1685,\n 1686,\n 1687,\n 1688,\n 1689,\n 1691,\n 1693,\n 1710,\n 1727,\n 1731,\n 1736,\n 1741,\n 1765,\n 1783,\n 1784,\n 1785,\n 1786,\n 1794,\n 1796,\n 1797,\n 1801,\n 1802,\n 1804,\n 1805,\n 1807,\n 1808,\n 1810,\n 1811,\n 1813,\n 1815,\n 1816,\n 1817,\n 1818,\n 1819,\n 1820,\n 1821,\n 1822,\n 1823,\n 1824,\n 1825,\n 1826,\n 1827,\n 1828,\n 1829,\n 1830,\n 1831,\n 1832,\n 1833,\n 1835,\n 1836,\n 1837,\n 1838,\n 1840,\n 1841,\n 1843,\n 1844,\n 1845,\n 1846,\n 1874,\n 1876,\n 1877,\n 1880,\n 1910,\n 1911,\n 1912,\n 1913,\n 1914,\n 1915,\n 1916,\n 1917,\n 1918,\n 1919,\n 1920,\n 1921,\n 1922,\n 1924,\n 1925,\n 1926,\n 1927,\n 1928,\n 1929,\n 1930,\n 1931,\n 1933,\n 1934,\n 1935,\n 1937,\n 1938,\n 1940,\n 1943,\n 1944,\n 1952,\n 1953,\n 1954,\n 1955,\n 1956,\n 1958,\n 1959,\n 1961,\n 1964,\n 1965,\n 1968,\n 1969,\n 1970,\n 1971,\n 1972,\n 1974,\n 1976,\n 1979,\n 1980,\n 1984,\n 2018,\n 2019,\n 2022,\n 2036,\n 2057,\n 2061,\n 2074,\n 2085,\n 2126,\n 2128,\n 2131,\n 2133,\n 2137,\n 2138,\n 2139,\n 2140,\n 2142,\n 2143,\n 2144,\n 2148,\n 2149,\n 2152,\n 2160,\n 2191,\n 2218,\n 2255,\n 2256,\n 2257,\n 2259,\n 2262,\n 2263,\n 2264,\n 2266,\n 2267,\n 2269,\n 2271,\n 2272,\n 2274,\n 2276,\n 2277,\n 2278,\n 2280,\n 2331,\n 2332,\n 2333,\n 2343,\n 2345,\n 2357,\n 2359,\n 2363,\n 2366,\n 2368,\n 2370,\n 2371,\n 2374,\n 2376,\n 2379,\n 2380,\n 2381,\n 2382,\n 2384,\n 2385,\n 2387,\n 2388,\n 2393,\n 2394,\n 2395,\n 2397,\n 2399,\n 2411,\n 2412,\n 2420,\n 2469,\n 2472,\n 2473,\n 2474,\n 2475,\n 2478,\n 2479,\n 2480,\n 2481,\n 2482,\n 2483,\n 2485,\n 2486,\n 2487,\n 2494,\n 2496,\n 2507,\n 2516,\n 2533,\n 2577,\n 2582,\n 2583,\n 2586,\n 2588,\n 2607,\n 2621,\n 2636,\n 2637,\n 2638,\n 2639,\n 2640,\n 2641,\n 2642,\n 2643,\n 2644,\n 2645,\n 2646,\n 2647,\n 2648,\n 2649,\n 2651,\n 2652,\n 2653,\n 2654,\n 2655,\n 2657,\n 2659,\n 2660,\n 2661,\n 2662,\n 2663,\n 2665,\n 2666,\n 2671,\n 2672,\n 2675,\n 2676,\n 2677,\n 2678,\n 2680,\n 2681,\n 2685,\n 2686,\n 2688,\n 2690,\n 2691,\n 2693,\n 2694,\n 2696,\n 2697,\n 2698,\n 2699,\n 2700,\n 2701,\n 2703,\n 2707,\n 2709,\n 2710,\n 2713,\n 2714,\n 2715,\n 2716,\n 2717,\n 2718,\n 2719,\n 2721,\n 2723,\n 2725,\n 2727,\n 2766,\n 2767,\n 2769,\n 2770,\n 2771,\n 2773,\n 2774,\n 2776,\n 2777,\n 2780,\n 2781,\n 2782,\n 2783,\n 2785,\n 2787,\n 2789,\n 2792,\n 2793,\n 2795,\n 2796,\n 2798,\n 2809,\n 2812,\n 2814,\n 2815,\n 2818,\n 2821,\n 2822,\n 2825,\n 2826,\n 2827,\n 2828,\n 2830,\n 2831,\n 2832,\n 2835,\n 2836,\n 2837,\n 2840,\n 2842,\n 2844,\n 2845,\n 2846,\n 2849,\n 2856,\n 2857,\n 2858,\n 2859,\n 2860,\n 2861,\n 2865,\n 2866,\n 2867,\n 2868,\n 2869,\n 2870,\n 2871,\n 2872,\n 2873,\n 2875,\n 2876,\n 2878,\n 2883,\n 2887,\n 2891,\n 2893,\n 2897,\n 2898,\n 2901,\n 2906,\n 2907,\n 2915,\n 2916,\n 2920,\n 2922,\n 2923,\n 2925,\n 2934,\n 2935,\n 2937,\n 2940,\n 2941,\n 2951,\n 2970,\n 2971,\n 2972,\n 2979,\n 2983,\n 2984,\n 2985,\n 2986,\n 2989,\n 2991,\n 2994,\n 3002,\n 3004,\n 3008,\n 3011,\n 3019,\n 3040,\n 3041,\n 3044,\n 3045,\n 3047,\n 3048,\n 3049,\n 3050,\n 3051,\n 3052,\n 3053,\n 3054,\n 3055,\n 3056,\n 3057,\n 3058,\n 3059,\n 3060,\n 3061,\n 3062,\n 3063,\n 3064,\n 3065,\n 3066,\n 3067,\n 3068,\n 3069,\n 3071,\n 3072,\n 3074,\n 3139,\n 3140,\n 3143,\n 3144,\n 3145,\n 3147,\n 3168,\n 3173,\n 3182,\n 3183,\n 3185,\n 3186,\n 3204,\n 3207,\n 3209,\n 3210,\n 3211,\n 3213,\n 3214,\n 3215,\n 3218,\n 3221,\n 3222,\n 3288,\n 3290,\n 3291,\n 3292,\n 3293,\n 3294,\n 3295,\n 3296,\n 3297,\n 3299,\n 3301,\n 3302,\n 3304,\n 3305,\n 3309,\n 3311,\n 3313,\n 3314,\n 3316,\n 3317,\n 3319,\n 3320,\n 3321,\n 3324,\n 3325,\n 3326,\n 3327,\n 3328,\n 3329,\n 3330,\n 3332,\n 3333,\n 3334,\n 3335,\n 3336,\n 3340,\n 3342,\n 3343,\n 3344,\n 3345,\n 3346,\n 3347,\n 3348,\n 3350,\n 3351,\n 3353,\n 3354,\n 3356,\n 3357,\n 3359,\n 3360,\n 3361,\n 3362,\n 3363,\n 3364,\n 3365,\n 3371,\n 3387,\n 3391,\n 3397,\n 3401,\n 3418,\n 3420,\n 3426,\n 3427,\n 3428,\n 3429,\n 3430,\n 3448,\n 3452,\n 3462,\n 3491,\n 3492,\n 3493,\n 3494,\n 3496,\n 3501,\n 3506,\n 3515,\n 3524,\n 3526,\n 3527,\n 3528,\n 3529,\n 3530,\n 3531,\n 3532,\n 3533,\n 3534,\n 3535,\n 3536,\n 3537,\n 3538,\n 3539,\n 3540,\n 3541,\n 3542,\n 3543,\n 3544,\n 3547,\n 3548,\n 3551,\n 3555,\n 3556,\n 3557,\n 3563,\n 3564,\n 3576,\n 3577,\n 3578,\n 3581,\n 3582,\n 3583,\n 3584,\n 3585,\n 3586,\n 3587,\n 3589,\n 3590,\n 3591,\n 3592,\n 3593,\n 3594,\n 3595,\n ...]"
     },
     "execution_count": 16,
     "metadata": {},
     "output_type": "execute_result"
    }
   ],
   "source": [
    "rooms = [i for i in range]"
   ],
   "metadata": {
    "collapsed": false,
    "pycharm": {
     "name": "#%%\n"
    }
   }
  },
  {
   "cell_type": "code",
   "execution_count": null,
   "outputs": [],
   "source": [],
   "metadata": {
    "collapsed": false,
    "pycharm": {
     "name": "#%%\n"
    }
   }
  }
 ],
 "metadata": {
  "kernelspec": {
   "display_name": "Python 3",
   "language": "python",
   "name": "python3"
  },
  "language_info": {
   "codemirror_mode": {
    "name": "ipython",
    "version": 2
   },
   "file_extension": ".py",
   "mimetype": "text/x-python",
   "name": "python",
   "nbconvert_exporter": "python",
   "pygments_lexer": "ipython2",
   "version": "2.7.6"
  }
 },
 "nbformat": 4,
 "nbformat_minor": 0
}