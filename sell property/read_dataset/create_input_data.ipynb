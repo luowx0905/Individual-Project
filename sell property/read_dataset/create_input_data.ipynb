{
 "cells": [
  {
   "cell_type": "markdown",
   "source": [
    "# Import packages"
   ],
   "metadata": {
    "collapsed": false,
    "pycharm": {
     "name": "#%% md\n"
    }
   }
  },
  {
   "cell_type": "code",
   "execution_count": 7,
   "outputs": [],
   "source": [
    "import pandas as pd\n",
    "import numpy as np\n",
    "import parse\n",
    "import re\n",
    "import seaborn as sns\n",
    "from bs4 import BeautifulSoup\n",
    "from matplotlib import pyplot as plt\n",
    "\n",
    "from ProcessHTML import ProcessHTML\n",
    "from ExtractRooms import ExtractRooms\n",
    "from GeneralizeDataset import GeneralizeDataset"
   ],
   "metadata": {
    "collapsed": false,
    "pycharm": {
     "name": "#%%\n"
    }
   }
  },
  {
   "cell_type": "markdown",
   "source": [
    "# Preprocess dataset\n",
    "## HTML Texts"
   ],
   "metadata": {
    "collapsed": false,
    "pycharm": {
     "name": "#%% md\n"
    }
   }
  },
  {
   "cell_type": "code",
   "execution_count": 2,
   "outputs": [],
   "source": [
    "filename = \"../datasets/PropertyData_wDesc.csv\"\n",
    "data = pd.read_csv(filename, encoding=\"ISO8859-1\")"
   ],
   "metadata": {
    "collapsed": false,
    "pycharm": {
     "name": "#%%\n"
    }
   }
  },
  {
   "cell_type": "code",
   "execution_count": 3,
   "outputs": [],
   "source": [
    "handler = ProcessHTML()\n",
    "\n",
    "rooms = data[\"EweMove Description S3 Rooms\"]\n",
    "price = data[\"Price / Rent\"]\n",
    "\n",
    "for room in rooms:\n",
    "    handler.EweMove_Description_S3_Rooms(room)\n",
    "for p in price:\n",
    "    handler.price_rent(p)"
   ],
   "metadata": {
    "collapsed": false,
    "pycharm": {
     "name": "#%%\n"
    }
   }
  },
  {
   "cell_type": "code",
   "execution_count": 4,
   "outputs": [],
   "source": [
    "indices = set(range(len(data)))\n",
    "room_indices = set(i for i in range(len(handler.s3_rooms)) if handler.s3_rooms[i] is not None)\n",
    "price_indices = set(i for i in range(len(handler.price_or_rent)) if handler.price_or_rent[i][0] != 0)"
   ],
   "metadata": {
    "collapsed": false,
    "pycharm": {
     "name": "#%%\n"
    }
   }
  },
  {
   "cell_type": "code",
   "execution_count": 5,
   "outputs": [],
   "source": [
    "valid_indices = indices & room_indices & price_indices"
   ],
   "metadata": {
    "collapsed": false,
    "pycharm": {
     "name": "#%%\n"
    }
   }
  },
  {
   "cell_type": "markdown",
   "source": [
    "## Categorical data"
   ],
   "metadata": {
    "collapsed": false,
    "pycharm": {
     "name": "#%% md\n"
    }
   }
  },
  {
   "cell_type": "code",
   "execution_count": 6,
   "outputs": [
    {
     "ename": "KeyboardInterrupt",
     "evalue": "",
     "output_type": "error",
     "traceback": [
      "\u001B[0;31m---------------------------------------------------------------------------\u001B[0m",
      "\u001B[0;31mKeyboardInterrupt\u001B[0m                         Traceback (most recent call last)",
      "Input \u001B[0;32mIn [6]\u001B[0m, in \u001B[0;36m<cell line: 6>\u001B[0;34m()\u001B[0m\n\u001B[1;32m      4\u001B[0m outside \u001B[38;5;241m=\u001B[39m generalize\u001B[38;5;241m.\u001B[39mget_feature_num(\u001B[38;5;124m\"\u001B[39m\u001B[38;5;124moutside_space\u001B[39m\u001B[38;5;124m\"\u001B[39m)\n\u001B[1;32m      5\u001B[0m heating \u001B[38;5;241m=\u001B[39m generalize\u001B[38;5;241m.\u001B[39mget_feature_num(\u001B[38;5;124m\"\u001B[39m\u001B[38;5;124mheating\u001B[39m\u001B[38;5;124m\"\u001B[39m)\n\u001B[0;32m----> 6\u001B[0m accessibility \u001B[38;5;241m=\u001B[39m \u001B[43mgeneralize\u001B[49m\u001B[38;5;241;43m.\u001B[39;49m\u001B[43mget_feature_num\u001B[49m\u001B[43m(\u001B[49m\u001B[38;5;124;43m\"\u001B[39;49m\u001B[38;5;124;43maccessibility\u001B[39;49m\u001B[38;5;124;43m\"\u001B[39;49m\u001B[43m)\u001B[49m\n",
      "File \u001B[0;32m~/Documents/Year 5/Individual Project/sell property/read_dataset/GeneralizeDataset.py:50\u001B[0m, in \u001B[0;36mGeneralizeDataset.get_feature_num\u001B[0;34m(self, feature)\u001B[0m\n\u001B[1;32m     47\u001B[0m raw_data \u001B[38;5;241m=\u001B[39m \u001B[38;5;28mself\u001B[39m\u001B[38;5;241m.\u001B[39mdata[names]\n\u001B[1;32m     49\u001B[0m result \u001B[38;5;241m=\u001B[39m []\n\u001B[0;32m---> 50\u001B[0m \u001B[38;5;28;43mlist\u001B[39;49m\u001B[43m(\u001B[49m\u001B[38;5;28;43mmap\u001B[39;49m\u001B[43m(\u001B[49m\u001B[38;5;28;43;01mlambda\u001B[39;49;00m\u001B[43m \u001B[49m\u001B[43md\u001B[49m\u001B[43m:\u001B[49m\u001B[43m \u001B[49m\u001B[43mresult\u001B[49m\u001B[38;5;241;43m.\u001B[39;49m\u001B[43mappend\u001B[49m\u001B[43m(\u001B[49m\u001B[43mraw_data\u001B[49m\u001B[38;5;241;43m.\u001B[39;49m\u001B[43miloc\u001B[49m\u001B[43m[\u001B[49m\u001B[43md\u001B[49m\u001B[43m]\u001B[49m\u001B[38;5;241;43m.\u001B[39;49m\u001B[43mcount\u001B[49m\u001B[43m(\u001B[49m\u001B[43m)\u001B[49m\u001B[43m)\u001B[49m\u001B[43m,\u001B[49m\u001B[43m \u001B[49m\u001B[38;5;28;43mrange\u001B[39;49m\u001B[43m(\u001B[49m\u001B[38;5;28;43mlen\u001B[39;49m\u001B[43m(\u001B[49m\u001B[43mraw_data\u001B[49m\u001B[43m)\u001B[49m\u001B[43m)\u001B[49m\u001B[43m)\u001B[49m\u001B[43m)\u001B[49m\n\u001B[1;32m     52\u001B[0m \u001B[38;5;28;01mreturn\u001B[39;00m result\n",
      "File \u001B[0;32m~/Documents/Year 5/Individual Project/sell property/read_dataset/GeneralizeDataset.py:50\u001B[0m, in \u001B[0;36mGeneralizeDataset.get_feature_num.<locals>.<lambda>\u001B[0;34m(d)\u001B[0m\n\u001B[1;32m     47\u001B[0m raw_data \u001B[38;5;241m=\u001B[39m \u001B[38;5;28mself\u001B[39m\u001B[38;5;241m.\u001B[39mdata[names]\n\u001B[1;32m     49\u001B[0m result \u001B[38;5;241m=\u001B[39m []\n\u001B[0;32m---> 50\u001B[0m \u001B[38;5;28mlist\u001B[39m(\u001B[38;5;28mmap\u001B[39m(\u001B[38;5;28;01mlambda\u001B[39;00m d: result\u001B[38;5;241m.\u001B[39mappend(\u001B[43mraw_data\u001B[49m\u001B[38;5;241;43m.\u001B[39;49m\u001B[43miloc\u001B[49m\u001B[43m[\u001B[49m\u001B[43md\u001B[49m\u001B[43m]\u001B[49m\u001B[38;5;241m.\u001B[39mcount()), \u001B[38;5;28mrange\u001B[39m(\u001B[38;5;28mlen\u001B[39m(raw_data))))\n\u001B[1;32m     52\u001B[0m \u001B[38;5;28;01mreturn\u001B[39;00m result\n",
      "File \u001B[0;32m~/opt/anaconda3/envs/ML_m1/lib/python3.8/site-packages/pandas/core/indexing.py:967\u001B[0m, in \u001B[0;36m_LocationIndexer.__getitem__\u001B[0;34m(self, key)\u001B[0m\n\u001B[1;32m    964\u001B[0m axis \u001B[38;5;241m=\u001B[39m \u001B[38;5;28mself\u001B[39m\u001B[38;5;241m.\u001B[39maxis \u001B[38;5;129;01mor\u001B[39;00m \u001B[38;5;241m0\u001B[39m\n\u001B[1;32m    966\u001B[0m maybe_callable \u001B[38;5;241m=\u001B[39m com\u001B[38;5;241m.\u001B[39mapply_if_callable(key, \u001B[38;5;28mself\u001B[39m\u001B[38;5;241m.\u001B[39mobj)\n\u001B[0;32m--> 967\u001B[0m \u001B[38;5;28;01mreturn\u001B[39;00m \u001B[38;5;28;43mself\u001B[39;49m\u001B[38;5;241;43m.\u001B[39;49m\u001B[43m_getitem_axis\u001B[49m\u001B[43m(\u001B[49m\u001B[43mmaybe_callable\u001B[49m\u001B[43m,\u001B[49m\u001B[43m \u001B[49m\u001B[43maxis\u001B[49m\u001B[38;5;241;43m=\u001B[39;49m\u001B[43maxis\u001B[49m\u001B[43m)\u001B[49m\n",
      "File \u001B[0;32m~/opt/anaconda3/envs/ML_m1/lib/python3.8/site-packages/pandas/core/indexing.py:1522\u001B[0m, in \u001B[0;36m_iLocIndexer._getitem_axis\u001B[0;34m(self, key, axis)\u001B[0m\n\u001B[1;32m   1519\u001B[0m \u001B[38;5;66;03m# validate the location\u001B[39;00m\n\u001B[1;32m   1520\u001B[0m \u001B[38;5;28mself\u001B[39m\u001B[38;5;241m.\u001B[39m_validate_integer(key, axis)\n\u001B[0;32m-> 1522\u001B[0m \u001B[38;5;28;01mreturn\u001B[39;00m \u001B[38;5;28;43mself\u001B[39;49m\u001B[38;5;241;43m.\u001B[39;49m\u001B[43mobj\u001B[49m\u001B[38;5;241;43m.\u001B[39;49m\u001B[43m_ixs\u001B[49m\u001B[43m(\u001B[49m\u001B[43mkey\u001B[49m\u001B[43m,\u001B[49m\u001B[43m \u001B[49m\u001B[43maxis\u001B[49m\u001B[38;5;241;43m=\u001B[39;49m\u001B[43maxis\u001B[49m\u001B[43m)\u001B[49m\n",
      "File \u001B[0;32m~/opt/anaconda3/envs/ML_m1/lib/python3.8/site-packages/pandas/core/frame.py:3428\u001B[0m, in \u001B[0;36mDataFrame._ixs\u001B[0;34m(self, i, axis)\u001B[0m\n\u001B[1;32m   3426\u001B[0m \u001B[38;5;66;03m# if we are a copy, mark as such\u001B[39;00m\n\u001B[1;32m   3427\u001B[0m copy \u001B[38;5;241m=\u001B[39m \u001B[38;5;28misinstance\u001B[39m(new_values, np\u001B[38;5;241m.\u001B[39mndarray) \u001B[38;5;129;01mand\u001B[39;00m new_values\u001B[38;5;241m.\u001B[39mbase \u001B[38;5;129;01mis\u001B[39;00m \u001B[38;5;28;01mNone\u001B[39;00m\n\u001B[0;32m-> 3428\u001B[0m result \u001B[38;5;241m=\u001B[39m \u001B[38;5;28;43mself\u001B[39;49m\u001B[38;5;241;43m.\u001B[39;49m\u001B[43m_constructor_sliced\u001B[49m\u001B[43m(\u001B[49m\n\u001B[1;32m   3429\u001B[0m \u001B[43m    \u001B[49m\u001B[43mnew_values\u001B[49m\u001B[43m,\u001B[49m\n\u001B[1;32m   3430\u001B[0m \u001B[43m    \u001B[49m\u001B[43mindex\u001B[49m\u001B[38;5;241;43m=\u001B[39;49m\u001B[38;5;28;43mself\u001B[39;49m\u001B[38;5;241;43m.\u001B[39;49m\u001B[43mcolumns\u001B[49m\u001B[43m,\u001B[49m\n\u001B[1;32m   3431\u001B[0m \u001B[43m    \u001B[49m\u001B[43mname\u001B[49m\u001B[38;5;241;43m=\u001B[39;49m\u001B[38;5;28;43mself\u001B[39;49m\u001B[38;5;241;43m.\u001B[39;49m\u001B[43mindex\u001B[49m\u001B[43m[\u001B[49m\u001B[43mi\u001B[49m\u001B[43m]\u001B[49m\u001B[43m,\u001B[49m\n\u001B[1;32m   3432\u001B[0m \u001B[43m    \u001B[49m\u001B[43mdtype\u001B[49m\u001B[38;5;241;43m=\u001B[39;49m\u001B[43mnew_values\u001B[49m\u001B[38;5;241;43m.\u001B[39;49m\u001B[43mdtype\u001B[49m\u001B[43m,\u001B[49m\n\u001B[1;32m   3433\u001B[0m \u001B[43m\u001B[49m\u001B[43m)\u001B[49m\n\u001B[1;32m   3434\u001B[0m result\u001B[38;5;241m.\u001B[39m_set_is_copy(\u001B[38;5;28mself\u001B[39m, copy\u001B[38;5;241m=\u001B[39mcopy)\n\u001B[1;32m   3435\u001B[0m \u001B[38;5;28;01mreturn\u001B[39;00m result\n",
      "File \u001B[0;32m~/opt/anaconda3/envs/ML_m1/lib/python3.8/site-packages/pandas/core/series.py:451\u001B[0m, in \u001B[0;36mSeries.__init__\u001B[0;34m(self, data, index, dtype, name, copy, fastpath)\u001B[0m\n\u001B[1;32m    449\u001B[0m         data \u001B[38;5;241m=\u001B[39m data\u001B[38;5;241m.\u001B[39mcopy()\n\u001B[1;32m    450\u001B[0m \u001B[38;5;28;01melse\u001B[39;00m:\n\u001B[0;32m--> 451\u001B[0m     data \u001B[38;5;241m=\u001B[39m \u001B[43msanitize_array\u001B[49m\u001B[43m(\u001B[49m\u001B[43mdata\u001B[49m\u001B[43m,\u001B[49m\u001B[43m \u001B[49m\u001B[43mindex\u001B[49m\u001B[43m,\u001B[49m\u001B[43m \u001B[49m\u001B[43mdtype\u001B[49m\u001B[43m,\u001B[49m\u001B[43m \u001B[49m\u001B[43mcopy\u001B[49m\u001B[43m)\u001B[49m\n\u001B[1;32m    453\u001B[0m     manager \u001B[38;5;241m=\u001B[39m get_option(\u001B[38;5;124m\"\u001B[39m\u001B[38;5;124mmode.data_manager\u001B[39m\u001B[38;5;124m\"\u001B[39m)\n\u001B[1;32m    454\u001B[0m     \u001B[38;5;28;01mif\u001B[39;00m manager \u001B[38;5;241m==\u001B[39m \u001B[38;5;124m\"\u001B[39m\u001B[38;5;124mblock\u001B[39m\u001B[38;5;124m\"\u001B[39m:\n",
      "File \u001B[0;32m~/opt/anaconda3/envs/ML_m1/lib/python3.8/site-packages/pandas/core/construction.py:567\u001B[0m, in \u001B[0;36msanitize_array\u001B[0;34m(data, index, dtype, copy, raise_cast_failure, allow_2d)\u001B[0m\n\u001B[1;32m    564\u001B[0m             subarr \u001B[38;5;241m=\u001B[39m np\u001B[38;5;241m.\u001B[39marray(data, copy\u001B[38;5;241m=\u001B[39mcopy)\n\u001B[1;32m    565\u001B[0m     \u001B[38;5;28;01melse\u001B[39;00m:\n\u001B[1;32m    566\u001B[0m         \u001B[38;5;66;03m# we will try to copy by-definition here\u001B[39;00m\n\u001B[0;32m--> 567\u001B[0m         subarr \u001B[38;5;241m=\u001B[39m \u001B[43m_try_cast\u001B[49m\u001B[43m(\u001B[49m\u001B[43mdata\u001B[49m\u001B[43m,\u001B[49m\u001B[43m \u001B[49m\u001B[43mdtype\u001B[49m\u001B[43m,\u001B[49m\u001B[43m \u001B[49m\u001B[43mcopy\u001B[49m\u001B[43m,\u001B[49m\u001B[43m \u001B[49m\u001B[43mraise_cast_failure\u001B[49m\u001B[43m)\u001B[49m\n\u001B[1;32m    569\u001B[0m \u001B[38;5;28;01melif\u001B[39;00m \u001B[38;5;28misinstance\u001B[39m(data, ABCExtensionArray):\n\u001B[1;32m    570\u001B[0m     \u001B[38;5;66;03m# it is already ensured above this is not a PandasArray\u001B[39;00m\n\u001B[1;32m    571\u001B[0m     subarr \u001B[38;5;241m=\u001B[39m data\n",
      "File \u001B[0;32m~/opt/anaconda3/envs/ML_m1/lib/python3.8/site-packages/pandas/core/construction.py:757\u001B[0m, in \u001B[0;36m_try_cast\u001B[0;34m(arr, dtype, copy, raise_cast_failure)\u001B[0m\n\u001B[1;32m    754\u001B[0m     subarr \u001B[38;5;241m=\u001B[39m array_type(arr, dtype\u001B[38;5;241m=\u001B[39mdtype, copy\u001B[38;5;241m=\u001B[39mcopy)\n\u001B[1;32m    755\u001B[0m     \u001B[38;5;28;01mreturn\u001B[39;00m subarr\n\u001B[0;32m--> 757\u001B[0m \u001B[38;5;28;01melif\u001B[39;00m \u001B[43mis_object_dtype\u001B[49m\u001B[43m(\u001B[49m\u001B[43mdtype\u001B[49m\u001B[43m)\u001B[49m:\n\u001B[1;32m    758\u001B[0m     \u001B[38;5;28;01mif\u001B[39;00m \u001B[38;5;129;01mnot\u001B[39;00m is_ndarray:\n\u001B[1;32m    759\u001B[0m         subarr \u001B[38;5;241m=\u001B[39m construct_1d_object_array_from_listlike(arr)\n",
      "File \u001B[0;32m~/opt/anaconda3/envs/ML_m1/lib/python3.8/site-packages/pandas/core/dtypes/common.py:188\u001B[0m, in \u001B[0;36mis_object_dtype\u001B[0;34m(arr_or_dtype)\u001B[0m\n\u001B[1;32m    161\u001B[0m \u001B[38;5;28;01mdef\u001B[39;00m \u001B[38;5;21mis_object_dtype\u001B[39m(arr_or_dtype) \u001B[38;5;241m-\u001B[39m\u001B[38;5;241m>\u001B[39m \u001B[38;5;28mbool\u001B[39m:\n\u001B[1;32m    162\u001B[0m     \u001B[38;5;124;03m\"\"\"\u001B[39;00m\n\u001B[1;32m    163\u001B[0m \u001B[38;5;124;03m    Check whether an array-like or dtype is of the object dtype.\u001B[39;00m\n\u001B[1;32m    164\u001B[0m \n\u001B[0;32m   (...)\u001B[0m\n\u001B[1;32m    186\u001B[0m \u001B[38;5;124;03m    False\u001B[39;00m\n\u001B[1;32m    187\u001B[0m \u001B[38;5;124;03m    \"\"\"\u001B[39;00m\n\u001B[0;32m--> 188\u001B[0m     \u001B[38;5;28;01mreturn\u001B[39;00m _is_dtype_type(arr_or_dtype, classes(\u001B[43mnp\u001B[49m\u001B[38;5;241;43m.\u001B[39;49m\u001B[43mobject_\u001B[49m))\n",
      "\u001B[0;31mKeyboardInterrupt\u001B[0m: "
     ]
    }
   ],
   "source": [
    "generalize = GeneralizeDataset(data)\n",
    "\n",
    "parking = generalize.get_feature_num(\"parking\")\n",
    "outside = generalize.get_feature_num(\"outside_space\")\n",
    "heating = generalize.get_feature_num(\"heating\")\n",
    "accessibility = generalize.get_feature_num(\"accessibility\")"
   ],
   "metadata": {
    "collapsed": false,
    "pycharm": {
     "name": "#%%\n"
    }
   }
  },
  {
   "cell_type": "code",
   "execution_count": null,
   "outputs": [],
   "source": [
    "condition_indices = set(i for i in indices if data[\"RTD3316_condition1 - Condition Description\"].notna()[i])\n",
    "qualifier_indices = set(i for i in indices if data[\"Price Qualifier\"].notna()[i])\n",
    "council_tax_indices = set(i for i in indices if data[\"DESC Council Tax Band\"].notna()[i])"
   ],
   "metadata": {
    "collapsed": false,
    "pycharm": {
     "name": "#%%\n"
    }
   }
  },
  {
   "cell_type": "code",
   "execution_count": null,
   "outputs": [],
   "source": [
    "valid_indices = valid_indices & condition_indices & qualifier_indices & council_tax_indices"
   ],
   "metadata": {
    "collapsed": false,
    "pycharm": {
     "name": "#%%\n"
    }
   }
  },
  {
   "cell_type": "markdown",
   "source": [
    "# Obtain the dataset for model input"
   ],
   "metadata": {
    "collapsed": false,
    "pycharm": {
     "name": "#%% md\n"
    }
   }
  },
  {
   "cell_type": "code",
   "execution_count": null,
   "outputs": [],
   "source": [
    "parking_names = [i for i in data.columns if \"parking\" in i]\n",
    "outside_names = [i for i in data.columns if \"outside\" in i]\n",
    "heating_names = [i for i in data.columns if \"heating\" in i]\n",
    "accessibility_names = [i for i in data.columns if \"accessibility\" in i]\n",
    "condition_names = [i for i in data.columns if \"condition\" in i]\n",
    "column_names = [\"Postcode\", \"Sale or Let\", \"EweMove Description S3 Rooms\", \"Price / Rent\",\n",
    "                \"Price Qualifier\", \"DESC Council Tax Band\", \"# of Enquiry or viewings\", \"# of Apps/Offers\"]\n",
    "column_names += parking_names + outside_names + heating_names + accessibility_names + condition_names\n",
    "\n",
    "valid_indices = sorted(list(valid_indices))\n",
    "input_data = data.iloc[valid_indices][column_names]\n",
    "input_data.head()"
   ],
   "metadata": {
    "collapsed": false,
    "pycharm": {
     "name": "#%%\n"
    }
   }
  },
  {
   "cell_type": "code",
   "execution_count": null,
   "outputs": [],
   "source": [
    "general_data = input_data.loc[:, ~input_data.columns.isin([\"EweMove Description S3 Rooms\", \"Price / Rent\"])]\n",
    "general_data.head()"
   ],
   "metadata": {
    "collapsed": false,
    "pycharm": {
     "name": "#%%\n"
    }
   }
  },
  {
   "cell_type": "markdown",
   "source": [
    "## Price for sale and rental"
   ],
   "metadata": {
    "collapsed": false,
    "pycharm": {
     "name": "#%% md\n"
    }
   }
  },
  {
   "cell_type": "code",
   "execution_count": null,
   "outputs": [],
   "source": [
    "prices = [handler.price_or_rent[i][0] for i in valid_indices]\n",
    "prices = pd.DataFrame(prices)\n",
    "rename_dict = {i: j for i, j in zip(range(len(prices)), valid_indices)}\n",
    "prices = prices.rename(index=rename_dict)"
   ],
   "metadata": {
    "collapsed": false,
    "pycharm": {
     "name": "#%%\n"
    }
   }
  },
  {
   "cell_type": "markdown",
   "source": [
    "### Sale price"
   ],
   "metadata": {
    "collapsed": false,
    "pycharm": {
     "name": "#%% md\n"
    }
   }
  },
  {
   "cell_type": "code",
   "execution_count": null,
   "outputs": [],
   "source": [
    "sale_prices = prices[general_data[\"Sale or Let\"] == \"Sale\"]\n",
    "sns.displot(sale_prices)\n",
    "plt.title(\"Sale Price\")"
   ],
   "metadata": {
    "collapsed": false,
    "pycharm": {
     "name": "#%%\n"
    }
   }
  },
  {
   "cell_type": "code",
   "execution_count": null,
   "outputs": [],
   "source": [
    "rental_price = prices[general_data[\"Sale or Let\"] == \"Rental\"]\n",
    "sns.displot(rental_price)\n",
    "plt.title(\"Rental Price\")"
   ],
   "metadata": {
    "collapsed": false,
    "pycharm": {
     "name": "#%%\n"
    }
   }
  },
  {
   "cell_type": "markdown",
   "source": [
    "## Extract room information"
   ],
   "metadata": {
    "collapsed": false,
    "pycharm": {
     "name": "#%% md\n"
    }
   }
  },
  {
   "cell_type": "code",
   "execution_count": null,
   "outputs": [],
   "source": [
    "rooms = [handler.s3_rooms[i] for i in valid_indices]\n",
    "extract_room = ExtractRooms(rooms, handler.s3_rooms_set, \"{} ({} sqm){}\")"
   ],
   "metadata": {
    "collapsed": false,
    "pycharm": {
     "name": "#%%\n"
    }
   }
  },
  {
   "cell_type": "markdown",
   "source": [
    "### Bedrooms"
   ],
   "metadata": {
    "collapsed": false,
    "pycharm": {
     "name": "#%% md\n"
    }
   }
  },
  {
   "cell_type": "code",
   "execution_count": null,
   "outputs": [],
   "source": [
    "bedrooms = extract_room.get_rooms(\"bedroom\")"
   ],
   "metadata": {
    "collapsed": false,
    "pycharm": {
     "name": "#%%\n"
    }
   }
  },
  {
   "cell_type": "code",
   "execution_count": null,
   "outputs": [],
   "source": [
    "bedrooms = pd.DataFrame(bedrooms)\n",
    "rename_dict = {str(i): \"bedroom {}\".format(i + 1) for i in range(6)}\n",
    "bedrooms = bedrooms.rename(columns=rename_dict)\n",
    "bedrooms.head()"
   ],
   "metadata": {
    "collapsed": false,
    "pycharm": {
     "name": "#%%\n"
    }
   }
  },
  {
   "cell_type": "markdown",
   "source": [
    "### Kitchens"
   ],
   "metadata": {
    "collapsed": false,
    "pycharm": {
     "name": "#%% md\n"
    }
   }
  },
  {
   "cell_type": "code",
   "execution_count": null,
   "outputs": [],
   "source": [
    "kitchens = extract_room.get_rooms(\"kitchen\", operation=\"number\")"
   ],
   "metadata": {
    "collapsed": false,
    "pycharm": {
     "name": "#%%\n"
    }
   }
  },
  {
   "cell_type": "code",
   "execution_count": null,
   "outputs": [],
   "source": [
    "kitchens = pd.DataFrame(kitchens)\n",
    "kitchens = kitchens.rename(columns={0: \"kitchen number\"})\n",
    "kitchens.head()"
   ],
   "metadata": {
    "collapsed": false,
    "pycharm": {
     "name": "#%%\n"
    }
   }
  },
  {
   "cell_type": "markdown",
   "source": [
    "### Living/Reception"
   ],
   "metadata": {
    "collapsed": false,
    "pycharm": {
     "name": "#%% md\n"
    }
   }
  },
  {
   "cell_type": "code",
   "execution_count": null,
   "outputs": [],
   "source": [
    "receptions = extract_room.get_rooms(\"living\", \"reception\", operation=\"sum\")"
   ],
   "metadata": {
    "collapsed": false,
    "pycharm": {
     "name": "#%%\n"
    }
   }
  },
  {
   "cell_type": "code",
   "execution_count": null,
   "outputs": [],
   "source": [
    "receptions = pd.DataFrame(receptions)\n",
    "receptions = receptions.rename(columns={0: \"living area\"})\n",
    "receptions.head()"
   ],
   "metadata": {
    "collapsed": false,
    "pycharm": {
     "name": "#%%\n"
    }
   }
  },
  {
   "cell_type": "markdown",
   "source": [
    "### Bathrooms"
   ],
   "metadata": {
    "collapsed": false,
    "pycharm": {
     "name": "#%% md\n"
    }
   }
  },
  {
   "cell_type": "code",
   "execution_count": null,
   "outputs": [],
   "source": [
    "bathrooms = extract_room.get_rooms(\"bathroom\", \"wc\", \"washroom\", operation=\"number\")"
   ],
   "metadata": {
    "collapsed": false,
    "pycharm": {
     "name": "#%%\n"
    }
   }
  },
  {
   "cell_type": "code",
   "execution_count": null,
   "outputs": [],
   "source": [
    "bathrooms = pd.DataFrame(bathrooms)\n",
    "bathrooms = bathrooms.rename(columns={0: \"bathroom number\"})\n",
    "bathrooms.head()"
   ],
   "metadata": {
    "collapsed": false,
    "pycharm": {
     "name": "#%%\n"
    }
   }
  },
  {
   "cell_type": "markdown",
   "source": [
    "### Dining"
   ],
   "metadata": {
    "collapsed": false,
    "pycharm": {
     "name": "#%% md\n"
    }
   }
  },
  {
   "cell_type": "code",
   "execution_count": null,
   "outputs": [],
   "source": [
    "dining_rooms = extract_room.get_rooms(\"dining\", operation=\"number\")"
   ],
   "metadata": {
    "collapsed": false,
    "pycharm": {
     "name": "#%%\n"
    }
   }
  },
  {
   "cell_type": "code",
   "execution_count": null,
   "outputs": [],
   "source": [
    "dining_rooms = pd.DataFrame(dining_rooms)\n",
    "dining_rooms = dining_rooms.rename(columns={0: \"dining number\"})\n",
    "dining_rooms.head()"
   ],
   "metadata": {
    "collapsed": false,
    "pycharm": {
     "name": "#%%\n"
    }
   }
  },
  {
   "cell_type": "markdown",
   "source": [
    "### Other spaces"
   ],
   "metadata": {
    "collapsed": false,
    "pycharm": {
     "name": "#%% md\n"
    }
   }
  },
  {
   "cell_type": "code",
   "execution_count": null,
   "outputs": [],
   "source": [
    "others = extract_room.get_rest_rooms()"
   ],
   "metadata": {
    "collapsed": false,
    "pycharm": {
     "name": "#%%\n"
    }
   }
  },
  {
   "cell_type": "code",
   "execution_count": null,
   "outputs": [],
   "source": [
    "others = pd.DataFrame(others)\n",
    "others = others.rename(columns={0: \"other number\", 1: \"other area\"})\n",
    "others.head()"
   ],
   "metadata": {
    "collapsed": false,
    "pycharm": {
     "name": "#%%\n"
    }
   }
  },
  {
   "cell_type": "code",
   "execution_count": null,
   "outputs": [],
   "source": [
    "room_info = pd.concat([bedrooms, kitchens, receptions, bathrooms, dining_rooms, others], axis=1)\n",
    "room_info.head()"
   ],
   "metadata": {
    "collapsed": false,
    "pycharm": {
     "name": "#%%\n"
    }
   }
  },
  {
   "cell_type": "code",
   "execution_count": null,
   "outputs": [],
   "source": [],
   "metadata": {
    "collapsed": false,
    "pycharm": {
     "name": "#%%\n"
    }
   }
  }
 ],
 "metadata": {
  "kernelspec": {
   "display_name": "Python 3",
   "language": "python",
   "name": "python3"
  },
  "language_info": {
   "codemirror_mode": {
    "name": "ipython",
    "version": 2
   },
   "file_extension": ".py",
   "mimetype": "text/x-python",
   "name": "python",
   "nbconvert_exporter": "python",
   "pygments_lexer": "ipython2",
   "version": "2.7.6"
  }
 },
 "nbformat": 4,
 "nbformat_minor": 0
}