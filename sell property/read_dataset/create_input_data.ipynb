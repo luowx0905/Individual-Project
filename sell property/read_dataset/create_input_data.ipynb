{
 "cells": [
  {
   "cell_type": "markdown",
   "source": [
    "# Import packages"
   ],
   "metadata": {
    "collapsed": false,
    "pycharm": {
     "name": "#%% md\n"
    }
   }
  },
  {
   "cell_type": "code",
   "execution_count": 1,
   "outputs": [],
   "source": [
    "import pandas as pd\n",
    "import numpy as np\n",
    "import parse\n",
    "import re\n",
    "import seaborn as sns\n",
    "from bs4 import BeautifulSoup\n",
    "from matplotlib import pyplot as plt\n",
    "\n",
    "from ProcessHTML import ProcessHTML\n",
    "from ExtractRooms import ExtractRooms\n",
    "from GeneralizeDataset import GeneralizeDataset"
   ],
   "metadata": {
    "collapsed": false,
    "pycharm": {
     "name": "#%%\n"
    }
   }
  },
  {
   "cell_type": "markdown",
   "source": [
    "# Preprocess dataset\n",
    "## HTML Texts"
   ],
   "metadata": {
    "collapsed": false,
    "pycharm": {
     "name": "#%% md\n"
    }
   }
  },
  {
   "cell_type": "code",
   "execution_count": 2,
   "outputs": [],
   "source": [
    "filename = \"../datasets/PropertyData_wDesc.csv\"\n",
    "data = pd.read_csv(filename, encoding=\"ISO8859-1\")"
   ],
   "metadata": {
    "collapsed": false,
    "pycharm": {
     "name": "#%%\n"
    }
   }
  },
  {
   "cell_type": "code",
   "execution_count": 3,
   "outputs": [],
   "source": [
    "handler = ProcessHTML()\n",
    "\n",
    "rooms = data[\"EweMove Description S3 Rooms\"]\n",
    "price = data[\"Price / Rent\"]\n",
    "\n",
    "for room in rooms:\n",
    "    handler.EweMove_Description_S3_Rooms(room)\n",
    "for p in price:\n",
    "    handler.price_rent(p)"
   ],
   "metadata": {
    "collapsed": false,
    "pycharm": {
     "name": "#%%\n"
    }
   }
  },
  {
   "cell_type": "code",
   "execution_count": 24,
   "outputs": [],
   "source": [
    "indices = set(range(len(data)))\n",
    "room_indices = set(i for i in range(len(handler.s3_rooms)) if handler.s3_rooms[i] is not None)\n",
    "price_indices = set(i for i in range(len(handler.price_or_rent)) if handler.price_or_rent[i][0] > 10)"
   ],
   "metadata": {
    "collapsed": false,
    "pycharm": {
     "name": "#%%\n"
    }
   }
  },
  {
   "cell_type": "code",
   "execution_count": 25,
   "outputs": [],
   "source": [
    "valid_indices = indices & room_indices & price_indices"
   ],
   "metadata": {
    "collapsed": false,
    "pycharm": {
     "name": "#%%\n"
    }
   }
  },
  {
   "cell_type": "markdown",
   "source": [
    "## Categorical data"
   ],
   "metadata": {
    "collapsed": false,
    "pycharm": {
     "name": "#%% md\n"
    }
   }
  },
  {
   "cell_type": "code",
   "execution_count": 26,
   "outputs": [],
   "source": [
    "generalize = GeneralizeDataset(data)\n",
    "\n",
    "parking = generalize.get_feature_num(\"parking\")\n",
    "outside = generalize.get_feature_num(\"outside_space\")\n",
    "heating = generalize.get_feature_num(\"heating\")\n",
    "accessibility = generalize.get_feature_num(\"accessibility\")"
   ],
   "metadata": {
    "collapsed": false,
    "pycharm": {
     "name": "#%%\n"
    }
   }
  },
  {
   "cell_type": "code",
   "execution_count": 27,
   "outputs": [],
   "source": [
    "condition_indices = set(i for i in indices if data[\"RTD3316_condition1 - Condition Description\"].notna()[i])\n",
    "qualifier_indices = set(i for i in indices if data[\"Price Qualifier\"].notna()[i])\n",
    "council_tax_indices = set(i for i in indices if data[\"DESC Council Tax Band\"].notna()[i])"
   ],
   "metadata": {
    "collapsed": false,
    "pycharm": {
     "name": "#%%\n"
    }
   }
  },
  {
   "cell_type": "code",
   "execution_count": 28,
   "outputs": [],
   "source": [
    "valid_indices = valid_indices & condition_indices & qualifier_indices & council_tax_indices"
   ],
   "metadata": {
    "collapsed": false,
    "pycharm": {
     "name": "#%%\n"
    }
   }
  },
  {
   "cell_type": "markdown",
   "source": [
    "# Obtain the dataset for model input"
   ],
   "metadata": {
    "collapsed": false,
    "pycharm": {
     "name": "#%% md\n"
    }
   }
  },
  {
   "cell_type": "code",
   "execution_count": 29,
   "outputs": [
    {
     "data": {
      "text/plain": "    Postcode Sale or Let                       EweMove Description S3 Rooms  \\\n0    LU7 4WN        Sale  This home includes:<ul><li><strong>01 - Entran...   \n2   DA17 5PJ        Sale  This home includes:<ul><li><strong>01 - Entran...   \n6   RG26 5PX        Sale  This home includes:<ul><li><strong>01 - Living...   \n7    BD8 0HT        Sale  This home includes:<ul><li><strong>01 - Hallwa...   \n15  HU17 7AB        Sale  This home includes:<ul><li><strong>01 - Entran...   \n\n                                         Price / Rent      Price Qualifier  \\\n0   <font color='blue'>&pound;140,000</font><br>Of...  Offers In Excess Of   \n2   <font color='blue'>&pound;325,000</font><br>Gu...          Guide Price   \n6   <font color='blue'>&pound;500,000</font><br>Gu...          Guide Price   \n7   <font color='blue'>&pound;170,000</font><br>Of...  Offers in Region Of   \n15  <font color='blue'>&pound;410,000</font><br>Of...          Offers Over   \n\n   DESC Council Tax Band  # of Enquiry or viewings  # of Apps/Offers  \\\n0                 Band B                        32                12   \n2                 Band D                        14                 4   \n6                 Band E                        10                 2   \n7                 Band B                         9                 1   \n15                Band B                         1                 2   \n\n   RTD3307_parking1 - Parking Description  \\\n0                               Allocated   \n2                               On Street   \n6                                Driveway   \n7                                Driveway   \n15                             Off Street   \n\n   RTD3307_parking2 - Parking Description  ...  \\\n0                              Off Street  ...   \n2                                     NaN  ...   \n6                                  Garage  ...   \n7                                     NaN  ...   \n15                              Allocated  ...   \n\n   RTD3308_outside_space1 - Outside Space Description  \\\n0                                     Communal Garden   \n2                                         Rear Garden   \n6                                         Back Garden   \n7                                        Front Garden   \n15                                        Rear Garden   \n\n   RTD3308_outside_space2 - Outside Space Description  \\\n0                                                 NaN   \n2                                      Private Garden   \n6                                     Enclosed Garden   \n7                                         Rear Garden   \n15                                                NaN   \n\n   RTD3308_outside_space3 - Outside Space Description  \\\n0                                                 NaN   \n2                                                 NaN   \n6                                               Patio   \n7                                                 NaN   \n15                                                NaN   \n\n   RTD3318_heating1 - Heating Description  \\\n0                          Double Glazing   \n2                                 Central   \n6                          Double Glazing   \n7                             Gas Central   \n15                            Gas Central   \n\n   RTD3318_heating2 - Heating Description  \\\n0                                Electric   \n2                             Gas Central   \n6                             Gas Central   \n7                                     NaN   \n15                                    NaN   \n\n   RTD3318_heating3 - Heating Description  \\\n0                           Night Storage   \n2                          Double Glazing   \n6                             Under Floor   \n7                                     NaN   \n15                                    NaN   \n\n   RTD3317_accessibility1 - accessibility Description  \\\n0                   Not suitable for wheelchair users   \n2                                                 NaN   \n6                                                 NaN   \n7                                        Level access   \n15                                       Level access   \n\n   RTD3317_accessibility2 - accessibility Description  \\\n0                                                 NaN   \n2                                                 NaN   \n6                                                 NaN   \n7                                                 NaN   \n15                                                NaN   \n\n   RTD3317_accessibility3 - accessibility Description  \\\n0                                                 NaN   \n2                                                 NaN   \n6                                                 NaN   \n7                                                 NaN   \n15                                                NaN   \n\n   RTD3316_condition1 - Condition Description  \n0                                        Good  \n2                                        Good  \n6                                        Good  \n7                                        Good  \n15                                       Good  \n\n[5 rows x 21 columns]",
      "text/html": "<div>\n<style scoped>\n    .dataframe tbody tr th:only-of-type {\n        vertical-align: middle;\n    }\n\n    .dataframe tbody tr th {\n        vertical-align: top;\n    }\n\n    .dataframe thead th {\n        text-align: right;\n    }\n</style>\n<table border=\"1\" class=\"dataframe\">\n  <thead>\n    <tr style=\"text-align: right;\">\n      <th></th>\n      <th>Postcode</th>\n      <th>Sale or Let</th>\n      <th>EweMove Description S3 Rooms</th>\n      <th>Price / Rent</th>\n      <th>Price Qualifier</th>\n      <th>DESC Council Tax Band</th>\n      <th># of Enquiry or viewings</th>\n      <th># of Apps/Offers</th>\n      <th>RTD3307_parking1 - Parking Description</th>\n      <th>RTD3307_parking2 - Parking Description</th>\n      <th>...</th>\n      <th>RTD3308_outside_space1 - Outside Space Description</th>\n      <th>RTD3308_outside_space2 - Outside Space Description</th>\n      <th>RTD3308_outside_space3 - Outside Space Description</th>\n      <th>RTD3318_heating1 - Heating Description</th>\n      <th>RTD3318_heating2 - Heating Description</th>\n      <th>RTD3318_heating3 - Heating Description</th>\n      <th>RTD3317_accessibility1 - accessibility Description</th>\n      <th>RTD3317_accessibility2 - accessibility Description</th>\n      <th>RTD3317_accessibility3 - accessibility Description</th>\n      <th>RTD3316_condition1 - Condition Description</th>\n    </tr>\n  </thead>\n  <tbody>\n    <tr>\n      <th>0</th>\n      <td>LU7 4WN</td>\n      <td>Sale</td>\n      <td>This home includes:&lt;ul&gt;&lt;li&gt;&lt;strong&gt;01 - Entran...</td>\n      <td>&lt;font color='blue'&gt;&amp;pound;140,000&lt;/font&gt;&lt;br&gt;Of...</td>\n      <td>Offers In Excess Of</td>\n      <td>Band B</td>\n      <td>32</td>\n      <td>12</td>\n      <td>Allocated</td>\n      <td>Off Street</td>\n      <td>...</td>\n      <td>Communal Garden</td>\n      <td>NaN</td>\n      <td>NaN</td>\n      <td>Double Glazing</td>\n      <td>Electric</td>\n      <td>Night Storage</td>\n      <td>Not suitable for wheelchair users</td>\n      <td>NaN</td>\n      <td>NaN</td>\n      <td>Good</td>\n    </tr>\n    <tr>\n      <th>2</th>\n      <td>DA17 5PJ</td>\n      <td>Sale</td>\n      <td>This home includes:&lt;ul&gt;&lt;li&gt;&lt;strong&gt;01 - Entran...</td>\n      <td>&lt;font color='blue'&gt;&amp;pound;325,000&lt;/font&gt;&lt;br&gt;Gu...</td>\n      <td>Guide Price</td>\n      <td>Band D</td>\n      <td>14</td>\n      <td>4</td>\n      <td>On Street</td>\n      <td>NaN</td>\n      <td>...</td>\n      <td>Rear Garden</td>\n      <td>Private Garden</td>\n      <td>NaN</td>\n      <td>Central</td>\n      <td>Gas Central</td>\n      <td>Double Glazing</td>\n      <td>NaN</td>\n      <td>NaN</td>\n      <td>NaN</td>\n      <td>Good</td>\n    </tr>\n    <tr>\n      <th>6</th>\n      <td>RG26 5PX</td>\n      <td>Sale</td>\n      <td>This home includes:&lt;ul&gt;&lt;li&gt;&lt;strong&gt;01 - Living...</td>\n      <td>&lt;font color='blue'&gt;&amp;pound;500,000&lt;/font&gt;&lt;br&gt;Gu...</td>\n      <td>Guide Price</td>\n      <td>Band E</td>\n      <td>10</td>\n      <td>2</td>\n      <td>Driveway</td>\n      <td>Garage</td>\n      <td>...</td>\n      <td>Back Garden</td>\n      <td>Enclosed Garden</td>\n      <td>Patio</td>\n      <td>Double Glazing</td>\n      <td>Gas Central</td>\n      <td>Under Floor</td>\n      <td>NaN</td>\n      <td>NaN</td>\n      <td>NaN</td>\n      <td>Good</td>\n    </tr>\n    <tr>\n      <th>7</th>\n      <td>BD8 0HT</td>\n      <td>Sale</td>\n      <td>This home includes:&lt;ul&gt;&lt;li&gt;&lt;strong&gt;01 - Hallwa...</td>\n      <td>&lt;font color='blue'&gt;&amp;pound;170,000&lt;/font&gt;&lt;br&gt;Of...</td>\n      <td>Offers in Region Of</td>\n      <td>Band B</td>\n      <td>9</td>\n      <td>1</td>\n      <td>Driveway</td>\n      <td>NaN</td>\n      <td>...</td>\n      <td>Front Garden</td>\n      <td>Rear Garden</td>\n      <td>NaN</td>\n      <td>Gas Central</td>\n      <td>NaN</td>\n      <td>NaN</td>\n      <td>Level access</td>\n      <td>NaN</td>\n      <td>NaN</td>\n      <td>Good</td>\n    </tr>\n    <tr>\n      <th>15</th>\n      <td>HU17 7AB</td>\n      <td>Sale</td>\n      <td>This home includes:&lt;ul&gt;&lt;li&gt;&lt;strong&gt;01 - Entran...</td>\n      <td>&lt;font color='blue'&gt;&amp;pound;410,000&lt;/font&gt;&lt;br&gt;Of...</td>\n      <td>Offers Over</td>\n      <td>Band B</td>\n      <td>1</td>\n      <td>2</td>\n      <td>Off Street</td>\n      <td>Allocated</td>\n      <td>...</td>\n      <td>Rear Garden</td>\n      <td>NaN</td>\n      <td>NaN</td>\n      <td>Gas Central</td>\n      <td>NaN</td>\n      <td>NaN</td>\n      <td>Level access</td>\n      <td>NaN</td>\n      <td>NaN</td>\n      <td>Good</td>\n    </tr>\n  </tbody>\n</table>\n<p>5 rows × 21 columns</p>\n</div>"
     },
     "execution_count": 29,
     "metadata": {},
     "output_type": "execute_result"
    }
   ],
   "source": [
    "parking_names = [i for i in data.columns if \"parking\" in i]\n",
    "outside_names = [i for i in data.columns if \"outside\" in i]\n",
    "heating_names = [i for i in data.columns if \"heating\" in i]\n",
    "accessibility_names = [i for i in data.columns if \"accessibility\" in i]\n",
    "condition_names = [i for i in data.columns if \"condition\" in i]\n",
    "column_names = [\"Postcode\", \"Sale or Let\", \"EweMove Description S3 Rooms\", \"Price / Rent\",\n",
    "                \"Price Qualifier\", \"DESC Council Tax Band\", \"# of Enquiry or viewings\", \"# of Apps/Offers\"]\n",
    "column_names += parking_names + outside_names + heating_names + accessibility_names + condition_names\n",
    "\n",
    "valid_indices = sorted(list(valid_indices))\n",
    "input_data = data.iloc[valid_indices][column_names]\n",
    "input_data.head()"
   ],
   "metadata": {
    "collapsed": false,
    "pycharm": {
     "name": "#%%\n"
    }
   }
  },
  {
   "cell_type": "code",
   "execution_count": 30,
   "outputs": [
    {
     "data": {
      "text/plain": "    Postcode Sale or Let      Price Qualifier DESC Council Tax Band  \\\n0    LU7 4WN        Sale  Offers In Excess Of                Band B   \n2   DA17 5PJ        Sale          Guide Price                Band D   \n6   RG26 5PX        Sale          Guide Price                Band E   \n7    BD8 0HT        Sale  Offers in Region Of                Band B   \n15  HU17 7AB        Sale          Offers Over                Band B   \n\n    # of Enquiry or viewings  # of Apps/Offers  \\\n0                         32                12   \n2                         14                 4   \n6                         10                 2   \n7                          9                 1   \n15                         1                 2   \n\n   RTD3307_parking1 - Parking Description  \\\n0                               Allocated   \n2                               On Street   \n6                                Driveway   \n7                                Driveway   \n15                             Off Street   \n\n   RTD3307_parking2 - Parking Description  \\\n0                              Off Street   \n2                                     NaN   \n6                                  Garage   \n7                                     NaN   \n15                              Allocated   \n\n   RTD3307_parking3 - Parking Description  \\\n0                               Residents   \n2                                     NaN   \n6                              Off Street   \n7                                     NaN   \n15                                    NaN   \n\n   RTD3308_outside_space1 - Outside Space Description  \\\n0                                     Communal Garden   \n2                                         Rear Garden   \n6                                         Back Garden   \n7                                        Front Garden   \n15                                        Rear Garden   \n\n   RTD3308_outside_space2 - Outside Space Description  \\\n0                                                 NaN   \n2                                      Private Garden   \n6                                     Enclosed Garden   \n7                                         Rear Garden   \n15                                                NaN   \n\n   RTD3308_outside_space3 - Outside Space Description  \\\n0                                                 NaN   \n2                                                 NaN   \n6                                               Patio   \n7                                                 NaN   \n15                                                NaN   \n\n   RTD3318_heating1 - Heating Description  \\\n0                          Double Glazing   \n2                                 Central   \n6                          Double Glazing   \n7                             Gas Central   \n15                            Gas Central   \n\n   RTD3318_heating2 - Heating Description  \\\n0                                Electric   \n2                             Gas Central   \n6                             Gas Central   \n7                                     NaN   \n15                                    NaN   \n\n   RTD3318_heating3 - Heating Description  \\\n0                           Night Storage   \n2                          Double Glazing   \n6                             Under Floor   \n7                                     NaN   \n15                                    NaN   \n\n   RTD3317_accessibility1 - accessibility Description  \\\n0                   Not suitable for wheelchair users   \n2                                                 NaN   \n6                                                 NaN   \n7                                        Level access   \n15                                       Level access   \n\n   RTD3317_accessibility2 - accessibility Description  \\\n0                                                 NaN   \n2                                                 NaN   \n6                                                 NaN   \n7                                                 NaN   \n15                                                NaN   \n\n   RTD3317_accessibility3 - accessibility Description  \\\n0                                                 NaN   \n2                                                 NaN   \n6                                                 NaN   \n7                                                 NaN   \n15                                                NaN   \n\n   RTD3316_condition1 - Condition Description  \n0                                        Good  \n2                                        Good  \n6                                        Good  \n7                                        Good  \n15                                       Good  ",
      "text/html": "<div>\n<style scoped>\n    .dataframe tbody tr th:only-of-type {\n        vertical-align: middle;\n    }\n\n    .dataframe tbody tr th {\n        vertical-align: top;\n    }\n\n    .dataframe thead th {\n        text-align: right;\n    }\n</style>\n<table border=\"1\" class=\"dataframe\">\n  <thead>\n    <tr style=\"text-align: right;\">\n      <th></th>\n      <th>Postcode</th>\n      <th>Sale or Let</th>\n      <th>Price Qualifier</th>\n      <th>DESC Council Tax Band</th>\n      <th># of Enquiry or viewings</th>\n      <th># of Apps/Offers</th>\n      <th>RTD3307_parking1 - Parking Description</th>\n      <th>RTD3307_parking2 - Parking Description</th>\n      <th>RTD3307_parking3 - Parking Description</th>\n      <th>RTD3308_outside_space1 - Outside Space Description</th>\n      <th>RTD3308_outside_space2 - Outside Space Description</th>\n      <th>RTD3308_outside_space3 - Outside Space Description</th>\n      <th>RTD3318_heating1 - Heating Description</th>\n      <th>RTD3318_heating2 - Heating Description</th>\n      <th>RTD3318_heating3 - Heating Description</th>\n      <th>RTD3317_accessibility1 - accessibility Description</th>\n      <th>RTD3317_accessibility2 - accessibility Description</th>\n      <th>RTD3317_accessibility3 - accessibility Description</th>\n      <th>RTD3316_condition1 - Condition Description</th>\n    </tr>\n  </thead>\n  <tbody>\n    <tr>\n      <th>0</th>\n      <td>LU7 4WN</td>\n      <td>Sale</td>\n      <td>Offers In Excess Of</td>\n      <td>Band B</td>\n      <td>32</td>\n      <td>12</td>\n      <td>Allocated</td>\n      <td>Off Street</td>\n      <td>Residents</td>\n      <td>Communal Garden</td>\n      <td>NaN</td>\n      <td>NaN</td>\n      <td>Double Glazing</td>\n      <td>Electric</td>\n      <td>Night Storage</td>\n      <td>Not suitable for wheelchair users</td>\n      <td>NaN</td>\n      <td>NaN</td>\n      <td>Good</td>\n    </tr>\n    <tr>\n      <th>2</th>\n      <td>DA17 5PJ</td>\n      <td>Sale</td>\n      <td>Guide Price</td>\n      <td>Band D</td>\n      <td>14</td>\n      <td>4</td>\n      <td>On Street</td>\n      <td>NaN</td>\n      <td>NaN</td>\n      <td>Rear Garden</td>\n      <td>Private Garden</td>\n      <td>NaN</td>\n      <td>Central</td>\n      <td>Gas Central</td>\n      <td>Double Glazing</td>\n      <td>NaN</td>\n      <td>NaN</td>\n      <td>NaN</td>\n      <td>Good</td>\n    </tr>\n    <tr>\n      <th>6</th>\n      <td>RG26 5PX</td>\n      <td>Sale</td>\n      <td>Guide Price</td>\n      <td>Band E</td>\n      <td>10</td>\n      <td>2</td>\n      <td>Driveway</td>\n      <td>Garage</td>\n      <td>Off Street</td>\n      <td>Back Garden</td>\n      <td>Enclosed Garden</td>\n      <td>Patio</td>\n      <td>Double Glazing</td>\n      <td>Gas Central</td>\n      <td>Under Floor</td>\n      <td>NaN</td>\n      <td>NaN</td>\n      <td>NaN</td>\n      <td>Good</td>\n    </tr>\n    <tr>\n      <th>7</th>\n      <td>BD8 0HT</td>\n      <td>Sale</td>\n      <td>Offers in Region Of</td>\n      <td>Band B</td>\n      <td>9</td>\n      <td>1</td>\n      <td>Driveway</td>\n      <td>NaN</td>\n      <td>NaN</td>\n      <td>Front Garden</td>\n      <td>Rear Garden</td>\n      <td>NaN</td>\n      <td>Gas Central</td>\n      <td>NaN</td>\n      <td>NaN</td>\n      <td>Level access</td>\n      <td>NaN</td>\n      <td>NaN</td>\n      <td>Good</td>\n    </tr>\n    <tr>\n      <th>15</th>\n      <td>HU17 7AB</td>\n      <td>Sale</td>\n      <td>Offers Over</td>\n      <td>Band B</td>\n      <td>1</td>\n      <td>2</td>\n      <td>Off Street</td>\n      <td>Allocated</td>\n      <td>NaN</td>\n      <td>Rear Garden</td>\n      <td>NaN</td>\n      <td>NaN</td>\n      <td>Gas Central</td>\n      <td>NaN</td>\n      <td>NaN</td>\n      <td>Level access</td>\n      <td>NaN</td>\n      <td>NaN</td>\n      <td>Good</td>\n    </tr>\n  </tbody>\n</table>\n</div>"
     },
     "execution_count": 30,
     "metadata": {},
     "output_type": "execute_result"
    }
   ],
   "source": [
    "general_data = input_data.loc[:, ~input_data.columns.isin([\"EweMove Description S3 Rooms\", \"Price / Rent\"])]\n",
    "general_data.head()"
   ],
   "metadata": {
    "collapsed": false,
    "pycharm": {
     "name": "#%%\n"
    }
   }
  },
  {
   "cell_type": "markdown",
   "source": [
    "## Price for sale and rental"
   ],
   "metadata": {
    "collapsed": false,
    "pycharm": {
     "name": "#%% md\n"
    }
   }
  },
  {
   "cell_type": "code",
   "execution_count": 31,
   "outputs": [],
   "source": [
    "prices = [handler.price_or_rent[i][0] for i in valid_indices]\n",
    "prices = pd.DataFrame(prices)\n",
    "rename_dict = {i: j for i, j in zip(range(len(prices)), valid_indices)}\n",
    "prices = prices.rename(index=rename_dict)"
   ],
   "metadata": {
    "collapsed": false,
    "pycharm": {
     "name": "#%%\n"
    }
   }
  },
  {
   "cell_type": "markdown",
   "source": [
    "### Sale price"
   ],
   "metadata": {
    "collapsed": false,
    "pycharm": {
     "name": "#%% md\n"
    }
   }
  },
  {
   "cell_type": "code",
   "execution_count": 41,
   "outputs": [
    {
     "data": {
      "text/plain": "Text(0.5, 1.0, 'The Distribution of Sale Price (Outliers removed)')"
     },
     "execution_count": 41,
     "metadata": {},
     "output_type": "execute_result"
    },
    {
     "data": {
      "text/plain": "<Figure size 401.625x360 with 1 Axes>",
      "image/png": "[encoded data removed]"
     },
     "metadata": {},
     "output_type": "display_data"
    }
   ],
   "source": [
    "sale_prices = prices[general_data[\"Sale or Let\"] == \"Sale\"]\n",
    "fig = sns.displot(sale_prices)\n",
    "fig._legend.remove()\n",
    "plt.xlabel(\"Prices / £\")\n",
    "plt.ylabel(\"Number of properties\")\n",
    "plt.title(\"The Distribution of Sale Price (Outliers removed)\")"
   ],
   "metadata": {
    "collapsed": false,
    "pycharm": {
     "name": "#%%\n"
    }
   }
  },
  {
   "cell_type": "code",
   "execution_count": 40,
   "outputs": [
    {
     "data": {
      "text/plain": "Text(0.5, 1.0, 'The Distribution of Rental Price (Outliers removed)')"
     },
     "execution_count": 40,
     "metadata": {},
     "output_type": "execute_result"
    },
    {
     "data": {
      "text/plain": "<Figure size 401.625x360 with 1 Axes>",
      "image/png": "[encoded data removed]"
     },
     "metadata": {},
     "output_type": "display_data"
    }
   ],
   "source": [
    "rental_price = prices[general_data[\"Sale or Let\"] == \"Rental\"]\n",
    "fig = sns.displot(rental_price)\n",
    "fig._legend.remove()\n",
    "plt.xlabel(\"Prices / £\")\n",
    "plt.ylabel(\"Number of properties\")\n",
    "plt.title(\"The Distribution of Rental Price (Outliers removed)\")"
   ],
   "metadata": {
    "collapsed": false,
    "pycharm": {
     "name": "#%%\n"
    }
   }
  },
  {
   "cell_type": "markdown",
   "source": [
    "## Extract room information"
   ],
   "metadata": {
    "collapsed": false,
    "pycharm": {
     "name": "#%% md\n"
    }
   }
  },
  {
   "cell_type": "code",
   "execution_count": null,
   "outputs": [],
   "source": [
    "rooms = [handler.s3_rooms[i] for i in valid_indices]\n",
    "extract_room = ExtractRooms(rooms, handler.s3_rooms_set, \"{} ({} sqm){}\")"
   ],
   "metadata": {
    "collapsed": false,
    "pycharm": {
     "name": "#%%\n"
    }
   }
  },
  {
   "cell_type": "markdown",
   "source": [
    "### Bedrooms"
   ],
   "metadata": {
    "collapsed": false,
    "pycharm": {
     "name": "#%% md\n"
    }
   }
  },
  {
   "cell_type": "code",
   "execution_count": null,
   "outputs": [],
   "source": [
    "bedrooms = extract_room.get_rooms(\"bedroom\")"
   ],
   "metadata": {
    "collapsed": false,
    "pycharm": {
     "name": "#%%\n"
    }
   }
  },
  {
   "cell_type": "code",
   "execution_count": null,
   "outputs": [],
   "source": [
    "bedrooms = pd.DataFrame(bedrooms)\n",
    "rename_dict = {str(i): \"bedroom {}\".format(i + 1) for i in range(6)}\n",
    "bedrooms = bedrooms.rename(columns=rename_dict)\n",
    "bedrooms.head()"
   ],
   "metadata": {
    "collapsed": false,
    "pycharm": {
     "name": "#%%\n"
    }
   }
  },
  {
   "cell_type": "markdown",
   "source": [
    "### Kitchens"
   ],
   "metadata": {
    "collapsed": false,
    "pycharm": {
     "name": "#%% md\n"
    }
   }
  },
  {
   "cell_type": "code",
   "execution_count": null,
   "outputs": [],
   "source": [
    "kitchens = extract_room.get_rooms(\"kitchen\", operation=\"number\")"
   ],
   "metadata": {
    "collapsed": false,
    "pycharm": {
     "name": "#%%\n"
    }
   }
  },
  {
   "cell_type": "code",
   "execution_count": null,
   "outputs": [],
   "source": [
    "kitchens = pd.DataFrame(kitchens)\n",
    "kitchens = kitchens.rename(columns={0: \"kitchen number\"})\n",
    "kitchens.head()"
   ],
   "metadata": {
    "collapsed": false,
    "pycharm": {
     "name": "#%%\n"
    }
   }
  },
  {
   "cell_type": "markdown",
   "source": [
    "### Living/Reception"
   ],
   "metadata": {
    "collapsed": false,
    "pycharm": {
     "name": "#%% md\n"
    }
   }
  },
  {
   "cell_type": "code",
   "execution_count": null,
   "outputs": [],
   "source": [
    "receptions = extract_room.get_rooms(\"living\", \"reception\", operation=\"sum\")"
   ],
   "metadata": {
    "collapsed": false,
    "pycharm": {
     "name": "#%%\n"
    }
   }
  },
  {
   "cell_type": "code",
   "execution_count": null,
   "outputs": [],
   "source": [
    "receptions = pd.DataFrame(receptions)\n",
    "receptions = receptions.rename(columns={0: \"living area\"})\n",
    "receptions.head()"
   ],
   "metadata": {
    "collapsed": false,
    "pycharm": {
     "name": "#%%\n"
    }
   }
  },
  {
   "cell_type": "markdown",
   "source": [
    "### Bathrooms"
   ],
   "metadata": {
    "collapsed": false,
    "pycharm": {
     "name": "#%% md\n"
    }
   }
  },
  {
   "cell_type": "code",
   "execution_count": null,
   "outputs": [],
   "source": [
    "bathrooms = extract_room.get_rooms(\"bathroom\", \"wc\", \"washroom\", operation=\"number\")"
   ],
   "metadata": {
    "collapsed": false,
    "pycharm": {
     "name": "#%%\n"
    }
   }
  },
  {
   "cell_type": "code",
   "execution_count": null,
   "outputs": [],
   "source": [
    "bathrooms = pd.DataFrame(bathrooms)\n",
    "bathrooms = bathrooms.rename(columns={0: \"bathroom number\"})\n",
    "bathrooms.head()"
   ],
   "metadata": {
    "collapsed": false,
    "pycharm": {
     "name": "#%%\n"
    }
   }
  },
  {
   "cell_type": "markdown",
   "source": [
    "### Dining"
   ],
   "metadata": {
    "collapsed": false,
    "pycharm": {
     "name": "#%% md\n"
    }
   }
  },
  {
   "cell_type": "code",
   "execution_count": null,
   "outputs": [],
   "source": [
    "dining_rooms = extract_room.get_rooms(\"dining\", operation=\"number\")"
   ],
   "metadata": {
    "collapsed": false,
    "pycharm": {
     "name": "#%%\n"
    }
   }
  },
  {
   "cell_type": "code",
   "execution_count": null,
   "outputs": [],
   "source": [
    "dining_rooms = pd.DataFrame(dining_rooms)\n",
    "dining_rooms = dining_rooms.rename(columns={0: \"dining number\"})\n",
    "dining_rooms.head()"
   ],
   "metadata": {
    "collapsed": false,
    "pycharm": {
     "name": "#%%\n"
    }
   }
  },
  {
   "cell_type": "markdown",
   "source": [
    "### Other spaces"
   ],
   "metadata": {
    "collapsed": false,
    "pycharm": {
     "name": "#%% md\n"
    }
   }
  },
  {
   "cell_type": "code",
   "execution_count": null,
   "outputs": [],
   "source": [
    "others = extract_room.get_rest_rooms()"
   ],
   "metadata": {
    "collapsed": false,
    "pycharm": {
     "name": "#%%\n"
    }
   }
  },
  {
   "cell_type": "code",
   "execution_count": null,
   "outputs": [],
   "source": [
    "others = pd.DataFrame(others)\n",
    "others = others.rename(columns={0: \"other number\", 1: \"other area\"})\n",
    "others.head()"
   ],
   "metadata": {
    "collapsed": false,
    "pycharm": {
     "name": "#%%\n"
    }
   }
  },
  {
   "cell_type": "code",
   "execution_count": null,
   "outputs": [],
   "source": [
    "room_info = pd.concat([bedrooms, kitchens, receptions, bathrooms, dining_rooms, others], axis=1)\n",
    "room_info.head()"
   ],
   "metadata": {
    "collapsed": false,
    "pycharm": {
     "name": "#%%\n"
    }
   }
  },
  {
   "cell_type": "code",
   "execution_count": null,
   "outputs": [],
   "source": [],
   "metadata": {
    "collapsed": false,
    "pycharm": {
     "name": "#%%\n"
    }
   }
  }
 ],
 "metadata": {
  "kernelspec": {
   "display_name": "Python 3",
   "language": "python",
   "name": "python3"
  },
  "language_info": {
   "codemirror_mode": {
    "name": "ipython",
    "version": 2
   },
   "file_extension": ".py",
   "mimetype": "text/x-python",
   "name": "python",
   "nbconvert_exporter": "python",
   "pygments_lexer": "ipython2",
   "version": "2.7.6"
  }
 },
 "nbformat": 4,
 "nbformat_minor": 0
}