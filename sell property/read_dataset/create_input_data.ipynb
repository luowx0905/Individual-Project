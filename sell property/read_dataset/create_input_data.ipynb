{
 "cells": [
  {
   "cell_type": "markdown",
   "source": [
    "# Import packages"
   ],
   "metadata": {
    "collapsed": false,
    "pycharm": {
     "name": "#%% md\n"
    }
   }
  },
  {
   "cell_type": "code",
   "execution_count": 1,
   "outputs": [],
   "source": [
    "import pandas as pd\n",
    "import numpy as np\n",
    "import parse\n",
    "import re\n",
    "import seaborn as sns\n",
    "from bs4 import BeautifulSoup\n",
    "from matplotlib import pyplot as plt\n",
    "\n",
    "from ProcessHTML import ProcessHTML\n",
    "from ExtractRooms import ExtractRooms\n",
    "from GeneralizeDataset import GeneralizeDataset"
   ],
   "metadata": {
    "collapsed": false,
    "pycharm": {
     "name": "#%%\n"
    }
   }
  },
  {
   "cell_type": "markdown",
   "source": [
    "# Preprocess dataset\n",
    "## HTML Texts"
   ],
   "metadata": {
    "collapsed": false,
    "pycharm": {
     "name": "#%% md\n"
    }
   }
  },
  {
   "cell_type": "code",
   "execution_count": 2,
   "outputs": [],
   "source": [
    "filename = \"../datasets/PropertyData_wDesc.csv\"\n",
    "data = pd.read_csv(filename, encoding=\"ISO8859-1\")"
   ],
   "metadata": {
    "collapsed": false,
    "pycharm": {
     "name": "#%%\n"
    }
   }
  },
  {
   "cell_type": "code",
   "execution_count": 3,
   "outputs": [],
   "source": [
    "handler = ProcessHTML()\n",
    "\n",
    "rooms = data[\"EweMove Description S3 Rooms\"]\n",
    "price = data[\"Price / Rent\"]\n",
    "\n",
    "for room in rooms:\n",
    "    handler.EweMove_Description_S3_Rooms(room)\n",
    "for p in price:\n",
    "    handler.price_rent(p)"
   ],
   "metadata": {
    "collapsed": false,
    "pycharm": {
     "name": "#%%\n"
    }
   }
  },
  {
   "cell_type": "code",
   "execution_count": 4,
   "outputs": [],
   "source": [
    "indices = set(range(len(data)))\n",
    "room_indices = set(i for i in range(len(handler.s3_rooms)) if handler.s3_rooms[i] is not None)\n",
    "price_indices = set(i for i in range(len(handler.price_or_rent)) if handler.price_or_rent[i][0] != 0)"
   ],
   "metadata": {
    "collapsed": false,
    "pycharm": {
     "name": "#%%\n"
    }
   }
  },
  {
   "cell_type": "code",
   "execution_count": 5,
   "outputs": [],
   "source": [
    "valid_indices = indices & room_indices & price_indices"
   ],
   "metadata": {
    "collapsed": false,
    "pycharm": {
     "name": "#%%\n"
    }
   }
  },
  {
   "cell_type": "markdown",
   "source": [
    "## Categorical data"
   ],
   "metadata": {
    "collapsed": false,
    "pycharm": {
     "name": "#%% md\n"
    }
   }
  },
  {
   "cell_type": "code",
   "execution_count": 6,
   "outputs": [],
   "source": [
    "generalize = GeneralizeDataset(data)\n",
    "\n",
    "parking = generalize.get_feature_num(\"parking\")\n",
    "outside = generalize.get_feature_num(\"outside_space\")\n",
    "heating = generalize.get_feature_num(\"heating\")\n",
    "accessibility = generalize.get_feature_num(\"accessibility\")"
   ],
   "metadata": {
    "collapsed": false,
    "pycharm": {
     "name": "#%%\n"
    }
   }
  },
  {
   "cell_type": "code",
   "execution_count": 7,
   "outputs": [],
   "source": [
    "condition_indices = set(i for i in indices if data[\"RTD3316_condition1 - Condition Description\"].notna()[i])\n",
    "qualifier_indices = set(i for i in indices if data[\"Price Qualifier\"].notna()[i])\n",
    "council_tax_indices = set(i for i in indices if data[\"DESC Council Tax Band\"].notna()[i])"
   ],
   "metadata": {
    "collapsed": false,
    "pycharm": {
     "name": "#%%\n"
    }
   }
  },
  {
   "cell_type": "code",
   "execution_count": 8,
   "outputs": [],
   "source": [
    "valid_indices = valid_indices & condition_indices & qualifier_indices & council_tax_indices"
   ],
   "metadata": {
    "collapsed": false,
    "pycharm": {
     "name": "#%%\n"
    }
   }
  },
  {
   "cell_type": "markdown",
   "source": [
    "# Obtain the dataset for model input"
   ],
   "metadata": {
    "collapsed": false,
    "pycharm": {
     "name": "#%% md\n"
    }
   }
  },
  {
   "cell_type": "code",
   "execution_count": 9,
   "outputs": [
    {
     "data": {
      "text/plain": "    Postcode Sale or Let                       EweMove Description S3 Rooms  \\\n0    LU7 4WN        Sale  This home includes:<ul><li><strong>01 - Entran...   \n2   DA17 5PJ        Sale  This home includes:<ul><li><strong>01 - Entran...   \n6   RG26 5PX        Sale  This home includes:<ul><li><strong>01 - Living...   \n7    BD8 0HT        Sale  This home includes:<ul><li><strong>01 - Hallwa...   \n15  HU17 7AB        Sale  This home includes:<ul><li><strong>01 - Entran...   \n\n                                         Price / Rent      Price Qualifier  \\\n0   <font color='blue'>&pound;140,000</font><br>Of...  Offers In Excess Of   \n2   <font color='blue'>&pound;325,000</font><br>Gu...          Guide Price   \n6   <font color='blue'>&pound;500,000</font><br>Gu...          Guide Price   \n7   <font color='blue'>&pound;170,000</font><br>Of...  Offers in Region Of   \n15  <font color='blue'>&pound;410,000</font><br>Of...          Offers Over   \n\n   DESC Council Tax Band  # of Enquiry or viewings  # of Apps/Offers  \\\n0                 Band B                        32                12   \n2                 Band D                        14                 4   \n6                 Band E                        10                 2   \n7                 Band B                         9                 1   \n15                Band B                         1                 2   \n\n   RTD3307_parking1 - Parking Description  \\\n0                               Allocated   \n2                               On Street   \n6                                Driveway   \n7                                Driveway   \n15                             Off Street   \n\n   RTD3307_parking2 - Parking Description  ...  \\\n0                              Off Street  ...   \n2                                     NaN  ...   \n6                                  Garage  ...   \n7                                     NaN  ...   \n15                              Allocated  ...   \n\n   RTD3308_outside_space1 - Outside Space Description  \\\n0                                     Communal Garden   \n2                                         Rear Garden   \n6                                         Back Garden   \n7                                        Front Garden   \n15                                        Rear Garden   \n\n   RTD3308_outside_space2 - Outside Space Description  \\\n0                                                 NaN   \n2                                      Private Garden   \n6                                     Enclosed Garden   \n7                                         Rear Garden   \n15                                                NaN   \n\n   RTD3308_outside_space3 - Outside Space Description  \\\n0                                                 NaN   \n2                                                 NaN   \n6                                               Patio   \n7                                                 NaN   \n15                                                NaN   \n\n   RTD3318_heating1 - Heating Description  \\\n0                          Double Glazing   \n2                                 Central   \n6                          Double Glazing   \n7                             Gas Central   \n15                            Gas Central   \n\n   RTD3318_heating2 - Heating Description  \\\n0                                Electric   \n2                             Gas Central   \n6                             Gas Central   \n7                                     NaN   \n15                                    NaN   \n\n   RTD3318_heating3 - Heating Description  \\\n0                           Night Storage   \n2                          Double Glazing   \n6                             Under Floor   \n7                                     NaN   \n15                                    NaN   \n\n   RTD3317_accessibility1 - accessibility Description  \\\n0                   Not suitable for wheelchair users   \n2                                                 NaN   \n6                                                 NaN   \n7                                        Level access   \n15                                       Level access   \n\n   RTD3317_accessibility2 - accessibility Description  \\\n0                                                 NaN   \n2                                                 NaN   \n6                                                 NaN   \n7                                                 NaN   \n15                                                NaN   \n\n   RTD3317_accessibility3 - accessibility Description  \\\n0                                                 NaN   \n2                                                 NaN   \n6                                                 NaN   \n7                                                 NaN   \n15                                                NaN   \n\n   RTD3316_condition1 - Condition Description  \n0                                        Good  \n2                                        Good  \n6                                        Good  \n7                                        Good  \n15                                       Good  \n\n[5 rows x 21 columns]",
      "text/html": "<div>\n<style scoped>\n    .dataframe tbody tr th:only-of-type {\n        vertical-align: middle;\n    }\n\n    .dataframe tbody tr th {\n        vertical-align: top;\n    }\n\n    .dataframe thead th {\n        text-align: right;\n    }\n</style>\n<table border=\"1\" class=\"dataframe\">\n  <thead>\n    <tr style=\"text-align: right;\">\n      <th></th>\n      <th>Postcode</th>\n      <th>Sale or Let</th>\n      <th>EweMove Description S3 Rooms</th>\n      <th>Price / Rent</th>\n      <th>Price Qualifier</th>\n      <th>DESC Council Tax Band</th>\n      <th># of Enquiry or viewings</th>\n      <th># of Apps/Offers</th>\n      <th>RTD3307_parking1 - Parking Description</th>\n      <th>RTD3307_parking2 - Parking Description</th>\n      <th>...</th>\n      <th>RTD3308_outside_space1 - Outside Space Description</th>\n      <th>RTD3308_outside_space2 - Outside Space Description</th>\n      <th>RTD3308_outside_space3 - Outside Space Description</th>\n      <th>RTD3318_heating1 - Heating Description</th>\n      <th>RTD3318_heating2 - Heating Description</th>\n      <th>RTD3318_heating3 - Heating Description</th>\n      <th>RTD3317_accessibility1 - accessibility Description</th>\n      <th>RTD3317_accessibility2 - accessibility Description</th>\n      <th>RTD3317_accessibility3 - accessibility Description</th>\n      <th>RTD3316_condition1 - Condition Description</th>\n    </tr>\n  </thead>\n  <tbody>\n    <tr>\n      <th>0</th>\n      <td>LU7 4WN</td>\n      <td>Sale</td>\n      <td>This home includes:&lt;ul&gt;&lt;li&gt;&lt;strong&gt;01 - Entran...</td>\n      <td>&lt;font color='blue'&gt;&amp;pound;140,000&lt;/font&gt;&lt;br&gt;Of...</td>\n      <td>Offers In Excess Of</td>\n      <td>Band B</td>\n      <td>32</td>\n      <td>12</td>\n      <td>Allocated</td>\n      <td>Off Street</td>\n      <td>...</td>\n      <td>Communal Garden</td>\n      <td>NaN</td>\n      <td>NaN</td>\n      <td>Double Glazing</td>\n      <td>Electric</td>\n      <td>Night Storage</td>\n      <td>Not suitable for wheelchair users</td>\n      <td>NaN</td>\n      <td>NaN</td>\n      <td>Good</td>\n    </tr>\n    <tr>\n      <th>2</th>\n      <td>DA17 5PJ</td>\n      <td>Sale</td>\n      <td>This home includes:&lt;ul&gt;&lt;li&gt;&lt;strong&gt;01 - Entran...</td>\n      <td>&lt;font color='blue'&gt;&amp;pound;325,000&lt;/font&gt;&lt;br&gt;Gu...</td>\n      <td>Guide Price</td>\n      <td>Band D</td>\n      <td>14</td>\n      <td>4</td>\n      <td>On Street</td>\n      <td>NaN</td>\n      <td>...</td>\n      <td>Rear Garden</td>\n      <td>Private Garden</td>\n      <td>NaN</td>\n      <td>Central</td>\n      <td>Gas Central</td>\n      <td>Double Glazing</td>\n      <td>NaN</td>\n      <td>NaN</td>\n      <td>NaN</td>\n      <td>Good</td>\n    </tr>\n    <tr>\n      <th>6</th>\n      <td>RG26 5PX</td>\n      <td>Sale</td>\n      <td>This home includes:&lt;ul&gt;&lt;li&gt;&lt;strong&gt;01 - Living...</td>\n      <td>&lt;font color='blue'&gt;&amp;pound;500,000&lt;/font&gt;&lt;br&gt;Gu...</td>\n      <td>Guide Price</td>\n      <td>Band E</td>\n      <td>10</td>\n      <td>2</td>\n      <td>Driveway</td>\n      <td>Garage</td>\n      <td>...</td>\n      <td>Back Garden</td>\n      <td>Enclosed Garden</td>\n      <td>Patio</td>\n      <td>Double Glazing</td>\n      <td>Gas Central</td>\n      <td>Under Floor</td>\n      <td>NaN</td>\n      <td>NaN</td>\n      <td>NaN</td>\n      <td>Good</td>\n    </tr>\n    <tr>\n      <th>7</th>\n      <td>BD8 0HT</td>\n      <td>Sale</td>\n      <td>This home includes:&lt;ul&gt;&lt;li&gt;&lt;strong&gt;01 - Hallwa...</td>\n      <td>&lt;font color='blue'&gt;&amp;pound;170,000&lt;/font&gt;&lt;br&gt;Of...</td>\n      <td>Offers in Region Of</td>\n      <td>Band B</td>\n      <td>9</td>\n      <td>1</td>\n      <td>Driveway</td>\n      <td>NaN</td>\n      <td>...</td>\n      <td>Front Garden</td>\n      <td>Rear Garden</td>\n      <td>NaN</td>\n      <td>Gas Central</td>\n      <td>NaN</td>\n      <td>NaN</td>\n      <td>Level access</td>\n      <td>NaN</td>\n      <td>NaN</td>\n      <td>Good</td>\n    </tr>\n    <tr>\n      <th>15</th>\n      <td>HU17 7AB</td>\n      <td>Sale</td>\n      <td>This home includes:&lt;ul&gt;&lt;li&gt;&lt;strong&gt;01 - Entran...</td>\n      <td>&lt;font color='blue'&gt;&amp;pound;410,000&lt;/font&gt;&lt;br&gt;Of...</td>\n      <td>Offers Over</td>\n      <td>Band B</td>\n      <td>1</td>\n      <td>2</td>\n      <td>Off Street</td>\n      <td>Allocated</td>\n      <td>...</td>\n      <td>Rear Garden</td>\n      <td>NaN</td>\n      <td>NaN</td>\n      <td>Gas Central</td>\n      <td>NaN</td>\n      <td>NaN</td>\n      <td>Level access</td>\n      <td>NaN</td>\n      <td>NaN</td>\n      <td>Good</td>\n    </tr>\n  </tbody>\n</table>\n<p>5 rows × 21 columns</p>\n</div>"
     },
     "execution_count": 9,
     "metadata": {},
     "output_type": "execute_result"
    }
   ],
   "source": [
    "parking_names = [i for i in data.columns if \"parking\" in i]\n",
    "outside_names = [i for i in data.columns if \"outside\" in i]\n",
    "heating_names = [i for i in data.columns if \"heating\" in i]\n",
    "accessibility_names = [i for i in data.columns if \"accessibility\" in i]\n",
    "condition_names = [i for i in data.columns if \"condition\" in i]\n",
    "column_names = [\"Postcode\", \"Sale or Let\", \"EweMove Description S3 Rooms\", \"Price / Rent\",\n",
    "                \"Price Qualifier\", \"DESC Council Tax Band\", \"# of Enquiry or viewings\", \"# of Apps/Offers\"]\n",
    "column_names += parking_names + outside_names + heating_names + accessibility_names + condition_names\n",
    "\n",
    "valid_indices = sorted(list(valid_indices))\n",
    "input_data = data.iloc[valid_indices][column_names]\n",
    "input_data.head()"
   ],
   "metadata": {
    "collapsed": false,
    "pycharm": {
     "name": "#%%\n"
    }
   }
  },
  {
   "cell_type": "code",
   "execution_count": 10,
   "outputs": [
    {
     "data": {
      "text/plain": "    Postcode Sale or Let      Price Qualifier DESC Council Tax Band  \\\n0    LU7 4WN        Sale  Offers In Excess Of                Band B   \n2   DA17 5PJ        Sale          Guide Price                Band D   \n6   RG26 5PX        Sale          Guide Price                Band E   \n7    BD8 0HT        Sale  Offers in Region Of                Band B   \n15  HU17 7AB        Sale          Offers Over                Band B   \n\n    # of Enquiry or viewings  # of Apps/Offers  \\\n0                         32                12   \n2                         14                 4   \n6                         10                 2   \n7                          9                 1   \n15                         1                 2   \n\n   RTD3307_parking1 - Parking Description  \\\n0                               Allocated   \n2                               On Street   \n6                                Driveway   \n7                                Driveway   \n15                             Off Street   \n\n   RTD3307_parking2 - Parking Description  \\\n0                              Off Street   \n2                                     NaN   \n6                                  Garage   \n7                                     NaN   \n15                              Allocated   \n\n   RTD3307_parking3 - Parking Description  \\\n0                               Residents   \n2                                     NaN   \n6                              Off Street   \n7                                     NaN   \n15                                    NaN   \n\n   RTD3308_outside_space1 - Outside Space Description  \\\n0                                     Communal Garden   \n2                                         Rear Garden   \n6                                         Back Garden   \n7                                        Front Garden   \n15                                        Rear Garden   \n\n   RTD3308_outside_space2 - Outside Space Description  \\\n0                                                 NaN   \n2                                      Private Garden   \n6                                     Enclosed Garden   \n7                                         Rear Garden   \n15                                                NaN   \n\n   RTD3308_outside_space3 - Outside Space Description  \\\n0                                                 NaN   \n2                                                 NaN   \n6                                               Patio   \n7                                                 NaN   \n15                                                NaN   \n\n   RTD3318_heating1 - Heating Description  \\\n0                          Double Glazing   \n2                                 Central   \n6                          Double Glazing   \n7                             Gas Central   \n15                            Gas Central   \n\n   RTD3318_heating2 - Heating Description  \\\n0                                Electric   \n2                             Gas Central   \n6                             Gas Central   \n7                                     NaN   \n15                                    NaN   \n\n   RTD3318_heating3 - Heating Description  \\\n0                           Night Storage   \n2                          Double Glazing   \n6                             Under Floor   \n7                                     NaN   \n15                                    NaN   \n\n   RTD3317_accessibility1 - accessibility Description  \\\n0                   Not suitable for wheelchair users   \n2                                                 NaN   \n6                                                 NaN   \n7                                        Level access   \n15                                       Level access   \n\n   RTD3317_accessibility2 - accessibility Description  \\\n0                                                 NaN   \n2                                                 NaN   \n6                                                 NaN   \n7                                                 NaN   \n15                                                NaN   \n\n   RTD3317_accessibility3 - accessibility Description  \\\n0                                                 NaN   \n2                                                 NaN   \n6                                                 NaN   \n7                                                 NaN   \n15                                                NaN   \n\n   RTD3316_condition1 - Condition Description  \n0                                        Good  \n2                                        Good  \n6                                        Good  \n7                                        Good  \n15                                       Good  ",
      "text/html": "<div>\n<style scoped>\n    .dataframe tbody tr th:only-of-type {\n        vertical-align: middle;\n    }\n\n    .dataframe tbody tr th {\n        vertical-align: top;\n    }\n\n    .dataframe thead th {\n        text-align: right;\n    }\n</style>\n<table border=\"1\" class=\"dataframe\">\n  <thead>\n    <tr style=\"text-align: right;\">\n      <th></th>\n      <th>Postcode</th>\n      <th>Sale or Let</th>\n      <th>Price Qualifier</th>\n      <th>DESC Council Tax Band</th>\n      <th># of Enquiry or viewings</th>\n      <th># of Apps/Offers</th>\n      <th>RTD3307_parking1 - Parking Description</th>\n      <th>RTD3307_parking2 - Parking Description</th>\n      <th>RTD3307_parking3 - Parking Description</th>\n      <th>RTD3308_outside_space1 - Outside Space Description</th>\n      <th>RTD3308_outside_space2 - Outside Space Description</th>\n      <th>RTD3308_outside_space3 - Outside Space Description</th>\n      <th>RTD3318_heating1 - Heating Description</th>\n      <th>RTD3318_heating2 - Heating Description</th>\n      <th>RTD3318_heating3 - Heating Description</th>\n      <th>RTD3317_accessibility1 - accessibility Description</th>\n      <th>RTD3317_accessibility2 - accessibility Description</th>\n      <th>RTD3317_accessibility3 - accessibility Description</th>\n      <th>RTD3316_condition1 - Condition Description</th>\n    </tr>\n  </thead>\n  <tbody>\n    <tr>\n      <th>0</th>\n      <td>LU7 4WN</td>\n      <td>Sale</td>\n      <td>Offers In Excess Of</td>\n      <td>Band B</td>\n      <td>32</td>\n      <td>12</td>\n      <td>Allocated</td>\n      <td>Off Street</td>\n      <td>Residents</td>\n      <td>Communal Garden</td>\n      <td>NaN</td>\n      <td>NaN</td>\n      <td>Double Glazing</td>\n      <td>Electric</td>\n      <td>Night Storage</td>\n      <td>Not suitable for wheelchair users</td>\n      <td>NaN</td>\n      <td>NaN</td>\n      <td>Good</td>\n    </tr>\n    <tr>\n      <th>2</th>\n      <td>DA17 5PJ</td>\n      <td>Sale</td>\n      <td>Guide Price</td>\n      <td>Band D</td>\n      <td>14</td>\n      <td>4</td>\n      <td>On Street</td>\n      <td>NaN</td>\n      <td>NaN</td>\n      <td>Rear Garden</td>\n      <td>Private Garden</td>\n      <td>NaN</td>\n      <td>Central</td>\n      <td>Gas Central</td>\n      <td>Double Glazing</td>\n      <td>NaN</td>\n      <td>NaN</td>\n      <td>NaN</td>\n      <td>Good</td>\n    </tr>\n    <tr>\n      <th>6</th>\n      <td>RG26 5PX</td>\n      <td>Sale</td>\n      <td>Guide Price</td>\n      <td>Band E</td>\n      <td>10</td>\n      <td>2</td>\n      <td>Driveway</td>\n      <td>Garage</td>\n      <td>Off Street</td>\n      <td>Back Garden</td>\n      <td>Enclosed Garden</td>\n      <td>Patio</td>\n      <td>Double Glazing</td>\n      <td>Gas Central</td>\n      <td>Under Floor</td>\n      <td>NaN</td>\n      <td>NaN</td>\n      <td>NaN</td>\n      <td>Good</td>\n    </tr>\n    <tr>\n      <th>7</th>\n      <td>BD8 0HT</td>\n      <td>Sale</td>\n      <td>Offers in Region Of</td>\n      <td>Band B</td>\n      <td>9</td>\n      <td>1</td>\n      <td>Driveway</td>\n      <td>NaN</td>\n      <td>NaN</td>\n      <td>Front Garden</td>\n      <td>Rear Garden</td>\n      <td>NaN</td>\n      <td>Gas Central</td>\n      <td>NaN</td>\n      <td>NaN</td>\n      <td>Level access</td>\n      <td>NaN</td>\n      <td>NaN</td>\n      <td>Good</td>\n    </tr>\n    <tr>\n      <th>15</th>\n      <td>HU17 7AB</td>\n      <td>Sale</td>\n      <td>Offers Over</td>\n      <td>Band B</td>\n      <td>1</td>\n      <td>2</td>\n      <td>Off Street</td>\n      <td>Allocated</td>\n      <td>NaN</td>\n      <td>Rear Garden</td>\n      <td>NaN</td>\n      <td>NaN</td>\n      <td>Gas Central</td>\n      <td>NaN</td>\n      <td>NaN</td>\n      <td>Level access</td>\n      <td>NaN</td>\n      <td>NaN</td>\n      <td>Good</td>\n    </tr>\n  </tbody>\n</table>\n</div>"
     },
     "execution_count": 10,
     "metadata": {},
     "output_type": "execute_result"
    }
   ],
   "source": [
    "general_data = input_data.loc[:, ~input_data.columns.isin([\"EweMove Description S3 Rooms\", \"Price / Rent\"])]\n",
    "general_data.head()"
   ],
   "metadata": {
    "collapsed": false,
    "pycharm": {
     "name": "#%%\n"
    }
   }
  },
  {
   "cell_type": "markdown",
   "source": [
    "## Price for sale and rental"
   ],
   "metadata": {
    "collapsed": false,
    "pycharm": {
     "name": "#%% md\n"
    }
   }
  },
  {
   "cell_type": "code",
   "execution_count": 11,
   "outputs": [],
   "source": [
    "prices = [handler.price_or_rent[i][0] for i in valid_indices]\n",
    "prices = pd.DataFrame(prices)\n",
    "rename_dict = {i: j for i, j in zip(range(len(prices)), valid_indices)}\n",
    "prices = prices.rename(index=rename_dict)"
   ],
   "metadata": {
    "collapsed": false,
    "pycharm": {
     "name": "#%%\n"
    }
   }
  },
  {
   "cell_type": "markdown",
   "source": [
    "### Sale price"
   ],
   "metadata": {
    "collapsed": false,
    "pycharm": {
     "name": "#%% md\n"
    }
   }
  },
  {
   "cell_type": "code",
   "execution_count": 12,
   "outputs": [
    {
     "data": {
      "text/plain": "Text(0.5, 1.0, 'Sale Price')"
     },
     "execution_count": 12,
     "metadata": {},
     "output_type": "execute_result"
    },
    {
     "data": {
      "text/plain": "<Figure size 401.625x360 with 1 Axes>",
      "image/png": "[encoded data removed]"
     },
     "metadata": {},
     "output_type": "display_data"
    }
   ],
   "source": [
    "sale_prices = prices[general_data[\"Sale or Let\"] == \"Sale\"]\n",
    "sns.displot(sale_prices)\n",
    "plt.title(\"Sale Price\")"
   ],
   "metadata": {
    "collapsed": false,
    "pycharm": {
     "name": "#%%\n"
    }
   }
  },
  {
   "cell_type": "code",
   "execution_count": 13,
   "outputs": [
    {
     "data": {
      "text/plain": "Text(0.5, 1.0, 'Rental Price')"
     },
     "execution_count": 13,
     "metadata": {},
     "output_type": "execute_result"
    },
    {
     "data": {
      "text/plain": "<Figure size 401.625x360 with 1 Axes>",
      "image/png": "[encoded data removed]"
     },
     "metadata": {},
     "output_type": "display_data"
    }
   ],
   "source": [
    "rental_price = prices[general_data[\"Sale or Let\"] == \"Rental\"]\n",
    "sns.displot(rental_price)\n",
    "plt.title(\"Rental Price\")"
   ],
   "metadata": {
    "collapsed": false,
    "pycharm": {
     "name": "#%%\n"
    }
   }
  },
  {
   "cell_type": "markdown",
   "source": [
    "## Extract room information"
   ],
   "metadata": {
    "collapsed": false,
    "pycharm": {
     "name": "#%% md\n"
    }
   }
  },
  {
   "cell_type": "code",
   "execution_count": 14,
   "outputs": [],
   "source": [
    "rooms = [handler.s3_rooms[i] for i in valid_indices]\n",
    "extract_room = ExtractRooms(rooms, handler.s3_rooms_set, \"{} ({} sqm){}\")"
   ],
   "metadata": {
    "collapsed": false,
    "pycharm": {
     "name": "#%%\n"
    }
   }
  },
  {
   "cell_type": "markdown",
   "source": [
    "### Bedrooms"
   ],
   "metadata": {
    "collapsed": false,
    "pycharm": {
     "name": "#%% md\n"
    }
   }
  },
  {
   "cell_type": "code",
   "execution_count": 15,
   "outputs": [],
   "source": [
    "bedrooms = extract_room.get_rooms(\"bedroom\")"
   ],
   "metadata": {
    "collapsed": false,
    "pycharm": {
     "name": "#%%\n"
    }
   }
  },
  {
   "cell_type": "code",
   "execution_count": 16,
   "outputs": [
    {
     "data": {
      "text/plain": "   bedroom 1  bedroom 2  bedroom 3  bedroom 4  bedroom 5  bedroom 6\n0        8.2        6.2        0.0        0.0        0.0        0.0\n1       13.1        7.7       10.4        0.0        0.0        0.0\n2       13.7        9.4        9.6        0.0        0.0        0.0\n3       13.6        8.6        5.2        0.0        0.0        0.0\n4       14.9       13.1       14.6        0.0        0.0        0.0",
      "text/html": "<div>\n<style scoped>\n    .dataframe tbody tr th:only-of-type {\n        vertical-align: middle;\n    }\n\n    .dataframe tbody tr th {\n        vertical-align: top;\n    }\n\n    .dataframe thead th {\n        text-align: right;\n    }\n</style>\n<table border=\"1\" class=\"dataframe\">\n  <thead>\n    <tr style=\"text-align: right;\">\n      <th></th>\n      <th>bedroom 1</th>\n      <th>bedroom 2</th>\n      <th>bedroom 3</th>\n      <th>bedroom 4</th>\n      <th>bedroom 5</th>\n      <th>bedroom 6</th>\n    </tr>\n  </thead>\n  <tbody>\n    <tr>\n      <th>0</th>\n      <td>8.2</td>\n      <td>6.2</td>\n      <td>0.0</td>\n      <td>0.0</td>\n      <td>0.0</td>\n      <td>0.0</td>\n    </tr>\n    <tr>\n      <th>1</th>\n      <td>13.1</td>\n      <td>7.7</td>\n      <td>10.4</td>\n      <td>0.0</td>\n      <td>0.0</td>\n      <td>0.0</td>\n    </tr>\n    <tr>\n      <th>2</th>\n      <td>13.7</td>\n      <td>9.4</td>\n      <td>9.6</td>\n      <td>0.0</td>\n      <td>0.0</td>\n      <td>0.0</td>\n    </tr>\n    <tr>\n      <th>3</th>\n      <td>13.6</td>\n      <td>8.6</td>\n      <td>5.2</td>\n      <td>0.0</td>\n      <td>0.0</td>\n      <td>0.0</td>\n    </tr>\n    <tr>\n      <th>4</th>\n      <td>14.9</td>\n      <td>13.1</td>\n      <td>14.6</td>\n      <td>0.0</td>\n      <td>0.0</td>\n      <td>0.0</td>\n    </tr>\n  </tbody>\n</table>\n</div>"
     },
     "execution_count": 16,
     "metadata": {},
     "output_type": "execute_result"
    }
   ],
   "source": [
    "bedrooms = pd.DataFrame(bedrooms)\n",
    "rename_dict = {str(i): \"bedroom {}\".format(i + 1) for i in range(6)}\n",
    "bedrooms = bedrooms.rename(columns=rename_dict)\n",
    "bedrooms.head()"
   ],
   "metadata": {
    "collapsed": false,
    "pycharm": {
     "name": "#%%\n"
    }
   }
  },
  {
   "cell_type": "markdown",
   "source": [
    "### Kitchens"
   ],
   "metadata": {
    "collapsed": false,
    "pycharm": {
     "name": "#%% md\n"
    }
   }
  },
  {
   "cell_type": "code",
   "execution_count": 17,
   "outputs": [],
   "source": [
    "kitchens = extract_room.get_rooms(\"kitchen\", operation=\"number\")"
   ],
   "metadata": {
    "collapsed": false,
    "pycharm": {
     "name": "#%%\n"
    }
   }
  },
  {
   "cell_type": "code",
   "execution_count": 18,
   "outputs": [
    {
     "data": {
      "text/plain": "   kitchen number\n0               1\n1               1\n2               1\n3               1\n4               1",
      "text/html": "<div>\n<style scoped>\n    .dataframe tbody tr th:only-of-type {\n        vertical-align: middle;\n    }\n\n    .dataframe tbody tr th {\n        vertical-align: top;\n    }\n\n    .dataframe thead th {\n        text-align: right;\n    }\n</style>\n<table border=\"1\" class=\"dataframe\">\n  <thead>\n    <tr style=\"text-align: right;\">\n      <th></th>\n      <th>kitchen number</th>\n    </tr>\n  </thead>\n  <tbody>\n    <tr>\n      <th>0</th>\n      <td>1</td>\n    </tr>\n    <tr>\n      <th>1</th>\n      <td>1</td>\n    </tr>\n    <tr>\n      <th>2</th>\n      <td>1</td>\n    </tr>\n    <tr>\n      <th>3</th>\n      <td>1</td>\n    </tr>\n    <tr>\n      <th>4</th>\n      <td>1</td>\n    </tr>\n  </tbody>\n</table>\n</div>"
     },
     "execution_count": 18,
     "metadata": {},
     "output_type": "execute_result"
    }
   ],
   "source": [
    "kitchens = pd.DataFrame(kitchens)\n",
    "kitchens = kitchens.rename(columns={0: \"kitchen number\"})\n",
    "kitchens.head()"
   ],
   "metadata": {
    "collapsed": false,
    "pycharm": {
     "name": "#%%\n"
    }
   }
  },
  {
   "cell_type": "markdown",
   "source": [
    "### Living/Reception"
   ],
   "metadata": {
    "collapsed": false,
    "pycharm": {
     "name": "#%% md\n"
    }
   }
  },
  {
   "cell_type": "code",
   "execution_count": 19,
   "outputs": [],
   "source": [
    "receptions = extract_room.get_rooms(\"living\", \"reception\", operation=\"sum\")"
   ],
   "metadata": {
    "collapsed": false,
    "pycharm": {
     "name": "#%%\n"
    }
   }
  },
  {
   "cell_type": "code",
   "execution_count": 20,
   "outputs": [
    {
     "data": {
      "text/plain": "   living area\n0         24.8\n1          0.0\n2         17.8\n3         18.1\n4          0.0",
      "text/html": "<div>\n<style scoped>\n    .dataframe tbody tr th:only-of-type {\n        vertical-align: middle;\n    }\n\n    .dataframe tbody tr th {\n        vertical-align: top;\n    }\n\n    .dataframe thead th {\n        text-align: right;\n    }\n</style>\n<table border=\"1\" class=\"dataframe\">\n  <thead>\n    <tr style=\"text-align: right;\">\n      <th></th>\n      <th>living area</th>\n    </tr>\n  </thead>\n  <tbody>\n    <tr>\n      <th>0</th>\n      <td>24.8</td>\n    </tr>\n    <tr>\n      <th>1</th>\n      <td>0.0</td>\n    </tr>\n    <tr>\n      <th>2</th>\n      <td>17.8</td>\n    </tr>\n    <tr>\n      <th>3</th>\n      <td>18.1</td>\n    </tr>\n    <tr>\n      <th>4</th>\n      <td>0.0</td>\n    </tr>\n  </tbody>\n</table>\n</div>"
     },
     "execution_count": 20,
     "metadata": {},
     "output_type": "execute_result"
    }
   ],
   "source": [
    "receptions = pd.DataFrame(receptions)\n",
    "receptions = receptions.rename(columns={0: \"living area\"})\n",
    "receptions.head()"
   ],
   "metadata": {
    "collapsed": false,
    "pycharm": {
     "name": "#%%\n"
    }
   }
  },
  {
   "cell_type": "markdown",
   "source": [
    "### Bathrooms"
   ],
   "metadata": {
    "collapsed": false,
    "pycharm": {
     "name": "#%% md\n"
    }
   }
  },
  {
   "cell_type": "code",
   "execution_count": 21,
   "outputs": [],
   "source": [
    "bathrooms = extract_room.get_rooms(\"bathroom\", \"wc\", \"washroom\", operation=\"number\")"
   ],
   "metadata": {
    "collapsed": false,
    "pycharm": {
     "name": "#%%\n"
    }
   }
  },
  {
   "cell_type": "code",
   "execution_count": 22,
   "outputs": [
    {
     "data": {
      "text/plain": "   bathroom number\n0                1\n1                2\n2                0\n3                1\n4                0",
      "text/html": "<div>\n<style scoped>\n    .dataframe tbody tr th:only-of-type {\n        vertical-align: middle;\n    }\n\n    .dataframe tbody tr th {\n        vertical-align: top;\n    }\n\n    .dataframe thead th {\n        text-align: right;\n    }\n</style>\n<table border=\"1\" class=\"dataframe\">\n  <thead>\n    <tr style=\"text-align: right;\">\n      <th></th>\n      <th>bathroom number</th>\n    </tr>\n  </thead>\n  <tbody>\n    <tr>\n      <th>0</th>\n      <td>1</td>\n    </tr>\n    <tr>\n      <th>1</th>\n      <td>2</td>\n    </tr>\n    <tr>\n      <th>2</th>\n      <td>0</td>\n    </tr>\n    <tr>\n      <th>3</th>\n      <td>1</td>\n    </tr>\n    <tr>\n      <th>4</th>\n      <td>0</td>\n    </tr>\n  </tbody>\n</table>\n</div>"
     },
     "execution_count": 22,
     "metadata": {},
     "output_type": "execute_result"
    }
   ],
   "source": [
    "bathrooms = pd.DataFrame(bathrooms)\n",
    "bathrooms = bathrooms.rename(columns={0: \"bathroom number\"})\n",
    "bathrooms.head()"
   ],
   "metadata": {
    "collapsed": false,
    "pycharm": {
     "name": "#%%\n"
    }
   }
  },
  {
   "cell_type": "markdown",
   "source": [
    "### Dining"
   ],
   "metadata": {
    "collapsed": false,
    "pycharm": {
     "name": "#%% md\n"
    }
   }
  },
  {
   "cell_type": "code",
   "execution_count": 23,
   "outputs": [],
   "source": [
    "dining_rooms = extract_room.get_rooms(\"dining\", operation=\"number\")"
   ],
   "metadata": {
    "collapsed": false,
    "pycharm": {
     "name": "#%%\n"
    }
   }
  },
  {
   "cell_type": "code",
   "execution_count": 24,
   "outputs": [
    {
     "data": {
      "text/plain": "   dining number\n0              1\n1              0\n2              1\n3              1\n4              1",
      "text/html": "<div>\n<style scoped>\n    .dataframe tbody tr th:only-of-type {\n        vertical-align: middle;\n    }\n\n    .dataframe tbody tr th {\n        vertical-align: top;\n    }\n\n    .dataframe thead th {\n        text-align: right;\n    }\n</style>\n<table border=\"1\" class=\"dataframe\">\n  <thead>\n    <tr style=\"text-align: right;\">\n      <th></th>\n      <th>dining number</th>\n    </tr>\n  </thead>\n  <tbody>\n    <tr>\n      <th>0</th>\n      <td>1</td>\n    </tr>\n    <tr>\n      <th>1</th>\n      <td>0</td>\n    </tr>\n    <tr>\n      <th>2</th>\n      <td>1</td>\n    </tr>\n    <tr>\n      <th>3</th>\n      <td>1</td>\n    </tr>\n    <tr>\n      <th>4</th>\n      <td>1</td>\n    </tr>\n  </tbody>\n</table>\n</div>"
     },
     "execution_count": 24,
     "metadata": {},
     "output_type": "execute_result"
    }
   ],
   "source": [
    "dining_rooms = pd.DataFrame(dining_rooms)\n",
    "dining_rooms = dining_rooms.rename(columns={0: \"dining number\"})\n",
    "dining_rooms.head()"
   ],
   "metadata": {
    "collapsed": false,
    "pycharm": {
     "name": "#%%\n"
    }
   }
  },
  {
   "cell_type": "markdown",
   "source": [
    "### Other spaces"
   ],
   "metadata": {
    "collapsed": false,
    "pycharm": {
     "name": "#%% md\n"
    }
   }
  },
  {
   "cell_type": "code",
   "execution_count": 25,
   "outputs": [],
   "source": [
    "others = extract_room.get_rest_rooms()"
   ],
   "metadata": {
    "collapsed": false,
    "pycharm": {
     "name": "#%%\n"
    }
   }
  },
  {
   "cell_type": "code",
   "execution_count": 26,
   "outputs": [
    {
     "data": {
      "text/plain": "   other number  other area\n0             3         0.0\n1             4        27.3\n2             2        17.2\n3             4        19.5\n4             8        36.9",
      "text/html": "<div>\n<style scoped>\n    .dataframe tbody tr th:only-of-type {\n        vertical-align: middle;\n    }\n\n    .dataframe tbody tr th {\n        vertical-align: top;\n    }\n\n    .dataframe thead th {\n        text-align: right;\n    }\n</style>\n<table border=\"1\" class=\"dataframe\">\n  <thead>\n    <tr style=\"text-align: right;\">\n      <th></th>\n      <th>other number</th>\n      <th>other area</th>\n    </tr>\n  </thead>\n  <tbody>\n    <tr>\n      <th>0</th>\n      <td>3</td>\n      <td>0.0</td>\n    </tr>\n    <tr>\n      <th>1</th>\n      <td>4</td>\n      <td>27.3</td>\n    </tr>\n    <tr>\n      <th>2</th>\n      <td>2</td>\n      <td>17.2</td>\n    </tr>\n    <tr>\n      <th>3</th>\n      <td>4</td>\n      <td>19.5</td>\n    </tr>\n    <tr>\n      <th>4</th>\n      <td>8</td>\n      <td>36.9</td>\n    </tr>\n  </tbody>\n</table>\n</div>"
     },
     "execution_count": 26,
     "metadata": {},
     "output_type": "execute_result"
    }
   ],
   "source": [
    "others = pd.DataFrame(others)\n",
    "others = others.rename(columns={0: \"other number\", 1: \"other area\"})\n",
    "others.head()"
   ],
   "metadata": {
    "collapsed": false,
    "pycharm": {
     "name": "#%%\n"
    }
   }
  },
  {
   "cell_type": "code",
   "execution_count": 27,
   "outputs": [
    {
     "data": {
      "text/plain": "   bedroom 1  bedroom 2  bedroom 3  bedroom 4  bedroom 5  bedroom 6  \\\n0        8.2        6.2        0.0        0.0        0.0        0.0   \n1       13.1        7.7       10.4        0.0        0.0        0.0   \n2       13.7        9.4        9.6        0.0        0.0        0.0   \n3       13.6        8.6        5.2        0.0        0.0        0.0   \n4       14.9       13.1       14.6        0.0        0.0        0.0   \n\n   kitchen number  living area  bathroom number  dining number  other number  \\\n0               1         24.8                1              1             3   \n1               1          0.0                2              0             4   \n2               1         17.8                0              1             2   \n3               1         18.1                1              1             4   \n4               1          0.0                0              1             8   \n\n   other area  \n0         0.0  \n1        27.3  \n2        17.2  \n3        19.5  \n4        36.9  ",
      "text/html": "<div>\n<style scoped>\n    .dataframe tbody tr th:only-of-type {\n        vertical-align: middle;\n    }\n\n    .dataframe tbody tr th {\n        vertical-align: top;\n    }\n\n    .dataframe thead th {\n        text-align: right;\n    }\n</style>\n<table border=\"1\" class=\"dataframe\">\n  <thead>\n    <tr style=\"text-align: right;\">\n      <th></th>\n      <th>bedroom 1</th>\n      <th>bedroom 2</th>\n      <th>bedroom 3</th>\n      <th>bedroom 4</th>\n      <th>bedroom 5</th>\n      <th>bedroom 6</th>\n      <th>kitchen number</th>\n      <th>living area</th>\n      <th>bathroom number</th>\n      <th>dining number</th>\n      <th>other number</th>\n      <th>other area</th>\n    </tr>\n  </thead>\n  <tbody>\n    <tr>\n      <th>0</th>\n      <td>8.2</td>\n      <td>6.2</td>\n      <td>0.0</td>\n      <td>0.0</td>\n      <td>0.0</td>\n      <td>0.0</td>\n      <td>1</td>\n      <td>24.8</td>\n      <td>1</td>\n      <td>1</td>\n      <td>3</td>\n      <td>0.0</td>\n    </tr>\n    <tr>\n      <th>1</th>\n      <td>13.1</td>\n      <td>7.7</td>\n      <td>10.4</td>\n      <td>0.0</td>\n      <td>0.0</td>\n      <td>0.0</td>\n      <td>1</td>\n      <td>0.0</td>\n      <td>2</td>\n      <td>0</td>\n      <td>4</td>\n      <td>27.3</td>\n    </tr>\n    <tr>\n      <th>2</th>\n      <td>13.7</td>\n      <td>9.4</td>\n      <td>9.6</td>\n      <td>0.0</td>\n      <td>0.0</td>\n      <td>0.0</td>\n      <td>1</td>\n      <td>17.8</td>\n      <td>0</td>\n      <td>1</td>\n      <td>2</td>\n      <td>17.2</td>\n    </tr>\n    <tr>\n      <th>3</th>\n      <td>13.6</td>\n      <td>8.6</td>\n      <td>5.2</td>\n      <td>0.0</td>\n      <td>0.0</td>\n      <td>0.0</td>\n      <td>1</td>\n      <td>18.1</td>\n      <td>1</td>\n      <td>1</td>\n      <td>4</td>\n      <td>19.5</td>\n    </tr>\n    <tr>\n      <th>4</th>\n      <td>14.9</td>\n      <td>13.1</td>\n      <td>14.6</td>\n      <td>0.0</td>\n      <td>0.0</td>\n      <td>0.0</td>\n      <td>1</td>\n      <td>0.0</td>\n      <td>0</td>\n      <td>1</td>\n      <td>8</td>\n      <td>36.9</td>\n    </tr>\n  </tbody>\n</table>\n</div>"
     },
     "execution_count": 27,
     "metadata": {},
     "output_type": "execute_result"
    }
   ],
   "source": [
    "room_info = pd.concat([bedrooms, kitchens, receptions, bathrooms, dining_rooms, others], axis=1)\n",
    "room_info.head()"
   ],
   "metadata": {
    "collapsed": false,
    "pycharm": {
     "name": "#%%\n"
    }
   }
  },
  {
   "cell_type": "code",
   "execution_count": 81,
   "outputs": [
    {
     "data": {
      "text/plain": "   Postcode     Created  Advertised      Agreed   Completed  \\\n0   LU7 4WN  03/04/2019  03/04/2019         NaN         NaN   \n1   L23 6YD  21/03/2019  24/03/2019  05/04/2021  28/06/2021   \n2  DA17 5PJ  25/03/2019  03/04/2019  25/01/2021  15/03/2021   \n3   NW4 1AP  28/06/2019  04/07/2019         NaN         NaN   \n4   GL7 5UX  12/06/2019  09/08/2019  13/04/2021  05/07/2021   \n\n  Date Listing Last Cancelled Sale or Let  \\\n0                  28/02/2022        Sale   \n1                  26/02/2020        Sale   \n2                  13/06/2019        Sale   \n3                         NaN        Sale   \n4                         NaN        Sale   \n\n  RTD3308_outside_space1 - Outside Space Description  \\\n0                                    Communal Garden   \n1                                                NaN   \n2                                        Rear Garden   \n3                                                NaN   \n4                                        Back Garden   \n\n                     EweMove Description S1 Features  \\\n0  <ul><li>CASH BUYERS ONLY</li><li>No Upper Chai...   \n1  <ul><li>Sea Views</li><li>Very Popular Locatio...   \n2  <ul><li>Call NOW 24/7 or book instantly online...   \n3  <ul><li>5 bed link detached FREEHOLD house wit...   \n4  <ul><li>Four Bedrooms</li><li>Detached</li><li...   \n\n                  EweMove Description S2 Description  ...  \\\n0  Cash Buyers... You could pounce super quick on...  ...   \n1  WATCHING THE SHIPS ROLL IN - from your very ow...  ...   \n2  Guide price &pound;325,000 - &pound;350,000.Lo...  ...   \n3  EweMove Hampstead - A rare opportunity to acqu...  ...   \n4  For anyone looking for a family home in South ...  ...   \n\n                                        Price / Rent      Price Qualifier  \\\n0  <font color='blue'>&pound;140,000</font><br>Of...  Offers In Excess Of   \n1  <font color='blue'>&pound;325,000</font><br>Of...          Offers Over   \n2  <font color='blue'>&pound;325,000</font><br>Gu...          Guide Price   \n3  <font color='blue'>&pound;1,095,000</font><br>...          Guide Price   \n4       <font color='blue'>&pound;395,000</font><br>                  NaN   \n\n  Sale Price % Achieved Current EPC - EPC Expiry Date DESC Council Tax Band  \\\n0               130.71%                    11/03/2028                Band B   \n1                   NaN                    28/03/2029                Band E   \n2                   NaN                    12/07/2028                Band D   \n3                   NaN                    30/06/2029                   NaN   \n4               100.00%                    30/06/2024                   NaN   \n\n  DESC Leasehold Ground Rent DESC Leasehold Service Charge  \\\n0                        NaN                           NaN   \n1                        NaN                           NaN   \n2                        NaN                           NaN   \n3                        NaN                           NaN   \n4                        NaN                           NaN   \n\n  ZPG_lease_expiry_years_remaining # of Enquiry or viewings # of Apps/Offers  \n0                             68.0                       32               12  \n1                              NaN                       15               10  \n2                              NaN                       14                4  \n3                              NaN                       13                1  \n4                              NaN                       11                9  \n\n[5 rows x 35 columns]",
      "text/html": "<div>\n<style scoped>\n    .dataframe tbody tr th:only-of-type {\n        vertical-align: middle;\n    }\n\n    .dataframe tbody tr th {\n        vertical-align: top;\n    }\n\n    .dataframe thead th {\n        text-align: right;\n    }\n</style>\n<table border=\"1\" class=\"dataframe\">\n  <thead>\n    <tr style=\"text-align: right;\">\n      <th></th>\n      <th>Postcode</th>\n      <th>Created</th>\n      <th>Advertised</th>\n      <th>Agreed</th>\n      <th>Completed</th>\n      <th>Date Listing Last Cancelled</th>\n      <th>Sale or Let</th>\n      <th>RTD3308_outside_space1 - Outside Space Description</th>\n      <th>EweMove Description S1 Features</th>\n      <th>EweMove Description S2 Description</th>\n      <th>...</th>\n      <th>Price / Rent</th>\n      <th>Price Qualifier</th>\n      <th>Sale Price % Achieved</th>\n      <th>Current EPC - EPC Expiry Date</th>\n      <th>DESC Council Tax Band</th>\n      <th>DESC Leasehold Ground Rent</th>\n      <th>DESC Leasehold Service Charge</th>\n      <th>ZPG_lease_expiry_years_remaining</th>\n      <th># of Enquiry or viewings</th>\n      <th># of Apps/Offers</th>\n    </tr>\n  </thead>\n  <tbody>\n    <tr>\n      <th>0</th>\n      <td>LU7 4WN</td>\n      <td>03/04/2019</td>\n      <td>03/04/2019</td>\n      <td>NaN</td>\n      <td>NaN</td>\n      <td>28/02/2022</td>\n      <td>Sale</td>\n      <td>Communal Garden</td>\n      <td>&lt;ul&gt;&lt;li&gt;CASH BUYERS ONLY&lt;/li&gt;&lt;li&gt;No Upper Chai...</td>\n      <td>Cash Buyers... You could pounce super quick on...</td>\n      <td>...</td>\n      <td>&lt;font color='blue'&gt;&amp;pound;140,000&lt;/font&gt;&lt;br&gt;Of...</td>\n      <td>Offers In Excess Of</td>\n      <td>130.71%</td>\n      <td>11/03/2028</td>\n      <td>Band B</td>\n      <td>NaN</td>\n      <td>NaN</td>\n      <td>68.0</td>\n      <td>32</td>\n      <td>12</td>\n    </tr>\n    <tr>\n      <th>1</th>\n      <td>L23 6YD</td>\n      <td>21/03/2019</td>\n      <td>24/03/2019</td>\n      <td>05/04/2021</td>\n      <td>28/06/2021</td>\n      <td>26/02/2020</td>\n      <td>Sale</td>\n      <td>NaN</td>\n      <td>&lt;ul&gt;&lt;li&gt;Sea Views&lt;/li&gt;&lt;li&gt;Very Popular Locatio...</td>\n      <td>WATCHING THE SHIPS ROLL IN - from your very ow...</td>\n      <td>...</td>\n      <td>&lt;font color='blue'&gt;&amp;pound;325,000&lt;/font&gt;&lt;br&gt;Of...</td>\n      <td>Offers Over</td>\n      <td>NaN</td>\n      <td>28/03/2029</td>\n      <td>Band E</td>\n      <td>NaN</td>\n      <td>NaN</td>\n      <td>NaN</td>\n      <td>15</td>\n      <td>10</td>\n    </tr>\n    <tr>\n      <th>2</th>\n      <td>DA17 5PJ</td>\n      <td>25/03/2019</td>\n      <td>03/04/2019</td>\n      <td>25/01/2021</td>\n      <td>15/03/2021</td>\n      <td>13/06/2019</td>\n      <td>Sale</td>\n      <td>Rear Garden</td>\n      <td>&lt;ul&gt;&lt;li&gt;Call NOW 24/7 or book instantly online...</td>\n      <td>Guide price &amp;pound;325,000 - &amp;pound;350,000.Lo...</td>\n      <td>...</td>\n      <td>&lt;font color='blue'&gt;&amp;pound;325,000&lt;/font&gt;&lt;br&gt;Gu...</td>\n      <td>Guide Price</td>\n      <td>NaN</td>\n      <td>12/07/2028</td>\n      <td>Band D</td>\n      <td>NaN</td>\n      <td>NaN</td>\n      <td>NaN</td>\n      <td>14</td>\n      <td>4</td>\n    </tr>\n    <tr>\n      <th>3</th>\n      <td>NW4 1AP</td>\n      <td>28/06/2019</td>\n      <td>04/07/2019</td>\n      <td>NaN</td>\n      <td>NaN</td>\n      <td>NaN</td>\n      <td>Sale</td>\n      <td>NaN</td>\n      <td>&lt;ul&gt;&lt;li&gt;5 bed link detached FREEHOLD house wit...</td>\n      <td>EweMove Hampstead - A rare opportunity to acqu...</td>\n      <td>...</td>\n      <td>&lt;font color='blue'&gt;&amp;pound;1,095,000&lt;/font&gt;&lt;br&gt;...</td>\n      <td>Guide Price</td>\n      <td>NaN</td>\n      <td>30/06/2029</td>\n      <td>NaN</td>\n      <td>NaN</td>\n      <td>NaN</td>\n      <td>NaN</td>\n      <td>13</td>\n      <td>1</td>\n    </tr>\n    <tr>\n      <th>4</th>\n      <td>GL7 5UX</td>\n      <td>12/06/2019</td>\n      <td>09/08/2019</td>\n      <td>13/04/2021</td>\n      <td>05/07/2021</td>\n      <td>NaN</td>\n      <td>Sale</td>\n      <td>Back Garden</td>\n      <td>&lt;ul&gt;&lt;li&gt;Four Bedrooms&lt;/li&gt;&lt;li&gt;Detached&lt;/li&gt;&lt;li...</td>\n      <td>For anyone looking for a family home in South ...</td>\n      <td>...</td>\n      <td>&lt;font color='blue'&gt;&amp;pound;395,000&lt;/font&gt;&lt;br&gt;</td>\n      <td>NaN</td>\n      <td>100.00%</td>\n      <td>30/06/2024</td>\n      <td>NaN</td>\n      <td>NaN</td>\n      <td>NaN</td>\n      <td>NaN</td>\n      <td>11</td>\n      <td>9</td>\n    </tr>\n  </tbody>\n</table>\n<p>5 rows × 35 columns</p>\n</div>"
     },
     "execution_count": 81,
     "metadata": {},
     "output_type": "execute_result"
    }
   ],
   "source": [
    "from sklearn.preprocessing import LabelEncoder\n",
    "\n",
    "data.head()"
   ],
   "metadata": {
    "collapsed": false,
    "pycharm": {
     "name": "#%%\n"
    }
   }
  },
  {
   "cell_type": "code",
   "execution_count": 85,
   "outputs": [],
   "source": [
    "encoder = LabelEncoder()\n",
    "encoder.fit(data.Postcode)\n",
    "data.Postcode = pd.DataFrame(encoder.transform(data.Postcode))"
   ],
   "metadata": {
    "collapsed": false,
    "pycharm": {
     "name": "#%%\n"
    }
   }
  },
  {
   "cell_type": "code",
   "execution_count": 86,
   "outputs": [
    {
     "data": {
      "text/plain": "      Postcode     Created  Advertised      Agreed   Completed  \\\n0         1595  03/04/2019  03/04/2019         NaN         NaN   \n1         1229  21/03/2019  24/03/2019  05/04/2021  28/06/2021   \n2          389  25/03/2019  03/04/2019  25/01/2021  15/03/2021   \n3         1890  28/06/2019  04/07/2019         NaN         NaN   \n4          791  12/06/2019  09/08/2019  13/04/2021  05/07/2021   \n...        ...         ...         ...         ...         ...   \n3644      2610  28/04/2019  20/05/2019         NaN         NaN   \n3645      2296  09/05/2019  12/05/2019  14/05/2019  29/05/2019   \n3646       276  12/05/2019  14/05/2019  03/06/2019  21/06/2019   \n3647      2609  22/05/2019  22/05/2019  28/05/2019  21/06/2019   \n3648      2569  29/05/2019  18/06/2019         NaN         NaN   \n\n     Date Listing Last Cancelled Sale or Let  \\\n0                     28/02/2022        Sale   \n1                     26/02/2020        Sale   \n2                     13/06/2019        Sale   \n3                            NaN        Sale   \n4                            NaN        Sale   \n...                          ...         ...   \n3644                  12/12/2019        Sale   \n3645                         NaN      Rental   \n3646                         NaN      Rental   \n3647                         NaN      Rental   \n3648                  22/01/2020        Sale   \n\n     RTD3308_outside_space1 - Outside Space Description  \\\n0                                       Communal Garden   \n1                                                   NaN   \n2                                           Rear Garden   \n3                                                   NaN   \n4                                           Back Garden   \n...                                                 ...   \n3644                                        Back Garden   \n3645                                                NaN   \n3646                                        Back Garden   \n3647                                        Back Garden   \n3648                                              Patio   \n\n                        EweMove Description S1 Features  \\\n0     <ul><li>CASH BUYERS ONLY</li><li>No Upper Chai...   \n1     <ul><li>Sea Views</li><li>Very Popular Locatio...   \n2     <ul><li>Call NOW 24/7 or book instantly online...   \n3     <ul><li>5 bed link detached FREEHOLD house wit...   \n4     <ul><li>Four Bedrooms</li><li>Detached</li><li...   \n...                                                 ...   \n3644  <ul><li>Call NOW 24/7 or book instantly online...   \n3645                                          <ul></ul>   \n3646  <ul><li>Call NOW 24/7 or book instantly online...   \n3647  <ul><li>Call NOW 24/7 or book instantly online...   \n3648  <ul><li>Call NOW 24/7 or book instantly online...   \n\n                     EweMove Description S2 Description  ...  \\\n0     Cash Buyers... You could pounce super quick on...  ...   \n1     WATCHING THE SHIPS ROLL IN - from your very ow...  ...   \n2     Guide price &pound;325,000 - &pound;350,000.Lo...  ...   \n3     EweMove Hampstead - A rare opportunity to acqu...  ...   \n4     For anyone looking for a family home in South ...  ...   \n...                                                 ...  ...   \n3644  Almere is a popular, private close where homes...  ...   \n3645  STUNNING Top floor  Balcony Apartment in West ...  ...   \n3646  An excellent home for a working single or coup...  ...   \n3647  A detached bungalow on a substantial plot - if...  ...   \n3648  What a great home in terms of size and potenti...  ...   \n\n                                           Price / Rent      Price Qualifier  \\\n0     <font color='blue'>&pound;140,000</font><br>Of...  Offers In Excess Of   \n1     <font color='blue'>&pound;325,000</font><br>Of...          Offers Over   \n2     <font color='blue'>&pound;325,000</font><br>Gu...          Guide Price   \n3     <font color='blue'>&pound;1,095,000</font><br>...          Guide Price   \n4          <font color='blue'>&pound;395,000</font><br>                  NaN   \n...                                                 ...                  ...   \n3644  <font color='blue'>&pound;450,000</font><br>Of...          Offers Over   \n3645  <font color='blue'>&pound;1,000</font><br>Monthly              Monthly   \n3646    <font color='blue'>&pound;750</font><br>Monthly              Monthly   \n3647  <font color='blue'>&pound;1,100</font><br>Monthly              Monthly   \n3648       <font color='blue'>&pound;465,000</font><br>                  NaN   \n\n     Sale Price % Achieved Current EPC - EPC Expiry Date  \\\n0                  130.71%                    11/03/2028   \n1                      NaN                    28/03/2029   \n2                      NaN                    12/07/2028   \n3                      NaN                    30/06/2029   \n4                  100.00%                    30/06/2024   \n...                    ...                           ...   \n3644                   NaN                    19/06/2029   \n3645                   NaN                           NaN   \n3646                   NaN                    23/11/2028   \n3647                   NaN                    10/04/2028   \n3648                   NaN                    08/07/2028   \n\n     DESC Council Tax Band DESC Leasehold Ground Rent  \\\n0                   Band B                        NaN   \n1                   Band E                        NaN   \n2                   Band D                        NaN   \n3                      NaN                        NaN   \n4                      NaN                        NaN   \n...                    ...                        ...   \n3644                Band F                        NaN   \n3645                   NaN                        NaN   \n3646                Band A                        NaN   \n3647                Band D                        NaN   \n3648                Band D                        NaN   \n\n     DESC Leasehold Service Charge ZPG_lease_expiry_years_remaining  \\\n0                              NaN                             68.0   \n1                              NaN                              NaN   \n2                              NaN                              NaN   \n3                              NaN                              NaN   \n4                              NaN                              NaN   \n...                            ...                              ...   \n3644                           NaN                              NaN   \n3645                           NaN                              NaN   \n3646                           NaN                              NaN   \n3647                           NaN                              NaN   \n3648                           NaN                              NaN   \n\n     # of Enquiry or viewings # of Apps/Offers  \n0                          32               12  \n1                          15               10  \n2                          14                4  \n3                          13                1  \n4                          11                9  \n...                       ...              ...  \n3644                        0                0  \n3645                        0                1  \n3646                        0                2  \n3647                        0                3  \n3648                        0                0  \n\n[3649 rows x 35 columns]",
      "text/html": "<div>\n<style scoped>\n    .dataframe tbody tr th:only-of-type {\n        vertical-align: middle;\n    }\n\n    .dataframe tbody tr th {\n        vertical-align: top;\n    }\n\n    .dataframe thead th {\n        text-align: right;\n    }\n</style>\n<table border=\"1\" class=\"dataframe\">\n  <thead>\n    <tr style=\"text-align: right;\">\n      <th></th>\n      <th>Postcode</th>\n      <th>Created</th>\n      <th>Advertised</th>\n      <th>Agreed</th>\n      <th>Completed</th>\n      <th>Date Listing Last Cancelled</th>\n      <th>Sale or Let</th>\n      <th>RTD3308_outside_space1 - Outside Space Description</th>\n      <th>EweMove Description S1 Features</th>\n      <th>EweMove Description S2 Description</th>\n      <th>...</th>\n      <th>Price / Rent</th>\n      <th>Price Qualifier</th>\n      <th>Sale Price % Achieved</th>\n      <th>Current EPC - EPC Expiry Date</th>\n      <th>DESC Council Tax Band</th>\n      <th>DESC Leasehold Ground Rent</th>\n      <th>DESC Leasehold Service Charge</th>\n      <th>ZPG_lease_expiry_years_remaining</th>\n      <th># of Enquiry or viewings</th>\n      <th># of Apps/Offers</th>\n    </tr>\n  </thead>\n  <tbody>\n    <tr>\n      <th>0</th>\n      <td>1595</td>\n      <td>03/04/2019</td>\n      <td>03/04/2019</td>\n      <td>NaN</td>\n      <td>NaN</td>\n      <td>28/02/2022</td>\n      <td>Sale</td>\n      <td>Communal Garden</td>\n      <td>&lt;ul&gt;&lt;li&gt;CASH BUYERS ONLY&lt;/li&gt;&lt;li&gt;No Upper Chai...</td>\n      <td>Cash Buyers... You could pounce super quick on...</td>\n      <td>...</td>\n      <td>&lt;font color='blue'&gt;&amp;pound;140,000&lt;/font&gt;&lt;br&gt;Of...</td>\n      <td>Offers In Excess Of</td>\n      <td>130.71%</td>\n      <td>11/03/2028</td>\n      <td>Band B</td>\n      <td>NaN</td>\n      <td>NaN</td>\n      <td>68.0</td>\n      <td>32</td>\n      <td>12</td>\n    </tr>\n    <tr>\n      <th>1</th>\n      <td>1229</td>\n      <td>21/03/2019</td>\n      <td>24/03/2019</td>\n      <td>05/04/2021</td>\n      <td>28/06/2021</td>\n      <td>26/02/2020</td>\n      <td>Sale</td>\n      <td>NaN</td>\n      <td>&lt;ul&gt;&lt;li&gt;Sea Views&lt;/li&gt;&lt;li&gt;Very Popular Locatio...</td>\n      <td>WATCHING THE SHIPS ROLL IN - from your very ow...</td>\n      <td>...</td>\n      <td>&lt;font color='blue'&gt;&amp;pound;325,000&lt;/font&gt;&lt;br&gt;Of...</td>\n      <td>Offers Over</td>\n      <td>NaN</td>\n      <td>28/03/2029</td>\n      <td>Band E</td>\n      <td>NaN</td>\n      <td>NaN</td>\n      <td>NaN</td>\n      <td>15</td>\n      <td>10</td>\n    </tr>\n    <tr>\n      <th>2</th>\n      <td>389</td>\n      <td>25/03/2019</td>\n      <td>03/04/2019</td>\n      <td>25/01/2021</td>\n      <td>15/03/2021</td>\n      <td>13/06/2019</td>\n      <td>Sale</td>\n      <td>Rear Garden</td>\n      <td>&lt;ul&gt;&lt;li&gt;Call NOW 24/7 or book instantly online...</td>\n      <td>Guide price &amp;pound;325,000 - &amp;pound;350,000.Lo...</td>\n      <td>...</td>\n      <td>&lt;font color='blue'&gt;&amp;pound;325,000&lt;/font&gt;&lt;br&gt;Gu...</td>\n      <td>Guide Price</td>\n      <td>NaN</td>\n      <td>12/07/2028</td>\n      <td>Band D</td>\n      <td>NaN</td>\n      <td>NaN</td>\n      <td>NaN</td>\n      <td>14</td>\n      <td>4</td>\n    </tr>\n    <tr>\n      <th>3</th>\n      <td>1890</td>\n      <td>28/06/2019</td>\n      <td>04/07/2019</td>\n      <td>NaN</td>\n      <td>NaN</td>\n      <td>NaN</td>\n      <td>Sale</td>\n      <td>NaN</td>\n      <td>&lt;ul&gt;&lt;li&gt;5 bed link detached FREEHOLD house wit...</td>\n      <td>EweMove Hampstead - A rare opportunity to acqu...</td>\n      <td>...</td>\n      <td>&lt;font color='blue'&gt;&amp;pound;1,095,000&lt;/font&gt;&lt;br&gt;...</td>\n      <td>Guide Price</td>\n      <td>NaN</td>\n      <td>30/06/2029</td>\n      <td>NaN</td>\n      <td>NaN</td>\n      <td>NaN</td>\n      <td>NaN</td>\n      <td>13</td>\n      <td>1</td>\n    </tr>\n    <tr>\n      <th>4</th>\n      <td>791</td>\n      <td>12/06/2019</td>\n      <td>09/08/2019</td>\n      <td>13/04/2021</td>\n      <td>05/07/2021</td>\n      <td>NaN</td>\n      <td>Sale</td>\n      <td>Back Garden</td>\n      <td>&lt;ul&gt;&lt;li&gt;Four Bedrooms&lt;/li&gt;&lt;li&gt;Detached&lt;/li&gt;&lt;li...</td>\n      <td>For anyone looking for a family home in South ...</td>\n      <td>...</td>\n      <td>&lt;font color='blue'&gt;&amp;pound;395,000&lt;/font&gt;&lt;br&gt;</td>\n      <td>NaN</td>\n      <td>100.00%</td>\n      <td>30/06/2024</td>\n      <td>NaN</td>\n      <td>NaN</td>\n      <td>NaN</td>\n      <td>NaN</td>\n      <td>11</td>\n      <td>9</td>\n    </tr>\n    <tr>\n      <th>...</th>\n      <td>...</td>\n      <td>...</td>\n      <td>...</td>\n      <td>...</td>\n      <td>...</td>\n      <td>...</td>\n      <td>...</td>\n      <td>...</td>\n      <td>...</td>\n      <td>...</td>\n      <td>...</td>\n      <td>...</td>\n      <td>...</td>\n      <td>...</td>\n      <td>...</td>\n      <td>...</td>\n      <td>...</td>\n      <td>...</td>\n      <td>...</td>\n      <td>...</td>\n      <td>...</td>\n    </tr>\n    <tr>\n      <th>3644</th>\n      <td>2610</td>\n      <td>28/04/2019</td>\n      <td>20/05/2019</td>\n      <td>NaN</td>\n      <td>NaN</td>\n      <td>12/12/2019</td>\n      <td>Sale</td>\n      <td>Back Garden</td>\n      <td>&lt;ul&gt;&lt;li&gt;Call NOW 24/7 or book instantly online...</td>\n      <td>Almere is a popular, private close where homes...</td>\n      <td>...</td>\n      <td>&lt;font color='blue'&gt;&amp;pound;450,000&lt;/font&gt;&lt;br&gt;Of...</td>\n      <td>Offers Over</td>\n      <td>NaN</td>\n      <td>19/06/2029</td>\n      <td>Band F</td>\n      <td>NaN</td>\n      <td>NaN</td>\n      <td>NaN</td>\n      <td>0</td>\n      <td>0</td>\n    </tr>\n    <tr>\n      <th>3645</th>\n      <td>2296</td>\n      <td>09/05/2019</td>\n      <td>12/05/2019</td>\n      <td>14/05/2019</td>\n      <td>29/05/2019</td>\n      <td>NaN</td>\n      <td>Rental</td>\n      <td>NaN</td>\n      <td>&lt;ul&gt;&lt;/ul&gt;</td>\n      <td>STUNNING Top floor  Balcony Apartment in West ...</td>\n      <td>...</td>\n      <td>&lt;font color='blue'&gt;&amp;pound;1,000&lt;/font&gt;&lt;br&gt;Monthly</td>\n      <td>Monthly</td>\n      <td>NaN</td>\n      <td>NaN</td>\n      <td>NaN</td>\n      <td>NaN</td>\n      <td>NaN</td>\n      <td>NaN</td>\n      <td>0</td>\n      <td>1</td>\n    </tr>\n    <tr>\n      <th>3646</th>\n      <td>276</td>\n      <td>12/05/2019</td>\n      <td>14/05/2019</td>\n      <td>03/06/2019</td>\n      <td>21/06/2019</td>\n      <td>NaN</td>\n      <td>Rental</td>\n      <td>Back Garden</td>\n      <td>&lt;ul&gt;&lt;li&gt;Call NOW 24/7 or book instantly online...</td>\n      <td>An excellent home for a working single or coup...</td>\n      <td>...</td>\n      <td>&lt;font color='blue'&gt;&amp;pound;750&lt;/font&gt;&lt;br&gt;Monthly</td>\n      <td>Monthly</td>\n      <td>NaN</td>\n      <td>23/11/2028</td>\n      <td>Band A</td>\n      <td>NaN</td>\n      <td>NaN</td>\n      <td>NaN</td>\n      <td>0</td>\n      <td>2</td>\n    </tr>\n    <tr>\n      <th>3647</th>\n      <td>2609</td>\n      <td>22/05/2019</td>\n      <td>22/05/2019</td>\n      <td>28/05/2019</td>\n      <td>21/06/2019</td>\n      <td>NaN</td>\n      <td>Rental</td>\n      <td>Back Garden</td>\n      <td>&lt;ul&gt;&lt;li&gt;Call NOW 24/7 or book instantly online...</td>\n      <td>A detached bungalow on a substantial plot - if...</td>\n      <td>...</td>\n      <td>&lt;font color='blue'&gt;&amp;pound;1,100&lt;/font&gt;&lt;br&gt;Monthly</td>\n      <td>Monthly</td>\n      <td>NaN</td>\n      <td>10/04/2028</td>\n      <td>Band D</td>\n      <td>NaN</td>\n      <td>NaN</td>\n      <td>NaN</td>\n      <td>0</td>\n      <td>3</td>\n    </tr>\n    <tr>\n      <th>3648</th>\n      <td>2569</td>\n      <td>29/05/2019</td>\n      <td>18/06/2019</td>\n      <td>NaN</td>\n      <td>NaN</td>\n      <td>22/01/2020</td>\n      <td>Sale</td>\n      <td>Patio</td>\n      <td>&lt;ul&gt;&lt;li&gt;Call NOW 24/7 or book instantly online...</td>\n      <td>What a great home in terms of size and potenti...</td>\n      <td>...</td>\n      <td>&lt;font color='blue'&gt;&amp;pound;465,000&lt;/font&gt;&lt;br&gt;</td>\n      <td>NaN</td>\n      <td>NaN</td>\n      <td>08/07/2028</td>\n      <td>Band D</td>\n      <td>NaN</td>\n      <td>NaN</td>\n      <td>NaN</td>\n      <td>0</td>\n      <td>0</td>\n    </tr>\n  </tbody>\n</table>\n<p>3649 rows × 35 columns</p>\n</div>"
     },
     "execution_count": 86,
     "metadata": {},
     "output_type": "execute_result"
    }
   ],
   "source": [
    "data"
   ],
   "metadata": {
    "collapsed": false,
    "pycharm": {
     "name": "#%%\n"
    }
   }
  },
  {
   "cell_type": "code",
   "execution_count": 91,
   "outputs": [
    {
     "data": {
      "text/plain": "array([1])"
     },
     "execution_count": 91,
     "metadata": {},
     "output_type": "execute_result"
    }
   ],
   "source": [
    "encoder.fit([\"1\", \"2\", \"3\"])\n",
    "encoder.transform([\"2\"])"
   ],
   "metadata": {
    "collapsed": false,
    "pycharm": {
     "name": "#%%\n"
    }
   }
  },
  {
   "cell_type": "code",
   "execution_count": null,
   "outputs": [],
   "source": [],
   "metadata": {
    "collapsed": false,
    "pycharm": {
     "name": "#%%\n"
    }
   }
  }
 ],
 "metadata": {
  "kernelspec": {
   "display_name": "Python 3",
   "language": "python",
   "name": "python3"
  },
  "language_info": {
   "codemirror_mode": {
    "name": "ipython",
    "version": 2
   },
   "file_extension": ".py",
   "mimetype": "text/x-python",
   "name": "python",
   "nbconvert_exporter": "python",
   "pygments_lexer": "ipython2",
   "version": "2.7.6"
  }
 },
 "nbformat": 4,
 "nbformat_minor": 0
}